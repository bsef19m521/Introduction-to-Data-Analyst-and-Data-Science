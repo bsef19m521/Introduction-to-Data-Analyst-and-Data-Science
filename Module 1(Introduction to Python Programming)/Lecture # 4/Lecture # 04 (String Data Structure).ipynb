{
 "cells": [
  {
   "cell_type": "markdown",
   "id": "rubber-course",
   "metadata": {},
   "source": [
    "---   \n",
    "\n",
    "<h1 align=\"center\">Introduction to Data Analyst and Data Science for beginners</h1>\n",
    "<h1 align=\"center\">Lecture no 04</h1>\n",
    "\n",
    "---\n",
    "<h3><div align=\"right\">Ehtisham Sadiq</div></h3>    "
   ]
  },
  {
   "cell_type": "markdown",
   "id": "disciplinary-cemetery",
   "metadata": {},
   "source": [
    "## Learning Agenda of this Notebook\n",
    "\n",
    "1. Defining strings in Python\n",
    "2. Accessing characters of a string in Python\n",
    "3. Strings are immutable\n",
    "4. Slicing strings\n",
    "5. String concatenation\n",
    "6. Creating large strings\n",
    "7. Operations on String Data Structure\n",
    "8. String Membership test\n",
    "9. String Deletion\n",
    "10. String Methods: `lower()`, `upper()`, `strip()`, `startswith()`, `split()`, `join()`, `find()`, `replace()`, `format()`\n"
   ]
  },
  {
   "cell_type": "code",
   "execution_count": null,
   "id": "hairy-routine",
   "metadata": {},
   "outputs": [],
   "source": []
  },
  {
   "cell_type": "markdown",
   "id": "fabulous-greene",
   "metadata": {},
   "source": [
    "## String Data Structure\n",
    "Python string is the collection of the characters surrounded by single quotes, double quotes, or triple quotes. The computer does not understand the characters; internally, it stores manipulated character as the combination of the 0's and 1's.\n",
    "Each character is encoded in the ASCII or Unicode character. So we can say that Python strings are also called the collection of Unicode characters.\n",
    "In Python, strings can be created by enclosing the character or the sequence of characters in the quotes. Python allows us to use single quotes, double quotes, or triple quotes to create the string."
   ]
  },
  {
   "cell_type": "code",
   "execution_count": 2,
   "id": "consolidated-great",
   "metadata": {},
   "outputs": [
    {
     "name": "stdout",
     "output_type": "stream",
     "text": [
      "<class 'str'>\n"
     ]
    }
   ],
   "source": [
    "str1 = \"Ehtisham Sadiq 1262163 &&**(*@#$$%)\"\n",
    "print(type(str1))"
   ]
  },
  {
   "cell_type": "code",
   "execution_count": 3,
   "id": "specialized-swimming",
   "metadata": {},
   "outputs": [
    {
     "name": "stdout",
     "output_type": "stream",
     "text": [
      "<class 'str'>\n",
      "<class 'str'>\n",
      "<class 'str'>\n",
      "<class 'str'>\n",
      "<class 'str'>\n",
      "<class 'str'>\n"
     ]
    }
   ],
   "source": [
    "str1 = \"Ehtisham\"\n",
    "str2 = 'Ehtisham'\n",
    "str3 = \"\"\"Ehtisham\"\"\"\n",
    "print(type(str1))\n",
    "print(type(str2))\n",
    "print(type(str3))\n",
    "\n",
    "str4 = 'A'\n",
    "str5 = \"B\"\n",
    "str6 = \"\"\"C\"\"\"\n",
    "print(type(str4))\n",
    "print(type(str5))\n",
    "print(type(str6))"
   ]
  },
  {
   "cell_type": "markdown",
   "id": "russian-malaysia",
   "metadata": {},
   "source": [
    "## 1. Defining/Creating of a string\n",
    "- A string is a collection of character(s) closed within single or double quotation marks. (There is no `char` data type in Python as in C/C++)\n",
    "- A string can also contain a single character or be entirely empty.\n",
    "- To make a single quote part of a string, define the string using double quotes and vice versa. You can also make use of escape sequence\n",
    "-Python also provides triple-quotes to represent the string, but it is generally used for multiline string or docstrings."
   ]
  },
  {
   "cell_type": "code",
   "execution_count": 3,
   "id": "sought-romania",
   "metadata": {},
   "outputs": [
    {
     "name": "stdout",
     "output_type": "stream",
     "text": [
      "<class 'str'>\n",
      "<class 'str'>\n",
      "I'm student of software engineering!\n",
      "I\"m student\n",
      "i\"m a student\n",
      " To display the current time, we have used the getTime()\n",
      "method of Calendar class. The getTime() is an instance method of Calendar class,\n",
      "so we have called it after getting the instance of\n",
      "Calendar class by the getInstance() method \n"
     ]
    }
   ],
   "source": [
    "str4 = 'A'\n",
    "str5 = \"\"\n",
    "print(type(str4))\n",
    "print(type(str5))\n",
    "str6 = \"I'm student of software engineering!\"\n",
    "print(str6)\n",
    "str7 = 'I\"m student'\n",
    "print(str7)\n",
    "str8 = 'i\"m a student'\n",
    "print(str8)\n",
    "str8 = \"\"\" To display the current time, we have used the getTime()\n",
    "method of Calendar class. The getTime() is an instance method of Calendar class,\n",
    "so we have called it after getting the instance of\n",
    "Calendar class by the getInstance() method \"\"\"\n",
    "print(str8)"
   ]
  },
  {
   "cell_type": "code",
   "execution_count": null,
   "id": "educational-dragon",
   "metadata": {},
   "outputs": [],
   "source": []
  },
  {
   "cell_type": "code",
   "execution_count": 4,
   "id": "supreme-sender",
   "metadata": {},
   "outputs": [
    {
     "name": "stdout",
     "output_type": "stream",
     "text": [
      "Hello\n",
      "World\n",
      "\n",
      "A\n"
     ]
    }
   ],
   "source": [
    "string1 = 'Hello'\n",
    "print(string1)\n",
    "\n",
    "string2 = \"World\"\n",
    "print(string2)\n",
    "\n",
    "string3 = \"\"\n",
    "print(string3)\n",
    "\n",
    "string4 = \"A\"\n",
    "print(string4)"
   ]
  },
  {
   "cell_type": "code",
   "execution_count": 10,
   "id": "after-stations",
   "metadata": {},
   "outputs": [
    {
     "name": "stdout",
     "output_type": "stream",
     "text": [
      "Hello, This is\n",
      "            multi-line string\n",
      "Hello, This is\n",
      "            multi-line string\n"
     ]
    }
   ],
   "source": [
    "# triple quotes string can extend multiple lines\n",
    "\n",
    "string5 = \"\"\"Hello, This is\n",
    "            multi-line string\"\"\"\n",
    "print(string5)\n",
    "\n",
    "string5 = '''Hello, This is\n",
    "            multi-line string'''\n",
    "print(string5)"
   ]
  },
  {
   "cell_type": "code",
   "execution_count": 11,
   "id": "political-niger",
   "metadata": {},
   "outputs": [
    {
     "ename": "SyntaxError",
     "evalue": "invalid syntax (<ipython-input-11-49dde7729f25>, line 2)",
     "output_type": "error",
     "traceback": [
      "\u001b[1;36m  File \u001b[1;32m\"<ipython-input-11-49dde7729f25>\"\u001b[1;36m, line \u001b[1;32m2\u001b[0m\n\u001b[1;33m    'I'm using single quotes, but will create an error'\u001b[0m\n\u001b[1;37m       ^\u001b[0m\n\u001b[1;31mSyntaxError\u001b[0m\u001b[1;31m:\u001b[0m invalid syntax\n"
     ]
    }
   ],
   "source": [
    "# Be careful with quotes!\n",
    "'I'm using single quotes, but will create an error'"
   ]
  },
  {
   "cell_type": "code",
   "execution_count": 12,
   "id": "compressed-grammar",
   "metadata": {},
   "outputs": [
    {
     "data": {
      "text/plain": [
       "\"I'm using single quotes, but will create an error\""
      ]
     },
     "execution_count": 12,
     "metadata": {},
     "output_type": "execute_result"
    }
   ],
   "source": [
    "# Be careful with quotes!\n",
    "\"I'm using single quotes, but will create an error\""
   ]
  },
  {
   "cell_type": "markdown",
   "id": "demonstrated-rates",
   "metadata": {},
   "source": [
    "The reason for the error above is because the single quote in I'm stopped the string. You can use combinations of double and single quotes to get the complete statement."
   ]
  },
  {
   "cell_type": "markdown",
   "id": "injured-harvest",
   "metadata": {},
   "source": [
    "<br>"
   ]
  },
  {
   "cell_type": "markdown",
   "id": "unlikely-panel",
   "metadata": {},
   "source": [
    "## 2. Accessing Characters of a String (Indexing)\n",
    "Like other languages, the indexing of the Python strings starts from 0. Since string is of type sequence, and any component within a sequence can be accessed by entrying an index within square brackets. So naturally this work for strings as well List.\n",
    "For example, The string \"HELLO\" is indexed as given in the below figure."
   ]
  },
  {
   "cell_type": "markdown",
   "id": "academic-zimbabwe",
   "metadata": {},
   "source": [
    "![](2.png)"
   ]
  },
  {
   "cell_type": "code",
   "execution_count": 5,
   "id": "understood-cooling",
   "metadata": {},
   "outputs": [
    {
     "name": "stdout",
     "output_type": "stream",
     "text": [
      "18\n"
     ]
    }
   ],
   "source": [
    "sttr1 = \"Ehtisham Sadiq 123\"\n",
    "print(len(sttr1))\n",
    "# 0-17 index"
   ]
  },
  {
   "cell_type": "code",
   "execution_count": 14,
   "id": "expected-archives",
   "metadata": {},
   "outputs": [
    {
     "name": "stdout",
     "output_type": "stream",
     "text": [
      "24\n",
      "'\n"
     ]
    }
   ],
   "source": [
    "string10 = \"Hello,I'm Ehtisham Sadiq\"\n",
    "print(len(string10))\n",
    "print(string10[7])"
   ]
  },
  {
   "cell_type": "code",
   "execution_count": 16,
   "id": "wooden-angola",
   "metadata": {},
   "outputs": [
    {
     "name": "stdout",
     "output_type": "stream",
     "text": [
      "H\n",
      "E\n",
      "L\n",
      "L\n",
      "O\n",
      "5\n"
     ]
    },
    {
     "ename": "IndexError",
     "evalue": "string index out of range",
     "output_type": "error",
     "traceback": [
      "\u001b[1;31m---------------------------------------------------------------------------\u001b[0m",
      "\u001b[1;31mIndexError\u001b[0m                                Traceback (most recent call last)",
      "\u001b[1;32m<ipython-input-16-a44a24936f8f>\u001b[0m in \u001b[0;36m<module>\u001b[1;34m\u001b[0m\n\u001b[0;32m      7\u001b[0m \u001b[0mprint\u001b[0m\u001b[1;33m(\u001b[0m\u001b[0mlen\u001b[0m\u001b[1;33m(\u001b[0m\u001b[0mstring\u001b[0m\u001b[1;33m)\u001b[0m\u001b[1;33m)\u001b[0m\u001b[1;33m\u001b[0m\u001b[1;33m\u001b[0m\u001b[0m\n\u001b[0;32m      8\u001b[0m \u001b[1;31m# It returns the IndexError because 6th index doesn't exist\u001b[0m\u001b[1;33m\u001b[0m\u001b[1;33m\u001b[0m\u001b[1;33m\u001b[0m\u001b[0m\n\u001b[1;32m----> 9\u001b[1;33m \u001b[0mprint\u001b[0m\u001b[1;33m(\u001b[0m\u001b[0mstring\u001b[0m\u001b[1;33m[\u001b[0m\u001b[1;36m6\u001b[0m\u001b[1;33m]\u001b[0m\u001b[1;33m)\u001b[0m\u001b[1;33m\u001b[0m\u001b[1;33m\u001b[0m\u001b[0m\n\u001b[0m",
      "\u001b[1;31mIndexError\u001b[0m: string index out of range"
     ]
    }
   ],
   "source": [
    "string = \"HELLO\"  \n",
    "print(string[0])  \n",
    "print(string[1])  \n",
    "print(string[2])  \n",
    "print(string[3])  \n",
    "print(string[4])  \n",
    "print(len(string))\n",
    "# It returns the IndexError because 6th index doesn't exist  \n",
    "print(string[6])\n",
    "# 1-4"
   ]
  },
  {
   "cell_type": "code",
   "execution_count": null,
   "id": "adverse-listening",
   "metadata": {},
   "outputs": [],
   "source": []
  },
  {
   "cell_type": "markdown",
   "id": "moved-offset",
   "metadata": {},
   "source": [
    "As shown in Python, the slice operator [] is used to access the individual characters of the string. However, we can use the : (colon) operator in Python to access the substring from the given string. Consider the following example.\n",
    "### Syntax:    \n",
    "**str[start:end-1]**"
   ]
  },
  {
   "cell_type": "code",
   "execution_count": 7,
   "id": "numerical-broad",
   "metadata": {},
   "outputs": [
    {
     "name": "stdout",
     "output_type": "stream",
     "text": [
      "24\n",
      "llo,I'm\n"
     ]
    }
   ],
   "source": [
    "string10 = \"Hello,I'm Ehtisham Sadiq\"\n",
    "print(len(string10))\n",
    "# [start : end-1]\n",
    "print(string10[2:9])\n",
    "# [2] -> l\n",
    "# [3] -> l\n",
    "# [4] -> o\n",
    "# [5] -> , \n",
    "# [6] -> \n",
    "# [7] -> I\n",
    "# [8] -> '"
   ]
  },
  {
   "cell_type": "markdown",
   "id": "functional-catering",
   "metadata": {},
   "source": [
    "![](3.png)"
   ]
  },
  {
   "cell_type": "markdown",
   "id": "variable-program",
   "metadata": {},
   "source": [
    "Here, we must notice that the upper range given in the slice operator is always exclusive i.e., if str = 'HELLO' is given, then str[1:3] will always include str[1] = 'E', str[2] = 'L' and nothing else."
   ]
  },
  {
   "cell_type": "code",
   "execution_count": 20,
   "id": "cloudy-throat",
   "metadata": {},
   "outputs": [
    {
     "name": "stdout",
     "output_type": "stream",
     "text": [
      "9\n",
      "Dua Sadiq\n",
      "ua S\n",
      "a \n",
      "Dua\n",
      "Sad\n"
     ]
    }
   ],
   "source": [
    "string2 = \"Dua Sadiq\"  \n",
    "print(len(string2))\n",
    "\n",
    "# Start Oth index to end  \n",
    "print(string2[0:])  \n",
    "\n",
    "# Starts 1th index to 4th index  \n",
    "print(string2[1:5])  \n",
    "\n",
    "# Starts 2nd index to 3rd index  \n",
    "print(string2[2:4])  \n",
    "\n",
    "# Starts 0th to 2nd index  \n",
    "print(string2[:3])  \n",
    "\n",
    "#Starts 4th to 6th index  \n",
    "print(string2[4:7])  "
   ]
  },
  {
   "cell_type": "code",
   "execution_count": null,
   "id": "mexican-indonesian",
   "metadata": {},
   "outputs": [],
   "source": [
    "string2[-1]"
   ]
  },
  {
   "cell_type": "markdown",
   "id": "atmospheric-grenada",
   "metadata": {},
   "source": [
    "We can do the negative slicing in the string; it starts from the rightmost character, which is indicated as -1. The second rightmost index indicates -2, and so on."
   ]
  },
  {
   "cell_type": "markdown",
   "id": "lovely-argument",
   "metadata": {},
   "source": [
    "![](4.png)"
   ]
  },
  {
   "cell_type": "code",
   "execution_count": 17,
   "id": "herbal-canvas",
   "metadata": {},
   "outputs": [],
   "source": [
    "str11 = \"Ehtisham\"\n"
   ]
  },
  {
   "cell_type": "code",
   "execution_count": 19,
   "id": "attached-execution",
   "metadata": {},
   "outputs": [
    {
     "data": {
      "text/plain": [
       "'qdSiA'"
      ]
     },
     "execution_count": 19,
     "metadata": {},
     "output_type": "execute_result"
    }
   ],
   "source": [
    "a = \"Ali Sadiq\"\n",
    "a[::-2]"
   ]
  },
  {
   "cell_type": "code",
   "execution_count": 24,
   "id": "proved-hobby",
   "metadata": {},
   "outputs": [
    {
     "name": "stdout",
     "output_type": "stream",
     "text": [
      "23\n"
     ]
    },
    {
     "data": {
      "text/plain": [
       "'H'"
      ]
     },
     "execution_count": 24,
     "metadata": {},
     "output_type": "execute_result"
    }
   ],
   "source": [
    "strinng = \"HSDJHDKHDHIWYHDIVGFRFED\"\n",
    "print(len(strinng))\n",
    "strinng[-23]"
   ]
  },
  {
   "cell_type": "code",
   "execution_count": 16,
   "id": "gross-passport",
   "metadata": {},
   "outputs": [
    {
     "name": "stdout",
     "output_type": "stream",
     "text": [
      "[1, 3, 5, 7, 9, 11, 13, 15, 17, 19, 21, 23, 25, 27, 29, 31, 33, 35, 37, 39, 41, 43, 45, 47, 49, 51, 53, 55, 57, 59, 61, 63, 65, 67, 69]\n"
     ]
    }
   ],
   "source": [
    "class_statistic = list(range(1,70))\n",
    "print(class_statistic[::2])"
   ]
  },
  {
   "cell_type": "code",
   "execution_count": 20,
   "id": "alternative-syndication",
   "metadata": {},
   "outputs": [
    {
     "name": "stdout",
     "output_type": "stream",
     "text": [
      "9\n",
      "q\n",
      "d\n",
      "iq\n",
      "adi\n",
      "i Sad\n",
      "qidaS ilA\n"
     ]
    },
    {
     "ename": "IndexError",
     "evalue": "string index out of range",
     "output_type": "error",
     "traceback": [
      "\u001b[1;31m---------------------------------------------------------------------------\u001b[0m",
      "\u001b[1;31mIndexError\u001b[0m                                Traceback (most recent call last)",
      "\u001b[1;32m<ipython-input-20-1e92a74a1ab0>\u001b[0m in \u001b[0;36m<module>\u001b[1;34m\u001b[0m\n\u001b[0;32m      9\u001b[0m \u001b[1;31m# Reversing the given string\u001b[0m\u001b[1;33m\u001b[0m\u001b[1;33m\u001b[0m\u001b[1;33m\u001b[0m\u001b[0m\n\u001b[0;32m     10\u001b[0m \u001b[0mprint\u001b[0m\u001b[1;33m(\u001b[0m\u001b[0mstring3\u001b[0m\u001b[1;33m[\u001b[0m\u001b[1;33m:\u001b[0m\u001b[1;33m:\u001b[0m\u001b[1;33m-\u001b[0m\u001b[1;36m1\u001b[0m\u001b[1;33m]\u001b[0m\u001b[1;33m)\u001b[0m\u001b[1;33m\u001b[0m\u001b[1;33m\u001b[0m\u001b[0m\n\u001b[1;32m---> 11\u001b[1;33m \u001b[0mprint\u001b[0m\u001b[1;33m(\u001b[0m\u001b[0mstring3\u001b[0m\u001b[1;33m[\u001b[0m\u001b[1;33m-\u001b[0m\u001b[1;36m12\u001b[0m\u001b[1;33m]\u001b[0m\u001b[1;33m)\u001b[0m\u001b[1;33m\u001b[0m\u001b[1;33m\u001b[0m\u001b[0m\n\u001b[0m",
      "\u001b[1;31mIndexError\u001b[0m: string index out of range"
     ]
    }
   ],
   "source": [
    "string3 = 'Ali Sadiq'  \n",
    "print(len(string3))\n",
    "print(string3[-1])  \n",
    "print(string3[-3])  \n",
    "print(string3[-2:])  \n",
    "print(string3[-4:-1])  \n",
    "print(string3[-7:-2])  \n",
    "\n",
    "# Reversing the given string  \n",
    "print(string3[::-1])  \n",
    "print(string3[-12])\n"
   ]
  },
  {
   "cell_type": "markdown",
   "id": "premier-central",
   "metadata": {},
   "source": [
    " <br>"
   ]
  },
  {
   "cell_type": "code",
   "execution_count": 22,
   "id": "excited-apartment",
   "metadata": {},
   "outputs": [
    {
     "name": "stdout",
     "output_type": "stream",
     "text": [
      "ALi Sadiq\n"
     ]
    },
    {
     "ename": "TypeError",
     "evalue": "'str' object does not support item assignment",
     "output_type": "error",
     "traceback": [
      "\u001b[1;31m---------------------------------------------------------------------------\u001b[0m",
      "\u001b[1;31mTypeError\u001b[0m                                 Traceback (most recent call last)",
      "\u001b[1;32m<ipython-input-22-f34f025cf8ce>\u001b[0m in \u001b[0;36m<module>\u001b[1;34m\u001b[0m\n\u001b[0;32m      2\u001b[0m \u001b[0mprint\u001b[0m\u001b[1;33m(\u001b[0m\u001b[0mstr1\u001b[0m\u001b[1;33m)\u001b[0m\u001b[1;33m\u001b[0m\u001b[1;33m\u001b[0m\u001b[0m\n\u001b[0;32m      3\u001b[0m \u001b[0mstr1\u001b[0m \u001b[1;33m=\u001b[0m \u001b[1;34m\"Ayesha Sadiq\"\u001b[0m\u001b[1;33m\u001b[0m\u001b[1;33m\u001b[0m\u001b[0m\n\u001b[1;32m----> 4\u001b[1;33m \u001b[0mstr1\u001b[0m\u001b[1;33m[\u001b[0m\u001b[1;36m3\u001b[0m\u001b[1;33m]\u001b[0m \u001b[1;33m=\u001b[0m \u001b[1;34m\"M\"\u001b[0m\u001b[1;33m\u001b[0m\u001b[1;33m\u001b[0m\u001b[0m\n\u001b[0m\u001b[0;32m      5\u001b[0m \u001b[0mprint\u001b[0m\u001b[1;33m(\u001b[0m\u001b[0mstr1\u001b[0m\u001b[1;33m)\u001b[0m\u001b[1;33m\u001b[0m\u001b[1;33m\u001b[0m\u001b[0m\n",
      "\u001b[1;31mTypeError\u001b[0m: 'str' object does not support item assignment"
     ]
    }
   ],
   "source": [
    "str1 = \"ALi Sadiq\"\n",
    "print(str1)\n",
    "str1 = \"Ayesha Sadiq\"\n",
    "str1[3] = \"M\"\n",
    "print(str1)"
   ]
  },
  {
   "cell_type": "markdown",
   "id": "eight-tennessee",
   "metadata": {},
   "source": [
    "## 3. Strings are immutable/ Reassigning Strings\n",
    "Updating the content of the strings is as easy as assigning it to a new string. The string object doesn't support item assignment i.e., A string can only be replaced with new string since its content cannot be partially replaced. Strings are immutable in Python."
   ]
  },
  {
   "cell_type": "markdown",
   "id": "applied-compact",
   "metadata": {},
   "source": [
    "![](datatypes1.png)"
   ]
  },
  {
   "cell_type": "code",
   "execution_count": 36,
   "id": "protected-haven",
   "metadata": {},
   "outputs": [
    {
     "ename": "TypeError",
     "evalue": "'str' object does not support item assignment",
     "output_type": "error",
     "traceback": [
      "\u001b[1;31m---------------------------------------------------------------------------\u001b[0m",
      "\u001b[1;31mTypeError\u001b[0m                                 Traceback (most recent call last)",
      "\u001b[1;32m<ipython-input-36-a6d8585eee75>\u001b[0m in \u001b[0;36m<module>\u001b[1;34m\u001b[0m\n\u001b[0;32m      2\u001b[0m \u001b[0mstring4\u001b[0m \u001b[1;33m=\u001b[0m \u001b[1;34m'Ehtisham Sadiq'\u001b[0m\u001b[1;33m\u001b[0m\u001b[1;33m\u001b[0m\u001b[0m\n\u001b[0;32m      3\u001b[0m \u001b[1;33m\u001b[0m\u001b[0m\n\u001b[1;32m----> 4\u001b[1;33m \u001b[0mstring4\u001b[0m\u001b[1;33m[\u001b[0m\u001b[1;36m5\u001b[0m\u001b[1;33m]\u001b[0m \u001b[1;33m=\u001b[0m \u001b[1;34m'c'\u001b[0m\u001b[1;33m\u001b[0m\u001b[1;33m\u001b[0m\u001b[0m\n\u001b[0m\u001b[0;32m      5\u001b[0m \u001b[1;33m\u001b[0m\u001b[0m\n\u001b[0;32m      6\u001b[0m \u001b[0mprint\u001b[0m\u001b[1;33m(\u001b[0m\u001b[0mid\u001b[0m\u001b[1;33m(\u001b[0m\u001b[0mstring4\u001b[0m\u001b[1;33m)\u001b[0m\u001b[1;33m)\u001b[0m\u001b[1;33m\u001b[0m\u001b[1;33m\u001b[0m\u001b[0m\n",
      "\u001b[1;31mTypeError\u001b[0m: 'str' object does not support item assignment"
     ]
    }
   ],
   "source": [
    "#strings are immutable, means string object does not support item assignment\n",
    "string4 = 'Ehtisham Sadiq'\n",
    "\n",
    "string4[5] = 'c'\n",
    "\n",
    "print(id(string4))\n",
    "\n",
    "#assigning a new value is valid\n",
    "string4 = 'python'\n",
    "\n",
    "print(id(string4))"
   ]
  },
  {
   "cell_type": "markdown",
   "id": "assisted-engineer",
   "metadata": {},
   "source": [
    "The object `Ehtisham Sadiq` is now orphan, since there is no variable referring to it now and will be collected by Python garbage collector."
   ]
  },
  {
   "cell_type": "markdown",
   "id": "indonesian-index",
   "metadata": {},
   "source": [
    "<br>"
   ]
  },
  {
   "cell_type": "markdown",
   "id": "polar-hopkins",
   "metadata": {},
   "source": [
    "## 4. String Slicing\n",
    "- Slicing is the process of obtaining a portion (substring) of a string by using its indices.\n",
    "- Given a string, we can use the following syntax to slice it and obtain a substring:\n",
    "```\n",
    "string[start:end]\n",
    "```\n",
    "- **start** is the index from where we want the substring to start. If start is not provided, slicing starts from the beginning.\n",
    "- **end** is the index where we want our substring to end (not inclusive in the substring). If end is not provided, slicing goes till the end of the string (includes the last character of the string)."
   ]
  },
  {
   "cell_type": "code",
   "execution_count": null,
   "id": "decimal-italian",
   "metadata": {},
   "outputs": [],
   "source": [
    "# var[:] -> Full string return\n",
    "# var[0:]-> Full string return\n",
    "# var[:len(string)] -> Full string return \n",
    "# var[::-1] -> Full reverse string return"
   ]
  },
  {
   "cell_type": "code",
   "execution_count": null,
   "id": "unknown-engagement",
   "metadata": {},
   "outputs": [],
   "source": [
    "# given string, n , n-10 spaces, remove all the spaces\n",
    "# string methods, sci, join , merege"
   ]
  },
  {
   "cell_type": "code",
   "execution_count": 23,
   "id": "known-sweden",
   "metadata": {},
   "outputs": [
    {
     "name": "stdout",
     "output_type": "stream",
     "text": [
      "59\n",
      "Intr\n",
      "Intr\n",
      "n to \n",
      "a analyst and data science for beginners\n",
      "duction to data analyst and data science for begin\n",
      "\n",
      "a analyst and data science for beginners\n"
     ]
    }
   ],
   "source": [
    "str1 = 'Introduction to data analyst and data science for beginners'\n",
    "print(len(str1))\n",
    "print(str1[0:4]) # From the start till before the 4th index\n",
    "\n",
    "print(str1[:4]) # From the start till before the 4th index\n",
    "print(str1[11:16])\n",
    "\n",
    "print(str1[19:]) # From the 19th index till the end\n",
    "print(str1[5:-4])\n",
    "#if start is greater than end, it will return empty string\n",
    "print(str1[5:2])\n",
    "\n",
    "print(str1[19:len(str1)]) # From the 19th index till the end\n",
    "\n"
   ]
  },
  {
   "cell_type": "markdown",
   "id": "sublime-peripheral",
   "metadata": {},
   "source": [
    "### a. Slicing with a Step \n",
    "- In the above example, we’ve used slicing to obtain a contiguous piece of a string, i.e., all the characters from the starting index to before the ending index are retrieved.\n",
    "- However, we can define a step through which we can skip characters in the string. The default step is 1, so we iterate through the string one character at a time.\n",
    "- The step is defined after the end index:\n",
    "```\n",
    "string[start:end:step]\n",
    "```"
   ]
  },
  {
   "cell_type": "code",
   "execution_count": 24,
   "id": "strong-worship",
   "metadata": {},
   "outputs": [
    {
     "name": "stdout",
     "output_type": "stream",
     "text": [
      "40\n",
      "Introductiontodatasciencewithusingpython\n",
      "Introductiontodatasciencewithusingpython\n",
      "nohtypgnisuhtiwecneicsatadotnoitcudortnI\n"
     ]
    }
   ],
   "source": [
    "str1 = 'Introductiontodatasciencewithusingpython'\n",
    "print(len(str1))\n",
    "print(str1[::])  # A default step of 1\n",
    "print(str1[::1])  # A step of 1\n",
    "print(str1[::-1])  # A step of 2"
   ]
  },
  {
   "cell_type": "markdown",
   "id": "competent-paraguay",
   "metadata": {},
   "source": [
    "### b. Reverse Slicing\n",
    "- Strings can also be sliced to return a reversed substring. \n",
    "- For reverse slicing we need to give a negative step\n",
    "- For reverse slicing the `start` index must be greater than the `end` index, otherwise an empty string will be returned"
   ]
  },
  {
   "cell_type": "code",
   "execution_count": 25,
   "id": "written-vampire",
   "metadata": {},
   "outputs": [
    {
     "name": "stdout",
     "output_type": "stream",
     "text": [
      "9876543210\n",
      "5432\n",
      "\n",
      "97531\n"
     ]
    }
   ],
   "source": [
    "str1 = '0123456789'\n",
    "print(str1[::-1]) \n",
    "print(str1[5:1:-1]) \n",
    "print(str1[2:10:-1])\n",
    "print(str1[::-2]) "
   ]
  },
  {
   "cell_type": "markdown",
   "id": "classical-adult",
   "metadata": {},
   "source": [
    "<br>"
   ]
  },
  {
   "cell_type": "markdown",
   "id": "armed-activation",
   "metadata": {},
   "source": [
    "## 5. String Concatenation\n",
    "- Two strings can be joined or concatenated using the `+` operator"
   ]
  },
  {
   "cell_type": "code",
   "execution_count": null,
   "id": "meaningful-economy",
   "metadata": {},
   "outputs": [],
   "source": []
  },
  {
   "cell_type": "code",
   "execution_count": null,
   "id": "stupid-breeding",
   "metadata": {},
   "outputs": [],
   "source": []
  },
  {
   "cell_type": "code",
   "execution_count": 27,
   "id": "august-enlargement",
   "metadata": {},
   "outputs": [
    {
     "name": "stdout",
     "output_type": "stream",
     "text": [
      "Ehtisham Sadiq\n"
     ]
    }
   ],
   "source": [
    "print(\"Ehtisham Sadiq\")"
   ]
  },
  {
   "cell_type": "code",
   "execution_count": 28,
   "id": "suffering-party",
   "metadata": {},
   "outputs": [
    {
     "name": "stdout",
     "output_type": "stream",
     "text": [
      "str1 + str2 =  Hello World!\n",
      "Yello World!\n"
     ]
    }
   ],
   "source": [
    "str1 = 'Hello'\n",
    "str2 =' World!'\n",
    "str3 = str1 + str2\n",
    "print('str1 + str2 = ', str3)\n",
    "\n",
    "\n",
    "print(\"Y\" + str3[1:])"
   ]
  },
  {
   "cell_type": "markdown",
   "id": "moderate-sweden",
   "metadata": {},
   "source": [
    "<br>"
   ]
  },
  {
   "cell_type": "markdown",
   "id": "skilled-cache",
   "metadata": {},
   "source": [
    "## 6. Creating large strings\n",
    "- A string can be replicated/repeated using the `*` operator"
   ]
  },
  {
   "cell_type": "code",
   "execution_count": 29,
   "id": "opposite-electricity",
   "metadata": {},
   "outputs": [
    {
     "name": "stdout",
     "output_type": "stream",
     "text": [
      "str1 * 5 = HelloHelloHelloHelloHello\n",
      "EhtishamEhtishamEhtishamEhtishamEhtishamEhtishamEhtishamEhtishamEhtishamEhtisham\n",
      "AAAAAAAAAAAAAAAAAAAAAAAAAAAAAAAAAAAAAAAAAAAAAAAAAAAAAAAAAAAAAAAAAAAAAAAAAAAAAAAAAAAAAAAAAAAAAAAAAAAA\n"
     ]
    }
   ],
   "source": [
    "str1 = 'Hello'\n",
    "print('str1 * 5 =', str1 * 5)\n",
    "str2 = \"Ehtisham\"\n",
    "print(str2*10)\n",
    "buffer = 'A' * 100\n",
    "print(buffer)"
   ]
  },
  {
   "cell_type": "markdown",
   "id": "perceived-pharmacy",
   "metadata": {},
   "source": [
    "<br>"
   ]
  },
  {
   "cell_type": "markdown",
   "id": "champion-fifteen",
   "metadata": {},
   "source": [
    "## 7. Operations on String Data Structure \n",
    "|Operator||Description|\n",
    "|--------||-----------|\n",
    "|+||It is known as concatenation operator used to join the strings given either side of the operator. |\n",
    "|*| |It is known as repetition operator. It concatenates the multiple copies of the same string. |\n",
    "|[]||It is known as slice operator. It is used to access the sub-strings of a particular string. |\n",
    "|[:]||It is known as range slice operator. It is used to access the characters from the specified range. |\n",
    "|in||It is known as membership operator. It returns if a particular sub-string is present in the specified string. |\n",
    "|not in ||It is also a membership operator and does the exact reverse of in. It returns true if a particular substring is not present in the specified string. |"
   ]
  },
  {
   "cell_type": "markdown",
   "id": "hourly-corpus",
   "metadata": {},
   "source": [
    "### 8. String Membership test using `in` operator"
   ]
  },
  {
   "cell_type": "code",
   "execution_count": 1,
   "id": "necessary-division",
   "metadata": {},
   "outputs": [
    {
     "data": {
      "text/plain": [
       "True"
      ]
     },
     "execution_count": 1,
     "metadata": {},
     "output_type": "execute_result"
    }
   ],
   "source": [
    "'a' in 'DataScience'"
   ]
  },
  {
   "cell_type": "code",
   "execution_count": 16,
   "id": "surgical-makeup",
   "metadata": {},
   "outputs": [
    {
     "data": {
      "text/plain": [
       "True"
      ]
     },
     "execution_count": 16,
     "metadata": {},
     "output_type": "execute_result"
    }
   ],
   "source": [
    "'thf' not in 'python'"
   ]
  },
  {
   "cell_type": "markdown",
   "id": "separated-blend",
   "metadata": {},
   "source": [
    "<br>"
   ]
  },
  {
   "cell_type": "markdown",
   "id": "solved-interest",
   "metadata": {},
   "source": [
    "## 9. String Deletion\n",
    "As we know that strings are immutable. We cannot delete or remove the characters from the string.  But we can delete the entire string using the del keyword."
   ]
  },
  {
   "cell_type": "code",
   "execution_count": 30,
   "id": "therapeutic-samuel",
   "metadata": {},
   "outputs": [
    {
     "name": "stdout",
     "output_type": "stream",
     "text": [
      "Data\n"
     ]
    }
   ],
   "source": [
    "string5 = \"Data\"\n",
    "print(string5)"
   ]
  },
  {
   "cell_type": "code",
   "execution_count": 32,
   "id": "covered-variable",
   "metadata": {},
   "outputs": [
    {
     "ename": "NameError",
     "evalue": "name 'string5' is not defined",
     "output_type": "error",
     "traceback": [
      "\u001b[1;31m---------------------------------------------------------------------------\u001b[0m",
      "\u001b[1;31mNameError\u001b[0m                                 Traceback (most recent call last)",
      "\u001b[1;32m<ipython-input-32-7f981fd05258>\u001b[0m in \u001b[0;36m<module>\u001b[1;34m\u001b[0m\n\u001b[1;32m----> 1\u001b[1;33m \u001b[1;32mdel\u001b[0m \u001b[0mstring5\u001b[0m\u001b[1;33m\u001b[0m\u001b[1;33m\u001b[0m\u001b[0m\n\u001b[0m\u001b[0;32m      2\u001b[0m \u001b[0mprint\u001b[0m\u001b[1;33m(\u001b[0m\u001b[0mstring5\u001b[0m\u001b[1;33m)\u001b[0m\u001b[1;33m\u001b[0m\u001b[1;33m\u001b[0m\u001b[0m\n",
      "\u001b[1;31mNameError\u001b[0m: name 'string5' is not defined"
     ]
    }
   ],
   "source": [
    "del string5\n",
    "print(string5)"
   ]
  },
  {
   "cell_type": "markdown",
   "id": "fatal-tolerance",
   "metadata": {},
   "source": [
    "<br>"
   ]
  },
  {
   "cell_type": "markdown",
   "id": "innovative-fiber",
   "metadata": {},
   "source": [
    "### 10. Comparing two strings using `is` operator and `==` operator"
   ]
  },
  {
   "cell_type": "code",
   "execution_count": 33,
   "id": "sensitive-crash",
   "metadata": {},
   "outputs": [
    {
     "name": "stdout",
     "output_type": "stream",
     "text": [
      "140718633846736 140718633846736\n"
     ]
    }
   ],
   "source": [
    "x = 10\n",
    "y = 10\n",
    "print(id(x), id(y))"
   ]
  },
  {
   "cell_type": "code",
   "execution_count": 38,
   "id": "raising-locking",
   "metadata": {},
   "outputs": [
    {
     "name": "stdout",
     "output_type": "stream",
     "text": [
      "140718633847088\n",
      "140718633847056\n"
     ]
    }
   ],
   "source": [
    "a = 21\n",
    "b = 20\n",
    "print(id(a))\n",
    "print(id(b))"
   ]
  },
  {
   "cell_type": "code",
   "execution_count": 39,
   "id": "declared-person",
   "metadata": {},
   "outputs": [
    {
     "name": "stdout",
     "output_type": "stream",
     "text": [
      "2217993533616 2217993533616\n"
     ]
    }
   ],
   "source": [
    "str1 = \"marwa\"\n",
    "str2 = \"marwa\"\n",
    "print(id(str1), id(str2))"
   ]
  },
  {
   "cell_type": "code",
   "execution_count": 40,
   "id": "direct-keeping",
   "metadata": {},
   "outputs": [
    {
     "name": "stdout",
     "output_type": "stream",
     "text": [
      "2217996673776 2217996673776\n"
     ]
    }
   ],
   "source": [
    "# Let us check out the IDs of the following two variables. Like numbers type of variable, \n",
    "# they are same as both a and b refers to the same memory location containing same string 'hello'\n",
    "a = 'hello'\n",
    "b = 'hello'\n",
    "print(id(a), id(b))"
   ]
  },
  {
   "cell_type": "code",
   "execution_count": 35,
   "id": "julian-findings",
   "metadata": {},
   "outputs": [
    {
     "name": "stdout",
     "output_type": "stream",
     "text": [
      "True\n",
      "True\n",
      "False\n",
      "False\n"
     ]
    }
   ],
   "source": [
    "# in case of strings, both a and b refers to the same memory location containing string 'hello'\n",
    "a = 'hello'\n",
    "b = 'hello'\n",
    "\n",
    "# The `is` operator returns True if the memory addresses of two strings / variables are same\n",
    "print (a is b) \n",
    "# The `==` operator checks the contents of two strings\n",
    "print (a == b) \n",
    "\n",
    "\n",
    "print(a is not b)\n",
    "print (a != b)"
   ]
  },
  {
   "cell_type": "code",
   "execution_count": 41,
   "id": "vital-enemy",
   "metadata": {},
   "outputs": [
    {
     "name": "stdout",
     "output_type": "stream",
     "text": [
      "False\n",
      "False\n",
      "True\n",
      "True\n"
     ]
    }
   ],
   "source": [
    "# both x and y refers to two different memory locations containing string 'hello'\n",
    "x = 'hello'\n",
    "y = 'bye'\n",
    "\n",
    "# The `is` operator checks the memory address of two strings \n",
    "print (x is y) \n",
    "# The `==` operator checks the contents of two strings\n",
    "print (x == y) \n",
    "\n",
    "\n",
    "print(x is not y)\n",
    "print (x != y)"
   ]
  },
  {
   "cell_type": "markdown",
   "id": "dried-pointer",
   "metadata": {},
   "source": [
    "<br>"
   ]
  },
  {
   "cell_type": "markdown",
   "id": "secondary-hampshire",
   "metadata": {},
   "source": [
    "## 11 . String Methods\n",
    "Now the most important part of a string is string functions which you used everywhere whenever you built any project. Now we will study all-important string functions which are frequently used.\n",
    "These are functions that you get on all other iterator data types like list, tuple, set, and also available in string."
   ]
  },
  {
   "cell_type": "markdown",
   "id": "minimal-pasta",
   "metadata": {},
   "source": [
    "### a. The `len()`, `str.lower()`, `str.upper()` and `str.capitalize()` methods\n",
    "- The `len()` is a built-in function that returns the number of items of a container data type passed as argument. We can check the length of any data types that are collections with built-in `len()` function.\n",
    "It is considered a built-in function.\n",
    "- The `str.lower()` method return a copy of the string converted to lowercase.\n",
    "- The `str.upper()` method return a copy of the string converted to uppercase.\n",
    "- The `str.capitalize()` method return a capitalized version of the string."
   ]
  },
  {
   "cell_type": "code",
   "execution_count": 15,
   "id": "sharp-annotation",
   "metadata": {},
   "outputs": [
    {
     "name": "stdout",
     "output_type": "stream",
     "text": [
      "Help on built-in function len in module builtins:\n",
      "\n",
      "len(obj, /)\n",
      "    Return the number of items in a container.\n",
      "\n"
     ]
    }
   ],
   "source": [
    "help(len)"
   ]
  },
  {
   "cell_type": "code",
   "execution_count": 4,
   "id": "secure-russia",
   "metadata": {},
   "outputs": [
    {
     "name": "stdout",
     "output_type": "stream",
     "text": [
      "HELLO WORLD\n",
      "<class 'str'>\n"
     ]
    }
   ],
   "source": [
    "print(str1.upper())\n",
    "print(type(str1))"
   ]
  },
  {
   "cell_type": "code",
   "execution_count": 42,
   "id": "modern-jaguar",
   "metadata": {},
   "outputs": [
    {
     "name": "stdout",
     "output_type": "stream",
     "text": [
      "11 5\n"
     ]
    }
   ],
   "source": [
    "str1= \"Hello World\"\n",
    "mylist = [1,2,3,4,5]\n",
    "print(len(str1),len(mylist))"
   ]
  },
  {
   "cell_type": "markdown",
   "id": "foreign-suite",
   "metadata": {},
   "source": [
    "### Hints\n",
    "- To know what all methods the object of string class support. Just type the name of the object, place a dot and then press <tab> to view the list of its attributes and methods it support. \n",
    "`str.<tab>`\n",
    "- Similarly to get help about a method, after the method name press <shift+tab>, to get information about what the method do, what parameters it take, its return value\n",
    "`str.lower<shift+tab>`"
   ]
  },
  {
   "cell_type": "code",
   "execution_count": null,
   "id": "superior-paint",
   "metadata": {},
   "outputs": [],
   "source": [
    "str1.lower()"
   ]
  },
  {
   "cell_type": "code",
   "execution_count": 43,
   "id": "governing-diving",
   "metadata": {},
   "outputs": [
    {
     "data": {
      "text/plain": [
       "'DS'"
      ]
     },
     "execution_count": 43,
     "metadata": {},
     "output_type": "execute_result"
    }
   ],
   "source": [
    "string6 = \"DS\"\n",
    "string6."
   ]
  },
  {
   "cell_type": "code",
   "execution_count": 44,
   "id": "mechanical-hartford",
   "metadata": {},
   "outputs": [
    {
     "name": "stdout",
     "output_type": "stream",
     "text": [
      "Orignial string =  introduction to Data science using python\n",
      "len(string7) =  41\n",
      "string7.lower() =  introduction to data science using python\n",
      "string7.upper() =  INTRODUCTION TO DATA SCIENCE USING PYTHON\n",
      "string7.capitalize() =  Introduction to data science using python\n",
      "Orignial string =  introduction to Data science using python\n",
      "strinh7.title = Introduction To Data Science Using Python\n"
     ]
    }
   ],
   "source": [
    "string7 = \"introduction to Data science using python\"\n",
    "print('Orignial string = ', string7)\n",
    "\n",
    "rv = len(string7)\n",
    "print('len(string7) = ', rv)\n",
    "\n",
    "rv1 = string7.lower()\n",
    "print('string7.lower() = ', rv1)\n",
    "      \n",
    "print('string7.upper() = ', string7.upper())\n",
    "\n",
    "rv2 = string7.capitalize()\n",
    "print('string7.capitalize() = ', rv2)\n",
    "print('Orignial string = ', string7)\n",
    "print(\"strinh7.title =\", string7.title())"
   ]
  },
  {
   "cell_type": "markdown",
   "id": "backed-agenda",
   "metadata": {},
   "source": [
    "### b. The `str.strip()` method\n",
    "- The `str.strip()` method removes whitespace characters from the beginning and end of a string.\n",
    "- The `str.lstrip()` method removes whitespace characters from the beginning of a string.\n",
    "- The `str.rstrip()` method removes whitespace characters from the end of a string.\n"
   ]
  },
  {
   "cell_type": "code",
   "execution_count": 46,
   "id": "authorized-university",
   "metadata": {},
   "outputs": [
    {
     "name": "stdout",
     "output_type": "stream",
     "text": [
      "    hello world, this is       Arif Butt      \n",
      "hello world, this is       Arif Butt\n"
     ]
    }
   ],
   "source": [
    "buffer =\"    hello world, this is       Arif Butt      \"\n",
    "rv = buffer.strip()\n",
    "print(buffer)\n",
    "print(rv)"
   ]
  },
  {
   "cell_type": "code",
   "execution_count": 47,
   "id": "about-signal",
   "metadata": {},
   "outputs": [
    {
     "name": "stdout",
     "output_type": "stream",
     "text": [
      "hello world, this is       Arif Butt      \n",
      "    hello world, this is       Arif Butt\n"
     ]
    }
   ],
   "source": [
    "buffer\n",
    "print(buffer.lstrip())\n",
    "print(buffer.rstrip())"
   ]
  },
  {
   "cell_type": "markdown",
   "id": "signal-mineral",
   "metadata": {},
   "source": [
    "### c. The `str.startswith()` method\n",
    "The `str.startswith()` method return True if str starts with the specified prefix, False otherwise.\n",
    "```\n",
    "str.startswith(prefix[, start[, end]])\n",
    "```"
   ]
  },
  {
   "cell_type": "code",
   "execution_count": 52,
   "id": "public-assumption",
   "metadata": {},
   "outputs": [
    {
     "name": "stdout",
     "output_type": "stream",
     "text": [
      "True\n",
      "False\n",
      "True\n"
     ]
    }
   ],
   "source": [
    "string8 = \"Learning is fun with Ehtisham Sadiq\"\n",
    "\n",
    "rv3 = string8.startswith('Learning')\n",
    "print(rv3)\n",
    "\n",
    "rv4 = string8.startswith('Ali')\n",
    "print(rv4)\n",
    "\n",
    "\n",
    "rv5 = string8.startswith('Ehtisham', 21)\n",
    "print(rv5)\n",
    "\n",
    "# # case sensitive\n",
    "rv6 = string8.startswith('ali', 21)\n",
    "# print(rv6)\n",
    "\n",
    "# rv6 = string8.startswith('is', 2, 11)  # character at ending index is not included\n",
    "# print(rv6)"
   ]
  },
  {
   "cell_type": "markdown",
   "id": "colonial-sharp",
   "metadata": {},
   "source": [
    "### d. The `str.endsswith()` method\n",
    "The `str.startswith()` method return True if str ends with the specified prefix, False otherwise."
   ]
  },
  {
   "cell_type": "code",
   "execution_count": 54,
   "id": "empty-connectivity",
   "metadata": {},
   "outputs": [
    {
     "name": "stdout",
     "output_type": "stream",
     "text": [
      "False\n",
      "True\n"
     ]
    }
   ],
   "source": [
    "s = \"ali\"\n",
    "print(s.endswith(\"f\"))\n",
    "print(s.endswith(\"i\"))"
   ]
  },
  {
   "cell_type": "markdown",
   "id": "identified-jumping",
   "metadata": {},
   "source": [
    "### d. The `str.split()` and `str.join()` method\n",
    "- The `str.split()` method splits a string into a list of strings at every occurrence of space character by default. You may pass a parameter `sep='i'` to split method to split at that specific character instead.\n",
    "- The `sep.join(list)` method is passed a list/iterable as parameter and is called on a separater character. It joins the strings inside the list to a single string and returns"
   ]
  },
  {
   "cell_type": "code",
   "execution_count": 14,
   "id": "floating-scholar",
   "metadata": {},
   "outputs": [
    {
     "name": "stdout",
     "output_type": "stream",
     "text": [
      "DS\n",
      "Help on built-in function split:\n",
      "\n",
      "split(sep=None, maxsplit=-1) method of builtins.str instance\n",
      "    Return a list of the words in the string, using sep as the delimiter string.\n",
      "    \n",
      "    sep\n",
      "      The delimiter according which to split the string.\n",
      "      None (the default value) means split according to any whitespace,\n",
      "      and discard empty strings from the result.\n",
      "    maxsplit\n",
      "      Maximum number of splits to do.\n",
      "      -1 (the default value) means no limit.\n",
      "\n"
     ]
    }
   ],
   "source": [
    "str1=\"DS\"\n",
    "print(str1)\n",
    "help(str1.split)"
   ]
  },
  {
   "cell_type": "code",
   "execution_count": 59,
   "id": "ecological-baseline",
   "metadata": {},
   "outputs": [
    {
     "name": "stdout",
     "output_type": "stream",
     "text": [
      "35\n",
      "['Learning', 'is', 'fun', 'with', 'Ehtisham', 'Sadiq']\n",
      "6\n",
      "<class 'list'>\n"
     ]
    }
   ],
   "source": [
    "str1 = 'Learning is fun with Ehtisham Sadiq'\n",
    "print(len(str1))\n",
    "rv = str1.split()\n",
    "print(rv)\n",
    "print(len(rv))\n",
    "print(type(rv))"
   ]
  },
  {
   "cell_type": "code",
   "execution_count": 58,
   "id": "confident-equity",
   "metadata": {},
   "outputs": [
    {
     "name": "stdout",
     "output_type": "stream",
     "text": [
      "['Learn', 'ng ', 's fun w', 'th Eht', 'sham Sad', 'q']\n",
      "<class 'list'>\n"
     ]
    }
   ],
   "source": [
    "str1 = 'Learning is fun with Ehtisham Sadiq'\n",
    "rv = str1.split(sep='i')\n",
    "print(rv)\n",
    "print(type(rv))"
   ]
  },
  {
   "cell_type": "code",
   "execution_count": 18,
   "id": "human-boundary",
   "metadata": {},
   "outputs": [
    {
     "name": "stdout",
     "output_type": "stream",
     "text": [
      "Help on built-in function join:\n",
      "\n",
      "join(iterable, /) method of builtins.str instance\n",
      "    Concatenate any number of strings.\n",
      "    \n",
      "    The string whose method is called is inserted in between each given string.\n",
      "    The result is returned as a new string.\n",
      "    \n",
      "    Example: '.'.join(['ab', 'pq', 'rs']) -> 'ab.pq.rs'\n",
      "\n"
     ]
    }
   ],
   "source": [
    "str1=\"DS\"\n",
    "help(str1.join)"
   ]
  },
  {
   "cell_type": "code",
   "execution_count": 63,
   "id": "cooperative-outline",
   "metadata": {},
   "outputs": [
    {
     "data": {
      "text/plain": [
       "['L', 'e', 'a', 'r', 'n', 'i', 'n', 'g']"
      ]
     },
     "execution_count": 63,
     "metadata": {},
     "output_type": "execute_result"
    }
   ],
   "source": [
    "mystr = \"L e a r n i n g\"\n",
    "mystr.split(\" \")"
   ]
  },
  {
   "cell_type": "code",
   "execution_count": 66,
   "id": "widespread-generic",
   "metadata": {
    "scrolled": true
   },
   "outputs": [
    {
     "name": "stdout",
     "output_type": "stream",
     "text": [
      "['Learning', 'is', 'fun', 'with', 'Ehtisham'] <class 'list'>\n",
      "Learning is fun with Ehtisham <class 'str'>\n"
     ]
    }
   ],
   "source": [
    "# The join() method takes all items in an iterable and joins them into one string.\n",
    "mylist = ['Learning', 'is', 'fun', 'with', 'Ehtisham']\n",
    "\n",
    "#Note the separator is space character\n",
    "mystr = ' '.join(mylist)\n",
    "\n",
    "print(mylist, type(mylist))\n",
    "print(mystr, type(mystr))"
   ]
  },
  {
   "cell_type": "code",
   "execution_count": 22,
   "id": "current-population",
   "metadata": {},
   "outputs": [
    {
     "name": "stdout",
     "output_type": "stream",
     "text": [
      "['Ehtisham', 'Ali', 'Ayesha', 'Fizza', 'Dua', 'Azka', '21', '18'] <class 'list'>\n",
      "Ehtisham Ali Ayesha Fizza Dua Azka 21 18 <class 'str'>\n"
     ]
    }
   ],
   "source": [
    "# You can call join() method on a separator or your choice\n",
    "mylist = ['Ehtisham', 'Ali', 'Ayesha', 'Fizza', 'Dua', 'Azka', str(21), str(18)]\n",
    "\n",
    "#Note the separator is hash character\n",
    "mystr = ' '.join(mylist)\n",
    "\n",
    "print(mylist, type(mylist))\n",
    "print(mystr, type(mystr))"
   ]
  },
  {
   "cell_type": "code",
   "execution_count": null,
   "id": "tested-collar",
   "metadata": {},
   "outputs": [],
   "source": []
  },
  {
   "cell_type": "markdown",
   "id": "injured-advance",
   "metadata": {},
   "source": [
    "### e. The `str.find()` method\n",
    "- The `str.find()` method is used to find a substring from within a string, which returns the first index at which a substring occurs in a string. If no instance of the substring is found, the method returns -1.\n",
    "```\n",
    "str.find(substring, start, end)\n",
    "```\n",
    "where \n",
    "    - `substring` is what we are searching for,\n",
    "    - `start` is the index from where we want to start searching (default value is 0)\n",
    "    - `end` is the index where we want to stop our search (default value is len(str) -1)"
   ]
  },
  {
   "cell_type": "code",
   "execution_count": 38,
   "id": "pressing-singapore",
   "metadata": {},
   "outputs": [
    {
     "name": "stdout",
     "output_type": "stream",
     "text": [
      "29\n",
      "0\n",
      "-1\n",
      "4\n",
      "-1\n",
      "-1\n",
      "4\n"
     ]
    }
   ],
   "source": [
    "str1 = 'DataScienceToolsAndTechniques'\n",
    "print(len(str1))\n",
    "print(str1.find('Data'))\n",
    "print(str1.find('And1'))\n",
    "\n",
    "\n",
    "print(str1.find('S',2)) # second argument starts searching from that index\n",
    "print(str1.find('s',30)) # case sensitive\n",
    "\n",
    "print(str1.find('S',0, 4)) # third argument stops searching uptill that index\n",
    "print(str1.find('S',0, 5)) "
   ]
  },
  {
   "cell_type": "markdown",
   "id": "fallen-marketplace",
   "metadata": {},
   "source": [
    "### f. Use `str.replace()` method to find a substring\n",
    "- The `str.replace()` method returns a string after replacing all occurrences of `substring_to_be_replaced` with `new_string`.\n",
    "```\n",
    "str.replace(substring_to_be_replaced, new_string, count = -1)\n",
    "```\n",
    "- Note that `replace` returns a new string, and the original string is not modified."
   ]
  },
  {
   "cell_type": "code",
   "execution_count": null,
   "id": "bibliographic-adventure",
   "metadata": {},
   "outputs": [],
   "source": [
    "str1=\"DS\"\n",
    "help(str1.replace)"
   ]
  },
  {
   "cell_type": "code",
   "execution_count": 39,
   "id": "behind-sunday",
   "metadata": {},
   "outputs": [
    {
     "name": "stdout",
     "output_type": "stream",
     "text": [
      "hallo\n",
      "hello\n"
     ]
    }
   ],
   "source": [
    "a = \"hello\"\n",
    "print(a.replace(\"e\",\"a\"))\n",
    "print(a)"
   ]
  },
  {
   "cell_type": "code",
   "execution_count": 40,
   "id": "disciplinary-workplace",
   "metadata": {},
   "outputs": [
    {
     "name": "stdout",
     "output_type": "stream",
     "text": [
      "Welcome to Learning Data Science with Ehtisham Sadiq\n",
      "Welcome to Learning Life with Ehtisham Sadiq\n"
     ]
    }
   ],
   "source": [
    "str1 = 'Welcome to Learning Data Science with Ehtisham Sadiq'\n",
    "newstring = str1.replace('Data Science', 'Life')\n",
    "print(str1)\n",
    "print(newstring)"
   ]
  },
  {
   "cell_type": "markdown",
   "id": "indirect-hierarchy",
   "metadata": {},
   "source": [
    "### g. The `str.format()` method\n",
    "- The `str.format()` method combines values of other data types, e.g., integers, floats, booleans, lists, etc. with strings. \n",
    "- You can use `str.format()` to construct output messages for display in the Python built-in `print()` function.\n",
    "- You put placeholders `{}` within the format string of `print()` function, and the arguments to the `str.format()` method are the variable names\n",
    "- The values of the variables are replaced with the arguments provided to the `str.format()` method."
   ]
  },
  {
   "cell_type": "code",
   "execution_count": 41,
   "id": "earlier-federal",
   "metadata": {},
   "outputs": [
    {
     "name": "stdout",
     "output_type": "stream",
     "text": [
      "Mr. Ehtisham Sadiq, you are 21 years old.\n"
     ]
    }
   ],
   "source": [
    "#Example 1:\n",
    "age = 21\n",
    "name=\"Ehtisham Sadiq\"\n",
    "\n",
    "print(\"Mr. {}, you are {} years old.\" .format(name, age))"
   ]
  },
  {
   "cell_type": "code",
   "execution_count": 47,
   "id": "brazilian-faith",
   "metadata": {},
   "outputs": [
    {
     "name": "stdout",
     "output_type": "stream",
     "text": [
      "Mr. Hadeed Butt, your total cost is 100, percentage discount is 0.2, and bill is 100\n"
     ]
    }
   ],
   "source": [
    "#Example 2:\n",
    "name=\"Hadeed Butt\"\n",
    "cost = 100\n",
    "discount = .2\n",
    "bill = cost - cost * discount\n",
    "\n",
    "print(\"Mr. {2}, your total cost is {1}, percentage discount is {3}, and bill is {1}\" \n",
    "      . format(bill, cost, name, discount))"
   ]
  },
  {
   "cell_type": "code",
   "execution_count": 43,
   "id": "occupational-manchester",
   "metadata": {},
   "outputs": [
    {
     "name": "stdout",
     "output_type": "stream",
     "text": [
      "Mr. Hadeed Butt, your total cost is 100, percentage discount is 0.2, and bill is 80.0\n"
     ]
    }
   ],
   "source": [
    "#Example 2:\n",
    "name=\"Hadeed Butt\"\n",
    "cost = 100\n",
    "discount = .2\n",
    "bill = cost - cost * discount\n",
    "\n",
    "print(f\"Mr. {name}, your total cost is {cost}, percentage discount is {discount}, and bill is {bill}\" \n",
    "      . format(bill, cost, name, discount))\n"
   ]
  },
  {
   "cell_type": "code",
   "execution_count": 48,
   "id": "polished-transfer",
   "metadata": {},
   "outputs": [
    {
     "name": "stdout",
     "output_type": "stream",
     "text": [
      "My name is Ehtisham and my age is 21\n"
     ]
    }
   ],
   "source": [
    "name = \"Ehtisham\"\n",
    "age = 21\n",
    "print(f\"My name is {name} and my age is {age}\")"
   ]
  },
  {
   "cell_type": "markdown",
   "id": "soviet-cedar",
   "metadata": {},
   "source": [
    "## Check your Concepts\n",
    "\n",
    "Try answering the following questions to test your understanding of the topics covered in this notebook:\n",
    "\n",
    "1. What are the container types available in Python?\n",
    "2. What kind of data does the String data type represent?\n",
    "3. What are the different ways of creating strings in Python?\n",
    "4. What is the difference between strings created using single quotes, i.e. `'` and `'` vs. those created using double quotes, i.e. `\"` and `\"`?\n",
    "5. How do you create multi-line strings in Python?\n",
    "6. What is the newline character, `\\n`?\n",
    "7. What are escaped characters? How are they useful?\n",
    "8. How do you check the length of a string?\n",
    "9. How do you convert a string into a list of characters?\n",
    "10. How do you access a specific character from a string?\n",
    "11. How do you access a range of characters from a string?\n",
    "12. How do you check if a specific character occurs in a string?\n",
    "13. How do you check if a smaller string occurs within a bigger string?\n",
    "14. How do you join two or more strings?\n",
    "15. What are \"methods\" in Python? How are they different from functions?\n",
    "16. What do the `.count`, `.isalnum` and `.isalpha` methods on strings do?\n",
    "17. How do you replace a specific part of a string with something else?\n",
    "18. How do you split the string \"Sun,Mon,Tue,Wed,Thu,Fri,Sat\" into a list of days?\n",
    "19. How do you remove whitespace from the beginning and end of a string?\n",
    "20. What is the string `.format` method used for? Can you give an example?\n",
    "21. What are the benefits of using the `.format` method instead of string concatenation?\n",
    "22. How do you convert a value of another type to a string?\n",
    "23. How do you check if two strings have the same value?\n",
    "24. Where can you find the list of all the methods supported by strings?"
   ]
  },
  {
   "cell_type": "code",
   "execution_count": null,
   "id": "satisfactory-blame",
   "metadata": {},
   "outputs": [],
   "source": []
  },
  {
   "cell_type": "markdown",
   "id": "linear-radiation",
   "metadata": {},
   "source": [
    "## Practice Questions:\n",
    "-    1. Take a string from user and print a string will be made up of the first, middle and last character of the string .\n",
    "\n"
   ]
  },
  {
   "cell_type": "code",
   "execution_count": null,
   "id": "supported-reserve",
   "metadata": {},
   "outputs": [],
   "source": [
    "# step -> 1 : take a string from user, using input()\n",
    "# step -> 2 : first character , last character, middle character , using slicing \n",
    "# step -> 3 : combine all the characters\n",
    "# step -> 4 : Print combined string"
   ]
  },
  {
   "cell_type": "code",
   "execution_count": 55,
   "id": "detailed-canal",
   "metadata": {},
   "outputs": [
    {
     "name": "stdout",
     "output_type": "stream",
     "text": [
      "Enter a string : Machine Learning\n",
      "Machine Learning\n",
      "M g\n"
     ]
    }
   ],
   "source": [
    "new = input(\"Enter a string : \")\n",
    "first = new[0]\n",
    "last = new[-1]\n",
    "middle = new[7]\n",
    "new_string = first+middle+last\n",
    "print(new)\n",
    "print(new_string)"
   ]
  },
  {
   "cell_type": "code",
   "execution_count": null,
   "id": "adult-iraqi",
   "metadata": {},
   "outputs": [],
   "source": []
  }
 ],
 "metadata": {
  "kernelspec": {
   "display_name": "Python 3",
   "language": "python",
   "name": "python3"
  },
  "language_info": {
   "codemirror_mode": {
    "name": "ipython",
    "version": 3
   },
   "file_extension": ".py",
   "mimetype": "text/x-python",
   "name": "python",
   "nbconvert_exporter": "python",
   "pygments_lexer": "ipython3",
   "version": "3.8.7"
  }
 },
 "nbformat": 4,
 "nbformat_minor": 5
}
