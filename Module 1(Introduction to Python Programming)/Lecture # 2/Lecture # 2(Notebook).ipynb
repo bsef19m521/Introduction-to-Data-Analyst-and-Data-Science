{
 "cells": [
  {
   "cell_type": "markdown",
   "id": "sensitive-electron",
   "metadata": {},
   "source": [
    "<h1 align=\"center\">Introduction to Data Analyst and Data Science for Beginners</h1>\n",
    "<br>\n",
    "<h3 align=\"center\" >Lecture no 02</h3>"
   ]
  },
  {
   "cell_type": "markdown",
   "id": "soviet-entertainment",
   "metadata": {},
   "source": [
    "## Learning agenda of this notebook\n",
    "Variables are used to store data in computer memory\n",
    "1. print() function\n",
    "2. Python is dynamically typed\n",
    "3. Variables and variable naming conventions\n",
    "4. Assigning values to multiple variables in single line\n",
    "5. Checking type of a variable using Built-in `type()` function\n",
    "6. Checking ID of a variable using Built-in `id()` function\n",
    "7. Do we actually store data inside variables?\n",
    "8. Deleting a variable from Kernel memory\n",
    "9. Python Numeric data types (Numbers)\n",
    "10. Issues with Float data type\n",
    "11. Conversiton / Type Casting"
   ]
  },
  {
   "cell_type": "markdown",
   "id": "written-louis",
   "metadata": {},
   "source": [
    "## print() Function"
   ]
  },
  {
   "cell_type": "code",
   "execution_count": 12,
   "id": "applied-daisy",
   "metadata": {},
   "outputs": [
    {
     "name": "stdout",
     "output_type": "stream",
     "text": [
      "Python is programming language.\n",
      "x =  21\n",
      "x =  21 = y\n"
     ]
    }
   ],
   "source": [
    "print(\"Python is programming language.\")  \n",
    "\n",
    "x = 21\n",
    "\n",
    "# two objects passed\n",
    "print(\"x = \",x)\n",
    "\n",
    "y = x\n",
    "\n",
    "#three objects are passed\n",
    "print(\"x = \", x, \"= y\")"
   ]
  },
  {
   "cell_type": "code",
   "execution_count": 14,
   "id": "through-crazy",
   "metadata": {},
   "outputs": [
    {
     "name": "stdout",
     "output_type": "stream",
     "text": [
      "x =0000021\n",
      "\n",
      "\n",
      "21\n"
     ]
    }
   ],
   "source": [
    "x = 21 \n",
    "print(\"x =\", x, sep='00000', end='\\n\\n\\n')  \n",
    "print(x)"
   ]
  },
  {
   "cell_type": "code",
   "execution_count": 19,
   "id": "controlling-lesbian",
   "metadata": {},
   "outputs": [
    {
     "name": "stdout",
     "output_type": "stream",
     "text": [
      "x =021\n",
      "21\n"
     ]
    }
   ],
   "source": [
    "print(\"x =\", x, sep='0', end=\"\\n\")\n",
    "print(x)"
   ]
  },
  {
   "cell_type": "markdown",
   "id": "mediterranean-tunnel",
   "metadata": {},
   "source": [
    "# Variablesin Python"
   ]
  },
  {
   "cell_type": "code",
   "execution_count": 22,
   "id": "acquired-museum",
   "metadata": {},
   "outputs": [
    {
     "name": "stdout",
     "output_type": "stream",
     "text": [
      "21\n",
      "21\n"
     ]
    }
   ],
   "source": [
    "x = 21 #expression\n",
    "age = 21\n",
    "print(age)\n",
    "print(x)\n",
    "#ehtisham \n",
    "# location live"
   ]
  },
  {
   "cell_type": "code",
   "execution_count": 26,
   "id": "diagnostic-missouri",
   "metadata": {},
   "outputs": [
    {
     "name": "stdout",
     "output_type": "stream",
     "text": [
      "<class 'int'>\n",
      "<class 'str'>\n"
     ]
    }
   ],
   "source": [
    "x = 21\n",
    "print(type(x))\n",
    "y = \"Ehtisham\"\n",
    "print(type(y))"
   ]
  },
  {
   "cell_type": "markdown",
   "id": "infrared-meter",
   "metadata": {},
   "source": [
    "### 1. what is a variable and variable names\n",
    "Variable is a name that is used to refer to memory location. Python variable is also known as an identifier and used to hold value.\n",
    "In Python, we don't need to specify the type of variable because Python is a infer language and smart enough to get variable type.\n",
    "Variable names can be a group of both the letters and digits, but they have to begin with a letter or an underscore.\n",
    "It is recommended to use lowercase letters for the variable name. name and NAME both are two different variables"
   ]
  },
  {
   "cell_type": "code",
   "execution_count": 29,
   "id": "parallel-mississippi",
   "metadata": {},
   "outputs": [
    {
     "name": "stdout",
     "output_type": "stream",
     "text": [
      "Ali\n",
      "Ehtisham\n",
      "2892984557232\n",
      "2892981866288\n"
     ]
    }
   ],
   "source": [
    "name = \"Ali\"\n",
    "NAME = \"Ehtisham\"\n",
    "print(name)\n",
    "print(NAME)\n",
    "print(id(name))\n",
    "print(id(NAME))"
   ]
  },
  {
   "cell_type": "markdown",
   "id": "aboriginal-dispatch",
   "metadata": {},
   "source": [
    "### 2. Declaring Variable and Assigning Values\n",
    "Python does not bind us to declare a variable before using it in the application. It allows us to create a variable at the required time.\n",
    "The equal (=) operator is used to assign value to a variable."
   ]
  },
  {
   "cell_type": "code",
   "execution_count": null,
   "id": "editorial-israeli",
   "metadata": {},
   "outputs": [],
   "source": [
    "x = 21\n",
    "y = 30\n",
    "z = 75"
   ]
  },
  {
   "cell_type": "code",
   "execution_count": 30,
   "id": "universal-resolution",
   "metadata": {},
   "outputs": [
    {
     "name": "stdout",
     "output_type": "stream",
     "text": [
      "Ehtisham Sadiq\n",
      "21\n",
      "Okara\n",
      "Pak Villas Housing Society, Near City School, Sikandar Iqbal Road,District Okara\n"
     ]
    }
   ],
   "source": [
    "name = \"Ehtisham Sadiq\"\n",
    "age = 21\n",
    "marks = 75.4\n",
    "city = \"Okara\"\n",
    "address = \"Pak Villas Housing Society, Near City School, Sikandar Iqbal Road,District Okara\"\n",
    "print(name)\n",
    "print(age)\n",
    "print(city)\n",
    "print(address)"
   ]
  },
  {
   "cell_type": "code",
   "execution_count": null,
   "id": "mineral-subsection",
   "metadata": {},
   "outputs": [],
   "source": []
  },
  {
   "cell_type": "markdown",
   "id": "brown-clearing",
   "metadata": {},
   "source": [
    "### 3. Object References\n",
    "It is necessary to understand how the Python interpreter works when we declare a variable. The process of treating variables is somewhat different from many other programming languages.\n",
    "In python, each variable belongs to specific data type or class.\n",
    "To check the type of variable , we use a Python built-in type() function.\n",
    "The variables are used to denote objects by that name."
   ]
  },
  {
   "cell_type": "code",
   "execution_count": 31,
   "id": "noble-november",
   "metadata": {},
   "outputs": [
    {
     "name": "stdout",
     "output_type": "stream",
     "text": [
      "<class 'int'>\n"
     ]
    }
   ],
   "source": [
    "a = 50\n",
    "# -infinity to +infinity\n",
    "#  the variable a refers to an integer object.\n",
    "print(type(a))"
   ]
  },
  {
   "cell_type": "markdown",
   "id": "bronze-volleyball",
   "metadata": {},
   "source": [
    "![](2.png)"
   ]
  },
  {
   "cell_type": "code",
   "execution_count": 32,
   "id": "combined-briefing",
   "metadata": {},
   "outputs": [
    {
     "name": "stdout",
     "output_type": "stream",
     "text": [
      "140732289387728\n",
      "140732289387728\n"
     ]
    }
   ],
   "source": [
    "# Suppose we assign the integer value 50 to a new variable b.\n",
    "a = 50\n",
    "b = a\n",
    "print(id(a))\n",
    "print(id(b))"
   ]
  },
  {
   "cell_type": "markdown",
   "id": "banner-manor",
   "metadata": {},
   "source": [
    "![](3.png)\n",
    "The variable b refers to the same object that a points to because Python does not create another object.\n",
    "\n"
   ]
  },
  {
   "cell_type": "markdown",
   "id": "divided-theater",
   "metadata": {},
   "source": [
    "<br>"
   ]
  },
  {
   "cell_type": "code",
   "execution_count": 35,
   "id": "approximate-paint",
   "metadata": {},
   "outputs": [
    {
     "name": "stdout",
     "output_type": "stream",
     "text": [
      "140732289387728\n",
      "140732289389328\n"
     ]
    }
   ],
   "source": [
    "# Let's assign the new value to b. Now both variables will refer to the different objects.\n",
    "a = 50\n",
    "b = 100\n",
    "print(id(a))\n",
    "print(id(b))"
   ]
  },
  {
   "cell_type": "markdown",
   "id": "based-improvement",
   "metadata": {},
   "source": [
    "![](4.png)\n",
    "Python manages memory efficiently if we assign the same variable to two different values.\n"
   ]
  },
  {
   "cell_type": "markdown",
   "id": "emotional-active",
   "metadata": {},
   "source": [
    "<br>"
   ]
  },
  {
   "cell_type": "markdown",
   "id": "numerous-magazine",
   "metadata": {},
   "source": [
    "### 4. Object Identity\n",
    "In Python, every created object identifies uniquely in Python. Python provides the guaranteed that no two objects will have the same identifier. The built-in id() function, is used to identify the object identifier."
   ]
  },
  {
   "cell_type": "code",
   "execution_count": 36,
   "id": "proper-decline",
   "metadata": {},
   "outputs": [
    {
     "name": "stdout",
     "output_type": "stream",
     "text": [
      "140732289387728\n",
      "140732289387728\n",
      "2892988580880\n"
     ]
    }
   ],
   "source": [
    "a = 50  \n",
    "b = a  \n",
    "print(id(a))  \n",
    "print(id(b))  \n",
    "# Reassigned variable a  \n",
    "a = 500  \n",
    "print(id(a))  "
   ]
  },
  {
   "cell_type": "markdown",
   "id": "outdoor-daughter",
   "metadata": {},
   "source": [
    "<br>"
   ]
  },
  {
   "cell_type": "markdown",
   "id": "subjective-cherry",
   "metadata": {},
   "source": [
    "### 5. Multiple Assignment\n",
    "Python allows us to assign a value to multiple variables in a single statement, which is also known as multiple assignments."
   ]
  },
  {
   "cell_type": "markdown",
   "id": "infectious-receipt",
   "metadata": {},
   "source": [
    "##### Assigning single value to multiple variables"
   ]
  },
  {
   "cell_type": "code",
   "execution_count": 37,
   "id": "acquired-ethiopia",
   "metadata": {},
   "outputs": [
    {
     "name": "stdout",
     "output_type": "stream",
     "text": [
      "30\n",
      "30\n",
      "30\n"
     ]
    }
   ],
   "source": [
    "x=y=z=30 # single statement\n",
    "print(x)\n",
    "print(y)\n",
    "print(z)"
   ]
  },
  {
   "cell_type": "markdown",
   "id": "worldwide-liechtenstein",
   "metadata": {},
   "source": [
    "##### Assigning multiple values to multiple variables"
   ]
  },
  {
   "cell_type": "code",
   "execution_count": 38,
   "id": "continent-criminal",
   "metadata": {},
   "outputs": [
    {
     "name": "stdout",
     "output_type": "stream",
     "text": [
      "Lahore\n",
      "21\n",
      "3.43\n"
     ]
    }
   ],
   "source": [
    "x , y, z = \"Lahore\", 21, 3.43 # single statement\n",
    "print(x)\n",
    "print(y)\n",
    "print(z)"
   ]
  },
  {
   "cell_type": "markdown",
   "id": "satellite-nitrogen",
   "metadata": {},
   "source": [
    "<br>\n",
    "<br>"
   ]
  },
  {
   "cell_type": "markdown",
   "id": "incorrect-value",
   "metadata": {},
   "source": [
    "## 6. Python Variables Types\n",
    "There are two types of variables in Python   \n",
    "i. Local variable    \n",
    "ii. Global variable.  "
   ]
  },
  {
   "cell_type": "markdown",
   "id": "alternate-citizen",
   "metadata": {},
   "source": [
    "Local Variable:   \n",
    "       Local variables are the variables that declared inside the function and have scope within the function."
   ]
  },
  {
   "cell_type": "code",
   "execution_count": 45,
   "id": "shaped-rebate",
   "metadata": {},
   "outputs": [
    {
     "name": "stdout",
     "output_type": "stream",
     "text": [
      "The sum is: 50\n"
     ]
    }
   ],
   "source": [
    "# Declaring a function  \n",
    "def add():  \n",
    "    # Defining local variables. They has scope only within a function  \n",
    "    aa = 20  \n",
    "    bb = 30  \n",
    "    cc = aa + bb  \n",
    "    print(\"The sum is:\", cc)  \n",
    "  \n",
    "# Calling a function  \n",
    "add()"
   ]
  },
  {
   "cell_type": "code",
   "execution_count": 46,
   "id": "convertible-transition",
   "metadata": {},
   "outputs": [
    {
     "ename": "NameError",
     "evalue": "name 'aa' is not defined",
     "output_type": "error",
     "traceback": [
      "\u001b[1;31m---------------------------------------------------------------------------\u001b[0m",
      "\u001b[1;31mNameError\u001b[0m                                 Traceback (most recent call last)",
      "\u001b[1;32m<ipython-input-46-6e5ed09f5984>\u001b[0m in \u001b[0;36m<module>\u001b[1;34m\u001b[0m\n\u001b[1;32m----> 1\u001b[1;33m \u001b[0mprint\u001b[0m\u001b[1;33m(\u001b[0m\u001b[0maa\u001b[0m\u001b[1;33m)\u001b[0m\u001b[1;33m\u001b[0m\u001b[1;33m\u001b[0m\u001b[0m\n\u001b[0m\u001b[0;32m      2\u001b[0m \u001b[0mprint\u001b[0m\u001b[1;33m(\u001b[0m\u001b[0mbb\u001b[0m\u001b[1;33m)\u001b[0m\u001b[1;33m\u001b[0m\u001b[1;33m\u001b[0m\u001b[0m\n",
      "\u001b[1;31mNameError\u001b[0m: name 'aa' is not defined"
     ]
    }
   ],
   "source": [
    "print(aa)\n",
    "print(bb)"
   ]
  },
  {
   "cell_type": "code",
   "execution_count": null,
   "id": "accepting-muslim",
   "metadata": {},
   "outputs": [],
   "source": []
  },
  {
   "cell_type": "markdown",
   "id": "third-compatibility",
   "metadata": {},
   "source": [
    "Global Variable:    \n",
    "    Global variables can be used throughout the program, and its scope is in the entire program. We can use global variables inside or outside the function.\n",
    "A variable declared outside the function is the global variable by default. Python provides the global keyword to use global variable inside the function."
   ]
  },
  {
   "cell_type": "code",
   "execution_count": 48,
   "id": "consecutive-wilderness",
   "metadata": {},
   "outputs": [
    {
     "name": "stdout",
     "output_type": "stream",
     "text": [
      "101\n",
      "Welcome To Python programming\n",
      "Welcome To Python programming\n"
     ]
    }
   ],
   "source": [
    "# Declare a variable and initialize it  \n",
    "x = 101  \n",
    "  \n",
    "# Global variable in function  \n",
    "def mainFunction():  \n",
    "    \n",
    "    # printing a global variable  \n",
    "    global x \n",
    "    \n",
    "    print(x)  \n",
    "    \n",
    "    # modifying a global variable  \n",
    "    x = 'Welcome To Python programming'  \n",
    "    print(x)  \n",
    "  \n",
    "mainFunction()  \n",
    "print(x)"
   ]
  },
  {
   "cell_type": "markdown",
   "id": "sharing-brick",
   "metadata": {},
   "source": [
    "<br>"
   ]
  },
  {
   "cell_type": "markdown",
   "id": "hawaiian-robertson",
   "metadata": {},
   "source": [
    "## 7. Deleting a Variable\n",
    "We can delete the variable using the del keyword."
   ]
  },
  {
   "cell_type": "code",
   "execution_count": 51,
   "id": "civilian-pricing",
   "metadata": {},
   "outputs": [
    {
     "name": "stdout",
     "output_type": "stream",
     "text": [
      "6\n"
     ]
    }
   ],
   "source": [
    "# Assigning a value to x  \n",
    "x = 6  \n",
    "\n",
    "print(x)  \n",
    "# deleting a variable.   \n",
    "\n",
    "del x  \n",
    "# print(x) "
   ]
  },
  {
   "cell_type": "code",
   "execution_count": 52,
   "id": "empty-enemy",
   "metadata": {},
   "outputs": [
    {
     "ename": "NameError",
     "evalue": "name 'x' is not defined",
     "output_type": "error",
     "traceback": [
      "\u001b[1;31m---------------------------------------------------------------------------\u001b[0m",
      "\u001b[1;31mNameError\u001b[0m                                 Traceback (most recent call last)",
      "\u001b[1;32m<ipython-input-52-fc17d851ef81>\u001b[0m in \u001b[0;36m<module>\u001b[1;34m\u001b[0m\n\u001b[1;32m----> 1\u001b[1;33m \u001b[0mprint\u001b[0m\u001b[1;33m(\u001b[0m\u001b[0mx\u001b[0m\u001b[1;33m)\u001b[0m\u001b[1;33m\u001b[0m\u001b[1;33m\u001b[0m\u001b[0m\n\u001b[0m",
      "\u001b[1;31mNameError\u001b[0m: name 'x' is not defined"
     ]
    }
   ],
   "source": [
    "print(x)"
   ]
  },
  {
   "cell_type": "markdown",
   "id": "eligible-bouquet",
   "metadata": {},
   "source": [
    "<br>"
   ]
  },
  {
   "cell_type": "markdown",
   "id": "internal-webcam",
   "metadata": {},
   "source": [
    "## 8. Maximum Possible Value of an Integer in Python\n",
    "Unlike the other programming languages, Python doesn't have long int or float data types. It treats all integer values as an int data type."
   ]
  },
  {
   "cell_type": "code",
   "execution_count": 54,
   "id": "olympic-reliance",
   "metadata": {},
   "outputs": [
    {
     "name": "stdout",
     "output_type": "stream",
     "text": [
      "<class 'int'>\n",
      "10000000000000000000000000000000000000000001\n"
     ]
    }
   ],
   "source": [
    "# A Python program to display that we can store large numbers in Python  \n",
    "  \n",
    "a = 10000000000000000000000000000000000000000000  \n",
    "a = a + 1  \n",
    "print(type(a))  \n",
    "print (a) "
   ]
  },
  {
   "cell_type": "markdown",
   "id": "connected-airplane",
   "metadata": {},
   "source": [
    "Python doesn't have any special data type to store larger numbers."
   ]
  },
  {
   "cell_type": "markdown",
   "id": "reserved-delivery",
   "metadata": {},
   "source": [
    "<br>"
   ]
  },
  {
   "cell_type": "markdown",
   "id": "matched-foster",
   "metadata": {},
   "source": [
    "## 9. Print Single and Multiple Variables in Python\n",
    "We can print multiple variables within the single print statement."
   ]
  },
  {
   "cell_type": "code",
   "execution_count": 55,
   "id": "dental-opening",
   "metadata": {},
   "outputs": [
    {
     "name": "stdout",
     "output_type": "stream",
     "text": [
      "5\n",
      "5\n"
     ]
    }
   ],
   "source": [
    "# printing single value   \n",
    "a = 5  \n",
    "print(a)  \n",
    "print((a))  "
   ]
  },
  {
   "cell_type": "code",
   "execution_count": 57,
   "id": "white-particle",
   "metadata": {},
   "outputs": [
    {
     "name": "stdout",
     "output_type": "stream",
     "text": [
      "5 6\n",
      "1 2 3 4 5 6 7 8\n"
     ]
    }
   ],
   "source": [
    "a = 5  \n",
    "b = 6  \n",
    "# printing multiple variables  \n",
    "print(a,b)  \n",
    "# separate the variables by the comma  \n",
    "print(1, 2, 3, 4, 5, 6, 7, 8)"
   ]
  },
  {
   "cell_type": "markdown",
   "id": "forced-decrease",
   "metadata": {},
   "source": [
    "<br>\n",
    "<br>"
   ]
  },
  {
   "cell_type": "markdown",
   "id": "postal-fairy",
   "metadata": {},
   "source": [
    "<h1 align=\"center\" style = \"color:red\">Python Data Types</h1>"
   ]
  },
  {
   "cell_type": "markdown",
   "id": "indie-nudist",
   "metadata": {},
   "source": [
    "Variables can hold values, and every value has a data-type. Python is a dynamically typed language; hence we do not need to define the type of the variable while declaring it. The interpreter implicitly binds the value with its type.\n",
    "The variable a holds integer value five and we did not define its type. Python interpreter will automatically interpret variables a as an integer type."
   ]
  },
  {
   "cell_type": "code",
   "execution_count": 58,
   "id": "inclusive-commissioner",
   "metadata": {},
   "outputs": [
    {
     "name": "stdout",
     "output_type": "stream",
     "text": [
      "<class 'int'>\n",
      "<class 'str'>\n",
      "<class 'float'>\n",
      "<class 'int'>\n"
     ]
    }
   ],
   "source": [
    "x = 5\n",
    "a=10  \n",
    "b=\"Hi Python\"  \n",
    "c = 10.5  \n",
    "print(type(a))  \n",
    "print(type(b))  \n",
    "print(type(c))  \n",
    "print(type(x))"
   ]
  },
  {
   "cell_type": "markdown",
   "id": "enormous-sphere",
   "metadata": {},
   "source": [
    "![](5.png)"
   ]
  },
  {
   "cell_type": "markdown",
   "id": "furnished-italic",
   "metadata": {},
   "source": [
    "A variable can hold different types of values. For example, a person's name must be stored as a string whereas its id must be stored as an integer.\n",
    "Python provides various standard data types that define the storage method on each of them."
   ]
  },
  {
   "cell_type": "markdown",
   "id": "ahead-content",
   "metadata": {},
   "source": [
    "![](7.jpeg)"
   ]
  },
  {
   "cell_type": "markdown",
   "id": "dangerous-eligibility",
   "metadata": {},
   "source": [
    "## Numbers:\n",
    "Number stores numeric values. The integer, float, and complex values belong to a Python Numbers data-type. Python provides the type() function to know the data-type of the variable."
   ]
  },
  {
   "cell_type": "code",
   "execution_count": 59,
   "id": "threatened-contemporary",
   "metadata": {},
   "outputs": [
    {
     "name": "stdout",
     "output_type": "stream",
     "text": [
      "The type of a <class 'int'>\n",
      "The type of b <class 'float'>\n",
      "The type of c <class 'complex'>\n"
     ]
    }
   ],
   "source": [
    "a = 5  \n",
    "print(\"The type of a\", type(a))  \n",
    "  \n",
    "b = 40.5  \n",
    "print(\"The type of b\", type(b))  \n",
    "  \n",
    "c = 1+3j  \n",
    "print(\"The type of c\", type(c))  "
   ]
  },
  {
   "cell_type": "markdown",
   "id": "becoming-import",
   "metadata": {},
   "source": [
    "Python supports three types of numeric data.\n",
    "\n",
    "1. Int - Integer value can be any length such as integers 10, 2, 29, -20, -150 etc. Python has no restriction on the length of an integer. Its value belongs to int\n",
    "2. Float - Float is used to store floating-point numbers like 1.9, 9.902, 15.2, etc. It is accurate upto 15 decimal points.\n",
    "3. complex - A complex number contains an ordered pair, i.e., x + iy where x and y denote the real and imaginary parts, respectively. The complex numbers like 2.14j, 2.0 + 2.3j, etc.\n",
    "4. Boolean: Also known as bool data type allows us to choose between two values: True and False. Booleans have the type bool. A Boolean is used to determine whether the logic of an expression or a comparison is correct. It plays a huge role in data comparisons."
   ]
  },
  {
   "cell_type": "code",
   "execution_count": 61,
   "id": "characteristic-image",
   "metadata": {},
   "outputs": [
    {
     "name": "stdout",
     "output_type": "stream",
     "text": [
      "False\n"
     ]
    }
   ],
   "source": [
    "print(5<2)"
   ]
  },
  {
   "cell_type": "code",
   "execution_count": 62,
   "id": "removable-jaguar",
   "metadata": {},
   "outputs": [
    {
     "name": "stdout",
     "output_type": "stream",
     "text": [
      "<class 'int'>\n",
      "<class 'float'>\n",
      "<class 'complex'>\n",
      "<class 'bool'>\n"
     ]
    }
   ],
   "source": [
    "w = 10\n",
    "x = 20.5\n",
    "y = complex(3, 2)  \n",
    "y = 3 + 2j\n",
    "z = True\n",
    "print(type(w))\n",
    "print(type(x))\n",
    "print(type(y))\n",
    "print(type(z))"
   ]
  },
  {
   "cell_type": "code",
   "execution_count": 15,
   "id": "comparative-nicaragua",
   "metadata": {},
   "outputs": [
    {
     "name": "stdout",
     "output_type": "stream",
     "text": [
      "True\n",
      "<class 'bool'>\n"
     ]
    }
   ],
   "source": [
    "# Example of Boolean data type \n",
    "y = 10 < 100\n",
    "print(y)\n",
    "print(type(y))"
   ]
  },
  {
   "cell_type": "code",
   "execution_count": 63,
   "id": "united-dollar",
   "metadata": {},
   "outputs": [
    {
     "name": "stdout",
     "output_type": "stream",
     "text": [
      "True\n",
      "False\n"
     ]
    }
   ],
   "source": [
    "a = True\n",
    "print(a)\n",
    "b = False\n",
    "print(b)"
   ]
  },
  {
   "cell_type": "code",
   "execution_count": 65,
   "id": "manufactured-mumbai",
   "metadata": {},
   "outputs": [
    {
     "name": "stdout",
     "output_type": "stream",
     "text": [
      "True\n",
      "False\n",
      "True\n",
      "False\n"
     ]
    }
   ],
   "source": [
    "# In Python, True represents the value as 1 and False as 0. \n",
    "print(bool(1))\n",
    "print(bool(0))\n",
    "\n",
    "print(bool(True))\n",
    "print(bool(False))"
   ]
  },
  {
   "cell_type": "markdown",
   "id": "removed-interaction",
   "metadata": {},
   "source": [
    "## 3. Conversion/Type Casting\n",
    "- **Implicit Type Conversion:** While performing arithmetic operations, integers are automatically converted to `float` if any of the operands is a `float`. Also, the division operator `/` always returns a `float`, even if both operands are integers. Use the `//` operator if you want the result of the division to be an `int`.\n",
    "- **Explicit Type Conversion or Type Casting** refers to the conversion of an object from one data type to another"
   ]
  },
  {
   "cell_type": "code",
   "execution_count": 68,
   "id": "lesbian-satellite",
   "metadata": {},
   "outputs": [
    {
     "name": "stdout",
     "output_type": "stream",
     "text": [
      "95.2\n"
     ]
    }
   ],
   "source": [
    "age = 21\n",
    "marks = 74.2\n",
    "c = age+marks\n",
    "print(c)"
   ]
  },
  {
   "cell_type": "code",
   "execution_count": 70,
   "id": "agreed-feature",
   "metadata": {},
   "outputs": [
    {
     "name": "stdout",
     "output_type": "stream",
     "text": [
      "7.875\n",
      "7\n"
     ]
    }
   ],
   "source": [
    "number1 = 63\n",
    "number2 = 8\n",
    "print(number1/number2)\n",
    "print(number1//number2)"
   ]
  },
  {
   "cell_type": "code",
   "execution_count": 67,
   "id": "plain-xerox",
   "metadata": {},
   "outputs": [
    {
     "name": "stdout",
     "output_type": "stream",
     "text": [
      "21Ehtisham\n"
     ]
    }
   ],
   "source": [
    "age = 21\n",
    "name = \"Ehtisham\"\n",
    "print(str(age)+name)"
   ]
  },
  {
   "cell_type": "markdown",
   "id": "relevant-technical",
   "metadata": {},
   "source": [
    "### a. Implicit Type Conversion"
   ]
  },
  {
   "cell_type": "code",
   "execution_count": 71,
   "id": "celtic-characteristic",
   "metadata": {},
   "outputs": [
    {
     "data": {
      "text/plain": [
       "(int, float)"
      ]
     },
     "execution_count": 71,
     "metadata": {},
     "output_type": "execute_result"
    }
   ],
   "source": [
    "a = 2 + 3\n",
    "b = 2 + 3.0\n",
    "type(a), type(b)"
   ]
  },
  {
   "cell_type": "code",
   "execution_count": 72,
   "id": "floppy-guarantee",
   "metadata": {},
   "outputs": [
    {
     "data": {
      "text/plain": [
       "(int, float)"
      ]
     },
     "execution_count": 72,
     "metadata": {},
     "output_type": "execute_result"
    }
   ],
   "source": [
    "a = 3 * 5\n",
    "b = 3 * 5.0\n",
    "type(a), type(b)"
   ]
  },
  {
   "cell_type": "code",
   "execution_count": 74,
   "id": "different-satisfaction",
   "metadata": {},
   "outputs": [
    {
     "name": "stdout",
     "output_type": "stream",
     "text": [
      "<class 'float'> <class 'float'>\n",
      "2.0 2.0\n"
     ]
    }
   ],
   "source": [
    "a = 4/2\n",
    "b = 4/2.0\n",
    "print(type(a), type(b))\n",
    "print(a,b)"
   ]
  },
  {
   "cell_type": "markdown",
   "id": "handy-sydney",
   "metadata": {},
   "source": [
    "### Explicit Type Conversion (Type Casting)"
   ]
  },
  {
   "cell_type": "markdown",
   "id": "electoral-semiconductor",
   "metadata": {},
   "source": [
    "####  Convert to Integer using ` int (a)`  function"
   ]
  },
  {
   "cell_type": "markdown",
   "id": "industrial-gamma",
   "metadata": {},
   "source": [
    "### int() Function:    \n",
    "    The int() method is used to convert a string to an integer in Python. This can be useful if you need to store a value as an integer or perform mathematical operations on a value stored as a string."
   ]
  },
  {
   "cell_type": "code",
   "execution_count": 86,
   "id": "express-federation",
   "metadata": {},
   "outputs": [
    {
     "name": "stdout",
     "output_type": "stream",
     "text": [
      "<class 'str'> <class 'int'>\n",
      "77\n"
     ]
    }
   ],
   "source": [
    "a = \"32\"\n",
    "b = 45\n",
    "print(type(a), type(b))\n",
    "c = int(a)+b\n",
    "print(c)"
   ]
  },
  {
   "cell_type": "markdown",
   "id": "american-steering",
   "metadata": {},
   "source": [
    "### float() Function:\n",
    "     The float() method is a built-in Python function that is used to convert an integer or a string to a floating-point value."
   ]
  },
  {
   "cell_type": "code",
   "execution_count": 88,
   "id": "hindu-guess",
   "metadata": {},
   "outputs": [
    {
     "name": "stdout",
     "output_type": "stream",
     "text": [
      "13\n",
      "13.0\n"
     ]
    }
   ],
   "source": [
    "a = 5\n",
    "b =8\n",
    "c = a+b\n",
    "print(c)\n",
    "print(float(c))"
   ]
  },
  {
   "cell_type": "markdown",
   "id": "applied-spain",
   "metadata": {},
   "source": [
    "### str() Function\n",
    "     The str() function converts the specified value into a string."
   ]
  },
  {
   "cell_type": "code",
   "execution_count": 90,
   "id": "gorgeous-italic",
   "metadata": {},
   "outputs": [
    {
     "name": "stdout",
     "output_type": "stream",
     "text": [
      "<class 'str'> 21\n"
     ]
    }
   ],
   "source": [
    "x = '21'\n",
    "print(type(x), x)"
   ]
  },
  {
   "cell_type": "code",
   "execution_count": 91,
   "id": "maritime-method",
   "metadata": {},
   "outputs": [
    {
     "data": {
      "text/plain": [
       "(int, 21)"
      ]
     },
     "execution_count": 91,
     "metadata": {},
     "output_type": "execute_result"
    }
   ],
   "source": [
    "y = int(x)\n",
    "type(y), y"
   ]
  },
  {
   "cell_type": "code",
   "execution_count": 92,
   "id": "collective-england",
   "metadata": {},
   "outputs": [
    {
     "data": {
      "text/plain": [
       "(bool, True)"
      ]
     },
     "execution_count": 92,
     "metadata": {},
     "output_type": "execute_result"
    }
   ],
   "source": [
    "z = bool(-5)\n",
    "type(z), z"
   ]
  },
  {
   "cell_type": "code",
   "execution_count": 97,
   "id": "clear-jackson",
   "metadata": {},
   "outputs": [
    {
     "data": {
      "text/plain": [
       "(int, 54)"
      ]
     },
     "execution_count": 97,
     "metadata": {},
     "output_type": "execute_result"
    }
   ],
   "source": [
    "####  Convert to Float  using  `float (a)` function\n",
    "a = 54\n",
    "type(a), a"
   ]
  },
  {
   "cell_type": "code",
   "execution_count": 98,
   "id": "failing-safety",
   "metadata": {},
   "outputs": [
    {
     "data": {
      "text/plain": [
       "(float, 54.0)"
      ]
     },
     "execution_count": 98,
     "metadata": {},
     "output_type": "execute_result"
    }
   ],
   "source": [
    "b = float(a)\n",
    "type(b), b"
   ]
  },
  {
   "cell_type": "code",
   "execution_count": 99,
   "id": "earned-brown",
   "metadata": {},
   "outputs": [
    {
     "data": {
      "text/plain": [
       "(140732289387856, 2892982834928)"
      ]
     },
     "execution_count": 99,
     "metadata": {},
     "output_type": "execute_result"
    }
   ],
   "source": [
    "# Note that a and be are two different objects\n",
    "id(a), id(b)"
   ]
  },
  {
   "cell_type": "code",
   "execution_count": 100,
   "id": "waiting-fourth",
   "metadata": {},
   "outputs": [
    {
     "data": {
      "text/plain": [
       "(int, 341)"
      ]
     },
     "execution_count": 100,
     "metadata": {},
     "output_type": "execute_result"
    }
   ],
   "source": [
    "num = 341\n",
    "type(num), num"
   ]
  },
  {
   "cell_type": "code",
   "execution_count": 101,
   "id": "false-adjustment",
   "metadata": {},
   "outputs": [
    {
     "data": {
      "text/plain": [
       "(str, '341')"
      ]
     },
     "execution_count": 101,
     "metadata": {},
     "output_type": "execute_result"
    }
   ],
   "source": [
    "mystr = str(num)\n",
    "type(mystr), mystr"
   ]
  },
  {
   "cell_type": "code",
   "execution_count": 102,
   "id": "desirable-lloyd",
   "metadata": {},
   "outputs": [
    {
     "data": {
      "text/plain": [
       "(complex, (2.6+3.2j))"
      ]
     },
     "execution_count": 102,
     "metadata": {},
     "output_type": "execute_result"
    }
   ],
   "source": [
    "####  Convert two Floats to Complex Data type  using  `complex (a, b)`  function\n",
    "a = 2.6\n",
    "b = 3.2\n",
    "x = complex(a,b)\n",
    "type(x), x"
   ]
  },
  {
   "cell_type": "code",
   "execution_count": 105,
   "id": "dietary-lawrence",
   "metadata": {},
   "outputs": [
    {
     "ename": "TypeError",
     "evalue": "'str' object does not support item assignment",
     "output_type": "error",
     "traceback": [
      "\u001b[1;31m---------------------------------------------------------------------------\u001b[0m",
      "\u001b[1;31mTypeError\u001b[0m                                 Traceback (most recent call last)",
      "\u001b[1;32m<ipython-input-105-7e230aa1555a>\u001b[0m in \u001b[0;36m<module>\u001b[1;34m\u001b[0m\n\u001b[0;32m      1\u001b[0m \u001b[0mstring\u001b[0m \u001b[1;33m=\u001b[0m \u001b[1;34m\"Ehtisham Sadiq\"\u001b[0m\u001b[1;33m\u001b[0m\u001b[1;33m\u001b[0m\u001b[0m\n\u001b[1;32m----> 2\u001b[1;33m \u001b[0mstring\u001b[0m\u001b[1;33m[\u001b[0m\u001b[1;36m3\u001b[0m\u001b[1;33m]\u001b[0m\u001b[1;33m=\u001b[0m\u001b[1;34m'u'\u001b[0m\u001b[1;33m\u001b[0m\u001b[1;33m\u001b[0m\u001b[0m\n\u001b[0m",
      "\u001b[1;31mTypeError\u001b[0m: 'str' object does not support item assignment"
     ]
    }
   ],
   "source": [
    "string = \"Ehtisham Sadiq\"\n",
    "string[3]='u'"
   ]
  },
  {
   "cell_type": "code",
   "execution_count": 110,
   "id": "threatened-threat",
   "metadata": {},
   "outputs": [
    {
     "data": {
      "text/plain": [
       "[3, 4, 5, 98, 7, 8]"
      ]
     },
     "execution_count": 110,
     "metadata": {},
     "output_type": "execute_result"
    }
   ],
   "source": [
    "list1 = list(range(3,9))\n",
    "list1[3]=98\n",
    "list1"
   ]
  },
  {
   "cell_type": "markdown",
   "id": "satisfactory-occurrence",
   "metadata": {},
   "source": [
    "## input function"
   ]
  },
  {
   "cell_type": "code",
   "execution_count": 114,
   "id": "multiple-beatles",
   "metadata": {},
   "outputs": [
    {
     "name": "stdout",
     "output_type": "stream",
     "text": [
      "Enter your age :21\n",
      "<class 'int'>\n",
      "21\n"
     ]
    }
   ],
   "source": [
    "age = int(input(\"Enter your age :\"))\n",
    "print(type(age))\n",
    "print(age)"
   ]
  },
  {
   "cell_type": "code",
   "execution_count": null,
   "id": "english-innocent",
   "metadata": {},
   "outputs": [],
   "source": []
  },
  {
   "cell_type": "markdown",
   "id": "hired-helmet",
   "metadata": {},
   "source": [
    "## Check your Concepts\n",
    "\n",
    "Try answering the following questions to test your understanding of the topics covered in this notebook:\n",
    "\n",
    "1. What is a variable in Python?\n",
    "2. How do you create a variable?\n",
    "3. How do you check the value within a variable?\n",
    "4. How do you create multiple variables in a single statement?\n",
    "5. How do you create multiple variables with the same value?\n",
    "6. How do you change the value of a variable?\n",
    "7. How do you reassign a variable by modifying the previous value?\n",
    "8. What are the rules for naming a variable?\n",
    "9. Are variable names case-sensitive? Do `a_variable`, `A_Variable`, and `A_VARIABLE` represent the same variable or different ones?\n",
    "10. How do you check the data type of a variable?\n",
    "11. What are the built-in data types in Python?\n",
    "12. What kind of data does the Integer data type represent?\n",
    "13. What are the numerical limits of the integer data type?\n",
    "14. What kind of data does the float data type represent?\n",
    "15. How does Python decide if a given number is a float or an integer?\n",
    "16. How can you create a variable which stores a whole number, e.g., 4 but has the float data type?\n",
    "17. What are the differences between integers and floats?\n",
    "18. How do you convert an integer to a float?\n",
    "19. How do you convert a float to an integer?\n",
    "20. What is the result obtained when you convert 1.99 to an integer?\n",
    "21. What are the data types of the results of the division operators `/` and `//`?\n",
    "22. What kind of data does the Boolean data type represent?\n",
    "23. Which types of Python operators return booleans as a result?\n",
    "24. What happens if you try to use a boolean in arithmetic operation?\n",
    "25. How can any value in Python be covered to a boolean?"
   ]
  },
  {
   "cell_type": "markdown",
   "id": "developed-thailand",
   "metadata": {},
   "source": [
    "# print()\n",
    "1. buitl-in functions\n",
    "2. user define functions"
   ]
  },
  {
   "cell_type": "code",
   "execution_count": null,
   "id": "inclusive-pursuit",
   "metadata": {},
   "outputs": [],
   "source": []
  },
  {
   "cell_type": "code",
   "execution_count": null,
   "id": "diverse-segment",
   "metadata": {},
   "outputs": [],
   "source": []
  },
  {
   "cell_type": "code",
   "execution_count": null,
   "id": "smooth-iceland",
   "metadata": {},
   "outputs": [],
   "source": []
  },
  {
   "cell_type": "code",
   "execution_count": null,
   "id": "comparative-episode",
   "metadata": {},
   "outputs": [],
   "source": []
  },
  {
   "cell_type": "code",
   "execution_count": null,
   "id": "industrial-nebraska",
   "metadata": {},
   "outputs": [],
   "source": []
  },
  {
   "cell_type": "code",
   "execution_count": null,
   "id": "martial-fashion",
   "metadata": {},
   "outputs": [],
   "source": []
  }
 ],
 "metadata": {
  "kernelspec": {
   "display_name": "Python 3",
   "language": "python",
   "name": "python3"
  },
  "language_info": {
   "codemirror_mode": {
    "name": "ipython",
    "version": 3
   },
   "file_extension": ".py",
   "mimetype": "text/x-python",
   "name": "python",
   "nbconvert_exporter": "python",
   "pygments_lexer": "ipython3",
   "version": "3.8.7"
  }
 },
 "nbformat": 4,
 "nbformat_minor": 5
}
