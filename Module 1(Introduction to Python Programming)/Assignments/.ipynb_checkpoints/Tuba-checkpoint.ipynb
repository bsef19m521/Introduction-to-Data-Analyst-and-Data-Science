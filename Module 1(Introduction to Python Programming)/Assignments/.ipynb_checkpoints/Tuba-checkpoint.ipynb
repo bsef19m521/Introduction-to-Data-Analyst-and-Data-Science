{
 "cells": [
  {
   "cell_type": "markdown",
   "id": "sensitive-electron",
   "metadata": {},
   "source": [
    "<h1 align=\"center\">Introduction to Data Analyst and Data Science for Beginners</h1>\n",
    "<br>\n",
    "<h3 align=\"center\" >Lecture no 02</h3>"
   ]
  },
  {
   "cell_type": "markdown",
   "id": "hired-helmet",
   "metadata": {},
   "source": [
    "## Check your Concepts\n",
    "\n",
    "Try answering the following questions to test your understanding of the topics covered in this notebook:\n",
    "\n",
    "1. What is a variable in Python?\n",
    "2. How do you create a variable?\n",
    "3. How do you check the value within a variable?\n",
    "4. How do you create multiple variables in a single statement?\n",
    "5. How do you create multiple variables with the same value?\n",
    "6. How do you change the value of a variable?\n",
    "7. How do you reassign a variable by modifying the previous value?\n",
    "8. What are the rules for naming a variable?\n",
    "9. Are variable names case-sensitive? Do `a_variable`, `A_Variable`, and `A_VARIABLE` represent the same variable or different ones?\n",
    "10. How do you check the data type of a variable?\n",
    "11. What are the built-in data types in Python?\n",
    "12. What kind of data does the Integer data type represent?\n",
    "13. What are the numerical limits of the integer data type?\n",
    "14. What kind of data does the float data type represent?\n",
    "15. How does Python decide if a given number is a float or an integer?\n",
    "16. How can you create a variable which stores a whole number, e.g., 4 but has the float data type?\n",
    "17. What are the differences between integers and floats?\n",
    "18. How do you convert an integer to a float?\n",
    "19. How do you convert a float to an integer?\n",
    "20. What is the result obtained when you convert 1.99 to an integer?\n",
    "21. What are the data types of the results of the division operators `/` and `//`?\n",
    "22. What kind of data does the Boolean data type represent?\n",
    "23. Which types of Python operators return booleans as a result?\n",
    "24. What happens if you try to use a boolean in arithmetic operation?\n",
    "25. How can any value in Python be covered to a boolean?"
   ]
  },
  {
   "cell_type": "markdown",
   "id": "developed-thailand",
   "metadata": {},
   "source": [
    "# print()\n",
    "1. buitl-in functions\n",
    "2. user define functions"
   ]
  },
  {
   "cell_type": "markdown",
   "id": "diverse-segment",
   "metadata": {},
   "source": [
    "<h1 align=\"center\"> ANSWERS </h1>\n"
   ]
  },
  {
   "cell_type": "markdown",
   "id": "9ad8e214",
   "metadata": {},
   "source": [
    "### Que no 1\n",
    "Variable is a letter or a word to which we assign a value.\n",
    "### Que no 2\n",
    " A variable is created by assigning a value.\n",
    " For example:"
   ]
  },
  {
   "cell_type": "code",
   "execution_count": null,
   "id": "smooth-iceland",
   "metadata": {},
   "outputs": [],
   "source": [
    "a=12\n",
    "b=11"
   ]
  },
  {
   "cell_type": "markdown",
   "id": "1e2be281",
   "metadata": {},
   "source": [
    "### Que no 3"
   ]
  },
  {
   "cell_type": "code",
   "execution_count": null,
   "id": "0136dd1f",
   "metadata": {},
   "outputs": [],
   "source": [
    "a=11\n",
    "print(id(a))"
   ]
  },
  {
   "cell_type": "markdown",
   "id": "comparative-episode",
   "metadata": {},
   "source": [
    "### Que no 4\n",
    "For example"
   ]
  },
  {
   "cell_type": "code",
   "execution_count": null,
   "id": "industrial-nebraska",
   "metadata": {},
   "outputs": [],
   "source": [
    "a,b,c,d,e=12,24,34,45,55\n"
   ]
  },
  {
   "cell_type": "markdown",
   "id": "bfcc6716",
   "metadata": {},
   "source": [
    "### Que no 5"
   ]
  },
  {
   "cell_type": "code",
   "execution_count": null,
   "id": "08fc3144",
   "metadata": {},
   "outputs": [],
   "source": [
    "a=11\n",
    "b=12\n",
    "print(id(a))\n",
    "print(id(b))"
   ]
  },
  {
   "cell_type": "markdown",
   "id": "9bdd09d1",
   "metadata": {},
   "source": [
    "### Que no 7"
   ]
  },
  {
   "cell_type": "code",
   "execution_count": null,
   "id": "cec6a7e0",
   "metadata": {},
   "outputs": [],
   "source": [
    "a = 11  \n",
    "b = a  \n",
    "print(id(a))  \n",
    "print(id(b))   \n",
    "a = 500  \n",
    "print(id(a))  "
   ]
  },
  {
   "cell_type": "markdown",
   "id": "3efa083f",
   "metadata": {},
   "source": [
    "### Que no 8\n",
    "##### Rules for naming variables\n",
    "1. A variable name must start with a letter or the underscore character.\n",
    "2. A variable name cannot start with a number.\n",
    "3. A variable name can only contain alpha-numeric characters and underscores (A-z, 0-9, and _ ).\n",
    "4. Variable names are case-sensitive (name, Name and NAME are three different variables).\n",
    "5. The reserved words(keywords) cannot be used naming the variable."
   ]
  },
  {
   "cell_type": "markdown",
   "id": "80579a6b",
   "metadata": {},
   "source": [
    "### que no 9\n",
    "The given represents different variables.\n"
   ]
  },
  {
   "cell_type": "markdown",
   "id": "b8594fe5",
   "metadata": {},
   "source": [
    "### Que no 10\n"
   ]
  },
  {
   "cell_type": "code",
   "execution_count": null,
   "id": "4917d764",
   "metadata": {},
   "outputs": [],
   "source": [
    "a=43.4\n",
    "print(type(a))"
   ]
  },
  {
   "cell_type": "markdown",
   "id": "45bd2d53",
   "metadata": {},
   "source": [
    "### Que no 11\n",
    "1. ext Type\n",
    "2. Numeric Types\n",
    "3. Sequence Types\n",
    "4. Mapping Type\n",
    "5. Set Types\n",
    "6. Boolean Type\n",
    "7. Binary Types\t"
   ]
  },
  {
   "cell_type": "markdown",
   "id": "d0d590c8",
   "metadata": {},
   "source": [
    "### Que no 12\n",
    "Numeric type(without fraction or decimal) of data is represneted by int.\n"
   ]
  },
  {
   "cell_type": "markdown",
   "id": "04fb5a39",
   "metadata": {},
   "source": [
    "### Que no 13\n",
    "In Python, there's no limit to how long integer values are often."
   ]
  },
  {
   "cell_type": "markdown",
   "id": "31cdabbb",
   "metadata": {},
   "source": [
    "### Que no 14\n",
    "Decimal(numeric type) of data is represented by float."
   ]
  },
  {
   "cell_type": "markdown",
   "id": "af4abfa3",
   "metadata": {},
   "source": [
    "### Que no 15\n",
    "By using type function.\n"
   ]
  },
  {
   "cell_type": "markdown",
   "id": "43179aa5",
   "metadata": {},
   "source": [
    "### Que no 16\n",
    "by using // "
   ]
  },
  {
   "cell_type": "markdown",
   "id": "a36c2ba5",
   "metadata": {},
   "source": [
    "### Que no 17\n",
    "#### Integers and Floats: \n",
    " * Integers and floats are two different kinds of numerical data. \n",
    " * An integer (more commonly called an int) is a number without \n",
    " * a decimal point. A float is a floating-point number, which means \n",
    " * it is a number that has a decimal place. Floats are used when\n",
    " * more precision is needed. "
   ]
  },
  {
   "cell_type": "markdown",
   "id": "35e17856",
   "metadata": {},
   "source": [
    "### Que no 18"
   ]
  },
  {
   "cell_type": "code",
   "execution_count": null,
   "id": "13fba5b1",
   "metadata": {},
   "outputs": [],
   "source": [
    "a = 5\n",
    "b =4\n",
    "c = a*b\n",
    "print(c)\n",
    "print(float(c))"
   ]
  },
  {
   "cell_type": "markdown",
   "id": "1c3c263f",
   "metadata": {},
   "source": [
    "### Que no 19"
   ]
  },
  {
   "cell_type": "code",
   "execution_count": null,
   "id": "3c4be500",
   "metadata": {},
   "outputs": [],
   "source": [
    "a = 23.4\n",
    "b =33.2\n",
    "c = a+b\n",
    "print(c)\n",
    "print(int(c))"
   ]
  },
  {
   "cell_type": "markdown",
   "id": "72f80d4c",
   "metadata": {},
   "source": [
    "### Que no 20"
   ]
  },
  {
   "cell_type": "code",
   "execution_count": null,
   "id": "73bd3bc8",
   "metadata": {},
   "outputs": [],
   "source": [
    "a=1.99\n",
    "print(int(a))"
   ]
  },
  {
   "cell_type": "markdown",
   "id": "cbddadfe",
   "metadata": {},
   "source": [
    "### Que no 21\n",
    "The results of the division operators `/` and `//` is in float and in integer respectively."
   ]
  },
  {
   "cell_type": "markdown",
   "id": "6db43265",
   "metadata": {},
   "source": [
    "### Que no 22\n",
    "The Boolean data type represent true or false statement."
   ]
  },
  {
   "cell_type": "markdown",
   "id": "145b7ad1",
   "metadata": {},
   "source": [
    "### Que no 23\n",
    "Following types of Python operators return booleans as a result:\n",
    "* < > \n"
   ]
  },
  {
   "cell_type": "markdown",
   "id": "482b2e8d",
   "metadata": {},
   "source": [
    "### Que no 24\n",
    "An error is occured beacause in the world of Boolean algebra, there are only two possible values for any quantity and for any arithmetic operation: 1 or 0."
   ]
  },
  {
   "cell_type": "markdown",
   "id": "4a94a501",
   "metadata": {},
   "source": [
    "### Que no 25\n",
    "The boolean data type is either True or False. In Python, boolean variables are defined by the True and False keywords.\n"
   ]
  },
  {
   "cell_type": "code",
   "execution_count": 1,
   "id": "0dd49c66",
   "metadata": {},
   "outputs": [
    {
     "name": "stdout",
     "output_type": "stream",
     "text": [
      "<class 'bool'>\n",
      "<class 'bool'>\n"
     ]
    }
   ],
   "source": [
    "a = True\n",
    "b = False\n",
    "print(type(a))\n",
    "print(type(b))"
   ]
  },
  {
   "cell_type": "code",
   "execution_count": null,
   "id": "independent-variable",
   "metadata": {},
   "outputs": [],
   "source": []
  },
  {
   "cell_type": "code",
   "execution_count": null,
   "id": "personalized-sound",
   "metadata": {},
   "outputs": [],
   "source": []
  },
  {
   "cell_type": "code",
   "execution_count": null,
   "id": "forty-copyright",
   "metadata": {},
   "outputs": [],
   "source": []
  },
  {
   "cell_type": "code",
   "execution_count": null,
   "id": "underlying-warning",
   "metadata": {},
   "outputs": [],
   "source": []
  },
  {
   "cell_type": "code",
   "execution_count": null,
   "id": "better-progress",
   "metadata": {},
   "outputs": [],
   "source": []
  },
  {
   "cell_type": "code",
   "execution_count": null,
   "id": "premier-indie",
   "metadata": {},
   "outputs": [],
   "source": []
  },
  {
   "cell_type": "code",
   "execution_count": null,
   "id": "constant-roller",
   "metadata": {},
   "outputs": [],
   "source": []
  },
  {
   "cell_type": "code",
   "execution_count": null,
   "id": "monthly-mouth",
   "metadata": {},
   "outputs": [],
   "source": []
  },
  {
   "cell_type": "code",
   "execution_count": null,
   "id": "paperback-spirituality",
   "metadata": {},
   "outputs": [],
   "source": []
  },
  {
   "cell_type": "code",
   "execution_count": 2,
   "id": "confident-heritage",
   "metadata": {},
   "outputs": [],
   "source": [
    "\n",
    "from cryptography.fernet import Fernet"
   ]
  },
  {
   "cell_type": "code",
   "execution_count": 4,
   "id": "sunset-morning",
   "metadata": {},
   "outputs": [],
   "source": [
    "def generate_key():\n",
    "    \"\"\"\n",
    "    Generates a key and save it into a file\n",
    "    \"\"\"\n",
    "    key = Fernet.generate_key()\n",
    "    with open(\"secret.key\", \"wb\") as key_file:\n",
    "        key_file.write(key)"
   ]
  },
  {
   "cell_type": "code",
   "execution_count": 5,
   "id": "prostate-donna",
   "metadata": {},
   "outputs": [],
   "source": [
    "def load_key():\n",
    "    \"\"\"\n",
    "    Load the previously generated key\n",
    "    \"\"\"\n",
    "    return open(\"secret.key\", \"rb\").read()"
   ]
  },
  {
   "cell_type": "code",
   "execution_count": 6,
   "id": "excess-parameter",
   "metadata": {},
   "outputs": [],
   "source": [
    "def encrypt_message(message):\n",
    "    \"\"\"\n",
    "    Encrypts a message\n",
    "    \"\"\"\n",
    "    key = load_key()\n",
    "    encoded_message = message.encode()\n",
    "    f = Fernet(key)\n",
    "    encrypted_message = f.encrypt(encoded_message)\n",
    "\n",
    "    print(encrypted_message)\n"
   ]
  },
  {
   "cell_type": "code",
   "execution_count": 7,
   "id": "foster-belly",
   "metadata": {},
   "outputs": [
    {
     "ename": "FileNotFoundError",
     "evalue": "[Errno 2] No such file or directory: 'secret.key'",
     "output_type": "error",
     "traceback": [
      "\u001b[1;31m---------------------------------------------------------------------------\u001b[0m",
      "\u001b[1;31mFileNotFoundError\u001b[0m                         Traceback (most recent call last)",
      "\u001b[1;32m<ipython-input-7-7e9c41ee77f8>\u001b[0m in \u001b[0;36m<module>\u001b[1;34m\u001b[0m\n\u001b[0;32m      1\u001b[0m \u001b[1;32mif\u001b[0m \u001b[0m__name__\u001b[0m \u001b[1;33m==\u001b[0m \u001b[1;34m\"__main__\"\u001b[0m\u001b[1;33m:\u001b[0m\u001b[1;33m\u001b[0m\u001b[1;33m\u001b[0m\u001b[0m\n\u001b[1;32m----> 2\u001b[1;33m     \u001b[0mencrypt_message\u001b[0m\u001b[1;33m(\u001b[0m\u001b[1;34m\"encrypt this message\"\u001b[0m\u001b[1;33m)\u001b[0m\u001b[1;33m\u001b[0m\u001b[1;33m\u001b[0m\u001b[0m\n\u001b[0m",
      "\u001b[1;32m<ipython-input-6-acabc892f942>\u001b[0m in \u001b[0;36mencrypt_message\u001b[1;34m(message)\u001b[0m\n\u001b[0;32m      3\u001b[0m     \u001b[0mEncrypts\u001b[0m \u001b[0ma\u001b[0m \u001b[0mmessage\u001b[0m\u001b[1;33m\u001b[0m\u001b[1;33m\u001b[0m\u001b[0m\n\u001b[0;32m      4\u001b[0m     \"\"\"\n\u001b[1;32m----> 5\u001b[1;33m     \u001b[0mkey\u001b[0m \u001b[1;33m=\u001b[0m \u001b[0mload_key\u001b[0m\u001b[1;33m(\u001b[0m\u001b[1;33m)\u001b[0m\u001b[1;33m\u001b[0m\u001b[1;33m\u001b[0m\u001b[0m\n\u001b[0m\u001b[0;32m      6\u001b[0m     \u001b[0mencoded_message\u001b[0m \u001b[1;33m=\u001b[0m \u001b[0mmessage\u001b[0m\u001b[1;33m.\u001b[0m\u001b[0mencode\u001b[0m\u001b[1;33m(\u001b[0m\u001b[1;33m)\u001b[0m\u001b[1;33m\u001b[0m\u001b[1;33m\u001b[0m\u001b[0m\n\u001b[0;32m      7\u001b[0m     \u001b[0mf\u001b[0m \u001b[1;33m=\u001b[0m \u001b[0mFernet\u001b[0m\u001b[1;33m(\u001b[0m\u001b[0mkey\u001b[0m\u001b[1;33m)\u001b[0m\u001b[1;33m\u001b[0m\u001b[1;33m\u001b[0m\u001b[0m\n",
      "\u001b[1;32m<ipython-input-5-152192cb0a21>\u001b[0m in \u001b[0;36mload_key\u001b[1;34m()\u001b[0m\n\u001b[0;32m      3\u001b[0m     \u001b[0mLoad\u001b[0m \u001b[0mthe\u001b[0m \u001b[0mpreviously\u001b[0m \u001b[0mgenerated\u001b[0m \u001b[0mkey\u001b[0m\u001b[1;33m\u001b[0m\u001b[1;33m\u001b[0m\u001b[0m\n\u001b[0;32m      4\u001b[0m     \"\"\"\n\u001b[1;32m----> 5\u001b[1;33m     \u001b[1;32mreturn\u001b[0m \u001b[0mopen\u001b[0m\u001b[1;33m(\u001b[0m\u001b[1;34m\"secret.key\"\u001b[0m\u001b[1;33m,\u001b[0m \u001b[1;34m\"rb\"\u001b[0m\u001b[1;33m)\u001b[0m\u001b[1;33m.\u001b[0m\u001b[0mread\u001b[0m\u001b[1;33m(\u001b[0m\u001b[1;33m)\u001b[0m\u001b[1;33m\u001b[0m\u001b[1;33m\u001b[0m\u001b[0m\n\u001b[0m",
      "\u001b[1;31mFileNotFoundError\u001b[0m: [Errno 2] No such file or directory: 'secret.key'"
     ]
    }
   ],
   "source": [
    "if __name__ == \"__main__\":\n",
    "    encrypt_message(\"encrypt this message\")"
   ]
  },
  {
   "cell_type": "code",
   "execution_count": 9,
   "id": "planned-tuner",
   "metadata": {},
   "outputs": [],
   "source": [
    "from cryptography.fernet import Fernet\n"
   ]
  },
  {
   "cell_type": "code",
   "execution_count": 10,
   "id": "divided-dallas",
   "metadata": {},
   "outputs": [
    {
     "name": "stdout",
     "output_type": "stream",
     "text": [
      "b'tsC2P_Q-nASULght-2niO2d4VSnzwbJcCb5ugX-Uho0='\n"
     ]
    }
   ],
   "source": [
    "key = Fernet.generate_key()\n",
    "\n",
    "with open('mykey.key', 'wb') as mykey:\n",
    "    mykey.write(key)\n",
    "print(key)"
   ]
  },
  {
   "cell_type": "code",
   "execution_count": null,
   "id": "municipal-group",
   "metadata": {},
   "outputs": [],
   "source": []
  }
 ],
 "metadata": {
  "kernelspec": {
   "display_name": "Python 3",
   "language": "python",
   "name": "python3"
  },
  "language_info": {
   "codemirror_mode": {
    "name": "ipython",
    "version": 3
   },
   "file_extension": ".py",
   "mimetype": "text/x-python",
   "name": "python",
   "nbconvert_exporter": "python",
   "pygments_lexer": "ipython3",
   "version": "3.8.7"
  }
 },
 "nbformat": 4,
 "nbformat_minor": 5
}
