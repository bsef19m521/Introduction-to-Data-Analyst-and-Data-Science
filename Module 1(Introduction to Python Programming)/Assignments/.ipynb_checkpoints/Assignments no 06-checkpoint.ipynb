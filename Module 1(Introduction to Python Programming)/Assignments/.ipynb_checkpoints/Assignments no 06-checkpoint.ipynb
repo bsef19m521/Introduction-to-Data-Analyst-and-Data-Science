{
 "cells": [
  {
   "cell_type": "markdown",
   "id": "c04c4f2e",
   "metadata": {},
   "source": [
    "## Write answers of all the questions according to your own concepts"
   ]
  },
  {
   "cell_type": "markdown",
   "id": "46fd7c68",
   "metadata": {},
   "source": [
    "- Name : \n",
    "- Email : "
   ]
  },
  {
   "cell_type": "markdown",
   "id": "3978a454",
   "metadata": {},
   "source": [
    "### Note: Solve all the questions using user defined functions and loops. Try to avoid to use Built-in Functions"
   ]
  },
  {
   "cell_type": "markdown",
   "id": "3609e66c",
   "metadata": {},
   "source": [
    "### Question No 01:\n",
    "You have given a file `File.txt`. Perform the following operations on the file data.\n",
    "- Read all the content of the file and store in a list.\n",
    "- Remove `spaces` from each element of list and also remove a `.` if a word/element contains.\n",
    "- Create a dictionary which stores the `key` as word/element and `value` as  occurence/frequency  of that word/element in List.\n",
    "- Sort dictionary according to the words/elements having more count/occurences\n",
    "- Display a dictionary of words having values range between 15 and 20.\n"
   ]
  },
  {
   "cell_type": "code",
   "execution_count": 1,
   "id": "76c0517c",
   "metadata": {},
   "outputs": [],
   "source": [
    "# Here write your code"
   ]
  },
  {
   "cell_type": "code",
   "execution_count": null,
   "id": "950a7d12",
   "metadata": {},
   "outputs": [],
   "source": []
  },
  {
   "cell_type": "code",
   "execution_count": null,
   "id": "e98a75f7",
   "metadata": {},
   "outputs": [],
   "source": []
  },
  {
   "cell_type": "code",
   "execution_count": null,
   "id": "1dda4aec",
   "metadata": {},
   "outputs": [],
   "source": []
  },
  {
   "cell_type": "code",
   "execution_count": null,
   "id": "ea93d7df",
   "metadata": {},
   "outputs": [],
   "source": []
  }
 ],
 "metadata": {
  "kernelspec": {
   "display_name": "Python 3",
   "language": "python",
   "name": "python3"
  },
  "language_info": {
   "codemirror_mode": {
    "name": "ipython",
    "version": 3
   },
   "file_extension": ".py",
   "mimetype": "text/x-python",
   "name": "python",
   "nbconvert_exporter": "python",
   "pygments_lexer": "ipython3",
   "version": "3.8.7"
  }
 },
 "nbformat": 4,
 "nbformat_minor": 5
}
