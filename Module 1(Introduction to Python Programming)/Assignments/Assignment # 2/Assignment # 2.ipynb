{
 "cells": [
  {
   "cell_type": "markdown",
   "id": "strong-value",
   "metadata": {},
   "source": [
    "Write your asnwers according to your concepts and after solving this assignment, submit this notebook in google classroom.\n",
    "Mention User name like this **Assignment # 2 (Name)**"
   ]
  },
  {
   "cell_type": "markdown",
   "id": "protective-damage",
   "metadata": {},
   "source": [
    "1. What does a professional programmer usually do first to gain an understanding of a\n",
    "problem?"
   ]
  },
  {
   "cell_type": "markdown",
   "id": "simple-anchor",
   "metadata": {},
   "source": [
    "Question no 01 :\n",
    "    Comments"
   ]
  },
  {
   "cell_type": "code",
   "execution_count": null,
   "id": "prompt-glenn",
   "metadata": {},
   "outputs": [],
   "source": []
  },
  {
   "cell_type": "markdown",
   "id": "efficient-privilege",
   "metadata": {},
   "source": [
    "2. If a math expression adds a float to an int, what will the data type of the result be?What is the difference between floating-point division and integer division?"
   ]
  },
  {
   "cell_type": "code",
   "execution_count": 2,
   "id": "organizational-israeli",
   "metadata": {},
   "outputs": [
    {
     "name": "stdout",
     "output_type": "stream",
     "text": [
      "6.2\n",
      "<class 'float'>\n"
     ]
    }
   ],
   "source": [
    "expr = 3.2 + 3\n",
    "print(expr)\n",
    "print(type(expr))"
   ]
  },
  {
   "cell_type": "code",
   "execution_count": 4,
   "id": "suburban-bosnia",
   "metadata": {},
   "outputs": [
    {
     "name": "stdout",
     "output_type": "stream",
     "text": [
      "1.6666666666666667\n",
      "1\n"
     ]
    }
   ],
   "source": [
    "print(5/3)\n",
    "print(5//3)"
   ]
  },
  {
   "cell_type": "markdown",
   "id": "split-lewis",
   "metadata": {},
   "source": [
    "3. Write a program in which take two numbers from user by using built-in function and perform folllowing arithmetic operation\n",
    "    i. Addition    \n",
    "    ii. Subtraction    \n",
    "    iii. Multiplication    \n",
    "    iv. Division   "
   ]
  },
  {
   "cell_type": "code",
   "execution_count": 6,
   "id": "later-failing",
   "metadata": {},
   "outputs": [
    {
     "name": "stdout",
     "output_type": "stream",
     "text": [
      "Enter first Number : 33\n",
      "Enter second number : 21\n",
      "<class 'int'>\n",
      "<class 'int'>\n"
     ]
    }
   ],
   "source": [
    "number1 = int(input(\"Enter first Number : \"))\n",
    "number2 = int(input(\"Enter second number : \"))\n",
    "print(type(number1))\n",
    "print(type(number2))"
   ]
  },
  {
   "cell_type": "code",
   "execution_count": 7,
   "id": "acute-timing",
   "metadata": {},
   "outputs": [
    {
     "name": "stdout",
     "output_type": "stream",
     "text": [
      "Addition : 54\n",
      "Subtraction :  12\n",
      "Multiplication :  693\n",
      "Division :  1.5714285714285714\n"
     ]
    }
   ],
   "source": [
    "print(\"Addition :\", number1+number2)\n",
    "print(\"Subtraction : \", number1-number2)\n",
    "print(\"Multiplication : \", number1*number2)\n",
    "print(\"Division : \", number1/number2)"
   ]
  },
  {
   "cell_type": "code",
   "execution_count": null,
   "id": "allied-prime",
   "metadata": {},
   "outputs": [],
   "source": []
  },
  {
   "cell_type": "markdown",
   "id": "personal-singer",
   "metadata": {},
   "source": [
    "4. Write a program to calculate area of triangle by using following formula , in this program takes all input from user by using built-in function.    \n",
    "\n",
    "Area of a triangle = (s*(s-a)*(s-b)*(s-c))**1/2 "
   ]
  },
  {
   "cell_type": "code",
   "execution_count": 9,
   "id": "married-direction",
   "metadata": {},
   "outputs": [
    {
     "name": "stdout",
     "output_type": "stream",
     "text": [
      "Enter length of one First side : 3\n",
      "Enter length of second side : 4\n",
      "Enter length of third side : 5\n",
      "Area of Triangle having sides  3 4 5  is :  18.0\n"
     ]
    }
   ],
   "source": [
    "a = int(input(\"Enter length of one First side : \"))\n",
    "b = int(input(\"Enter length of second side : \"))\n",
    "c = int(input(\"Enter length of third side : \"))\n",
    "# s =  a+b+c/2\n",
    "s = (a+b+c)/2\n",
    "area_of_triangle = ((s*(s-a)*(s-b)*(s-c))**1/2)\n",
    "print(\"Area of Triangle having sides \", a,b,c, ' is : ', area_of_triangle)"
   ]
  },
  {
   "cell_type": "markdown",
   "id": "gothic-shadow",
   "metadata": {},
   "source": [
    "5. Write a program in which take two numbers from user and swap them."
   ]
  },
  {
   "cell_type": "code",
   "execution_count": 13,
   "id": "developmental-savings",
   "metadata": {},
   "outputs": [
    {
     "name": "stdout",
     "output_type": "stream",
     "text": [
      "Enter First Number : 99\n",
      "Enter Second Number : 43\n",
      "99\n",
      "43\n"
     ]
    }
   ],
   "source": [
    "number1 = int(input(\"Enter First Number : \"))\n",
    "number2 = int(input(\"Enter Second Number : \"))\n",
    "print(number1)\n",
    "print(number2)"
   ]
  },
  {
   "cell_type": "code",
   "execution_count": 15,
   "id": "vanilla-float",
   "metadata": {},
   "outputs": [
    {
     "name": "stdout",
     "output_type": "stream",
     "text": [
      "Before Swapping numbers are :  99 43\n",
      "After Swapping numbers are :  43 99\n"
     ]
    }
   ],
   "source": [
    "print(\"Before Swapping numbers are : \", number1, number2)\n",
    "\n",
    "# multi-variables concept\n",
    "# a, b, c = number2,3,number1\n",
    "\n",
    "# overwrite \n",
    "number1, number2 = number2, number1\n",
    "\n",
    "# number1(23)\n",
    "# number2(55)\n",
    "\n",
    "\n",
    "print(\"After Swapping numbers are : \", number1, number2)"
   ]
  },
  {
   "cell_type": "markdown",
   "id": "impressive-upset",
   "metadata": {},
   "source": [
    "6. Write a program that prompts the user to input a Celsius temperature and outputs the equivalent temperature in Fahrenheit. The formula to convert the temperature is: **F = 9/5 C + 32** where F is the Fahrenheit temperature and C is the Celsius temperature. "
   ]
  },
  {
   "cell_type": "code",
   "execution_count": 17,
   "id": "endless-gilbert",
   "metadata": {},
   "outputs": [
    {
     "name": "stdout",
     "output_type": "stream",
     "text": [
      "Enter temperature in Celsius : 33.7\n",
      "Temperature of  33.7 in Fahrenhnite is  92.66\n"
     ]
    }
   ],
   "source": [
    "C = float(input(\"Enter temperature in Celsius : \"))\n",
    "F = (9/5)* C + 32\n",
    "print(\"Temperature of \", C,\"in Fahrenhnite is \", F)"
   ]
  },
  {
   "cell_type": "code",
   "execution_count": null,
   "id": "treated-monaco",
   "metadata": {},
   "outputs": [],
   "source": []
  },
  {
   "cell_type": "markdown",
   "id": "sixth-diana",
   "metadata": {},
   "source": [
    "7. Write a program that accepts seconds from user as integer. Your program should converts seconds in hours, minutes and seconds."
   ]
  },
  {
   "cell_type": "code",
   "execution_count": null,
   "id": "cellular-stomach",
   "metadata": {},
   "outputs": [],
   "source": []
  },
  {
   "cell_type": "markdown",
   "id": "official-diamond",
   "metadata": {},
   "source": [
    "8. Write a program which accept principle, rate and time from user and print the simple interest. The formula to calculate simple interest is:   \n",
    "**simple interest = principle x rate x time / 100**"
   ]
  },
  {
   "cell_type": "markdown",
   "id": "driving-qualification",
   "metadata": {},
   "source": [
    "## 9. Distance Traveled \n",
    "Write a program to calculate the distance traveled by a car , assuming there are no accidents or delays, the distance that a car travels down the inter-state can be calculated with the following formula:\n",
    "**Distance = Speed * Time**   \n",
    "A car is traveling at 60 miles per hour. Write a program that displays the following:  \n",
    "• The distance the car will travel in 5 hours        \n",
    "• The distance the car will travel in 8 hours     \n",
    "• The distance the car will travel in 12 hours    "
   ]
  },
  {
   "cell_type": "markdown",
   "id": "sunrise-traffic",
   "metadata": {},
   "source": [
    "## 10. Stock Transaction Program\n",
    "Last month Joe purchased some stock in Acme Software, Inc. Here are the details of the\n",
    "purchase:\n",
    "* The number of shares that Joe purchased was 1,000.    \n",
    "* When Joe purchased the stock, he paid $32.87 per share.   \n",
    "* Joe paid his stockbroker a commission that amounted to 2 percent of the amount he paid\n",
    "for the stock.   \n",
    "\n",
    "Two weeks later Joe sold the stock. Here are the details of the sale: \n",
    "* The number of shares that Joe sold was 1,000.\n",
    "* He sold the stock for $33.92 per share.\n",
    "* He paid his stockbroker another commission that amounted to 2 percent of the amount\n",
    "  he received for the stock.\n",
    "\n",
    "Write a program that displays the following information:\n",
    "* The amount of money Joe paid for the stock.\n",
    "* The amount of commission Joe paid his broker when he bought the stock.\n",
    "* The amount that Joe sold the stock for.\n",
    "* The amount of commission Joe paid his broker when he sold the stock.\n",
    "* Display the amount of money that Joe had left when he sold the stock and paid his\n",
    "  broker (both times). If this amount is positive, then Joe made a profit. If the amount is negative, then Joe lost money"
   ]
  },
  {
   "cell_type": "code",
   "execution_count": 4,
   "id": "centered-crazy",
   "metadata": {},
   "outputs": [
    {
     "data": {
      "text/plain": [
       "3.0"
      ]
     },
     "execution_count": 4,
     "metadata": {},
     "output_type": "execute_result"
    }
   ],
   "source": []
  },
  {
   "cell_type": "code",
   "execution_count": 19,
   "id": "center-intention",
   "metadata": {},
   "outputs": [
    {
     "name": "stdout",
     "output_type": "stream",
     "text": [
      "76\n",
      "76.0\n"
     ]
    }
   ],
   "source": [
    "a = 76\n",
    "b = float(a)\n",
    "print(a)\n",
    "print(b)"
   ]
  },
  {
   "cell_type": "code",
   "execution_count": 20,
   "id": "useful-latter",
   "metadata": {},
   "outputs": [
    {
     "name": "stdout",
     "output_type": "stream",
     "text": [
      "Enter your Name:ali\n"
     ]
    },
    {
     "data": {
      "text/plain": [
       "'ali'"
      ]
     },
     "execution_count": 20,
     "metadata": {},
     "output_type": "execute_result"
    }
   ],
   "source": [
    "input(\"Enter your Name:\")"
   ]
  },
  {
   "cell_type": "code",
   "execution_count": 21,
   "id": "simple-reverse",
   "metadata": {},
   "outputs": [
    {
     "name": "stdout",
     "output_type": "stream",
     "text": [
      "<class 'float'>\n"
     ]
    }
   ],
   "source": [
    "price = 99.0\n",
    "print(type(price))"
   ]
  },
  {
   "cell_type": "code",
   "execution_count": 22,
   "id": "confused-pride",
   "metadata": {},
   "outputs": [
    {
     "data": {
      "text/plain": [
       "1"
      ]
     },
     "execution_count": 22,
     "metadata": {},
     "output_type": "execute_result"
    }
   ],
   "source": [
    "56%11"
   ]
  },
  {
   "cell_type": "code",
   "execution_count": 23,
   "id": "outer-cradle",
   "metadata": {},
   "outputs": [
    {
     "name": "stdout",
     "output_type": "stream",
     "text": [
      "<class 'complex'>\n"
     ]
    }
   ],
   "source": [
    "K = -5J\n",
    "print(type(K))"
   ]
  },
  {
   "cell_type": "code",
   "execution_count": 27,
   "id": "intellectual-drove",
   "metadata": {},
   "outputs": [
    {
     "ename": "TypeError",
     "evalue": "can only concatenate str (not \"float\") to str",
     "output_type": "error",
     "traceback": [
      "\u001b[1;31m---------------------------------------------------------------------------\u001b[0m",
      "\u001b[1;31mTypeError\u001b[0m                                 Traceback (most recent call last)",
      "\u001b[1;32m<ipython-input-27-62cdcac69dda>\u001b[0m in \u001b[0;36m<module>\u001b[1;34m\u001b[0m\n\u001b[0;32m      5\u001b[0m \u001b[0mc\u001b[0m \u001b[1;33m=\u001b[0m \u001b[0ma\u001b[0m\u001b[1;33m+\u001b[0m\u001b[0mc\u001b[0m\u001b[1;33m\u001b[0m\u001b[1;33m\u001b[0m\u001b[0m\n\u001b[0;32m      6\u001b[0m \u001b[0me\u001b[0m \u001b[1;33m=\u001b[0m \u001b[0md\u001b[0m\u001b[1;33m+\u001b[0m\u001b[0mc\u001b[0m\u001b[1;33m\u001b[0m\u001b[1;33m\u001b[0m\u001b[0m\n\u001b[1;32m----> 7\u001b[1;33m \u001b[0mresult\u001b[0m \u001b[1;33m=\u001b[0m \u001b[0mb\u001b[0m \u001b[1;33m+\u001b[0m \u001b[0me\u001b[0m\u001b[1;33m\u001b[0m\u001b[1;33m\u001b[0m\u001b[0m\n\u001b[0m\u001b[0;32m      8\u001b[0m \u001b[0mprint\u001b[0m\u001b[1;33m(\u001b[0m\u001b[0ma\u001b[0m\u001b[1;33m)\u001b[0m\u001b[1;33m\u001b[0m\u001b[1;33m\u001b[0m\u001b[0m\n\u001b[0;32m      9\u001b[0m \u001b[0mprint\u001b[0m\u001b[1;33m(\u001b[0m\u001b[0mb\u001b[0m\u001b[1;33m)\u001b[0m\u001b[1;33m\u001b[0m\u001b[1;33m\u001b[0m\u001b[0m\n",
      "\u001b[1;31mTypeError\u001b[0m: can only concatenate str (not \"float\") to str"
     ]
    }
   ],
   "source": [
    "a = 726\n",
    "b = \"Hello world\"\n",
    "c = 327.2\n",
    "d = a+c\n",
    "c = a+c\n",
    "e = d+c\n",
    "result = b + e\n",
    "print(a)\n",
    "print(b)\n",
    "print(c)\n",
    "print(d)\n",
    "print(e)\n",
    "print(result)"
   ]
  },
  {
   "cell_type": "code",
   "execution_count": 28,
   "id": "jewish-congress",
   "metadata": {},
   "outputs": [
    {
     "name": "stdout",
     "output_type": "stream",
     "text": [
      "2106.4\n"
     ]
    }
   ],
   "source": [
    "print(e)"
   ]
  },
  {
   "cell_type": "code",
   "execution_count": null,
   "id": "south-summit",
   "metadata": {},
   "outputs": [],
   "source": []
  }
 ],
 "metadata": {
  "kernelspec": {
   "display_name": "Python 3",
   "language": "python",
   "name": "python3"
  },
  "language_info": {
   "codemirror_mode": {
    "name": "ipython",
    "version": 3
   },
   "file_extension": ".py",
   "mimetype": "text/x-python",
   "name": "python",
   "nbconvert_exporter": "python",
   "pygments_lexer": "ipython3",
   "version": "3.8.7"
  }
 },
 "nbformat": 4,
 "nbformat_minor": 5
}
