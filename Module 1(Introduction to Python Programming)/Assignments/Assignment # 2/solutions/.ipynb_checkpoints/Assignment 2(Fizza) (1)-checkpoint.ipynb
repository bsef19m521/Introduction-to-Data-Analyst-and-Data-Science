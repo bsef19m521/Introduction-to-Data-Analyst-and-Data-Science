{
 "cells": [
  {
   "cell_type": "markdown",
   "id": "southern-crossing",
   "metadata": {},
   "source": [
    "# Assignment 2 ( Fizza Tariq)"
   ]
  },
  {
   "cell_type": "markdown",
   "id": "resident-michael",
   "metadata": {},
   "source": [
    "# Question 1"
   ]
  },
  {
   "cell_type": "markdown",
   "id": "sacred-image",
   "metadata": {},
   "source": [
    "A professional programmer usually use comments to gain an understanding of a\n",
    "problem"
   ]
  },
  {
   "cell_type": "markdown",
   "id": "streaming-module",
   "metadata": {},
   "source": [
    "# Question 2"
   ]
  },
  {
   "cell_type": "markdown",
   "id": "italic-picking",
   "metadata": {},
   "source": [
    "If a math expression adds a float to and int, the data type result will be a float.\n",
    "/ , //"
   ]
  },
  {
   "cell_type": "code",
   "execution_count": 2,
   "id": "simplified-camera",
   "metadata": {},
   "outputs": [
    {
     "name": "stdout",
     "output_type": "stream",
     "text": [
      "20.5\n"
     ]
    }
   ],
   "source": [
    "c=10\n",
    "b=10.5\n",
    "a=c+b\n",
    "print(a)"
   ]
  },
  {
   "cell_type": "markdown",
   "id": "enormous-superior",
   "metadata": {},
   "source": [
    "# Question 3"
   ]
  },
  {
   "cell_type": "markdown",
   "id": "liberal-calendar",
   "metadata": {},
   "source": [
    "## Write a program in which take two numbers from user by using built-in function and perform folllowing arithmetic operation"
   ]
  },
  {
   "cell_type": "code",
   "execution_count": 5,
   "id": "under-orchestra",
   "metadata": {},
   "outputs": [
    {
     "name": "stdout",
     "output_type": "stream",
     "text": [
      "Enter your value: 3\n",
      "Enter your value: 4\n"
     ]
    },
    {
     "ename": "TypeError",
     "evalue": "unsupported operand type(s) for -: 'str' and 'str'",
     "output_type": "error",
     "traceback": [
      "\u001b[1;31m---------------------------------------------------------------------------\u001b[0m",
      "\u001b[1;31mTypeError\u001b[0m                                 Traceback (most recent call last)",
      "\u001b[1;32m<ipython-input-5-47a083a2e6a2>\u001b[0m in \u001b[0;36m<module>\u001b[1;34m\u001b[0m\n\u001b[0;32m      3\u001b[0m \u001b[1;33m\u001b[0m\u001b[0m\n\u001b[0;32m      4\u001b[0m \u001b[0mSum\u001b[0m \u001b[1;33m=\u001b[0m \u001b[0mval1\u001b[0m \u001b[1;33m+\u001b[0m \u001b[0mval2\u001b[0m\u001b[1;33m\u001b[0m\u001b[1;33m\u001b[0m\u001b[0m\n\u001b[1;32m----> 5\u001b[1;33m \u001b[0msubtract\u001b[0m \u001b[1;33m=\u001b[0m \u001b[0mval1\u001b[0m \u001b[1;33m-\u001b[0m \u001b[0mval2\u001b[0m\u001b[1;33m\u001b[0m\u001b[1;33m\u001b[0m\u001b[0m\n\u001b[0m\u001b[0;32m      6\u001b[0m \u001b[1;33m\u001b[0m\u001b[0m\n\u001b[0;32m      7\u001b[0m \u001b[0mprint\u001b[0m\u001b[1;33m(\u001b[0m\u001b[0mSum\u001b[0m\u001b[1;33m)\u001b[0m\u001b[1;33m\u001b[0m\u001b[1;33m\u001b[0m\u001b[0m\n",
      "\u001b[1;31mTypeError\u001b[0m: unsupported operand type(s) for -: 'str' and 'str'"
     ]
    }
   ],
   "source": [
    "val1 = input(\"Enter your value: \")\n",
    "val2 = input(\"Enter your value: \")\n",
    "\n",
    "Sum = val1 + val2\n",
    "subtract = val1 - val2\n",
    "\n",
    "print(Sum) \n",
    "print(subtract) \n",
    "print(val1*val2) \n",
    "print(val1/val2) "
   ]
  },
  {
   "cell_type": "markdown",
   "id": "perceived-canberra",
   "metadata": {},
   "source": [
    "# Question 4"
   ]
  },
  {
   "cell_type": "markdown",
   "id": "cooked-million",
   "metadata": {},
   "source": [
    "##  Write a program to calculate area of triangle by using following formula , in this program takes all input from user by using built-in function."
   ]
  },
  {
   "cell_type": "code",
   "execution_count": 11,
   "id": "animated-walnut",
   "metadata": {},
   "outputs": [
    {
     "name": "stdout",
     "output_type": "stream",
     "text": [
      "Enter first side: 5\n",
      "Enter second side: 6\n",
      "Enter third side: 9\n",
      "Area of triangle having sides 5.0 6.0 9.0  is :  14.142135623730951\n"
     ]
    }
   ],
   "source": [
    "a = float(input(\"Enter first side: \"))\n",
    "b = float(input('Enter second side: '))\n",
    "c = float(input('Enter third side: '))\n",
    "\n",
    "s = (a + b + c) / 2\n",
    "\n",
    "area = (s*(s-a)*(s-b)*(s-c)) ** 0.5\n",
    "print(\"Area of triangle having sides\", a,b,c , \" is : \", area)"
   ]
  },
  {
   "cell_type": "markdown",
   "id": "blessed-metabolism",
   "metadata": {},
   "source": [
    "# Question 5"
   ]
  },
  {
   "cell_type": "markdown",
   "id": "hundred-wagon",
   "metadata": {},
   "source": [
    "# Write a program in which take two numbers from user anad swap them"
   ]
  },
  {
   "cell_type": "code",
   "execution_count": 10,
   "id": "blessed-stereo",
   "metadata": {},
   "outputs": [
    {
     "name": "stdout",
     "output_type": "stream",
     "text": [
      "enter the value of a: 4\n",
      "enter the value of b: 6\n",
      "Numbers before swapping are :  4 6\n",
      "Numbers after swapping are :  6 4\n"
     ]
    }
   ],
   "source": [
    "a = input(\"enter the value of a: \")\n",
    "b = input(\"enter the value of b: \")\n",
    "print(\"Numbers before swapping are : \",a,b)\n",
    "swap=a\n",
    "a=b\n",
    "b=swap\n",
    "\n",
    "print(\"Numbers after swapping are : \",a,b)"
   ]
  },
  {
   "cell_type": "markdown",
   "id": "thick-sculpture",
   "metadata": {},
   "source": [
    "# Question 9"
   ]
  },
  {
   "cell_type": "markdown",
   "id": "animated-trash",
   "metadata": {},
   "source": [
    "##  Distance Traveled \n",
    "    \"Write a program to calculate the distance traveled by a car , assuming there are no accidents or delays, the distance that a car travels down the inter-state can be calculated with the following formula:\n",
    "    \"**Distance = Speed * Time**   \n",
    "    \"A car is traveling at 60 miles per hour. Write a program that displays the following:  \n",
    "    \"• The distance the car will travel in 5 hours        \n",
    "    \"• The distance the car will travel in 8 hours    \n",
    "    \"• The distance the car will travel in 12 hours   "
   ]
  },
  {
   "cell_type": "code",
   "execution_count": 9,
   "id": "accessory-knife",
   "metadata": {},
   "outputs": [
    {
     "name": "stdout",
     "output_type": "stream",
     "text": [
      "300\n",
      "480\n",
      "720\n"
     ]
    }
   ],
   "source": [
    "speed=60\n",
    "t1=5\n",
    "t2=8\n",
    "t3=12\n",
    "\n",
    "print(speed*t1)\n",
    "print(speed*t2)\n",
    "print(speed*t3)"
   ]
  },
  {
   "cell_type": "markdown",
   "id": "funded-tourism",
   "metadata": {},
   "source": [
    "# kindly check my commands are not working"
   ]
  },
  {
   "cell_type": "code",
   "execution_count": null,
   "id": "incorporate-activity",
   "metadata": {},
   "outputs": [],
   "source": []
  }
 ],
 "metadata": {
  "kernelspec": {
   "display_name": "Python 3",
   "language": "python",
   "name": "python3"
  },
  "language_info": {
   "codemirror_mode": {
    "name": "ipython",
    "version": 3
   },
   "file_extension": ".py",
   "mimetype": "text/x-python",
   "name": "python",
   "nbconvert_exporter": "python",
   "pygments_lexer": "ipython3",
   "version": "3.8.7"
  }
 },
 "nbformat": 4,
 "nbformat_minor": 5
}
