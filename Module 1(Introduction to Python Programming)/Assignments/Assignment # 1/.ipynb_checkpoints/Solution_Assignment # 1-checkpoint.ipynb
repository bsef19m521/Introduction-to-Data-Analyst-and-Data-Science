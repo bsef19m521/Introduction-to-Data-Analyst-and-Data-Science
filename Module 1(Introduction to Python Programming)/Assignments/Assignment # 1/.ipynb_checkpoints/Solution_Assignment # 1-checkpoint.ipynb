{
 "cells": [
  {
   "cell_type": "markdown",
   "id": "resistant-huntington",
   "metadata": {},
   "source": [
    "Write your asnwers according to your concepts and after solving this assignment, submit this notebook in google classroom.\n",
    "Mention User name like this **Assignment # 1(Name)**"
   ]
  },
  {
   "cell_type": "markdown",
   "id": "reliable-innocent",
   "metadata": {},
   "source": [
    "1. What is difference between data analyst and data science?\n",
    "2. Write a Python program to get the Python version you are using\n",
    "3. Write a program in which create five variables in same line\n",
    "4. Write a program in which declare a variable and check its type and Id\n",
    "5. Write a program that performs sum of five variables is equal 44 using python operators\n",
    "6. Write a Python program which calculate the radius of a circle\n",
    "**Sample : radius = 5**  \n",
    "**Output : 78.5**     \n",
    "\n",
    "7. Write a Python program which print the user's first and last name and concate them  \n",
    "**Sample : first_name = \"Ehtisham\"**  \n",
    "**Sample : last_name = \"Sadiq\"**   \n",
    "**Output : output = \"Ehtisham Sadiq\"** \n",
    "\n",
    "8. Is the variable name Sales the same as sales? Why or why not?\n",
    "9. Is the following assignment statement valid or invalid? If it is invalid, why? 72 =    amount  \n",
    "10. What will be displayed by the following program?   \n",
    "    my_value = 99   \n",
    "    my_value = 0   \n",
    "    print(my_value)   \n",
    "    \n",
    "11. Write a Python statement that assigns the sum of 10 and 14 to the variable total.\n",
    "12. Write a Python statement that subtracts the variable down_payment from the variable\n",
    "    total and assigns the result to the variable due.\n",
    "13. Write a Python statement that multiplies the variable subtotal by 0.15 and assigns the\n",
    "    result to the variable total."
   ]
  },
  {
   "cell_type": "markdown",
   "id": "aggregate-special",
   "metadata": {},
   "source": [
    "### Question no 02"
   ]
  },
  {
   "cell_type": "code",
   "execution_count": 23,
   "id": "another-attribute",
   "metadata": {},
   "outputs": [
    {
     "name": "stdout",
     "output_type": "stream",
     "text": [
      "3.8.7 (tags/v3.8.7:6503f05, Dec 21 2020, 17:59:51) [MSC v.1928 64 bit (AMD64)]\n"
     ]
    }
   ],
   "source": [
    "import sys\n",
    "# print(sys.executable)\n",
    "print(sys.version)\n",
    "# print(sys.version_info)"
   ]
  },
  {
   "cell_type": "markdown",
   "id": "violent-ordering",
   "metadata": {},
   "source": [
    "### Question no 03"
   ]
  },
  {
   "cell_type": "code",
   "execution_count": 24,
   "id": "blond-medium",
   "metadata": {},
   "outputs": [
    {
     "name": "stdout",
     "output_type": "stream",
     "text": [
      "12 32 32 434 23\n"
     ]
    }
   ],
   "source": [
    "a,b,c,d,e = 12,32,32,434,23\n",
    "print(a,b,c,d,e)"
   ]
  },
  {
   "cell_type": "markdown",
   "id": "regulated-istanbul",
   "metadata": {},
   "source": [
    "### Question no 04"
   ]
  },
  {
   "cell_type": "code",
   "execution_count": 25,
   "id": "received-chain",
   "metadata": {},
   "outputs": [
    {
     "name": "stdout",
     "output_type": "stream",
     "text": [
      "<class 'str'>\n",
      "2048024684848\n"
     ]
    }
   ],
   "source": [
    "a = \"Hello world\"\n",
    "print(type(a))\n",
    "print(id(a))"
   ]
  },
  {
   "cell_type": "markdown",
   "id": "fixed-bolivia",
   "metadata": {},
   "source": [
    "### Question no 05"
   ]
  },
  {
   "cell_type": "code",
   "execution_count": 26,
   "id": "spectacular-giving",
   "metadata": {},
   "outputs": [
    {
     "name": "stdout",
     "output_type": "stream",
     "text": [
      "44\n"
     ]
    }
   ],
   "source": [
    "Sum = 10 + 12 + 8 + 9 + 5\n",
    "print(Sum)"
   ]
  },
  {
   "cell_type": "markdown",
   "id": "floppy-pricing",
   "metadata": {},
   "source": [
    "###### Question no 06"
   ]
  },
  {
   "cell_type": "code",
   "execution_count": 3,
   "id": "incomplete-virgin",
   "metadata": {},
   "outputs": [
    {
     "name": "stdout",
     "output_type": "stream",
     "text": [
      "Area of circle  having radius 5  =  78.5\n"
     ]
    }
   ],
   "source": [
    "radius = 5\n",
    "area = 3.14 *  radius* radius\n",
    "print(\"Area of circle  having radius\", radius, \" = \", area)"
   ]
  },
  {
   "cell_type": "markdown",
   "id": "recognized-dispute",
   "metadata": {},
   "source": [
    "Question no 07"
   ]
  },
  {
   "cell_type": "code",
   "execution_count": 5,
   "id": "neither-johns",
   "metadata": {},
   "outputs": [
    {
     "name": "stdout",
     "output_type": "stream",
     "text": [
      "First name of the user : Ehtisham \n",
      "Last name of the user :  Sadiq\n",
      "Name of the user is : Ehtisham Sadiq\n"
     ]
    }
   ],
   "source": [
    "first_name = \"Ehtisham \"\n",
    "last_name = \"Sadiq\"\n",
    "print(\"First name of the user :\",first_name)\n",
    "print(\"Last name of the user : \",last_name)\n",
    "add = first_name+last_name\n",
    "print(\"Name of the user is :\",add)"
   ]
  },
  {
   "cell_type": "markdown",
   "id": "relative-permission",
   "metadata": {},
   "source": [
    "### Question no 08"
   ]
  },
  {
   "cell_type": "code",
   "execution_count": 20,
   "id": "opposite-maine",
   "metadata": {},
   "outputs": [
    {
     "name": "stdout",
     "output_type": "stream",
     "text": [
      "140716441995792\n",
      "140716441995600\n"
     ]
    }
   ],
   "source": [
    "# They are different variables because Python is case sensitive and it treats lowercase \n",
    "# and upper case letters differently\n",
    "Sales = 22\n",
    "sales = 28\n",
    "print(id(sales))\n",
    "print(id(Sales))"
   ]
  },
  {
   "cell_type": "markdown",
   "id": "acoustic-jacksonville",
   "metadata": {},
   "source": [
    "### Question no 09"
   ]
  },
  {
   "cell_type": "code",
   "execution_count": 9,
   "id": "patient-research",
   "metadata": {},
   "outputs": [
    {
     "ename": "SyntaxError",
     "evalue": "cannot assign to literal (<ipython-input-9-11878432e3fd>, line 1)",
     "output_type": "error",
     "traceback": [
      "\u001b[1;36m  File \u001b[1;32m\"<ipython-input-9-11878432e3fd>\"\u001b[1;36m, line \u001b[1;32m1\u001b[0m\n\u001b[1;33m    72 = amount\u001b[0m\n\u001b[1;37m    ^\u001b[0m\n\u001b[1;31mSyntaxError\u001b[0m\u001b[1;31m:\u001b[0m cannot assign to literal\n"
     ]
    }
   ],
   "source": [
    "72 = amount"
   ]
  },
  {
   "cell_type": "code",
   "execution_count": 10,
   "id": "historic-configuration",
   "metadata": {},
   "outputs": [],
   "source": [
    "amount = 72\n",
    "# left , right side "
   ]
  },
  {
   "cell_type": "markdown",
   "id": "living-prophet",
   "metadata": {},
   "source": [
    "### Question no 10"
   ]
  },
  {
   "cell_type": "code",
   "execution_count": 15,
   "id": "progressive-navigation",
   "metadata": {},
   "outputs": [
    {
     "name": "stdout",
     "output_type": "stream",
     "text": [
      "0\n"
     ]
    }
   ],
   "source": [
    "my_value = 90\n",
    "my_value = 0\n",
    "print(my_value)\n",
    "# print(id(my_value))"
   ]
  },
  {
   "cell_type": "markdown",
   "id": "looking-massage",
   "metadata": {},
   "source": [
    "### Question no 11"
   ]
  },
  {
   "cell_type": "code",
   "execution_count": 16,
   "id": "champion-pontiac",
   "metadata": {},
   "outputs": [
    {
     "name": "stdout",
     "output_type": "stream",
     "text": [
      "24\n"
     ]
    }
   ],
   "source": [
    "total = 10 + 14\n",
    "print(total)"
   ]
  },
  {
   "cell_type": "markdown",
   "id": "distant-suspect",
   "metadata": {},
   "source": [
    "### Question no 12"
   ]
  },
  {
   "cell_type": "code",
   "execution_count": 18,
   "id": "golden-experience",
   "metadata": {},
   "outputs": [],
   "source": [
    "due = total - down_payment"
   ]
  },
  {
   "cell_type": "markdown",
   "id": "specialized-annotation",
   "metadata": {},
   "source": [
    "### Question no 13"
   ]
  },
  {
   "cell_type": "code",
   "execution_count": null,
   "id": "colonial-fleece",
   "metadata": {},
   "outputs": [],
   "source": [
    "total = subtotal * 0.15"
   ]
  },
  {
   "cell_type": "code",
   "execution_count": null,
   "id": "present-avenue",
   "metadata": {},
   "outputs": [],
   "source": []
  },
  {
   "cell_type": "code",
   "execution_count": null,
   "id": "funded-discount",
   "metadata": {},
   "outputs": [],
   "source": []
  }
 ],
 "metadata": {
  "kernelspec": {
   "display_name": "Python 3",
   "language": "python",
   "name": "python3"
  },
  "language_info": {
   "codemirror_mode": {
    "name": "ipython",
    "version": 3
   },
   "file_extension": ".py",
   "mimetype": "text/x-python",
   "name": "python",
   "nbconvert_exporter": "python",
   "pygments_lexer": "ipython3",
   "version": "3.8.7"
  }
 },
 "nbformat": 4,
 "nbformat_minor": 5
}
