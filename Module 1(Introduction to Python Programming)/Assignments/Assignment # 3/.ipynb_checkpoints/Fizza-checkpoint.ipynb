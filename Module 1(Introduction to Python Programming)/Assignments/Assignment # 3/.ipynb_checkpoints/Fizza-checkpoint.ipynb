{
 "cells": [
  {
   "cell_type": "markdown",
   "id": "greater-questionnaire",
   "metadata": {},
   "source": [
    "<h2 align = \"center\">Everyone try to solve this assignment according to his/her concepts</h2>"
   ]
  },
  {
   "cell_type": "markdown",
   "id": "burning-discharge",
   "metadata": {},
   "source": [
    "- Name:Fizza Tariq\n",
    "    \n",
    "- Email:fizzasheikh14@gmail.com"
   ]
  },
  {
   "cell_type": "markdown",
   "id": "loaded-balance",
   "metadata": {},
   "source": [
    "## Question 01:\n",
    "    What does the following code display?\n",
    "    mystr = 'yes'\n",
    "    mystr = mystr + 'no'\n",
    "    mystr = mystr + 'yes'\n",
    "    print(mystr)\n"
   ]
  },
  {
   "cell_type": "code",
   "execution_count": 1,
   "id": "substantial-absence",
   "metadata": {},
   "outputs": [],
   "source": [
    "mystr = \"yes\"\n",
    "mystr = mystr + \"no\"\n",
    "mystr = mystr + \"yes\""
   ]
  },
  {
   "cell_type": "code",
   "execution_count": 4,
   "id": "stupid-membrane",
   "metadata": {},
   "outputs": [
    {
     "name": "stdout",
     "output_type": "stream",
     "text": [
      "yesnoyes\n"
     ]
    }
   ],
   "source": [
    "print(mystr)"
   ]
  },
  {
   "cell_type": "markdown",
   "id": "compatible-donor",
   "metadata": {},
   "source": [
    "## Question 02:\n",
    "**Assume mystring references a string. Write a statement that uses a slicing expression\n",
    "and displays the first 3 characters in the string.**"
   ]
  },
  {
   "cell_type": "code",
   "execution_count": 6,
   "id": "practical-china",
   "metadata": {},
   "outputs": [],
   "source": [
    "variable = input(\"enter the expressiom\")"
   ]
  },
  {
   "cell_type": "code",
   "execution_count": null,
   "id": "enabling-cutting",
   "metadata": {},
   "outputs": [],
   "source": [
    "print(variable[0:2])"
   ]
  },
  {
   "cell_type": "markdown",
   "id": "studied-salmon",
   "metadata": {},
   "source": [
    "## Question 03:\n",
    "   **Assume mystring references a string. Write a statement that uses a slicing expression and displays the last 3 characters in the string.**"
   ]
  },
  {
   "cell_type": "code",
   "execution_count": null,
   "id": "mature-wisconsin",
   "metadata": {},
   "outputs": [],
   "source": [
    "variable = input(\"enter the expressiom\")"
   ]
  },
  {
   "cell_type": "code",
   "execution_count": null,
   "id": "heated-ghana",
   "metadata": {},
   "outputs": [],
   "source": [
    "print(variable[-3:-1])"
   ]
  },
  {
   "cell_type": "markdown",
   "id": "tight-indianapolis",
   "metadata": {},
   "source": [
    "## Question 04:\n",
    "    Look at the following statement:\n",
    " #### mystring = 'cookies>milk>fudge>cake>ice cream'\n",
    "    Write a statement that splits this string, creating the following list:\n",
    "   ['cookies', 'milk', 'fudge', 'cake', 'ice cream']"
   ]
  },
  {
   "cell_type": "code",
   "execution_count": 3,
   "id": "external-metro",
   "metadata": {},
   "outputs": [],
   "source": [
    "mystring = \"cookies>milk>fudge>cake>ice cream\""
   ]
  },
  {
   "cell_type": "code",
   "execution_count": 4,
   "id": "expressed-palace",
   "metadata": {},
   "outputs": [
    {
     "data": {
      "text/plain": [
       "['cookies', 'milk', 'fudge', 'cake', 'ice cream']"
      ]
     },
     "execution_count": 4,
     "metadata": {},
     "output_type": "execute_result"
    }
   ],
   "source": [
    "mystring.split(\">\")"
   ]
  },
  {
   "cell_type": "markdown",
   "id": "frozen-strain",
   "metadata": {},
   "source": [
    "## Question 05:"
   ]
  },
  {
   "cell_type": "markdown",
   "id": "elegant-fundamental",
   "metadata": {},
   "source": [
    "#### Sum of Digits in a String\n",
    "    Write a program that asks the user to enter a series of single-digit numbers with nothing separating them. The program should display the sum of all the single digit numbers in the string. For example, if the user enters 2514, the method should return 12, which is the sum of 2, 5, 1, and 4."
   ]
  },
  {
   "cell_type": "code",
   "execution_count": null,
   "id": "outside-virginia",
   "metadata": {},
   "outputs": [],
   "source": [
    "value = input(enter the numbers)"
   ]
  },
  {
   "cell_type": "code",
   "execution_count": null,
   "id": "silver-design",
   "metadata": {},
   "outputs": [],
   "source": [
    "first = (value[0])\n",
    "second = (value[1])\n",
    "third = (value[2])\n",
    "last = (value[3])\n",
    "print(first+second+third+last)"
   ]
  },
  {
   "cell_type": "markdown",
   "id": "greatest-uruguay",
   "metadata": {},
   "source": [
    "## Question 06:\n",
    "    What are the values of the following expressions? In each line, assume that\n",
    "    x = 2.5\n",
    "    y = -1.5\n",
    "    m = 18\n",
    "    n = 4\n",
    "#### a. x + n * y - (x + n) * y\n",
    "#### b. m // n + m % n\n",
    "#### c. 5 * x - n / 5\n",
    "#### d. 1 - (1 - (1 - (1 - (1 - n))))\n",
    "#### e. sqrt(sqrt(n)"
   ]
  },
  {
   "cell_type": "code",
   "execution_count": 6,
   "id": "contrary-canberra",
   "metadata": {},
   "outputs": [],
   "source": [
    "x = 2.5\n",
    "y = -1.5\n",
    "m = 18\n",
    "n = 4"
   ]
  },
  {
   "cell_type": "code",
   "execution_count": 8,
   "id": "centered-steering",
   "metadata": {},
   "outputs": [
    {
     "name": "stdout",
     "output_type": "stream",
     "text": [
      "6.25\n",
      "6\n",
      "11.7\n",
      "-3\n"
     ]
    }
   ],
   "source": [
    "print(x + n * y - (x + n) * y)\n",
    "print(m // n + m % n)\n",
    "print( 5 * x - n / 5)\n",
    "print(1 - (1 - (1 - (1 - (1 - n)))))"
   ]
  },
  {
   "cell_type": "markdown",
   "id": "failing-paintball",
   "metadata": {},
   "source": [
    "## Question 07:\n",
    "    What are the values of the following expressions? In each line, assume that\n",
    "    s = \"Hello\"\n",
    "    t = \"World\"\n",
    "#### a. len(s) + len(t)\n",
    "#### b. s[1] + s[2]\n",
    "#### c. s[len(s) // 2]\n",
    "####  d. s + t\n",
    "#### e. t + s\n",
    "#### f. s * 2"
   ]
  },
  {
   "cell_type": "code",
   "execution_count": 15,
   "id": "individual-capability",
   "metadata": {},
   "outputs": [],
   "source": [
    "s = \"Hello\"\n",
    "t = \"World\""
   ]
  },
  {
   "cell_type": "code",
   "execution_count": 17,
   "id": "sapphire-antique",
   "metadata": {},
   "outputs": [
    {
     "name": "stdout",
     "output_type": "stream",
     "text": [
      "10\n",
      "el\n",
      "l\n",
      "HelloWorld\n",
      "HelloHello\n"
     ]
    }
   ],
   "source": [
    "print(len(s)+len(t))\n",
    "print(s[1] + s[2])\n",
    "print(s[len(s) // 2])\n",
    "print( s + t)\n",
    "print(s * 2)"
   ]
  },
  {
   "cell_type": "markdown",
   "id": "elect-metadata",
   "metadata": {},
   "source": [
    "## Question 08:\n",
    "    Write a program that reads a number and displays the square, cube, and fourth \n",
    "    power. Use the ** operator only for the fourth power."
   ]
  },
  {
   "cell_type": "code",
   "execution_count": null,
   "id": "split-suffering",
   "metadata": {},
   "outputs": [],
   "source": [
    "# Here write your answer"
   ]
  },
  {
   "cell_type": "code",
   "execution_count": null,
   "id": "intimate-compound",
   "metadata": {},
   "outputs": [],
   "source": []
  },
  {
   "cell_type": "markdown",
   "id": "cutting-concentrate",
   "metadata": {},
   "source": [
    "## Question 09:\n",
    "    Write a program that prompts the user for a radius and then prints\n",
    "- The area and circumference of a circle with that radius\n",
    "- The volume and surface area of a sphere with that radius"
   ]
  },
  {
   "cell_type": "code",
   "execution_count": 12,
   "id": "authentic-lover",
   "metadata": {},
   "outputs": [],
   "source": [
    "# Here write your answer"
   ]
  },
  {
   "cell_type": "code",
   "execution_count": null,
   "id": "brilliant-science",
   "metadata": {},
   "outputs": [],
   "source": []
  },
  {
   "cell_type": "markdown",
   "id": "protected-association",
   "metadata": {},
   "source": [
    "## Question 10:\n",
    "    Write a program that asks the user for the lengths of the sides of a rectangle. Then print\n",
    "- The area and perimeter of the rectangle\n",
    "- The length of the diagonal"
   ]
  },
  {
   "cell_type": "code",
   "execution_count": 13,
   "id": "heavy-football",
   "metadata": {},
   "outputs": [],
   "source": [
    "# Here write your answer"
   ]
  },
  {
   "cell_type": "code",
   "execution_count": null,
   "id": "naughty-locator",
   "metadata": {},
   "outputs": [],
   "source": []
  },
  {
   "cell_type": "markdown",
   "id": "funded-special",
   "metadata": {},
   "source": [
    "## Question 11:\n",
    "    Write a program that reads a number between 10,000 and 999,999 from the user, where the user enters a comma in the input. Then print the number without a comma. Here is a sample dialog; the user input is in color:\n",
    "    Please enter an integer between 10,000 and 99,999: 23,456 \n",
    "**Output :** 23456    \n",
    "**Hint:**    \n",
    "    Read the input as a string. Turn the strings consisting of the first two charac\u0002ters and the last three characters into numbers, and combine them."
   ]
  },
  {
   "cell_type": "code",
   "execution_count": null,
   "id": "dominant-dakota",
   "metadata": {},
   "outputs": [],
   "source": [
    "# Here write your answer"
   ]
  },
  {
   "cell_type": "code",
   "execution_count": null,
   "id": "short-chicken",
   "metadata": {},
   "outputs": [],
   "source": []
  },
  {
   "cell_type": "markdown",
   "id": "transparent-strike",
   "metadata": {},
   "source": [
    "## Question 12:\n",
    "    Write a program that reads a number between 1,000 and 999,999 from the user and prints it with a comma separating the thousands. \n",
    "Here is a sample dialog; the user input is in color:     \n",
    "**Please enter an integer between 1000 and 999999: 23456**   \n",
    "**Output: 23,456**"
   ]
  },
  {
   "cell_type": "code",
   "execution_count": null,
   "id": "physical-florida",
   "metadata": {},
   "outputs": [],
   "source": [
    "# Here write your answer"
   ]
  },
  {
   "cell_type": "code",
   "execution_count": null,
   "id": "democratic-hawaiian",
   "metadata": {},
   "outputs": [],
   "source": []
  },
  {
   "cell_type": "markdown",
   "id": "eastern-organic",
   "metadata": {},
   "source": [
    "## Question 13:\n",
    "    Write a program that reads a five-digit positive integer and breaks it into a sequence of individual digits. For example, the input 16384 is displayed as\n",
    "**Output : 1 6 3 8 4**"
   ]
  },
  {
   "cell_type": "code",
   "execution_count": null,
   "id": "junior-bacon",
   "metadata": {},
   "outputs": [],
   "source": []
  },
  {
   "cell_type": "code",
   "execution_count": null,
   "id": "medium-helena",
   "metadata": {},
   "outputs": [],
   "source": []
  },
  {
   "cell_type": "markdown",
   "id": "excited-corruption",
   "metadata": {},
   "source": [
    "## Question 14:\n",
    "Write a program that initializes a string variable and prints the first three characters,followed by three periods, and then the last three characters. For example, \n",
    "if the string is initialized to    \n",
    "**Ehtisham**        \n",
    "then print   \n",
    "**Eht...ham** "
   ]
  },
  {
   "cell_type": "markdown",
   "id": "ded39deb",
   "metadata": {},
   "source": [
    "step1: enter a string variable\n",
    "step2: first three characters\n",
    "step3: followed by three periods\n",
    "step4: last three characters\n"
   ]
  },
  {
   "cell_type": "code",
   "execution_count": null,
   "id": "creative-material",
   "metadata": {},
   "outputs": [],
   "source": [
    "new = input(\"Enter a string : \")"
   ]
  },
  {
   "cell_type": "code",
   "execution_count": null,
   "id": "3cb4c332",
   "metadata": {},
   "outputs": [],
   "source": [
    "first=new[0:2]\n",
    "middle=(new.replace(\"new[3:5]\"  , \".\")\n",
    "last=new[-3:-1]\n",
    "print(first+middle+last)"
   ]
  },
  {
   "cell_type": "markdown",
   "id": "growing-chess",
   "metadata": {},
   "source": [
    "## Question 15:\n",
    "Write a program that calculates the total amount of a meal purchased at a restaurant. \n",
    "The program should ask the user to enter the charge for the food, and then calculate the \n",
    "amount of a 15 percent tip and 7 percent sales tax. Display each of these amounts and \n",
    "the total (sum of all three mentioned above)."
   ]
  },
  {
   "cell_type": "code",
   "execution_count": null,
   "id": "subsequent-guarantee",
   "metadata": {},
   "outputs": [],
   "source": [
    "Bill = input(\"enter the bill:\")\n",
    "tip = Bill*15/100\n",
    "tax = Bill*7/100\n",
    "total=Bill+tip+tax\n",
    "print(bill)\n",
    "print(tip)\n",
    "print(tax)\n",
    "print(total)"
   ]
  },
  {
   "cell_type": "code",
   "execution_count": null,
   "id": "ae737166",
   "metadata": {},
   "outputs": [],
   "source": []
  },
  {
   "cell_type": "code",
   "execution_count": null,
   "id": "6a99b24a",
   "metadata": {},
   "outputs": [],
   "source": []
  }
 ],
 "metadata": {
  "kernelspec": {
   "display_name": "Python 3",
   "language": "python",
   "name": "python3"
  },
  "language_info": {
   "codemirror_mode": {
    "name": "ipython",
    "version": 3
   },
   "file_extension": ".py",
   "mimetype": "text/x-python",
   "name": "python",
   "nbconvert_exporter": "python",
   "pygments_lexer": "ipython3",
   "version": "3.8.7"
  }
 },
 "nbformat": 4,
 "nbformat_minor": 5
}
