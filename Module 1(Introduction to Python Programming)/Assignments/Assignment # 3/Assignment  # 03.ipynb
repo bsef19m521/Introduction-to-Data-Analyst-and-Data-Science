{
 "cells": [
  {
   "cell_type": "markdown",
   "id": "greater-questionnaire",
   "metadata": {},
   "source": [
    "<h2 align = \"center\">Everyone try to solve this assignment according to his/her concepts</h2>"
   ]
  },
  {
   "cell_type": "markdown",
   "id": "burning-discharge",
   "metadata": {},
   "source": [
    "- Name:\n",
    "    \n",
    "- Email:"
   ]
  },
  {
   "cell_type": "markdown",
   "id": "loaded-balance",
   "metadata": {},
   "source": [
    "## Question 01:\n",
    "    What does the following code display?\n",
    "    mystr = 'yes'\n",
    "    mystr = mystr + 'no'\n",
    "    mystr = mystr + 'yes'\n",
    "    print(mystr)\n"
   ]
  },
  {
   "cell_type": "code",
   "execution_count": 1,
   "id": "substantial-absence",
   "metadata": {},
   "outputs": [],
   "source": [
    "# Here write your answer"
   ]
  },
  {
   "cell_type": "code",
   "execution_count": null,
   "id": "stupid-membrane",
   "metadata": {},
   "outputs": [],
   "source": []
  },
  {
   "cell_type": "markdown",
   "id": "compatible-donor",
   "metadata": {},
   "source": [
    "## Question 02:\n",
    "**Assume mystring references a string. Write a statement that uses a slicing expression\n",
    "and displays the first 3 characters in the string.**"
   ]
  },
  {
   "cell_type": "code",
   "execution_count": 6,
   "id": "practical-china",
   "metadata": {},
   "outputs": [],
   "source": [
    "# Here Write Your answer\n",
    "\n",
    "\n"
   ]
  },
  {
   "cell_type": "code",
   "execution_count": null,
   "id": "enabling-cutting",
   "metadata": {},
   "outputs": [],
   "source": []
  },
  {
   "cell_type": "markdown",
   "id": "studied-salmon",
   "metadata": {},
   "source": [
    "## Question 03:\n",
    "   **Assume mystring references a string. Write a statement that uses a slicing expression and displays the last 3 characters in the string.**"
   ]
  },
  {
   "cell_type": "code",
   "execution_count": null,
   "id": "mature-wisconsin",
   "metadata": {},
   "outputs": [],
   "source": [
    "#  Here Write your answer\n",
    "\n",
    "\n"
   ]
  },
  {
   "cell_type": "code",
   "execution_count": null,
   "id": "heated-ghana",
   "metadata": {},
   "outputs": [],
   "source": []
  },
  {
   "cell_type": "markdown",
   "id": "tight-indianapolis",
   "metadata": {},
   "source": [
    "## Question 04:\n",
    "    Look at the following statement:\n",
    " #### mystring = 'cookies>milk>fudge>cake>ice cream'\n",
    "    Write a statement that splits this string, creating the following list:\n",
    "   ['cookies', 'milk', 'fudge', 'cake', 'ice cream']"
   ]
  },
  {
   "cell_type": "code",
   "execution_count": null,
   "id": "external-metro",
   "metadata": {},
   "outputs": [],
   "source": [
    "# Here write your answer in just two lines of code\n",
    "\n"
   ]
  },
  {
   "cell_type": "code",
   "execution_count": null,
   "id": "expressed-palace",
   "metadata": {},
   "outputs": [],
   "source": []
  },
  {
   "cell_type": "markdown",
   "id": "frozen-strain",
   "metadata": {},
   "source": [
    "## Question 05:"
   ]
  },
  {
   "cell_type": "markdown",
   "id": "elegant-fundamental",
   "metadata": {},
   "source": [
    "#### Sum of Digits in a String\n",
    "    Write a program that asks the user to enter a series of single-digit numbers with nothing separating them. The program should display the sum of all the single digit numbers in the string. For example, if the user enters 2514, the method should return 12, which is the sum of 2, 5, 1, and 4."
   ]
  },
  {
   "cell_type": "code",
   "execution_count": null,
   "id": "outside-virginia",
   "metadata": {},
   "outputs": [],
   "source": []
  },
  {
   "cell_type": "code",
   "execution_count": null,
   "id": "suspended-possession",
   "metadata": {},
   "outputs": [],
   "source": []
  },
  {
   "cell_type": "code",
   "execution_count": null,
   "id": "silver-design",
   "metadata": {},
   "outputs": [],
   "source": []
  },
  {
   "cell_type": "markdown",
   "id": "greatest-uruguay",
   "metadata": {},
   "source": [
    "## Question 06:\n",
    "    What are the values of the following expressions? In each line, assume that\n",
    "    x = 2.5\n",
    "    y = -1.5\n",
    "    m = 18\n",
    "    n = 4\n",
    "#### a. x + n * y - (x + n) * y\n",
    "#### b. m // n + m % n\n",
    "#### c. 5 * x - n / 5\n",
    "#### d. 1 - (1 - (1 - (1 - (1 - n))))\n",
    "#### e. sqrt(sqrt(n)"
   ]
  },
  {
   "cell_type": "code",
   "execution_count": null,
   "id": "contrary-canberra",
   "metadata": {},
   "outputs": [],
   "source": [
    "# Here write your answer"
   ]
  },
  {
   "cell_type": "code",
   "execution_count": null,
   "id": "centered-steering",
   "metadata": {},
   "outputs": [],
   "source": []
  },
  {
   "cell_type": "markdown",
   "id": "failing-paintball",
   "metadata": {},
   "source": [
    "## Question 07:\n",
    "    What are the values of the following expressions? In each line, assume that\n",
    "    s = \"Hello\"\n",
    "    t = \"World\"\n",
    "#### a. len(s) + len(t)\n",
    "#### b. s[1] + s[2]\n",
    "#### c. s[len(s) // 2]\n",
    "####  d. s + t\n",
    "#### e. t + s\n",
    "#### f. s * 2"
   ]
  },
  {
   "cell_type": "code",
   "execution_count": 11,
   "id": "individual-capability",
   "metadata": {},
   "outputs": [],
   "source": [
    "# Here write your answer"
   ]
  },
  {
   "cell_type": "code",
   "execution_count": null,
   "id": "sapphire-antique",
   "metadata": {},
   "outputs": [],
   "source": []
  },
  {
   "cell_type": "markdown",
   "id": "elect-metadata",
   "metadata": {},
   "source": [
    "## Question 08:\n",
    "    Write a program that reads a number and displays the square, cube, and fourth \n",
    "    power. Use the ** operator only for the fourth power."
   ]
  },
  {
   "cell_type": "code",
   "execution_count": null,
   "id": "split-suffering",
   "metadata": {},
   "outputs": [],
   "source": [
    "# Here write your answer"
   ]
  },
  {
   "cell_type": "code",
   "execution_count": null,
   "id": "intimate-compound",
   "metadata": {},
   "outputs": [],
   "source": []
  },
  {
   "cell_type": "markdown",
   "id": "cutting-concentrate",
   "metadata": {},
   "source": [
    "## Question 09:\n",
    "    Write a program that prompts the user for a radius and then prints\n",
    "- The area and circumference of a circle with that radius\n",
    "- The volume and surface area of a sphere with that radius"
   ]
  },
  {
   "cell_type": "markdown",
   "id": "together-bracelet",
   "metadata": {},
   "source": [
    "![](one.png)"
   ]
  },
  {
   "cell_type": "markdown",
   "id": "comprehensive-jaguar",
   "metadata": {},
   "source": [
    "![](surface-area-sphere.png)"
   ]
  },
  {
   "cell_type": "code",
   "execution_count": 12,
   "id": "authentic-lover",
   "metadata": {},
   "outputs": [],
   "source": [
    "# Here write your answer"
   ]
  },
  {
   "cell_type": "code",
   "execution_count": null,
   "id": "brilliant-science",
   "metadata": {},
   "outputs": [],
   "source": []
  },
  {
   "cell_type": "markdown",
   "id": "protected-association",
   "metadata": {},
   "source": [
    "## Question 10:\n",
    "    Write a program that asks the user for the lengths of the sides of a rectangle. Then print\n",
    "- The area and perimeter of the rectangle\n",
    "- The length of the diagonal"
   ]
  },
  {
   "cell_type": "markdown",
   "id": "turned-branch",
   "metadata": {},
   "source": [
    "![](area-and-perimeter-806x1024.jpg)"
   ]
  },
  {
   "cell_type": "markdown",
   "id": "artificial-celebrity",
   "metadata": {},
   "source": [
    "![](diagonal-of-a-rectangle-formula-1623341935.png)"
   ]
  },
  {
   "cell_type": "code",
   "execution_count": 13,
   "id": "heavy-football",
   "metadata": {},
   "outputs": [],
   "source": [
    "# Here write your answer"
   ]
  },
  {
   "cell_type": "code",
   "execution_count": null,
   "id": "naughty-locator",
   "metadata": {},
   "outputs": [],
   "source": []
  },
  {
   "cell_type": "markdown",
   "id": "funded-special",
   "metadata": {},
   "source": [
    "## Question 11:\n",
    "    Write a program that reads a number between 10,000 and 999,999 from the user, where the user enters a comma in the input. Then print the number without a comma. Here is a sample dialog; the user input is in color:\n",
    "    Please enter an integer between 10,000 and 99,999: 23,456 \n",
    "**Output :** 23456    \n",
    "**Hint:**    \n",
    "    Read the input as a string. Turn the strings consisting of the first two charac\u0002ters and the last three characters into numbers, and combine them."
   ]
  },
  {
   "cell_type": "code",
   "execution_count": null,
   "id": "dominant-dakota",
   "metadata": {},
   "outputs": [],
   "source": [
    "# Here write your answer"
   ]
  },
  {
   "cell_type": "code",
   "execution_count": null,
   "id": "short-chicken",
   "metadata": {},
   "outputs": [],
   "source": []
  },
  {
   "cell_type": "markdown",
   "id": "transparent-strike",
   "metadata": {},
   "source": [
    "## Question 12:\n",
    "    Write a program that reads a number between 1,000 and 999,999 from the user and prints it with a comma separating the thousands. \n",
    "Here is a sample dialog; the user input is in color:     \n",
    "**Please enter an integer between 1000 and 999999: 23456**   \n",
    "**Output: 23,456**"
   ]
  },
  {
   "cell_type": "code",
   "execution_count": 23,
   "id": "physical-florida",
   "metadata": {},
   "outputs": [],
   "source": [
    "# Here write your answer"
   ]
  },
  {
   "cell_type": "code",
   "execution_count": null,
   "id": "democratic-hawaiian",
   "metadata": {},
   "outputs": [],
   "source": []
  },
  {
   "cell_type": "markdown",
   "id": "eastern-organic",
   "metadata": {},
   "source": [
    "## Question 13:\n",
    "    Write a program that reads a five-digit positive integer and breaks it into a sequence of individual digits. For example, the input 16384 is displayed as\n",
    "**Output : 1 6 3 8 4**"
   ]
  },
  {
   "cell_type": "code",
   "execution_count": null,
   "id": "junior-bacon",
   "metadata": {},
   "outputs": [],
   "source": [
    "# Here write your answer"
   ]
  },
  {
   "cell_type": "code",
   "execution_count": null,
   "id": "medium-helena",
   "metadata": {},
   "outputs": [],
   "source": []
  },
  {
   "cell_type": "markdown",
   "id": "excited-corruption",
   "metadata": {},
   "source": [
    "## Question 14:\n",
    "Write a program that initializes a string variable and prints the first three characters,followed by three periods, and then the last three characters. For example, \n",
    "if the string is initialized to    \n",
    "**Ehtisham**        \n",
    "then print   \n",
    "**Eht...ham** "
   ]
  },
  {
   "cell_type": "code",
   "execution_count": null,
   "id": "periodic-surgery",
   "metadata": {},
   "outputs": [],
   "source": [
    "# Here write your answer"
   ]
  },
  {
   "cell_type": "code",
   "execution_count": null,
   "id": "creative-material",
   "metadata": {},
   "outputs": [],
   "source": []
  },
  {
   "cell_type": "markdown",
   "id": "growing-chess",
   "metadata": {},
   "source": [
    "## Question 15:\n",
    "Write a program that calculates the total amount of a meal purchased at a restaurant. \n",
    "The program should ask the user to enter the charge for the food, and then calculate the \n",
    "amount of a 15 percent tip and 7 percent sales tax. Display each of these amounts and \n",
    "the total (sum of all three mentioned above)."
   ]
  },
  {
   "cell_type": "code",
   "execution_count": null,
   "id": "eligible-improvement",
   "metadata": {},
   "outputs": [],
   "source": [
    "# Here write your answer"
   ]
  },
  {
   "cell_type": "code",
   "execution_count": null,
   "id": "connected-timber",
   "metadata": {},
   "outputs": [],
   "source": []
  },
  {
   "cell_type": "code",
   "execution_count": null,
   "id": "subsequent-guarantee",
   "metadata": {},
   "outputs": [],
   "source": []
  },
  {
   "cell_type": "code",
   "execution_count": null,
   "id": "empty-impossible",
   "metadata": {},
   "outputs": [],
   "source": []
  },
  {
   "cell_type": "code",
   "execution_count": null,
   "id": "toxic-picking",
   "metadata": {},
   "outputs": [],
   "source": []
  }
 ],
 "metadata": {
  "kernelspec": {
   "display_name": "Python 3",
   "language": "python",
   "name": "python3"
  },
  "language_info": {
   "codemirror_mode": {
    "name": "ipython",
    "version": 3
   },
   "file_extension": ".py",
   "mimetype": "text/x-python",
   "name": "python",
   "nbconvert_exporter": "python",
   "pygments_lexer": "ipython3",
   "version": "3.8.7"
  }
 },
 "nbformat": 4,
 "nbformat_minor": 5
}
