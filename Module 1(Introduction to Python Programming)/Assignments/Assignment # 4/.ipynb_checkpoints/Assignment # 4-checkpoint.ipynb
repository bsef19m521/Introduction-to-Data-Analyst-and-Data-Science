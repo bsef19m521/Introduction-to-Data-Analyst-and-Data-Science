{
 "cells": [
  {
   "cell_type": "markdown",
   "id": "quarterly-raleigh",
   "metadata": {},
   "source": [
    "## Write answers of all the questions according to your own concepts"
   ]
  },
  {
   "cell_type": "markdown",
   "id": "phantom-effects",
   "metadata": {},
   "source": [
    "- Name  : \n",
    "- Email :  "
   ]
  },
  {
   "cell_type": "markdown",
   "id": "proved-tomato",
   "metadata": {},
   "source": [
    "## Question 01:\n",
    "Look at the following statement:    \n",
    "numbers = [10, 20, 30, 40, 50]\n",
    "- a. How many elements does the list have?\n",
    "- b. What is the index of the first element in the list?\n",
    "- c. What is the index of the last element in the list?"
   ]
  },
  {
   "cell_type": "code",
   "execution_count": 77,
   "id": "leading-spell",
   "metadata": {},
   "outputs": [
    {
     "name": "stdout",
     "output_type": "stream",
     "text": [
      "Total number of elements list has :  5\n",
      "Index of First Element is :  0\n",
      "Index of Last element in list is :  4\n"
     ]
    }
   ],
   "source": [
    "# Here write your answer\n",
    "# numbers = [10,20,30,40,50]\n",
    "# len(numbers), 0, -1 or len-1\n",
    "numbers =[10,20,20,40,50]\n",
    "print(\"Total number of elements list has : \",len(numbers))\n",
    "print(\"Index of First Element is : \", 0)\n",
    "print(\"Index of Last element in list is : \", len(numbers)-1)"
   ]
  },
  {
   "cell_type": "code",
   "execution_count": null,
   "id": "british-transaction",
   "metadata": {},
   "outputs": [],
   "source": []
  },
  {
   "cell_type": "markdown",
   "id": "equal-surface",
   "metadata": {},
   "source": [
    "## Question 02:\n",
    "Look at the following statement:    \n",
    "numbers = [1, 2, 3]\n",
    "- a. What value is stored in numbers[2]?\n",
    "- b. What value is stored in numbers[0]?\n",
    "- c. What value is stored in numbers[-1]?"
   ]
  },
  {
   "cell_type": "code",
   "execution_count": 78,
   "id": "raising-learning",
   "metadata": {},
   "outputs": [
    {
     "name": "stdout",
     "output_type": "stream",
     "text": [
      "3\n",
      "1\n",
      "3\n"
     ]
    }
   ],
   "source": [
    "# Here write your answer\n",
    "# 3, 1,-3\n",
    "numbers = [1,2,3]\n",
    "print(numbers[2]) # 3\n",
    "print(numbers[0]) # 1\n",
    "print(numbers[-1]) # 3"
   ]
  },
  {
   "cell_type": "code",
   "execution_count": null,
   "id": "extra-suspension",
   "metadata": {},
   "outputs": [],
   "source": []
  },
  {
   "cell_type": "markdown",
   "id": "blocked-warehouse",
   "metadata": {},
   "source": [
    "## Question 03:\n",
    "Assume the lists numbers1 has 100 elements and numbers2 is an empty list. Write\n",
    "code that copies the values in numbers1 to numbers2."
   ]
  },
  {
   "cell_type": "code",
   "execution_count": 80,
   "id": "occasional-feeling",
   "metadata": {},
   "outputs": [
    {
     "name": "stdout",
     "output_type": "stream",
     "text": [
      "[1, 2, 3, 4, 5, 6, 7, 8, 9, 10, 11, 12, 13, 14, 15, 16, 17, 18, 19, 20, 21, 22, 23, 24, 25, 26, 27, 28, 29, 30, 31, 32, 33, 34, 35, 36, 37, 38, 39, 40, 41, 42, 43, 44, 45, 46, 47, 48, 49, 50, 51, 52, 53, 54, 55, 56, 57, 58, 59, 60, 61, 62, 63, 64, 65, 66, 67, 68, 69, 70, 71, 72, 73, 74, 75, 76, 77, 78, 79, 80, 81, 82, 83, 84, 85, 86, 87, 88, 89, 90, 91, 92, 93, 94, 95, 96, 97, 98, 99, 100]\n"
     ]
    }
   ],
   "source": [
    "# Here write your answer\n",
    "list1 = list(range(1,101))\n",
    "list2 = []\n",
    "print(list1)"
   ]
  },
  {
   "cell_type": "code",
   "execution_count": null,
   "id": "83f77873",
   "metadata": {},
   "outputs": [],
   "source": []
  },
  {
   "cell_type": "code",
   "execution_count": 82,
   "id": "going-remedy",
   "metadata": {},
   "outputs": [
    {
     "name": "stdout",
     "output_type": "stream",
     "text": [
      "[1, 2, 988, 4, 5, 6, 7, 8, 9, 10, 11, 12, 13, 14, 15, 16, 17, 18, 19, 20, 21, 22, 23, 24, 25, 26, 27, 28, 29, 30, 31, 32, 33, 34, 35, 36, 37, 38, 39, 40, 41, 42, 43, 44, 45, 46, 47, 48, 49, 50, 51, 52, 53, 54, 55, 56, 57, 58, 59, 60, 61, 62, 63, 64, 65, 66, 67, 68, 69, 70, 71, 72, 73, 74, 75, 76, 77, 78, 79, 80, 81, 82, 83, 84, 85, 86, 87, 88, 89, 90, 91, 92, 93, 94, 95, 96, 97, 98, 99, 100]\n"
     ]
    }
   ],
   "source": [
    "# aliasing method, shallow method , deepcopy method\n",
    "list2 = list1\n",
    "list2[2] = 988\n",
    "print(list2)"
   ]
  },
  {
   "cell_type": "markdown",
   "id": "coastal-orleans",
   "metadata": {},
   "source": [
    "## Question 04:"
   ]
  },
  {
   "cell_type": "markdown",
   "id": "embedded-holmes",
   "metadata": {},
   "source": [
    "### Number Analysis Program\n",
    "Design a program that asks the user to enter a series of 5 numbers. The program should\n",
    "store the numbers in a list and then display the following data:\n",
    "- The lowest number in the list\n",
    "- The highest number in the list\n",
    "- The total of the numbers in the list\n",
    "- The average of the numbers in the list"
   ]
  },
  {
   "cell_type": "markdown",
   "id": "e29bc2ab",
   "metadata": {},
   "source": [
    "### First Method:"
   ]
  },
  {
   "cell_type": "code",
   "execution_count": 88,
   "id": "6d177e2e",
   "metadata": {},
   "outputs": [],
   "source": [
    "def getSeries():\n",
    "    newList = []\n",
    "    n = int(input(\"Series of how many numbers , you want ? : \"))\n",
    "    for i in range(n):\n",
    "        print(\"Enter \", i+1, 'number of the series :  ')\n",
    "        newList.append(int(input()))\n",
    "    return newList\n",
    "def NumberAnalysisProgram():\n",
    "#     calling of getting number series function\n",
    "    List1 = getSeries()\n",
    "    print(\"Original List : \", List1 )\n",
    "    sorted_list = sorted(List1)\n",
    "    print(\"Sorted List is : \", sorted_list)\n",
    "    print(\"Lowest Number in the List is : \", sorted_list[0])\n",
    "    print(\"Highest Number in the List is : \", sorted_list[-1])\n",
    "    Sum = 0\n",
    "    for i in sorted_list:\n",
    "        Sum = Sum+i\n",
    "    print(\"Total of all the numbers of List is : \", Sum)\n",
    "    print(\"Average of list is : \", Sum/len(sorted_list))\n",
    "def main():\n",
    "#     calling of numberanalysisProgram function\n",
    "    NumberAnalysisProgram()\n",
    "# Here calling of main function\n",
    "main()"
   ]
  },
  {
   "cell_type": "code",
   "execution_count": 90,
   "id": "059f9a21",
   "metadata": {},
   "outputs": [],
   "source": []
  },
  {
   "cell_type": "code",
   "execution_count": 91,
   "id": "4bc6bf24",
   "metadata": {},
   "outputs": [],
   "source": []
  },
  {
   "cell_type": "markdown",
   "id": "marine-attendance",
   "metadata": {},
   "source": [
    "## Question 05:"
   ]
  },
  {
   "cell_type": "markdown",
   "id": "satellite-member",
   "metadata": {},
   "source": [
    "How do you perform the following tasks with lists in Python?\n",
    "- Test that two lists contain the same elements in the same order.\n",
    "- Copy one list to another. \n",
    "- Fill a list with zeroes, overwriting all elements in it.\n",
    "- Remove all elements from a list."
   ]
  },
  {
   "cell_type": "code",
   "execution_count": 118,
   "id": "01f7bfee",
   "metadata": {},
   "outputs": [
    {
     "name": "stdout",
     "output_type": "stream",
     "text": [
      "False\n",
      "False\n"
     ]
    }
   ],
   "source": [
    "# part no 01\n",
    "list1 = list(range(20,0,-1))\n",
    "list2 = list(range(0,21))\n",
    "# To check the content of two lists we use \"==\" operator\n",
    "print(list1==list2)\n",
    "# To check the memory addresses of two lists we use 'is\" operator\n",
    "print(list1 is list2)"
   ]
  },
  {
   "cell_type": "code",
   "execution_count": 120,
   "id": "a19e4a2d",
   "metadata": {},
   "outputs": [
    {
     "name": "stdout",
     "output_type": "stream",
     "text": [
      "[0, 1, 2, 3, 4, 5, 6, 7, 8, 9, 10, 11, 12, 13, 14, 15, 16, 17, 18, 19, 20]\n",
      "[0, 1, 2, 3, 4, 5, 6, 7, 8, 9, 10, 11, 12, 13, 14, 15, 16, 17, 18, 19, 20]\n"
     ]
    }
   ],
   "source": [
    "# part no 02\n",
    "list1 = list2\n",
    "print(list1)\n",
    "list2 = list1\n",
    "print(list2)"
   ]
  },
  {
   "cell_type": "code",
   "execution_count": 121,
   "id": "7fba0392",
   "metadata": {},
   "outputs": [
    {
     "name": "stdout",
     "output_type": "stream",
     "text": [
      "[0, 0, 0, 0, 0, 0, 0, 0, 0, 0, 0, 0, 0, 0, 0, 0, 0, 0, 0, 0, 0]\n"
     ]
    }
   ],
   "source": [
    "# part no 03\n",
    "i = 0\n",
    "while i<len(list1):\n",
    "    list1[i] = 0\n",
    "    i =i +1\n",
    "print(list1)\n",
    "# We can also use for loop for this purpose"
   ]
  },
  {
   "cell_type": "code",
   "execution_count": 123,
   "id": "00f763f3",
   "metadata": {},
   "outputs": [
    {
     "name": "stdout",
     "output_type": "stream",
     "text": [
      "[]\n"
     ]
    }
   ],
   "source": [
    "# part no 04\n",
    "# To remove all the elements of the list , we use clear method of list\n",
    "list1.clear()\n",
    "print(list1)"
   ]
  },
  {
   "cell_type": "code",
   "execution_count": null,
   "id": "170dd8c5",
   "metadata": {},
   "outputs": [],
   "source": []
  },
  {
   "cell_type": "code",
   "execution_count": null,
   "id": "49369a64",
   "metadata": {},
   "outputs": [],
   "source": []
  },
  {
   "cell_type": "code",
   "execution_count": null,
   "id": "bf59e33f",
   "metadata": {},
   "outputs": [],
   "source": []
  },
  {
   "cell_type": "markdown",
   "id": "crazy-locking",
   "metadata": {},
   "source": [
    "## Question 06:"
   ]
  },
  {
   "cell_type": "code",
   "execution_count": null,
   "id": "922e3004",
   "metadata": {},
   "outputs": [],
   "source": []
  },
  {
   "cell_type": "markdown",
   "id": "duplicate-thought",
   "metadata": {},
   "source": [
    "Write a program that initializes a list with ten random integers and then prints four \n",
    "lines of output, containing\n",
    "- Every element at an even index.\n",
    "- Every even element.\n",
    "- All elements in reverse order.\n",
    "- Only the first and last element."
   ]
  },
  {
   "cell_type": "code",
   "execution_count": 130,
   "id": "7dfec333",
   "metadata": {},
   "outputs": [
    {
     "name": "stdout",
     "output_type": "stream",
     "text": [
      "Enter 1 integer element of List :  5\n",
      "Enter 2 integer element of List :  34\n",
      "Enter 3 integer element of List :  65\n",
      "Enter 4 integer element of List :  76\n",
      "Enter 5 integer element of List :  12\n",
      "Enter 6 integer element of List :  54\n",
      "Enter 7 integer element of List :  7\n",
      "Enter 8 integer element of List :  89\n",
      "Enter 9 integer element of List :  15\n",
      "Enter 10 integer element of List :  86\n",
      "Original List is:  [5, 34, 65, 76, 12, 54, 7, 89, 15, 86]\n",
      "Sorted List is :  [5, 7, 12, 15, 34, 54, 65, 76, 86, 89]\n",
      "Elements at even index in original list are :  [5, 65, 12, 7, 15]\n",
      "Even Elements of the Original List are :  [34, 76, 12, 54, 86]\n",
      "Reverse of List or Original List :  [86, 86, 86]\n",
      "First and Last element of the Original List is :  5 86\n"
     ]
    }
   ],
   "source": [
    "def getList():\n",
    "    newlist = []\n",
    "    for i in range(10):\n",
    "        print(\"Enter\", i+1, \"integer element of List : \", end=\" \")\n",
    "        newlist.append(int(input()))\n",
    "    return newlist\n",
    "def display():\n",
    "#     calling of getList function and we will store its result into a variable of 'List'\n",
    "    List = getList()\n",
    "    print(\"Original List is: \", List)\n",
    "    sorted_List = sorted(List)\n",
    "    print(\"Sorted List is : \", sorted_List)\n",
    "    even_index = []\n",
    "    for i in range(len(List)):\n",
    "        if i%2==0:\n",
    "            even_index.append(List[i])\n",
    "    print(\"Elements at even index in original list are : \", even_index)\n",
    "    even_element = []\n",
    "    for i in List:\n",
    "        if i%2==0:\n",
    "            even_element.append(i)\n",
    "    print(\"Even Elements of the Original List are : \", even_element)\n",
    "    reverse_list = []\n",
    "#     first method to reverse list\n",
    "#     print(\"List in Reverse Order is : \", sorted_List[::-1])\n",
    "#     second method to reverse list and this method is very usefull interview point of view\n",
    "    for i in (len(List)-1,-1,-1):\n",
    "        reverse_list.append(List[i])\n",
    "    print(\"Reverse of List or Original List : \", reverse_list)\n",
    "    print(\"First and Last element of the Original List is : \", List[0], List[-1])\n",
    "def main():\n",
    "#     calling of display function\n",
    "    display()\n",
    "# calling of main function\n",
    "main()"
   ]
  },
  {
   "cell_type": "code",
   "execution_count": 114,
   "id": "5726cca5",
   "metadata": {},
   "outputs": [],
   "source": []
  },
  {
   "cell_type": "code",
   "execution_count": null,
   "id": "7dd10551",
   "metadata": {},
   "outputs": [],
   "source": []
  },
  {
   "cell_type": "code",
   "execution_count": null,
   "id": "quarterly-bridal",
   "metadata": {},
   "outputs": [],
   "source": []
  },
  {
   "cell_type": "markdown",
   "id": "bored-homework",
   "metadata": {},
   "source": [
    "## Question 07:\n",
    "Write a function removeMin that removes the minimum value from a list without using \n",
    "the min function or remove method. "
   ]
  },
  {
   "cell_type": "code",
   "execution_count": 143,
   "id": "blank-consideration",
   "metadata": {},
   "outputs": [
    {
     "name": "stdout",
     "output_type": "stream",
     "text": [
      "Original List is :  [44, 5, 7, 8, 7, 54, 453, 53, 45, 456, 34, 634, 51]\n",
      "Sorted List is :  [5, 7, 7, 8, 34, 44, 45, 51, 53, 54, 453, 456, 634]\n",
      "Minimun value in the List is :  5\n"
     ]
    }
   ],
   "source": [
    "# 1st Method\n",
    "# Here write your answer\n",
    "list1=[44,5,7,8,7,54,453,53,45,456,34,634,51]\n",
    "def removeMin(List):\n",
    "    sorted_list = sorted(List)\n",
    "    print(\"Original List is : \", List)\n",
    "    print(\"Sorted List is : \", sorted_list)\n",
    "    print(\"Minimun value in the List is : \",sorted_list.pop(0))\n",
    "removeMin(list1)"
   ]
  },
  {
   "cell_type": "code",
   "execution_count": null,
   "id": "710929b7",
   "metadata": {},
   "outputs": [],
   "source": []
  },
  {
   "cell_type": "code",
   "execution_count": 144,
   "id": "close-retrieval",
   "metadata": {},
   "outputs": [
    {
     "name": "stdout",
     "output_type": "stream",
     "text": [
      "Original List :  [44, 5, 7, 8, 7, 54, 453, 53, 45, 456, 34, 634, 51]\n",
      "Minimun Value in the List is :  5\n",
      "Index of Minimum value in the List is : 1\n"
     ]
    }
   ],
   "source": [
    "# 2nd Method using for loop and if statement\n",
    "def RemoveMin(List):\n",
    "    print(\"Original List : \", List)\n",
    "    min_value = List[0]\n",
    "    min_index = 0\n",
    "    for i in range(1, len(List)):\n",
    "        if min_value>List[i]:\n",
    "            min_value = List[i]\n",
    "            min_index = i\n",
    "    print(\"Minimun Value in the List is : \", min_value)\n",
    "    print(\"Index of Minimum value in the List is :\", min_index)\n",
    "RemoveMin(list1)"
   ]
  },
  {
   "cell_type": "code",
   "execution_count": null,
   "id": "e2836915",
   "metadata": {},
   "outputs": [],
   "source": []
  },
  {
   "cell_type": "code",
   "execution_count": null,
   "id": "1d4a485f",
   "metadata": {},
   "outputs": [],
   "source": []
  },
  {
   "cell_type": "markdown",
   "id": "abstract-liabilities",
   "metadata": {},
   "source": [
    "## Question 08:\n",
    "One acre of land is equivalent to 43,560 square feet. Write a program that asks the user \n",
    "to enter the total square feet in a tract of land, and then calculates and display the number of acres in the tract."
   ]
  },
  {
   "cell_type": "code",
   "execution_count": 181,
   "id": "brown-pharmacology",
   "metadata": {},
   "outputs": [
    {
     "name": "stdout",
     "output_type": "stream",
     "text": [
      "Enter total square feet in a tract of Land : 85832\n",
      "Total number of acres in 85832 square feet is : 1.97\n"
     ]
    }
   ],
   "source": [
    "# Here write your answer\n",
    "def TotalAcres(squareFeet):\n",
    "    one_acre = 43560\n",
    "    total_number_of_acres = squareFeet/one_acre\n",
    "    print(f\"Total number of acres in {squareFeet} square feet is : {format(total_number_of_acres, '.2f')}\")\n",
    "def Main():\n",
    "    square_feet = int(input(\"Enter total square feet in a tract of Land : \"))\n",
    "    TotalAcres(square_feet)\n",
    "Main()    "
   ]
  },
  {
   "cell_type": "code",
   "execution_count": null,
   "id": "90c88941",
   "metadata": {},
   "outputs": [],
   "source": []
  },
  {
   "cell_type": "code",
   "execution_count": null,
   "id": "74c73dc4",
   "metadata": {},
   "outputs": [],
   "source": []
  },
  {
   "cell_type": "markdown",
   "id": "connected-rapid",
   "metadata": {},
   "source": [
    "## Question 09:\n",
    "There are three seating categories at a stadium. For a softball game, Class A seats cost \n",
    "$15, Class  B  seats  cost $12, and Class C seats cost $9. Write a program that asks how many  tickets for each class of seats were sold, and then displays the amount of income \n",
    "generated from ticket sales.\n"
   ]
  },
  {
   "cell_type": "code",
   "execution_count": null,
   "id": "b75c16c3",
   "metadata": {},
   "outputs": [],
   "source": []
  },
  {
   "cell_type": "code",
   "execution_count": 208,
   "id": "structural-hazard",
   "metadata": {},
   "outputs": [
    {
     "name": "stdout",
     "output_type": "stream",
     "text": [
      "Enter number of Tickets for A class of seats were sold: 4\n",
      "Enter number of Tickets for B class of seats were sold: 5\n",
      "Enter number of Tickets for C class of seats were sold: 8\n",
      "Total amount of income generated from ticket sales is  : 192$\n"
     ]
    }
   ],
   "source": [
    "# Here write your answer\n",
    "def TicketSales(ClassA, ClassB, ClassC):\n",
    "    AseatCost = 15\n",
    "    BseatCost = 12\n",
    "    CseatCost = 9\n",
    "    TotalIncome = AseatCost*ClassA + BseatCost*ClassB + CseatCost*ClassC\n",
    "    print(\"Total amount of income generated from ticket sales is  : \", TotalIncome,'$', sep=\"\")\n",
    "    \n",
    "def GetTickets():\n",
    "    ClassA = int(input(\"Enter number of Tickets for A class of seats were sold: \"))\n",
    "    ClassB = int(input(\"Enter number of Tickets for B class of seats were sold: \"))    \n",
    "    ClassC = int(input(\"Enter number of Tickets for C class of seats were sold: \")) \n",
    "    TicketSales(ClassA, ClassB, ClassC)\n",
    "def Main():\n",
    "    GetTickets()\n",
    "Main()"
   ]
  },
  {
   "cell_type": "code",
   "execution_count": null,
   "id": "8e63db87",
   "metadata": {},
   "outputs": [],
   "source": []
  },
  {
   "cell_type": "code",
   "execution_count": null,
   "id": "3bb73da0",
   "metadata": {},
   "outputs": [],
   "source": []
  },
  {
   "cell_type": "markdown",
   "id": "independent-manor",
   "metadata": {},
   "source": [
    "## Question 10:\n",
    "Write a program in which create a list of 10 random integers and find the product of all elements of a list."
   ]
  },
  {
   "cell_type": "markdown",
   "id": "f8e03506",
   "metadata": {},
   "source": [
    "### First Method:\n",
    "Using Functions and Loops"
   ]
  },
  {
   "cell_type": "code",
   "execution_count": 198,
   "id": "primary-cheat",
   "metadata": {},
   "outputs": [
    {
     "name": "stdout",
     "output_type": "stream",
     "text": [
      "Enter 1 integer element of List :  3\n",
      "Enter 2 integer element of List :  4\n",
      "Enter 3 integer element of List :  5\n",
      "Enter 4 integer element of List :  76\n",
      "Enter 5 integer element of List :  34\n",
      "Enter 6 integer element of List :  23\n",
      "Enter 7 integer element of List :  6\n",
      "Enter 8 integer element of List :  76\n",
      "Enter 9 integer element of List :  87\n",
      "Enter 10 integer element of List :  3\n",
      "Original List is :  [3, 4, 5, 76, 34, 23, 6, 76, 87, 3]\n",
      "Product of all the numbers of the List is :  424401534720\n"
     ]
    }
   ],
   "source": [
    "#Here write your answer\n",
    "def getList():\n",
    "    newlist = []\n",
    "    for i in range(10):\n",
    "        print(\"Enter\", i+1, \"integer element of List : \", end=\" \")\n",
    "        newlist.append(int(input()))\n",
    "    return newlist\n",
    "def Product():\n",
    "    List = getList()\n",
    "    print(\"Original List is : \", List)\n",
    "    product = 1\n",
    "    for i in List:\n",
    "        product = product*i\n",
    "    print(\"Product of all the numbers of the List is : \", product)\n",
    "def main():\n",
    "    Product()\n",
    "main()"
   ]
  },
  {
   "cell_type": "code",
   "execution_count": null,
   "id": "80049710",
   "metadata": {},
   "outputs": [],
   "source": []
  },
  {
   "cell_type": "markdown",
   "id": "7f4ef83f",
   "metadata": {},
   "source": [
    "### Second Method :\n",
    "- Firstlt we will get List of 10 random integers using random module\n",
    "- Then we use functions and loops to find product of all the numbers of the list"
   ]
  },
  {
   "cell_type": "code",
   "execution_count": 207,
   "id": "precise-location",
   "metadata": {},
   "outputs": [
    {
     "name": "stdout",
     "output_type": "stream",
     "text": [
      "Original List :  [9, 2, 20, 5, 4, 3, 13, 3, 3, 10]\n",
      "Product of all the numbers of the List is :  25272000\n"
     ]
    }
   ],
   "source": [
    "import random\n",
    "def getRandomList():\n",
    "    RandomList = []\n",
    "#     Here we will get a list of 10 random numbers using random module\n",
    "    for i in range(1,11):\n",
    "        RandomList.append(int(random.randint(1,21)))\n",
    "    return RandomList\n",
    "def Product():\n",
    "    List = getRandomList()\n",
    "    print(\"Original List : \", List)\n",
    "    prod = 1\n",
    "    for i in List:\n",
    "        prod = prod*i\n",
    "        \n",
    "    print(\"Product of all the numbers of the List is : \", prod)\n",
    "def Main():\n",
    "    Product()\n",
    "Main()"
   ]
  },
  {
   "cell_type": "code",
   "execution_count": null,
   "id": "hundred-forum",
   "metadata": {},
   "outputs": [],
   "source": []
  },
  {
   "cell_type": "markdown",
   "id": "russian-squad",
   "metadata": {},
   "source": [
    "## Question 11:"
   ]
  },
  {
   "cell_type": "markdown",
   "id": "configured-affairs",
   "metadata": {},
   "source": [
    "Given the set definitions below, answer the following questions:    \n",
    "set1 = { 1, 2, 3, 4, 5 }   \n",
    "set2 = { 2, 4, 6, 8 }    \n",
    "set3 = { 1, 5, 9, 13, 17 }   \n",
    "- a.  Is set1 a subset of set2?\n",
    "- b.  Is the intersection of set1 and set3 empty?\n",
    "- c.  What is the result of performing set union on set1 and set2?\n",
    "- d.  What is the result of performing set intersection on set2 and set3?\n",
    "- e.  What is the result of performing set intersection on all three sets?\n",
    "- f.  What is the result of performing the set difference on set1 and set2 (set1 – set2)?\n",
    "- g.  What is the result of the instruction set1.discard(5)? \n",
    "- h.  What is the result of the instruction set2.discard(5)? "
   ]
  },
  {
   "cell_type": "code",
   "execution_count": 230,
   "id": "3801fb4c",
   "metadata": {},
   "outputs": [],
   "source": [
    "# Here write your answer\n",
    "set1 = {1,2,3,4,5}\n",
    "set2 = {2,4,6,8}\n",
    "set3 = {1,5,9,13,17}"
   ]
  },
  {
   "cell_type": "code",
   "execution_count": 231,
   "id": "accurate-brazil",
   "metadata": {},
   "outputs": [
    {
     "name": "stdout",
     "output_type": "stream",
     "text": [
      "False\n",
      "False\n",
      "Union of set1 and set2 is : {1, 2, 3, 4, 5, 6, 8}\n",
      "Intersection of set2 and set3 is : set()\n",
      "Intersection of set1, set2 and set3 is :  set()\n",
      "Difference of set1 and set2(set1-set2) is : {1, 3, 5} \n",
      "None\n",
      "None\n"
     ]
    }
   ],
   "source": [
    "# part no 01\n",
    "print(set1.issubset(set2)) # is set1 is a subset of set2\n",
    "\n",
    "# part no 02\n",
    "result = set1.intersection(set3)\n",
    "if result ==set():\n",
    "    print(True)\n",
    "else:\n",
    "    print(False)\n",
    "    \n",
    "# part no 03\n",
    "print(f\"Union of set1 and set2 is : {set1.union(set2)}\")\n",
    "\n",
    "# part no 04:\n",
    "print(f\"Intersection of set2 and set3 is : {set2.intersection(set3)}\")\n",
    "\n",
    "# part no 05\n",
    "print(f\"Intersection of set1, set2 and set3 is : \", set1.intersection(set2).intersection(set3))\n",
    "\n",
    "# part no 06\n",
    "print(f\"Difference of set1 and set2(set1-set2) is : {set1.difference(set2)} \")\n",
    "\n",
    "\n",
    "# part no 07\n",
    "print(set1.discard(5)) # This line of code remove 5 from the set if it is present otherwise\n",
    "# there is no change in the set\n",
    "\n",
    "\n",
    "# part no 08\n",
    "print(set2.discard(5))# This line of code remove 5 from the set if it is present otherwise\n",
    "# there is no change in the set"
   ]
  },
  {
   "cell_type": "markdown",
   "id": "qualified-basketball",
   "metadata": {},
   "source": [
    "## Question 12:"
   ]
  },
  {
   "cell_type": "markdown",
   "id": "noticed-pollution",
   "metadata": {},
   "source": [
    "Given three sets, set1, set2, and set3, write Python statement(s) to perform the following actions:  \n",
    "- a.  Create a new set of all elements that are in set1 or set2, but not both.\n",
    "- b.  Create a new set of all elements that are in only one of the three sets set1, set2, and set3.\n",
    "- c.  Create a new set of all elements that are in exactly two of the sets set1, set2, and set3.\n",
    "- d.  Create a new set of all integer elements in the range 1 through 25 that are not in set1.\n",
    "- e.  Create a new set of all integer elements in the range 1 through 25 that are not in any of the three sets set1, set2, or set3.\n",
    "- f.  Create a new set of all integer elements in the range 1 through 25 that are not in all three sets set1, set2, and set3."
   ]
  },
  {
   "cell_type": "markdown",
   "id": "c73e4666",
   "metadata": {},
   "source": [
    "Here you can also manully add elements in the sets by using loops.     \n",
    "But in this case, i am using random module to generate all sets"
   ]
  },
  {
   "cell_type": "code",
   "execution_count": null,
   "id": "a71f3e37",
   "metadata": {},
   "outputs": [],
   "source": []
  },
  {
   "cell_type": "code",
   "execution_count": 237,
   "id": "presidential-deadline",
   "metadata": {},
   "outputs": [
    {
     "name": "stdout",
     "output_type": "stream",
     "text": [
      "Elements of Set1 is  :  {2, 3, 9, 10, 13, 16, 17}\n",
      "Elements of Set2 is  :  {2, 5, 7, 8, 10, 15, 16, 17}\n",
      "Elements of Set3 is  :  {2, 4, 5, 6, 14, 17, 18, 20}\n",
      "All the elements that are in set1 or set2, but not both :  {3, 5, 7, 8, 9, 13, 15}\n",
      "All the elements that are in only one the three sets :  {9, 3, 13}\n",
      "All the elements that are in exactly two of the sets :  <built-in method difference of set object at 0x00000207021D3120>\n",
      "All integer elements of newset in range 1-25 that are not in set1. {1, 4, 5, 6, 7, 8, 11, 12, 14, 15, 18, 19, 20, 21, 22, 23, 24}\n",
      "All integer elements of newset1 in range 1-25 that are not in set1, set2 and set3:  {1, 11, 12, 19, 21, 22, 23, 24}\n",
      "All integer elements of newset2 in range 1-25 that are not in all set1,set2 and set3 :  {1, 11, 12, 19, 21, 22, 23, 24}\n"
     ]
    }
   ],
   "source": [
    "# Here write your answer\n",
    "def setManipulation(set1, set2, set3):\n",
    "    print(\"Elements of Set1 is  : \", set1)\n",
    "    print(\"Elements of Set2 is  : \", set2)\n",
    "    print(\"Elements of Set3 is  : \", set3)\n",
    "    \n",
    "#     part no 01\n",
    "    NonCommonElements = set1.symmetric_difference(set2)\n",
    "    print(\"All the elements that are in set1 or set2, but not both : \", NonCommonElements)\n",
    "    \n",
    "#     part no 02\n",
    "    OnlyOneSetElements = set1.difference(set2).difference(set3)\n",
    "    print(\"All the elements that are in only one the three sets : \", OnlyOneSetElements)\n",
    "    \n",
    "#     part no 03\n",
    "    OnlyTwoSetElements = set1.intersection(set2).difference\n",
    "    print(\"All the elements that are in exactly two of the sets : \", OnlyTwoSetElements)\n",
    "\n",
    "#     part no 04\n",
    "    newSet = set()\n",
    "    for i in range(1,25):\n",
    "        newSet.add(i)\n",
    "        if i in set1:\n",
    "            newSet.discard(i)\n",
    "    print(\"All integer elements of newset in range 1-25 that are not in set1.\", newSet)\n",
    "\n",
    "#     part no 05\n",
    "    newSet1 = set()\n",
    "    for i in range(1,25):\n",
    "        newSet1.add(i)\n",
    "        if i in set1:\n",
    "            newSet1.discard(i)\n",
    "        if i in set2:\n",
    "            newSet1.discard(i)\n",
    "        if i in set3:\n",
    "            newSet1.discard(i)\n",
    "    print(\"All integer elements of newset1 in range 1-25 that are not in set1, set2 and set3: \", newSet1)\n",
    "    \n",
    "#     part no 06\n",
    "    newset2 = set()\n",
    "    for i in range(1,25):\n",
    "        newset2.add(i)\n",
    "        if i in set1.union(set2).union(set3): # this is union of three sets\n",
    "            newset2.discard(i)\n",
    "    print(\"All integer elements of newset2 in range 1-25 that are not in all set1,set2 and set3 : \", newset2)\n",
    "    \n",
    "    \n",
    "import random\n",
    "def getSetsElements():\n",
    "    set1 = set()\n",
    "    set2 = set()\n",
    "    set3 = set()\n",
    "    for i in range(1,11):\n",
    "        set1.add(int(random.randint(1,20)))\n",
    "        set2.add(int(random.randint(1,20)))        \n",
    "        set3.add(int(random.randint(1,20)))        \n",
    "    setManipulation(set1,set2,set3)\n",
    "    \n",
    "def Main():\n",
    "    getSetsElements()\n",
    "Main()"
   ]
  },
  {
   "cell_type": "code",
   "execution_count": null,
   "id": "dressed-reflection",
   "metadata": {},
   "outputs": [],
   "source": []
  },
  {
   "cell_type": "markdown",
   "id": "willing-massachusetts",
   "metadata": {},
   "source": [
    "## Question 13:\n",
    "    "
   ]
  },
  {
   "cell_type": "markdown",
   "id": "whole-samuel",
   "metadata": {},
   "source": [
    "Write a program that asks a user to type in two strings and that prints\n",
    "- the characters that occur in both strings.\n",
    "- the characters that occur in one string but not the other.\n",
    "- the letters that don’t occur in either string.   \n",
    "Use the set function to turn a string into a set of characters."
   ]
  },
  {
   "cell_type": "markdown",
   "id": "a935d63d",
   "metadata": {},
   "source": [
    "### First Method:\n",
    "Using built-in set functions"
   ]
  },
  {
   "cell_type": "code",
   "execution_count": 171,
   "id": "5384f4f1",
   "metadata": {},
   "outputs": [
    {
     "name": "stdout",
     "output_type": "stream",
     "text": [
      "Enter First String : Ehtisham\n",
      "Enter Second String : Ayesha\n",
      "First String is  :  ehtisham\n",
      "Second String is  : ayesha\n",
      "Common Characters that occur in both string are :  haes\n",
      "Charcters of First String that are not in second string :  mit\n",
      "Characters of Second String that are not in First String :  y\n",
      "Non Common Characters of Both strings are :  itmy\n"
     ]
    }
   ],
   "source": [
    "def CheckStringContent(string1, string2):\n",
    "    string1 = string1.lower()\n",
    "    string2 = string2.lower()\n",
    "    print(\"First String is  : \", string1)\n",
    "    print(\"Second String is  :\", string2)\n",
    "    set1 = set(string1)\n",
    "    set2 = set(string2)\n",
    "#     part no 01\n",
    "    CommonCharacters = set1&set2 # Intersection OF TWO SETS\n",
    "    print(\"Common Characters that occur in both string are : \", \"\".join(CommonCharacters))\n",
    "    \n",
    "#     part no 02\n",
    "    FirstStringCharacters = set1.difference(set2) #difference of set1 and set2\n",
    "    print(\"Charcters of First String that are not in second string : \", \"\".join(FirstStringCharacters))\n",
    "    SecondStringCharacters = set2.difference(set1)\n",
    "    print(\"Characters of Second String that are not in First String : \", \"\".join(SecondStringCharacters))\n",
    "    NonCommonCharacters = set1.symmetric_difference(set2)\n",
    "    print(\"Non Common Characters of Both strings are : \", \"\".join(NonCommonCharacters))\n",
    "def Main():\n",
    "    string1 = input(\"Enter First String : \")\n",
    "    string2 = input(\"Enter Second String : \")\n",
    "    CheckStringContent(string1, string2)\n",
    "Main()"
   ]
  },
  {
   "cell_type": "markdown",
   "id": "d7223cc3",
   "metadata": {},
   "source": [
    "### Second Method :\n",
    "Using Loops and if statement"
   ]
  },
  {
   "cell_type": "code",
   "execution_count": 177,
   "id": "31e28e6e",
   "metadata": {},
   "outputs": [
    {
     "name": "stdout",
     "output_type": "stream",
     "text": [
      "Enter First String : Ehtisham\n",
      "Enter Second String  : Ayesha\n",
      "First String is :  ehtisham\n",
      "Second String is :  ayesha\n",
      "Common Charcters in both strings are :  ehsa\n",
      "Characters of First String that are not in second string : tim\n",
      "Characters of Second String that are not in First String :  y\n",
      "Non common characters of the both strings are:  timy\n"
     ]
    }
   ],
   "source": [
    "def StringManipulation(str1, str2):\n",
    "    str1 = str1.lower()\n",
    "    str2 = str2.lower()\n",
    "    print(\"First String is : \", str1)\n",
    "    print(\"Second String is : \", str2)\n",
    "    common_charcters = []\n",
    "    for i in str1:\n",
    "        if i in str2:\n",
    "            if i not in common_charcters:\n",
    "                common_charcters.append(i)\n",
    "    print(\"Common Charcters in both strings are : \", \"\".join(common_charcters))\n",
    "    FirstStringCharacters = []\n",
    "    for i in str1:\n",
    "        if i not in str2:\n",
    "            FirstStringCharacters.append(i)\n",
    "    print(\"Characters of First String that are not in second string :\",\"\".join(FirstStringCharacters))\n",
    "    SecondStringCharacters = []\n",
    "    for i in str2:\n",
    "        if i not in str1:\n",
    "            SecondStringCharacters.append(i)\n",
    "    print(\"Characters of Second String that are not in First String : \", \"\".join(SecondStringCharacters))\n",
    "    def CheckNonCommon(str1, str2):\n",
    "        NonCommon = []\n",
    "        for i in str1:\n",
    "            if i not in str2:\n",
    "                if i not in NonCommon:\n",
    "                    NonCommon.append(i)\n",
    "        for  i in str2:\n",
    "            if i not in str1:\n",
    "                if i not in NonCommon:\n",
    "                    NonCommon.append(i)\n",
    "        print(\"Non common characters of the both strings are: \", \"\".join(NonCommon))\n",
    "    CheckNonCommon(str1, str2)\n",
    "def main():\n",
    "    string1 = input(\"Enter First String : \")\n",
    "    string2 = input(\"Enter Second String  : \")\n",
    "    StringManipulation(string1, string2)\n",
    "main()    "
   ]
  },
  {
   "cell_type": "code",
   "execution_count": null,
   "id": "df202950",
   "metadata": {},
   "outputs": [],
   "source": []
  },
  {
   "cell_type": "code",
   "execution_count": null,
   "id": "electronic-action",
   "metadata": {},
   "outputs": [],
   "source": []
  },
  {
   "cell_type": "markdown",
   "id": "renewable-lightning",
   "metadata": {},
   "source": [
    "## Question 14:\n",
    "### Rainfall Statistics\n",
    "Design a program that lets the user enter the total rainfall for each of 12 months into a list. The program should calculate and display the total rainfall for the year, the average monthly rainfall, and the months with the highest and lowest amounts. "
   ]
  },
  {
   "cell_type": "code",
   "execution_count": 277,
   "id": "environmental-generator",
   "metadata": {},
   "outputs": [
    {
     "name": "stdout",
     "output_type": "stream",
     "text": [
      "Enter Rainfall of Jan month :  53\n",
      "Enter Rainfall of Feb month :  23\n",
      "Enter Rainfall of March month :  43\n",
      "Enter Rainfall of Apr month :  45\n",
      "Enter Rainfall of May month :  23\n",
      "Enter Rainfall of June month :  13\n",
      "Enter Rainfall of July month :  73\n",
      "Enter Rainfall of Aug month :  57\n",
      "Enter Rainfall of Sep month :  26\n",
      "Enter Rainfall of Oct month :  64\n",
      "Enter Rainfall of Nov month :  38\n",
      "Enter Rainfall of Dec month :  49\n",
      "Record of RainFall for each of 12 months is :  {'Jan': 53, 'Feb': 23, 'March': 43, 'Apr': 45, 'May': 23, 'June': 13, 'July': 73, 'Aug': 57, 'Sep': 26, 'Oct': 64, 'Nov': 38, 'Dec': 49}\n",
      "Total rainfall for the year is :  507\n",
      "Average monthly rainfall is :  42\n",
      "Month with highest rainfall is : ('July', 73)\n",
      "Month with lowest rainfall is : ('June', 13)\n"
     ]
    }
   ],
   "source": [
    "# Here write your answer\n",
    "def getTotalRainfall():\n",
    "    MonthNames = ['Jan','Feb','March','Apr','May','June','July','Aug','Sep','Oct','Nov','Dec']\n",
    "    Rainfall_dict = {}\n",
    "    for i in range(12):\n",
    "        print(f\"Enter Rainfall of {MonthNames[i]} month : \", end=\" \")\n",
    "        Rainfall_dict[MonthNames[i]] = int(input())\n",
    "    return Rainfall_dict\n",
    "def RainFallStatistics():\n",
    "    dict1 = getTotalRainfall()\n",
    "    print(\"Record of RainFall for each of 12 months is : \", dict1)\n",
    "    TotalRain = 0\n",
    "    for i in dict1.items():\n",
    "        TotalRain = TotalRain+i[1]\n",
    "    print(\"Total rainfall for the year is : \", TotalRain)\n",
    "    print(\"Average monthly rainfall is : \", TotalRain//len(dict1))\n",
    "    sort_dict = sorted(dict1.items(), key=lambda x:x[1], reverse=True)\n",
    "    print(f\"Month with highest rainfall is : {sort_dict[0]}\")\n",
    "    print(f\"Month with lowest rainfall is : {sort_dict[-1]}\")\n",
    "def main():\n",
    "    RainFallStatistics()\n",
    "main()"
   ]
  },
  {
   "cell_type": "code",
   "execution_count": null,
   "id": "polar-competition",
   "metadata": {},
   "outputs": [],
   "source": []
  },
  {
   "cell_type": "markdown",
   "id": "infectious-appliance",
   "metadata": {},
   "source": [
    "## Question 15:"
   ]
  },
  {
   "cell_type": "markdown",
   "id": "short-belief",
   "metadata": {},
   "source": [
    "Consider the given tuple and write the python code for  given statements: T1 = (1, 23, 4, 5, “A”, [“C”, “D”], (23, 45), 45).\n",
    "   - a.  Find Total elements in the given Tuple\n",
    "   - b.  Find the index of any given element \n",
    "   - c.  Find the occurence of any given element\n",
    "   - d.  How we can print \"CC\" for above given Tuple\n",
    "   - e.  Print first 5 elements of the tuple\n",
    "   - f.  Print last 5 elements of the tuple\n",
    "   - h.  How we can get this output (45, ['C', 'D'], 5) from given tuple\n",
    "   - i.  Concatenate elements of tuple present at index 4 and 5\n",
    "   - j.  Use max() function on given tuple, and what is your output?"
   ]
  },
  {
   "cell_type": "code",
   "execution_count": null,
   "id": "proper-aquarium",
   "metadata": {},
   "outputs": [],
   "source": []
  },
  {
   "cell_type": "code",
   "execution_count": 265,
   "id": "printable-forestry",
   "metadata": {},
   "outputs": [
    {
     "name": "stdout",
     "output_type": "stream",
     "text": [
      "Total number of the elements of Tuple T1 is  :  8\n",
      "Enter an element of tuple to find its index : 34\n",
      "34 does not exist in the tuple!\n",
      "Enter an element of tuple to find its occurence : 54\n",
      "54 does not exist in the tuple!\n",
      "CC from given Tuple :  CC\n",
      "First Five elements of the Tuple are :  1 23 4 5 A \n",
      "\n",
      "Last Five Elements of the Tuple are  :   45 (23, 45) ['C', 'D'] A 5 \n",
      "\n",
      "45 ['C', 'D'] 5 \n",
      "\n"
     ]
    }
   ],
   "source": [
    "# part no 01\n",
    "print(\"Total number of the elements of Tuple T1 is  : \", len(T1))\n",
    "\n",
    "# part no 02\n",
    "element = int(input(\"Enter an element of tuple to find its index : \"))\n",
    "if element in T1:\n",
    "    print(f\"{element} is at {T1.index(element)} in the given Tuple.\")\n",
    "else:\n",
    "    print(f\"{element} does not exist in the tuple!\")\n",
    "    \n",
    "# part no 03\n",
    "element = int(input(\"Enter an element of tuple to find its occurence : \"))\n",
    "if element in T1:\n",
    "    print(f\"{element} is at {T1.count(element)} in the given Tuple.\")\n",
    "else:\n",
    "    print(f\"{element} does not exist in the tuple!\")\n",
    "    \n",
    "# part no 04\n",
    "print(\"CC from given Tuple : \", T1[5][0]*2)\n",
    "\n",
    "# part no 05\n",
    "print(\"First Five elements of the Tuple are : \", end=\" \")\n",
    "for i in range(len(T1)):\n",
    "    print(T1[i], end=\" \")\n",
    "    if i==4:\n",
    "        break\n",
    "\n",
    "# part no 06\n",
    "print(\"\\n\")\n",
    "print(\"Last Five Elements of the Tuple are  :  \", end=\" \")\n",
    "for i in range(len(T1)-1,len(T1)-6,-1):\n",
    "    print(T1[i], end=\" \")\n",
    "    \n",
    "# part no 07\n",
    "print(\"\\n\")\n",
    "for i in range(len(T1)-1,2,-2):\n",
    "    print(T1[i] ,end=\" \")\n",
    "    \n",
    "# part no 08\n",
    "print(\"\\n\")\n",
    "# print(\"Concatenation of elements are 4th and 5th index: \", (T1[4]+T1[5]))\n",
    "# It will give us error because we can't concatenate a string with list\n",
    "\n",
    "# part no 09\n",
    "# print(max(T1))\n",
    "# It will give us error because we can't use max() on a tuple which contain integers as well as strings"
   ]
  },
  {
   "cell_type": "code",
   "execution_count": null,
   "id": "completed-improvement",
   "metadata": {},
   "outputs": [],
   "source": []
  },
  {
   "cell_type": "code",
   "execution_count": null,
   "id": "09f1300b",
   "metadata": {},
   "outputs": [],
   "source": []
  },
  {
   "cell_type": "code",
   "execution_count": null,
   "id": "121e5b95",
   "metadata": {},
   "outputs": [],
   "source": []
  }
 ],
 "metadata": {
  "kernelspec": {
   "display_name": "Python 3",
   "language": "python",
   "name": "python3"
  },
  "language_info": {
   "codemirror_mode": {
    "name": "ipython",
    "version": 3
   },
   "file_extension": ".py",
   "mimetype": "text/x-python",
   "name": "python",
   "nbconvert_exporter": "python",
   "pygments_lexer": "ipython3",
   "version": "3.8.7"
  }
 },
 "nbformat": 4,
 "nbformat_minor": 5
}
