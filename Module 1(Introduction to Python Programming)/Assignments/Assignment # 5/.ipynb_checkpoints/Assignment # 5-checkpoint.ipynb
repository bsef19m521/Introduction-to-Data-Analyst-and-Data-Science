{
 "cells": [
  {
   "cell_type": "markdown",
   "id": "forbidden-astrology",
   "metadata": {},
   "source": [
    "## Write answers of all the questions according to your own concepts"
   ]
  },
  {
   "cell_type": "markdown",
   "id": "traditional-shower",
   "metadata": {},
   "source": [
    "- Name :   \n",
    "- Email : "
   ]
  },
  {
   "cell_type": "markdown",
   "id": "recorded-canal",
   "metadata": {},
   "source": [
    "## Question no 01:\n",
    "Suppose x and y are variables, each of which contains a number. Write a code frag\u0002ment that sets y to x if x is positive and to 0 otherwise"
   ]
  },
  {
   "cell_type": "code",
   "execution_count": 1,
   "id": "existing-sunglasses",
   "metadata": {},
   "outputs": [],
   "source": [
    "# Here write your answer"
   ]
  },
  {
   "cell_type": "code",
   "execution_count": null,
   "id": "impaired-angola",
   "metadata": {},
   "outputs": [],
   "source": []
  },
  {
   "cell_type": "code",
   "execution_count": null,
   "id": "humanitarian-bibliography",
   "metadata": {},
   "outputs": [],
   "source": []
  },
  {
   "cell_type": "markdown",
   "id": "analyzed-timothy",
   "metadata": {},
   "source": [
    "## Question no 02:\n",
    "Write a Python program prints all integers that aren’t divisible by either 2 or 3 and lies between 1 and 50."
   ]
  },
  {
   "cell_type": "code",
   "execution_count": 2,
   "id": "favorite-example",
   "metadata": {},
   "outputs": [],
   "source": [
    "# Here write your answer"
   ]
  },
  {
   "cell_type": "code",
   "execution_count": null,
   "id": "amateur-sauce",
   "metadata": {},
   "outputs": [],
   "source": []
  },
  {
   "cell_type": "markdown",
   "id": "broad-medicare",
   "metadata": {},
   "source": [
    "## Question no 03:\n",
    "The program takes a number n and computes this series n+nn+nnn+nnnn+....+nnnnnnnnnn. Also store result of each term of series in a list. "
   ]
  },
  {
   "cell_type": "code",
   "execution_count": 24,
   "id": "posted-intro",
   "metadata": {},
   "outputs": [],
   "source": [
    "# Here write your answer"
   ]
  },
  {
   "cell_type": "code",
   "execution_count": null,
   "id": "9a9d3ad3",
   "metadata": {},
   "outputs": [],
   "source": []
  },
  {
   "cell_type": "code",
   "execution_count": null,
   "id": "f341d9da",
   "metadata": {},
   "outputs": [],
   "source": []
  },
  {
   "cell_type": "markdown",
   "id": "cutting-tender",
   "metadata": {},
   "source": [
    "## Question no 04:\n",
    "The program takes in an integer and prints the highest and smallest divisor of the given integer.\n",
    "##### Hint : use loop and list"
   ]
  },
  {
   "cell_type": "code",
   "execution_count": 35,
   "id": "center-premium",
   "metadata": {},
   "outputs": [],
   "source": [
    "# Here write your answer"
   ]
  },
  {
   "cell_type": "code",
   "execution_count": null,
   "id": "arabic-topic",
   "metadata": {},
   "outputs": [],
   "source": []
  },
  {
   "cell_type": "markdown",
   "id": "suspected-hopkins",
   "metadata": {},
   "source": [
    "## Question no 05:"
   ]
  },
  {
   "cell_type": "markdown",
   "id": "about-wagon",
   "metadata": {},
   "source": [
    "### Book Club Points\n",
    "Serendipity Booksellers has a book club that awards points to its customers based on the\n",
    "number of books purchased each month. The points are awarded as follows:     \n",
    "- f a customer purchases 0 books, he or she earns 0 points.\n",
    "- If a customer purchases 1 book, he or she earns 5 points.\n",
    "- If a customer purchases 2 books, he or she earns 15 points.\n",
    "- If a customer purchases 3 books, he or she earns 30 points.\n",
    "- If a customer purchases 4 or more books, he or she earns 60 points.   \n",
    "Write a program that asks the user to enter the number of books that he or she has purchased this month and displays the number of points awarded."
   ]
  },
  {
   "cell_type": "code",
   "execution_count": 36,
   "id": "documented-daughter",
   "metadata": {},
   "outputs": [],
   "source": [
    "# Here write your answer"
   ]
  },
  {
   "cell_type": "code",
   "execution_count": null,
   "id": "a3a22373",
   "metadata": {},
   "outputs": [],
   "source": []
  },
  {
   "cell_type": "code",
   "execution_count": null,
   "id": "ffa83ad7",
   "metadata": {},
   "outputs": [],
   "source": []
  },
  {
   "cell_type": "markdown",
   "id": "112ac13a",
   "metadata": {},
   "source": [
    "## Question no 06:\n",
    "Create a dictionary whose keys are month name and whose values are number of days in the corresponding month:   \n",
    "- (a) Ask the user to enter the month name and use the dictionary to tell how many days are in month.\n",
    "- (b) Print out all of the keys in alphabetical order.\n",
    "- (c) Print out all of the month with 31 days.\n",
    "- (d) Print out the (key - value) pair sorted  by the number of the days in each month. "
   ]
  },
  {
   "cell_type": "code",
   "execution_count": 1,
   "id": "norwegian-patrick",
   "metadata": {},
   "outputs": [],
   "source": [
    "# Here write your program"
   ]
  },
  {
   "cell_type": "code",
   "execution_count": null,
   "id": "39ae0e2e",
   "metadata": {},
   "outputs": [],
   "source": []
  },
  {
   "cell_type": "code",
   "execution_count": null,
   "id": "dc319576",
   "metadata": {},
   "outputs": [],
   "source": []
  },
  {
   "cell_type": "markdown",
   "id": "e5c9e147",
   "metadata": {},
   "source": [
    "## Question no 07:"
   ]
  },
  {
   "cell_type": "markdown",
   "id": "5ae1674b",
   "metadata": {},
   "source": [
    "### Roman Numerals\n",
    "Write a program that prompts the user to enter a number within the range of 1 through 10.\n",
    "The program should display the Roman numeral version of that number. If the number is\n",
    "outside the range of 1 through 10, the program should display an error message. The following table shows the Roman numerals for the numbers 1 through 10"
   ]
  },
  {
   "cell_type": "markdown",
   "id": "ed7334bd",
   "metadata": {},
   "source": [
    "|Number|       Roman Numeral|\n",
    "|------|--------------------|\n",
    "| 1    |         I          |\n",
    "| 2    |         II         |\n",
    "| 3    |         III        |\n",
    "| 4    |         IV         |\n",
    "| 5    |         V          |\n",
    "| 6    |         VI         |\n",
    "| 7    |         VII        |\n",
    "| 8    |         VIII       |\n",
    "| 9    |         IX         |\n",
    "| 10   |         X          |"
   ]
  },
  {
   "cell_type": "code",
   "execution_count": 2,
   "id": "74444efd",
   "metadata": {},
   "outputs": [],
   "source": [
    "# Here write your answer"
   ]
  },
  {
   "cell_type": "code",
   "execution_count": null,
   "id": "fd53ef96",
   "metadata": {},
   "outputs": [],
   "source": []
  },
  {
   "cell_type": "markdown",
   "id": "87f803e0",
   "metadata": {},
   "source": [
    "## Question no 08:\n",
    "Write a Python Program that take a string from user and count the number of vowels present in a string using sets.\n",
    "##### Sample : \"Ehtisham\"\n",
    "##### Output : 3"
   ]
  },
  {
   "cell_type": "code",
   "execution_count": 3,
   "id": "1c42d66a",
   "metadata": {},
   "outputs": [],
   "source": [
    "# Here write your answer"
   ]
  },
  {
   "cell_type": "code",
   "execution_count": null,
   "id": "c4fdfaa8",
   "metadata": {},
   "outputs": [],
   "source": []
  },
  {
   "cell_type": "markdown",
   "id": "490d6500",
   "metadata": {},
   "source": [
    "## Question no 09:"
   ]
  },
  {
   "cell_type": "markdown",
   "id": "03030196",
   "metadata": {},
   "source": [
    "#### Automated Teller Machine\n",
    "When you use an automated teller machine (ATM) with your bank card, you need \n",
    "to use a personal identification number (PIN) to access your account. If a user fails \n",
    "more than three times when entering the PIN, the machine will block the card. \n",
    "Assume that the user’s PIN is “1234” and write a program that asks the user for the \n",
    "PIN no more than three times, and does the following:\n",
    "- If the user enters the right number, print a message saying, “Your PIN is correct”, and end the program.\n",
    "- If the user enters a wrong number, print a message saying, “Your PIN is incorrect” and, if you have asked for the PIN less than three times, ask for it again.\n",
    "- If the user enters a wrong number three times, print a message saying “Your bank card is blocked” and end the program."
   ]
  },
  {
   "cell_type": "code",
   "execution_count": 4,
   "id": "a63524d0",
   "metadata": {},
   "outputs": [],
   "source": [
    "# Here write your answer"
   ]
  },
  {
   "cell_type": "code",
   "execution_count": null,
   "id": "15928454",
   "metadata": {},
   "outputs": [],
   "source": []
  },
  {
   "cell_type": "markdown",
   "id": "cb97164b",
   "metadata": {},
   "source": [
    "## Question no 10:"
   ]
  },
  {
   "cell_type": "markdown",
   "id": "a72ac75d",
   "metadata": {},
   "source": [
    "Given a dictionary \n",
    "gradeCounts = { \"A\": 8, \"D\": 3, \"B\": 15, \"F\": 2, \"C\": 6 }\n",
    "write the Python statement(s) to print:\n",
    "- a. all the keys.\n",
    "- b. all the values.\n",
    "- c. all the key and value pairs.\n",
    "- d. all of the key and value pairs in key order.\n",
    "- e. the average value.\n",
    "- f. a chart similar to the following in which each row contains a key followed by a number of asterisks equal to the key’s data value. The rows should be printed in key order, as shown below.     \n",
    "#### A: * * * * * * * *     \n",
    "#### B: * * * * * * * * * * * * * * *   \n",
    "#### C: * * * * * *    \n",
    "#### D: * * *    \n",
    "#### F: * *   "
   ]
  },
  {
   "cell_type": "code",
   "execution_count": 10,
   "id": "98ed5c9d",
   "metadata": {},
   "outputs": [],
   "source": [
    "# Here write your answer"
   ]
  },
  {
   "cell_type": "code",
   "execution_count": null,
   "id": "2f5b971a",
   "metadata": {},
   "outputs": [],
   "source": []
  },
  {
   "cell_type": "code",
   "execution_count": null,
   "id": "53c90b1a",
   "metadata": {},
   "outputs": [],
   "source": []
  },
  {
   "cell_type": "markdown",
   "id": "298450ac",
   "metadata": {},
   "source": [
    "## Question no 11:\n",
    "Write a program that rotates the element of a list so that the element at the first index moves to the second index, the element in the second index moves to the third index, etc., and the element in the last index moves to the first index.\n",
    "- Hint :     \n",
    "#### Input : list1 = [32, 4, 54, 6, 65, 547, 5, 47]\n",
    "#### Output: list1 = [47, 32, 4, 54, 6, 65, 547, 5]"
   ]
  },
  {
   "cell_type": "code",
   "execution_count": 11,
   "id": "94b7c641",
   "metadata": {},
   "outputs": [],
   "source": [
    "# Here write your answer"
   ]
  },
  {
   "cell_type": "code",
   "execution_count": null,
   "id": "0e796c97",
   "metadata": {},
   "outputs": [],
   "source": []
  },
  {
   "cell_type": "markdown",
   "id": "bd1b6395",
   "metadata": {},
   "source": [
    "## Question no 12:\n",
    "#### File Analysis:\n",
    "Write a program that reads the contents of two text files(File2.txt, File2.txt) and compares them in the following ways:    \n",
    "- It should display a list of all the unique words contained in both files.\n",
    "- It should display a list of the words that appear in both files.\n",
    "- It should display a list of the words that appear in the first file but not the second.\n",
    "- It should display a list of the words that appear in the second file but not the first.\n",
    "- It should display a list of the words that appear in either the first or second file but not both.\n",
    "###### Hint: Use set operations to perform these analyses and you can also use loops."
   ]
  },
  {
   "cell_type": "markdown",
   "id": "8291e522",
   "metadata": {},
   "source": [
    "To Read a data from a file you can use following syntax:\n"
   ]
  },
  {
   "cell_type": "code",
   "execution_count": null,
   "id": "b4ffc3be",
   "metadata": {},
   "outputs": [],
   "source": [
    "with open(\"file1.txt\", 'r') as f1:\n",
    "    data = f1.read()"
   ]
  },
  {
   "cell_type": "code",
   "execution_count": null,
   "id": "543695ce",
   "metadata": {},
   "outputs": [],
   "source": [
    "# Here write your answer"
   ]
  },
  {
   "cell_type": "code",
   "execution_count": null,
   "id": "6e4a90c5",
   "metadata": {},
   "outputs": [],
   "source": []
  },
  {
   "cell_type": "code",
   "execution_count": null,
   "id": "84831a4f",
   "metadata": {},
   "outputs": [],
   "source": []
  },
  {
   "cell_type": "markdown",
   "id": "d729582e",
   "metadata": {},
   "source": [
    "## Question no 13:"
   ]
  },
  {
   "cell_type": "markdown",
   "id": "82ca7c31",
   "metadata": {},
   "source": [
    "#### Write a program that prints a multiplication table, like this:    \n",
    " 1 2 3 4 5 6 7 8 9 10     \n",
    " 2 4 6 8 10 12 14 16 18 20     \n",
    " 3 6 9 12 15 18 21 24 27 30     \n",
    " . . .    \n",
    " 10 20 30 40 50 60 70 80 90 100   "
   ]
  },
  {
   "cell_type": "code",
   "execution_count": 12,
   "id": "cfc3e483",
   "metadata": {},
   "outputs": [],
   "source": [
    "# Here write your code"
   ]
  },
  {
   "cell_type": "code",
   "execution_count": null,
   "id": "5348c5d8",
   "metadata": {},
   "outputs": [],
   "source": []
  },
  {
   "cell_type": "code",
   "execution_count": null,
   "id": "37449141",
   "metadata": {},
   "outputs": [],
   "source": []
  },
  {
   "cell_type": "markdown",
   "id": "307d3a53",
   "metadata": {},
   "source": [
    "## Question no 14:\n",
    "Write a program that reads a word and prints the number of vowels in the word. For \n",
    "this exercise, assume that `a e i o u`  are vowels. For example, if the user provides the \n",
    "input `ehtisham`, the program prints 3 vowels"
   ]
  },
  {
   "cell_type": "code",
   "execution_count": 13,
   "id": "25ef9455",
   "metadata": {},
   "outputs": [],
   "source": [
    "# Here write your answer"
   ]
  },
  {
   "cell_type": "code",
   "execution_count": null,
   "id": "5fd1ad90",
   "metadata": {},
   "outputs": [],
   "source": []
  },
  {
   "cell_type": "markdown",
   "id": "d65603b5",
   "metadata": {},
   "source": [
    "## Question no 15:\n",
    "#### Pig Latin\n",
    "Write a program that accepts a sentence as input and converts each word to `Pig Latin.` In\n",
    "one version, to convert a word to Pig Latin you remove the first letter and place that letter at the end of the word. Then you append the string `ay` to the word. Here is an example:\n",
    "- English: I SLEPT MOST OF THE NIGHT\n",
    "- Pig Latin: IAY LEPTSAY OSTMAY FOAY HETAY IGHTNAy"
   ]
  },
  {
   "cell_type": "code",
   "execution_count": null,
   "id": "4e5658b9",
   "metadata": {},
   "outputs": [],
   "source": []
  },
  {
   "cell_type": "code",
   "execution_count": null,
   "id": "a1acc80c",
   "metadata": {},
   "outputs": [],
   "source": []
  },
  {
   "cell_type": "code",
   "execution_count": null,
   "id": "a1dacb65",
   "metadata": {},
   "outputs": [],
   "source": []
  },
  {
   "cell_type": "code",
   "execution_count": null,
   "id": "aa4164af",
   "metadata": {},
   "outputs": [],
   "source": []
  }
 ],
 "metadata": {
  "kernelspec": {
   "display_name": "Python 3",
   "language": "python",
   "name": "python3"
  },
  "language_info": {
   "codemirror_mode": {
    "name": "ipython",
    "version": 3
   },
   "file_extension": ".py",
   "mimetype": "text/x-python",
   "name": "python",
   "nbconvert_exporter": "python",
   "pygments_lexer": "ipython3",
   "version": "3.8.7"
  }
 },
 "nbformat": 4,
 "nbformat_minor": 5
}
