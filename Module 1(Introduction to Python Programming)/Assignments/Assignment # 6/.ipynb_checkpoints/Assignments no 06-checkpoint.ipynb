{
 "cells": [
  {
   "cell_type": "markdown",
   "id": "c04c4f2e",
   "metadata": {},
   "source": [
    "## Write answers of all the questions according to your own concepts"
   ]
  },
  {
   "cell_type": "markdown",
   "id": "46fd7c68",
   "metadata": {},
   "source": [
    "- Name : \n",
    "- Email : "
   ]
  },
  {
   "cell_type": "markdown",
   "id": "3978a454",
   "metadata": {},
   "source": [
    "### Note: Solve all the questions using user defined functions and loops. Try to avoid to use Built-in Functions"
   ]
  },
  {
   "cell_type": "markdown",
   "id": "3609e66c",
   "metadata": {},
   "source": [
    "## Question No 01:\n",
    "You have given a file `File.txt`. Perform the following operations on the file data.\n",
    "- Read all the content of the file and store in a list.\n",
    "- Remove `spaces` from each element of list and also remove a `.` if a word/element contains.\n",
    "- Create a dictionary which stores the `key` as word/element and `value` as  occurence/frequency  of that word/element in List.\n",
    "- Sort dictionary according to the words/elements having more count/occurences\n",
    "- Display a dictionary of words having values range between 15 and 20.\n"
   ]
  },
  {
   "cell_type": "code",
   "execution_count": 1,
   "id": "76c0517c",
   "metadata": {},
   "outputs": [],
   "source": [
    "# Here write your code"
   ]
  },
  {
   "cell_type": "code",
   "execution_count": null,
   "id": "950a7d12",
   "metadata": {},
   "outputs": [],
   "source": []
  },
  {
   "cell_type": "markdown",
   "id": "8662f149",
   "metadata": {},
   "source": [
    "## Question no 02:"
   ]
  },
  {
   "cell_type": "markdown",
   "id": "af4df2e8",
   "metadata": {},
   "source": [
    "Write a program in which take a sentence from user containing n words/strings. Remove all duplicates words/strings which are similar to each others.\n",
    "\n",
    "#### Sample Output:\n",
    "- Input : Python is great and Java is also great\n",
    "- Output : is also Java Python and great"
   ]
  },
  {
   "cell_type": "code",
   "execution_count": 6,
   "id": "bff4bba1",
   "metadata": {},
   "outputs": [],
   "source": [
    "# Here write your answer"
   ]
  },
  {
   "cell_type": "code",
   "execution_count": null,
   "id": "09d1cbde",
   "metadata": {},
   "outputs": [],
   "source": []
  },
  {
   "cell_type": "markdown",
   "id": "2f493e4d",
   "metadata": {},
   "source": [
    "## Question no 03:\n",
    "Print inverted star pattern of desired sizes.\n",
    "Below is the inverted star pattern of size n=5,Because there are 5 horizontal linesor rows consist of stars). \n",
    "   \n"
   ]
  },
  {
   "cell_type": "code",
   "execution_count": 11,
   "id": "c46408a0",
   "metadata": {},
   "outputs": [],
   "source": [
    "\"\"\"\n",
    "   *****\n",
    "    ****\n",
    "     ***\n",
    "      **\n",
    "       *\n",
    "       *\n",
    "      **\n",
    "     ***\n",
    "    ****\n",
    "   *****\n",
    "\"\"\""
   ]
  },
  {
   "cell_type": "code",
   "execution_count": 12,
   "id": "56fd45e6",
   "metadata": {},
   "outputs": [],
   "source": [
    "# Here write your answer"
   ]
  },
  {
   "cell_type": "code",
   "execution_count": null,
   "id": "b457191d",
   "metadata": {},
   "outputs": [],
   "source": []
  },
  {
   "cell_type": "markdown",
   "id": "b3bdbf26",
   "metadata": {},
   "source": [
    "## Question no 04:"
   ]
  },
  {
   "cell_type": "markdown",
   "id": "664ec81f",
   "metadata": {},
   "source": [
    "Write a function half_and_half that takes in a list and change the list such that the elements of the second half are now in the first half.\n",
    "### Sample : \n",
    "##### Case 1:\n",
    "if the size of list is even and content of list is as follows :     \n",
    "my_liist = [10,20,30,40,50,60]     \n",
    "The output: [40,50,60,10,20,30]    \n",
    "##### Case 2:    \n",
    "if the size of list is odd and content of list is as follows :     \n",
    "my_liist = [10,20,30,40,50,60,70]    \n",
    "The output: [50,60,70,40,10,20,30]    "
   ]
  },
  {
   "cell_type": "code",
   "execution_count": 13,
   "id": "a23abd52",
   "metadata": {},
   "outputs": [],
   "source": [
    "# Here write your answer"
   ]
  },
  {
   "cell_type": "code",
   "execution_count": null,
   "id": "f4756273",
   "metadata": {},
   "outputs": [],
   "source": []
  },
  {
   "cell_type": "markdown",
   "id": "891f4125",
   "metadata": {},
   "source": [
    "## Question no 05:\n",
    "Write a function that accepts a dictionary as an argument. If the dictionary contains replicate values, return an empty dictionary, otherwise, return a new dictionary whose values are now the keys and whose keys are the values.\n",
    "### Sample : \n",
    "- Input : {'a': 10, 'b': 20, 'c': 20}\n",
    "- Output : {}"
   ]
  },
  {
   "cell_type": "code",
   "execution_count": 14,
   "id": "2b65981f",
   "metadata": {},
   "outputs": [],
   "source": [
    "# Here write your answer"
   ]
  },
  {
   "cell_type": "code",
   "execution_count": null,
   "id": "8eca84bb",
   "metadata": {},
   "outputs": [],
   "source": []
  },
  {
   "cell_type": "markdown",
   "id": "e8c0ca4c",
   "metadata": {},
   "source": [
    "## Question no 06:"
   ]
  },
  {
   "cell_type": "markdown",
   "id": "0bd0554f",
   "metadata": {},
   "source": [
    "### Test Average and Grade\n",
    "Write a program that asks the user to enter five test scores. The program should display a letter grade for each score and the average test score. Write the following functions in the program:\n",
    "- calc_average—This function should accept five test scores as arguments and returnthe average of the scores.\n",
    "- determine_grade—This function should accept a test score as an argument andreturn a letter grade for the score, based on the following grading scale:"
   ]
  },
  {
   "cell_type": "markdown",
   "id": "88df4cc2",
   "metadata": {},
   "source": [
    "|Score   |       Letter Grade |\n",
    "|--------|--------------------|\n",
    "|90-100  |         A          |\n",
    "| 80-89  |         B          |\n",
    "| 70-79  |         C          |\n",
    "| 60-69  |         D          |\n",
    "|Below 60|         F          |"
   ]
  },
  {
   "cell_type": "code",
   "execution_count": 16,
   "id": "1ef3ffa8",
   "metadata": {},
   "outputs": [],
   "source": [
    "# Here write your asnwer"
   ]
  },
  {
   "cell_type": "code",
   "execution_count": null,
   "id": "f007f2e8",
   "metadata": {},
   "outputs": [],
   "source": []
  },
  {
   "cell_type": "code",
   "execution_count": null,
   "id": "7c8dfd45",
   "metadata": {},
   "outputs": [],
   "source": []
  },
  {
   "cell_type": "markdown",
   "id": "96740eb2",
   "metadata": {},
   "source": [
    "## Question no 07:\n",
    "#### Name and Email Addresses\n",
    "Write a program that keeps names and email addresses in a dictionary as key-value pairs.\n",
    "The program should display a menu that lets the user look up a person’s email address, add\n",
    "a new name and email address, change an existing email address, and delete an existing\n",
    "name and email address.\n",
    "-               Menu \n",
    "- 1.Check Person's Email Address\n",
    "- 2.Add new name and email\n",
    "- 3.Change an existing email\n",
    "- 4.Delete an existing email"
   ]
  },
  {
   "cell_type": "code",
   "execution_count": null,
   "id": "fa65e53c",
   "metadata": {},
   "outputs": [],
   "source": [
    "# Here write your answer"
   ]
  },
  {
   "cell_type": "code",
   "execution_count": null,
   "id": "d11851ba",
   "metadata": {},
   "outputs": [],
   "source": []
  },
  {
   "cell_type": "markdown",
   "id": "bca83aa1",
   "metadata": {},
   "source": [
    "## Question no 08:\n",
    "\n"
   ]
  },
  {
   "cell_type": "markdown",
   "id": "ad56245d",
   "metadata": {},
   "source": [
    "### Alphabetic Telephone Number Translator\n",
    "Many companies use telephone numbers like 555-GET-FOOD so the number is easier for\n",
    "their customers to remember. On a standard telephone, the alphabetic letters are mapped\n",
    "to numbers in the following fashion:   \n",
    "A, B, and C = 2     \n",
    "D, E, and F = 3     \n",
    "G, H, and I = 4    \n",
    "J, K, and L = 5    \n",
    "M, N, and O = 6    \n",
    "P, Q, R, and S = 7    \n",
    "T, U, and V = 8    \n",
    "W, X, Y, and Z = 9    \n",
    "Write a program that asks the user to enter a 10-character telephone number in the format\n",
    "XXX-XXX-XXXX. The application should display the telephone number with any alphabetic characters that appeared in the original translated to their numeric equivalent.\n",
    "### Sample: \n",
    "- Input: 555-GET-FOOD \n",
    "- Output: 555-438-3663"
   ]
  },
  {
   "cell_type": "code",
   "execution_count": 18,
   "id": "26e58ee0",
   "metadata": {},
   "outputs": [],
   "source": [
    "# Here write your answer"
   ]
  },
  {
   "cell_type": "code",
   "execution_count": null,
   "id": "e138fcaf",
   "metadata": {},
   "outputs": [],
   "source": []
  },
  {
   "cell_type": "markdown",
   "id": "9f272113",
   "metadata": {},
   "source": [
    "## Question no 09:\n",
    "### Color Mixer\n",
    "The colors red, blue, and yellow are known as the primary colors because they cannot be\n",
    "made by mixing other colors. When you mix two primary colors, you get a secondary color,\n",
    "as shown here: \n",
    "- When you mix red and blue, you get purple.\n",
    "- When you mix red and yellow, you get orange.\n",
    "- When you mix blue and yellow, you get green.    \n",
    "    \n",
    "Design a program that prompts the user to enter the names of two primary colors to mix.\n",
    "If the user enters anything other than `red`, `blue` or `yellow` the program should display an error message. Otherwise, the program should display the name of the secondary\n",
    "color that results. "
   ]
  },
  {
   "cell_type": "code",
   "execution_count": 19,
   "id": "18f53a23",
   "metadata": {},
   "outputs": [],
   "source": [
    "# Here write your answer"
   ]
  },
  {
   "cell_type": "code",
   "execution_count": null,
   "id": "7b0ad62a",
   "metadata": {},
   "outputs": [],
   "source": []
  },
  {
   "cell_type": "markdown",
   "id": "377deb35",
   "metadata": {},
   "source": [
    "## Question no 10:\n",
    "Write a function which takes a list of n-integers from user and display third largest element of the list without using built-in functions and also without using slicing.\n",
    "### Sample :\n",
    "- Input: [4,5,65,7,7,8,8,55,49]\n",
    "- Output: 49"
   ]
  },
  {
   "cell_type": "code",
   "execution_count": 20,
   "id": "ac3d1ba1",
   "metadata": {},
   "outputs": [],
   "source": [
    "# Here write your answer"
   ]
  },
  {
   "cell_type": "code",
   "execution_count": null,
   "id": "ca37b8af",
   "metadata": {},
   "outputs": [],
   "source": []
  },
  {
   "cell_type": "markdown",
   "id": "f8d8a9ef",
   "metadata": {},
   "source": [
    "## Question no 11:\n",
    "#### Make a function that encrypts a given input with these steps:\n",
    "Input: `\"apple\"`   \n",
    "Step 1: Reverse the input: `\"elppa\"`  \n",
    "Step 2: Replace all vowels using the following chart:    \n",
    "`a => 0`    \n",
    "`e => 1`  \n",
    "`i => 2`  \n",
    "`o => 2`  \n",
    "`u => 3`  \n",
    "`# \"1lpp0\"`  \n",
    "Step 3: Add `\"aca\"` to the end of the word: `\"1lpp0aca\"`  \n",
    "Output: `\"1lpp0aca\"`  \n",
    "**Examples:**   \n",
    "`encrypt(\"banana\") ➞ \"0n0n0baca\"`  \n",
    "`encrypt(\"karaca\") ➞ \"0c0r0kaca\"`  \n",
    "`encrypt(\"burak\") ➞ \"k0r3baca\"`  \n",
    "`encrypt(\"alpaca\") ➞ \"0c0pl0aca\"`  "
   ]
  },
  {
   "cell_type": "code",
   "execution_count": 21,
   "id": "c22750df",
   "metadata": {},
   "outputs": [],
   "source": [
    "# Here write your answer"
   ]
  },
  {
   "cell_type": "code",
   "execution_count": null,
   "id": "64cdbbbd",
   "metadata": {},
   "outputs": [],
   "source": []
  },
  {
   "cell_type": "markdown",
   "id": "47fff417",
   "metadata": {},
   "source": [
    "## Question no 12:\n",
    "### Financial Institution\n",
    "Financial institution provides professional services to banks and claims charges from the customers based on the number of man-days provided. Internally, it has set a scheme to motivate and reward staff to meet and exceed targeted billable utilization and revenues by paying a bonus for each day claimed from customers in excess of a threshold target.\n",
    "This quarterly scheme is calculated with a threshold target of 32 days per quarter, and the incentive payment for each billable day in excess of such threshold target is shown as follows:\n",
    "\n",
    "`Days                             Bonus  \n",
    "0 to 32 days                  Zero  \n",
    "33 to 40 days         SGD$325 per billable day  \n",
    "41 to 48 days         SGD$550 per billable day  \n",
    "Greater than 48 days      SGD$600 per billable day`\n",
    "\n",
    "Please note that incentive payment is calculated progressively. As an example, if an employee reached total billable days of 45 in a quarter, his/her incentive payment is computed as follows:  \n",
    "`32*0 + 8*325 + 5*550 = 5350`  \n",
    "Write a function to read the billable days of an employee and return the bonus he/she has obtained in that quarter.\n",
    "\n",
    "**Examples:**  \n",
    "`bonus(15) ➞ 0`  \n",
    "`bonus(37) ➞ 1625`  \n",
    "`bonus(50) ➞ 8200`  "
   ]
  },
  {
   "cell_type": "code",
   "execution_count": 22,
   "id": "75ac5ced",
   "metadata": {},
   "outputs": [],
   "source": [
    "# Here write your answer"
   ]
  },
  {
   "cell_type": "code",
   "execution_count": null,
   "id": "719bf524",
   "metadata": {},
   "outputs": [],
   "source": []
  },
  {
   "cell_type": "markdown",
   "id": "23953d84",
   "metadata": {},
   "source": [
    "## Question no 13:"
   ]
  },
  {
   "cell_type": "markdown",
   "id": "11c5725f",
   "metadata": {},
   "source": [
    "#### Implement a Python program to generate all sentences where subject is in [\"Pakistanis\", \"Indians\"] and verb is in [\"Play\", \"watch\"] and the object is in [\"Baseball\",\"cricket\"].\n",
    "#### Hint: Subject,Verb and Object should be declared in the program as shown below.\n",
    "subjects=[\"Pakistanis \",\"Indians\"]    \n",
    "verbs=[\"play\",\"watch\"]     \n",
    "objects=[\"Baseball\",\"Cricket\"]    \n",
    "#### Output should come as below:\n",
    "- Pakistanis play Baseball.\n",
    "- Pakistanis play Cricket.\n",
    "- Pakistanis watch Baseball.\n",
    "- Pakistanis watch Cricket.\n",
    "- Indians play Baseball.\n",
    "- Indians play Cricket.\n",
    "- Indians watch Baseball.\n",
    "- Indians watch Cricket."
   ]
  },
  {
   "cell_type": "code",
   "execution_count": 23,
   "id": "6f712296",
   "metadata": {},
   "outputs": [],
   "source": [
    "# Here write your answer"
   ]
  },
  {
   "cell_type": "code",
   "execution_count": null,
   "id": "fe6e6446",
   "metadata": {},
   "outputs": [],
   "source": []
  },
  {
   "cell_type": "markdown",
   "id": "7e0f4954",
   "metadata": {},
   "source": [
    "## Question no 14:\n",
    "A non-governmental organization needs a program to calculate the amount of finan cial assistance for needy families. The formula is as follows:\n",
    "- If the annual household income is between 30000 dollars and 40000 dollars and the household has at least three children, the amount is 1000 dollars per child.\n",
    "- If the annual household income is between 20000 dollars and 30000 dollars and the household has at least two children, the amount is 1500 dollars per child.\n",
    "- If the annual household income is less than 20000 dollars the amount is 2000 dollars per child.     \n",
    "  \n",
    "Implement a function for this computation. Write a program that asks for the \n",
    "household income and number of children for each applicant, printing the amount \n",
    "returned by your function. "
   ]
  },
  {
   "cell_type": "code",
   "execution_count": 24,
   "id": "bf90cfda",
   "metadata": {},
   "outputs": [],
   "source": [
    "# Here write your answer"
   ]
  },
  {
   "cell_type": "code",
   "execution_count": null,
   "id": "b72210f6",
   "metadata": {},
   "outputs": [],
   "source": []
  },
  {
   "cell_type": "markdown",
   "id": "898aae11",
   "metadata": {},
   "source": [
    "## Question no 15:\n",
    "Write list functions that carry out the following tasks for a list of integers. For each \n",
    "function, provide a test program. \n",
    "- a. Swap the first and last elements in the list.\n",
    "- b. Shift all elements by one to the right and move the last element into the first position. For example, 1 4 9 16 25 would be transformed into 25 1 4 9 16.\n",
    "- c. Replace all even elements with 0.\n",
    "- d. Replace each element except the first and last by the larger of its two neighbors.\n",
    "- e. Remove the middle element if the list length is odd, or the middle two elements if the length is even.\n",
    "- f. Move all even elements to the front, otherwise preserving the order of the elements. \n",
    "- g. Return the second-largest element in the list.\n",
    "- h. Return true if the list is currently sorted in increasing order.\n",
    "- i. Return true if the list contains two adjacent duplicate elements.\n",
    "- j. Return true if the list contains duplicate elements (which need not be adjacent)."
   ]
  },
  {
   "cell_type": "code",
   "execution_count": 25,
   "id": "c6f50a2e",
   "metadata": {},
   "outputs": [],
   "source": [
    "# Here write your answer"
   ]
  },
  {
   "cell_type": "code",
   "execution_count": null,
   "id": "4bbc794d",
   "metadata": {},
   "outputs": [],
   "source": []
  },
  {
   "cell_type": "code",
   "execution_count": null,
   "id": "1fdae8f4",
   "metadata": {},
   "outputs": [],
   "source": []
  }
 ],
 "metadata": {
  "kernelspec": {
   "display_name": "Python 3",
   "language": "python",
   "name": "python3"
  },
  "language_info": {
   "codemirror_mode": {
    "name": "ipython",
    "version": 3
   },
   "file_extension": ".py",
   "mimetype": "text/x-python",
   "name": "python",
   "nbconvert_exporter": "python",
   "pygments_lexer": "ipython3",
   "version": "3.8.7"
  }
 },
 "nbformat": 4,
 "nbformat_minor": 5
}
