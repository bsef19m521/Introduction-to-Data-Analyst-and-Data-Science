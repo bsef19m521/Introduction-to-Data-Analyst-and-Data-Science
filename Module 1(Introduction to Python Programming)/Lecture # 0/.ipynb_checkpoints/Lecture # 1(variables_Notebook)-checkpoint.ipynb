{
 "cells": [
  {
   "cell_type": "code",
   "execution_count": null,
   "id": "generous-requirement",
   "metadata": {},
   "outputs": [],
   "source": []
  },
  {
   "cell_type": "raw",
   "id": "latest-music",
   "metadata": {},
   "source": [
    "What is a variable in Python?\n",
    "How do you create a variable?\n",
    "How do you check the value within a variable?\n",
    "How do you create multiple variables in a single statement?\n",
    "How do you create multiple variables with the same value?\n",
    "How do you change the value of a variable?\n",
    "How do you reassign a variable by modifying the previous value?\n",
    "What are the rules for naming a variable?\n",
    "Are variable names case-sensitive? Do a_variable, A_Variable, and A_VARIABLE represent the same variable or different ones?\n",
    "How do you check the data type of a variable?"
   ]
  },
  {
   "cell_type": "code",
   "execution_count": null,
   "id": "super-detroit",
   "metadata": {},
   "outputs": [],
   "source": []
  }
 ],
 "metadata": {
  "kernelspec": {
   "display_name": "Python 3",
   "language": "python",
   "name": "python3"
  },
  "language_info": {
   "codemirror_mode": {
    "name": "ipython",
    "version": 3
   },
   "file_extension": ".py",
   "mimetype": "text/x-python",
   "name": "python",
   "nbconvert_exporter": "python",
   "pygments_lexer": "ipython3",
   "version": "3.8.7"
  }
 },
 "nbformat": 4,
 "nbformat_minor": 5
}
