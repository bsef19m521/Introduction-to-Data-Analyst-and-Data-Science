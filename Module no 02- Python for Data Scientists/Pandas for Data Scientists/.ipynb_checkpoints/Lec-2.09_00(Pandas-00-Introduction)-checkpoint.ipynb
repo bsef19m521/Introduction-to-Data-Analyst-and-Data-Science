{
 "cells": [
  {
   "cell_type": "markdown",
   "id": "e6686c3f",
   "metadata": {},
   "source": [
    "---   \n",
    "\n",
    "<h1 align=\"center\">Introduction to Data Analyst and Data Science for beginners</h1>\n",
    "<h1 align=\"center\">Lecture no 2.09-01(Pandas-00)</h1>\n",
    "\n",
    "---\n",
    "<h3><div align=\"right\">Ehtisham Sadiq</div></h3>    "
   ]
  },
  {
   "cell_type": "code",
   "execution_count": null,
   "id": "93fc3b7d",
   "metadata": {},
   "outputs": [],
   "source": []
  },
  {
   "cell_type": "markdown",
   "id": "4b694ef9",
   "metadata": {},
   "source": [
    "# _Python_Pandas_Introduction.ipynb_"
   ]
  },
  {
   "cell_type": "markdown",
   "id": "091eff40",
   "metadata": {},
   "source": [
    "<img align=\"center\" width=\"700\" height=\"700\"  src=\"images/pandas-apps.png\"  >"
   ]
  },
  {
   "cell_type": "markdown",
   "id": "5d881437",
   "metadata": {},
   "source": [
    ">-  **A Pandas Dataframe is a 2-dimensional labeled data structure (like SQL table) with heterogeneously typed columns, having both a row and a column index.**\n",
    ">-  **In short Pandas is a Software Libarary in Computer Programming and it is written for the Python Programming Language its work to do `data analysis and manipulation.`**"
   ]
  },
  {
   "cell_type": "markdown",
   "id": "d19983cc",
   "metadata": {},
   "source": [
    "## So, what is Pandas and how is it used in AI?\n",
    "\n",
    "Artificial Intelligence is about executing machine learning algorithms on products that we use every day. Any ML algorithm, for it to be effective, needs the following prerequisite steps to be done.\n",
    "- `Data Collection` – Conducting opinion Surveys, scraping the internet, etc.\n",
    "- `Data Handling` – Viewing data as a table, performing cleaning activities like checking for spellings, removal of blanks and wrong cases, removal of invalid values from data, etc.\n",
    "- `Data Visualization` – plotting appealing graphs, so anyone who looks at the data can know what story the data tells us.\n",
    "- `Pandas` – short for `Panel Data` (A panel is a 3D container of data) – is a library in python which contains in-built functions to clean, transform, manipulate, visualize and analyze data."
   ]
  },
  {
   "cell_type": "code",
   "execution_count": null,
   "id": "2356e85a",
   "metadata": {},
   "outputs": [],
   "source": []
  },
  {
   "cell_type": "markdown",
   "id": "e1e27161",
   "metadata": {},
   "source": [
    "## Key Features of Pandas\n",
    "<img src=\"images/Python-Pandas-Features.webp\" height=600px width=600px>\n",
    "\n",
    "\n",
    "- It has a fast and efficient DataFrame object with the default and customized indexing.\n",
    "- Used for reshaping and pivoting of the data sets.\n",
    "- Group by data for aggregations and transformations.\n",
    "- It is used for data alignment and integration of the missing data.\n",
    "- Provide the functionality of Time Series.\n",
    "- Process a variety of data sets in different formats like matrix data, tabular heterogeneous, time series.\n",
    "- Handle multiple operations of the data sets such as subsetting, slicing, filtering, groupBy, re-ordering, and re-shaping.\n",
    "- It integrates with the other libraries such as SciPy, and scikit-learn.\n",
    "- Provides fast performance, and If you want to speed it, even more, you can use the Cython."
   ]
  },
  {
   "cell_type": "markdown",
   "id": "671c929b",
   "metadata": {},
   "source": [
    "## Data Types\n",
    "A data type is used by a programming language to understand how to store and manipulate data.\n",
    "- `int` : Integer number, eg: 10, 12\n",
    "- `float` : Floating point number, eg: 100.2, 3.1415\n",
    "- `bool` : True/False value\n",
    "- `object` : Test, non-numeric, or a combination of text and non-numeric values, eg: Apple\n",
    "- `DateTime` : Date and time values\n",
    "- `category` : A finite list of values"
   ]
  },
  {
   "cell_type": "markdown",
   "id": "b1b7f2d9",
   "metadata": {},
   "source": [
    "## What does Pandas deal with?\n",
    "There are two major categories of data that you can come across while doing data analysis.\n",
    "- One dimensional data\n",
    "- Two-dimensional data\n",
    "\n",
    "These data can be of any data type. Character, number or even an object.\n",
    "\n",
    "> **Series in Pandas is one-dimensional data, and data frames are 2-dimensional data. A series can hold only a single data type, whereas a data frame is meant to contain more than one data type.**\n",
    "\n",
    "![](images/dataframe.webp)"
   ]
  },
  {
   "cell_type": "markdown",
   "id": "1b8cd2be",
   "metadata": {},
   "source": [
    "**In the example shown above, `Name` is a `series` and it is of the datatype – `Object` and it is treated as a character array. `Age` is another series and it is of the type – `Integer`. Third is the `Marks` is the third series and it is of the type `Integer` again.  The individual Series are one dimensional and hold only one data type. However, the `dataframe` as a whole contains more than 2 dimensions and is `heterogeneous` in nature.**"
   ]
  },
  {
   "cell_type": "markdown",
   "id": "12cac8ee",
   "metadata": {},
   "source": [
    "## Creating Series & data frames in python"
   ]
  },
  {
   "cell_type": "markdown",
   "id": "cdb43a09",
   "metadata": {},
   "source": [
    "#### Creating a simple Serie"
   ]
  },
  {
   "cell_type": "code",
   "execution_count": 6,
   "id": "0c47adab",
   "metadata": {},
   "outputs": [
    {
     "name": "stdout",
     "output_type": "stream",
     "text": [
      "0    Ehtisham\n",
      "1         Ali\n",
      "2      Ayesha\n",
      "3         Dua\n",
      "dtype: object\n"
     ]
    }
   ],
   "source": [
    "\n",
    "#importing pandas library\n",
    "import pandas as pd\n",
    " \n",
    "#Creating a list\n",
    "name = ['Ehtisham', 'Ali', 'Ayesha', 'Dua']\n",
    "\n",
    "#Creating a Series by passing list variable to Series() function of pandas \n",
    "name_series = pd.Series(name)\n",
    "\n",
    "#Printing Series\n",
    "print(name_series)"
   ]
  },
  {
   "cell_type": "code",
   "execution_count": 9,
   "id": "4a98259b",
   "metadata": {},
   "outputs": [
    {
     "name": "stdout",
     "output_type": "stream",
     "text": [
      "Type of name_Series is :  <class 'pandas.core.series.Series'>\n"
     ]
    }
   ],
   "source": [
    "# Let’s check type of Series\n",
    "print(\"Type of name_Series is : \",type(name_series))"
   ]
  },
  {
   "cell_type": "markdown",
   "id": "20d416d1",
   "metadata": {},
   "source": [
    "#### Creating multiple series"
   ]
  },
  {
   "cell_type": "code",
   "execution_count": 12,
   "id": "33d7be40",
   "metadata": {},
   "outputs": [
    {
     "name": "stdout",
     "output_type": "stream",
     "text": [
      "Name Series : \n",
      "0    Ehtisham\n",
      "1         Ali\n",
      "2      Ayesha\n",
      "3         Dua\n",
      "dtype: object\n",
      "Marks Series : \n",
      "0    91.5\n",
      "1    93.0\n",
      "2    80.0\n",
      "3    65.0\n",
      "dtype: float64\n",
      "Age Series : \n",
      "0    21\n",
      "1    18\n",
      "2    16\n",
      "3     6\n",
      "dtype: int64\n"
     ]
    }
   ],
   "source": [
    "name = ['Ehtisham', 'Ali', 'Ayesha', 'Dua']\n",
    "marks = [91.5,93,80,65]\n",
    "age = [21,18,16,6]\n",
    "\n",
    "#Creating a Series by passing list variable to Series() function of pandas \n",
    "name_ser = pd.Series(name)\n",
    "marks_ser = pd.Series(marks)\n",
    "age_ser = pd.Series(age)\n",
    "\n",
    "#Printing Series\n",
    "print(\"Name Series : \", name_ser, sep=\"\\n\")\n",
    "print(\"Marks Series : \", marks_ser, sep=\"\\n\")\n",
    "print(\"Age Series : \", age_ser, sep=\"\\n\")"
   ]
  },
  {
   "cell_type": "markdown",
   "id": "ea3248b2",
   "metadata": {},
   "source": [
    "#### Creating Dataframe from multiple Series "
   ]
  },
  {
   "cell_type": "code",
   "execution_count": 13,
   "id": "97911c87",
   "metadata": {},
   "outputs": [
    {
     "name": "stdout",
     "output_type": "stream",
     "text": [
      "Printing of DataFrame .... \n"
     ]
    },
    {
     "data": {
      "text/html": [
       "<div>\n",
       "<style scoped>\n",
       "    .dataframe tbody tr th:only-of-type {\n",
       "        vertical-align: middle;\n",
       "    }\n",
       "\n",
       "    .dataframe tbody tr th {\n",
       "        vertical-align: top;\n",
       "    }\n",
       "\n",
       "    .dataframe thead th {\n",
       "        text-align: right;\n",
       "    }\n",
       "</style>\n",
       "<table border=\"1\" class=\"dataframe\">\n",
       "  <thead>\n",
       "    <tr style=\"text-align: right;\">\n",
       "      <th></th>\n",
       "      <th>Name</th>\n",
       "      <th>Marks</th>\n",
       "      <th>Age</th>\n",
       "    </tr>\n",
       "  </thead>\n",
       "  <tbody>\n",
       "    <tr>\n",
       "      <th>0</th>\n",
       "      <td>Ehtisham</td>\n",
       "      <td>91.5</td>\n",
       "      <td>21</td>\n",
       "    </tr>\n",
       "    <tr>\n",
       "      <th>1</th>\n",
       "      <td>Ali</td>\n",
       "      <td>93.0</td>\n",
       "      <td>18</td>\n",
       "    </tr>\n",
       "    <tr>\n",
       "      <th>2</th>\n",
       "      <td>Ayesha</td>\n",
       "      <td>80.0</td>\n",
       "      <td>16</td>\n",
       "    </tr>\n",
       "    <tr>\n",
       "      <th>3</th>\n",
       "      <td>Dua</td>\n",
       "      <td>65.0</td>\n",
       "      <td>6</td>\n",
       "    </tr>\n",
       "  </tbody>\n",
       "</table>\n",
       "</div>"
      ],
      "text/plain": [
       "       Name  Marks  Age\n",
       "0  Ehtisham   91.5   21\n",
       "1       Ali   93.0   18\n",
       "2    Ayesha   80.0   16\n",
       "3       Dua   65.0    6"
      ]
     },
     "execution_count": 13,
     "metadata": {},
     "output_type": "execute_result"
    }
   ],
   "source": [
    "#Creating a Series by passing list variable to Series() function of pandas \n",
    "name_ser = pd.Series(name)\n",
    "marks_ser = pd.Series(marks)\n",
    "age_ser = pd.Series(age)\n",
    "\n",
    "# Creating a Dictionary by passing series as values of dictionary\n",
    "dic = {'Name':name_ser,\n",
    "      'Marks':marks_ser,\n",
    "      'Age':age_ser\n",
    "      }\n",
    "\n",
    "# Create dataframe by passing dictionary to pd.DataFrame function of pandas\n",
    "df = pd.DataFrame(dic)\n",
    "print(\"Printing of DataFrame .... \")\n",
    "df"
   ]
  },
  {
   "cell_type": "markdown",
   "id": "e2cc7256",
   "metadata": {},
   "source": [
    "#### How to add new column to the dataframe"
   ]
  },
  {
   "cell_type": "code",
   "execution_count": 14,
   "id": "aa7dfbee",
   "metadata": {},
   "outputs": [
    {
     "name": "stdout",
     "output_type": "stream",
     "text": [
      "Printing of DataFrame .... \n"
     ]
    },
    {
     "data": {
      "text/html": [
       "<div>\n",
       "<style scoped>\n",
       "    .dataframe tbody tr th:only-of-type {\n",
       "        vertical-align: middle;\n",
       "    }\n",
       "\n",
       "    .dataframe tbody tr th {\n",
       "        vertical-align: top;\n",
       "    }\n",
       "\n",
       "    .dataframe thead th {\n",
       "        text-align: right;\n",
       "    }\n",
       "</style>\n",
       "<table border=\"1\" class=\"dataframe\">\n",
       "  <thead>\n",
       "    <tr style=\"text-align: right;\">\n",
       "      <th></th>\n",
       "      <th>Name</th>\n",
       "      <th>Marks</th>\n",
       "      <th>Age</th>\n",
       "      <th>Address</th>\n",
       "    </tr>\n",
       "  </thead>\n",
       "  <tbody>\n",
       "    <tr>\n",
       "      <th>0</th>\n",
       "      <td>Ehtisham</td>\n",
       "      <td>91.5</td>\n",
       "      <td>21</td>\n",
       "      <td>Lahore</td>\n",
       "    </tr>\n",
       "    <tr>\n",
       "      <th>1</th>\n",
       "      <td>Ali</td>\n",
       "      <td>93.0</td>\n",
       "      <td>18</td>\n",
       "      <td>Okara</td>\n",
       "    </tr>\n",
       "    <tr>\n",
       "      <th>2</th>\n",
       "      <td>Ayesha</td>\n",
       "      <td>80.0</td>\n",
       "      <td>16</td>\n",
       "      <td>Okara</td>\n",
       "    </tr>\n",
       "    <tr>\n",
       "      <th>3</th>\n",
       "      <td>Dua</td>\n",
       "      <td>65.0</td>\n",
       "      <td>6</td>\n",
       "      <td>Okara</td>\n",
       "    </tr>\n",
       "  </tbody>\n",
       "</table>\n",
       "</div>"
      ],
      "text/plain": [
       "       Name  Marks  Age Address\n",
       "0  Ehtisham   91.5   21  Lahore\n",
       "1       Ali   93.0   18   Okara\n",
       "2    Ayesha   80.0   16   Okara\n",
       "3       Dua   65.0    6   Okara"
      ]
     },
     "execution_count": 14,
     "metadata": {},
     "output_type": "execute_result"
    }
   ],
   "source": [
    "address = pd.Series(['Lahore','Okara','Okara','Okara'])\n",
    "##Creating new column in the dataframe by providing s Series created using list\n",
    "df['Address'] = address\n",
    "print(\"Printing of DataFrame .... \")\n",
    "df"
   ]
  },
  {
   "cell_type": "markdown",
   "id": "453417b4",
   "metadata": {},
   "source": [
    "## All statistical functions\n",
    "- `count()` : Returns the number of times an element/data has occurred (non-null)\n",
    "- `sum()`\t: Returns sum of all values\n",
    "- `mean()` : Returns the average of all values\n",
    "- `median()` : Returns the median of all values\n",
    "- `mode()` : Returns the mode\n",
    "- `std()`\t: Returns the standard deviation\n",
    "- `min()`\t: Returns the minimum of all values\n",
    "- `max()`\t: Returns the maximum of all values\n",
    "- `abs()`\t: Returns the absolute value"
   ]
  },
  {
   "cell_type": "code",
   "execution_count": 17,
   "id": "feac8a34",
   "metadata": {},
   "outputs": [
    {
     "name": "stdout",
     "output_type": "stream",
     "text": [
      "Total number of elements in each column of dataframe \n"
     ]
    },
    {
     "data": {
      "text/plain": [
       "Name       4\n",
       "Marks      4\n",
       "Age        4\n",
       "Address    4\n",
       "dtype: int64"
      ]
     },
     "execution_count": 17,
     "metadata": {},
     "output_type": "execute_result"
    }
   ],
   "source": [
    "print(\"Total number of elements in each column of dataframe \")\n",
    "df.count()"
   ]
  },
  {
   "cell_type": "markdown",
   "id": "ac6bde45",
   "metadata": {},
   "source": [
    "## Input and Output\n",
    "\n",
    "- Often, you won’t be creating data but will be having it in some form, and you would want to import it to run your analysis on it. Fortunately, Pandas allows you to do this. Not only does it help in importing data, but you can also save your data in your desired format using Pandas.\n",
    "- The below table shows the formats supported by Pandas, the function to read files using Pandas, and the function to write files.\n",
    "|Input |type      |\tReader\tWriter |\n",
    "|------|----------|----------------|\n",
    "|CSV   |read_csv  |  to_csv        |\n",
    "|JSON  |read_json | to_json\n",
    "|HTML  |read_html |to_html\n",
    "|Excel |read_excel|to_excel\n",
    "|SAS   |read_sas  |–\n",
    "|Python|Pickle    |\tread_pickle\tto_pickle\n",
    "|SQL   |read_sql  |to_sql\n",
    "|Google|Big Query | read_gbq\tto_gbq"
   ]
  },
  {
   "cell_type": "code",
   "execution_count": 38,
   "id": "5064755d",
   "metadata": {},
   "outputs": [
    {
     "data": {
      "text/html": [
       "<div>\n",
       "<style scoped>\n",
       "    .dataframe tbody tr th:only-of-type {\n",
       "        vertical-align: middle;\n",
       "    }\n",
       "\n",
       "    .dataframe tbody tr th {\n",
       "        vertical-align: top;\n",
       "    }\n",
       "\n",
       "    .dataframe thead th {\n",
       "        text-align: right;\n",
       "    }\n",
       "</style>\n",
       "<table border=\"1\" class=\"dataframe\">\n",
       "  <thead>\n",
       "    <tr style=\"text-align: right;\">\n",
       "      <th></th>\n",
       "      <th>psl_year</th>\n",
       "      <th>match_number</th>\n",
       "      <th>team_1</th>\n",
       "      <th>team_2</th>\n",
       "      <th>inning</th>\n",
       "      <th>over</th>\n",
       "      <th>ball</th>\n",
       "      <th>runs</th>\n",
       "      <th>total_runs</th>\n",
       "      <th>wickets</th>\n",
       "      <th>is_four</th>\n",
       "      <th>is_six</th>\n",
       "      <th>is_wicket</th>\n",
       "      <th>wicket</th>\n",
       "      <th>wicket_text</th>\n",
       "      <th>result</th>\n",
       "    </tr>\n",
       "  </thead>\n",
       "  <tbody>\n",
       "    <tr>\n",
       "      <th>0</th>\n",
       "      <td>2016</td>\n",
       "      <td>1</td>\n",
       "      <td>Islamabad United</td>\n",
       "      <td>Quetta Gladiators</td>\n",
       "      <td>1</td>\n",
       "      <td>1</td>\n",
       "      <td>1</td>\n",
       "      <td>0</td>\n",
       "      <td>0</td>\n",
       "      <td>0</td>\n",
       "      <td>False</td>\n",
       "      <td>False</td>\n",
       "      <td>False</td>\n",
       "      <td>NaN</td>\n",
       "      <td>NaN</td>\n",
       "      <td>Gladiators</td>\n",
       "    </tr>\n",
       "    <tr>\n",
       "      <th>1</th>\n",
       "      <td>2016</td>\n",
       "      <td>1</td>\n",
       "      <td>Islamabad United</td>\n",
       "      <td>Quetta Gladiators</td>\n",
       "      <td>1</td>\n",
       "      <td>1</td>\n",
       "      <td>2</td>\n",
       "      <td>0</td>\n",
       "      <td>0</td>\n",
       "      <td>0</td>\n",
       "      <td>False</td>\n",
       "      <td>False</td>\n",
       "      <td>False</td>\n",
       "      <td>NaN</td>\n",
       "      <td>NaN</td>\n",
       "      <td>Gladiators</td>\n",
       "    </tr>\n",
       "    <tr>\n",
       "      <th>2</th>\n",
       "      <td>2016</td>\n",
       "      <td>1</td>\n",
       "      <td>Islamabad United</td>\n",
       "      <td>Quetta Gladiators</td>\n",
       "      <td>1</td>\n",
       "      <td>1</td>\n",
       "      <td>3</td>\n",
       "      <td>0</td>\n",
       "      <td>0</td>\n",
       "      <td>0</td>\n",
       "      <td>False</td>\n",
       "      <td>False</td>\n",
       "      <td>False</td>\n",
       "      <td>NaN</td>\n",
       "      <td>NaN</td>\n",
       "      <td>Gladiators</td>\n",
       "    </tr>\n",
       "    <tr>\n",
       "      <th>3</th>\n",
       "      <td>2016</td>\n",
       "      <td>1</td>\n",
       "      <td>Islamabad United</td>\n",
       "      <td>Quetta Gladiators</td>\n",
       "      <td>1</td>\n",
       "      <td>1</td>\n",
       "      <td>4</td>\n",
       "      <td>0</td>\n",
       "      <td>0</td>\n",
       "      <td>0</td>\n",
       "      <td>False</td>\n",
       "      <td>False</td>\n",
       "      <td>False</td>\n",
       "      <td>NaN</td>\n",
       "      <td>NaN</td>\n",
       "      <td>Gladiators</td>\n",
       "    </tr>\n",
       "    <tr>\n",
       "      <th>4</th>\n",
       "      <td>2016</td>\n",
       "      <td>1</td>\n",
       "      <td>Islamabad United</td>\n",
       "      <td>Quetta Gladiators</td>\n",
       "      <td>1</td>\n",
       "      <td>1</td>\n",
       "      <td>5</td>\n",
       "      <td>0</td>\n",
       "      <td>0</td>\n",
       "      <td>0</td>\n",
       "      <td>False</td>\n",
       "      <td>False</td>\n",
       "      <td>False</td>\n",
       "      <td>NaN</td>\n",
       "      <td>NaN</td>\n",
       "      <td>Gladiators</td>\n",
       "    </tr>\n",
       "  </tbody>\n",
       "</table>\n",
       "</div>"
      ],
      "text/plain": [
       "   psl_year  match_number            team_1             team_2  inning  over  \\\n",
       "0      2016             1  Islamabad United  Quetta Gladiators       1     1   \n",
       "1      2016             1  Islamabad United  Quetta Gladiators       1     1   \n",
       "2      2016             1  Islamabad United  Quetta Gladiators       1     1   \n",
       "3      2016             1  Islamabad United  Quetta Gladiators       1     1   \n",
       "4      2016             1  Islamabad United  Quetta Gladiators       1     1   \n",
       "\n",
       "   ball  runs  total_runs  wickets  is_four  is_six  is_wicket  wicket  \\\n",
       "0     1     0           0        0    False   False      False     NaN   \n",
       "1     2     0           0        0    False   False      False     NaN   \n",
       "2     3     0           0        0    False   False      False     NaN   \n",
       "3     4     0           0        0    False   False      False     NaN   \n",
       "4     5     0           0        0    False   False      False     NaN   \n",
       "\n",
       "  wicket_text      result  \n",
       "0         NaN  Gladiators  \n",
       "1         NaN  Gladiators  \n",
       "2         NaN  Gladiators  \n",
       "3         NaN  Gladiators  \n",
       "4         NaN  Gladiators  "
      ]
     },
     "execution_count": 38,
     "metadata": {},
     "output_type": "execute_result"
    }
   ],
   "source": [
    "#Read input file\n",
    "df = pd.read_csv('datasets/psl.csv')\n",
    "df.head()"
   ]
  },
  {
   "cell_type": "code",
   "execution_count": 42,
   "id": "dd2cf9d3",
   "metadata": {},
   "outputs": [],
   "source": [
    "# Save a dataframe to CSV File\n",
    "data = {'Name':['Captain America', 'Iron Man', 'Hulk', 'Thor','Black Panther'],\n",
    "        'Rating':[100, 80, 84, 93, 90],\n",
    "        'Place':['USA','USA','USA','Asgard','Wakanda']}\n",
    "# Create dataframe from above dictionary\n",
    "df = pd.DataFrame(data)\n",
    "df.to_csv(\"datasets/avengers.csv\")"
   ]
  },
  {
   "cell_type": "code",
   "execution_count": 44,
   "id": "74076a4a",
   "metadata": {},
   "outputs": [],
   "source": [
    "# !ls datasets/"
   ]
  },
  {
   "cell_type": "markdown",
   "id": "497073e5",
   "metadata": {},
   "source": [
    "## Aggregation\n",
    "- The aggregation function can be applied against a single or more column. You can either apply the same aggregate function across various columns or different aggregate functions across various columns.\n",
    "- Syntax : \n",
    " >- DataFrame.aggregate(self, func, axis=0, *args, ***kwargs)\n",
    " \n",
    "<img src=\"images/pandas-agg-func.png\" height=400px width=600px>"
   ]
  },
  {
   "cell_type": "code",
   "execution_count": null,
   "id": "627d88fe",
   "metadata": {},
   "outputs": [],
   "source": []
  },
  {
   "cell_type": "code",
   "execution_count": 56,
   "id": "09c13cd1",
   "metadata": {},
   "outputs": [
    {
     "data": {
      "text/html": [
       "<div>\n",
       "<style scoped>\n",
       "    .dataframe tbody tr th:only-of-type {\n",
       "        vertical-align: middle;\n",
       "    }\n",
       "\n",
       "    .dataframe tbody tr th {\n",
       "        vertical-align: top;\n",
       "    }\n",
       "\n",
       "    .dataframe thead th {\n",
       "        text-align: right;\n",
       "    }\n",
       "</style>\n",
       "<table border=\"1\" class=\"dataframe\">\n",
       "  <thead>\n",
       "    <tr style=\"text-align: right;\">\n",
       "      <th></th>\n",
       "      <th>continent</th>\n",
       "      <th>pop</th>\n",
       "    </tr>\n",
       "  </thead>\n",
       "  <tbody>\n",
       "    <tr>\n",
       "      <th>0</th>\n",
       "      <td>Asia</td>\n",
       "      <td>8425333.0</td>\n",
       "    </tr>\n",
       "    <tr>\n",
       "      <th>1</th>\n",
       "      <td>Asia</td>\n",
       "      <td>9240934.0</td>\n",
       "    </tr>\n",
       "    <tr>\n",
       "      <th>2</th>\n",
       "      <td>Asia</td>\n",
       "      <td>10267083.0</td>\n",
       "    </tr>\n",
       "    <tr>\n",
       "      <th>3</th>\n",
       "      <td>Asia</td>\n",
       "      <td>11537966.0</td>\n",
       "    </tr>\n",
       "    <tr>\n",
       "      <th>4</th>\n",
       "      <td>Asia</td>\n",
       "      <td>13079460.0</td>\n",
       "    </tr>\n",
       "  </tbody>\n",
       "</table>\n",
       "</div>"
      ],
      "text/plain": [
       "  continent         pop\n",
       "0      Asia   8425333.0\n",
       "1      Asia   9240934.0\n",
       "2      Asia  10267083.0\n",
       "3      Asia  11537966.0\n",
       "4      Asia  13079460.0"
      ]
     },
     "execution_count": 56,
     "metadata": {},
     "output_type": "execute_result"
    }
   ],
   "source": [
    "data_url = 'http://bit.ly/2cLzoxH'\n",
    "# read data from url as pandas dataframe\n",
    "gapminder = pd.read_csv(data_url)\n",
    "gapminder_data = gapminder[['continent','pop']]\n",
    "gapminder_data.head()\n",
    "# gapminder.head()"
   ]
  },
  {
   "cell_type": "code",
   "execution_count": 51,
   "id": "53f51563",
   "metadata": {},
   "outputs": [
    {
     "name": "stdout",
     "output_type": "stream",
     "text": [
      "Mean of population :  29601212.32511736\n",
      "Minimum value of population :  60011.0\n",
      "Maximum value of population :  1318683096.0\n",
      "Std of population :  106157896.74682792\n"
     ]
    }
   ],
   "source": [
    "# Using Aggregate Functions on Series\n",
    "mean  = gapminder_data['pop'].aggregate('mean')\n",
    "print(\"Mean of population : \", mean)\n",
    "\n",
    "Min  = gapminder_data['pop'].aggregate('min')\n",
    "print(\"Minimum value of population : \", Min)\n",
    "\n",
    "Max  = gapminder_data['pop'].aggregate('max')\n",
    "print(\"Maximum value of population : \", Max)\n",
    "\n",
    "Std  = gapminder_data['pop'].aggregate('std')\n",
    "print(\"Std of population : \", Std)"
   ]
  },
  {
   "cell_type": "code",
   "execution_count": 54,
   "id": "4630b900",
   "metadata": {},
   "outputs": [
    {
     "data": {
      "text/plain": [
       "sum    5.044047e+10\n",
       "min    6.001100e+04\n",
       "max    1.318683e+09\n",
       "Name: pop, dtype: float64"
      ]
     },
     "execution_count": 54,
     "metadata": {},
     "output_type": "execute_result"
    }
   ],
   "source": [
    "# Using multiple Aggregate Functions on Dataframe\n",
    "gapminder_data['pop'].aggregate(['sum','min','max'])"
   ]
  },
  {
   "cell_type": "code",
   "execution_count": 57,
   "id": "8621473a",
   "metadata": {},
   "outputs": [
    {
     "data": {
      "text/html": [
       "<div>\n",
       "<style scoped>\n",
       "    .dataframe tbody tr th:only-of-type {\n",
       "        vertical-align: middle;\n",
       "    }\n",
       "\n",
       "    .dataframe tbody tr th {\n",
       "        vertical-align: top;\n",
       "    }\n",
       "\n",
       "    .dataframe thead th {\n",
       "        text-align: right;\n",
       "    }\n",
       "</style>\n",
       "<table border=\"1\" class=\"dataframe\">\n",
       "  <thead>\n",
       "    <tr style=\"text-align: right;\">\n",
       "      <th></th>\n",
       "      <th>pop</th>\n",
       "      <th>lifeExp</th>\n",
       "    </tr>\n",
       "  </thead>\n",
       "  <tbody>\n",
       "    <tr>\n",
       "      <th>sum</th>\n",
       "      <td>5.044047e+10</td>\n",
       "      <td>101344.44468</td>\n",
       "    </tr>\n",
       "    <tr>\n",
       "      <th>min</th>\n",
       "      <td>6.001100e+04</td>\n",
       "      <td>23.59900</td>\n",
       "    </tr>\n",
       "    <tr>\n",
       "      <th>max</th>\n",
       "      <td>1.318683e+09</td>\n",
       "      <td>82.60300</td>\n",
       "    </tr>\n",
       "  </tbody>\n",
       "</table>\n",
       "</div>"
      ],
      "text/plain": [
       "              pop       lifeExp\n",
       "sum  5.044047e+10  101344.44468\n",
       "min  6.001100e+04      23.59900\n",
       "max  1.318683e+09      82.60300"
      ]
     },
     "execution_count": 57,
     "metadata": {},
     "output_type": "execute_result"
    }
   ],
   "source": [
    "# Using multiple Aggregate Functions on Multiple columns of Dataframe\n",
    "gapminder[['pop','lifeExp']].aggregate(['sum','min','max'])"
   ]
  },
  {
   "cell_type": "code",
   "execution_count": 59,
   "id": "76155399",
   "metadata": {},
   "outputs": [
    {
     "data": {
      "text/html": [
       "<div>\n",
       "<style scoped>\n",
       "    .dataframe tbody tr th:only-of-type {\n",
       "        vertical-align: middle;\n",
       "    }\n",
       "\n",
       "    .dataframe tbody tr th {\n",
       "        vertical-align: top;\n",
       "    }\n",
       "\n",
       "    .dataframe thead th {\n",
       "        text-align: right;\n",
       "    }\n",
       "</style>\n",
       "<table border=\"1\" class=\"dataframe\">\n",
       "  <thead>\n",
       "    <tr style=\"text-align: right;\">\n",
       "      <th></th>\n",
       "      <th>pop</th>\n",
       "      <th>lifeExp</th>\n",
       "    </tr>\n",
       "  </thead>\n",
       "  <tbody>\n",
       "    <tr>\n",
       "      <th>sum</th>\n",
       "      <td>5.044047e+10</td>\n",
       "      <td>101344.44468</td>\n",
       "    </tr>\n",
       "    <tr>\n",
       "      <th>min</th>\n",
       "      <td>6.001100e+04</td>\n",
       "      <td>23.59900</td>\n",
       "    </tr>\n",
       "    <tr>\n",
       "      <th>max</th>\n",
       "      <td>1.318683e+09</td>\n",
       "      <td>82.60300</td>\n",
       "    </tr>\n",
       "  </tbody>\n",
       "</table>\n",
       "</div>"
      ],
      "text/plain": [
       "              pop       lifeExp\n",
       "sum  5.044047e+10  101344.44468\n",
       "min  6.001100e+04      23.59900\n",
       "max  1.318683e+09      82.60300"
      ]
     },
     "execution_count": 59,
     "metadata": {},
     "output_type": "execute_result"
    }
   ],
   "source": [
    "# We can also perform above task by using below code\n",
    "gapminder.aggregate({'pop':['sum','min','max'],\n",
    "                    'lifeExp':['sum','min','max']})"
   ]
  },
  {
   "cell_type": "code",
   "execution_count": 63,
   "id": "97cef0ef",
   "metadata": {},
   "outputs": [
    {
     "data": {
      "text/html": [
       "<div>\n",
       "<style scoped>\n",
       "    .dataframe tbody tr th:only-of-type {\n",
       "        vertical-align: middle;\n",
       "    }\n",
       "\n",
       "    .dataframe tbody tr th {\n",
       "        vertical-align: top;\n",
       "    }\n",
       "\n",
       "    .dataframe thead th {\n",
       "        text-align: right;\n",
       "    }\n",
       "</style>\n",
       "<table border=\"1\" class=\"dataframe\">\n",
       "  <thead>\n",
       "    <tr style=\"text-align: right;\">\n",
       "      <th></th>\n",
       "      <th>year</th>\n",
       "      <th>pop</th>\n",
       "      <th>lifeExp</th>\n",
       "      <th>gdpPercap</th>\n",
       "    </tr>\n",
       "  </thead>\n",
       "  <tbody>\n",
       "    <tr>\n",
       "      <th>count</th>\n",
       "      <td>1704.00000</td>\n",
       "      <td>1.704000e+03</td>\n",
       "      <td>1704.000000</td>\n",
       "      <td>1704.000000</td>\n",
       "    </tr>\n",
       "    <tr>\n",
       "      <th>mean</th>\n",
       "      <td>1979.50000</td>\n",
       "      <td>2.960121e+07</td>\n",
       "      <td>59.474439</td>\n",
       "      <td>7215.327081</td>\n",
       "    </tr>\n",
       "    <tr>\n",
       "      <th>std</th>\n",
       "      <td>17.26533</td>\n",
       "      <td>1.061579e+08</td>\n",
       "      <td>12.917107</td>\n",
       "      <td>9857.454543</td>\n",
       "    </tr>\n",
       "    <tr>\n",
       "      <th>min</th>\n",
       "      <td>1952.00000</td>\n",
       "      <td>6.001100e+04</td>\n",
       "      <td>23.599000</td>\n",
       "      <td>241.165876</td>\n",
       "    </tr>\n",
       "    <tr>\n",
       "      <th>25%</th>\n",
       "      <td>1965.75000</td>\n",
       "      <td>2.793664e+06</td>\n",
       "      <td>48.198000</td>\n",
       "      <td>1202.060309</td>\n",
       "    </tr>\n",
       "    <tr>\n",
       "      <th>50%</th>\n",
       "      <td>1979.50000</td>\n",
       "      <td>7.023596e+06</td>\n",
       "      <td>60.712500</td>\n",
       "      <td>3531.846988</td>\n",
       "    </tr>\n",
       "    <tr>\n",
       "      <th>75%</th>\n",
       "      <td>1993.25000</td>\n",
       "      <td>1.958522e+07</td>\n",
       "      <td>70.845500</td>\n",
       "      <td>9325.462346</td>\n",
       "    </tr>\n",
       "    <tr>\n",
       "      <th>max</th>\n",
       "      <td>2007.00000</td>\n",
       "      <td>1.318683e+09</td>\n",
       "      <td>82.603000</td>\n",
       "      <td>113523.132900</td>\n",
       "    </tr>\n",
       "  </tbody>\n",
       "</table>\n",
       "</div>"
      ],
      "text/plain": [
       "             year           pop      lifeExp      gdpPercap\n",
       "count  1704.00000  1.704000e+03  1704.000000    1704.000000\n",
       "mean   1979.50000  2.960121e+07    59.474439    7215.327081\n",
       "std      17.26533  1.061579e+08    12.917107    9857.454543\n",
       "min    1952.00000  6.001100e+04    23.599000     241.165876\n",
       "25%    1965.75000  2.793664e+06    48.198000    1202.060309\n",
       "50%    1979.50000  7.023596e+06    60.712500    3531.846988\n",
       "75%    1993.25000  1.958522e+07    70.845500    9325.462346\n",
       "max    2007.00000  1.318683e+09    82.603000  113523.132900"
      ]
     },
     "execution_count": 63,
     "metadata": {},
     "output_type": "execute_result"
    }
   ],
   "source": [
    "# df.describe()  gives overall descriptive view of our dataset\n",
    "gapminder.describe()"
   ]
  },
  {
   "cell_type": "markdown",
   "id": "54d4b839",
   "metadata": {},
   "source": [
    "## Groupby\n",
    "- Pandas groupby function is used to split the DataFrame into groups based on some criteria. \n",
    "- Similar to the `SQL GROUP BY` clause pandas `DataFrame.groupby()` function is used to collect the identical data into groups and perform aggregate functions on the grouped data. Group by operation involves splitting the data, applying some functions, and finally aggregating the results.\n",
    "\n",
    "<img src=\"images/pandas-groupby-standard-dev.png.webp\" height=500px width=500px>\n",
    "<img src=\"images/groupby-example.png\" height=700px width=700px>"
   ]
  },
  {
   "cell_type": "markdown",
   "id": "735cfd10",
   "metadata": {},
   "source": [
    "### Syntax of Pandas DataFrame.groupby()\n",
    "\n",
    "       \n",
    "       `DataFrame.groupby(by=None, axis=0, level=None, as_index=True,     \n",
    "       sort=True, group_keys=True, squeeze=<no_default>,      \n",
    "       observed=False, dropna=True)`\n",
    "       \n",
    "       \n",
    "- `by` – List of column names to group by\n",
    "- `axis` – Default to 0. It takes 0 or ‘index’, 1 or ‘columns’\n",
    "- `level` – Used with MultiIndex.\n",
    "- `as_index` – sql style grouped otput.\n",
    "- `sort` – Default to True. Specify whether to sort after group\n",
    "- `group_keys` – add group keys or not\n",
    "- `squeeze` – depricated in new versions\n",
    "- `observed` – This only applies if any of the groupers are Categoricals.\n",
    "- `dropna` – Default to False. Use True to drop None/Nan on sory key."
   ]
  },
  {
   "cell_type": "code",
   "execution_count": 77,
   "id": "9db21a4b",
   "metadata": {},
   "outputs": [
    {
     "name": "stdout",
     "output_type": "stream",
     "text": [
      "   Courses    Fee Duration  Discount\n",
      "0    Spark  22000   30days    1000.0\n",
      "1  PySpark  25000   50days    2300.0\n",
      "2   Hadoop  23000   55days    1000.0\n",
      "3   Python  24000   40days    1200.0\n",
      "4   Pandas  26000   60days    2500.0\n",
      "5   Hadoop  25000   35days       NaN\n",
      "6    Spark  25000   30days    1400.0\n",
      "7   Python  22000   50days    1600.0\n",
      "8       NA   1500   40days       0.0\n"
     ]
    }
   ],
   "source": [
    "technologies   = ({\n",
    "    'Courses':[\"Spark\",\"PySpark\",\"Hadoop\",\"Python\",\"Pandas\",\"Hadoop\",\"Spark\",\"Python\",\"NA\"],\n",
    "    'Fee' :[22000,25000,23000,24000,26000,25000,25000,22000,1500],\n",
    "    'Duration':['30days','50days','55days','40days','60days','35days','30days','50days','40days'],\n",
    "    'Discount':[1000,2300,1000,1200,2500,None,1400,1600,0]\n",
    "          })\n",
    "df = pd.DataFrame(technologies)\n",
    "print(df)"
   ]
  },
  {
   "cell_type": "markdown",
   "id": "df841a52",
   "metadata": {},
   "source": [
    "#### Use groupby() to compute the sum Fee and Discount of each course"
   ]
  },
  {
   "cell_type": "code",
   "execution_count": 78,
   "id": "840e6db0",
   "metadata": {},
   "outputs": [
    {
     "data": {
      "text/html": [
       "<div>\n",
       "<style scoped>\n",
       "    .dataframe tbody tr th:only-of-type {\n",
       "        vertical-align: middle;\n",
       "    }\n",
       "\n",
       "    .dataframe tbody tr th {\n",
       "        vertical-align: top;\n",
       "    }\n",
       "\n",
       "    .dataframe thead th {\n",
       "        text-align: right;\n",
       "    }\n",
       "</style>\n",
       "<table border=\"1\" class=\"dataframe\">\n",
       "  <thead>\n",
       "    <tr style=\"text-align: right;\">\n",
       "      <th></th>\n",
       "      <th>Fee</th>\n",
       "      <th>Discount</th>\n",
       "    </tr>\n",
       "    <tr>\n",
       "      <th>Courses</th>\n",
       "      <th></th>\n",
       "      <th></th>\n",
       "    </tr>\n",
       "  </thead>\n",
       "  <tbody>\n",
       "    <tr>\n",
       "      <th>Hadoop</th>\n",
       "      <td>48000</td>\n",
       "      <td>1000.0</td>\n",
       "    </tr>\n",
       "    <tr>\n",
       "      <th>NA</th>\n",
       "      <td>1500</td>\n",
       "      <td>0.0</td>\n",
       "    </tr>\n",
       "    <tr>\n",
       "      <th>Pandas</th>\n",
       "      <td>26000</td>\n",
       "      <td>2500.0</td>\n",
       "    </tr>\n",
       "    <tr>\n",
       "      <th>PySpark</th>\n",
       "      <td>25000</td>\n",
       "      <td>2300.0</td>\n",
       "    </tr>\n",
       "    <tr>\n",
       "      <th>Python</th>\n",
       "      <td>46000</td>\n",
       "      <td>2800.0</td>\n",
       "    </tr>\n",
       "    <tr>\n",
       "      <th>Spark</th>\n",
       "      <td>47000</td>\n",
       "      <td>2400.0</td>\n",
       "    </tr>\n",
       "  </tbody>\n",
       "</table>\n",
       "</div>"
      ],
      "text/plain": [
       "           Fee  Discount\n",
       "Courses                 \n",
       "Hadoop   48000    1000.0\n",
       "NA        1500       0.0\n",
       "Pandas   26000    2500.0\n",
       "PySpark  25000    2300.0\n",
       "Python   46000    2800.0\n",
       "Spark    47000    2400.0"
      ]
     },
     "execution_count": 78,
     "metadata": {},
     "output_type": "execute_result"
    }
   ],
   "source": [
    "df.groupby(['Courses']).sum()"
   ]
  },
  {
   "cell_type": "code",
   "execution_count": 80,
   "id": "e325a39f",
   "metadata": {},
   "outputs": [
    {
     "data": {
      "text/html": [
       "<div>\n",
       "<style scoped>\n",
       "    .dataframe tbody tr th:only-of-type {\n",
       "        vertical-align: middle;\n",
       "    }\n",
       "\n",
       "    .dataframe tbody tr th {\n",
       "        vertical-align: top;\n",
       "    }\n",
       "\n",
       "    .dataframe thead th {\n",
       "        text-align: right;\n",
       "    }\n",
       "</style>\n",
       "<table border=\"1\" class=\"dataframe\">\n",
       "  <thead>\n",
       "    <tr style=\"text-align: right;\">\n",
       "      <th></th>\n",
       "      <th>Fee</th>\n",
       "      <th>Discount</th>\n",
       "    </tr>\n",
       "    <tr>\n",
       "      <th>Courses</th>\n",
       "      <th></th>\n",
       "      <th></th>\n",
       "    </tr>\n",
       "  </thead>\n",
       "  <tbody>\n",
       "    <tr>\n",
       "      <th>Hadoop</th>\n",
       "      <td>48000</td>\n",
       "      <td>1000.0</td>\n",
       "    </tr>\n",
       "    <tr>\n",
       "      <th>NA</th>\n",
       "      <td>1500</td>\n",
       "      <td>0.0</td>\n",
       "    </tr>\n",
       "    <tr>\n",
       "      <th>Pandas</th>\n",
       "      <td>26000</td>\n",
       "      <td>2500.0</td>\n",
       "    </tr>\n",
       "    <tr>\n",
       "      <th>PySpark</th>\n",
       "      <td>25000</td>\n",
       "      <td>2300.0</td>\n",
       "    </tr>\n",
       "    <tr>\n",
       "      <th>Python</th>\n",
       "      <td>46000</td>\n",
       "      <td>2800.0</td>\n",
       "    </tr>\n",
       "    <tr>\n",
       "      <th>Spark</th>\n",
       "      <td>47000</td>\n",
       "      <td>2400.0</td>\n",
       "    </tr>\n",
       "  </tbody>\n",
       "</table>\n",
       "</div>"
      ],
      "text/plain": [
       "           Fee  Discount\n",
       "Courses                 \n",
       "Hadoop   48000    1000.0\n",
       "NA        1500       0.0\n",
       "Pandas   26000    2500.0\n",
       "PySpark  25000    2300.0\n",
       "Python   46000    2800.0\n",
       "Spark    47000    2400.0"
      ]
     },
     "execution_count": 80,
     "metadata": {},
     "output_type": "execute_result"
    }
   ],
   "source": [
    "# similarly\n",
    "df.groupby(['Courses']).aggregate('sum')"
   ]
  },
  {
   "cell_type": "markdown",
   "id": "005094fd",
   "metadata": {},
   "source": [
    "#### pandas groupby() on Two or More Columns like Courses and Duration"
   ]
  },
  {
   "cell_type": "code",
   "execution_count": 81,
   "id": "1ee98387",
   "metadata": {},
   "outputs": [
    {
     "data": {
      "text/html": [
       "<div>\n",
       "<style scoped>\n",
       "    .dataframe tbody tr th:only-of-type {\n",
       "        vertical-align: middle;\n",
       "    }\n",
       "\n",
       "    .dataframe tbody tr th {\n",
       "        vertical-align: top;\n",
       "    }\n",
       "\n",
       "    .dataframe thead th {\n",
       "        text-align: right;\n",
       "    }\n",
       "</style>\n",
       "<table border=\"1\" class=\"dataframe\">\n",
       "  <thead>\n",
       "    <tr style=\"text-align: right;\">\n",
       "      <th></th>\n",
       "      <th></th>\n",
       "      <th>Fee</th>\n",
       "      <th>Discount</th>\n",
       "    </tr>\n",
       "    <tr>\n",
       "      <th>Courses</th>\n",
       "      <th>Duration</th>\n",
       "      <th></th>\n",
       "      <th></th>\n",
       "    </tr>\n",
       "  </thead>\n",
       "  <tbody>\n",
       "    <tr>\n",
       "      <th rowspan=\"2\" valign=\"top\">Hadoop</th>\n",
       "      <th>35days</th>\n",
       "      <td>25000.0</td>\n",
       "      <td>NaN</td>\n",
       "    </tr>\n",
       "    <tr>\n",
       "      <th>55days</th>\n",
       "      <td>23000.0</td>\n",
       "      <td>1000.0</td>\n",
       "    </tr>\n",
       "    <tr>\n",
       "      <th>NA</th>\n",
       "      <th>40days</th>\n",
       "      <td>1500.0</td>\n",
       "      <td>0.0</td>\n",
       "    </tr>\n",
       "    <tr>\n",
       "      <th>Pandas</th>\n",
       "      <th>60days</th>\n",
       "      <td>26000.0</td>\n",
       "      <td>2500.0</td>\n",
       "    </tr>\n",
       "    <tr>\n",
       "      <th>PySpark</th>\n",
       "      <th>50days</th>\n",
       "      <td>25000.0</td>\n",
       "      <td>2300.0</td>\n",
       "    </tr>\n",
       "    <tr>\n",
       "      <th rowspan=\"2\" valign=\"top\">Python</th>\n",
       "      <th>40days</th>\n",
       "      <td>24000.0</td>\n",
       "      <td>1200.0</td>\n",
       "    </tr>\n",
       "    <tr>\n",
       "      <th>50days</th>\n",
       "      <td>22000.0</td>\n",
       "      <td>1600.0</td>\n",
       "    </tr>\n",
       "    <tr>\n",
       "      <th>Spark</th>\n",
       "      <th>30days</th>\n",
       "      <td>23500.0</td>\n",
       "      <td>1200.0</td>\n",
       "    </tr>\n",
       "  </tbody>\n",
       "</table>\n",
       "</div>"
      ],
      "text/plain": [
       "                      Fee  Discount\n",
       "Courses Duration                   \n",
       "Hadoop  35days    25000.0       NaN\n",
       "        55days    23000.0    1000.0\n",
       "NA      40days     1500.0       0.0\n",
       "Pandas  60days    26000.0    2500.0\n",
       "PySpark 50days    25000.0    2300.0\n",
       "Python  40days    24000.0    1200.0\n",
       "        50days    22000.0    1600.0\n",
       "Spark   30days    23500.0    1200.0"
      ]
     },
     "execution_count": 81,
     "metadata": {},
     "output_type": "execute_result"
    }
   ],
   "source": [
    "df.groupby(['Courses','Duration']).mean()"
   ]
  },
  {
   "cell_type": "markdown",
   "id": "47a5315c",
   "metadata": {},
   "source": [
    "#### Add Index to the grouped data\n",
    "- By default `groupby()` result doesn’t include row Index, you can add the index using `DataFrame.reset_index()` method."
   ]
  },
  {
   "cell_type": "code",
   "execution_count": 82,
   "id": "0582a9a7",
   "metadata": {},
   "outputs": [
    {
     "data": {
      "text/html": [
       "<div>\n",
       "<style scoped>\n",
       "    .dataframe tbody tr th:only-of-type {\n",
       "        vertical-align: middle;\n",
       "    }\n",
       "\n",
       "    .dataframe tbody tr th {\n",
       "        vertical-align: top;\n",
       "    }\n",
       "\n",
       "    .dataframe thead th {\n",
       "        text-align: right;\n",
       "    }\n",
       "</style>\n",
       "<table border=\"1\" class=\"dataframe\">\n",
       "  <thead>\n",
       "    <tr style=\"text-align: right;\">\n",
       "      <th></th>\n",
       "      <th>Courses</th>\n",
       "      <th>Duration</th>\n",
       "      <th>Fee</th>\n",
       "      <th>Discount</th>\n",
       "    </tr>\n",
       "  </thead>\n",
       "  <tbody>\n",
       "    <tr>\n",
       "      <th>0</th>\n",
       "      <td>Hadoop</td>\n",
       "      <td>35days</td>\n",
       "      <td>25000.0</td>\n",
       "      <td>NaN</td>\n",
       "    </tr>\n",
       "    <tr>\n",
       "      <th>1</th>\n",
       "      <td>Hadoop</td>\n",
       "      <td>55days</td>\n",
       "      <td>23000.0</td>\n",
       "      <td>1000.0</td>\n",
       "    </tr>\n",
       "    <tr>\n",
       "      <th>2</th>\n",
       "      <td>NA</td>\n",
       "      <td>40days</td>\n",
       "      <td>1500.0</td>\n",
       "      <td>0.0</td>\n",
       "    </tr>\n",
       "    <tr>\n",
       "      <th>3</th>\n",
       "      <td>Pandas</td>\n",
       "      <td>60days</td>\n",
       "      <td>26000.0</td>\n",
       "      <td>2500.0</td>\n",
       "    </tr>\n",
       "    <tr>\n",
       "      <th>4</th>\n",
       "      <td>PySpark</td>\n",
       "      <td>50days</td>\n",
       "      <td>25000.0</td>\n",
       "      <td>2300.0</td>\n",
       "    </tr>\n",
       "    <tr>\n",
       "      <th>5</th>\n",
       "      <td>Python</td>\n",
       "      <td>40days</td>\n",
       "      <td>24000.0</td>\n",
       "      <td>1200.0</td>\n",
       "    </tr>\n",
       "    <tr>\n",
       "      <th>6</th>\n",
       "      <td>Python</td>\n",
       "      <td>50days</td>\n",
       "      <td>22000.0</td>\n",
       "      <td>1600.0</td>\n",
       "    </tr>\n",
       "    <tr>\n",
       "      <th>7</th>\n",
       "      <td>Spark</td>\n",
       "      <td>30days</td>\n",
       "      <td>23500.0</td>\n",
       "      <td>1200.0</td>\n",
       "    </tr>\n",
       "  </tbody>\n",
       "</table>\n",
       "</div>"
      ],
      "text/plain": [
       "   Courses Duration      Fee  Discount\n",
       "0   Hadoop   35days  25000.0       NaN\n",
       "1   Hadoop   55days  23000.0    1000.0\n",
       "2       NA   40days   1500.0       0.0\n",
       "3   Pandas   60days  26000.0    2500.0\n",
       "4  PySpark   50days  25000.0    2300.0\n",
       "5   Python   40days  24000.0    1200.0\n",
       "6   Python   50days  22000.0    1600.0\n",
       "7    Spark   30days  23500.0    1200.0"
      ]
     },
     "execution_count": 82,
     "metadata": {},
     "output_type": "execute_result"
    }
   ],
   "source": [
    "df.groupby(['Courses','Duration']).mean().reset_index()"
   ]
  },
  {
   "cell_type": "markdown",
   "id": "ce7d9a31",
   "metadata": {},
   "source": [
    "#### Remove sorting on grouped results by using `sort` parameter of df.groupby()"
   ]
  },
  {
   "cell_type": "code",
   "execution_count": 91,
   "id": "bb5964ee",
   "metadata": {
    "scrolled": true
   },
   "outputs": [
    {
     "data": {
      "text/html": [
       "<div>\n",
       "<style scoped>\n",
       "    .dataframe tbody tr th:only-of-type {\n",
       "        vertical-align: middle;\n",
       "    }\n",
       "\n",
       "    .dataframe tbody tr th {\n",
       "        vertical-align: top;\n",
       "    }\n",
       "\n",
       "    .dataframe thead th {\n",
       "        text-align: right;\n",
       "    }\n",
       "</style>\n",
       "<table border=\"1\" class=\"dataframe\">\n",
       "  <thead>\n",
       "    <tr style=\"text-align: right;\">\n",
       "      <th></th>\n",
       "      <th>Fee</th>\n",
       "      <th>Discount</th>\n",
       "    </tr>\n",
       "    <tr>\n",
       "      <th>Courses</th>\n",
       "      <th></th>\n",
       "      <th></th>\n",
       "    </tr>\n",
       "  </thead>\n",
       "  <tbody>\n",
       "    <tr>\n",
       "      <th>Spark</th>\n",
       "      <td>47000</td>\n",
       "      <td>2400.0</td>\n",
       "    </tr>\n",
       "    <tr>\n",
       "      <th>PySpark</th>\n",
       "      <td>25000</td>\n",
       "      <td>2300.0</td>\n",
       "    </tr>\n",
       "    <tr>\n",
       "      <th>Hadoop</th>\n",
       "      <td>48000</td>\n",
       "      <td>1000.0</td>\n",
       "    </tr>\n",
       "    <tr>\n",
       "      <th>Python</th>\n",
       "      <td>46000</td>\n",
       "      <td>2800.0</td>\n",
       "    </tr>\n",
       "    <tr>\n",
       "      <th>Pandas</th>\n",
       "      <td>26000</td>\n",
       "      <td>2500.0</td>\n",
       "    </tr>\n",
       "    <tr>\n",
       "      <th>NA</th>\n",
       "      <td>1500</td>\n",
       "      <td>0.0</td>\n",
       "    </tr>\n",
       "  </tbody>\n",
       "</table>\n",
       "</div>"
      ],
      "text/plain": [
       "           Fee  Discount\n",
       "Courses                 \n",
       "Spark    47000    2400.0\n",
       "PySpark  25000    2300.0\n",
       "Hadoop   48000    1000.0\n",
       "Python   46000    2800.0\n",
       "Pandas   26000    2500.0\n",
       "NA        1500       0.0"
      ]
     },
     "execution_count": 91,
     "metadata": {},
     "output_type": "execute_result"
    }
   ],
   "source": [
    "df2=df.groupby(by=['Courses'], sort=False).sum()\n",
    "df2"
   ]
  },
  {
   "cell_type": "markdown",
   "id": "2f017121",
   "metadata": {},
   "source": [
    "#### Apply More Aggregations\n",
    "- You can also compute several aggregations at the same time in pandas by passing the list of agg functions to the `aggregate().`"
   ]
  },
  {
   "cell_type": "markdown",
   "id": "5e3f60db",
   "metadata": {},
   "source": [
    "#### Compute minimu and maximum fee of each course"
   ]
  },
  {
   "cell_type": "code",
   "execution_count": 92,
   "id": "0060d6d1",
   "metadata": {},
   "outputs": [
    {
     "data": {
      "text/html": [
       "<div>\n",
       "<style scoped>\n",
       "    .dataframe tbody tr th:only-of-type {\n",
       "        vertical-align: middle;\n",
       "    }\n",
       "\n",
       "    .dataframe tbody tr th {\n",
       "        vertical-align: top;\n",
       "    }\n",
       "\n",
       "    .dataframe thead th {\n",
       "        text-align: right;\n",
       "    }\n",
       "</style>\n",
       "<table border=\"1\" class=\"dataframe\">\n",
       "  <thead>\n",
       "    <tr style=\"text-align: right;\">\n",
       "      <th></th>\n",
       "      <th>min</th>\n",
       "      <th>max</th>\n",
       "    </tr>\n",
       "    <tr>\n",
       "      <th>Courses</th>\n",
       "      <th></th>\n",
       "      <th></th>\n",
       "    </tr>\n",
       "  </thead>\n",
       "  <tbody>\n",
       "    <tr>\n",
       "      <th>Hadoop</th>\n",
       "      <td>23000</td>\n",
       "      <td>25000</td>\n",
       "    </tr>\n",
       "    <tr>\n",
       "      <th>NA</th>\n",
       "      <td>1500</td>\n",
       "      <td>1500</td>\n",
       "    </tr>\n",
       "    <tr>\n",
       "      <th>Pandas</th>\n",
       "      <td>26000</td>\n",
       "      <td>26000</td>\n",
       "    </tr>\n",
       "    <tr>\n",
       "      <th>PySpark</th>\n",
       "      <td>25000</td>\n",
       "      <td>25000</td>\n",
       "    </tr>\n",
       "    <tr>\n",
       "      <th>Python</th>\n",
       "      <td>22000</td>\n",
       "      <td>24000</td>\n",
       "    </tr>\n",
       "    <tr>\n",
       "      <th>Spark</th>\n",
       "      <td>22000</td>\n",
       "      <td>25000</td>\n",
       "    </tr>\n",
       "  </tbody>\n",
       "</table>\n",
       "</div>"
      ],
      "text/plain": [
       "           min    max\n",
       "Courses              \n",
       "Hadoop   23000  25000\n",
       "NA        1500   1500\n",
       "Pandas   26000  26000\n",
       "PySpark  25000  25000\n",
       "Python   22000  24000\n",
       "Spark    22000  25000"
      ]
     },
     "execution_count": 92,
     "metadata": {},
     "output_type": "execute_result"
    }
   ],
   "source": [
    "df.groupby('Courses')['Fee'].aggregate(['min','max'])"
   ]
  },
  {
   "cell_type": "code",
   "execution_count": 93,
   "id": "0e9ebb99",
   "metadata": {},
   "outputs": [
    {
     "data": {
      "text/html": [
       "<div>\n",
       "<style scoped>\n",
       "    .dataframe tbody tr th:only-of-type {\n",
       "        vertical-align: middle;\n",
       "    }\n",
       "\n",
       "    .dataframe tbody tr th {\n",
       "        vertical-align: top;\n",
       "    }\n",
       "\n",
       "    .dataframe thead tr th {\n",
       "        text-align: left;\n",
       "    }\n",
       "\n",
       "    .dataframe thead tr:last-of-type th {\n",
       "        text-align: right;\n",
       "    }\n",
       "</style>\n",
       "<table border=\"1\" class=\"dataframe\">\n",
       "  <thead>\n",
       "    <tr>\n",
       "      <th></th>\n",
       "      <th>Duration</th>\n",
       "      <th colspan=\"2\" halign=\"left\">Fee</th>\n",
       "    </tr>\n",
       "    <tr>\n",
       "      <th></th>\n",
       "      <th>count</th>\n",
       "      <th>min</th>\n",
       "      <th>max</th>\n",
       "    </tr>\n",
       "    <tr>\n",
       "      <th>Courses</th>\n",
       "      <th></th>\n",
       "      <th></th>\n",
       "      <th></th>\n",
       "    </tr>\n",
       "  </thead>\n",
       "  <tbody>\n",
       "    <tr>\n",
       "      <th>Hadoop</th>\n",
       "      <td>2</td>\n",
       "      <td>23000</td>\n",
       "      <td>25000</td>\n",
       "    </tr>\n",
       "    <tr>\n",
       "      <th>NA</th>\n",
       "      <td>1</td>\n",
       "      <td>1500</td>\n",
       "      <td>1500</td>\n",
       "    </tr>\n",
       "    <tr>\n",
       "      <th>Pandas</th>\n",
       "      <td>1</td>\n",
       "      <td>26000</td>\n",
       "      <td>26000</td>\n",
       "    </tr>\n",
       "    <tr>\n",
       "      <th>PySpark</th>\n",
       "      <td>1</td>\n",
       "      <td>25000</td>\n",
       "      <td>25000</td>\n",
       "    </tr>\n",
       "    <tr>\n",
       "      <th>Python</th>\n",
       "      <td>2</td>\n",
       "      <td>22000</td>\n",
       "      <td>24000</td>\n",
       "    </tr>\n",
       "    <tr>\n",
       "      <th>Spark</th>\n",
       "      <td>2</td>\n",
       "      <td>22000</td>\n",
       "      <td>25000</td>\n",
       "    </tr>\n",
       "  </tbody>\n",
       "</table>\n",
       "</div>"
      ],
      "text/plain": [
       "        Duration    Fee       \n",
       "           count    min    max\n",
       "Courses                       \n",
       "Hadoop         2  23000  25000\n",
       "NA             1   1500   1500\n",
       "Pandas         1  26000  26000\n",
       "PySpark        1  25000  25000\n",
       "Python         2  22000  24000\n",
       "Spark          2  22000  25000"
      ]
     },
     "execution_count": 93,
     "metadata": {},
     "output_type": "execute_result"
    }
   ],
   "source": [
    "# Groupby multiple columns & multiple aggregations\n",
    "df.groupby('Courses').aggregate({'Duration':'count',\n",
    "                                'Fee':['min','max']})"
   ]
  },
  {
   "cell_type": "markdown",
   "id": "93d6b10c",
   "metadata": {},
   "source": [
    "## Practice Questions"
   ]
  },
  {
   "cell_type": "markdown",
   "id": "ea53f60a",
   "metadata": {},
   "source": [
    "### Regiment\n",
    "- A regiment is a military unit. Its role and size varies markedly, depending on the country, service and/or a specialisation.\n",
    "\n"
   ]
  },
  {
   "cell_type": "markdown",
   "id": "dbe531f3",
   "metadata": {},
   "source": [
    "#### Step 1. Import the necessary libraries\n"
   ]
  },
  {
   "cell_type": "code",
   "execution_count": null,
   "id": "9858a825",
   "metadata": {},
   "outputs": [],
   "source": []
  },
  {
   "cell_type": "markdown",
   "id": "f7662d30",
   "metadata": {},
   "source": [
    "#### Step 2. Create the DataFrame with the following values and Assign it to a variable called regiment."
   ]
  },
  {
   "cell_type": "code",
   "execution_count": 110,
   "id": "fd0970d6",
   "metadata": {},
   "outputs": [],
   "source": [
    "raw_data = {'regiment': ['Nighthawks', 'Nighthawks', 'Nighthawks', 'Nighthawks', 'Dragoons', 'Dragoons', 'Dragoons', 'Dragoons', 'Scouts', 'Scouts', 'Scouts', 'Scouts'], \n",
    "        'company': ['1st', '1st', '2nd', '2nd', '1st', '1st', '2nd', '2nd','1st', '1st', '2nd', '2nd'], \n",
    "        'name': ['Miller', 'Jacobson', 'Ali', 'Milner', 'Cooze', 'Jacon', 'Ryaner', 'Sone', 'Sloan', 'Piger', 'Riani', 'Ali'], \n",
    "        'preTestScore': [4, 24, 31, 2, 3, 4, 24, 31, 2, 3, 2, 3],\n",
    "        'postTestScore': [25, 94, 57, 62, 70, 25, 94, 57, 62, 70, 62, 70]}\n",
    "regiment = pd.DataFrame(raw_data)\n",
    "# regiment"
   ]
  },
  {
   "cell_type": "markdown",
   "id": "9939f189",
   "metadata": {},
   "source": [
    "#### Step 3. What is the mean `preTestScore` from the regiment `Nighthawks`(Nightbird/Night owl)?\n"
   ]
  },
  {
   "cell_type": "code",
   "execution_count": 115,
   "id": "ce0598fe",
   "metadata": {},
   "outputs": [],
   "source": [
    "# regiment[regiment['regiment'] == 'Nighthawks']"
   ]
  },
  {
   "cell_type": "markdown",
   "id": "9eb1f532",
   "metadata": {},
   "source": [
    "#### Step 4. Present/show general statistics by `company` of regiment."
   ]
  },
  {
   "cell_type": "code",
   "execution_count": 117,
   "id": "4249e7c1",
   "metadata": {},
   "outputs": [],
   "source": [
    "# regiment.groupby('company').describe()"
   ]
  },
  {
   "cell_type": "markdown",
   "id": "94eb8564",
   "metadata": {},
   "source": [
    "#### Step 5. What is the mean of each company's preTestScore?"
   ]
  },
  {
   "cell_type": "code",
   "execution_count": 121,
   "id": "4b38a5f7",
   "metadata": {},
   "outputs": [],
   "source": [
    "# regiment.groupby('company')['preTestScore'].mean()\n",
    "\n",
    "# OR\n",
    "\n",
    "# regiment.groupby('company').mean()"
   ]
  },
  {
   "cell_type": "markdown",
   "id": "05ae9146",
   "metadata": {},
   "source": [
    "#### Step 6. Presents/shows the `mean` preTestScores grouped by regiment and company."
   ]
  },
  {
   "cell_type": "code",
   "execution_count": 126,
   "id": "337c37c9",
   "metadata": {
    "scrolled": true
   },
   "outputs": [],
   "source": [
    "# regiment.groupby(['regiment','company'])['preTestScore'].mean()\n",
    "# OR\n",
    "# regiment.groupby(['regiment', 'company']).preTestScore.mean().unstack()"
   ]
  },
  {
   "cell_type": "markdown",
   "id": "fce81177",
   "metadata": {},
   "source": [
    "#### Step 7. Presents/shows the `mean` preTestScores grouped by regiment and company with reset_index parameter"
   ]
  },
  {
   "cell_type": "code",
   "execution_count": 127,
   "id": "4e62bb5f",
   "metadata": {},
   "outputs": [],
   "source": [
    "# regiment.groupby(['regiment', 'company']).preTestScore.mean().reset_index()"
   ]
  },
  {
   "cell_type": "markdown",
   "id": "d4fc4cbf",
   "metadata": {},
   "source": [
    "#### Step 8. Group the entire dataframe by regiment and company , also perform `sum` aggregate function."
   ]
  },
  {
   "cell_type": "code",
   "execution_count": 130,
   "id": "8dc5a2e5",
   "metadata": {},
   "outputs": [],
   "source": [
    "# regiment.groupby(['regiment','company']).sum()"
   ]
  },
  {
   "cell_type": "markdown",
   "id": "091a534c",
   "metadata": {},
   "source": [
    "#### Step 9. What is the number of observations in each regiment and company."
   ]
  },
  {
   "cell_type": "code",
   "execution_count": 133,
   "id": "63de6567",
   "metadata": {},
   "outputs": [],
   "source": [
    "# regiment.groupby(['regiment','company']).size()\n",
    "# OR \n",
    "# regiment.groupby(['regiment','company']).count()"
   ]
  },
  {
   "cell_type": "markdown",
   "id": "77dfa15a",
   "metadata": {},
   "source": [
    "#### Step 10. Iterate over a group and print the name and the whole data from the regiment"
   ]
  },
  {
   "cell_type": "code",
   "execution_count": 135,
   "id": "b771e91f",
   "metadata": {},
   "outputs": [
    {
     "name": "stdout",
     "output_type": "stream",
     "text": [
      "Name :  Dragoons\n",
      "   regiment company    name  preTestScore  postTestScore\n",
      "4  Dragoons     1st   Cooze             3             70\n",
      "5  Dragoons     1st   Jacon             4             25\n",
      "6  Dragoons     2nd  Ryaner            24             94\n",
      "7  Dragoons     2nd    Sone            31             57\n",
      "Name :  Nighthawks\n",
      "     regiment company      name  preTestScore  postTestScore\n",
      "0  Nighthawks     1st    Miller             4             25\n",
      "1  Nighthawks     1st  Jacobson            24             94\n",
      "2  Nighthawks     2nd       Ali            31             57\n",
      "3  Nighthawks     2nd    Milner             2             62\n",
      "Name :  Scouts\n",
      "   regiment company   name  preTestScore  postTestScore\n",
      "8    Scouts     1st  Sloan             2             62\n",
      "9    Scouts     1st  Piger             3             70\n",
      "10   Scouts     2nd  Riani             2             62\n",
      "11   Scouts     2nd    Ali             3             70\n"
     ]
    }
   ],
   "source": [
    "# Group the dataframe by regiment, and for each regiment,\n",
    "for name, group in regiment.groupby('regiment'):\n",
    "    # print the name of the regiment\n",
    "    print('Name : ',name)\n",
    "#     print data of that regiment\n",
    "    print(group)"
   ]
  },
  {
   "cell_type": "code",
   "execution_count": null,
   "id": "91627a15",
   "metadata": {},
   "outputs": [],
   "source": []
  },
  {
   "cell_type": "code",
   "execution_count": 101,
   "id": "3f9bbf0f",
   "metadata": {},
   "outputs": [
    {
     "data": {
      "text/html": [
       "<div>\n",
       "<style scoped>\n",
       "    .dataframe tbody tr th:only-of-type {\n",
       "        vertical-align: middle;\n",
       "    }\n",
       "\n",
       "    .dataframe tbody tr th {\n",
       "        vertical-align: top;\n",
       "    }\n",
       "\n",
       "    .dataframe thead th {\n",
       "        text-align: right;\n",
       "    }\n",
       "</style>\n",
       "<table border=\"1\" class=\"dataframe\">\n",
       "  <thead>\n",
       "    <tr style=\"text-align: right;\">\n",
       "      <th></th>\n",
       "      <th>country</th>\n",
       "      <th>year</th>\n",
       "      <th>pop</th>\n",
       "      <th>continent</th>\n",
       "      <th>lifeExp</th>\n",
       "      <th>gdpPercap</th>\n",
       "    </tr>\n",
       "  </thead>\n",
       "  <tbody>\n",
       "    <tr>\n",
       "      <th>0</th>\n",
       "      <td>Afghanistan</td>\n",
       "      <td>1952</td>\n",
       "      <td>8425333.0</td>\n",
       "      <td>Asia</td>\n",
       "      <td>28.801</td>\n",
       "      <td>779.445314</td>\n",
       "    </tr>\n",
       "    <tr>\n",
       "      <th>1</th>\n",
       "      <td>Afghanistan</td>\n",
       "      <td>1957</td>\n",
       "      <td>9240934.0</td>\n",
       "      <td>Asia</td>\n",
       "      <td>30.332</td>\n",
       "      <td>820.853030</td>\n",
       "    </tr>\n",
       "    <tr>\n",
       "      <th>2</th>\n",
       "      <td>Afghanistan</td>\n",
       "      <td>1962</td>\n",
       "      <td>10267083.0</td>\n",
       "      <td>Asia</td>\n",
       "      <td>31.997</td>\n",
       "      <td>853.100710</td>\n",
       "    </tr>\n",
       "    <tr>\n",
       "      <th>3</th>\n",
       "      <td>Afghanistan</td>\n",
       "      <td>1967</td>\n",
       "      <td>11537966.0</td>\n",
       "      <td>Asia</td>\n",
       "      <td>34.020</td>\n",
       "      <td>836.197138</td>\n",
       "    </tr>\n",
       "    <tr>\n",
       "      <th>4</th>\n",
       "      <td>Afghanistan</td>\n",
       "      <td>1972</td>\n",
       "      <td>13079460.0</td>\n",
       "      <td>Asia</td>\n",
       "      <td>36.088</td>\n",
       "      <td>739.981106</td>\n",
       "    </tr>\n",
       "  </tbody>\n",
       "</table>\n",
       "</div>"
      ],
      "text/plain": [
       "       country  year         pop continent  lifeExp   gdpPercap\n",
       "0  Afghanistan  1952   8425333.0      Asia   28.801  779.445314\n",
       "1  Afghanistan  1957   9240934.0      Asia   30.332  820.853030\n",
       "2  Afghanistan  1962  10267083.0      Asia   31.997  853.100710\n",
       "3  Afghanistan  1967  11537966.0      Asia   34.020  836.197138\n",
       "4  Afghanistan  1972  13079460.0      Asia   36.088  739.981106"
      ]
     },
     "execution_count": 101,
     "metadata": {},
     "output_type": "execute_result"
    }
   ],
   "source": [
    "gapminder.head()"
   ]
  },
  {
   "cell_type": "code",
   "execution_count": 69,
   "id": "3c7404ed",
   "metadata": {},
   "outputs": [
    {
     "name": "stdout",
     "output_type": "stream",
     "text": [
      "avengers.csv  gapminder.csv  psl.csv\r\n"
     ]
    }
   ],
   "source": [
    "!ls datasets/"
   ]
  },
  {
   "cell_type": "code",
   "execution_count": 70,
   "id": "9081e3ef",
   "metadata": {},
   "outputs": [
    {
     "data": {
      "text/html": [
       "<div>\n",
       "<style scoped>\n",
       "    .dataframe tbody tr th:only-of-type {\n",
       "        vertical-align: middle;\n",
       "    }\n",
       "\n",
       "    .dataframe tbody tr th {\n",
       "        vertical-align: top;\n",
       "    }\n",
       "\n",
       "    .dataframe thead th {\n",
       "        text-align: right;\n",
       "    }\n",
       "</style>\n",
       "<table border=\"1\" class=\"dataframe\">\n",
       "  <thead>\n",
       "    <tr style=\"text-align: right;\">\n",
       "      <th></th>\n",
       "      <th>country</th>\n",
       "      <th>year</th>\n",
       "      <th>pop</th>\n",
       "      <th>continent</th>\n",
       "      <th>lifeExp</th>\n",
       "      <th>gdpPercap</th>\n",
       "    </tr>\n",
       "  </thead>\n",
       "  <tbody>\n",
       "    <tr>\n",
       "      <th>0</th>\n",
       "      <td>Afghanistan</td>\n",
       "      <td>1952</td>\n",
       "      <td>8425333.0</td>\n",
       "      <td>Asia</td>\n",
       "      <td>28.801</td>\n",
       "      <td>779.445314</td>\n",
       "    </tr>\n",
       "    <tr>\n",
       "      <th>1</th>\n",
       "      <td>Afghanistan</td>\n",
       "      <td>1957</td>\n",
       "      <td>9240934.0</td>\n",
       "      <td>Asia</td>\n",
       "      <td>30.332</td>\n",
       "      <td>820.853030</td>\n",
       "    </tr>\n",
       "    <tr>\n",
       "      <th>2</th>\n",
       "      <td>Afghanistan</td>\n",
       "      <td>1962</td>\n",
       "      <td>10267083.0</td>\n",
       "      <td>Asia</td>\n",
       "      <td>31.997</td>\n",
       "      <td>853.100710</td>\n",
       "    </tr>\n",
       "    <tr>\n",
       "      <th>3</th>\n",
       "      <td>Afghanistan</td>\n",
       "      <td>1967</td>\n",
       "      <td>11537966.0</td>\n",
       "      <td>Asia</td>\n",
       "      <td>34.020</td>\n",
       "      <td>836.197138</td>\n",
       "    </tr>\n",
       "    <tr>\n",
       "      <th>4</th>\n",
       "      <td>Afghanistan</td>\n",
       "      <td>1972</td>\n",
       "      <td>13079460.0</td>\n",
       "      <td>Asia</td>\n",
       "      <td>36.088</td>\n",
       "      <td>739.981106</td>\n",
       "    </tr>\n",
       "  </tbody>\n",
       "</table>\n",
       "</div>"
      ],
      "text/plain": [
       "       country  year         pop continent  lifeExp   gdpPercap\n",
       "0  Afghanistan  1952   8425333.0      Asia   28.801  779.445314\n",
       "1  Afghanistan  1957   9240934.0      Asia   30.332  820.853030\n",
       "2  Afghanistan  1962  10267083.0      Asia   31.997  853.100710\n",
       "3  Afghanistan  1967  11537966.0      Asia   34.020  836.197138\n",
       "4  Afghanistan  1972  13079460.0      Asia   36.088  739.981106"
      ]
     },
     "execution_count": 70,
     "metadata": {},
     "output_type": "execute_result"
    }
   ],
   "source": [
    "gapminder.head()"
   ]
  },
  {
   "cell_type": "code",
   "execution_count": 76,
   "id": "4002caeb",
   "metadata": {},
   "outputs": [
    {
     "data": {
      "text/html": [
       "<div>\n",
       "<style scoped>\n",
       "    .dataframe tbody tr th:only-of-type {\n",
       "        vertical-align: middle;\n",
       "    }\n",
       "\n",
       "    .dataframe tbody tr th {\n",
       "        vertical-align: top;\n",
       "    }\n",
       "\n",
       "    .dataframe thead th {\n",
       "        text-align: right;\n",
       "    }\n",
       "</style>\n",
       "<table border=\"1\" class=\"dataframe\">\n",
       "  <thead>\n",
       "    <tr style=\"text-align: right;\">\n",
       "      <th></th>\n",
       "      <th>country</th>\n",
       "      <th>year</th>\n",
       "      <th>pop</th>\n",
       "      <th>continent</th>\n",
       "      <th>lifeExp</th>\n",
       "      <th>gdpPercap</th>\n",
       "    </tr>\n",
       "  </thead>\n",
       "  <tbody>\n",
       "    <tr>\n",
       "      <th>1164</th>\n",
       "      <td>Pakistan</td>\n",
       "      <td>1952</td>\n",
       "      <td>41346560.0</td>\n",
       "      <td>Asia</td>\n",
       "      <td>43.436</td>\n",
       "      <td>684.597144</td>\n",
       "    </tr>\n",
       "    <tr>\n",
       "      <th>1165</th>\n",
       "      <td>Pakistan</td>\n",
       "      <td>1957</td>\n",
       "      <td>46679944.0</td>\n",
       "      <td>Asia</td>\n",
       "      <td>45.557</td>\n",
       "      <td>747.083529</td>\n",
       "    </tr>\n",
       "    <tr>\n",
       "      <th>1166</th>\n",
       "      <td>Pakistan</td>\n",
       "      <td>1962</td>\n",
       "      <td>53100671.0</td>\n",
       "      <td>Asia</td>\n",
       "      <td>47.670</td>\n",
       "      <td>803.342742</td>\n",
       "    </tr>\n",
       "    <tr>\n",
       "      <th>1167</th>\n",
       "      <td>Pakistan</td>\n",
       "      <td>1967</td>\n",
       "      <td>60641899.0</td>\n",
       "      <td>Asia</td>\n",
       "      <td>49.800</td>\n",
       "      <td>942.408259</td>\n",
       "    </tr>\n",
       "    <tr>\n",
       "      <th>1168</th>\n",
       "      <td>Pakistan</td>\n",
       "      <td>1972</td>\n",
       "      <td>69325921.0</td>\n",
       "      <td>Asia</td>\n",
       "      <td>51.929</td>\n",
       "      <td>1049.938981</td>\n",
       "    </tr>\n",
       "    <tr>\n",
       "      <th>1169</th>\n",
       "      <td>Pakistan</td>\n",
       "      <td>1977</td>\n",
       "      <td>78152686.0</td>\n",
       "      <td>Asia</td>\n",
       "      <td>54.043</td>\n",
       "      <td>1175.921193</td>\n",
       "    </tr>\n",
       "    <tr>\n",
       "      <th>1170</th>\n",
       "      <td>Pakistan</td>\n",
       "      <td>1982</td>\n",
       "      <td>91462088.0</td>\n",
       "      <td>Asia</td>\n",
       "      <td>56.158</td>\n",
       "      <td>1443.429832</td>\n",
       "    </tr>\n",
       "    <tr>\n",
       "      <th>1171</th>\n",
       "      <td>Pakistan</td>\n",
       "      <td>1987</td>\n",
       "      <td>105186881.0</td>\n",
       "      <td>Asia</td>\n",
       "      <td>58.245</td>\n",
       "      <td>1704.686583</td>\n",
       "    </tr>\n",
       "    <tr>\n",
       "      <th>1172</th>\n",
       "      <td>Pakistan</td>\n",
       "      <td>1992</td>\n",
       "      <td>120065004.0</td>\n",
       "      <td>Asia</td>\n",
       "      <td>60.838</td>\n",
       "      <td>1971.829464</td>\n",
       "    </tr>\n",
       "    <tr>\n",
       "      <th>1173</th>\n",
       "      <td>Pakistan</td>\n",
       "      <td>1997</td>\n",
       "      <td>135564834.0</td>\n",
       "      <td>Asia</td>\n",
       "      <td>61.818</td>\n",
       "      <td>2049.350521</td>\n",
       "    </tr>\n",
       "    <tr>\n",
       "      <th>1174</th>\n",
       "      <td>Pakistan</td>\n",
       "      <td>2002</td>\n",
       "      <td>153403524.0</td>\n",
       "      <td>Asia</td>\n",
       "      <td>63.610</td>\n",
       "      <td>2092.712441</td>\n",
       "    </tr>\n",
       "    <tr>\n",
       "      <th>1175</th>\n",
       "      <td>Pakistan</td>\n",
       "      <td>2007</td>\n",
       "      <td>169270617.0</td>\n",
       "      <td>Asia</td>\n",
       "      <td>65.483</td>\n",
       "      <td>2605.947580</td>\n",
       "    </tr>\n",
       "  </tbody>\n",
       "</table>\n",
       "</div>"
      ],
      "text/plain": [
       "       country  year          pop continent  lifeExp    gdpPercap\n",
       "1164  Pakistan  1952   41346560.0      Asia   43.436   684.597144\n",
       "1165  Pakistan  1957   46679944.0      Asia   45.557   747.083529\n",
       "1166  Pakistan  1962   53100671.0      Asia   47.670   803.342742\n",
       "1167  Pakistan  1967   60641899.0      Asia   49.800   942.408259\n",
       "1168  Pakistan  1972   69325921.0      Asia   51.929  1049.938981\n",
       "1169  Pakistan  1977   78152686.0      Asia   54.043  1175.921193\n",
       "1170  Pakistan  1982   91462088.0      Asia   56.158  1443.429832\n",
       "1171  Pakistan  1987  105186881.0      Asia   58.245  1704.686583\n",
       "1172  Pakistan  1992  120065004.0      Asia   60.838  1971.829464\n",
       "1173  Pakistan  1997  135564834.0      Asia   61.818  2049.350521\n",
       "1174  Pakistan  2002  153403524.0      Asia   63.610  2092.712441\n",
       "1175  Pakistan  2007  169270617.0      Asia   65.483  2605.947580"
      ]
     },
     "execution_count": 76,
     "metadata": {},
     "output_type": "execute_result"
    }
   ],
   "source": [
    "gapminder[gapminder.country == 'Pakistan']"
   ]
  },
  {
   "cell_type": "code",
   "execution_count": 75,
   "id": "e589b63a",
   "metadata": {},
   "outputs": [
    {
     "data": {
      "text/plain": [
       "array(['Afghanistan', 'Albania', 'Algeria', 'Angola', 'Argentina',\n",
       "       'Australia', 'Austria', 'Bahrain', 'Bangladesh', 'Belgium',\n",
       "       'Benin', 'Bolivia', 'Bosnia and Herzegovina', 'Botswana', 'Brazil',\n",
       "       'Bulgaria', 'Burkina Faso', 'Burundi', 'Cambodia', 'Cameroon',\n",
       "       'Canada', 'Central African Republic', 'Chad', 'Chile', 'China',\n",
       "       'Colombia', 'Comoros', 'Congo Dem. Rep.', 'Congo Rep.',\n",
       "       'Costa Rica', \"Cote d'Ivoire\", 'Croatia', 'Cuba', 'Czech Republic',\n",
       "       'Denmark', 'Djibouti', 'Dominican Republic', 'Ecuador', 'Egypt',\n",
       "       'El Salvador', 'Equatorial Guinea', 'Eritrea', 'Ethiopia',\n",
       "       'Finland', 'France', 'Gabon', 'Gambia', 'Germany', 'Ghana',\n",
       "       'Greece', 'Guatemala', 'Guinea', 'Guinea-Bissau', 'Haiti',\n",
       "       'Honduras', 'Hong Kong China', 'Hungary', 'Iceland', 'India',\n",
       "       'Indonesia', 'Iran', 'Iraq', 'Ireland', 'Israel', 'Italy',\n",
       "       'Jamaica', 'Japan', 'Jordan', 'Kenya', 'Korea Dem. Rep.',\n",
       "       'Korea Rep.', 'Kuwait', 'Lebanon', 'Lesotho', 'Liberia', 'Libya',\n",
       "       'Madagascar', 'Malawi', 'Malaysia', 'Mali', 'Mauritania',\n",
       "       'Mauritius', 'Mexico', 'Mongolia', 'Montenegro', 'Morocco',\n",
       "       'Mozambique', 'Myanmar', 'Namibia', 'Nepal', 'Netherlands',\n",
       "       'New Zealand', 'Nicaragua', 'Niger', 'Nigeria', 'Norway', 'Oman',\n",
       "       'Pakistan', 'Panama', 'Paraguay', 'Peru', 'Philippines', 'Poland',\n",
       "       'Portugal', 'Puerto Rico', 'Reunion', 'Romania', 'Rwanda',\n",
       "       'Sao Tome and Principe', 'Saudi Arabia', 'Senegal', 'Serbia',\n",
       "       'Sierra Leone', 'Singapore', 'Slovak Republic', 'Slovenia',\n",
       "       'Somalia', 'South Africa', 'Spain', 'Sri Lanka', 'Sudan',\n",
       "       'Swaziland', 'Sweden', 'Switzerland', 'Syria', 'Taiwan',\n",
       "       'Tanzania', 'Thailand', 'Togo', 'Trinidad and Tobago', 'Tunisia',\n",
       "       'Turkey', 'Uganda', 'United Kingdom', 'United States', 'Uruguay',\n",
       "       'Venezuela', 'Vietnam', 'West Bank and Gaza', 'Yemen Rep.',\n",
       "       'Zambia', 'Zimbabwe'], dtype=object)"
      ]
     },
     "execution_count": 75,
     "metadata": {},
     "output_type": "execute_result"
    }
   ],
   "source": [
    "gapminder['country'].unique()"
   ]
  },
  {
   "cell_type": "code",
   "execution_count": null,
   "id": "99c69fdd",
   "metadata": {},
   "outputs": [],
   "source": []
  },
  {
   "cell_type": "code",
   "execution_count": null,
   "id": "551bd782",
   "metadata": {},
   "outputs": [],
   "source": []
  }
 ],
 "metadata": {
  "kernelspec": {
   "display_name": "Python 3 (ipykernel)",
   "language": "python",
   "name": "python3"
  },
  "language_info": {
   "codemirror_mode": {
    "name": "ipython",
    "version": 3
   },
   "file_extension": ".py",
   "mimetype": "text/x-python",
   "name": "python",
   "nbconvert_exporter": "python",
   "pygments_lexer": "ipython3",
   "version": "3.8.10"
  }
 },
 "nbformat": 4,
 "nbformat_minor": 5
}
