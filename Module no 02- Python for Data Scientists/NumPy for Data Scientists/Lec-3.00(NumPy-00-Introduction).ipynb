{
 "cells": [
  {
   "cell_type": "markdown",
   "id": "92eb27c5",
   "metadata": {},
   "source": [
    "---   \n",
    "\n",
    "<h1 align=\"center\">Introduction to Data Analyst and Data Science for beginners</h1>\n",
    "<h1 align=\"center\">Lecture no 3.0(NumPy-00)</h1>\n",
    "\n",
    "---\n",
    "<h3><div align=\"right\">Ehtisham Sadiq</div></h3>    "
   ]
  },
  {
   "cell_type": "code",
   "execution_count": null,
   "id": "4d0b5e76",
   "metadata": {},
   "outputs": [],
   "source": []
  },
  {
   "cell_type": "markdown",
   "id": "77b0f24e",
   "metadata": {},
   "source": [
    "# _Python-Numpy-Introduction.ipynb_"
   ]
  },
  {
   "cell_type": "markdown",
   "id": "60a3cb0f",
   "metadata": {},
   "source": [
    "<img align=\"center\" width=\"400\" height=\"400\"  src=\"images/numpyintro.png\" > "
   ]
  },
  {
   "cell_type": "markdown",
   "id": "1239788b",
   "metadata": {},
   "source": [
    "# Learning Agenda of this Notebook\n",
    "1. Getting Started\n",
    "    - `What is NumPy`\n",
    "    - `Why use it?`\n",
    "    - `Installation`\n",
    "2. Introduction to NumPy Array\n",
    "    - `Using NumPy`\n",
    "    - `NumPy Arrays`\n",
    "    - `Creating Numpy Arrays`\n",
    "3. Built-In Methods\n",
    "    - `arange`\n",
    "    - `zeros and ones`\n",
    "    - `linspace`\n",
    "    - `eye`\n",
    "4. Random\n",
    "    - `ran`\n",
    "    - `randn`\n",
    "    - `randint`\n",
    "5. Array Attributes and Methods\n",
    "    - `reshape`\n",
    "    - `shape`\n",
    "    - `dtype`\n",
    "6. Numpy Indexing and Selection\n",
    "    - `Bracket Indexing and Selection`\n",
    "    - `Broadcasting`\n",
    "7. Indexing 2D Array/Matrix\n",
    "    - `Fancy Indexing`\n",
    "    - `Selection`\n",
    "8. Numpy Operations\n",
    "    - `Arithmetic`\n",
    "    - `Universal Array Functions`\n",
    "9. Append, Concentrate and Stack\n",
    "    - `append`\n",
    "    - `concatenate`\n",
    "    - `stack` "
   ]
  },
  {
   "cell_type": "code",
   "execution_count": null,
   "id": "d693ffae",
   "metadata": {},
   "outputs": [],
   "source": []
  },
  {
   "cell_type": "markdown",
   "id": "6931113f",
   "metadata": {},
   "source": [
    "## What is NumPy?\n",
    "\n",
    "- Numpy is a tool for mathematical computing and data preparation in Python. \n",
    "- It can be utilized to perform a number of mathematical operations on arrays such as trigonometric, statistical and algebraic routines. \n",
    "- This library provides many useful features including handling n-dimensional arrays, broadcasting, performing operations, data generation, etc., thus, it’s the fundamental package for scientific computing with Python. \n",
    "- It also provides a large collection of high-level mathematical functions to operate on arrays."
   ]
  },
  {
   "cell_type": "markdown",
   "id": "395f5a72",
   "metadata": {},
   "source": [
    "## Why use it?\n",
    "\n",
    "It is incredibly fast, as it has bindings to C libraries. Python list has less properties than numpy array, which is why you will use arrays over lists. It helps in data preprocessing. Numpy is surprisingly compact, fast and easy to use, so let’s dive into installation."
   ]
  },
  {
   "cell_type": "markdown",
   "id": "3b45b0ef",
   "metadata": {},
   "source": [
    "#### Look other Python Libraries for Data Science\n",
    "<img align=\"center\" width=\"600\" height=\"600\"  src=\"top-10-python-libraries-for-data-science.jpg\" > "
   ]
  },
  {
   "cell_type": "code",
   "execution_count": null,
   "id": "2510bbfa",
   "metadata": {},
   "outputs": [],
   "source": []
  },
  {
   "cell_type": "markdown",
   "id": "64c7eaf7",
   "metadata": {},
   "source": [
    "## Installation\n",
    "\n",
    "The terminal on your machine is often used to install/manage/delete Python packages. Numpy too, can be installed from your command line using:\n",
    "\n",
    "`pip3 install numpy` or `pip install numpy`"
   ]
  },
  {
   "cell_type": "code",
   "execution_count": 1,
   "id": "bb0d46a0",
   "metadata": {},
   "outputs": [
    {
     "data": {
      "text/plain": [
       "'/usr/bin/python3'"
      ]
     },
     "execution_count": 1,
     "metadata": {},
     "output_type": "execute_result"
    }
   ],
   "source": [
    "import sys\n",
    "sys.executable\n",
    "# This command gives path of python installation "
   ]
  },
  {
   "cell_type": "code",
   "execution_count": 3,
   "id": "26911e6a",
   "metadata": {},
   "outputs": [],
   "source": []
  },
  {
   "cell_type": "code",
   "execution_count": null,
   "id": "1459eded",
   "metadata": {},
   "outputs": [],
   "source": []
  },
  {
   "cell_type": "markdown",
   "id": "010ed8f9",
   "metadata": {},
   "source": [
    "## 2. Introduction to NumPy array\n",
    "#### Using NumPy\n",
    "\n",
    "Once the installation of the Numpy package is completed, the implementation in a Python file is done using the following command:\n",
    "\n",
    "`import numpy as np`\n",
    "\n",
    "Numpy has many different built-in functions and capabilities. In this lecture, we will focus on some of the most important aspects: vectors, arrays, matrices, number generation and few more. The rest of the Numpy capabilities can be explored in detail in the upcoming lectures.\n",
    "\n",
    "\n",
    "#### NumPy Arrays\n",
    "\n",
    "What are arrays? Arrays are a reserved space in memory for a list of values. These arrays essentially come in two flavors: vectors and matrices. Vectors are strictly one dimensional and matrices are two or more dimensional arrays. They certainly take part in the root architecture of programming and give a whole lot of new possibilities, which will be explored later on.\n"
   ]
  },
  {
   "cell_type": "code",
   "execution_count": 11,
   "id": "9a309cba",
   "metadata": {},
   "outputs": [],
   "source": [
    "scalar = [1] #This is a scalar\n",
    "vector = [2,3,4,4,5,43] # This is a vector\n",
    "matrix = [[2,3,4,5],[5,42,1,1]] #This is a matrix"
   ]
  },
  {
   "cell_type": "code",
   "execution_count": 12,
   "id": "1befa543",
   "metadata": {},
   "outputs": [],
   "source": [
    "import numpy as np\n",
    "# print(dir(np))"
   ]
  },
  {
   "cell_type": "code",
   "execution_count": 14,
   "id": "c0a1504c",
   "metadata": {},
   "outputs": [
    {
     "name": "stdout",
     "output_type": "stream",
     "text": [
      "Version of NumPy is :  1.22.3\n",
      "Path of NumPy is :  ['/home/dell/.local/lib/python3.8/site-packages/numpy']\n"
     ]
    }
   ],
   "source": [
    "print(\"Version of NumPy is : \" ,np.__version__)\n",
    "print(\"Path of NumPy is : \" ,np.__path__)"
   ]
  },
  {
   "cell_type": "markdown",
   "id": "876f41eb",
   "metadata": {},
   "source": [
    "#### Creating NumPy Arrays\n",
    "\n",
    "The pre-built function `np.array` is the correct way to create an array. As you can see, first we import numpy as np, meaning that later we will access the numpy functions using the `np.functionName` format. Than we call the function `array` from it. The only required parameter for the array function is data, in a form of list. There are more parameters which also can be found in the numpy.array documentation. We either convert `data` into an array, or we specify the data inside the function.\n",
    "\n",
    "\n"
   ]
  },
  {
   "cell_type": "code",
   "execution_count": 20,
   "id": "b4b67425",
   "metadata": {},
   "outputs": [
    {
     "name": "stdout",
     "output_type": "stream",
     "text": [
      "Array :  [2 3 4 5]\n",
      "Type of a :  <class 'numpy.ndarray'>\n",
      "Dimensions of a :  1\n"
     ]
    }
   ],
   "source": [
    "a = np.array([2,3,4,5],dtype=np.uint0)\n",
    "print(\"Array : \", a)\n",
    "print(\"Type of a : \", type(a))\n",
    "print(\"Dimensions of a : \", np.ndim(a))"
   ]
  },
  {
   "cell_type": "code",
   "execution_count": 21,
   "id": "94002ed6",
   "metadata": {},
   "outputs": [
    {
     "name": "stdout",
     "output_type": "stream",
     "text": [
      "<class 'numpy.ndarray'>\n",
      "<class 'numpy.ndarray'>\n"
     ]
    }
   ],
   "source": [
    "import numpy as np\n",
    "\n",
    "data = [1,2,3]\n",
    "arr = np.array(data)\n",
    "print(type(arr))\n",
    "\n",
    "# .. or..\n",
    "\n",
    "import numpy as np\n",
    "\n",
    "arr = np.array([1,2,3])\n",
    "print(type(arr))\n",
    "# These two codes produce the same output when we print their type:\n"
   ]
  },
  {
   "cell_type": "markdown",
   "id": "9331ba0c",
   "metadata": {},
   "source": [
    "#### Note:\n",
    "- Both cases work perfectly fine. Other significant parameters to be considered are dtype, copy, ndmin, etc. Every array consists of two parts, the value and the index. The value is the actual numbers the array holds and the index is the position of the value in the array. This is essential, because it allows you to access certain values just by knowing their index, or finding the index of a certain value/s. We will go deeper in indexing later on in upcoming lectures."
   ]
  },
  {
   "cell_type": "code",
   "execution_count": null,
   "id": "456da869",
   "metadata": {},
   "outputs": [],
   "source": []
  },
  {
   "cell_type": "markdown",
   "id": "de8bdac4",
   "metadata": {},
   "source": [
    "## 3. Built-In Methods\n",
    "\n",
    "Numpy allows us to use many built-in methods for generating arrays.\n",
    "- `np.arange()` – array of arranged values from low to high value\n",
    "- `np.zeros()` – array of zeros with specified shape\n",
    "- `np.ones()` – similarly to zeros, array of ones with specified shape\n",
    "- `np.linspace()` – array of linearly spaced numbers, with specified size\n",
    "- `np.eye()` – two dimensional array with ones on the diagonal, zeros elsewhere"
   ]
  },
  {
   "cell_type": "markdown",
   "id": "8a447bbb",
   "metadata": {},
   "source": [
    "#### np.arange()\n",
    "\n",
    "Numpy’s arange function will return evenly spaced values within a given interval. Works similarly to Python’s `range()` function. The only required parameter is ‘stop’, while all the other parameters are optional:"
   ]
  },
  {
   "cell_type": "code",
   "execution_count": 27,
   "id": "41f02d26",
   "metadata": {},
   "outputs": [],
   "source": [
    "# np.arange(start=2, stop=1000, step=8, dtype=int) #given interval [2,1000)"
   ]
  },
  {
   "cell_type": "code",
   "execution_count": null,
   "id": "624dd2c4",
   "metadata": {},
   "outputs": [],
   "source": []
  },
  {
   "cell_type": "code",
   "execution_count": 28,
   "id": "16494cc0",
   "metadata": {},
   "outputs": [
    {
     "data": {
      "text/plain": [
       "array([0, 1, 2, 3, 4, 5, 6, 7, 8, 9])"
      ]
     },
     "execution_count": 28,
     "metadata": {},
     "output_type": "execute_result"
    }
   ],
   "source": [
    "np.arange(stop=10)"
   ]
  },
  {
   "cell_type": "code",
   "execution_count": 29,
   "id": "fd5cbc36",
   "metadata": {},
   "outputs": [
    {
     "data": {
      "text/plain": [
       "array([ 5,  6,  7,  8,  9, 10])"
      ]
     },
     "execution_count": 29,
     "metadata": {},
     "output_type": "execute_result"
    }
   ],
   "source": [
    "# It is possible to specify start parameter\n",
    "np.arange(start=5, stop=11)"
   ]
  },
  {
   "cell_type": "code",
   "execution_count": 30,
   "id": "e56d0466",
   "metadata": {},
   "outputs": [
    {
     "name": "stdout",
     "output_type": "stream",
     "text": [
      "Array :  [ 5  6  7  8  9 10 11 12 13 14 15]\n",
      "Array :  [ 5  7  9 11 13 15]\n"
     ]
    }
   ],
   "source": [
    "# Another useful parameter is `step` parameter, by default its value is 1. This value represents the numeric distance \n",
    "# b/w each integer generated by the function\n",
    "print(\"Array : \",np.arange(start=5, stop=16))\n",
    "\n",
    "# with the step of '2'\n",
    "print(\"Array : \",np.arange(start=5, stop=16, step=2))"
   ]
  },
  {
   "cell_type": "code",
   "execution_count": 31,
   "id": "31399a97",
   "metadata": {},
   "outputs": [
    {
     "name": "stdout",
     "output_type": "stream",
     "text": [
      "Array :  [ 5.    6.75  8.5  10.25 12.   13.75 15.5 ]\n"
     ]
    }
   ],
   "source": [
    "# Note that step size can be float\n",
    "print(\"Array : \",np.arange(start=5, stop=16, step=1.75))"
   ]
  },
  {
   "cell_type": "code",
   "execution_count": null,
   "id": "0490523e",
   "metadata": {},
   "outputs": [],
   "source": []
  },
  {
   "cell_type": "code",
   "execution_count": 34,
   "id": "0cc17918",
   "metadata": {},
   "outputs": [
    {
     "name": "stdout",
     "output_type": "stream",
     "text": [
      "Array of Integers:  [ 5  7  9 11 13 15]\n",
      "Array of Floats:  [ 5.  7.  9. 11. 13. 15.]\n"
     ]
    }
   ],
   "source": [
    "# We can also change the data-type of each element of the array\n",
    "# By default , type is integer.\n",
    "print(\"Array of Integers: \",np.arange(start=5, stop=16, step=2))\n",
    "print(\"Array of Floats: \",np.arange(start=5, stop=16, step=2, dtype=float))"
   ]
  },
  {
   "cell_type": "code",
   "execution_count": null,
   "id": "a2978113",
   "metadata": {},
   "outputs": [],
   "source": []
  },
  {
   "cell_type": "markdown",
   "id": "bd56573f",
   "metadata": {},
   "source": [
    "#### np.zeros() and np.ones()\n",
    "Numpy provides functions that are able to create arrays of 1’s and 0’s. The required parameter for these functions is `shape`. By default, dtype of each element of array is `numpy.float64`. We can change dtype of elements of array by using parameter `dtype`."
   ]
  },
  {
   "cell_type": "code",
   "execution_count": 51,
   "id": "3608ec9b",
   "metadata": {},
   "outputs": [],
   "source": [
    "# a = np.zeros((4,2,2,3))\n",
    "# b = np.ones((2,5,4), dtype=int)\n"
   ]
  },
  {
   "cell_type": "code",
   "execution_count": 52,
   "id": "ef060c01",
   "metadata": {},
   "outputs": [
    {
     "data": {
      "text/plain": [
       "array([0., 0., 0., 0.])"
      ]
     },
     "execution_count": 52,
     "metadata": {},
     "output_type": "execute_result"
    }
   ],
   "source": [
    "# Create array filled with zero values\n",
    "np.zeros(shape=4)"
   ]
  },
  {
   "cell_type": "code",
   "execution_count": 53,
   "id": "0204c6b6",
   "metadata": {},
   "outputs": [
    {
     "data": {
      "text/plain": [
       "array([1., 1., 1., 1.])"
      ]
     },
     "execution_count": 53,
     "metadata": {},
     "output_type": "execute_result"
    }
   ],
   "source": [
    "# Create array filled with ones values\n",
    "np.ones(shape=4)"
   ]
  },
  {
   "cell_type": "code",
   "execution_count": 54,
   "id": "242272f8",
   "metadata": {},
   "outputs": [
    {
     "data": {
      "text/plain": [
       "array([1, 1, 1, 1])"
      ]
     },
     "execution_count": 54,
     "metadata": {},
     "output_type": "execute_result"
    }
   ],
   "source": [
    "# Create array filled with ones values having int type\n",
    "np.ones(shape=4, dtype=int)"
   ]
  },
  {
   "cell_type": "code",
   "execution_count": 55,
   "id": "758cccd1",
   "metadata": {},
   "outputs": [
    {
     "data": {
      "text/plain": [
       "array([[0., 0., 0., 0., 0.],\n",
       "       [0., 0., 0., 0., 0.],\n",
       "       [0., 0., 0., 0., 0.],\n",
       "       [0., 0., 0., 0., 0.]])"
      ]
     },
     "execution_count": 55,
     "metadata": {},
     "output_type": "execute_result"
    }
   ],
   "source": [
    "# create multi-dimensional array with zeros\n",
    "np.zeros(shape=(4,5))"
   ]
  },
  {
   "cell_type": "code",
   "execution_count": 56,
   "id": "b2e0befb",
   "metadata": {},
   "outputs": [
    {
     "data": {
      "text/plain": [
       "array([[1., 1., 1., 1., 1.],\n",
       "       [1., 1., 1., 1., 1.],\n",
       "       [1., 1., 1., 1., 1.],\n",
       "       [1., 1., 1., 1., 1.]])"
      ]
     },
     "execution_count": 56,
     "metadata": {},
     "output_type": "execute_result"
    }
   ],
   "source": [
    "# create multi-dimensional array with ones\n",
    "np.ones(shape=(4,5))"
   ]
  },
  {
   "cell_type": "code",
   "execution_count": 59,
   "id": "ed53fe44",
   "metadata": {},
   "outputs": [
    {
     "data": {
      "text/plain": [
       "array([[1, 1, 1, 1, 1, 1],\n",
       "       [1, 1, 1, 1, 1, 1],\n",
       "       [1, 1, 1, 1, 1, 1],\n",
       "       [1, 1, 1, 1, 1, 1],\n",
       "       [1, 1, 1, 1, 1, 1]])"
      ]
     },
     "execution_count": 59,
     "metadata": {},
     "output_type": "execute_result"
    }
   ],
   "source": [
    "# create multi-dimensional array with ones having int data type\n",
    "np.ones(shape= (5,6), dtype=int)"
   ]
  },
  {
   "cell_type": "code",
   "execution_count": null,
   "id": "46e66e2d",
   "metadata": {},
   "outputs": [],
   "source": []
  },
  {
   "cell_type": "markdown",
   "id": "032b81e5",
   "metadata": {},
   "source": [
    "#### np.linspace()\n",
    "\n",
    "Numpy’s linspace function will return evenly spaced numbers over a specified interval. Required parameters for this functions are `start` and `stop`. "
   ]
  },
  {
   "cell_type": "code",
   "execution_count": 70,
   "id": "de9b9fe8",
   "metadata": {},
   "outputs": [
    {
     "data": {
      "text/plain": [
       "array([   5.        ,  115.55555556,  226.11111111,  336.66666667,\n",
       "        447.22222222,  557.77777778,  668.33333333,  778.88888889,\n",
       "        889.44444444, 1000.        ])"
      ]
     },
     "execution_count": 70,
     "metadata": {},
     "output_type": "execute_result"
    }
   ],
   "source": [
    "np.linspace(start=5, stop=1000, num=10)"
   ]
  },
  {
   "cell_type": "markdown",
   "id": "ff2bfeb7",
   "metadata": {},
   "source": [
    "**The parameter `num` specifies the number of samples to generate, and the default value is 50. The value defined in the parameter `num` must be non-negative. You are able to change the data type of your values using `dtype` as parameter.**"
   ]
  },
  {
   "cell_type": "code",
   "execution_count": 71,
   "id": "8b37656b",
   "metadata": {},
   "outputs": [
    {
     "data": {
      "text/plain": [
       "array([ 5.  ,  7.75, 10.5 , 13.25, 16.  ])"
      ]
     },
     "execution_count": 71,
     "metadata": {},
     "output_type": "execute_result"
    }
   ],
   "source": [
    "# num = 5 , means sample of 5 values\n",
    "np.linspace(start=5, stop=16, num=5)"
   ]
  },
  {
   "cell_type": "code",
   "execution_count": 73,
   "id": "2c3215a9",
   "metadata": {},
   "outputs": [
    {
     "data": {
      "text/plain": [
       "array([ 5,  6,  7,  8, 10, 11, 12, 13, 15])"
      ]
     },
     "execution_count": 73,
     "metadata": {},
     "output_type": "execute_result"
    }
   ],
   "source": [
    "# we can change the data type of the each value by using dtype parameter\n",
    "np.linspace(start=5, stop=15, num=9, dtype=int)"
   ]
  },
  {
   "cell_type": "code",
   "execution_count": null,
   "id": "1922b519",
   "metadata": {},
   "outputs": [],
   "source": [
    "# np.array()\n",
    "# np.arange(start, stop, step, dtype)\n",
    "# np.zeros(shape) -> shape 1d, 2d, 3d, nd\n",
    "# np.ones(shape) -> shape 1d,2d,3d, nd\n",
    "# np.linspace(start, stop, num, dtype)"
   ]
  },
  {
   "cell_type": "markdown",
   "id": "f91fcd9a",
   "metadata": {},
   "source": [
    "#### np.eye()\n",
    "\n",
    "Numpy’s eye function will return Identity Matrix. The identity matrix is a square matrix that has 1’s along the main diagonal and 0’s for all other entries. This matrix is often written simply as `I`, and is special in that it acts like 1 in matrix multiplication. Required parameter for this function is `N`, number of rows in the output."
   ]
  },
  {
   "cell_type": "code",
   "execution_count": 83,
   "id": "6205e533",
   "metadata": {},
   "outputs": [
    {
     "data": {
      "text/plain": [
       "array([[1, 0],\n",
       "       [0, 1]])"
      ]
     },
     "execution_count": 83,
     "metadata": {},
     "output_type": "execute_result"
    }
   ],
   "source": [
    "np.eye(N=2,dtype=int)"
   ]
  },
  {
   "cell_type": "markdown",
   "id": "6c0f95ef",
   "metadata": {},
   "source": [
    "**This function can take a optional parameter `M`, which specifice the number of the columns. By default, its value is `N=M`**"
   ]
  },
  {
   "cell_type": "code",
   "execution_count": 84,
   "id": "13ad1b28",
   "metadata": {},
   "outputs": [
    {
     "data": {
      "text/plain": [
       "array([[1., 0., 0., 0., 0., 0.],\n",
       "       [0., 1., 0., 0., 0., 0.],\n",
       "       [0., 0., 1., 0., 0., 0.],\n",
       "       [0., 0., 0., 1., 0., 0.],\n",
       "       [0., 0., 0., 0., 1., 0.]])"
      ]
     },
     "execution_count": 84,
     "metadata": {},
     "output_type": "execute_result"
    }
   ],
   "source": [
    "np.eye(N=5, M=6)"
   ]
  },
  {
   "cell_type": "markdown",
   "id": "c78c6cca",
   "metadata": {},
   "source": [
    "**This function can also take a very interesting optional parameter `k`. It is a integer and by default, its value is `0`. Index of the diagonal: 0 (the default) refers to the main diagonal. If a value of `k` is  positive, then it refers to an upper diagonal, and a negative valuerefers to a lower diagonal.**"
   ]
  },
  {
   "cell_type": "code",
   "execution_count": 85,
   "id": "d7c01c7b",
   "metadata": {},
   "outputs": [
    {
     "data": {
      "text/plain": [
       "array([[0., 0., 1., 0., 0., 0.],\n",
       "       [0., 0., 0., 1., 0., 0.],\n",
       "       [0., 0., 0., 0., 1., 0.],\n",
       "       [0., 0., 0., 0., 0., 1.],\n",
       "       [0., 0., 0., 0., 0., 0.]])"
      ]
     },
     "execution_count": 85,
     "metadata": {},
     "output_type": "execute_result"
    }
   ],
   "source": [
    "# upper diagonal\n",
    "np.eye(N=5, M=6 ,k=2)"
   ]
  },
  {
   "cell_type": "code",
   "execution_count": 86,
   "id": "f712ce85",
   "metadata": {},
   "outputs": [
    {
     "data": {
      "text/plain": [
       "array([[0., 0., 0., 0., 0., 0.],\n",
       "       [1., 0., 0., 0., 0., 0.],\n",
       "       [0., 1., 0., 0., 0., 0.],\n",
       "       [0., 0., 1., 0., 0., 0.],\n",
       "       [0., 0., 0., 1., 0., 0.]])"
      ]
     },
     "execution_count": 86,
     "metadata": {},
     "output_type": "execute_result"
    }
   ],
   "source": [
    "# lower diagonal\n",
    "np.eye(N=5, M=6, k=-1)"
   ]
  },
  {
   "cell_type": "code",
   "execution_count": null,
   "id": "efd8562f",
   "metadata": {},
   "outputs": [],
   "source": [
    "# np.array()\n",
    "# np.arange(start, stop, step, dtype)\n",
    "# np.zeros(shape) -> shape 1d, 2d, 3d, nd\n",
    "# np.ones(shape) -> shape 1d,2d,3d, nd\n",
    "# np.linspace(start, stop, num, dtype)\n",
    "# np.eye(N=rows(int), M=columns(int), k=0(int), dtype=)"
   ]
  },
  {
   "cell_type": "code",
   "execution_count": null,
   "id": "4fed5bee",
   "metadata": {},
   "outputs": [],
   "source": []
  },
  {
   "cell_type": "markdown",
   "id": "6411b377",
   "metadata": {},
   "source": [
    "# 4. Random\n",
    "\n",
    "Numpy allows you to use various functions to produce arrays with random values. To access these functions, first we have to access the `random` function itself. This is done using `np.random`, after which we specify which function we need. Here is a list of the most used random functions and their purpose:\n",
    "- `np.random.rand()` – produce random values in the given shape from 0 to 1\n",
    "- `np.random.randn()` – produce random values with a ‘standard normal’ distribution, from -1 to 1\n",
    "- `np.random.randint()` – produce random numbers from low to high, specified as parameter"
   ]
  },
  {
   "cell_type": "code",
   "execution_count": 137,
   "id": "6bc4b923",
   "metadata": {},
   "outputs": [
    {
     "data": {
      "text/plain": [
       "<AxesSubplot:ylabel='Density'>"
      ]
     },
     "execution_count": 137,
     "metadata": {},
     "output_type": "execute_result"
    },
    {
     "data": {
      "image/png": "[encoded data removed]",
      "text/plain": [
       "<Figure size 432x288 with 1 Axes>"
      ]
     },
     "metadata": {
      "needs_background": "light"
     },
     "output_type": "display_data"
    }
   ],
   "source": [
    "a= np.random.rand(3,4)\n",
    "import matplotlib.pyplot as plt\n",
    "# sampleArray = numpy.array([[34,43,73],[82,22,12],[53,94,66]]) \n",
    "# plt.matshow(a)\n",
    "b=a.reshape(12,)\n",
    "import pandas as pd\n",
    "c = pd.Series(b)\n",
    "c.plot.kde()"
   ]
  },
  {
   "cell_type": "code",
   "execution_count": 143,
   "id": "53c018a8",
   "metadata": {},
   "outputs": [
    {
     "data": {
      "text/plain": [
       "(0.4784217618042966, 0.3230905764414741)"
      ]
     },
     "execution_count": 143,
     "metadata": {},
     "output_type": "execute_result"
    }
   ],
   "source": [
    "c.mean(), c.std()"
   ]
  },
  {
   "cell_type": "markdown",
   "id": "f6d065c6",
   "metadata": {},
   "source": [
    "#### np.random.rand()\n",
    "The rand function uses only one parameter which is the `shape` of the output. You need to specify the output format you need, whether it is one or two dimensional array. If there is no argument passed to the function, it returns a single value. Otherwise, it produces number of numbers as specified."
   ]
  },
  {
   "cell_type": "code",
   "execution_count": 138,
   "id": "7eb591d8",
   "metadata": {},
   "outputs": [
    {
     "data": {
      "text/plain": [
       "0.45833167648879547"
      ]
     },
     "execution_count": 138,
     "metadata": {},
     "output_type": "execute_result"
    }
   ],
   "source": [
    "# This function gives a single value at a time if we don't pass value shape parameter\n",
    "np.random.rand()"
   ]
  },
  {
   "cell_type": "code",
   "execution_count": null,
   "id": "d503a84c",
   "metadata": {},
   "outputs": [],
   "source": []
  },
  {
   "cell_type": "code",
   "execution_count": 139,
   "id": "15d8f8d7",
   "metadata": {},
   "outputs": [
    {
     "data": {
      "text/plain": [
       "array([[0.12565777, 0.53591512, 0.14790734],\n",
       "       [0.68106228, 0.76602247, 0.04882994],\n",
       "       [0.96730283, 0.002429  , 0.48251839],\n",
       "       [0.57118661, 0.66623438, 0.11233376],\n",
       "       [0.37690136, 0.51591573, 0.13854992]])"
      ]
     },
     "execution_count": 139,
     "metadata": {},
     "output_type": "execute_result"
    }
   ],
   "source": [
    "# We can also generate randomly 2D array by giving values of rows and columns\n",
    "np.random.rand(5,3)"
   ]
  },
  {
   "cell_type": "code",
   "execution_count": null,
   "id": "98902958",
   "metadata": {},
   "outputs": [],
   "source": []
  },
  {
   "cell_type": "code",
   "execution_count": 140,
   "id": "4fbc9d50",
   "metadata": {},
   "outputs": [
    {
     "data": {
      "text/plain": [
       "array([[[0.59829046, 0.21467553, 0.13350326, 0.74139981, 0.09822906],\n",
       "        [0.88915467, 0.123495  , 0.62636283, 0.40188401, 0.6757061 ],\n",
       "        [0.20807452, 0.89201561, 0.94393999, 0.57513545, 0.00696174],\n",
       "        [0.9739936 , 0.16588288, 0.79137797, 0.41645004, 0.29413936]],\n",
       "\n",
       "       [[0.24877856, 0.26500322, 0.66703507, 0.59325794, 0.82314305],\n",
       "        [0.13154648, 0.89762137, 0.93687417, 0.17075935, 0.3073088 ],\n",
       "        [0.87662115, 0.71705431, 0.8833784 , 0.53908631, 0.27183674],\n",
       "        [0.83233855, 0.99794473, 0.7419241 , 0.39704473, 0.81917641]],\n",
       "\n",
       "       [[0.97214098, 0.96143192, 0.11637568, 0.21132747, 0.17046328],\n",
       "        [0.37865537, 0.15389256, 0.5371228 , 0.56704597, 0.42347505],\n",
       "        [0.26823981, 0.57625535, 0.22892738, 0.48165337, 0.31732108],\n",
       "        [0.56151332, 0.29802996, 0.01740908, 0.88542799, 0.14361413]]])"
      ]
     },
     "execution_count": 140,
     "metadata": {},
     "output_type": "execute_result"
    }
   ],
   "source": [
    "# We can also generate randomly 3D array\n",
    "np.random.rand(3,4,5)"
   ]
  },
  {
   "cell_type": "code",
   "execution_count": null,
   "id": "bea2ca97",
   "metadata": {},
   "outputs": [],
   "source": []
  },
  {
   "cell_type": "markdown",
   "id": "bd342414",
   "metadata": {},
   "source": [
    "#### np.random.randn()\n",
    "The randn function is similar to the `rand` function, except it produces a number with standard normal distribution. What this means, is that it generates number with distribution of 1 and mean of 0, i.e. value from -1 to +1 by default:"
   ]
  },
  {
   "cell_type": "code",
   "execution_count": 141,
   "id": "4c1b9a16",
   "metadata": {},
   "outputs": [
    {
     "data": {
      "text/plain": [
       "-1.0632042996389783"
      ]
     },
     "execution_count": 141,
     "metadata": {},
     "output_type": "execute_result"
    }
   ],
   "source": [
    "# This function gives a single value at a time if we don't pass value shape parameter\n",
    "np.random.randn()"
   ]
  },
  {
   "cell_type": "code",
   "execution_count": 15,
   "id": "b58eb4cb",
   "metadata": {},
   "outputs": [
    {
     "data": {
      "text/plain": [
       "array([-0.67292649,  0.11307875,  1.35068741])"
      ]
     },
     "execution_count": 15,
     "metadata": {},
     "output_type": "execute_result"
    }
   ],
   "source": [
    "# **We can also produce 1-D numpy array of any shape by giving shape value parameter**\n",
    "np.random.randn(3)"
   ]
  },
  {
   "cell_type": "code",
   "execution_count": 144,
   "id": "c6b28002",
   "metadata": {},
   "outputs": [
    {
     "data": {
      "text/plain": [
       "array([[ 0.14967807,  1.69910991,  0.00268975],\n",
       "       [ 0.67546174,  0.64620509,  0.69124255],\n",
       "       [ 0.8012653 , -0.38016137,  0.1875484 ],\n",
       "       [-0.20571484, -0.05723862,  1.1456205 ],\n",
       "       [ 0.27741666, -0.09974812, -0.38194851]])"
      ]
     },
     "execution_count": 144,
     "metadata": {},
     "output_type": "execute_result"
    }
   ],
   "source": [
    "# We can also generate randomly 2D array by giving values of rows and columns\n",
    "np.random.randn(5,3)"
   ]
  },
  {
   "cell_type": "code",
   "execution_count": 149,
   "id": "f8d3edb4",
   "metadata": {},
   "outputs": [
    {
     "data": {
      "text/plain": [
       "array([[[ 0.30252504,  0.27828758],\n",
       "        [-1.26217712,  0.35467828],\n",
       "        [ 0.0185467 , -0.82433882],\n",
       "        [ 1.75795657,  0.69043745]],\n",
       "\n",
       "       [[ 0.37475074,  0.0806072 ],\n",
       "        [ 0.76465648, -0.55029987],\n",
       "        [-1.30798917, -0.08725682],\n",
       "        [ 0.21311255,  1.42926264]],\n",
       "\n",
       "       [[-0.08404207, -0.09015305],\n",
       "        [-0.63534288, -0.15626492],\n",
       "        [ 0.35826379,  1.36089186],\n",
       "        [ 1.08927761, -0.83802254]]])"
      ]
     },
     "execution_count": 149,
     "metadata": {},
     "output_type": "execute_result"
    }
   ],
   "source": [
    "# We can also generate randomly 3D array\n",
    "array = np.random.randn(3,4,2)\n",
    "array"
   ]
  },
  {
   "cell_type": "code",
   "execution_count": 150,
   "id": "9b276b79",
   "metadata": {},
   "outputs": [
    {
     "data": {
      "text/plain": [
       "(0.1348903018979317, 0.7866526544775002)"
      ]
     },
     "execution_count": 150,
     "metadata": {},
     "output_type": "execute_result"
    }
   ],
   "source": [
    "array.mean(), array.std()"
   ]
  },
  {
   "cell_type": "markdown",
   "id": "47b2466f",
   "metadata": {},
   "source": [
    "**As we can see distribution is still 1, the range of the given values does not change. The distribution value can be changed with an integer value by performing some arithmetic operations like `+`,`-`,`*`,`/`.**"
   ]
  },
  {
   "cell_type": "code",
   "execution_count": 151,
   "id": "8a53d220",
   "metadata": {},
   "outputs": [
    {
     "data": {
      "text/plain": [
       "array([[-3.78735703, -0.58197684,  0.04080299,  1.12378108],\n",
       "       [ 0.4260446 ,  0.35817266,  0.69204328,  0.83959715],\n",
       "       [ 0.17723208,  0.8612881 , -1.28970754, -0.79105174]])"
      ]
     },
     "execution_count": 151,
     "metadata": {},
     "output_type": "execute_result"
    }
   ],
   "source": [
    "result=np.random.randn(3,4)\n",
    "result"
   ]
  },
  {
   "cell_type": "code",
   "execution_count": 152,
   "id": "8ecb43e0",
   "metadata": {},
   "outputs": [
    {
     "data": {
      "text/plain": [
       "array([[-11.3620711 ,  -1.74593052,   0.12240897,   3.37134325],\n",
       "       [  1.27813381,   1.07451799,   2.07612985,   2.51879146],\n",
       "       [  0.53169625,   2.5838643 ,  -3.86912262,  -2.37315523]])"
      ]
     },
     "execution_count": 152,
     "metadata": {},
     "output_type": "execute_result"
    }
   ],
   "source": [
    "result*3"
   ]
  },
  {
   "cell_type": "code",
   "execution_count": 153,
   "id": "6c81302d",
   "metadata": {},
   "outputs": [
    {
     "data": {
      "text/plain": [
       "array([[-0.78735703,  2.41802316,  3.04080299,  4.12378108],\n",
       "       [ 3.4260446 ,  3.35817266,  3.69204328,  3.83959715],\n",
       "       [ 3.17723208,  3.8612881 ,  1.71029246,  2.20894826]])"
      ]
     },
     "execution_count": 153,
     "metadata": {},
     "output_type": "execute_result"
    }
   ],
   "source": [
    "result+3"
   ]
  },
  {
   "cell_type": "markdown",
   "id": "05ce030d",
   "metadata": {},
   "source": [
    "The distribution is now equal to 4, so the given floats vary between minus and plus 4. Other mathematical operations such as multiplication, division, subtraction are possible in order to modify the distribution, depending on the needs."
   ]
  },
  {
   "cell_type": "code",
   "execution_count": 162,
   "id": "13c2a9e8",
   "metadata": {},
   "outputs": [
    {
     "data": {
      "text/plain": [
       "<AxesSubplot:ylabel='Density'>"
      ]
     },
     "execution_count": 162,
     "metadata": {},
     "output_type": "execute_result"
    },
    {
     "data": {
      "image/png": "[encoded data removed]",
      "text/plain": [
       "<Figure size 432x288 with 1 Axes>"
      ]
     },
     "metadata": {
      "needs_background": "light"
     },
     "output_type": "display_data"
    }
   ],
   "source": [
    "a= np.random.randn(3,4)\n",
    "import matplotlib.pyplot as plt\n",
    "# sampleArray = numpy.array([[34,43,73],[82,22,12],[53,94,66]]) \n",
    "# plt.matshow(a)\n",
    "b=a.reshape(12,)\n",
    "import pandas as pd\n",
    "c = pd.Series(b)\n",
    "c.plot.kde()"
   ]
  },
  {
   "cell_type": "markdown",
   "id": "ad9964c9",
   "metadata": {},
   "source": [
    "#### np.random.randint()\n",
    "It is one of the function for doing random sampling in numpy. It is used to generate whole random numbers, ranging between low(inclusive) and high(exclusive) value. Specifying a parameter like `(1, 100)` will create random values from 1 to 99.\n",
    "#### Syntax : numpy.random.randint(low, high=None, size=None, dtype=’l’)\n",
    "\n",
    "### Parameters :\n",
    "- low : [int] Lowest (signed) integer to be drawn from the distribution.But, it works as a highest integer in the sample if high=None.\n",
    "- high : [int, optional] Largest (signed) integer to be drawn from the distribution.\n",
    "- size : [int or tuple of ints, optional] Output shape. If the given shape is, e.g., (m, n, k), then m * n * k samples are drawn. Default is None, in which case a single value is returned.\n",
    "- dtype : [optional] Desired output data-type."
   ]
  },
  {
   "cell_type": "code",
   "execution_count": 169,
   "id": "189967d8",
   "metadata": {},
   "outputs": [
    {
     "data": {
      "text/plain": [
       "4"
      ]
     },
     "execution_count": 169,
     "metadata": {},
     "output_type": "execute_result"
    }
   ],
   "source": [
    "import numpy as np\n",
    "np.random.randint(low=10)"
   ]
  },
  {
   "cell_type": "code",
   "execution_count": null,
   "id": "9404b60a",
   "metadata": {},
   "outputs": [],
   "source": []
  },
  {
   "cell_type": "code",
   "execution_count": null,
   "id": "72b08db4",
   "metadata": {},
   "outputs": [],
   "source": []
  },
  {
   "cell_type": "code",
   "execution_count": 188,
   "id": "54dcae8f",
   "metadata": {},
   "outputs": [
    {
     "data": {
      "text/plain": [
       "14"
      ]
     },
     "execution_count": 188,
     "metadata": {},
     "output_type": "execute_result"
    }
   ],
   "source": [
    "# another parameter that we can add into randint is `high`\n",
    "np.random.randint(low=10, high=20)"
   ]
  },
  {
   "cell_type": "code",
   "execution_count": 189,
   "id": "82385460",
   "metadata": {},
   "outputs": [
    {
     "data": {
      "text/plain": [
       "array([55, 26, 90, 72, 40, 81, 20, 75, 34, 94, 43, 54, 10, 25, 72, 62, 99,\n",
       "       92, 28, 57])"
      ]
     },
     "execution_count": 189,
     "metadata": {},
     "output_type": "execute_result"
    }
   ],
   "source": [
    "# we can also a parameter `size` that defines the total number of elements in the array\n",
    "np.random.randint(low=1, high=101, size=20)"
   ]
  },
  {
   "cell_type": "code",
   "execution_count": 190,
   "id": "580f861b",
   "metadata": {},
   "outputs": [
    {
     "data": {
      "text/plain": [
       "array([39, 75, 26,  1, 56, 41, 56, 86, 40, 82, 49, 18, 75, 97, 85, 34, 49,\n",
       "       74, 83, 83], dtype=uint8)"
      ]
     },
     "execution_count": 190,
     "metadata": {},
     "output_type": "execute_result"
    }
   ],
   "source": [
    "# change the datatype of the numpy array using dtype parameter, by default , data-type is integer\n",
    "np.random.randint(low=1, high=101, size=20, dtype=np.uint8)"
   ]
  },
  {
   "cell_type": "code",
   "execution_count": 191,
   "id": "dd86aa46",
   "metadata": {},
   "outputs": [
    {
     "data": {
      "text/plain": [
       "array([[76, 68, 68],\n",
       "       [41, 78, 45],\n",
       "       [44, 84, 77],\n",
       "       [79, 71, 80],\n",
       "       [29, 37, 53]])"
      ]
     },
     "execution_count": 191,
     "metadata": {},
     "output_type": "execute_result"
    }
   ],
   "source": [
    "# create a 2- multi-dimensional array using tuple in size parameter\n",
    "np.random.randint(low=1, high=100, size=(5,3))"
   ]
  },
  {
   "cell_type": "code",
   "execution_count": 193,
   "id": "02ecd433",
   "metadata": {},
   "outputs": [
    {
     "data": {
      "text/plain": [
       "array([[[56, 12, 92],\n",
       "        [77, 25, 78],\n",
       "        [46, 68, 75],\n",
       "        [24, 29, 51],\n",
       "        [92, 16,  5]],\n",
       "\n",
       "       [[ 1, 24, 20],\n",
       "        [ 1, 25, 41],\n",
       "        [ 6, 33, 64],\n",
       "        [97, 97, 94],\n",
       "        [95,  7, 67]],\n",
       "\n",
       "       [[62, 29, 74],\n",
       "        [74, 18,  2],\n",
       "        [50, 40, 11],\n",
       "        [12, 70, 24],\n",
       "        [ 5, 63,  4]]])"
      ]
     },
     "execution_count": 193,
     "metadata": {},
     "output_type": "execute_result"
    }
   ],
   "source": [
    "# create a 3- multi-dimensional array using tuple in size parameter\n",
    "np.random.randint(low=1, high=100, size=(3,5,3))"
   ]
  },
  {
   "cell_type": "code",
   "execution_count": null,
   "id": "b29f8ae1",
   "metadata": {},
   "outputs": [],
   "source": [
    "# np.array()\n",
    "# np.arange(start, stop, step, dtype)\n",
    "# np.zeros(shape) -> shape 1d, 2d, 3d, nd\n",
    "# np.ones(shape) -> shape 1d,2d,3d, nd\n",
    "# np.linspace(start, stop, num, dtype)\n",
    "# np.eye(N=rows(int), M=columns(int), k=0(int), dtype=)\n",
    "# np.random.rand(shape/size)\n",
    "# np.random.randn(size/shape)\n",
    "# np.random.randint(low,high,size, dtype)"
   ]
  },
  {
   "cell_type": "code",
   "execution_count": null,
   "id": "93b82c6e",
   "metadata": {},
   "outputs": [],
   "source": []
  },
  {
   "cell_type": "markdown",
   "id": "8a4a790d",
   "metadata": {},
   "source": [
    "# 5. Array Attributes and Methods\n",
    "\n",
    "Now we will continue with more attributes and methods that can be used on arrays.\n",
    "\n",
    "- np.reshape() – changes the shape of an array into the desired shape\n",
    "- np.shape() – returns a tuple of the shape of the given array as parameter\n",
    "- np.dtype() – returns the data type of the values in the array\n",
    "\n",
    "These methods will improve your `trial-and-error(a finding out of the best way to reach a desired result or a correct solution by trying out one or more ways or means and by noting and eliminating errors or causes of failure)`, meaning, once you find yourself in a situation where you encounter an error, applying methods like this may help you locate the error faster, thus it will save you a lot of time in the future. Let’s dive straight in."
   ]
  },
  {
   "cell_type": "code",
   "execution_count": null,
   "id": "9cbe68ee",
   "metadata": {},
   "outputs": [],
   "source": []
  },
  {
   "cell_type": "markdown",
   "id": "786a8a0e",
   "metadata": {},
   "source": [
    "### np.reshape()\n",
    "This method allows you to transform one dimensional array to more dimensional, or the other way around. Reshape will not affect your data values."
   ]
  },
  {
   "cell_type": "code",
   "execution_count": 23,
   "id": "9775695a",
   "metadata": {},
   "outputs": [
    {
     "data": {
      "text/plain": [
       "array([ 0,  1,  2,  3,  4,  5,  6,  7,  8,  9, 10, 11, 12, 13, 14, 15, 16,\n",
       "       17, 18, 19, 20, 21, 22, 23, 24])"
      ]
     },
     "execution_count": 23,
     "metadata": {},
     "output_type": "execute_result"
    }
   ],
   "source": [
    "a = np.arange(25)\n",
    "a"
   ]
  },
  {
   "cell_type": "code",
   "execution_count": 35,
   "id": "db98b4db",
   "metadata": {},
   "outputs": [
    {
     "name": "stdout",
     "output_type": "stream",
     "text": [
      "Shape of numpy array is :  (25,)\n",
      "Dimension of numpy array is :  1\n"
     ]
    }
   ],
   "source": [
    "# shape() gives the number of rows and columns of numpy array as well as dataframe\n",
    "print(\"Shape of numpy array is : \",a.shape)\n",
    "# this means that `a` numpy object has 25 rows and 0 column\n",
    "\n",
    "# ndim() gives the dimension of the numpy array, 1 means 1-d, 2-d, 3-d\n",
    "print(\"Dimension of numpy array is : \",a.ndim)"
   ]
  },
  {
   "cell_type": "code",
   "execution_count": 28,
   "id": "d1ad80dc",
   "metadata": {},
   "outputs": [
    {
     "data": {
      "text/plain": [
       "array([[ 0,  1,  2,  3,  4],\n",
       "       [ 5,  6,  7,  8,  9],\n",
       "       [10, 11, 12, 13, 14],\n",
       "       [15, 16, 17, 18, 19],\n",
       "       [20, 21, 22, 23, 24]])"
      ]
     },
     "execution_count": 28,
     "metadata": {},
     "output_type": "execute_result"
    }
   ],
   "source": [
    "b=a.reshape(5,5)\n",
    "b"
   ]
  },
  {
   "cell_type": "code",
   "execution_count": 36,
   "id": "bad29011",
   "metadata": {},
   "outputs": [
    {
     "name": "stdout",
     "output_type": "stream",
     "text": [
      "Shape of numpy array is :  (5, 5)\n",
      "Dimension of numpy array is :  2\n"
     ]
    }
   ],
   "source": [
    "# Now, this numpy object has 5 columns and 5 rows , but the data of numy remains same\n",
    "print(\"Shape of numpy array is : \",b.shape)\n",
    "\n",
    "print(\"Dimension of numpy array is : \",b.ndim)"
   ]
  },
  {
   "cell_type": "code",
   "execution_count": null,
   "id": "b25ba885",
   "metadata": {},
   "outputs": [],
   "source": []
  },
  {
   "cell_type": "markdown",
   "id": "7e73d361",
   "metadata": {},
   "source": [
    "**Key thing to notice is that the array still has all 25 elements. Reshaping it into a 4 by 5 matrix(4 rows, 5 columns), would’ve produced an error since the reshape size is not the same size as the array’s. It would’ve been possible if the array had only 20 elements. To reverse the process and return the array into it’s original shape.**"
   ]
  },
  {
   "cell_type": "code",
   "execution_count": 37,
   "id": "d94e4625",
   "metadata": {},
   "outputs": [
    {
     "ename": "ValueError",
     "evalue": "cannot reshape array of size 25 into shape (4,5)",
     "output_type": "error",
     "traceback": [
      "\u001b[0;31m---------------------------------------------------------------------------\u001b[0m",
      "\u001b[0;31mValueError\u001b[0m                                Traceback (most recent call last)",
      "Input \u001b[0;32mIn [37]\u001b[0m, in \u001b[0;36m<cell line: 1>\u001b[0;34m()\u001b[0m\n\u001b[0;32m----> 1\u001b[0m \u001b[43ma\u001b[49m\u001b[38;5;241;43m.\u001b[39;49m\u001b[43mreshape\u001b[49m\u001b[43m(\u001b[49m\u001b[38;5;241;43m4\u001b[39;49m\u001b[43m,\u001b[49m\u001b[38;5;241;43m5\u001b[39;49m\u001b[43m)\u001b[49m\n",
      "\u001b[0;31mValueError\u001b[0m: cannot reshape array of size 25 into shape (4,5)"
     ]
    }
   ],
   "source": [
    "a.reshape(4,5)"
   ]
  },
  {
   "cell_type": "code",
   "execution_count": 39,
   "id": "3e48e91e",
   "metadata": {},
   "outputs": [
    {
     "data": {
      "text/plain": [
       "array([ 0,  1,  2,  3,  4,  5,  6,  7,  8,  9, 10, 11, 12, 13, 14, 15, 16,\n",
       "       17, 18, 19, 20, 21, 22, 23, 24])"
      ]
     },
     "execution_count": 39,
     "metadata": {},
     "output_type": "execute_result"
    }
   ],
   "source": [
    "# Reverse the `b` object into original numpy object\n",
    "b.reshape(25,)"
   ]
  },
  {
   "cell_type": "code",
   "execution_count": null,
   "id": "7a25994b",
   "metadata": {},
   "outputs": [],
   "source": []
  },
  {
   "cell_type": "markdown",
   "id": "3a598e42",
   "metadata": {},
   "source": [
    "### np.dtype()\n",
    "\n",
    "This function allows you to check the data type of the array’s values.\n",
    "\n",
    "There can be more the one data type present in an array, in the upcoming lectures we will in shaa allah discuss all `dtypes` in numpy array."
   ]
  },
  {
   "cell_type": "code",
   "execution_count": 40,
   "id": "fc87dd5e",
   "metadata": {},
   "outputs": [
    {
     "data": {
      "text/plain": [
       "dtype('int64')"
      ]
     },
     "execution_count": 40,
     "metadata": {},
     "output_type": "execute_result"
    }
   ],
   "source": [
    "a.dtype"
   ]
  },
  {
   "cell_type": "code",
   "execution_count": 46,
   "id": "77d508c9",
   "metadata": {},
   "outputs": [
    {
     "data": {
      "text/plain": [
       "array([ 1.        ,  1.18367347,  1.36734694,  1.55102041,  1.73469388,\n",
       "        1.91836735,  2.10204082,  2.28571429,  2.46938776,  2.65306122,\n",
       "        2.83673469,  3.02040816,  3.20408163,  3.3877551 ,  3.57142857,\n",
       "        3.75510204,  3.93877551,  4.12244898,  4.30612245,  4.48979592,\n",
       "        4.67346939,  4.85714286,  5.04081633,  5.2244898 ,  5.40816327,\n",
       "        5.59183673,  5.7755102 ,  5.95918367,  6.14285714,  6.32653061,\n",
       "        6.51020408,  6.69387755,  6.87755102,  7.06122449,  7.24489796,\n",
       "        7.42857143,  7.6122449 ,  7.79591837,  7.97959184,  8.16326531,\n",
       "        8.34693878,  8.53061224,  8.71428571,  8.89795918,  9.08163265,\n",
       "        9.26530612,  9.44897959,  9.63265306,  9.81632653, 10.        ])"
      ]
     },
     "execution_count": 46,
     "metadata": {},
     "output_type": "execute_result"
    }
   ],
   "source": [
    "c = np.linspace(start=1,stop=10)\n",
    "c"
   ]
  },
  {
   "cell_type": "code",
   "execution_count": 47,
   "id": "36d4801f",
   "metadata": {},
   "outputs": [
    {
     "data": {
      "text/plain": [
       "dtype('float64')"
      ]
     },
     "execution_count": 47,
     "metadata": {},
     "output_type": "execute_result"
    }
   ],
   "source": [
    "c.dtype"
   ]
  },
  {
   "cell_type": "code",
   "execution_count": null,
   "id": "1233e588",
   "metadata": {},
   "outputs": [],
   "source": []
  },
  {
   "cell_type": "code",
   "execution_count": null,
   "id": "1b928fe9",
   "metadata": {},
   "outputs": [],
   "source": []
  },
  {
   "cell_type": "markdown",
   "id": "b554ccf2",
   "metadata": {},
   "source": [
    "# 6. Numpy Indexing and Selection\n",
    "Here, we will discuss how to select element or groups of elements from an array and change them. There are two methods are used to perform these operations\n",
    "\n",
    "- Indexing – pick one or more elements from an array\n",
    "- Broadcasting – changing values within an index range"
   ]
  },
  {
   "cell_type": "code",
   "execution_count": 51,
   "id": "725f76e6",
   "metadata": {},
   "outputs": [
    {
     "data": {
      "text/plain": [
       "array([13, 16, 17, 16, 17, 14])"
      ]
     },
     "execution_count": 51,
     "metadata": {},
     "output_type": "execute_result"
    }
   ],
   "source": [
    "array = np.random.randint(low=10, high=20, size=6)\n",
    "array"
   ]
  },
  {
   "cell_type": "code",
   "execution_count": 52,
   "id": "330d2d0b",
   "metadata": {},
   "outputs": [
    {
     "data": {
      "text/plain": [
       "13"
      ]
     },
     "execution_count": 52,
     "metadata": {},
     "output_type": "execute_result"
    }
   ],
   "source": [
    "# Select first element of the array , as we know that indexing start from zero \n",
    "array[0]"
   ]
  },
  {
   "cell_type": "code",
   "execution_count": 53,
   "id": "1705f6ae",
   "metadata": {},
   "outputs": [
    {
     "data": {
      "text/plain": [
       "14"
      ]
     },
     "execution_count": 53,
     "metadata": {},
     "output_type": "execute_result"
    }
   ],
   "source": [
    "# select last element of the array, as we know that index of last element is denoted by -1\n",
    "array[-1]"
   ]
  },
  {
   "cell_type": "code",
   "execution_count": 55,
   "id": "62cf0e3b",
   "metadata": {},
   "outputs": [
    {
     "name": "stdout",
     "output_type": "stream",
     "text": [
      "Slicing from 2-4 index :  [17 16 17]\n",
      "Slicing from 2-4 index :  [16 17 16]\n"
     ]
    }
   ],
   "source": [
    "# we can also perform slicing on numpy array\n",
    "print(\"Slicing from 2-4 index : \", array[2:5])\n",
    "\n",
    "\n",
    "# we can also perform negative indexing on numpy object\n",
    "print(\"Slicing from 2-4 index : \", array[-5:-2])"
   ]
  },
  {
   "cell_type": "code",
   "execution_count": null,
   "id": "b980700b",
   "metadata": {},
   "outputs": [],
   "source": []
  },
  {
   "cell_type": "markdown",
   "id": "bf825e7b",
   "metadata": {},
   "source": [
    "## indexing from 2-dimensional numpy array is different\n"
   ]
  },
  {
   "cell_type": "code",
   "execution_count": 65,
   "id": "b2c0a7fa",
   "metadata": {},
   "outputs": [
    {
     "data": {
      "text/plain": [
       "array([ 10,  11,  12,  14,  15,  17,  18,  20,  21,  23,  24,  25,  27,\n",
       "        28,  30,  31,  33,  34,  36,  37,  39,  40,  41,  43,  44,  46,\n",
       "        47,  49,  50,  52,  53,  55,  56,  57,  59,  60,  62,  63,  65,\n",
       "        66,  68,  69,  70,  72,  73,  75,  76,  78,  79,  81,  82,  84,\n",
       "        85,  86,  88,  89,  91,  92,  94,  95,  97,  98, 100])"
      ]
     },
     "execution_count": 65,
     "metadata": {},
     "output_type": "execute_result"
    }
   ],
   "source": [
    "data =np.linspace(start=10, stop=100,num=63, dtype=int)\n",
    "data"
   ]
  },
  {
   "cell_type": "code",
   "execution_count": 64,
   "id": "23b21575",
   "metadata": {},
   "outputs": [
    {
     "data": {
      "text/plain": [
       "(63,)"
      ]
     },
     "execution_count": 64,
     "metadata": {},
     "output_type": "execute_result"
    }
   ],
   "source": [
    "# give shape of the numpy object\n",
    "data.shape"
   ]
  },
  {
   "cell_type": "code",
   "execution_count": 68,
   "id": "4234f622",
   "metadata": {},
   "outputs": [
    {
     "data": {
      "text/plain": [
       "array([[ 10,  11,  12,  14,  15,  17,  18],\n",
       "       [ 20,  21,  23,  24,  25,  27,  28],\n",
       "       [ 30,  31,  33,  34,  36,  37,  39],\n",
       "       [ 40,  41,  43,  44,  46,  47,  49],\n",
       "       [ 50,  52,  53,  55,  56,  57,  59],\n",
       "       [ 60,  62,  63,  65,  66,  68,  69],\n",
       "       [ 70,  72,  73,  75,  76,  78,  79],\n",
       "       [ 81,  82,  84,  85,  86,  88,  89],\n",
       "       [ 91,  92,  94,  95,  97,  98, 100]])"
      ]
     },
     "execution_count": 68,
     "metadata": {},
     "output_type": "execute_result"
    }
   ],
   "source": [
    "dataReshaped = data.reshape(9,7)\n",
    "dataReshaped"
   ]
  },
  {
   "cell_type": "code",
   "execution_count": 69,
   "id": "1746d822",
   "metadata": {},
   "outputs": [
    {
     "data": {
      "text/plain": [
       "(9, 7)"
      ]
     },
     "execution_count": 69,
     "metadata": {},
     "output_type": "execute_result"
    }
   ],
   "source": [
    "# give shape of the numpy object\n",
    "dataReshaped.shape"
   ]
  },
  {
   "cell_type": "code",
   "execution_count": 70,
   "id": "9f13430b",
   "metadata": {},
   "outputs": [
    {
     "data": {
      "text/plain": [
       "array([20, 21, 23, 24, 25, 27, 28])"
      ]
     },
     "execution_count": 70,
     "metadata": {},
     "output_type": "execute_result"
    }
   ],
   "source": [
    "# select element at first index\n",
    "dataReshaped[1]"
   ]
  },
  {
   "cell_type": "code",
   "execution_count": 72,
   "id": "69746ad7",
   "metadata": {},
   "outputs": [
    {
     "data": {
      "text/plain": [
       "28"
      ]
     },
     "execution_count": 72,
     "metadata": {},
     "output_type": "execute_result"
    }
   ],
   "source": [
    "# select last element of the 2nd row\n",
    "dataReshaped[1][-1]"
   ]
  },
  {
   "cell_type": "markdown",
   "id": "fde61ac3",
   "metadata": {},
   "source": [
    "### TASK :\n",
    "Select first element of the 2nd last row"
   ]
  },
  {
   "cell_type": "code",
   "execution_count": null,
   "id": "da264eab",
   "metadata": {},
   "outputs": [],
   "source": []
  },
  {
   "cell_type": "markdown",
   "id": "5bd47427",
   "metadata": {},
   "source": [
    "## indexing from 3-dimensional numpy array is different\n"
   ]
  },
  {
   "cell_type": "code",
   "execution_count": 76,
   "id": "c9c61987",
   "metadata": {},
   "outputs": [
    {
     "data": {
      "text/plain": [
       "array([[[33, 67, 80],\n",
       "        [54, 51, 23],\n",
       "        [17, 59, 93]],\n",
       "\n",
       "       [[63, 14, 38],\n",
       "        [70, 23, 97],\n",
       "        [37, 95, 57]],\n",
       "\n",
       "       [[18, 74, 59],\n",
       "        [85, 93, 91],\n",
       "        [56, 20, 84]],\n",
       "\n",
       "       [[40, 96, 39],\n",
       "        [95, 39, 28],\n",
       "        [96, 55, 31]]])"
      ]
     },
     "execution_count": 76,
     "metadata": {},
     "output_type": "execute_result"
    }
   ],
   "source": [
    "data3d=np.random.randint(low=10, high=100, size=(4,3,3))\n",
    "data3d"
   ]
  },
  {
   "cell_type": "code",
   "execution_count": 77,
   "id": "62731f54",
   "metadata": {},
   "outputs": [
    {
     "data": {
      "text/plain": [
       "(4, 3, 3)"
      ]
     },
     "execution_count": 77,
     "metadata": {},
     "output_type": "execute_result"
    }
   ],
   "source": [
    "data3d.shape"
   ]
  },
  {
   "cell_type": "code",
   "execution_count": 78,
   "id": "a936f6a7",
   "metadata": {},
   "outputs": [
    {
     "data": {
      "text/plain": [
       "array([[63, 14, 38],\n",
       "       [70, 23, 97],\n",
       "       [37, 95, 57]])"
      ]
     },
     "execution_count": 78,
     "metadata": {},
     "output_type": "execute_result"
    }
   ],
   "source": [
    "# select matrix/array at first index\n",
    "data3d[1]"
   ]
  },
  {
   "cell_type": "code",
   "execution_count": 79,
   "id": "d5693504",
   "metadata": {},
   "outputs": [
    {
     "data": {
      "text/plain": [
       "array([70, 23, 97])"
      ]
     },
     "execution_count": 79,
     "metadata": {},
     "output_type": "execute_result"
    }
   ],
   "source": [
    "# select 2nd array from array at first index\n",
    "data3d[1][1]"
   ]
  },
  {
   "cell_type": "code",
   "execution_count": 80,
   "id": "8c7e0939",
   "metadata": {},
   "outputs": [
    {
     "data": {
      "text/plain": [
       "97"
      ]
     },
     "execution_count": 80,
     "metadata": {},
     "output_type": "execute_result"
    }
   ],
   "source": [
    "# select 3rd element of 2nd array from array at first index \n",
    "data3d[1][1][2]"
   ]
  },
  {
   "cell_type": "code",
   "execution_count": null,
   "id": "b47dfd3a",
   "metadata": {},
   "outputs": [],
   "source": []
  },
  {
   "cell_type": "markdown",
   "id": "5261a330",
   "metadata": {},
   "source": [
    "### Broadcasting\n",
    "\n",
    "Numpy arrays differ from a normal Python list because of their ability to broadcast. Below is an example of setting a value within index range (Broadcasting)."
   ]
  },
  {
   "cell_type": "code",
   "execution_count": 83,
   "id": "223ddf49",
   "metadata": {},
   "outputs": [
    {
     "data": {
      "text/plain": [
       "array([ 0,  1,  2,  3,  4,  5,  6,  7,  8,  9, 10, 11, 12, 13, 14, 15, 16,\n",
       "       17, 18, 19, 20, 21, 22, 23, 24])"
      ]
     },
     "execution_count": 83,
     "metadata": {},
     "output_type": "execute_result"
    }
   ],
   "source": [
    "a"
   ]
  },
  {
   "cell_type": "code",
   "execution_count": 84,
   "id": "1684199d",
   "metadata": {},
   "outputs": [],
   "source": [
    "d = a"
   ]
  },
  {
   "cell_type": "code",
   "execution_count": 86,
   "id": "11d84ddf",
   "metadata": {},
   "outputs": [
    {
     "name": "stdout",
     "output_type": "stream",
     "text": [
      "3\n"
     ]
    },
    {
     "data": {
      "text/plain": [
       "array([ 0,  1,  2, 88,  4,  5,  6,  7,  8,  9, 10, 11, 12, 13, 14, 15, 16,\n",
       "       17, 18, 19, 20, 21, 22, 23, 24])"
      ]
     },
     "execution_count": 86,
     "metadata": {},
     "output_type": "execute_result"
    }
   ],
   "source": [
    "print(d[3])\n",
    "d[3] = 88\n",
    "d"
   ]
  },
  {
   "cell_type": "code",
   "execution_count": 88,
   "id": "2a16a876",
   "metadata": {},
   "outputs": [
    {
     "data": {
      "text/plain": [
       "array([ 0,  1,  2, 88,  4,  5,  6,  7,  8,  9, 10, 11, 12, 13, 14, 15, 16,\n",
       "       17, 18, 19, 20, 21, 22, 23, 24])"
      ]
     },
     "execution_count": 88,
     "metadata": {},
     "output_type": "execute_result"
    }
   ],
   "source": [
    "a\n",
    "# As you can see, change occurs in both arrays"
   ]
  },
  {
   "cell_type": "code",
   "execution_count": 91,
   "id": "82f23164",
   "metadata": {},
   "outputs": [
    {
     "name": "stdout",
     "output_type": "stream",
     "text": [
      "Array d:  [-3 -3 -3 -3 -3  5  6  7  8  9 10 11 12 13 14 15 16 17 18 19 20 21 22 23\n",
      " 24]\n",
      "Array a :  [-3 -3 -3 -3 -3  5  6  7  8  9 10 11 12 13 14 15 16 17 18 19 20 21 22 23\n",
      " 24]\n"
     ]
    }
   ],
   "source": [
    "# setting value within index range\n",
    "d[:5] = -3\n",
    "print(\"Array d: \", d)\n",
    "print(\"Array a : \", a)"
   ]
  },
  {
   "cell_type": "code",
   "execution_count": 93,
   "id": "6b109a69",
   "metadata": {},
   "outputs": [
    {
     "data": {
      "text/plain": [
       "array([ 0,  1,  2,  3,  4,  5,  6,  7,  8,  9, 10])"
      ]
     },
     "execution_count": 93,
     "metadata": {},
     "output_type": "execute_result"
    }
   ],
   "source": [
    "# let's create a new numpy array\n",
    "arr = np.arange(11)\n",
    "arr"
   ]
  },
  {
   "cell_type": "code",
   "execution_count": 94,
   "id": "db2ffbf8",
   "metadata": {},
   "outputs": [
    {
     "data": {
      "text/plain": [
       "array([0, 1, 2, 3, 4, 5])"
      ]
     },
     "execution_count": 94,
     "metadata": {},
     "output_type": "execute_result"
    }
   ],
   "source": [
    "# change the first six values of our array, but firstly we slice it\n",
    "slice_of_arr = arr[:6]\n",
    "slice_of_arr"
   ]
  },
  {
   "cell_type": "code",
   "execution_count": 97,
   "id": "4409733e",
   "metadata": {},
   "outputs": [
    {
     "data": {
      "text/plain": [
       "array([5, 5, 5, 5, 5, 5])"
      ]
     },
     "execution_count": 97,
     "metadata": {},
     "output_type": "execute_result"
    }
   ],
   "source": [
    "# after getting slice , we will change all the values to 5\n",
    "slice_of_arr[:]=5\n",
    "slice_of_arr"
   ]
  },
  {
   "cell_type": "code",
   "execution_count": 98,
   "id": "821ad769",
   "metadata": {},
   "outputs": [
    {
     "data": {
      "text/plain": [
       "array([ 5,  5,  5,  5,  5,  5,  6,  7,  8,  9, 10])"
      ]
     },
     "execution_count": 98,
     "metadata": {},
     "output_type": "execute_result"
    }
   ],
   "source": [
    "# as values are also changed into original array, to avoid this we can use concept of copy function\n",
    "arr"
   ]
  },
  {
   "cell_type": "code",
   "execution_count": 100,
   "id": "8d5ce41b",
   "metadata": {},
   "outputs": [
    {
     "data": {
      "text/plain": [
       "array([10, 10, 10, 10, 10, 10,  6,  7,  8,  9, 10])"
      ]
     },
     "execution_count": 100,
     "metadata": {},
     "output_type": "execute_result"
    }
   ],
   "source": [
    "slice_of_arr1 = arr.copy()\n",
    "slice_of_arr1[:6]=10\n",
    "slice_of_arr1"
   ]
  },
  {
   "cell_type": "code",
   "execution_count": 102,
   "id": "b2632621",
   "metadata": {},
   "outputs": [
    {
     "data": {
      "text/plain": [
       "array([ 5,  5,  5,  5,  5,  5,  6,  7,  8,  9, 10])"
      ]
     },
     "execution_count": 102,
     "metadata": {},
     "output_type": "execute_result"
    }
   ],
   "source": [
    "# now the change in original array is not occured\n",
    "arr"
   ]
  },
  {
   "cell_type": "code",
   "execution_count": null,
   "id": "3d8fd58f",
   "metadata": {},
   "outputs": [],
   "source": []
  },
  {
   "cell_type": "markdown",
   "id": "02ea0700",
   "metadata": {},
   "source": [
    "# 7. Indexing 2D Array/Matrix\n",
    "\n",
    "The main idea behind this topic is to help you get comfortable with indexing in more than 1 dimensions. Below is a list of what we will discuss.\n",
    "\n",
    "- Indexing a 2D array – Indexing matrices differs from vectors\n",
    "- Fancy indexing – Selecting entire rows or columns out of order\n",
    "- Selection – Selection based off of comparison operators"
   ]
  },
  {
   "cell_type": "markdown",
   "id": "c7a5bb81",
   "metadata": {},
   "source": [
    "### Indexing a 2D array"
   ]
  },
  {
   "cell_type": "markdown",
   "id": "9e23d318",
   "metadata": {},
   "source": [
    "The general format is `arr_2d[row][col]` or `arr_2d[row,col]`. I will recommend to use comma notation format."
   ]
  },
  {
   "cell_type": "code",
   "execution_count": 105,
   "id": "f294811b",
   "metadata": {},
   "outputs": [
    {
     "data": {
      "text/plain": [
       "array([[34,  5, 55],\n",
       "       [ 3, 44,  6],\n",
       "       [23,  5, 66]])"
      ]
     },
     "execution_count": 105,
     "metadata": {},
     "output_type": "execute_result"
    }
   ],
   "source": [
    "# I have created 2-d array\n",
    "arr_2D = np.array([[34,5,55],\n",
    "                 [3,44,6],\n",
    "                 [23,5,66]])\n",
    "arr_2D"
   ]
  },
  {
   "cell_type": "code",
   "execution_count": 106,
   "id": "d99bd1e2",
   "metadata": {},
   "outputs": [
    {
     "name": "stdout",
     "output_type": "stream",
     "text": [
      "Shape of numpy array :  (3, 3)\n",
      "Dimension of numpy array :  2\n"
     ]
    }
   ],
   "source": [
    "print(\"Shape of numpy array : \",arr_2D.shape)\n",
    "print(\"Dimension of numpy array : \",arr_2D.ndim)"
   ]
  },
  {
   "cell_type": "code",
   "execution_count": 107,
   "id": "53b3406a",
   "metadata": {},
   "outputs": [
    {
     "data": {
      "text/plain": [
       "array([34,  5, 55])"
      ]
     },
     "execution_count": 107,
     "metadata": {},
     "output_type": "execute_result"
    }
   ],
   "source": [
    "# indexing of rows is fairly simple\n",
    "arr_2D[0]"
   ]
  },
  {
   "cell_type": "code",
   "execution_count": 108,
   "id": "86cd43d0",
   "metadata": {},
   "outputs": [
    {
     "data": {
      "text/plain": [
       "34"
      ]
     },
     "execution_count": 108,
     "metadata": {},
     "output_type": "execute_result"
    }
   ],
   "source": [
    "# To get first value of arr_2d[0], we can do this\n",
    "arr_2D[0][0]"
   ]
  },
  {
   "cell_type": "code",
   "execution_count": 110,
   "id": "250b3b8b",
   "metadata": {},
   "outputs": [
    {
     "data": {
      "text/plain": [
       "34"
      ]
     },
     "execution_count": 110,
     "metadata": {},
     "output_type": "execute_result"
    }
   ],
   "source": [
    "arr_2D[0,0]"
   ]
  },
  {
   "cell_type": "code",
   "execution_count": 111,
   "id": "3ef31402",
   "metadata": {},
   "outputs": [
    {
     "data": {
      "text/plain": [
       "array([ 5, 44,  5])"
      ]
     },
     "execution_count": 111,
     "metadata": {},
     "output_type": "execute_result"
    }
   ],
   "source": [
    "# select the 2nd column with all the its values\n",
    "arr_2D[:,1]"
   ]
  },
  {
   "cell_type": "code",
   "execution_count": 117,
   "id": "125dcfa4",
   "metadata": {},
   "outputs": [
    {
     "data": {
      "text/plain": [
       "array([[34,  5],\n",
       "       [ 3, 44],\n",
       "       [23,  5]])"
      ]
     },
     "execution_count": 117,
     "metadata": {},
     "output_type": "execute_result"
    }
   ],
   "source": [
    "# It is possible to exclude the last column\n",
    "arr_2D[:,:-1]"
   ]
  },
  {
   "cell_type": "code",
   "execution_count": 118,
   "id": "81ace167",
   "metadata": {},
   "outputs": [
    {
     "data": {
      "text/plain": [
       "array([[ 5, 55],\n",
       "       [44,  6]])"
      ]
     },
     "execution_count": 118,
     "metadata": {},
     "output_type": "execute_result"
    }
   ],
   "source": [
    "# another example\n",
    "arr_2D[:2,1:]"
   ]
  },
  {
   "cell_type": "markdown",
   "id": "a40fb470",
   "metadata": {},
   "source": [
    "### Fancy Indexing\n",
    "Fancy indexing allows you to select entire rows or columns out of order. To show this, let’s quickly build out a numpy array of zeros"
   ]
  },
  {
   "cell_type": "code",
   "execution_count": 126,
   "id": "579b3f90",
   "metadata": {},
   "outputs": [
    {
     "data": {
      "text/plain": [
       "array([[0, 0, 0, 0, 0],\n",
       "       [0, 0, 0, 0, 0],\n",
       "       [0, 0, 0, 0, 0],\n",
       "       [0, 0, 0, 0, 0]])"
      ]
     },
     "execution_count": 126,
     "metadata": {},
     "output_type": "execute_result"
    }
   ],
   "source": [
    "arr_zeros = np.zeros((4,5), dtype=int)\n",
    "arr_zeros"
   ]
  },
  {
   "cell_type": "code",
   "execution_count": 127,
   "id": "8b7753dd",
   "metadata": {},
   "outputs": [
    {
     "data": {
      "text/plain": [
       "4"
      ]
     },
     "execution_count": 127,
     "metadata": {},
     "output_type": "execute_result"
    }
   ],
   "source": [
    "arr_zeros.shape\n",
    "# 4 rows and 5 columns \n",
    "arrRows =arr_zeros.shape[0]\n",
    "arrRows"
   ]
  },
  {
   "cell_type": "code",
   "execution_count": 128,
   "id": "3b3f872a",
   "metadata": {},
   "outputs": [
    {
     "data": {
      "text/plain": [
       "array([[0, 0, 0, 0, 0],\n",
       "       [1, 1, 1, 1, 1],\n",
       "       [2, 2, 2, 2, 2],\n",
       "       [3, 3, 3, 3, 3]])"
      ]
     },
     "execution_count": 128,
     "metadata": {},
     "output_type": "execute_result"
    }
   ],
   "source": [
    "for i in range(arrRows):\n",
    "    arr_zeros[i] = i\n",
    "arr_zeros\n",
    "\n",
    "# we changed the values of each rows corresponding to its index value"
   ]
  },
  {
   "cell_type": "code",
   "execution_count": 130,
   "id": "9e00c17a",
   "metadata": {},
   "outputs": [
    {
     "data": {
      "text/plain": [
       "array([[1, 1, 1, 1, 1],\n",
       "       [2, 2, 2, 2, 2]])"
      ]
     },
     "execution_count": 130,
     "metadata": {},
     "output_type": "execute_result"
    }
   ],
   "source": [
    "arr_zeros[[1,2]]"
   ]
  },
  {
   "cell_type": "markdown",
   "id": "24526c06",
   "metadata": {},
   "source": [
    "### Selection\n",
    "Selection defines how to use brackets for selection based off of comparison operators. As a result, it returns us `1-d array` of selected elements."
   ]
  },
  {
   "cell_type": "code",
   "execution_count": 131,
   "id": "5ca3195b",
   "metadata": {},
   "outputs": [
    {
     "data": {
      "text/plain": [
       "array([ 1,  2,  3,  4,  5,  6,  7,  8,  9, 10])"
      ]
     },
     "execution_count": 131,
     "metadata": {},
     "output_type": "execute_result"
    }
   ],
   "source": [
    "arr_Selection = np.arange(1,11)\n",
    "arr_Selection"
   ]
  },
  {
   "cell_type": "code",
   "execution_count": 132,
   "id": "1d959e23",
   "metadata": {},
   "outputs": [
    {
     "data": {
      "text/plain": [
       "array([False, False, False, False,  True,  True,  True,  True,  True,\n",
       "        True])"
      ]
     },
     "execution_count": 132,
     "metadata": {},
     "output_type": "execute_result"
    }
   ],
   "source": [
    "# select all the elements of the array greater than 4\n",
    "arr_Selection>4"
   ]
  },
  {
   "cell_type": "code",
   "execution_count": 133,
   "id": "09b7d3fd",
   "metadata": {},
   "outputs": [
    {
     "data": {
      "text/plain": [
       "array([ 5,  6,  7,  8,  9, 10])"
      ]
     },
     "execution_count": 133,
     "metadata": {},
     "output_type": "execute_result"
    }
   ],
   "source": [
    "# To get the actual values , we need to put this into following manner\n",
    "arr_Selection[arr_Selection>4]"
   ]
  },
  {
   "cell_type": "markdown",
   "id": "55f483a0",
   "metadata": {},
   "source": [
    "**We can also from selection on 2-D array.**"
   ]
  },
  {
   "cell_type": "code",
   "execution_count": 136,
   "id": "0d67b318",
   "metadata": {},
   "outputs": [
    {
     "data": {
      "text/plain": [
       "array([[34,  5, 55],\n",
       "       [ 3, 44,  6],\n",
       "       [23,  5, 66]])"
      ]
     },
     "execution_count": 136,
     "metadata": {},
     "output_type": "execute_result"
    }
   ],
   "source": [
    "arr_2D"
   ]
  },
  {
   "cell_type": "code",
   "execution_count": 137,
   "id": "64b8ac41",
   "metadata": {},
   "outputs": [
    {
     "data": {
      "text/plain": [
       "array([34, 55, 44, 23, 66])"
      ]
     },
     "execution_count": 137,
     "metadata": {},
     "output_type": "execute_result"
    }
   ],
   "source": [
    "# elements whose values are greater than 7\n",
    "arr_2D[arr_2D>10]"
   ]
  },
  {
   "cell_type": "code",
   "execution_count": null,
   "id": "1855a6b6",
   "metadata": {},
   "outputs": [],
   "source": []
  },
  {
   "cell_type": "code",
   "execution_count": null,
   "id": "e2ba843e",
   "metadata": {},
   "outputs": [],
   "source": []
  },
  {
   "cell_type": "markdown",
   "id": "c4bec7b8",
   "metadata": {},
   "source": [
    "# 8. Numpy Operations\n",
    "We can perform different types of operations on NumPy arrays. What this means is we can sum, subtract, multiply or divide the values inside our array, even do things like taking the square root. Below is a list of what we will discuss in this lecture.\n",
    "- Arithmetic Operations – sum, subtract, multiply, divide on arrays\n",
    "- Universal Array Functions – Mathematical operations provided by NumPy"
   ]
  },
  {
   "cell_type": "markdown",
   "id": "aa02429a",
   "metadata": {},
   "source": [
    "### Arithmetic\n",
    "While performing arithmetic operations between two arrays it is important that they have the same dimensions. "
   ]
  },
  {
   "cell_type": "code",
   "execution_count": 138,
   "id": "e21deadb",
   "metadata": {},
   "outputs": [
    {
     "data": {
      "text/plain": [
       "array([ 0,  1,  2,  3,  4,  5,  6,  7,  8,  9, 10])"
      ]
     },
     "execution_count": 138,
     "metadata": {},
     "output_type": "execute_result"
    }
   ],
   "source": [
    "# create 1-d array\n",
    "ArrOperations = np.arange(11)\n",
    "ArrOperations"
   ]
  },
  {
   "cell_type": "code",
   "execution_count": 139,
   "id": "3d145ec1",
   "metadata": {},
   "outputs": [
    {
     "data": {
      "text/plain": [
       "array([ 0,  2,  4,  6,  8, 10, 12, 14, 16, 18, 20])"
      ]
     },
     "execution_count": 139,
     "metadata": {},
     "output_type": "execute_result"
    }
   ],
   "source": [
    "# addition/sum of two arrays\n",
    "ArrOperations+ArrOperations"
   ]
  },
  {
   "cell_type": "code",
   "execution_count": 140,
   "id": "726341d0",
   "metadata": {},
   "outputs": [
    {
     "data": {
      "text/plain": [
       "array([0, 0, 0, 0, 0, 0, 0, 0, 0, 0, 0])"
      ]
     },
     "execution_count": 140,
     "metadata": {},
     "output_type": "execute_result"
    }
   ],
   "source": [
    "# subtraction of two arrays\n",
    "ArrOperations-ArrOperations"
   ]
  },
  {
   "cell_type": "code",
   "execution_count": 141,
   "id": "b9e31529",
   "metadata": {},
   "outputs": [
    {
     "data": {
      "text/plain": [
       "array([  0,   1,   4,   9,  16,  25,  36,  49,  64,  81, 100])"
      ]
     },
     "execution_count": 141,
     "metadata": {},
     "output_type": "execute_result"
    }
   ],
   "source": [
    "# multilication of two arrays\n",
    "ArrOperations*ArrOperations"
   ]
  },
  {
   "cell_type": "code",
   "execution_count": 142,
   "id": "bb062bde",
   "metadata": {},
   "outputs": [
    {
     "name": "stderr",
     "output_type": "stream",
     "text": [
      "/tmp/ipykernel_3856/2324457737.py:2: RuntimeWarning: invalid value encountered in true_divide\n",
      "  ArrOperations/ArrOperations\n"
     ]
    },
    {
     "data": {
      "text/plain": [
       "array([nan,  1.,  1.,  1.,  1.,  1.,  1.,  1.,  1.,  1.,  1.])"
      ]
     },
     "execution_count": 142,
     "metadata": {},
     "output_type": "execute_result"
    }
   ],
   "source": [
    "# division of two arrays\n",
    "ArrOperations/ArrOperations"
   ]
  },
  {
   "cell_type": "markdown",
   "id": "3063ba52",
   "metadata": {},
   "source": [
    "**Note: Warning indicates that divison with zero was encountered and all the valued divided with zero will be None.**"
   ]
  },
  {
   "cell_type": "code",
   "execution_count": 143,
   "id": "71103d8f",
   "metadata": {},
   "outputs": [
    {
     "data": {
      "text/plain": [
       "array([   0,    1,    8,   27,   64,  125,  216,  343,  512,  729, 1000])"
      ]
     },
     "execution_count": 143,
     "metadata": {},
     "output_type": "execute_result"
    }
   ],
   "source": [
    "# Cube of array\n",
    "ArrOperations**3"
   ]
  },
  {
   "cell_type": "code",
   "execution_count": 145,
   "id": "3e51cf79",
   "metadata": {},
   "outputs": [
    {
     "data": {
      "text/plain": [
       "array([ 0,  3,  6,  9, 12, 15, 18, 21, 24, 27, 30])"
      ]
     },
     "execution_count": 145,
     "metadata": {},
     "output_type": "execute_result"
    }
   ],
   "source": [
    "# multiply array with 3\n",
    "ArrOperations*3"
   ]
  },
  {
   "cell_type": "code",
   "execution_count": 146,
   "id": "8949b501",
   "metadata": {},
   "outputs": [
    {
     "name": "stderr",
     "output_type": "stream",
     "text": [
      "/tmp/ipykernel_3856/3505209312.py:1: RuntimeWarning: divide by zero encountered in true_divide\n",
      "  1/ArrOperations\n"
     ]
    },
    {
     "data": {
      "text/plain": [
       "array([       inf, 1.        , 0.5       , 0.33333333, 0.25      ,\n",
       "       0.2       , 0.16666667, 0.14285714, 0.125     , 0.11111111,\n",
       "       0.1       ])"
      ]
     },
     "execution_count": 146,
     "metadata": {},
     "output_type": "execute_result"
    }
   ],
   "source": [
    "1/ArrOperations"
   ]
  },
  {
   "cell_type": "code",
   "execution_count": 147,
   "id": "032c3b7d",
   "metadata": {},
   "outputs": [
    {
     "data": {
      "text/plain": [
       "array([[34,  5, 55],\n",
       "       [ 3, 44,  6],\n",
       "       [23,  5, 66]])"
      ]
     },
     "execution_count": 147,
     "metadata": {},
     "output_type": "execute_result"
    }
   ],
   "source": [
    "# arithmetic operations on 2-D array\n",
    "arr_2D"
   ]
  },
  {
   "cell_type": "code",
   "execution_count": 148,
   "id": "7a836e61",
   "metadata": {},
   "outputs": [
    {
     "data": {
      "text/plain": [
       "array([[ 68,  10, 110],\n",
       "       [  6,  88,  12],\n",
       "       [ 46,  10, 132]])"
      ]
     },
     "execution_count": 148,
     "metadata": {},
     "output_type": "execute_result"
    }
   ],
   "source": [
    "# addition \n",
    "arr_2D+arr_2D"
   ]
  },
  {
   "cell_type": "code",
   "execution_count": 149,
   "id": "26b584ab",
   "metadata": {},
   "outputs": [
    {
     "data": {
      "text/plain": [
       "array([[0, 0, 0],\n",
       "       [0, 0, 0],\n",
       "       [0, 0, 0]])"
      ]
     },
     "execution_count": 149,
     "metadata": {},
     "output_type": "execute_result"
    }
   ],
   "source": [
    "# subtraction\n",
    "arr_2D-arr_2D"
   ]
  },
  {
   "cell_type": "code",
   "execution_count": 150,
   "id": "a097e16a",
   "metadata": {},
   "outputs": [
    {
     "data": {
      "text/plain": [
       "array([[1156,   25, 3025],\n",
       "       [   9, 1936,   36],\n",
       "       [ 529,   25, 4356]])"
      ]
     },
     "execution_count": 150,
     "metadata": {},
     "output_type": "execute_result"
    }
   ],
   "source": [
    "# multiplication\n",
    "arr_2D*arr_2D"
   ]
  },
  {
   "cell_type": "code",
   "execution_count": 151,
   "id": "c9e36ea3",
   "metadata": {},
   "outputs": [
    {
     "data": {
      "text/plain": [
       "array([[1., 1., 1.],\n",
       "       [1., 1., 1.],\n",
       "       [1., 1., 1.]])"
      ]
     },
     "execution_count": 151,
     "metadata": {},
     "output_type": "execute_result"
    }
   ],
   "source": [
    "# division\n",
    "arr_2D/arr_2D"
   ]
  },
  {
   "cell_type": "markdown",
   "id": "7a1113bc",
   "metadata": {},
   "source": [
    "### Universal Array Functions\n",
    "\n",
    "Numpy comes with many universal array functions, which are essentially just mathematical operations you can use to perform the operation across the array. Let’s show some common ones."
   ]
  },
  {
   "cell_type": "code",
   "execution_count": 153,
   "id": "9a178ee5",
   "metadata": {},
   "outputs": [
    {
     "data": {
      "text/plain": [
       "array([0.        , 1.        , 1.41421356, 1.73205081, 2.        ,\n",
       "       2.23606798, 2.44948974, 2.64575131, 2.82842712, 3.        ,\n",
       "       3.16227766])"
      ]
     },
     "execution_count": 153,
     "metadata": {},
     "output_type": "execute_result"
    }
   ],
   "source": [
    "# square root of 1-D array\n",
    "np.sqrt(ArrOperations)"
   ]
  },
  {
   "cell_type": "code",
   "execution_count": 154,
   "id": "edbf42bd",
   "metadata": {},
   "outputs": [
    {
     "data": {
      "text/plain": [
       "array([[5.83095189, 2.23606798, 7.41619849],\n",
       "       [1.73205081, 6.63324958, 2.44948974],\n",
       "       [4.79583152, 2.23606798, 8.1240384 ]])"
      ]
     },
     "execution_count": 154,
     "metadata": {},
     "output_type": "execute_result"
    }
   ],
   "source": [
    "# square root of 2-D array\n",
    "np.sqrt(arr_2D)"
   ]
  },
  {
   "cell_type": "code",
   "execution_count": 155,
   "id": "572f8515",
   "metadata": {},
   "outputs": [
    {
     "data": {
      "text/plain": [
       "array([1.00000000e+00, 2.71828183e+00, 7.38905610e+00, 2.00855369e+01,\n",
       "       5.45981500e+01, 1.48413159e+02, 4.03428793e+02, 1.09663316e+03,\n",
       "       2.98095799e+03, 8.10308393e+03, 2.20264658e+04])"
      ]
     },
     "execution_count": 155,
     "metadata": {},
     "output_type": "execute_result"
    }
   ],
   "source": [
    "# Exponential of 1-D array\n",
    "np.exp(ArrOperations)"
   ]
  },
  {
   "cell_type": "code",
   "execution_count": 157,
   "id": "6c889c14",
   "metadata": {},
   "outputs": [
    {
     "data": {
      "text/plain": [
       "array([[5.83461743e+14, 1.48413159e+02, 7.69478527e+23],\n",
       "       [2.00855369e+01, 1.28516001e+19, 4.03428793e+02],\n",
       "       [9.74480345e+09, 1.48413159e+02, 4.60718663e+28]])"
      ]
     },
     "execution_count": 157,
     "metadata": {},
     "output_type": "execute_result"
    }
   ],
   "source": [
    "# Exponential of 2-D array\n",
    "np.exp(arr_2D)"
   ]
  },
  {
   "cell_type": "code",
   "execution_count": 162,
   "id": "50998cd3",
   "metadata": {},
   "outputs": [
    {
     "name": "stdout",
     "output_type": "stream",
     "text": [
      "Max value of 1-D array is :  10\n",
      "Max value of 2-D array is: 66\n"
     ]
    }
   ],
   "source": [
    "# max and min value of array\n",
    "print(\"Max value of 1-D array is : \", np.max(ArrOperations))\n",
    "print(\"Max value of 2-D array is:\", np.max(arr_2D))"
   ]
  },
  {
   "cell_type": "code",
   "execution_count": 163,
   "id": "18826349",
   "metadata": {},
   "outputs": [
    {
     "name": "stdout",
     "output_type": "stream",
     "text": [
      "Min value of 1-D array is :  0\n",
      "Min value of 2-D array is :  3\n"
     ]
    }
   ],
   "source": [
    "# max and min value of array\n",
    "print(\"Min value of 1-D array is : \", np.min(ArrOperations))\n",
    "print(\"Min value of 2-D array is : \", np.min(arr_2D))"
   ]
  },
  {
   "cell_type": "code",
   "execution_count": 165,
   "id": "2ec93e47",
   "metadata": {},
   "outputs": [
    {
     "name": "stdout",
     "output_type": "stream",
     "text": [
      "Log of 1-D array is :  [      -inf 0.         0.69314718 1.09861229 1.38629436 1.60943791\n",
      " 1.79175947 1.94591015 2.07944154 2.19722458 2.30258509]\n",
      "\n",
      "\n",
      "\n",
      "Log of 2-D array is :  [[3.52636052 1.60943791 4.00733319]\n",
      " [1.09861229 3.78418963 1.79175947]\n",
      " [3.13549422 1.60943791 4.18965474]]\n"
     ]
    },
    {
     "name": "stderr",
     "output_type": "stream",
     "text": [
      "/tmp/ipykernel_3856/370656916.py:2: RuntimeWarning: divide by zero encountered in log\n",
      "  print(\"Log of 1-D array is : \", np.log(ArrOperations))\n"
     ]
    }
   ],
   "source": [
    "# log of array\n",
    "print(\"Log of 1-D array is : \", np.log(ArrOperations))\n",
    "print(\"\\n\\n\")\n",
    "print(\"Log of 2-D array is : \", np.log(arr_2D))"
   ]
  },
  {
   "cell_type": "markdown",
   "id": "55e3ffdf",
   "metadata": {},
   "source": [
    "**Note : When dealing with messy data you will often need to stick multiple arrays together.**"
   ]
  },
  {
   "cell_type": "code",
   "execution_count": null,
   "id": "8a309cbf",
   "metadata": {},
   "outputs": [],
   "source": []
  },
  {
   "cell_type": "code",
   "execution_count": null,
   "id": "bdb33b4c",
   "metadata": {},
   "outputs": [],
   "source": []
  },
  {
   "cell_type": "markdown",
   "id": "e0ab4e69",
   "metadata": {},
   "source": [
    "# 9. Append, Concatenate and Stack\n",
    "\n",
    "- np.append() – append one array to another\n",
    "- np.concatenate() – Concatenate two arrays\n",
    "- np.stack() – Stack one array to another horizontally or vertically"
   ]
  },
  {
   "cell_type": "markdown",
   "id": "adcc9568",
   "metadata": {},
   "source": [
    "### numpy.append()\n",
    "\n",
    "- The numpy.append() function is used to add or append new values to an existing numpy array. \n",
    "- This function adds the new values at the end of the array.\n",
    "- The numpy append() function is used to merge two arrays. \n",
    "- It returns a new array, and the original array remains unchanged."
   ]
  },
  {
   "cell_type": "markdown",
   "id": "c0580a22",
   "metadata": {},
   "source": [
    "### Syntax: \n",
    "**numpy.append(arr, values, axis=None)**\n",
    "- arr: array_like (This is a ndarray. The new values are appended to a copy of this array. This parameter is required and plays an important role in numpy.append() function.)\n",
    "- values: array_like (This parameter defines the values which are appended to a copy of a ndarray. One thing is to be noticed here that these values must be of the correct shape as the original ndarray, excluding the axis. If the axis is not defined, then the values can be in any shape and will flatten before use.)\n",
    "- axis: int(optional) (This parameter defines the axis along which values are appended. When the axis is not given to them, both ndarray and values are flattened before use.)"
   ]
  },
  {
   "cell_type": "code",
   "execution_count": 170,
   "id": "af88a34e",
   "metadata": {},
   "outputs": [
    {
     "name": "stdout",
     "output_type": "stream",
     "text": [
      "Array a is : \n",
      "[[10 20 30]\n",
      " [40 50 60]\n",
      " [70 80 90]]\n",
      "\n",
      "\n",
      "\n",
      "Array b is : \n",
      "[[11 21 31]\n",
      " [42 52 62]\n",
      " [73 83 93]]\n",
      "\n",
      "\n",
      "\n",
      "New array c is : \n",
      "[10 20 30 40 50 60 70 80 90 11 21 31 42 52 62 73 83 93]\n"
     ]
    }
   ],
   "source": [
    "a = np.array([[10, 20, 30], [40, 50, 60], [70, 80, 90]])  \n",
    "b = np.array([[11, 21, 31], [42, 52, 62], [73, 83, 93]])  \n",
    "c = np.append(arr = a,values = b)  \n",
    "print(\"Array a is : \", a, sep=\"\\n\")\n",
    "print(\"\\n\\n\")\n",
    "print(\"Array b is : \", b, sep=\"\\n\")\n",
    "print(\"\\n\\n\")\n",
    "print(\"New array c is : \", c, sep=\"\\n\")"
   ]
  },
  {
   "cell_type": "markdown",
   "id": "b2a9d108",
   "metadata": {},
   "source": [
    "In the output, values of both arrays, i.e., `a` and `b`, have been shown in the flattened form, and the original array remained same because `axis=None`."
   ]
  },
  {
   "cell_type": "code",
   "execution_count": 171,
   "id": "9503f83a",
   "metadata": {},
   "outputs": [
    {
     "name": "stdout",
     "output_type": "stream",
     "text": [
      "Array a is : \n",
      "[[10 20 30]\n",
      " [40 50 60]\n",
      " [70 80 90]]\n",
      "\n",
      "\n",
      "\n",
      "Array b is : \n",
      "[[11 21 31]\n",
      " [42 52 62]\n",
      " [73 83 93]]\n",
      "\n",
      "\n",
      "\n",
      "New array c is : \n",
      "[[10 20 30]\n",
      " [40 50 60]\n",
      " [70 80 90]\n",
      " [11 21 31]\n",
      " [42 52 62]\n",
      " [73 83 93]]\n"
     ]
    }
   ],
   "source": [
    "# appending according rows \n",
    "a = np.array([[10, 20, 30], [40, 50, 60], [70, 80, 90]])  \n",
    "b = np.array([[11, 21, 31], [42, 52, 62], [73, 83, 93]])  \n",
    "c = np.append(arr= a,values = b, axis=0)  \n",
    "print(\"Array a is : \", a, sep=\"\\n\")\n",
    "print(\"\\n\\n\")\n",
    "print(\"Array b is : \", b, sep=\"\\n\")\n",
    "print(\"\\n\\n\")\n",
    "print(\"New array c is : \", c, sep=\"\\n\")"
   ]
  },
  {
   "cell_type": "code",
   "execution_count": 172,
   "id": "4b13bcc2",
   "metadata": {},
   "outputs": [
    {
     "name": "stdout",
     "output_type": "stream",
     "text": [
      "Array a is : \n",
      "[[10 20 30]\n",
      " [40 50 60]\n",
      " [70 80 90]]\n",
      "\n",
      "\n",
      "\n",
      "Array b is : \n",
      "[[11 21 31]\n",
      " [42 52 62]\n",
      " [73 83 93]]\n",
      "\n",
      "\n",
      "\n",
      "New array c is : \n",
      "[[10 20 30 11 21 31]\n",
      " [40 50 60 42 52 62]\n",
      " [70 80 90 73 83 93]]\n"
     ]
    }
   ],
   "source": [
    "# appending according columns\n",
    "a = np.array([[10, 20, 30], [40, 50, 60], [70, 80, 90]])  \n",
    "b = np.array([[11, 21, 31], [42, 52, 62], [73, 83, 93]])  \n",
    "c = np.append(arr= a,values = b, axis=1)  \n",
    "print(\"Array a is : \", a, sep=\"\\n\")\n",
    "print(\"\\n\\n\")\n",
    "print(\"Array b is : \", b, sep=\"\\n\")\n",
    "print(\"\\n\\n\")\n",
    "print(\"New array c is : \", c, sep=\"\\n\")"
   ]
  },
  {
   "cell_type": "code",
   "execution_count": null,
   "id": "02bea623",
   "metadata": {},
   "outputs": [],
   "source": []
  },
  {
   "cell_type": "markdown",
   "id": "96e39209",
   "metadata": {},
   "source": [
    "### Numpy.concatenate()\n",
    "**This function is basically used for joining two or more arrays of the same shape along a specified axis.**     \n",
    "There are the following things which are essential to keep in mind:\n",
    "- Concatenate works similarly to append, but instead of ‘arr’ and ‘values’ as parameters it takes a tuple of two arrays. \n",
    "- NumPy's concatenate() is not like a traditional database join. It is like stacking NumPy arrays.\n",
    "- This function can operate both vertically and horizontally. This means we can concatenate arrays together horizontally or vertically.\n",
    "<img src=\"numpy-concatenate.png\">\n",
    "\n",
    "**Syntax: numpy.concatenate((a1, a2, ...), axis)**"
   ]
  },
  {
   "cell_type": "code",
   "execution_count": 173,
   "id": "f654c18b",
   "metadata": {},
   "outputs": [
    {
     "data": {
      "text/plain": [
       "array([[ 1,  2],\n",
       "       [ 3,  4],\n",
       "       [12, 30]])"
      ]
     },
     "execution_count": 173,
     "metadata": {},
     "output_type": "execute_result"
    }
   ],
   "source": [
    "# concatenate numpy arrays without passing parameter axis\n",
    "x = np.array([[1,2],[3,4]])  \n",
    "y = np.array([[12,30]])  \n",
    "z = np.concatenate((x,y))  \n",
    "z  "
   ]
  },
  {
   "cell_type": "code",
   "execution_count": 174,
   "id": "89a1c962",
   "metadata": {},
   "outputs": [
    {
     "data": {
      "text/plain": [
       "array([[ 1,  2],\n",
       "       [ 3,  4],\n",
       "       [12, 30]])"
      ]
     },
     "execution_count": 174,
     "metadata": {},
     "output_type": "execute_result"
    }
   ],
   "source": [
    "# concatenate numpy arrays passing parameter axis=0\n",
    "x = np.array([[1,2],[3,4]])  \n",
    "y = np.array([[12,30]])  \n",
    "z = np.concatenate((x,y), axis=0)  \n",
    "z  "
   ]
  },
  {
   "cell_type": "code",
   "execution_count": 175,
   "id": "0878598f",
   "metadata": {},
   "outputs": [
    {
     "ename": "ValueError",
     "evalue": "all the input array dimensions for the concatenation axis must match exactly, but along dimension 0, the array at index 0 has size 2 and the array at index 1 has size 1",
     "output_type": "error",
     "traceback": [
      "\u001b[0;31m---------------------------------------------------------------------------\u001b[0m",
      "\u001b[0;31mValueError\u001b[0m                                Traceback (most recent call last)",
      "Input \u001b[0;32mIn [175]\u001b[0m, in \u001b[0;36m<cell line: 4>\u001b[0;34m()\u001b[0m\n\u001b[1;32m      2\u001b[0m x \u001b[38;5;241m=\u001b[39m np\u001b[38;5;241m.\u001b[39marray([[\u001b[38;5;241m1\u001b[39m,\u001b[38;5;241m2\u001b[39m],[\u001b[38;5;241m3\u001b[39m,\u001b[38;5;241m4\u001b[39m]])  \n\u001b[1;32m      3\u001b[0m y \u001b[38;5;241m=\u001b[39m np\u001b[38;5;241m.\u001b[39marray([[\u001b[38;5;241m12\u001b[39m,\u001b[38;5;241m30\u001b[39m]])  \n\u001b[0;32m----> 4\u001b[0m z \u001b[38;5;241m=\u001b[39m \u001b[43mnp\u001b[49m\u001b[38;5;241;43m.\u001b[39;49m\u001b[43mconcatenate\u001b[49m\u001b[43m(\u001b[49m\u001b[43m(\u001b[49m\u001b[43mx\u001b[49m\u001b[43m,\u001b[49m\u001b[43my\u001b[49m\u001b[43m)\u001b[49m\u001b[43m,\u001b[49m\u001b[43m \u001b[49m\u001b[43maxis\u001b[49m\u001b[38;5;241;43m=\u001b[39;49m\u001b[38;5;241;43m1\u001b[39;49m\u001b[43m)\u001b[49m  \n\u001b[1;32m      5\u001b[0m z\n",
      "File \u001b[0;32m<__array_function__ internals>:180\u001b[0m, in \u001b[0;36mconcatenate\u001b[0;34m(*args, **kwargs)\u001b[0m\n",
      "\u001b[0;31mValueError\u001b[0m: all the input array dimensions for the concatenation axis must match exactly, but along dimension 0, the array at index 0 has size 2 and the array at index 1 has size 1"
     ]
    }
   ],
   "source": [
    "# concatenate numpy arrays passing parameter axis=1\n",
    "x = np.array([[1,2],[3,4]])  \n",
    "y = np.array([[12,30]])  \n",
    "z = np.concatenate((x,y), axis=1)  \n",
    "z  "
   ]
  },
  {
   "cell_type": "code",
   "execution_count": 176,
   "id": "86fe4979",
   "metadata": {},
   "outputs": [
    {
     "data": {
      "text/plain": [
       "array([[ 1,  2, 12],\n",
       "       [ 3,  4, 30]])"
      ]
     },
     "execution_count": 176,
     "metadata": {},
     "output_type": "execute_result"
    }
   ],
   "source": [
    "# concatenate numpy arrays passing parameter axis=1\n",
    "x = np.array([[1,2],[3,4]])  \n",
    "y = np.array([[12,30]])  \n",
    "z = np.concatenate((x,y.T), axis=1)  \n",
    "z  "
   ]
  },
  {
   "cell_type": "code",
   "execution_count": 177,
   "id": "bcf460dc",
   "metadata": {},
   "outputs": [
    {
     "data": {
      "text/plain": [
       "array([ 1,  2,  3,  4, 12, 30])"
      ]
     },
     "execution_count": 177,
     "metadata": {},
     "output_type": "execute_result"
    }
   ],
   "source": [
    "# concatenate numpy arrays passing parameter axis=None\n",
    "x = np.array([[1,2],[3,4]])  \n",
    "y = np.array([[12,30]])  \n",
    "z = np.concatenate((x,y.T), axis=None)  \n",
    "z  "
   ]
  },
  {
   "cell_type": "code",
   "execution_count": null,
   "id": "6999e14b",
   "metadata": {},
   "outputs": [],
   "source": []
  },
  {
   "cell_type": "markdown",
   "id": "08a8f0b5",
   "metadata": {},
   "source": [
    "### Stack\n",
    "<img src=\"StackDS.jpg\" width=\"500px\" height=\"500px\">"
   ]
  },
  {
   "cell_type": "markdown",
   "id": "ac1de3ea",
   "metadata": {},
   "source": [
    "There are two ways of stacking arrays together, horizontally and vertically.\n",
    "<img src=\"stack.png\" height=\"600px\" width=\"600px\">"
   ]
  },
  {
   "cell_type": "code",
   "execution_count": 183,
   "id": "fff4518c",
   "metadata": {},
   "outputs": [
    {
     "name": "stdout",
     "output_type": "stream",
     "text": [
      "Numpy a is : \n",
      "[[ 1  2  3  4]\n",
      " [ 5  6  7  8]\n",
      " [ 9 10 11 12]]\n",
      "Numpy b is : \n",
      "[[1 2 3 4]\n",
      " [5 6 7 8]]\n",
      "Numpy c is : \n",
      "[[1 2]\n",
      " [3 4]\n",
      " [5 6]]\n"
     ]
    }
   ],
   "source": [
    "a = np.array([[1,2,3,4],\n",
    "             [5,6,7,8],\n",
    "             [9,10,11,12]])\n",
    "print(\"Numpy a is : \", a, sep=\"\\n\")\n",
    "\n",
    "b = np.array([[1,2,3,4],\n",
    "             [5,6,7,8]])\n",
    "print(\"Numpy b is : \", b, sep=\"\\n\")\n",
    "\n",
    "c = np.array([[1,2],\n",
    "             [3,4],\n",
    "             [5,6]])\n",
    "print(\"Numpy c is : \", c, sep=\"\\n\")"
   ]
  },
  {
   "cell_type": "code",
   "execution_count": 182,
   "id": "2a3e33a4",
   "metadata": {},
   "outputs": [
    {
     "data": {
      "text/plain": [
       "array([[ 1,  2,  3,  4],\n",
       "       [ 5,  6,  7,  8],\n",
       "       [ 9, 10, 11, 12],\n",
       "       [ 1,  2,  3,  4],\n",
       "       [ 5,  6,  7,  8]])"
      ]
     },
     "execution_count": 182,
     "metadata": {},
     "output_type": "execute_result"
    }
   ],
   "source": [
    "# example of vertical stack\n",
    "verticalStack = np.vstack((a,b))\n",
    "verticalStack"
   ]
  },
  {
   "cell_type": "code",
   "execution_count": 184,
   "id": "ef96c897",
   "metadata": {},
   "outputs": [
    {
     "data": {
      "text/plain": [
       "array([[ 1,  2,  3,  4,  1,  2],\n",
       "       [ 5,  6,  7,  8,  3,  4],\n",
       "       [ 9, 10, 11, 12,  5,  6]])"
      ]
     },
     "execution_count": 184,
     "metadata": {},
     "output_type": "execute_result"
    }
   ],
   "source": [
    "# example of horizontal stack\n",
    "horizontalStack = np.hstack((a,c))\n",
    "horizontalStack"
   ]
  },
  {
   "cell_type": "code",
   "execution_count": null,
   "id": "8641e8d0",
   "metadata": {},
   "outputs": [],
   "source": []
  },
  {
   "cell_type": "markdown",
   "id": "ddbfebe6",
   "metadata": {},
   "source": [
    "# Check Concepts:\n",
    "- What is NumPy Library?\n",
    "- Why we use Numpy Library or where NumPy is used?\n",
    "- How to create 1D, 2D and 3D Array ?\n",
    "- How to get shape for 1D, 2D and 3D Array ?\n",
    "- How to identified datatyp for numpy array?\n",
    "- Print numpy array of zeros with 2 rows and 3 columns ?\n",
    "- What is difference between np.eye() and np.dial() and also give example to elaborate the difference.?\n",
    "- Print a range between 1 To 15 and show only 4 integers random numbers.\n",
    "- Print a range between random number 2 row and 3 cols integers random numbers.\n",
    "- What Is The Preferred Way To Check For An Empty (zero Element) Array?\n",
    "- How many dimensions can a NumPy array have?\n",
    " > In NumPy, an array can have N-dimensions, and is called a ndarray.\n",
    "        > Ndarray is a multidimensional container which contains elements of the same type and size.\n",
    "        > The number of dimensions in a ndarray is also known as ‘rank’.\n",
    "        > A tuple of integers called ‘shape’ defines the size of the array in each dimension.\n",
    "        > The data type of elements in ndarray is defined by a ‘dtype’ object.\n",
    "- Print the last element from the 2nd dimension array.\n",
    "- Explain the operations that can be performed in NumPy."
   ]
  },
  {
   "cell_type": "code",
   "execution_count": null,
   "id": "bc326113",
   "metadata": {},
   "outputs": [],
   "source": []
  },
  {
   "cell_type": "code",
   "execution_count": null,
   "id": "329cc975",
   "metadata": {},
   "outputs": [],
   "source": []
  },
  {
   "cell_type": "code",
   "execution_count": null,
   "id": "da470109",
   "metadata": {},
   "outputs": [],
   "source": []
  },
  {
   "cell_type": "code",
   "execution_count": null,
   "id": "fed345e5",
   "metadata": {},
   "outputs": [],
   "source": []
  },
  {
   "cell_type": "code",
   "execution_count": null,
   "id": "8c41bd02",
   "metadata": {},
   "outputs": [],
   "source": []
  },
  {
   "cell_type": "code",
   "execution_count": null,
   "id": "38bd2dff",
   "metadata": {},
   "outputs": [],
   "source": []
  },
  {
   "cell_type": "code",
   "execution_count": null,
   "id": "f4c90e81",
   "metadata": {},
   "outputs": [],
   "source": []
  },
  {
   "cell_type": "code",
   "execution_count": null,
   "id": "80b7af4f",
   "metadata": {},
   "outputs": [],
   "source": []
  },
  {
   "cell_type": "code",
   "execution_count": null,
   "id": "b10e1987",
   "metadata": {},
   "outputs": [],
   "source": []
  },
  {
   "cell_type": "code",
   "execution_count": null,
   "id": "73722788",
   "metadata": {},
   "outputs": [],
   "source": []
  },
  {
   "cell_type": "code",
   "execution_count": null,
   "id": "df293d6b",
   "metadata": {},
   "outputs": [],
   "source": []
  },
  {
   "cell_type": "code",
   "execution_count": null,
   "id": "f02724ef",
   "metadata": {},
   "outputs": [],
   "source": []
  },
  {
   "cell_type": "code",
   "execution_count": null,
   "id": "2195e2bf",
   "metadata": {},
   "outputs": [],
   "source": []
  },
  {
   "cell_type": "code",
   "execution_count": null,
   "id": "708f7914",
   "metadata": {},
   "outputs": [],
   "source": []
  },
  {
   "cell_type": "markdown",
   "id": "8e18ecdf",
   "metadata": {},
   "source": [
    "# Practice Exercises"
   ]
  },
  {
   "cell_type": "markdown",
   "id": "381698c4",
   "metadata": {},
   "source": [
    "#### Exercise 1: \n",
    "Create a 4X2 integer array and Prints its attributes.    \n",
    "**Note: The element must be a type of unsigned int16. And print the following Attributes: –**\n",
    "\n",
    "- The shape of an array.\n",
    "- Array dimensions.\n",
    "- The Length of each element of the array in bytes.\n"
   ]
  },
  {
   "cell_type": "code",
   "execution_count": 28,
   "id": "1e33dfc6",
   "metadata": {},
   "outputs": [],
   "source": [
    "# Here write your answer"
   ]
  },
  {
   "cell_type": "code",
   "execution_count": null,
   "id": "9d743c62",
   "metadata": {},
   "outputs": [],
   "source": []
  },
  {
   "cell_type": "markdown",
   "id": "5a45bae4",
   "metadata": {},
   "source": [
    "#### Exercise 2: \n",
    "Create a 5X2 integer array from a range between 100 to 200 such that the difference between each element is 10.    \n",
    "**Hint: Use np.arange() and reshape() function.**"
   ]
  },
  {
   "cell_type": "code",
   "execution_count": 40,
   "id": "3581b260",
   "metadata": {},
   "outputs": [],
   "source": [
    "# Here write your answer"
   ]
  },
  {
   "cell_type": "code",
   "execution_count": null,
   "id": "6be08c4a",
   "metadata": {},
   "outputs": [],
   "source": []
  },
  {
   "cell_type": "markdown",
   "id": "47a0f0c6",
   "metadata": {},
   "source": [
    "#### Exercise 3: \n",
    "Following is the provided numPy array. Return array of items by taking the third column from all rows.    \n",
    "**sampleArray = numpy.array([[11 ,22, 33], [44, 55, 66], [77, 88, 99]])**"
   ]
  },
  {
   "cell_type": "code",
   "execution_count": null,
   "id": "418fb3bb",
   "metadata": {},
   "outputs": [],
   "source": [
    "# Here write your answer"
   ]
  },
  {
   "cell_type": "code",
   "execution_count": null,
   "id": "f19be37c",
   "metadata": {},
   "outputs": [],
   "source": []
  },
  {
   "cell_type": "code",
   "execution_count": null,
   "id": "cdcb28e0",
   "metadata": {},
   "outputs": [],
   "source": []
  },
  {
   "cell_type": "code",
   "execution_count": null,
   "id": "26c18680",
   "metadata": {},
   "outputs": [],
   "source": []
  },
  {
   "cell_type": "code",
   "execution_count": null,
   "id": "fe5891f5",
   "metadata": {},
   "outputs": [],
   "source": []
  },
  {
   "cell_type": "code",
   "execution_count": null,
   "id": "b681a4f6",
   "metadata": {},
   "outputs": [],
   "source": []
  },
  {
   "cell_type": "code",
   "execution_count": null,
   "id": "30ec5449",
   "metadata": {},
   "outputs": [],
   "source": []
  },
  {
   "cell_type": "code",
   "execution_count": null,
   "id": "ac874c4b",
   "metadata": {},
   "outputs": [],
   "source": []
  },
  {
   "cell_type": "markdown",
   "id": "d24c98a3",
   "metadata": {},
   "source": [
    "## BOUNS TASK"
   ]
  },
  {
   "cell_type": "code",
   "execution_count": 25,
   "id": "231eca77",
   "metadata": {},
   "outputs": [
    {
     "data": {
      "text/plain": [
       "<matplotlib.image.AxesImage at 0x7fe63075a550>"
      ]
     },
     "execution_count": 25,
     "metadata": {},
     "output_type": "execute_result"
    },
    {
     "data": {
      "image/png": "[encoded data removed]",
      "text/plain": [
       "<Figure size 288x288 with 1 Axes>"
      ]
     },
     "metadata": {
      "needs_background": "light"
     },
     "output_type": "display_data"
    }
   ],
   "source": [
    "import numpy\n",
    "import matplotlib.pyplot as plt\n",
    "sampleArray = numpy.array([[34,43,73],[82,22,12],[53,94,66]]) \n",
    "plt.matshow(sampleArray)"
   ]
  },
  {
   "cell_type": "code",
   "execution_count": 27,
   "id": "11e25e67",
   "metadata": {},
   "outputs": [
    {
     "name": "stdout",
     "output_type": "stream",
     "text": [
      "Printing Original array\n",
      "[[34 43 73]\n",
      " [82 22 12]\n",
      " [53 94 66]]\n",
      "Array after deleting column 2 on axis 1\n",
      "[[34 73]\n",
      " [82 12]\n",
      " [53 66]]\n",
      "Array after inserting column 2 on axis 1\n",
      "[[34 10 73]\n",
      " [82 10 12]\n",
      " [53 10 66]]\n"
     ]
    },
    {
     "data": {
      "text/plain": [
       "<matplotlib.image.AxesImage at 0x7fe62dd60580>"
      ]
     },
     "execution_count": 27,
     "metadata": {},
     "output_type": "execute_result"
    },
    {
     "data": {
      "image/png": "[encoded data removed]",
      "text/plain": [
       "<Figure size 288x288 with 1 Axes>"
      ]
     },
     "metadata": {
      "needs_background": "light"
     },
     "output_type": "display_data"
    },
    {
     "data": {
      "image/png": "[encoded data removed]",
      "text/plain": [
       "<Figure size 288x288 with 1 Axes>"
      ]
     },
     "metadata": {
      "needs_background": "light"
     },
     "output_type": "display_data"
    }
   ],
   "source": [
    "import numpy\n",
    "\n",
    "print(\"Printing Original array\")\n",
    "sampleArray = numpy.array([[34,43,73],[82,22,12],[53,94,66]]) \n",
    "print (sampleArray)\n",
    "import matplotlib.pyplot as plt\n",
    "plt.matshow(sampleArray)\n",
    "print(\"Array after deleting column 2 on axis 1\")\n",
    "sampleArray = numpy.delete(sampleArray , 1, axis = 1) \n",
    "print (sampleArray)\n",
    "\n",
    "arr = numpy.array([[10,10,10]])\n",
    "\n",
    "print(\"Array after inserting column 2 on axis 1\")\n",
    "sampleArray = numpy.insert(sampleArray , 1, arr, axis = 1) \n",
    "print (sampleArray)\n",
    "plt.matshow(sampleArray)\n"
   ]
  },
  {
   "cell_type": "code",
   "execution_count": null,
   "id": "61ed1b8f",
   "metadata": {},
   "outputs": [],
   "source": []
  },
  {
   "cell_type": "code",
   "execution_count": null,
   "id": "32258e3c",
   "metadata": {},
   "outputs": [],
   "source": []
  },
  {
   "cell_type": "code",
   "execution_count": null,
   "id": "b98be882",
   "metadata": {},
   "outputs": [],
   "source": []
  },
  {
   "cell_type": "code",
   "execution_count": null,
   "id": "669eca27",
   "metadata": {},
   "outputs": [],
   "source": []
  },
  {
   "cell_type": "code",
   "execution_count": null,
   "id": "901c228d",
   "metadata": {},
   "outputs": [],
   "source": []
  },
  {
   "cell_type": "code",
   "execution_count": null,
   "id": "fb383f0f",
   "metadata": {},
   "outputs": [],
   "source": []
  }
 ],
 "metadata": {
  "kernelspec": {
   "display_name": "Python 3 (ipykernel)",
   "language": "python",
   "name": "python3"
  },
  "language_info": {
   "codemirror_mode": {
    "name": "ipython",
    "version": 3
   },
   "file_extension": ".py",
   "mimetype": "text/x-python",
   "name": "python",
   "nbconvert_exporter": "python",
   "pygments_lexer": "ipython3",
   "version": "3.8.10"
  }
 },
 "nbformat": 4,
 "nbformat_minor": 5
}
