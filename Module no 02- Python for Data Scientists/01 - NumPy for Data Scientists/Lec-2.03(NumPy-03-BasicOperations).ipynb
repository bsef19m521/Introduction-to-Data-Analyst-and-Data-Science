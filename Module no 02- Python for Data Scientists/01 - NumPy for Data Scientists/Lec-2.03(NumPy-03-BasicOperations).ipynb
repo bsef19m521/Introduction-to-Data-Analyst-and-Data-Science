{
 "cells": [
  {
   "cell_type": "markdown",
   "id": "5572cc0a",
   "metadata": {},
   "source": [
    "---   \n",
    "\n",
    "<h1 align=\"center\">Introduction to Data Analyst and Data Science for beginners</h1>\n",
    "<h1 align=\"center\">Lecture no 2.3(NumPy-03)</h1>\n",
    "\n",
    "---\n",
    "<h3><div align=\"right\">Ehtisham Sadiq</div></h3>    "
   ]
  },
  {
   "cell_type": "markdown",
   "id": "a5a92293",
   "metadata": {},
   "source": [
    "# _Basic Operations on NumPy Arrays.ipynb_"
   ]
  },
  {
   "cell_type": "markdown",
   "id": "3d4c9b2f",
   "metadata": {},
   "source": [
    "<img align=\"center\" width=\"500\" height=\"500\"  src=\"images/basicopsonnumpy.png\" > "
   ]
  },
  {
   "cell_type": "markdown",
   "id": "3e646522",
   "metadata": {},
   "source": [
    "### Recap:\n",
    "- In last lectures, we saw different methods/ways to create numpy array.\n",
    "- We also saw the difference between numpy array, python List and Python array."
   ]
  },
  {
   "cell_type": "markdown",
   "id": "31c0c335",
   "metadata": {},
   "source": [
    "### Baseline of this Lecture:\n",
    "- We will use diffferent numpy operations without using any loop.\n",
    "- By using these operations , we will be able to explore our mathematical and statistical skills."
   ]
  },
  {
   "cell_type": "markdown",
   "id": "7aeadcc5",
   "metadata": {},
   "source": [
    "# Learning agenda of this notebook\n",
    "- Operations on numPy arrays are done element-wise. This means that you don't explicitly have to write for-loops in order to do these operations!\n",
    "- A universal function, or ufunc, is a function that performs element-wise operations on data in ndarrays. You can think of them as fast vectorized wrappers for simple functions that take one or more scalar values and produce one or more scalar results.\n",
    "\n",
    "\n",
    "<img align=\"left\" width=\"450\" height=\"400\"  src=\"images/ufuncunary.png\" > \n",
    "<img align=\"right\" width=\"485\" height=\"500\"  src=\"images/ufuncbinary.png\" > \n",
    "\n",
    "<br><br><br><br><br><br><br><br><br><br><br><br><br><br><br><br><br><br>\n",
    "\n",
    "1. Scalar Math\n",
    "    - On 1-D Arrays\n",
    "    - On 2-D Arrays\n",
    "2. Arithmetic operations\n",
    "    - On 1-D Arrays\n",
    "    - On 2-D Arrays\n",
    "3. More Mathematical Operations\n",
    "    - On 1-D Arrays\n",
    "    - On 2-D Arrays\n",
    "4. Aggregate Functions\n",
    "    - On 1-D Arrays\n",
    "    - On 2-D Arrays\n",
    "5. Comparing NumPy Arrays\n",
    "    - On 1-D Arrays\n",
    "    - On 2-D Arrays\n",
    "6. Bonus: Searching 1-D and 2-D NumPy Arrays using `numpy.where()`"
   ]
  },
  {
   "cell_type": "code",
   "execution_count": 3,
   "id": "ad592c7e",
   "metadata": {},
   "outputs": [
    {
     "name": "stdout",
     "output_type": "stream",
     "text": [
      "Defaulting to user installation because normal site-packages is not writeable\n",
      "Requirement already satisfied: numpy in /home/dell/.local/lib/python3.8/site-packages (1.22.3)\n",
      "\u001b[33mWARNING: There was an error checking the latest version of pip.\u001b[0m\u001b[33m\n",
      "\u001b[0m"
     ]
    }
   ],
   "source": [
    "# To install this library in Jupyter notebook\n",
    "import sys\n",
    "!{sys.executable} -m pip install numpy"
   ]
  },
  {
   "cell_type": "code",
   "execution_count": 4,
   "id": "bca9f700",
   "metadata": {},
   "outputs": [
    {
     "data": {
      "text/plain": [
       "('1.22.3', ['/home/dell/.local/lib/python3.8/site-packages/numpy'])"
      ]
     },
     "execution_count": 4,
     "metadata": {},
     "output_type": "execute_result"
    }
   ],
   "source": [
    "import numpy as np\n",
    "np.__version__ , np.__path__"
   ]
  },
  {
   "cell_type": "code",
   "execution_count": null,
   "id": "5662cd04",
   "metadata": {},
   "outputs": [],
   "source": []
  },
  {
   "cell_type": "markdown",
   "id": "0906e715",
   "metadata": {},
   "source": [
    "## 1. Scalar Math"
   ]
  },
  {
   "cell_type": "markdown",
   "id": "26f8690c",
   "metadata": {},
   "source": [
    "### a. Scalar Math on 1-D Arrays"
   ]
  },
  {
   "cell_type": "code",
   "execution_count": null,
   "id": "f134a6d4",
   "metadata": {},
   "outputs": [],
   "source": []
  },
  {
   "cell_type": "code",
   "execution_count": 6,
   "id": "e309a4df",
   "metadata": {},
   "outputs": [
    {
     "name": "stdout",
     "output_type": "stream",
     "text": [
      "Array is :  [7 1 6 6]\n"
     ]
    }
   ],
   "source": [
    "arr = np.random.randint(1,10,size=4)\n",
    "print(\"Array is : \", arr)"
   ]
  },
  {
   "cell_type": "code",
   "execution_count": null,
   "id": "d11dbdaf",
   "metadata": {},
   "outputs": [],
   "source": []
  },
  {
   "cell_type": "code",
   "execution_count": 11,
   "id": "08b13d56",
   "metadata": {},
   "outputs": [
    {
     "name": "stdout",
     "output_type": "stream",
     "text": [
      "arr:  [1 3 1 3]\n",
      "np.add(arr,2):  [3 5 3 5]\n",
      "np.subtract(arr,2):  [-1  1 -1  1]\n",
      "np.multiply(arr,2):  [2 6 2 6]\n",
      "np.divide(arr,2):  [0.5 1.5 0.5 1.5]\n",
      "np.mod(arr,2):  [1 1 1 1]\n",
      "139649905805232 139650257980848\n"
     ]
    }
   ],
   "source": [
    "import numpy as np\n",
    "# Create a 1-D array having 4 random integers from 1 to 9\n",
    "arr = np.random.randint(1,10, size=4)\n",
    "print(\"arr: \", arr)\n",
    "\n",
    "# After the operation a new `ndarray` is returned\n",
    "print(\"np.add(arr,2): \",      arr + 2)            # np.add(arr, 2))\n",
    "print(\"np.subtract(arr,2): \", arr - 2)            # np.subtract(arr, 2))\n",
    "print(\"np.multiply(arr,2): \", arr * 2)            # np.multiply(arr, 2))\n",
    "print(\"np.divide(arr,2): \",   arr / 2)            # np.divide(arr, 2))\n",
    "print(\"np.mod(arr,2): \",      arr % 2)            # np.mod(arr, 2))\n",
    "\n",
    "arr3 = arr + 9\n",
    "print(id(arr), id(arr3))"
   ]
  },
  {
   "cell_type": "code",
   "execution_count": null,
   "id": "26b601f6",
   "metadata": {},
   "outputs": [],
   "source": [
    "print(np.add(arr,2))\n",
    "print(np.subtract(arr,2))\n",
    "print(np.divide(arr,2))\n",
    "print(np.multiply(arr,2))\n",
    "print(np.mod(arr,2))"
   ]
  },
  {
   "cell_type": "markdown",
   "id": "ef0533ab",
   "metadata": {},
   "source": [
    "### b. Scalar Math on 2-D Arrays"
   ]
  },
  {
   "cell_type": "code",
   "execution_count": 20,
   "id": "a7206060",
   "metadata": {},
   "outputs": [
    {
     "name": "stdout",
     "output_type": "stream",
     "text": [
      "Original matrix:\n",
      " [[8 6]\n",
      " [2 7]]\n",
      "np.add(matrix,2): \n",
      " [[10  8]\n",
      " [ 4  9]]\n",
      "np.subtract(matrix,2): \n",
      " [[6 4]\n",
      " [0 5]]\n",
      "np.multiply(matrix,2): \n",
      " [[16 12]\n",
      " [ 4 14]]\n",
      "np.divide(matrix,2): \n",
      " [[4.  3. ]\n",
      " [1.  3.5]]\n",
      "np.mod(matrix,2): \n",
      " [[0 0]\n",
      " [0 1]]\n"
     ]
    }
   ],
   "source": [
    "import numpy as np\n",
    "# Create a 2x2 matrix with random integers  between 1 to 9\n",
    "matrix = np.random.randint(1,10, size=(2, 2))\n",
    "print(\"Original matrix:\\n\", matrix)\n",
    "\n",
    "# After the operation a new `ndarray` is returned\n",
    "print(\"np.add(matrix,2): \\n\",      matrix + 2)            # np.add(matrix, 2))\n",
    "print(\"np.subtract(matrix,2): \\n\", matrix - 2)            # np.subtract(matrix, 2))\n",
    "print(\"np.multiply(matrix,2): \\n\", matrix * 2)            # np.multiply(matrix, 2))\n",
    "print(\"np.divide(matrix,2): \\n\",   matrix / 2)            # np.divide(matrix, 2))\n",
    "print(\"np.mod(matrix,2): \\n\",      matrix % 2)            # np.mod(matrix, 2))"
   ]
  },
  {
   "cell_type": "code",
   "execution_count": null,
   "id": "916ba2ee",
   "metadata": {},
   "outputs": [],
   "source": []
  },
  {
   "cell_type": "markdown",
   "id": "f7900157",
   "metadata": {},
   "source": [
    "## 2. Arithmetic Operations"
   ]
  },
  {
   "cell_type": "markdown",
   "id": "28f196d5",
   "metadata": {},
   "source": [
    "### a. Arithmetic Operations on 1-D Arrays"
   ]
  },
  {
   "cell_type": "code",
   "execution_count": 6,
   "id": "30d3f30f",
   "metadata": {},
   "outputs": [
    {
     "name": "stdout",
     "output_type": "stream",
     "text": [
      "arr1:  [6 1 5 3]\n",
      "arr2:  [5 8 2 9]\n",
      "np.add(arr1, arr2) =  [11  9  7 12]\n",
      "np.subtract(arr1, arr2) =  [ 1 -7  3 -6]\n",
      "np.multiply(arr1, arr2) =  [30  8 10 27]\n",
      "np.divide(arr1, arr2) =  [1.2        0.125      2.5        0.33333333]\n",
      "np.mod(arr1, arr2) =  [1 1 1 3]\n"
     ]
    }
   ],
   "source": [
    "import numpy as np\n",
    "# Create two 1-D arrays each having 4 random integers from 1 to 9\n",
    "arr1 = np.random.randint(1,10, size=4)\n",
    "arr2 = np.random.randint(1,10, size=4)\n",
    "print(\"arr1: \", arr1)\n",
    "print(\"arr2: \", arr2)\n",
    "\n",
    "# After the operation a new `ndarray` is returned\n",
    "print(\"np.add(arr1, arr2) = \",      arr1 + arr2)     # np.add(arr1, arr2)\n",
    "print(\"np.subtract(arr1, arr2) = \", arr1 - arr2)     # np.subtract(arr1, arr2)\n",
    "print(\"np.multiply(arr1, arr2) = \", arr1 * arr2)     # np.multiply(arr1, arr2)\n",
    "print(\"np.divide(arr1, arr2) = \",   arr1  / arr2)    # np.divide(arr1, arr2)\n",
    "print(\"np.mod(arr1, arr2) = \",      arr1  % arr2)    # np.mod(arr1, arr2) # np.remainder(arr1, arr2)"
   ]
  },
  {
   "cell_type": "code",
   "execution_count": null,
   "id": "a5b7b049",
   "metadata": {},
   "outputs": [],
   "source": []
  },
  {
   "cell_type": "markdown",
   "id": "f39da597",
   "metadata": {},
   "source": [
    "### b. Arithmetic Operations on 2-D Arrays"
   ]
  },
  {
   "cell_type": "code",
   "execution_count": 7,
   "id": "3cd42b3c",
   "metadata": {},
   "outputs": [
    {
     "name": "stdout",
     "output_type": "stream",
     "text": [
      "matrix1: \n",
      " [[1 7]\n",
      " [9 9]]\n",
      "matrix2: \n",
      " [[1 9]\n",
      " [3 9]]\n",
      "np.add(matrix1 , matrix2) = \n",
      " [[ 2 16]\n",
      " [12 18]]\n",
      "np.subtract(matrix1 , matrix2) = \n",
      " [[ 0 -2]\n",
      " [ 6  0]]\n",
      "np.multiply(matrix1 , matrix2) = \n",
      " [[ 1 63]\n",
      " [27 81]]\n",
      "np.divide(matrix1 , matrix2) = \n",
      " [[1.         0.77777778]\n",
      " [3.         1.        ]]\n",
      "np.mod(matrix1 , matrix2) = \n",
      " [[0 7]\n",
      " [0 0]]\n"
     ]
    }
   ],
   "source": [
    "import numpy as np\n",
    "# Create a 2x2 matrix with random integers  between 1 to 9\n",
    "matrix1 = np.random.randint(1,10, size=(2, 2))\n",
    "matrix2 = np.random.randint(1, 10, size=(2, 2))\n",
    "print(\"matrix1: \\n\", matrix1)\n",
    "print(\"matrix2: \\n\", matrix2)\n",
    "\n",
    "# After the operation a new `ndarray` is returned\n",
    "print(\"np.add(matrix1 , matrix2) = \\n\",      matrix1 + matrix2) # np.add(matrix1 , matrix2)\n",
    "print(\"np.subtract(matrix1 , matrix2) = \\n\", matrix1 - matrix2) # np.subtract(matrix1 , matrix2)\n",
    "print(\"np.multiply(matrix1 , matrix2) = \\n\", matrix1 * matrix2) # np.multiply(matrix1 , matrix2)\n",
    "print(\"np.divide(matrix1 , matrix2) = \\n\",   matrix1 / matrix2) # np.divide(matrix1 , matrix2)\n",
    "print(\"np.mod(matrix1 , matrix2) = \\n\",      matrix1 % matrix2) # np.remainder(matrix1 , matrix2)"
   ]
  },
  {
   "cell_type": "code",
   "execution_count": null,
   "id": "d2a244f9",
   "metadata": {},
   "outputs": [],
   "source": []
  },
  {
   "cell_type": "markdown",
   "id": "6af771f9",
   "metadata": {},
   "source": [
    "## 3. More Mathematical Operations"
   ]
  },
  {
   "cell_type": "markdown",
   "id": "a625e92a",
   "metadata": {},
   "source": [
    "### a. Mathematical Operations on 1-D Array"
   ]
  },
  {
   "cell_type": "code",
   "execution_count": 13,
   "id": "cf755e36",
   "metadata": {},
   "outputs": [
    {
     "name": "stdout",
     "output_type": "stream",
     "text": [
      "Original ndarray:  [5.17486385 7.98599034 3.34627109 2.80535219 7.07680051]\n",
      "np.abs(arr) =  [5.17486385 7.98599034 3.34627109 2.80535219 7.07680051]\n",
      "np.square(arr) =  [26.7792159  63.77604178 11.19753019  7.87000091 50.0811054 ]\n",
      "np.sqrt(arr) =  [2.27483271 2.82594946 1.82928158 1.67491856 2.66022565]\n",
      "np.cbrt(arr) =  [1.72968217 1.99883185 1.49573173 1.41035723 1.91990166]\n",
      "np.log(arr) =  [1.64381303 2.0776888  1.20784662 1.03152909 1.9568219 ]\n",
      "np.log2(arr) =  [2.37152091 2.99747133 1.74255433 1.4881819  2.82309725]\n",
      "np.log10(arr) =  [0.71389893 0.90232878 0.52456112 0.44798739 0.84983695]\n",
      "np.isnan(arr) =  [False False False False False]\n",
      "np.ceil(arr) =  [6. 8. 4. 3. 8.]\n",
      "np.floor(arr) =  [5. 7. 3. 2. 7.]\n",
      "np.cumsum(arr) =  [ 5.17486385 13.1608542  16.50712529 19.31247747 26.38927798]\n"
     ]
    }
   ],
   "source": [
    "# Creating 1-D array of 5 elements of random floats between 1 and 10\n",
    "arr = np.random.rand(5)*10\n",
    "print(\"Original ndarray: \", arr)\n",
    "\n",
    "\n",
    "# After the operation a new `ndarray` is returned, which is a copy of the original array with the operation performed\n",
    "print(\"np.abs(arr) = \", np.abs(arr))\n",
    "print(\"np.square(arr) = \", np.square(arr))\n",
    "print(\"np.sqrt(arr) = \", np.sqrt(arr))\n",
    "print(\"np.cbrt(arr) = \", np.cbrt(arr))\n",
    "print(\"np.log(arr) = \", np.log(arr))\n",
    "print(\"np.log2(arr) = \", np.log2(arr))\n",
    "print(\"np.log10(arr) = \", np.log10(arr))\n",
    "print(\"np.isnan(arr) = \", np.isnan(arr))\n",
    "print(\"np.ceil(arr) = \", np.ceil(arr))\n",
    "print(\"np.floor(arr) = \", np.floor(arr))\n",
    "print(\"np.cumsum(arr) = \", np.cumsum(arr))"
   ]
  },
  {
   "cell_type": "code",
   "execution_count": null,
   "id": "5193c0ec",
   "metadata": {},
   "outputs": [],
   "source": []
  },
  {
   "cell_type": "markdown",
   "id": "51e8cef6",
   "metadata": {},
   "source": [
    "### b. Mathematical Operations on 2-D Array"
   ]
  },
  {
   "cell_type": "code",
   "execution_count": 14,
   "id": "71a1ae23",
   "metadata": {},
   "outputs": [
    {
     "name": "stdout",
     "output_type": "stream",
     "text": [
      "matrix: \n",
      " [[8 7]\n",
      " [9 3]]\n",
      "np.square(matrix) = \n",
      " [[64 49]\n",
      " [81  9]]\n",
      "np.sqrt(matrix) = \n",
      " [[2.82842712 2.64575131]\n",
      " [3.         1.73205081]]\n",
      "np.log2(matrix) = \n",
      " [[3.         2.80735492]\n",
      " [3.169925   1.5849625 ]]\n",
      "np.isnan(matrix) = \n",
      " [[False False]\n",
      " [False False]]\n",
      "np.ceil(matrix) = \n",
      " [[8. 7.]\n",
      " [9. 3.]]\n",
      "np.floor(matrix) = \n",
      " [[8. 7.]\n",
      " [9. 3.]]\n",
      "np.cumsum(matrix) = \n",
      " [ 8 15 24 27]\n"
     ]
    }
   ],
   "source": [
    "import numpy as np\n",
    "# Create a 2x2 matrix with random integers  between 1 to 9\n",
    "matrix = np.random.randint(1,10, size=(2, 2))\n",
    "print(\"matrix: \\n\", matrix)\n",
    "\n",
    "# After the operation a new `ndarray` is returned, which is a copy of the original array with the operation performed\n",
    "print(\"np.square(matrix) = \\n\", np.square(matrix))\n",
    "print(\"np.sqrt(matrix) = \\n\", np.sqrt(matrix))\n",
    "print(\"np.log2(matrix) = \\n\", np.log2(matrix))\n",
    "print(\"np.isnan(matrix) = \\n\", np.isnan(matrix))\n",
    "print(\"np.ceil(matrix) = \\n\", np.ceil(matrix))\n",
    "print(\"np.floor(matrix) = \\n\", np.floor(matrix))\n",
    "print(\"np.cumsum(matrix) = \\n\", np.cumsum(matrix))"
   ]
  },
  {
   "cell_type": "code",
   "execution_count": null,
   "id": "afdd4b87",
   "metadata": {},
   "outputs": [],
   "source": []
  },
  {
   "cell_type": "markdown",
   "id": "c5d411d3",
   "metadata": {},
   "source": [
    "## 4. Aggregate Functions"
   ]
  },
  {
   "cell_type": "markdown",
   "id": "dde44c0c",
   "metadata": {},
   "source": [
    "### a. Aggregate Functions on 1-D Arrays"
   ]
  },
  {
   "cell_type": "code",
   "execution_count": 15,
   "id": "1d8605be",
   "metadata": {},
   "outputs": [
    {
     "name": "stdout",
     "output_type": "stream",
     "text": [
      "arr:  [5 1 2 4 9]\n",
      "np.min(arr) =  1\n",
      "np.max(arr) =  9\n",
      "np.sum(arr) =  21\n",
      "np.prod(arr) =  360\n"
     ]
    }
   ],
   "source": [
    "# Create a 1-D array having 5 random integers from 1 to 9\n",
    "arr = np.random.randint(1, 10, size=5)\n",
    "print(\"arr: \", arr)\n",
    "\n",
    "# After the operation a new `ndarray` is returned, which is a copy of the original array with the operation performed\n",
    "print(\"np.min(arr) = \",     np.min(arr))\n",
    "print(\"np.max(arr) = \",     np.max(arr))\n",
    "print(\"np.sum(arr) = \",     np.sum(arr))\n",
    "print(\"np.prod(arr) = \", np.prod(arr))"
   ]
  },
  {
   "cell_type": "code",
   "execution_count": null,
   "id": "cebfc963",
   "metadata": {},
   "outputs": [],
   "source": []
  },
  {
   "cell_type": "code",
   "execution_count": 17,
   "id": "351b8a6a",
   "metadata": {},
   "outputs": [
    {
     "name": "stdout",
     "output_type": "stream",
     "text": [
      "arr:  [6 1 2 8 2]\n",
      "np.mean(arr) =  3.8\n",
      "np.average(arr) =  3.8\n",
      "\n",
      "arr1:  [1 2 3 4]\n",
      "wts:   [4 3 2 1]\n",
      "np.average(arr1, weights=wts) =  2.0\n"
     ]
    }
   ],
   "source": [
    "# Create a 1-D array having 5 random integers from 1 to 9\n",
    "arr = np.random.randint(1, 10, size=5)\n",
    "print(\"arr: \", arr)\n",
    "\n",
    "#Arithmetic mean is the sum of elements along an axis divided by the number of elements. \n",
    "print(\"np.mean(arr) = \",    np.mean(arr))\n",
    "\n",
    "# The np.average() function computes the weighted average, by multiplying of each array element by its weight\n",
    "# The np.average() is same as np.mean(), when weight is not specified\n",
    "print(\"np.average(arr) = \", np.average(arr))\n",
    "\n",
    "# Considering an array [1,2,3,4] and corresponding weights [4,3,2,1], the weighted average is calculated by \n",
    "# adding the product of the corresponding elements and dividing the sum by the sum of weights.\n",
    "#             Weighted average = (1*4+2*3+3*2+4*1)/(4+3+2+1)\n",
    "\n",
    "arr1 = np.array([1,2,3,4])\n",
    "wts = np.array([4,3,2,1])\n",
    "print(\"\\narr1: \", arr1)\n",
    "print(\"wts:  \", wts)\n",
    "print(\"np.average(arr1, weights=wts) = \", np.average(arr1, weights= wts))\n",
    "\n"
   ]
  },
  {
   "cell_type": "code",
   "execution_count": null,
   "id": "8a8c075d",
   "metadata": {},
   "outputs": [],
   "source": []
  },
  {
   "cell_type": "code",
   "execution_count": 20,
   "id": "65a99fd8",
   "metadata": {},
   "outputs": [
    {
     "name": "stdout",
     "output_type": "stream",
     "text": [
      "arr:  [24 24 69 56 99 67 62 90 35 79]\n",
      "np.median(arr) =  64.5\n",
      "np.percentile(arr,50) =  64.5\n",
      "np.percentile(arr,0) =  24.0\n",
      "np.percentile(arr,100) =  99.0\n",
      "np.var(arr) =  614.65\n",
      "np.std(arr) =  24.79213584990208\n"
     ]
    }
   ],
   "source": [
    "# Create a 1-D array having 10 random integers from 1 to 99\n",
    "arr = np.random.randint(1, 100, size=10)\n",
    "print(\"arr: \", arr)\n",
    "\n",
    "# Median is the value separating the higher half of a data sample from the lower half.\n",
    "print(\"np.median(arr) = \",  np.median(arr))\n",
    "\n",
    "# Percentile is the value below which a given percentage of observations in a group of observations fall.\n",
    "# 50th percentile is the score at or below which 50% of the scores in the distribution may be found.\n",
    "print(\"np.percentile(arr,50) = \",     np.percentile(arr,50))\n",
    "print(\"np.percentile(arr,0) = \",     np.percentile(arr,0))\n",
    "print(\"np.percentile(arr,100) = \",     np.percentile(arr,100))\n",
    "\n",
    "# The variance measures the average degree to which each point differs from the mean\n",
    "# Variance is calculated as the average of squared deviations from mean, i.e., mean((x - x.mean())**2).\n",
    "print(\"np.var(arr) = \",    np.var(arr))\n",
    "\n",
    "\n",
    "# Standard deviation checks how spread out a group of numbers is from the mean\n",
    "# It is the square root of variance: sqrt(mean((x - x.mean())**2))\n",
    "print(\"np.std(arr) = \",    np.std(arr))\n"
   ]
  },
  {
   "cell_type": "code",
   "execution_count": null,
   "id": "39648ba7",
   "metadata": {},
   "outputs": [],
   "source": []
  },
  {
   "cell_type": "markdown",
   "id": "c12623e8",
   "metadata": {},
   "source": [
    "### b. Aggregate Functions on 2-D Arrays"
   ]
  },
  {
   "cell_type": "code",
   "execution_count": 17,
   "id": "4c71de42",
   "metadata": {},
   "outputs": [
    {
     "name": "stdout",
     "output_type": "stream",
     "text": [
      "matrix: \n",
      " [[4 9 9]\n",
      " [5 3 4]\n",
      " [9 6 3]]\n",
      "np.sum(matrix, axis=0) =  [18 18 16]\n",
      "np.sum(matrix, axis=1) =  [22 12 18]\n"
     ]
    }
   ],
   "source": [
    "import numpy as np\n",
    "# Create a 3x3 (2-D array) initialized with random integers from 1 to 9\n",
    "matrix = np.random.randint(1,10, size=(3, 3))\n",
    "print(\"matrix: \\n\", matrix)\n",
    "\n",
    "print(\"np.sum(matrix, axis=0) = \",     np.sum(matrix, axis=0))\n",
    "print(\"np.sum(matrix, axis=1) = \",     np.sum(matrix, axis=1))\n",
    "\n",
    "# Here axis=0 represents, all operations according to columns.\n",
    "# Here axis=1 represents, all operations according to rows.\n",
    "# When we perform aggregate functions on 2-D arrays, then we must pass axis argument."
   ]
  },
  {
   "cell_type": "code",
   "execution_count": null,
   "id": "83020163",
   "metadata": {},
   "outputs": [],
   "source": []
  },
  {
   "cell_type": "code",
   "execution_count": 23,
   "id": "cf45b9d3",
   "metadata": {},
   "outputs": [
    {
     "name": "stdout",
     "output_type": "stream",
     "text": [
      "matrix: \n",
      " [[9 3 6]\n",
      " [2 8 5]\n",
      " [2 3 5]]\n",
      "np.min(matrix, axis=0) =  [2 3 5]\n",
      "np.min(matrix, axis=1) =  [3 2 2]\n"
     ]
    }
   ],
   "source": [
    "# Create a 3x3 (2-D array) initialized with random integers from 1 to 9\n",
    "matrix = np.random.randint(1,10, size=(3, 3))\n",
    "print(\"matrix: \\n\", matrix)\n",
    "\n",
    "print(\"np.min(matrix, axis=0) = \",     np.min(matrix, axis=0))\n",
    "print(\"np.min(matrix, axis=1) = \",     np.min(matrix, axis=1))"
   ]
  },
  {
   "cell_type": "code",
   "execution_count": null,
   "id": "93165a2e",
   "metadata": {},
   "outputs": [],
   "source": []
  },
  {
   "cell_type": "code",
   "execution_count": 24,
   "id": "ded4bbd3",
   "metadata": {},
   "outputs": [
    {
     "name": "stdout",
     "output_type": "stream",
     "text": [
      "matrix: \n",
      " [[3 1 3]\n",
      " [8 5 5]\n",
      " [9 1 4]]\n",
      "np.mean(matrix, axis=0) =  [6.66666667 2.33333333 4.        ]\n",
      "np.mean(matrix, axis=1) =  [2.33333333 6.         4.66666667]\n"
     ]
    }
   ],
   "source": [
    "# Create a 3x3 (2-D array) initialized with random integers from 1 to 9\n",
    "matrix = np.random.randint(1,10, size=(3, 3))\n",
    "print(\"matrix: \\n\", matrix)\n",
    "\n",
    "\n",
    "print(\"np.mean(matrix, axis=0) = \",     np.mean(matrix, axis=0))\n",
    "print(\"np.mean(matrix, axis=1) = \",     np.mean(matrix, axis=1))"
   ]
  },
  {
   "cell_type": "code",
   "execution_count": null,
   "id": "94152beb",
   "metadata": {},
   "outputs": [],
   "source": []
  },
  {
   "cell_type": "code",
   "execution_count": null,
   "id": "10b61422",
   "metadata": {},
   "outputs": [],
   "source": []
  },
  {
   "cell_type": "code",
   "execution_count": 25,
   "id": "1ed39e0c",
   "metadata": {},
   "outputs": [
    {
     "name": "stdout",
     "output_type": "stream",
     "text": [
      "matrix: \n",
      " [[7 7 3]\n",
      " [7 4 7]\n",
      " [8 5 1]]\n",
      "np.median(matrix, axis=0) =  [7. 5. 3.]\n",
      "np.median(matrix, axis=1) =  [7. 7. 5.]\n"
     ]
    }
   ],
   "source": [
    "# Create a 3x3 (2-D array) initialized with random integers from 1 to 9\n",
    "matrix = np.random.randint(1,10, size=(3, 3))\n",
    "print(\"matrix: \\n\", matrix)\n",
    "\n",
    "# Median is the value separating the higher half of a data sample from the lower half.\n",
    "print(\"np.median(matrix, axis=0) = \",     np.median(matrix, axis=0))\n",
    "print(\"np.median(matrix, axis=1) = \",     np.median(matrix, axis=1))"
   ]
  },
  {
   "cell_type": "markdown",
   "id": "8b4429f9",
   "metadata": {},
   "source": [
    "Please do practice calculating the percentile, variance and standard deviation along different axis of a 2-D array"
   ]
  },
  {
   "cell_type": "code",
   "execution_count": null,
   "id": "dce99a00",
   "metadata": {},
   "outputs": [],
   "source": []
  },
  {
   "cell_type": "markdown",
   "id": "32fde252",
   "metadata": {},
   "source": [
    "## 5. Comparing NumPy Arrays"
   ]
  },
  {
   "cell_type": "markdown",
   "id": "624dfa93",
   "metadata": {},
   "source": [
    "### a. Comparing NumPy 1-D Arrays\n",
    "- Returns a Boolean numpy array containing True/False after doing element wise comparison"
   ]
  },
  {
   "cell_type": "code",
   "execution_count": 26,
   "id": "6fc80b92",
   "metadata": {},
   "outputs": [
    {
     "name": "stdout",
     "output_type": "stream",
     "text": [
      "arr1:  [6 9 4 6]\n",
      "arr2:  [5 2 8 5]\n",
      "np.equal(arr1, arr2) =  [False False False False]\n",
      "np.not_equal(arr1, arr2) =  [ True  True  True  True]\n",
      "np.greater(arr1, arr2) =  [ True  True False  True]\n",
      "np.greater_equal(arr1, arr2) =  [ True  True False  True]\n",
      "np.less(arr1, arr2) =  [False False  True False]\n",
      "np.less_equal(arr1, arr2) =  [False False  True False]\n"
     ]
    }
   ],
   "source": [
    "import numpy as np\n",
    "# Create two 1-D arrays each having 4 random integers from 1 to 9\n",
    "arr1 = np.random.randint(1,10, size=4)\n",
    "arr2 = np.random.randint(1,10, size=4)\n",
    "print(\"arr1: \", arr1)\n",
    "print(\"arr2: \", arr2)\n",
    "print(\"np.equal(arr1, arr2) = \",      arr1 == arr2)      # np.equal(arr1, arr2)\n",
    "print(\"np.not_equal(arr1, arr2) = \",  arr1 != arr2)      # np.not_equal(arr1, arr2)\n",
    "\n",
    "print(\"np.greater(arr1, arr2) = \",      arr1 > arr2)     # np.greater(arr1, arr2)\n",
    "print(\"np.greater_equal(arr1, arr2) = \",  arr1 >= arr2)  # np.greater_equal(arr1, arr2)\n",
    "\n",
    "print(\"np.less(arr1, arr2) = \",      arr1 < arr2)        # np.less(arr1, arr2)\n",
    "print(\"np.less_equal(arr1, arr2) = \",  arr1 <= arr2)     # np.less_equal(arr1, arr2)"
   ]
  },
  {
   "cell_type": "code",
   "execution_count": null,
   "id": "c20a9ed4",
   "metadata": {},
   "outputs": [],
   "source": []
  },
  {
   "cell_type": "markdown",
   "id": "d03fa4fb",
   "metadata": {},
   "source": [
    "### b. Comparing NumPy 2-D Arrays"
   ]
  },
  {
   "cell_type": "code",
   "execution_count": 27,
   "id": "b65058ea",
   "metadata": {},
   "outputs": [
    {
     "name": "stdout",
     "output_type": "stream",
     "text": [
      "matrix1: \n",
      " [[8 6]\n",
      " [4 2]]\n",
      "matrix2: \n",
      " [[9 7]\n",
      " [7 4]]\n",
      "np.equal(matrix1, matrix2) = \n",
      " [[False False]\n",
      " [False False]]\n",
      "np.not_equal(matrix1, matrix2) = \n",
      " [[ True  True]\n",
      " [ True  True]]\n",
      "np.greater(matrix1, matrix2) = \n",
      " [[False False]\n",
      " [False False]]\n",
      "np.greater_equal(matrix1, matrix2) = \n",
      " [[False False]\n",
      " [False False]]\n",
      "np.less(matrix1, matrix2) = \n",
      " [[ True  True]\n",
      " [ True  True]]\n",
      "np.less_equal(matrix1, matrix2) = \n",
      " [[ True  True]\n",
      " [ True  True]]\n"
     ]
    }
   ],
   "source": [
    "import numpy as np\n",
    "# Create a 2x2 matrix with random integers  between 1 to 9\n",
    "matrix1 = np.random.randint(1,10, size=(2, 2))\n",
    "matrix2 = np.random.randint(1, 10, size=(2, 2))\n",
    "print(\"matrix1: \\n\", matrix1)\n",
    "print(\"matrix2: \\n\", matrix2)\n",
    "\n",
    "\n",
    "\n",
    "print(\"np.equal(matrix1, matrix2) = \\n\",        matrix1 == matrix2)     \n",
    "print(\"np.not_equal(matrix1, matrix2) = \\n\",    matrix1 != matrix2)     \n",
    "\n",
    "print(\"np.greater(matrix1, matrix2) = \\n\",      matrix1 > matrix2)    \n",
    "print(\"np.greater_equal(matrix1, matrix2) = \\n\",matrix1 >= matrix2) \n",
    "\n",
    "print(\"np.less(matrix1, matrix2) = \\n\",         matrix1 < matrix2)       \n",
    "print(\"np.less_equal(matrix1, matrix2) = \\n\",   matrix1 <= matrix2)     "
   ]
  },
  {
   "cell_type": "code",
   "execution_count": null,
   "id": "1159671e",
   "metadata": {},
   "outputs": [],
   "source": []
  },
  {
   "cell_type": "markdown",
   "id": "4ed923c8",
   "metadata": {},
   "source": [
    "## 6. Searching NumPy Arrays using `numpy.where()`"
   ]
  },
  {
   "cell_type": "markdown",
   "id": "7a15d751",
   "metadata": {},
   "source": [
    "### a. Searching NumPy 1-D Arrays"
   ]
  },
  {
   "cell_type": "markdown",
   "id": "bfcf9f08",
   "metadata": {},
   "source": [
    "- The `numpy.where()` method is used to search NumPy arrays for the index values of any element which matches the condition passed as a parameter to the function.\n",
    "```\n",
    "numpy.where(condition, [x, y])\n",
    "```\n",
    "    - condition : When True, yield x, otherwise yield y. If x and y are not given just return the value of the array\n",
    "    - Returns: ndarray or tuple of ndarrays. If both x and y are specified, the output array contains elements of x where condition is True, and elements from y elsewhere."
   ]
  },
  {
   "cell_type": "code",
   "execution_count": 30,
   "id": "0a209cc5",
   "metadata": {},
   "outputs": [
    {
     "name": "stdout",
     "output_type": "stream",
     "text": [
      "(array([3, 5, 6]),)\n"
     ]
    }
   ],
   "source": [
    "import numpy as np\n",
    "arr = np.array([1, 2, 3, 4, 5, 4, 4, 9, 2, 3, 8])\n",
    "t1 = np.where(arr == 4)\n",
    "print(t1)"
   ]
  },
  {
   "cell_type": "code",
   "execution_count": null,
   "id": "1b4fa4ae",
   "metadata": {},
   "outputs": [],
   "source": []
  },
  {
   "cell_type": "markdown",
   "id": "24865ae5",
   "metadata": {},
   "source": [
    "Note: The result is a tuple of 1-D arrays having a single tuple containing the index"
   ]
  },
  {
   "cell_type": "code",
   "execution_count": 31,
   "id": "e1db54c3",
   "metadata": {},
   "outputs": [
    {
     "name": "stdout",
     "output_type": "stream",
     "text": [
      "(array([1, 6]),)\n"
     ]
    }
   ],
   "source": [
    "import numpy as np\n",
    "arr = np.array([1, 0, 3, 9, 5, 2, 0, 8])\n",
    "t1 = np.where(arr == 0)\n",
    "print(t1)"
   ]
  },
  {
   "cell_type": "code",
   "execution_count": 32,
   "id": "7c6fe56b",
   "metadata": {},
   "outputs": [
    {
     "name": "stdout",
     "output_type": "stream",
     "text": [
      "(array([1, 3, 5, 7]),)\n"
     ]
    }
   ],
   "source": [
    "import numpy as np\n",
    "arr = np.array([1, 2, 3, 4, 5, 6, 7, 8])\n",
    "t1 = np.where(arr%2 == 0)\n",
    "print(t1)"
   ]
  },
  {
   "cell_type": "code",
   "execution_count": null,
   "id": "c96f2079",
   "metadata": {},
   "outputs": [],
   "source": []
  },
  {
   "cell_type": "code",
   "execution_count": null,
   "id": "e5071b86",
   "metadata": {},
   "outputs": [],
   "source": []
  },
  {
   "cell_type": "code",
   "execution_count": 33,
   "id": "4f82105f",
   "metadata": {},
   "outputs": [
    {
     "name": "stdout",
     "output_type": "stream",
     "text": [
      "[False  True False  True False  True False  True]\n"
     ]
    }
   ],
   "source": [
    "import numpy as np\n",
    "arr = np.array([1, 2, 3, 4, 5, 6, 7, 8])\n",
    "t1 = np.where(arr%2 == 0, True, False)\n",
    "print(t1)"
   ]
  },
  {
   "cell_type": "markdown",
   "id": "f7f2c65c",
   "metadata": {},
   "source": [
    "Note: The result is a simple 1-D array, when you use the x and y arguments to `np.where()`"
   ]
  },
  {
   "cell_type": "code",
   "execution_count": null,
   "id": "336bb2e8",
   "metadata": {},
   "outputs": [],
   "source": []
  },
  {
   "cell_type": "markdown",
   "id": "57f89640",
   "metadata": {},
   "source": [
    "### b. Searching NumPy 2-D Arrays"
   ]
  },
  {
   "cell_type": "markdown",
   "id": "b63342d5",
   "metadata": {},
   "source": [
    "- The `numpy.where()` method is used to search NumPy arrays for the index values of any element which matches the condition passed as a parameter to the function.\n",
    "```\n",
    "numpy.where(condition, [x, y])\n",
    "```\n",
    "    - condition : When True, yield x, otherwise yield y. If x and y are not given just return the value of the array\n",
    "    - Returns: ndarray or tuple of ndarrays. If both x and y are specified, the output array contains elements of x where condition is True, and elements from y elsewhere."
   ]
  },
  {
   "cell_type": "code",
   "execution_count": 34,
   "id": "fde6ed1e",
   "metadata": {
    "scrolled": true
   },
   "outputs": [
    {
     "name": "stdout",
     "output_type": "stream",
     "text": [
      "matrix: \n",
      " [[1 2 3]\n",
      " [4 5 4]\n",
      " [4 9 2]\n",
      " [3 8 6]]\n",
      "(array([1, 1, 2]), array([0, 2, 0]))\n"
     ]
    }
   ],
   "source": [
    "import numpy as np\n",
    "matrix = np.array([[1, 2, 3], [4, 5, 4], [4, 9, 2], [3, 8, 6]])\n",
    "print(\"matrix: \\n\", matrix)\n",
    "t1 = np.where(matrix == 4)\n",
    "print(t1)"
   ]
  },
  {
   "cell_type": "markdown",
   "id": "1ae934c6",
   "metadata": {},
   "source": [
    "**Note:** The result is a tuple of 1-D arrays having two tuples. The condition is true for three elements at indices `(1,0)`, `(1,2)` and `(2,0)`"
   ]
  },
  {
   "cell_type": "code",
   "execution_count": null,
   "id": "07e93d93",
   "metadata": {},
   "outputs": [],
   "source": []
  },
  {
   "cell_type": "code",
   "execution_count": 35,
   "id": "24c55c5c",
   "metadata": {},
   "outputs": [
    {
     "name": "stdout",
     "output_type": "stream",
     "text": [
      "matrix: \n",
      " [[1 2 0]\n",
      " [4 5 0]\n",
      " [4 9 2]\n",
      " [3 0 6]]\n",
      "(array([0, 1, 3]), array([2, 2, 1]))\n"
     ]
    }
   ],
   "source": [
    "import numpy as np\n",
    "matrix = np.array([[1, 2, 0], [4, 5, 0], [4, 9, 2], [3, 0, 6]])\n",
    "print(\"matrix: \\n\", matrix)\n",
    "t1 = np.where(matrix == 0)\n",
    "print(t1)"
   ]
  },
  {
   "cell_type": "markdown",
   "id": "58c391db",
   "metadata": {},
   "source": [
    "**Note:** The result is a tuple of 1-D arrays having two tuples. The condition is true for three elements at indices:\n",
    "`(0,2)`, `(1,2)` and `(3,1)`"
   ]
  },
  {
   "cell_type": "code",
   "execution_count": null,
   "id": "80ba08eb",
   "metadata": {},
   "outputs": [],
   "source": []
  },
  {
   "cell_type": "code",
   "execution_count": null,
   "id": "d6ebe838",
   "metadata": {},
   "outputs": [],
   "source": []
  },
  {
   "cell_type": "code",
   "execution_count": 36,
   "id": "e901346d",
   "metadata": {},
   "outputs": [
    {
     "name": "stdout",
     "output_type": "stream",
     "text": [
      "matrix: \n",
      " [[1 2 3]\n",
      " [5 7 3]\n",
      " [4 9 1]\n",
      " [3 5 3]]\n",
      "(array([0, 2]), array([1, 0]))\n"
     ]
    }
   ],
   "source": [
    "import numpy as np\n",
    "matrix = np.array([[1, 2, 3], [5, 7, 3], [4, 9, 1], [3, 5, 3]])\n",
    "print(\"matrix: \\n\", matrix)\n",
    "t1 = np.where(matrix%2 == 0)\n",
    "print(t1)"
   ]
  },
  {
   "cell_type": "markdown",
   "id": "4358b8be",
   "metadata": {},
   "source": [
    "**Note:** The result is a tuple of 1-D arrays having two tuples. The condition is true for two elements at indices:\n",
    "`(0,2)` and `(1,0)`"
   ]
  },
  {
   "cell_type": "code",
   "execution_count": null,
   "id": "9134a9aa",
   "metadata": {},
   "outputs": [],
   "source": []
  },
  {
   "cell_type": "code",
   "execution_count": null,
   "id": "1449c662",
   "metadata": {},
   "outputs": [],
   "source": []
  },
  {
   "cell_type": "code",
   "execution_count": 37,
   "id": "86e4c330",
   "metadata": {},
   "outputs": [
    {
     "name": "stdout",
     "output_type": "stream",
     "text": [
      "matrix: \n",
      " [[1 2 3]\n",
      " [5 7 3]\n",
      " [4 9 1]\n",
      " [3 5 3]]\n",
      "[[False  True False]\n",
      " [False False False]\n",
      " [ True False False]\n",
      " [False False False]]\n"
     ]
    }
   ],
   "source": [
    "import numpy as np\n",
    "matrix = np.array([[1, 2, 3], [5, 7, 3], [4, 9, 1], [3, 5, 3]])\n",
    "print(\"matrix: \\n\", matrix)\n",
    "t1 = np.where(matrix%2 == 0, True, False)\n",
    "print(t1)"
   ]
  },
  {
   "cell_type": "markdown",
   "id": "b9dad9b8",
   "metadata": {},
   "source": [
    "**Note:** The result is a simple 2-D array, when you use the `x` and `y` arguments to `np.where()`"
   ]
  },
  {
   "cell_type": "code",
   "execution_count": null,
   "id": "0d58aba7",
   "metadata": {},
   "outputs": [],
   "source": []
  },
  {
   "cell_type": "markdown",
   "id": "4954db63",
   "metadata": {},
   "source": [
    "## Check Your Concepts:\n",
    "- What is the purpose of `random.randint` function?\n",
    "- Create a numpy array of 10 random numbers between `-10 to +10`, and find median, mode, std, and mean of numpy array.\n",
    "- After performing scalar operations on `1-D array`, what is the return type of new array?\n",
    "- "
   ]
  },
  {
   "cell_type": "markdown",
   "id": "c7b9eda9",
   "metadata": {},
   "source": [
    "### NumPy Basic: Exercises and Practice with Solution"
   ]
  },
  {
   "cell_type": "markdown",
   "id": "4a89c367",
   "metadata": {},
   "source": [
    "#### Write a NumPy program to get the numpy version and show numpy build configuration."
   ]
  },
  {
   "cell_type": "code",
   "execution_count": 3,
   "id": "da678ec9",
   "metadata": {},
   "outputs": [
    {
     "name": "stdout",
     "output_type": "stream",
     "text": [
      "Numpy version :  1.22.3\n",
      "Numpy configuration : \n",
      "openblas64__info:\n",
      "    libraries = ['openblas64_', 'openblas64_']\n",
      "    library_dirs = ['/usr/local/lib']\n",
      "    language = c\n",
      "    define_macros = [('HAVE_CBLAS', None), ('BLAS_SYMBOL_SUFFIX', '64_'), ('HAVE_BLAS_ILP64', None)]\n",
      "    runtime_library_dirs = ['/usr/local/lib']\n",
      "blas_ilp64_opt_info:\n",
      "    libraries = ['openblas64_', 'openblas64_']\n",
      "    library_dirs = ['/usr/local/lib']\n",
      "    language = c\n",
      "    define_macros = [('HAVE_CBLAS', None), ('BLAS_SYMBOL_SUFFIX', '64_'), ('HAVE_BLAS_ILP64', None)]\n",
      "    runtime_library_dirs = ['/usr/local/lib']\n",
      "openblas64__lapack_info:\n",
      "    libraries = ['openblas64_', 'openblas64_']\n",
      "    library_dirs = ['/usr/local/lib']\n",
      "    language = c\n",
      "    define_macros = [('HAVE_CBLAS', None), ('BLAS_SYMBOL_SUFFIX', '64_'), ('HAVE_BLAS_ILP64', None), ('HAVE_LAPACKE', None)]\n",
      "    runtime_library_dirs = ['/usr/local/lib']\n",
      "lapack_ilp64_opt_info:\n",
      "    libraries = ['openblas64_', 'openblas64_']\n",
      "    library_dirs = ['/usr/local/lib']\n",
      "    language = c\n",
      "    define_macros = [('HAVE_CBLAS', None), ('BLAS_SYMBOL_SUFFIX', '64_'), ('HAVE_BLAS_ILP64', None), ('HAVE_LAPACKE', None)]\n",
      "    runtime_library_dirs = ['/usr/local/lib']\n",
      "Supported SIMD extensions in this NumPy install:\n",
      "    baseline = SSE,SSE2,SSE3\n",
      "    found = SSSE3,SSE41,POPCNT,SSE42,AVX,F16C,FMA3,AVX2,AVX512F,AVX512CD,AVX512_SKX,AVX512_CLX,AVX512_CNL,AVX512_ICL\n",
      "    not found = AVX512_KNL,AVX512_KNM\n"
     ]
    }
   ],
   "source": [
    "import numpy as np\n",
    "print(\"Numpy version : \", np.__version__)\n",
    "print(\"Numpy configuration : \")\n",
    "np.show_config()"
   ]
  },
  {
   "cell_type": "markdown",
   "id": "eb9121e4",
   "metadata": {},
   "source": [
    "#### Write a NumPy program to  get help on the add function."
   ]
  },
  {
   "cell_type": "code",
   "execution_count": 5,
   "id": "b892ba5e",
   "metadata": {},
   "outputs": [
    {
     "name": "stdout",
     "output_type": "stream",
     "text": [
      "add(x1, x2, /, out=None, *, where=True, casting='same_kind', order='K', dtype=None, subok=True[, signature, extobj])\n",
      "\n",
      "Add arguments element-wise.\n",
      "\n",
      "Parameters\n",
      "----------\n",
      "x1, x2 : array_like\n",
      "    The arrays to be added.\n",
      "    If ``x1.shape != x2.shape``, they must be broadcastable to a common\n",
      "    shape (which becomes the shape of the output).\n",
      "out : ndarray, None, or tuple of ndarray and None, optional\n",
      "    A location into which the result is stored. If provided, it must have\n",
      "    a shape that the inputs broadcast to. If not provided or None,\n",
      "    a freshly-allocated array is returned. A tuple (possible only as a\n",
      "    keyword argument) must have length equal to the number of outputs.\n",
      "where : array_like, optional\n",
      "    This condition is broadcast over the input. At locations where the\n",
      "    condition is True, the `out` array will be set to the ufunc result.\n",
      "    Elsewhere, the `out` array will retain its original value.\n",
      "    Note that if an uninitialized `out` array is created via the default\n",
      "    ``out=None``, locations within it where the condition is False will\n",
      "    remain uninitialized.\n",
      "**kwargs\n",
      "    For other keyword-only arguments, see the\n",
      "    :ref:`ufunc docs <ufuncs.kwargs>`.\n",
      "\n",
      "Returns\n",
      "-------\n",
      "add : ndarray or scalar\n",
      "    The sum of `x1` and `x2`, element-wise.\n",
      "    This is a scalar if both `x1` and `x2` are scalars.\n",
      "\n",
      "Notes\n",
      "-----\n",
      "Equivalent to `x1` + `x2` in terms of array broadcasting.\n",
      "\n",
      "Examples\n",
      "--------\n",
      ">>> np.add(1.0, 4.0)\n",
      "5.0\n",
      ">>> x1 = np.arange(9.0).reshape((3, 3))\n",
      ">>> x2 = np.arange(3.0)\n",
      ">>> np.add(x1, x2)\n",
      "array([[  0.,   2.,   4.],\n",
      "       [  3.,   5.,   7.],\n",
      "       [  6.,   8.,  10.]])\n",
      "\n",
      "The ``+`` operator can be used as a shorthand for ``np.add`` on ndarrays.\n",
      "\n",
      ">>> x1 = np.arange(9.0).reshape((3, 3))\n",
      ">>> x2 = np.arange(3.0)\n",
      ">>> x1 + x2\n",
      "array([[ 0.,  2.,  4.],\n",
      "       [ 3.,  5.,  7.],\n",
      "       [ 6.,  8., 10.]])\n"
     ]
    }
   ],
   "source": [
    "# First Method\n",
    "# help(np.add)\n",
    "\n",
    "# Second Method\n",
    "np.info(np.add)"
   ]
  },
  {
   "cell_type": "markdown",
   "id": "03d8f716",
   "metadata": {},
   "source": [
    "#### Write a NumPy program to test whether none of the elements of a given array is zero."
   ]
  },
  {
   "cell_type": "code",
   "execution_count": 15,
   "id": "c50227c3",
   "metadata": {},
   "outputs": [
    {
     "name": "stdout",
     "output_type": "stream",
     "text": [
      "Zero is present in given array!\n"
     ]
    }
   ],
   "source": [
    "# First method\n",
    "array = np.array([3,4,0,5,7,7,8,7,87,98,98,12])\n",
    "for i in array:\n",
    "    if i==0:\n",
    "        print(\"Zero is present in given array!\")\n",
    "        break\n",
    "else:\n",
    "    print(\"Zero is not present in given array!\")\n",
    "        "
   ]
  },
  {
   "cell_type": "code",
   "execution_count": 20,
   "id": "0f4698f9",
   "metadata": {},
   "outputs": [
    {
     "name": "stdout",
     "output_type": "stream",
     "text": [
      "Original array : \n",
      "[ 3  4  5  7  7  8  7 87 98 98 12]\n",
      "Test if none of the elements of the said array is zero: True\n"
     ]
    }
   ],
   "source": [
    "# Second Method\n",
    "array = np.array([3,4,5,7,7,8,7,87,98,98,12])\n",
    "print(\"Original array : \")\n",
    "print(array)\n",
    "x  = np.all(array)\n",
    "print(\"Test if none of the elements of the said array is zero:\", x)"
   ]
  },
  {
   "cell_type": "code",
   "execution_count": 22,
   "id": "4830edc1",
   "metadata": {},
   "outputs": [
    {
     "name": "stdout",
     "output_type": "stream",
     "text": [
      "Original array :  [ 3  4  0  5  7  7  8  7 87  0 98 12]\n",
      "Test if none of the elements of the said array is zero: False\n"
     ]
    }
   ],
   "source": [
    "array1 = np.array([3,4,0,5,7,7,8,7,87,0,98,12])\n",
    "print(\"Original array : \", array1)\n",
    "print(\"Test if none of the elements of the said array is zero:\",np.all(array1))"
   ]
  },
  {
   "cell_type": "markdown",
   "id": "5d7491f8",
   "metadata": {},
   "source": [
    "#### Write a NumPy program to test whether any of the elements of a given array is non-zero.\n",
    "<img src=\"images/numpy-basic-image-exercise-4.png\" height=400px width=400px>"
   ]
  },
  {
   "cell_type": "code",
   "execution_count": null,
   "id": "aebc47c5",
   "metadata": {},
   "outputs": [],
   "source": []
  },
  {
   "cell_type": "code",
   "execution_count": 29,
   "id": "86129764",
   "metadata": {},
   "outputs": [
    {
     "name": "stdout",
     "output_type": "stream",
     "text": [
      "No non-zero element is presenr in the given array!\n"
     ]
    }
   ],
   "source": [
    "# First Method \n",
    "array = np.array([3,4,0,5,7,7,8,7,87,0,98,12])\n",
    "array2 = np.zeros(shape=10)\n",
    "for i in array2:\n",
    "    if i!=0:\n",
    "        print(\"Non-zero element is present in the given array!\")\n",
    "        break\n",
    "else:\n",
    "    print(\"No non-zero element is presenr in the given array!\")\n"
   ]
  },
  {
   "cell_type": "code",
   "execution_count": 30,
   "id": "cdc818df",
   "metadata": {},
   "outputs": [
    {
     "name": "stdout",
     "output_type": "stream",
     "text": [
      "Original array :  [ 3  4  0  5  7  7  8  7 87  0 98 12]\n",
      "Test if none of the elements of the said array is non-zero: True\n",
      "Test if none of the elements of the said array is non-zero: False\n"
     ]
    }
   ],
   "source": [
    "# second method\n",
    "print(\"Original array : \", array)\n",
    "print(\"Test if none of the elements of the said array is non-zero:\",np.any(array))\n",
    "print(\"Test if none of the elements of the said array is non-zero:\",np.any(array2))"
   ]
  },
  {
   "cell_type": "markdown",
   "id": "5b9c99c4",
   "metadata": {},
   "source": [
    "## Questions on NumPy Mathematics\n",
    "- How to get element-wise true division of an array using Numpy?\n",
    "- How to calculate the element-wise absolute value of NumPy array?\n",
    "- Compute the negative of the NumPy array\n",
    "- Multiply 2d numpy array corresponding to 1d array\n",
    "- Computes the inner product of two arrays\n",
    "- Compute the nth percentile of the NumPy array\n",
    "- Calculate the n-th order discrete difference along the given axis\n",
    "- Calculate the sum of all columns in a 2D NumPy array\n",
    "- Calculate average values of two given NumPy arrays\n",
    "- How to compute numerical negative value for all elements in a given NumPy array?\n",
    "- How to get the floor, ceiling and truncated values of the elements of a numpy array?\n",
    "- How to round elements of the NumPy array to the nearest integer?\n",
    "- Find the round off the values of the given matrix\n",
    "- Determine the positive square-root of an array\n",
    "- Evaluate Einstein’s summation convention of two multidimensional NumPy arrays"
   ]
  },
  {
   "cell_type": "markdown",
   "id": "fb312d2c",
   "metadata": {},
   "source": [
    "## Questions on NumPy Statistics\n",
    "- Compute the median of the flattened NumPy array\n",
    "- Find Mean of a List of Numpy Array\n",
    "- Calculate the mean of array ignoring the NaN value\n",
    "- Get the mean value from given matrix\n",
    "- Compute the variance of the NumPy array\n",
    "- Compute the standard deviation of the NumPy array\n",
    "- Compute pearson product-moment correlation coefficients of two given NumPy arrays\n",
    "- Calculate the mean across dimension in a 2D NumPy array\n",
    "- Calculate the average, variance and standard deviation in Python using NumPy\n",
    "- Describe a NumPy Array in Python"
   ]
  },
  {
   "cell_type": "markdown",
   "id": "28814181",
   "metadata": {},
   "source": [
    "# NumPy - Assignment no 03\n",
    "- Here is link of [NumPy - Assignment no 03]()"
   ]
  },
  {
   "cell_type": "code",
   "execution_count": null,
   "id": "32f36229",
   "metadata": {},
   "outputs": [],
   "source": []
  }
 ],
 "metadata": {
  "kernelspec": {
   "display_name": "Python 3 (ipykernel)",
   "language": "python",
   "name": "python3"
  },
  "language_info": {
   "codemirror_mode": {
    "name": "ipython",
    "version": 3
   },
   "file_extension": ".py",
   "mimetype": "text/x-python",
   "name": "python",
   "nbconvert_exporter": "python",
   "pygments_lexer": "ipython3",
   "version": "3.8.10"
  }
 },
 "nbformat": 4,
 "nbformat_minor": 5
}
