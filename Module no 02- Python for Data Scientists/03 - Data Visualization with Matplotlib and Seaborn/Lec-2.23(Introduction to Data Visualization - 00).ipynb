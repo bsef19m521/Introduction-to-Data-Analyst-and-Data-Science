{
 "cells": [
  {
   "cell_type": "markdown",
   "id": "5da34574",
   "metadata": {},
   "source": [
    "---   \n",
    "\n",
    "<h1 align=\"center\">Introduction to Data Analyst and Data Science for beginners</h1>\n",
    "<h1 align=\"center\">Lecture no 2.24(Introduction to Data Visualization-00)</h1>\n",
    "\n",
    "---\n",
    "<h3><div align=\"right\">Ehtisham Sadiq</div></h3>    "
   ]
  },
  {
   "cell_type": "markdown",
   "id": "8b2b14a5",
   "metadata": {},
   "source": [
    "<h2 align='center'>Introduction to Data Visualization in Python</h2>\n"
   ]
  },
  {
   "cell_type": "markdown",
   "id": "309a2f69",
   "metadata": {},
   "source": [
    "## Learning Agenda of Notebook:\n",
    "- What is Data Visualization?\n",
    "- Useful packages for visualizations in python\n",
    " >- Matplotlib\n",
    " >- Seaborn\n",
    " >- Bokeh\n",
    " >- Altair\n",
    " >- Plotly\n",
    " >- ggplot\n",
    "- How to use the right visualization?\n",
    "- Matplotlib\n",
    " >- Introduction to Matplotlib\n",
    " >- Installing Matplotlib\n",
    " >- How to use Matplotlib\n",
    " >- Create a simple plot\n",
    " >- Adding elements to a plot\n",
    " >- Making Multiple Plots in One Figure\n",
    " >- Create Subplots\n",
    " >- Figure Object\n",
    " >- Axes Object\n",
    " >- Different Types of Plots\n",
    " >- Saving Plot\n",
    "- Basic chart types\n",
    " >- Bar Chart using Matplotlib and Seaborn\n",
    " >- Column chart using Matplotlib and Seaborn\n",
    " >- Grouped Bar Chart using Matplotlib and Seaborn\n",
    " >- Stacked Bar Chart using Matplotlib and Seaborn\n",
    " >- Line Chart using Matplotlib and Seaborn\n",
    " >- Pie Chart using Matplotlib and Seaborn\n",
    " >- Area Chart using Matplotlib and Seaborn\n",
    " >- Histogram using Matplotlib and Seaborn\n",
    " >- Line Histogram using Matplotlib and Seaborn\n",
    " >- Scatter Plot using Matplotlib and Seaborn\n",
    " >- Bubble Chart using Matplotlib and Seaborn\n",
    " >- Box Plot using Matplotlib and Seaborn\n",
    " >- Waterfall Chart using Matplotlib and Seaborn\n",
    " >- Venn Diagram\n",
    " >- Tree Map\n",
    " >- 100% stacked bar chart\n",
    " >- Marginal plots\n",
    " >- Subplots"
   ]
  },
  {
   "cell_type": "markdown",
   "id": "555dda70",
   "metadata": {},
   "source": [
    "## What is Data Visualization?\n",
    "<img src=\"images/pythondataviz.png\" height=700px width=700px>\n",
    "\n",
    "- `Data visualization` in python is perhaps one of the most utilized features for data science with python in today’s day and age. The libraries in python come with lots of different features that enable users to make highly customized, elegant, and interactive plots.\n",
    "\n",
    "- In this Lecture, we will cover the usage of Matplotlib and Seaborn, and we will be covering a few of the most commonly used plots in the data science world for easy visualization."
   ]
  },
  {
   "cell_type": "code",
   "execution_count": null,
   "id": "57fdad61",
   "metadata": {},
   "outputs": [],
   "source": []
  },
  {
   "cell_type": "markdown",
   "id": "ba9d4064",
   "metadata": {},
   "source": [
    "## Useful packages for visualizations in python\n",
    "<img src=\"images/DataVisTypes.jpg\" height=500px width=500px>\n",
    "\n",
    "## Matplotlib\n",
    "- Matplotlib is a visualization library in Python for 2D plots of arrays. \n",
    "- Matplotlib is written in Python and makes use of the NumPy library. \n",
    "- Matplotlib comes with a wide variety of plots like line, bar, scatter, histogram, etc. which can help us, deep-dive, into understanding trends, patterns, correlations.\n",
    "\n",
    "## Seaborn\n",
    "- Seaborn is a dataset-oriented library for making statistical representations in Python. \n",
    "- It is developed a top on matplotlib and to create different visualizations. \n",
    "- It is integrated with pandas data structures. The library internally performs the required mapping and aggregation to create informative visuals.\n",
    "\n",
    "## plotly\n",
    "- plotly.py is an interactive, open-source, high-level, declarative, and browser-based visualization library for Python. \n",
    "- It holds an array of useful visualization which includes scientific charts, 3D graphs, statistical charts, financial charts among others. \n",
    "- Plotly graphs can be viewed in Jupyter notebooks, standalone HTML files, or hosted online. \n",
    "\n",
    " \n",
    "\n",
    "## ggplot\n",
    "- ggplot is a Python implementation of the grammar of graphics. The Grammar of Graphics refers to the mapping of data to aesthetic attributes (colour, shape, size) and geometric objects (points, lines, bars). The basic building blocks according to the grammar of graphics are data, geom (geometric objects), stats (statistical transformations), scale, coordinate system, and facet.\n",
    "- Using ggplot in Python allows you to develop informative visualizations incrementally, understanding the nuances of the data first, and then tuning the components to improve the visual representations."
   ]
  },
  {
   "cell_type": "code",
   "execution_count": null,
   "id": "9b95e3dd",
   "metadata": {},
   "outputs": [],
   "source": []
  },
  {
   "cell_type": "markdown",
   "id": "9fc8dc25",
   "metadata": {},
   "source": [
    "## How to use the right visualization?\n",
    "### **Chart Chooser**\n",
    "<img align=\"center\" width=\"650\" height=\"650\"  src=\"images/chartchooser.png\"  >\n"
   ]
  },
  {
   "cell_type": "code",
   "execution_count": null,
   "id": "2f465f45",
   "metadata": {},
   "outputs": [],
   "source": []
  },
  {
   "cell_type": "code",
   "execution_count": null,
   "id": "9b5b8d55",
   "metadata": {},
   "outputs": [],
   "source": []
  },
  {
   "cell_type": "code",
   "execution_count": null,
   "id": "445ba793",
   "metadata": {},
   "outputs": [],
   "source": []
  }
 ],
 "metadata": {
  "kernelspec": {
   "display_name": "Python 3 (ipykernel)",
   "language": "python",
   "name": "python3"
  },
  "language_info": {
   "codemirror_mode": {
    "name": "ipython",
    "version": 3
   },
   "file_extension": ".py",
   "mimetype": "text/x-python",
   "name": "python",
   "nbconvert_exporter": "python",
   "pygments_lexer": "ipython3",
   "version": "3.8.10"
  }
 },
 "nbformat": 4,
 "nbformat_minor": 5
}
