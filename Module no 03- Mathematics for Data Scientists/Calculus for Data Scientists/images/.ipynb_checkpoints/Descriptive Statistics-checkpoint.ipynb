{
 "cells": [
  {
   "cell_type": "markdown",
   "id": "4a87b5ef",
   "metadata": {},
   "source": [
    "---   \n",
    " <img align=\"left\" width=\"75\" height=\"75\"  src=\"https://upload.wikimedia.org/wikipedia/en/c/c8/University_of_the_Punjab_logo.png\"> \n",
    "\n",
    "<h1 align=\"center\">Department of Data Science</h1>\n",
    "<h1 align=\"center\">Course: Tools and Techniques for Data Science</h1>\n",
    "\n",
    "---\n",
    "<h3><div align=\"right\">Instructor: Muhammad Arif Butt, Ph.D.</div></h3>    "
   ]
  },
  {
   "cell_type": "markdown",
   "id": "ab0dc25c",
   "metadata": {},
   "source": [
    "<h1 align=\"center\">Lecture 4.3</h1>"
   ]
  },
  {
   "cell_type": "markdown",
   "id": "19f82705",
   "metadata": {},
   "source": [
    "## _Descriptive Statistics.ipynb_"
   ]
  },
  {
   "cell_type": "markdown",
   "id": "12db95e1",
   "metadata": {},
   "source": [
    "## Learning agenda of this notebook\n",
    "\n",
    "1. Introduction to Descriptive Statistics\n",
    "2. Univariate Analysis\n",
    "    - Frequency Distribution Table, Histogram, Bar plot, Pie chart\n",
    "    - Measure of Centre\n",
    "    - Measure of Spread\n",
    "3. Measure of Asymmetry\n",
    "4. Bivariate Analysis"
   ]
  },
  {
   "cell_type": "markdown",
   "id": "ce756a95",
   "metadata": {},
   "source": [
    "## 1- Descriptive Statistics (Summary)\n",
    "Statistics is divided into two major areas:\n",
    "\n",
    "- Descriptive statistics: describe and summarize data;\n",
    "- Inferential statistics: methods for using sample data to make general conclusions (inferences) about populations.\n",
    "Here, we are focusing on descriptive statistics of both numerical and categorical variables and is divided into two parts:\n",
    "\n",
    "- Measures of central tendency\n",
    "- Measures of spread\n",
    "\n",
    "Also named **Univariate Analysis** (one feature analysis at a time), descriptive statistics, in short, help describe and understand the features of a specific dataset, by giving short numeric summaries about the sample and measures of the data. Descriptive statistics are mere exploration as they do not allows us to make conclusions beyond the data.\n",
    "\n",
    "**Measures of central tendency**\n",
    "- Mean (average): The total sum of values divided by the total observations. The mean is highly sensitive to the outliers\n",
    "- Median (center value): The total count of an ordered sequence of numbers divided by 2. The median is not affected by the outliers\n",
    "- Mode (most common): The values most frequently observed. There can be more than one modal value in the same variable\n",
    "\n",
    "**Measures of spread**\n",
    "- Minimum: The smallest or lowest value\n",
    "- Maximum: The greatest or highest value\n",
    "- The number of uniques (total distinct): The total amount of distinct observations\n",
    "- Uniques (distinct): The distinct values or groups of values observed\n",
    "- Range: Difference between maximum and minimum values\n",
    "- Variance (variability from the mean):* The square of the standard deviation. It is also affected by outliers\n",
    "- Standard deviation (concentrated around the mean): The standard amount of deviation (distance) from the mean. The std is affected by the outliers. It is the square root of the variance\n",
    "- Percentiles: The value below which a percentage of data falls. The 0th percentile is the minimum value, the 100th is the maximum, the 50th is the median\n"
   ]
  },
  {
   "cell_type": "markdown",
   "id": "45f76bef",
   "metadata": {},
   "source": [
    "(https://www.w3schools.com/python/module_statistics.asp)"
   ]
  },
  {
   "cell_type": "markdown",
   "id": "5ff52868",
   "metadata": {},
   "source": [
    "**Statistics Methods**\n",
    "- statistics.harmonic_mean()\tCalculates the harmonic mean (central location) of the given data\n",
    "- statistics.mean()\tCalculates the mean (average) of the given data\n",
    "- statistics.median()\tCalculates the median (middle value) of the given data\n",
    "- statistics.median_grouped()\tCalculates the median of grouped continuous data\n",
    "- statistics.median_high()\tCalculates the high median of the given data\n",
    "- statistics.median_low()\tCalculates the low median of the given data\n",
    "- statistics.mode()\tCalculates the mode (central tendency) of the given numeric or nominal data\n",
    "- statistics.pstdev()\tCalculates the standard deviation from an entire population\n",
    "- statistics.stdev()\tCalculates the standard deviation from a sample of data\n",
    "- statistics.pvariance()\tCalculates the variance of an entire population\n",
    "- statistics.variance()\tCalculates the variance from a sample of data"
   ]
  },
  {
   "cell_type": "code",
   "execution_count": 8,
   "id": "e9285c44",
   "metadata": {},
   "outputs": [
    {
     "name": "stdout",
     "output_type": "stream",
     "text": [
      "7\n",
      "6\n",
      "1.8666666666666667\n"
     ]
    }
   ],
   "source": [
    "# Import statistics Library\n",
    "import statistics\n",
    "\n",
    "# Calculate average values\n",
    "print(statistics.mean([1, 3, 5, 7, 9, 11, 13]))\n",
    "print(statistics.mean([1, 3, 5, 7, 9, 11]))\n",
    "print(statistics.mean([-11, 5.5, -3.4, 7.1, -9, 22]))"
   ]
  },
  {
   "cell_type": "markdown",
   "id": "7ac0c198",
   "metadata": {},
   "source": [
    "The statistics.harmonic_mean() method calculates the harmonic mean (central location) of the given data set.\n",
    "\n",
    "Harmonic mean = The reciprocal of the arithmetic mean() of the reciprocals of the data.\n",
    "\n",
    "The harmonic mean is calculated as follows:\n",
    "\n",
    "If you have four values (a, b, c and d) - it will be equivalent to 4 / (1/a + 1/b + 1/c + 1/d)."
   ]
  },
  {
   "cell_type": "code",
   "execution_count": 7,
   "id": "baea9301",
   "metadata": {},
   "outputs": [
    {
     "name": "stdout",
     "output_type": "stream",
     "text": [
      "55.38461538461538\n",
      "27.97513321492007\n"
     ]
    }
   ],
   "source": [
    "import statistics\n",
    "\n",
    "# Calculate harmonic mean\n",
    "print(statistics.harmonic_mean([40, 60, 80]))\n",
    "print(statistics.harmonic_mean([10, 30, 50, 70, 90]))"
   ]
  },
  {
   "cell_type": "markdown",
   "id": "dcf92567",
   "metadata": {},
   "source": [
    "The statistics.median() method calculates the median (middle value) of the given data set. This method also sorts the data in ascending order before calculating the median.\n",
    "\n",
    "Tip: The mathematical formula for Median is: Median = {(n + 1) / 2}th value, where n is the number of values in a set of data. In order to calculate the median, the data must first be sorted in ascending order. The median is the number in the middle.\n",
    "\n",
    "Note: If the number of data values is odd, it returns the exact middle value. If the number of data values is even, it returns the average of the two middle values."
   ]
  },
  {
   "cell_type": "code",
   "execution_count": 9,
   "id": "99eeeeb8",
   "metadata": {},
   "outputs": [
    {
     "name": "stdout",
     "output_type": "stream",
     "text": [
      "7\n",
      "6.0\n",
      "1.05\n"
     ]
    }
   ],
   "source": [
    "# Import statistics Library\n",
    "import statistics\n",
    "\n",
    "# Calculate middle values\n",
    "print(statistics.median([1, 3, 5, 7, 9, 11, 13]))\n",
    "print(statistics.median([1, 3, 5, 7, 9, 11]))\n",
    "print(statistics.median([-11, 5.5, -3.4, 7.1, -9, 22]))\n"
   ]
  },
  {
   "cell_type": "code",
   "execution_count": 2,
   "id": "95d42349",
   "metadata": {},
   "outputs": [
    {
     "data": {
      "text/plain": [
       "57.2"
      ]
     },
     "execution_count": 2,
     "metadata": {},
     "output_type": "execute_result"
    }
   ],
   "source": [
    "import statistics\n",
    "data = [130, 39, 91, 13, 13]\n",
    "statistics.mean(data)"
   ]
  },
  {
   "cell_type": "code",
   "execution_count": 3,
   "id": "951f5931",
   "metadata": {},
   "outputs": [
    {
     "data": {
      "text/plain": [
       "25.231053604436227"
      ]
     },
     "execution_count": 3,
     "metadata": {},
     "output_type": "execute_result"
    }
   ],
   "source": [
    "statistics.harmonic_mean(data)"
   ]
  },
  {
   "cell_type": "code",
   "execution_count": 5,
   "id": "0c1e640b",
   "metadata": {},
   "outputs": [
    {
     "data": {
      "text/plain": [
       "39"
      ]
     },
     "execution_count": 5,
     "metadata": {},
     "output_type": "execute_result"
    }
   ],
   "source": [
    "statistics.median(data)"
   ]
  },
  {
   "cell_type": "markdown",
   "id": "1d2bba7a",
   "metadata": {},
   "source": [
    "## 2. Univariate Analysis"
   ]
  },
  {
   "cell_type": "markdown",
   "id": "175f6152",
   "metadata": {},
   "source": [
    "### a. Visualizing Distribution using Pie Chart"
   ]
  },
  {
   "cell_type": "code",
   "execution_count": 1,
   "id": "bc3b2d18",
   "metadata": {},
   "outputs": [
    {
     "data": {
      "image/png": "[encoded data removed]",
      "text/plain": [
       "<Figure size 600x400 with 1 Axes>"
      ]
     },
     "metadata": {},
     "output_type": "display_data"
    }
   ],
   "source": [
    "import matplotlib.pyplot as plt\n",
    "import numpy as np\n",
    "\n",
    "# creating a list of students and their marks in two different subjects \n",
    "color = [\"Brown\", \"Black\", \"Blue\", \"Yellow\", \"Gray\"]\n",
    "count = [130, 39, 91, 13, 13]\n",
    "\n",
    "fig, axe = plt.subplots(dpi=100)\n",
    "\n",
    "# plotting pie chart\n",
    "axe.pie(count, labels=count, colors=color)\n",
    "\n",
    "plt.show()"
   ]
  },
  {
   "cell_type": "markdown",
   "id": "bd9cb068",
   "metadata": {},
   "source": [
    "### b. Visualizing Distribution using Histogram"
   ]
  },
  {
   "cell_type": "code",
   "execution_count": 2,
   "id": "43bba03e",
   "metadata": {
    "scrolled": true
   },
   "outputs": [
    {
     "data": {
      "image/png": "[encoded data removed]",
      "text/plain": [
       "<Figure size 432x288 with 1 Axes>"
      ]
     },
     "metadata": {
      "needs_background": "light"
     },
     "output_type": "display_data"
    }
   ],
   "source": [
    "# import the required modules\n",
    "import numpy as np\n",
    "from matplotlib import pyplot as plt\n",
    "\n",
    "count = [13,14,15,14,13, 30,32,32,32, 39,40,41,40,42, 91,89,90,91,90,92, 130,120,122,123,122,122]\n",
    "\n",
    "# plot histogram, which shows the frequncy of numbers\n",
    "plt.hist(count, bins=20)\n",
    "plt.show()\n"
   ]
  },
  {
   "cell_type": "markdown",
   "id": "65692aee",
   "metadata": {},
   "source": [
    "### c. Visualize Frequency Distribution Table using Bar Plot"
   ]
  },
  {
   "cell_type": "code",
   "execution_count": 1,
   "id": "600abde3",
   "metadata": {},
   "outputs": [
    {
     "data": {
      "image/png": "[encoded data removed]",
      "text/plain": [
       "<Figure size 432x288 with 1 Axes>"
      ]
     },
     "metadata": {
      "needs_background": "light"
     },
     "output_type": "display_data"
    }
   ],
   "source": [
    "# import the required modules\n",
    "import numpy as np\n",
    "from matplotlib import pyplot as plt\n",
    "\n",
    "# creating a dict type object\n",
    "category = {\"Audi\": 129, \"BMW\": 88, \"Mercedes\": 113, \"Lexus\": 79, \"KIA\": 115, \"Ford\": 67, \"Suzuki\": 102}\n",
    "\n",
    "# Extracting keys from dictionary\n",
    "names = list(category.keys())\n",
    "# Extracting values from dictionary\n",
    "frequency = list(category.values())\n",
    "\n",
    "# Draw bar plot between category and frequency of the cars\n",
    "plt.bar(names, frequency, color='b', width=0.3)\n",
    "\n",
    "# adding title\n",
    "plt.title(\"Frequncy Distribution Graph\")\n",
    "# adding labels\n",
    "plt.xlabel(\"Categories of Cars\")\n",
    "plt.ylabel(\"Frequency\")\n",
    "\n",
    "# changing tick color on x-axis\n",
    "plt.xticks(color='g')\n",
    "\n",
    "# show plot\n",
    "plt.show()"
   ]
  },
  {
   "cell_type": "markdown",
   "id": "83f259b8",
   "metadata": {},
   "source": [
    "## 3. Measures of Centre\n",
    "Pandas has functions that provide functionality for doing Basic descriptive Statistics on a dataset imported as dataframe. Let us have a look at few examples with code."
   ]
  },
  {
   "cell_type": "markdown",
   "id": "2927b74f",
   "metadata": {},
   "source": [
    "### a. First have some insights about the data"
   ]
  },
  {
   "cell_type": "code",
   "execution_count": 2,
   "id": "aa2ed31c",
   "metadata": {},
   "outputs": [
    {
     "data": {
      "text/html": [
       "<div>\n",
       "<style scoped>\n",
       "    .dataframe tbody tr th:only-of-type {\n",
       "        vertical-align: middle;\n",
       "    }\n",
       "\n",
       "    .dataframe tbody tr th {\n",
       "        vertical-align: top;\n",
       "    }\n",
       "\n",
       "    .dataframe thead th {\n",
       "        text-align: right;\n",
       "    }\n",
       "</style>\n",
       "<table border=\"1\" class=\"dataframe\">\n",
       "  <thead>\n",
       "    <tr style=\"text-align: right;\">\n",
       "      <th></th>\n",
       "      <th>name</th>\n",
       "      <th>age</th>\n",
       "      <th>TestScore_1</th>\n",
       "      <th>TestScore_2</th>\n",
       "    </tr>\n",
       "  </thead>\n",
       "  <tbody>\n",
       "    <tr>\n",
       "      <th>0</th>\n",
       "      <td>Rauf</td>\n",
       "      <td>42</td>\n",
       "      <td>4</td>\n",
       "      <td>25</td>\n",
       "    </tr>\n",
       "    <tr>\n",
       "      <th>1</th>\n",
       "      <td>Hadeed</td>\n",
       "      <td>52</td>\n",
       "      <td>24</td>\n",
       "      <td>94</td>\n",
       "    </tr>\n",
       "    <tr>\n",
       "      <th>2</th>\n",
       "      <td>Maaz</td>\n",
       "      <td>36</td>\n",
       "      <td>31</td>\n",
       "      <td>57</td>\n",
       "    </tr>\n",
       "    <tr>\n",
       "      <th>3</th>\n",
       "      <td>Mujahid</td>\n",
       "      <td>24</td>\n",
       "      <td>2</td>\n",
       "      <td>62</td>\n",
       "    </tr>\n",
       "    <tr>\n",
       "      <th>4</th>\n",
       "      <td>Arif</td>\n",
       "      <td>73</td>\n",
       "      <td>2</td>\n",
       "      <td>70</td>\n",
       "    </tr>\n",
       "  </tbody>\n",
       "</table>\n",
       "</div>"
      ],
      "text/plain": [
       "      name  age  TestScore_1  TestScore_2\n",
       "0     Rauf   42            4           25\n",
       "1   Hadeed   52           24           94\n",
       "2     Maaz   36           31           57\n",
       "3  Mujahid   24            2           62\n",
       "4     Arif   73            2           70"
      ]
     },
     "execution_count": 2,
     "metadata": {},
     "output_type": "execute_result"
    }
   ],
   "source": [
    "import pandas as pd\n",
    "data = {'name': ['Rauf', 'Hadeed', 'Maaz', 'Mujahid', 'Arif'], \n",
    "        'age': [42, 52, 36, 24, 73], \n",
    "        'TestScore_1': [4, 24, 31, 2, 2],\n",
    "        'TestScore_2': [25, 94, 57, 62, 70]}\n",
    "df = pd.DataFrame(data, columns = ['name', 'age', 'TestScore_1', 'TestScore_2'])\n",
    "df"
   ]
  },
  {
   "cell_type": "markdown",
   "id": "8e68e4a9",
   "metadata": {},
   "source": [
    "### b. Basic Stats Functions"
   ]
  },
  {
   "cell_type": "code",
   "execution_count": 5,
   "id": "805cd6cd",
   "metadata": {},
   "outputs": [
    {
     "data": {
      "text/plain": [
       "227"
      ]
     },
     "execution_count": 5,
     "metadata": {},
     "output_type": "execute_result"
    }
   ],
   "source": [
    "#The sum of all the ages\n",
    "df['age'].sum()"
   ]
  },
  {
   "cell_type": "code",
   "execution_count": 6,
   "id": "20a9c53a",
   "metadata": {},
   "outputs": [
    {
     "data": {
      "text/plain": [
       "0     4\n",
       "1    28\n",
       "2    59\n",
       "3    61\n",
       "4    63\n",
       "Name: TestScore_1, dtype: int64"
      ]
     },
     "execution_count": 6,
     "metadata": {},
     "output_type": "execute_result"
    }
   ],
   "source": [
    "#Cumulative sum of TestScore_1s, moving from the rows from the top\n",
    "df['TestScore_1'].cumsum()"
   ]
  },
  {
   "cell_type": "code",
   "execution_count": 7,
   "id": "98dd92c5",
   "metadata": {},
   "outputs": [
    {
     "data": {
      "text/plain": [
       "5"
      ]
     },
     "execution_count": 7,
     "metadata": {},
     "output_type": "execute_result"
    }
   ],
   "source": [
    "# Count the number of non-NA values\n",
    "df['TestScore_1'].count()"
   ]
  },
  {
   "cell_type": "code",
   "execution_count": 8,
   "id": "7a9f3c8b",
   "metadata": {},
   "outputs": [
    {
     "data": {
      "text/plain": [
       "4"
      ]
     },
     "execution_count": 8,
     "metadata": {},
     "output_type": "execute_result"
    }
   ],
   "source": [
    "# Number of uniques (total distinct)\n",
    "df.TestScore_1.nunique()"
   ]
  },
  {
   "cell_type": "code",
   "execution_count": 9,
   "id": "66e0a3d2",
   "metadata": {},
   "outputs": [
    {
     "data": {
      "text/plain": [
       "array([ 4, 24, 31,  2])"
      ]
     },
     "execution_count": 9,
     "metadata": {},
     "output_type": "execute_result"
    }
   ],
   "source": [
    "# Uniques (distinct)\n",
    "df.TestScore_1.unique()"
   ]
  },
  {
   "cell_type": "markdown",
   "id": "8a7072cc",
   "metadata": {},
   "source": [
    "### c. Calculate Mean, Median and Mode"
   ]
  },
  {
   "cell_type": "code",
   "execution_count": 10,
   "id": "80f4a15d",
   "metadata": {},
   "outputs": [
    {
     "data": {
      "text/plain": [
       "12.6"
      ]
     },
     "execution_count": 10,
     "metadata": {},
     "output_type": "execute_result"
    }
   ],
   "source": [
    "#Mean TestScore_1\n",
    "df['TestScore_1'].mean()"
   ]
  },
  {
   "cell_type": "code",
   "execution_count": 11,
   "id": "5201c042",
   "metadata": {},
   "outputs": [
    {
     "data": {
      "text/plain": [
       "61.6"
      ]
     },
     "execution_count": 11,
     "metadata": {},
     "output_type": "execute_result"
    }
   ],
   "source": [
    "#Mean TestScore_2\n",
    "df['TestScore_2'].mean()"
   ]
  },
  {
   "cell_type": "code",
   "execution_count": 12,
   "id": "25cbc267",
   "metadata": {},
   "outputs": [
    {
     "data": {
      "text/plain": [
       "4.0"
      ]
     },
     "execution_count": 12,
     "metadata": {},
     "output_type": "execute_result"
    }
   ],
   "source": [
    "#Median value of TestScore_1\n",
    "df['TestScore_1'].median()"
   ]
  },
  {
   "cell_type": "code",
   "execution_count": 13,
   "id": "f777c28c",
   "metadata": {},
   "outputs": [
    {
     "data": {
      "text/plain": [
       "0    2\n",
       "dtype: int64"
      ]
     },
     "execution_count": 13,
     "metadata": {},
     "output_type": "execute_result"
    }
   ],
   "source": [
    "#Mode value of TestScore_1\n",
    "df['TestScore_1'].mode()"
   ]
  },
  {
   "cell_type": "code",
   "execution_count": null,
   "id": "d158d23f",
   "metadata": {},
   "outputs": [],
   "source": []
  },
  {
   "cell_type": "code",
   "execution_count": null,
   "id": "986eaf18",
   "metadata": {},
   "outputs": [],
   "source": []
  },
  {
   "cell_type": "markdown",
   "id": "32f4a4da",
   "metadata": {},
   "source": [
    "## 4. Measures of Spread"
   ]
  },
  {
   "cell_type": "markdown",
   "id": "717a893d",
   "metadata": {},
   "source": [
    "### a. Calculate Min and Max Values"
   ]
  },
  {
   "cell_type": "code",
   "execution_count": 14,
   "id": "89ecac91",
   "metadata": {},
   "outputs": [
    {
     "data": {
      "text/plain": [
       "2"
      ]
     },
     "execution_count": 14,
     "metadata": {},
     "output_type": "execute_result"
    }
   ],
   "source": [
    "#Minimum value of TestScore_1\n",
    "df['TestScore_1'].min()"
   ]
  },
  {
   "cell_type": "code",
   "execution_count": 15,
   "id": "34daab10",
   "metadata": {},
   "outputs": [
    {
     "data": {
      "text/plain": [
       "31"
      ]
     },
     "execution_count": 15,
     "metadata": {},
     "output_type": "execute_result"
    }
   ],
   "source": [
    "#Maximum value of TestScore_1\n",
    "df['TestScore_1'].max()"
   ]
  },
  {
   "cell_type": "markdown",
   "id": "5d635384",
   "metadata": {},
   "source": [
    "### b. Calculate Range"
   ]
  },
  {
   "cell_type": "code",
   "execution_count": 16,
   "id": "92f38615",
   "metadata": {},
   "outputs": [
    {
     "data": {
      "text/plain": [
       "69"
      ]
     },
     "execution_count": 16,
     "metadata": {},
     "output_type": "execute_result"
    }
   ],
   "source": [
    "#Measuring Range\n",
    "df['TestScore_1'].max() - df['TestScore_1'].min()"
   ]
  },
  {
   "cell_type": "markdown",
   "id": "23010188",
   "metadata": {},
   "source": [
    "### c. Measure Quartiles"
   ]
  },
  {
   "cell_type": "code",
   "execution_count": 17,
   "id": "ee60a9ec",
   "metadata": {},
   "outputs": [
    {
     "data": {
      "text/plain": [
       "0.25     2.0\n",
       "0.50     4.0\n",
       "0.75    24.0\n",
       "Name: TestScore_1, dtype: float64"
      ]
     },
     "execution_count": 17,
     "metadata": {},
     "output_type": "execute_result"
    }
   ],
   "source": [
    "# quantiles\n",
    "df['TestScore_1'].quantile([.25, .5, .75])"
   ]
  },
  {
   "cell_type": "code",
   "execution_count": 8,
   "id": "c23872e0",
   "metadata": {},
   "outputs": [
    {
     "data": {
      "text/html": [
       "<div>\n",
       "<style scoped>\n",
       "    .dataframe tbody tr th:only-of-type {\n",
       "        vertical-align: middle;\n",
       "    }\n",
       "\n",
       "    .dataframe tbody tr th {\n",
       "        vertical-align: top;\n",
       "    }\n",
       "\n",
       "    .dataframe thead th {\n",
       "        text-align: right;\n",
       "    }\n",
       "</style>\n",
       "<table border=\"1\" class=\"dataframe\">\n",
       "  <thead>\n",
       "    <tr style=\"text-align: right;\">\n",
       "      <th></th>\n",
       "      <th>Min</th>\n",
       "      <th>Q1</th>\n",
       "      <th>Median</th>\n",
       "      <th>Q3</th>\n",
       "      <th>Max</th>\n",
       "    </tr>\n",
       "    <tr>\n",
       "      <th>5-n summary</th>\n",
       "      <th></th>\n",
       "      <th></th>\n",
       "      <th></th>\n",
       "      <th></th>\n",
       "      <th></th>\n",
       "    </tr>\n",
       "  </thead>\n",
       "  <tbody>\n",
       "    <tr>\n",
       "      <th>TestScore_1</th>\n",
       "      <td>2</td>\n",
       "      <td>2.0</td>\n",
       "      <td>4.0</td>\n",
       "      <td>24.0</td>\n",
       "      <td>31</td>\n",
       "    </tr>\n",
       "  </tbody>\n",
       "</table>\n",
       "</div>"
      ],
      "text/plain": [
       "             Min   Q1  Median    Q3  Max\n",
       "5-n summary                             \n",
       "TestScore_1    2  2.0     4.0  24.0   31"
      ]
     },
     "execution_count": 8,
     "metadata": {},
     "output_type": "execute_result"
    }
   ],
   "source": [
    "# Visulaize Quartiles using Dataframe\n",
    "import pandas as pd\n",
    "import matplotlib.pyplot as plt\n",
    "import seaborn as sns\n",
    "\n",
    "# Create a dataframe and display the 5-n summary stats\n",
    "box = {\"5-n summary\": [\"TestScore_1\"],\n",
    "           \"Min\": [df.TestScore_1.min()],\n",
    "           \"Q1\": [df.TestScore_1.quantile(.25)],\n",
    "           \"Median\": [df.TestScore_1.quantile(.5)],\n",
    "           \"Q3\": [df.TestScore_1.quantile(.75)],\n",
    "           \"Max\": [df.TestScore_1.max()]\n",
    "}\n",
    "plot = pd.DataFrame(box, columns=[\"5-n summary\",\"Min\",\"Q1\",\"Median\",\"Q3\",\"Max\"])\n",
    "plot.set_index(\"5-n summary\", inplace=True)\n",
    "plot\n"
   ]
  },
  {
   "cell_type": "markdown",
   "id": "22386e7d",
   "metadata": {},
   "source": [
    "### d. Calculate Variance"
   ]
  },
  {
   "cell_type": "code",
   "execution_count": 19,
   "id": "09d95f6e",
   "metadata": {},
   "outputs": [
    {
     "data": {
      "text/plain": [
       "191.8"
      ]
     },
     "execution_count": 19,
     "metadata": {},
     "output_type": "execute_result"
    }
   ],
   "source": [
    "#Sample variance of TestScore_1 values\n",
    "df['TestScore_1'].var()"
   ]
  },
  {
   "cell_type": "markdown",
   "id": "ebcf097b",
   "metadata": {},
   "source": [
    "### e. Calculate Standard Deviation"
   ]
  },
  {
   "cell_type": "code",
   "execution_count": 20,
   "id": "8ceabad0",
   "metadata": {},
   "outputs": [
    {
     "data": {
      "text/plain": [
       "13.849187701811251"
      ]
     },
     "execution_count": 20,
     "metadata": {},
     "output_type": "execute_result"
    }
   ],
   "source": [
    "#Sample standard deviation of TestScore_1 values\n",
    "df['TestScore_1'].std()"
   ]
  },
  {
   "cell_type": "markdown",
   "id": "d0893720",
   "metadata": {},
   "source": [
    "### f. Summary Statistics"
   ]
  },
  {
   "cell_type": "code",
   "execution_count": 21,
   "id": "c64ac33b",
   "metadata": {},
   "outputs": [
    {
     "data": {
      "text/html": [
       "<div>\n",
       "<style scoped>\n",
       "    .dataframe tbody tr th:only-of-type {\n",
       "        vertical-align: middle;\n",
       "    }\n",
       "\n",
       "    .dataframe tbody tr th {\n",
       "        vertical-align: top;\n",
       "    }\n",
       "\n",
       "    .dataframe thead th {\n",
       "        text-align: right;\n",
       "    }\n",
       "</style>\n",
       "<table border=\"1\" class=\"dataframe\">\n",
       "  <thead>\n",
       "    <tr style=\"text-align: right;\">\n",
       "      <th></th>\n",
       "      <th>age</th>\n",
       "      <th>TestScore_1</th>\n",
       "      <th>TestScore_2</th>\n",
       "    </tr>\n",
       "  </thead>\n",
       "  <tbody>\n",
       "    <tr>\n",
       "      <th>count</th>\n",
       "      <td>5.000000</td>\n",
       "      <td>5.000000</td>\n",
       "      <td>5.000000</td>\n",
       "    </tr>\n",
       "    <tr>\n",
       "      <th>mean</th>\n",
       "      <td>45.400000</td>\n",
       "      <td>12.600000</td>\n",
       "      <td>61.600000</td>\n",
       "    </tr>\n",
       "    <tr>\n",
       "      <th>std</th>\n",
       "      <td>18.460769</td>\n",
       "      <td>13.849188</td>\n",
       "      <td>24.905823</td>\n",
       "    </tr>\n",
       "    <tr>\n",
       "      <th>min</th>\n",
       "      <td>24.000000</td>\n",
       "      <td>2.000000</td>\n",
       "      <td>25.000000</td>\n",
       "    </tr>\n",
       "    <tr>\n",
       "      <th>25%</th>\n",
       "      <td>36.000000</td>\n",
       "      <td>2.000000</td>\n",
       "      <td>57.000000</td>\n",
       "    </tr>\n",
       "    <tr>\n",
       "      <th>50%</th>\n",
       "      <td>42.000000</td>\n",
       "      <td>4.000000</td>\n",
       "      <td>62.000000</td>\n",
       "    </tr>\n",
       "    <tr>\n",
       "      <th>75%</th>\n",
       "      <td>52.000000</td>\n",
       "      <td>24.000000</td>\n",
       "      <td>70.000000</td>\n",
       "    </tr>\n",
       "    <tr>\n",
       "      <th>max</th>\n",
       "      <td>73.000000</td>\n",
       "      <td>31.000000</td>\n",
       "      <td>94.000000</td>\n",
       "    </tr>\n",
       "  </tbody>\n",
       "</table>\n",
       "</div>"
      ],
      "text/plain": [
       "             age  TestScore_1  TestScore_2\n",
       "count   5.000000     5.000000     5.000000\n",
       "mean   45.400000    12.600000    61.600000\n",
       "std    18.460769    13.849188    24.905823\n",
       "min    24.000000     2.000000    25.000000\n",
       "25%    36.000000     2.000000    57.000000\n",
       "50%    42.000000     4.000000    62.000000\n",
       "75%    52.000000    24.000000    70.000000\n",
       "max    73.000000    31.000000    94.000000"
      ]
     },
     "execution_count": 21,
     "metadata": {},
     "output_type": "execute_result"
    }
   ],
   "source": [
    "df.describe()"
   ]
  },
  {
   "cell_type": "code",
   "execution_count": 22,
   "id": "3c69af84",
   "metadata": {},
   "outputs": [
    {
     "data": {
      "text/plain": [
       "count     5.000000\n",
       "mean     12.600000\n",
       "std      13.849188\n",
       "min       2.000000\n",
       "25%       2.000000\n",
       "50%       4.000000\n",
       "75%      24.000000\n",
       "max      31.000000\n",
       "Name: TestScore_1, dtype: float64"
      ]
     },
     "execution_count": 22,
     "metadata": {},
     "output_type": "execute_result"
    }
   ],
   "source": [
    "#Summary statistics on TestScore_1\n",
    "df['TestScore_1'].describe()"
   ]
  },
  {
   "cell_type": "code",
   "execution_count": null,
   "id": "3d55e877",
   "metadata": {},
   "outputs": [],
   "source": []
  },
  {
   "cell_type": "markdown",
   "id": "ea9365d9",
   "metadata": {},
   "source": [
    "## 5. Measures of Asymmetry"
   ]
  },
  {
   "cell_type": "markdown",
   "id": "e7f80ca2",
   "metadata": {},
   "source": [
    "### a. Calculate Skewness\n",
    "In a perfect world, the data’s distribution assumes the form of a bell curve (Gaussian or normally distributed), but in the real world, data distributions usually are not symmetric (= skewed). Therefore, the skewness indicates how much our distribution derives from the normal distribution (with the skewness value of zero or very close).\n",
    "\n",
    "There are three generic types of distributions:\n",
    "\n",
    "- **Symmetrical** (median = mean): In a normal distribution, the mean (average) divides the data symmetrically at the median value or close.\n",
    "- **Positive skew** (median < mean): The distribution is asymmetrical, the tail is skewed/longer towards the right-hand side of the curve. In this type, the majority of the observations are concentrated on the left tail, and the value of skewness is positive.\n",
    "- **Negative skew** (median > mean): The distribution is asymmetrical and the tail is skewed/longer towards the left-hand side of the curve. In this type of distribution, the majority of the observations are concentrated on the right tail, and the value of skewness is negative.\n",
    "\n",
    "\n",
    "**Rule of thumbs**:\n",
    "\n",
    "- Symmetric distribution: values between -0.5 to 0.5.\n",
    "- Moderate skew: values between -1 and -0.5 and 0.5 and 1.\n",
    "- High skew: values <-1 or >1."
   ]
  },
  {
   "cell_type": "code",
   "execution_count": 23,
   "id": "394ed724",
   "metadata": {},
   "outputs": [
    {
     "data": {
      "text/plain": [
       "0.7361438811968963"
      ]
     },
     "execution_count": 23,
     "metadata": {},
     "output_type": "execute_result"
    }
   ],
   "source": [
    "#Skewness of preTestScore values\n",
    "df['TestScore_1'].skew()"
   ]
  },
  {
   "cell_type": "markdown",
   "id": "8cf91062",
   "metadata": {},
   "source": [
    "### b. Calculate Kurtosis\n",
    "kurtosis is another useful tool when it comes to quantify the shape of a distribution. It measures both how long are the tails, but most important, and how sharp is the peak of the distributions. If the distribution has a sharper and taller peak and shorter tails, then it has a higher kurtosis while a low kurtosis can be observed when the peak of the distribution is flatter with thinner tails. There are three types of kurtosis:\n",
    "\n",
    "- **Leptokurtic**: The distribution is tall and thin. The value of a leptokurtic must be > 3.\n",
    "- **Mesokurtic**: This distribution looks the same or very similar to a normal distribution. The value of a “normal” mesokurtic is = 3.\n",
    "- **Platykurtic**: The distributions have a flatter and wider peak and thinner tails, meaning that the data is moderately spread out. The value of a platykurtic must be < 3."
   ]
  },
  {
   "cell_type": "code",
   "execution_count": 24,
   "id": "f0989828",
   "metadata": {},
   "outputs": [
    {
     "data": {
      "text/plain": [
       "-2.4874875092559288"
      ]
     },
     "execution_count": 24,
     "metadata": {},
     "output_type": "execute_result"
    }
   ],
   "source": [
    "#Kurtosis of TestScore_1 values\n",
    "df['TestScore_1'].kurt()"
   ]
  },
  {
   "cell_type": "code",
   "execution_count": null,
   "id": "e170aaf5",
   "metadata": {},
   "outputs": [],
   "source": []
  },
  {
   "cell_type": "markdown",
   "id": "beecc026",
   "metadata": {},
   "source": [
    "## 6. Bivariate Analysis"
   ]
  },
  {
   "cell_type": "markdown",
   "id": "41d7c500",
   "metadata": {},
   "source": [
    "### a. Creating a Dataframe"
   ]
  },
  {
   "cell_type": "code",
   "execution_count": 25,
   "id": "efd7c51e",
   "metadata": {},
   "outputs": [
    {
     "data": {
      "text/html": [
       "<div>\n",
       "<style scoped>\n",
       "    .dataframe tbody tr th:only-of-type {\n",
       "        vertical-align: middle;\n",
       "    }\n",
       "\n",
       "    .dataframe tbody tr th {\n",
       "        vertical-align: top;\n",
       "    }\n",
       "\n",
       "    .dataframe thead th {\n",
       "        text-align: right;\n",
       "    }\n",
       "</style>\n",
       "<table border=\"1\" class=\"dataframe\">\n",
       "  <thead>\n",
       "    <tr style=\"text-align: right;\">\n",
       "      <th></th>\n",
       "      <th>Caloric Intake</th>\n",
       "      <th>Weight</th>\n",
       "    </tr>\n",
       "  </thead>\n",
       "  <tbody>\n",
       "    <tr>\n",
       "      <th>0</th>\n",
       "      <td>3500</td>\n",
       "      <td>250</td>\n",
       "    </tr>\n",
       "    <tr>\n",
       "      <th>1</th>\n",
       "      <td>2000</td>\n",
       "      <td>225</td>\n",
       "    </tr>\n",
       "    <tr>\n",
       "      <th>2</th>\n",
       "      <td>1500</td>\n",
       "      <td>110</td>\n",
       "    </tr>\n",
       "    <tr>\n",
       "      <th>3</th>\n",
       "      <td>2250</td>\n",
       "      <td>145</td>\n",
       "    </tr>\n",
       "    <tr>\n",
       "      <th>4</th>\n",
       "      <td>4500</td>\n",
       "      <td>380</td>\n",
       "    </tr>\n",
       "  </tbody>\n",
       "</table>\n",
       "</div>"
      ],
      "text/plain": [
       "   Caloric Intake  Weight\n",
       "0            3500     250\n",
       "1            2000     225\n",
       "2            1500     110\n",
       "3            2250     145\n",
       "4            4500     380"
      ]
     },
     "execution_count": 25,
     "metadata": {},
     "output_type": "execute_result"
    }
   ],
   "source": [
    "import pandas as pd\n",
    "data = {'Caloric Intake': [3500, 2000, 1500, 2250, 4500],\n",
    "        'Weight': [250, 225, 110, 145, 380]}\n",
    "df1 = pd.DataFrame(data, columns = ['Caloric Intake', 'Weight'])\n",
    "df1"
   ]
  },
  {
   "cell_type": "markdown",
   "id": "67827393",
   "metadata": {},
   "source": [
    "### b. Measure Covariance Matrix\n",
    "A covariance matrix is used to study the direction of the linear relationship between variables. Covariance tells us if two values are moving in the same direction. The covariance values of the variable can lie anywhere between -∞ to +∞. \n",
    "- A negative value indicates a negative relationship \n",
    "- whereas a positive value indicates a positive relationship between the variables. \n",
    "- When the covariance value is zero, it indicates that there is no relationship between the variables."
   ]
  },
  {
   "cell_type": "code",
   "execution_count": 26,
   "id": "8048dbbd",
   "metadata": {},
   "outputs": [
    {
     "data": {
      "text/html": [
       "<div>\n",
       "<style scoped>\n",
       "    .dataframe tbody tr th:only-of-type {\n",
       "        vertical-align: middle;\n",
       "    }\n",
       "\n",
       "    .dataframe tbody tr th {\n",
       "        vertical-align: top;\n",
       "    }\n",
       "\n",
       "    .dataframe thead th {\n",
       "        text-align: right;\n",
       "    }\n",
       "</style>\n",
       "<table border=\"1\" class=\"dataframe\">\n",
       "  <thead>\n",
       "    <tr style=\"text-align: right;\">\n",
       "      <th></th>\n",
       "      <th>Caloric Intake</th>\n",
       "      <th>Weight</th>\n",
       "    </tr>\n",
       "  </thead>\n",
       "  <tbody>\n",
       "    <tr>\n",
       "      <th>Caloric Intake</th>\n",
       "      <td>1500000.0</td>\n",
       "      <td>118437.5</td>\n",
       "    </tr>\n",
       "    <tr>\n",
       "      <th>Weight</th>\n",
       "      <td>118437.5</td>\n",
       "      <td>11057.5</td>\n",
       "    </tr>\n",
       "  </tbody>\n",
       "</table>\n",
       "</div>"
      ],
      "text/plain": [
       "                Caloric Intake    Weight\n",
       "Caloric Intake       1500000.0  118437.5\n",
       "Weight                118437.5   11057.5"
      ]
     },
     "execution_count": 26,
     "metadata": {},
     "output_type": "execute_result"
    }
   ],
   "source": [
    "#Covariance Matrix Of Values\n",
    "df1.cov()"
   ]
  },
  {
   "cell_type": "markdown",
   "id": "08edce37",
   "metadata": {},
   "source": [
    "### c. Measure Correlation Matrix\n",
    "A correlation matrix is used to study the strength of a relationship between two variables. It not only shows the direction of the relationship, but also shows how strong the relationship is. The correlation value of two variables ranges from -1 to +1. \n",
    "- A value close to +1 indicates a strong positive relation \n",
    "- a value close to -1 indicates a strong negative correlation.\n",
    "- 0 means they are independent"
   ]
  },
  {
   "cell_type": "code",
   "execution_count": 27,
   "id": "c2111490",
   "metadata": {},
   "outputs": [
    {
     "data": {
      "text/html": [
       "<div>\n",
       "<style scoped>\n",
       "    .dataframe tbody tr th:only-of-type {\n",
       "        vertical-align: middle;\n",
       "    }\n",
       "\n",
       "    .dataframe tbody tr th {\n",
       "        vertical-align: top;\n",
       "    }\n",
       "\n",
       "    .dataframe thead th {\n",
       "        text-align: right;\n",
       "    }\n",
       "</style>\n",
       "<table border=\"1\" class=\"dataframe\">\n",
       "  <thead>\n",
       "    <tr style=\"text-align: right;\">\n",
       "      <th></th>\n",
       "      <th>Caloric Intake</th>\n",
       "      <th>Weight</th>\n",
       "    </tr>\n",
       "  </thead>\n",
       "  <tbody>\n",
       "    <tr>\n",
       "      <th>Caloric Intake</th>\n",
       "      <td>1.000000</td>\n",
       "      <td>0.919634</td>\n",
       "    </tr>\n",
       "    <tr>\n",
       "      <th>Weight</th>\n",
       "      <td>0.919634</td>\n",
       "      <td>1.000000</td>\n",
       "    </tr>\n",
       "  </tbody>\n",
       "</table>\n",
       "</div>"
      ],
      "text/plain": [
       "                Caloric Intake    Weight\n",
       "Caloric Intake        1.000000  0.919634\n",
       "Weight                0.919634  1.000000"
      ]
     },
     "execution_count": 27,
     "metadata": {},
     "output_type": "execute_result"
    }
   ],
   "source": [
    "#Correlation Matrix Of Values\n",
    "df1.corr()"
   ]
  },
  {
   "cell_type": "code",
   "execution_count": null,
   "id": "fde82cbb",
   "metadata": {},
   "outputs": [],
   "source": []
  },
  {
   "cell_type": "code",
   "execution_count": null,
   "id": "44a25bf0",
   "metadata": {},
   "outputs": [],
   "source": []
  },
  {
   "cell_type": "code",
   "execution_count": null,
   "id": "21e89687",
   "metadata": {},
   "outputs": [],
   "source": []
  }
 ],
 "metadata": {
  "kernelspec": {
   "display_name": "Python 3",
   "language": "python",
   "name": "python3"
  },
  "language_info": {
   "codemirror_mode": {
    "name": "ipython",
    "version": 3
   },
   "file_extension": ".py",
   "mimetype": "text/x-python",
   "name": "python",
   "nbconvert_exporter": "python",
   "pygments_lexer": "ipython3",
   "version": "3.8.8"
  }
 },
 "nbformat": 4,
 "nbformat_minor": 5
}
