{
 "cells": [
  {
   "cell_type": "code",
   "execution_count": null,
   "id": "2569604b",
   "metadata": {},
   "outputs": [],
   "source": []
  },
  {
   "cell_type": "markdown",
   "id": "afe9b471",
   "metadata": {},
   "source": [
    "---   \n",
    "\n",
    "<h1 align=\"center\">Introduction to Data Analyst and Data Science for beginners</h1>\n",
    "<h1 align=\"center\">Lecture no 14</h1>\n",
    "\n",
    "---\n",
    "<h3><div align=\"right\">Ehtisham Sadiq</div></h3>    "
   ]
  },
  {
   "cell_type": "markdown",
   "id": "4e6fa84e",
   "metadata": {},
   "source": [
    "<h1 align=\"center\">Lecture 2.14</h1>"
   ]
  },
  {
   "cell_type": "markdown",
   "id": "3f009d4a",
   "metadata": {},
   "source": [
    "## _Python Built-in Modules.ipynb_\n",
    "#### [Check out the full list of Python Built-in modules](https://docs.python.org/3/py-modindex.html)"
   ]
  },
  {
   "cell_type": "markdown",
   "id": "6fb1e84f",
   "metadata": {},
   "source": [
    "## Learning agenda of this notebook\n",
    "Python has tons of Built-in modules that can be read from above link. In this notebook file, we will be discussing a short but important subset of it:\n",
    "1. What are Python Built-in Modules\n",
    "2. Different ways to import a Module in Python\n",
    "3. The Math Module \n",
    "4. The Random Module\n",
    "5. The Time Module\n",
    "6. The DateTime Module\n",
    "7. The Calendar Module\n",
    "8. The OS Module\n",
    "9. The URLLIB Module\n",
    "10. Statistics Module"
   ]
  },
  {
   "cell_type": "code",
   "execution_count": null,
   "id": "6b384f96",
   "metadata": {},
   "outputs": [],
   "source": [
    "# import atm as at "
   ]
  },
  {
   "cell_type": "code",
   "execution_count": null,
   "id": "3e9859d2",
   "metadata": {},
   "outputs": [],
   "source": []
  },
  {
   "cell_type": "markdown",
   "id": "50ad5e55",
   "metadata": {},
   "source": [
    "## 1.  What are Python Built-in Modules\n",
    "- In Python, Modules are simply files with the `. py` extension containing Python code (variables, functions, classes etc) that can be imported inside another Python Program. \n",
    "- You can think of Python module like a C library, which is linked with C program during the linking phase.\n",
    "- Some advantages of Modular programming are:\n",
    ">- **Modularity:** We use modules to break down large programs into small manageable and organized files. \n",
    ">- **Simplicity:** Rather than focusing the entire problem at hand, a module typically focuses on one relatively small portion of the problem.\n",
    ">- **Maintainability:** Modules are typically designed so that they enforce logical boundries between different problem domains.\n",
    ">- **Reusability:** Functionality defined in a single module can be easily reused (through an appropriately defined interface) by other parts of the application. This eliminates the need to duplicate code. We can define our most used functions in a module and import it, instead of copying their definitions into different programs.\n",
    ">- **Scoping:** Modules typically define a separate namespace, which helps avoid collisions between identifiers in different areas of a program. The key benefit of using modules is _namespaces_: you must import the module to use its functions within a Python script or notebook. Namespaces provide encapsulation and avoid naming conflicts between your code and a module or across modules.\n",
    "\n",
    "\n",
    "**Note**: - A module is a single file of Python code that is meant to be imported, while a Python package is a simple directory having collections of Python modules under a common namespace. "
   ]
  },
  {
   "cell_type": "code",
   "execution_count": null,
   "id": "3d688504",
   "metadata": {},
   "outputs": [],
   "source": [
    "# Modules -> Single file of code\n",
    "# Packages -> Multiple files of code"
   ]
  },
  {
   "cell_type": "markdown",
   "id": "7922ac39",
   "metadata": {},
   "source": [
    "## 2. Ways to Import a Python Module\n",
    "- Python math module contains rich set of functions, that allows you to perform mathematical tasks on numbers.\n",
    "- Since the math module comes packaged with the Python release, you don't have to install it separately. Using it is just a matter of importing the module"
   ]
  },
  {
   "cell_type": "markdown",
   "id": "41737b29",
   "metadata": {},
   "source": [
    "### a. Option 1: `import math`\n",
    ">- We can use the **`import`** keyword to import a module, and later using the module name we can access its functions using the dot . operator, like `math.ceil()`  "
   ]
  },
  {
   "cell_type": "code",
   "execution_count": null,
   "id": "unable-plasma",
   "metadata": {},
   "outputs": [],
   "source": [
    "import math\n",
    "# math.pow(3,5)"
   ]
  },
  {
   "cell_type": "code",
   "execution_count": null,
   "id": "d48f3f31",
   "metadata": {},
   "outputs": [],
   "source": [
    "# We have seen the use of dir() function. When called without argument it displays symbols of current module\n",
    "print(dir())\n",
    "# del x"
   ]
  },
  {
   "cell_type": "markdown",
   "id": "injured-arbitration",
   "metadata": {},
   "source": [
    "Python dir() function returns the list of names in the current local scope. If the object on which method is called has a method named __dir__(), this method will be called and must return the list of attributes. It takes a single object type argument."
   ]
  },
  {
   "cell_type": "code",
   "execution_count": null,
   "id": "touched-conditions",
   "metadata": {},
   "outputs": [],
   "source": [
    "print(dir(math))"
   ]
  },
  {
   "cell_type": "code",
   "execution_count": null,
   "id": "40bd84f0",
   "metadata": {},
   "outputs": [],
   "source": [
    "print(math.__doc__ , math.__name__ , math.__package__)"
   ]
  },
  {
   "cell_type": "code",
   "execution_count": null,
   "id": "eb9c6a0c",
   "metadata": {},
   "outputs": [],
   "source": [
    "# import math"
   ]
  },
  {
   "cell_type": "code",
   "execution_count": null,
   "id": "22cd180f",
   "metadata": {},
   "outputs": [],
   "source": [
    "import math\n",
    "# print(dir())\n",
    "\n",
    "print(math.ceil(2.3)) #ceil function for positive value round up our value \n",
    "# and for negative value , function round downs our value\n",
    "\n",
    "print(math.floor(-17.2)) # It is opposite of ceil function\n",
    "\n",
    "print(math.factorial(10))"
   ]
  },
  {
   "cell_type": "markdown",
   "id": "front-effectiveness",
   "metadata": {},
   "source": [
    "math.ceil() function returns the smallest integral value greater than the number. If number is already integer, same number is returned."
   ]
  },
  {
   "cell_type": "markdown",
   "id": "cdf3c072",
   "metadata": {},
   "source": [
    "### b. Option 2: `import math as m`\n",
    ">- We can also import a module by using a short alias, thus saving typing time in some cases. Note that in this case, the name `math` will not be recognized in our scope. Hence, `math.ceil()` is invalid and `m.ceil()` is the correct implementation."
   ]
  },
  {
   "cell_type": "code",
   "execution_count": null,
   "id": "31e728bc",
   "metadata": {},
   "outputs": [],
   "source": [
    "import math as m\n",
    "print(dir())\n",
    "print(m.ceil(2.3))\n",
    "print(m.floor(45.5))"
   ]
  },
  {
   "cell_type": "markdown",
   "id": "a6ace8fb",
   "metadata": {},
   "source": [
    "### c. Option 3:`from math import ceil`        OR       `from math import ceil, floor`\n",
    ">- We can use the **`from`** keyword to import specific name(s) from a module instead of importing the entire contents of a module. This way we don't have to use the dot operator and can access the function directly by its name"
   ]
  },
  {
   "cell_type": "code",
   "execution_count": null,
   "id": "b62713ff",
   "metadata": {},
   "outputs": [],
   "source": [
    "from math import ceil, floor, pow\n",
    "print(dir())\n",
    "ceil(2.3)"
   ]
  },
  {
   "cell_type": "markdown",
   "id": "53ef1c74",
   "metadata": {},
   "source": [
    "### d. Option 4:`from mymath import *`\n",
    ">- We can import all the attributes from a module using asterik `*` construct. The difference between `import math` and `from math import *` is that in the later case you can don't have to use the dot operator and can directly use the functions, e.g., `ceil()`\n"
   ]
  },
  {
   "cell_type": "code",
   "execution_count": null,
   "id": "d4b2c91d",
   "metadata": {},
   "outputs": [],
   "source": []
  },
  {
   "cell_type": "code",
   "execution_count": null,
   "id": "50342f76",
   "metadata": {
    "scrolled": true
   },
   "outputs": [],
   "source": [
    "from math import *\n",
    "print(dir())\n",
    "ceil(2.3), ceil(4.5)"
   ]
  },
  {
   "cell_type": "code",
   "execution_count": null,
   "id": "7ff51934",
   "metadata": {},
   "outputs": [],
   "source": [
    "floor(5.7), pow(5,4), sin(30)"
   ]
  },
  {
   "cell_type": "code",
   "execution_count": null,
   "id": "587b4cf3",
   "metadata": {},
   "outputs": [],
   "source": []
  },
  {
   "cell_type": "markdown",
   "id": "e7e56f88",
   "metadata": {},
   "source": [
    "## 3. The `math` Module\n",
    "- Python math module contains rich set of functions, that allows you to perform mathematical tasks on numbers.\n",
    "- Since the math module comes packaged with the Python release, you don't have to install it separately. Using it is just a matter of importing the module\n",
    "#### [Read Python Documentation for details about `math` module](https://docs.python.org/3/library/math.html#module-math)"
   ]
  },
  {
   "cell_type": "markdown",
   "id": "08897acc",
   "metadata": {},
   "source": [
    "### a. Constants of Math Module"
   ]
  },
  {
   "cell_type": "markdown",
   "id": "d28fdb10",
   "metadata": {},
   "source": [
    "- **PI:** \n",
    "    - PI is the ratio of a circle's circumference (c) to its diameter (d).\n",
    "    - It is an irrational number, so it can be approximated to the value 22/7 = 3.141592...\n",
    "    - You can access its value since it is defined as a constant inside the math module with the name of 'pi', and is given correct upto 15 digits after the decimal point\n",
    "    - Pi has been calculated to over 50 trillion digits beyond its decimal point.  PI’s infinite nature makes it a fun challenge to memorize, and to computationally calculate more and more digits\n",
    "    - Pi Day is celebrated on March 14th (3/14) around the world. "
   ]
  },
  {
   "cell_type": "code",
   "execution_count": null,
   "id": "dated-rings",
   "metadata": {},
   "outputs": [],
   "source": [
    "# First Method\n",
    "from math import *\n",
    "pi"
   ]
  },
  {
   "cell_type": "code",
   "execution_count": null,
   "id": "471f1e31",
   "metadata": {},
   "outputs": [],
   "source": [
    "# Second Method\n",
    "import math\n",
    "math.pi"
   ]
  },
  {
   "cell_type": "markdown",
   "id": "67d637ae",
   "metadata": {},
   "source": [
    "- **TAU:**\n",
    "    - TAU is the ratio of a circule's circumference (c) to its radius (r).\n",
    "    - This constant is equal to 2PI, or roughly 6.28\n",
    "    - Like PI, TAU is also an irrational number, and can be approximated to the value 2PI = 6.28318..."
   ]
  },
  {
   "cell_type": "code",
   "execution_count": null,
   "id": "028c43a3",
   "metadata": {},
   "outputs": [],
   "source": [
    "# First Method\n",
    "from math import *\n",
    "tau"
   ]
  },
  {
   "cell_type": "code",
   "execution_count": null,
   "id": "e0172761",
   "metadata": {},
   "outputs": [],
   "source": [
    "import math\n",
    "math.tau"
   ]
  },
  {
   "cell_type": "code",
   "execution_count": null,
   "id": "006b7b85",
   "metadata": {},
   "outputs": [],
   "source": []
  },
  {
   "cell_type": "markdown",
   "id": "ada0eb14",
   "metadata": {},
   "source": [
    "- **Euler's Number:**\n",
    "    - Euler's number (e) is a constant that is the base of natural logarithm.\n",
    "    - It is a mathematical function that is commonly used to calculate rates of growth of decay.\n",
    "    - As with PI and TAU, `e` is also an irrational number with approximated value of 2.718"
   ]
  },
  {
   "cell_type": "code",
   "execution_count": null,
   "id": "4444763e",
   "metadata": {},
   "outputs": [],
   "source": [
    "math.e"
   ]
  },
  {
   "cell_type": "markdown",
   "id": "f580b099",
   "metadata": {},
   "source": [
    "- **Infinity:**\n",
    "    - Infinity can't be defined by a number or a numeric value\n",
    "    - It is a mathematical concept representing something that is never ending or boundless.\n",
    "    - Infinity can go in either direction (positive as well as negative)\n",
    "    - `math.inf` (added to Python 3.5) is a special data type equivalent to a float"
   ]
  },
  {
   "cell_type": "code",
   "execution_count": null,
   "id": "4ea12edb",
   "metadata": {},
   "outputs": [],
   "source": [
    "math.inf"
   ]
  },
  {
   "cell_type": "code",
   "execution_count": null,
   "id": "ba1e2b3d",
   "metadata": {},
   "outputs": [],
   "source": [
    "type(math.inf)"
   ]
  },
  {
   "cell_type": "code",
   "execution_count": null,
   "id": "5c66b5f7",
   "metadata": {},
   "outputs": [],
   "source": [
    "# Proof of concept: Positive infinity is greater than any highest known number\n",
    "math.inf > 99993999999999929999999999456748884839999883"
   ]
  },
  {
   "cell_type": "code",
   "execution_count": null,
   "id": "ae6a078d",
   "metadata": {},
   "outputs": [],
   "source": [
    "# Proof of concept: Negative infinity is smaller than any smallest known number\n",
    "-math.inf < -91876999999999999999999999954309873211234"
   ]
  },
  {
   "cell_type": "code",
   "execution_count": null,
   "id": "679b347a",
   "metadata": {},
   "outputs": [],
   "source": [
    "# Proof of concept: Whatever number is added/subtracted to positive infinity, the result is positive infinity\n",
    "math.inf + 3249876999999995455668679656836656943"
   ]
  },
  {
   "cell_type": "code",
   "execution_count": null,
   "id": "b60723b7",
   "metadata": {},
   "outputs": [],
   "source": [
    "#### Proof of concept: Whatever number is subtracted/added from negative infinity, the result is negative infinity\n",
    "-math.inf - 324999999999876543874399795545"
   ]
  },
  {
   "cell_type": "markdown",
   "id": "18f35283",
   "metadata": {},
   "source": [
    "- **NaN (Not a Number):**\n",
    "    - Not a Number is not a mathematical concept, rather is introduced in the field of computer science as a reference to values that are not numeric\n",
    "    - `NaN` value can be due to invalid inputs, or it can indicate that a variable that should be numerical has been corrupted by text characters or symbols"
   ]
  },
  {
   "cell_type": "code",
   "execution_count": null,
   "id": "ec1c16a6",
   "metadata": {},
   "outputs": [],
   "source": [
    "math.nan"
   ]
  },
  {
   "cell_type": "code",
   "execution_count": null,
   "id": "fe15017a",
   "metadata": {},
   "outputs": [],
   "source": [
    "type(math.nan)"
   ]
  },
  {
   "cell_type": "markdown",
   "id": "4df04cb5",
   "metadata": {},
   "source": [
    "### b. Arithmetic Functions of Math Module"
   ]
  },
  {
   "cell_type": "markdown",
   "id": "4d543f31",
   "metadata": {},
   "source": [
    "- Factorial of a number is obtained by multiplying that number and all numbers below it till one\n",
    "- Factorial is not defined for negative values as well as for decimal values. Factorial of zero is 1"
   ]
  },
  {
   "cell_type": "code",
   "execution_count": null,
   "id": "ad2e9bd3",
   "metadata": {},
   "outputs": [],
   "source": [
    "def fact_loop(num):\n",
    "    if num < 0:\n",
    "        return 0\n",
    "    if num == 0:\n",
    "        return 1\n",
    "\n",
    "    factorial = 1\n",
    "    for i in range(1, num + 1):\n",
    "        factorial = factorial * i\n",
    "    return factorial\n",
    "fact_loop(100)"
   ]
  },
  {
   "cell_type": "code",
   "execution_count": null,
   "id": "medieval-river",
   "metadata": {},
   "outputs": [],
   "source": []
  },
  {
   "cell_type": "code",
   "execution_count": null,
   "id": "decimal-testing",
   "metadata": {},
   "outputs": [],
   "source": []
  },
  {
   "cell_type": "code",
   "execution_count": null,
   "id": "15432514",
   "metadata": {},
   "outputs": [],
   "source": [
    "def fact_recursion(num):\n",
    "    if num < 0:\n",
    "        return 0\n",
    "    if num == 0:\n",
    "        return 1\n",
    "\n",
    "    return num * fact_recursion(num - 1)\n",
    "fact_loop(50)"
   ]
  },
  {
   "cell_type": "code",
   "execution_count": null,
   "id": "95038bb8",
   "metadata": {},
   "outputs": [],
   "source": [
    "import math\n",
    "math.factorial(50)"
   ]
  },
  {
   "cell_type": "markdown",
   "id": "9867d051",
   "metadata": {},
   "source": [
    "**Lets compare the execution time of calculating factorial using above three ways, using the `timeit()` method which returns the time taken to execute the statements a specified number of times**\n",
    "```\n",
    "timeit.timeit(stmt, setup, globals, number)\n",
    "```\n",
    "Where\n",
    "- `stmt`: Code statement(s) whose execution time is to be measured.(Use ; for multiple statements)\n",
    "- `setup`: Used to import some modules or declare some necessary variables. (Use ; for multiple statements)\n",
    "- `globals`: You can simplay pass `globals()` to the globals parameter, which will cause the code to be executed within your current global namespace\n",
    "- `number`: It specifies the number of times stmt will be executed. (Default is 1 million times)"
   ]
  },
  {
   "cell_type": "code",
   "execution_count": null,
   "id": "09b58dbb",
   "metadata": {},
   "outputs": [],
   "source": [
    "import timeit\n",
    "timeit.timeit(\"fact_loop(50)\", globals=globals(), number = 1000000)"
   ]
  },
  {
   "cell_type": "code",
   "execution_count": null,
   "id": "b9763a00",
   "metadata": {},
   "outputs": [],
   "source": [
    "timeit.timeit(\"fact_recursion(50)\", globals=globals(), number = 1000000)"
   ]
  },
  {
   "cell_type": "code",
   "execution_count": null,
   "id": "e004e08c",
   "metadata": {},
   "outputs": [],
   "source": [
    "timeit.timeit(\"math.factorial(50)\", setup = \"import math\", number = 1000000)"
   ]
  },
  {
   "cell_type": "code",
   "execution_count": null,
   "id": "4f94dc77",
   "metadata": {},
   "outputs": [],
   "source": []
  },
  {
   "cell_type": "code",
   "execution_count": null,
   "id": "36c8d064",
   "metadata": {},
   "outputs": [],
   "source": [
    "import math\n",
    "print(math.ceil(20.222), math.ceil(-11.85))"
   ]
  },
  {
   "cell_type": "code",
   "execution_count": null,
   "id": "c0ed10e4",
   "metadata": {},
   "outputs": [],
   "source": [
    "import math\n",
    "print(math.floor(20.99), math.floor(-13.1))"
   ]
  },
  {
   "cell_type": "code",
   "execution_count": null,
   "id": "51b4fa7d",
   "metadata": {},
   "outputs": [],
   "source": [
    "# math.pow(3,4)\n",
    "# math.radians(60)\n",
    "# math.fsum([3,4,54,65,76,7,6])"
   ]
  },
  {
   "cell_type": "code",
   "execution_count": null,
   "id": "a2292213",
   "metadata": {},
   "outputs": [],
   "source": [
    "import math\n",
    "math.trunc(20.99), math.trunc(-13.91)\n"
   ]
  },
  {
   "cell_type": "markdown",
   "id": "c444686b",
   "metadata": {},
   "source": [
    "Return x with the fractional part removed, leaving the integer part. This rounds toward 0: trunc() is equivalent to floor() for positive x, and equivalent to ceil() for negative x. If x is not a float, delegates to x.__trunc__, which should return an Integral value."
   ]
  },
  {
   "cell_type": "code",
   "execution_count": null,
   "id": "f105bff5",
   "metadata": {},
   "outputs": [],
   "source": []
  },
  {
   "cell_type": "code",
   "execution_count": null,
   "id": "3e222f04",
   "metadata": {},
   "outputs": [],
   "source": []
  },
  {
   "cell_type": "code",
   "execution_count": null,
   "id": "dc6227c1",
   "metadata": {},
   "outputs": [],
   "source": []
  },
  {
   "cell_type": "code",
   "execution_count": null,
   "id": "3de044e4",
   "metadata": {},
   "outputs": [],
   "source": []
  },
  {
   "cell_type": "markdown",
   "id": "f0097bb4",
   "metadata": {},
   "source": [
    "![](1.webp)"
   ]
  },
  {
   "cell_type": "markdown",
   "id": "23d14360",
   "metadata": {},
   "source": [
    "- Where n= set size, total number of items in the sample\n",
    "- where r = subset size, the number of items to be selected from the sample"
   ]
  },
  {
   "cell_type": "code",
   "execution_count": null,
   "id": "3e9712f0",
   "metadata": {},
   "outputs": [],
   "source": [
    "# perm(n,k) = n!/(n-k)!\n",
    "import math\n",
    "# math.perm()\n",
    "math.perm(3,2)\n",
    "#All permutations made by with letters a, b, c by taking two at a time are six (ab, ba, ac, ca, bc, cb)"
   ]
  },
  {
   "cell_type": "code",
   "execution_count": null,
   "id": "e9dd20a2",
   "metadata": {},
   "outputs": [],
   "source": [
    "# sample {x,y,z} -> {xy,xz,yz,yx,zx,zy}\n",
    "math.perm(3,5)\n"
   ]
  },
  {
   "cell_type": "code",
   "execution_count": null,
   "id": "protected-module",
   "metadata": {},
   "outputs": [],
   "source": [
    "from math import *\n",
    "def per(n, k):\n",
    "    result = factorial(n)//factorial(n-k)\n",
    "    return result\n",
    "per(4,2)"
   ]
  },
  {
   "cell_type": "code",
   "execution_count": null,
   "id": "f5175fbc",
   "metadata": {},
   "outputs": [],
   "source": [
    "# comb(n,k) = n!/k!(n-k)!\n",
    "import math\n",
    "math.comb(4,2)\n",
    "#All combinations made by with letters a, b, c by taking two at a time are three (ab, ac, bc)"
   ]
  },
  {
   "cell_type": "code",
   "execution_count": null,
   "id": "6a3c5d9a",
   "metadata": {},
   "outputs": [],
   "source": [
    "math.comb(4,5)"
   ]
  },
  {
   "cell_type": "code",
   "execution_count": null,
   "id": "cb976907",
   "metadata": {},
   "outputs": [],
   "source": []
  },
  {
   "cell_type": "markdown",
   "id": "22bb5317",
   "metadata": {},
   "source": [
    "![](2.png)"
   ]
  },
  {
   "cell_type": "code",
   "execution_count": null,
   "id": "f657e727",
   "metadata": {},
   "outputs": [],
   "source": []
  },
  {
   "cell_type": "code",
   "execution_count": null,
   "id": "0bfa25ef",
   "metadata": {},
   "outputs": [],
   "source": []
  },
  {
   "cell_type": "code",
   "execution_count": null,
   "id": "6527328f",
   "metadata": {},
   "outputs": [],
   "source": [
    "import math\n",
    "math.lcm(5,10)"
   ]
  },
  {
   "cell_type": "code",
   "execution_count": null,
   "id": "52060ccf",
   "metadata": {},
   "outputs": [],
   "source": [
    "# LCM -> in data structure\n",
    "# math.lcm() -> for version greater than 3.10"
   ]
  },
  {
   "cell_type": "code",
   "execution_count": null,
   "id": "582e96e0",
   "metadata": {},
   "outputs": [],
   "source": []
  },
  {
   "cell_type": "markdown",
   "id": "df72f5f6",
   "metadata": {},
   "source": [
    "![](3.png)"
   ]
  },
  {
   "cell_type": "markdown",
   "id": "controversial-serum",
   "metadata": {},
   "source": [
    "Greatest common divisor or gcd is a mathematical expression to find the highest number which can divide both the numbers whose gcd has to be found with the resulting remainder as zero. It has many mathematical applications. Python has a inbuilt gcd function in the math module which can be used for this purpose."
   ]
  },
  {
   "cell_type": "code",
   "execution_count": null,
   "id": "f82bb454",
   "metadata": {},
   "outputs": [],
   "source": [
    "import math\n",
    "print(math.gcd(39,27), math.gcd(100,50))"
   ]
  },
  {
   "cell_type": "markdown",
   "id": "hollywood-gibson",
   "metadata": {},
   "source": [
    "LCM stands for Least Common Multiple. It is a concept of arithmetic and number system. The LCM of two integers a and b is denoted by LCM (a,b). It is the smallest positive integer that is divisible by both \"a\" and \"b\"."
   ]
  },
  {
   "cell_type": "code",
   "execution_count": null,
   "id": "ed0a9e8b",
   "metadata": {},
   "outputs": [],
   "source": [
    "import math\n",
    "math.lcm(20,30) # 60. Available on Python 3.9, I have currently Python3.8 :("
   ]
  },
  {
   "cell_type": "code",
   "execution_count": null,
   "id": "ff989bb1",
   "metadata": {},
   "outputs": [],
   "source": []
  },
  {
   "cell_type": "code",
   "execution_count": null,
   "id": "0f54c00b",
   "metadata": {},
   "outputs": [],
   "source": []
  },
  {
   "cell_type": "code",
   "execution_count": null,
   "id": "27959aa1",
   "metadata": {},
   "outputs": [],
   "source": []
  },
  {
   "cell_type": "markdown",
   "id": "eeb467a3",
   "metadata": {},
   "source": [
    "### c. Power and Logarithmic Functions of Math Module"
   ]
  },
  {
   "cell_type": "code",
   "execution_count": null,
   "id": "755e5ecd",
   "metadata": {},
   "outputs": [],
   "source": [
    "# Example: The power(a,b) function returns a**b. Available in the math module as well as Python built-in function\n",
    "# The pow() function in the math module is computationally faster\n",
    "import math\n",
    "a = 2\n",
    "b = 5\n",
    "print(a**b , pow(a,b), math.pow(a,b))"
   ]
  },
  {
   "cell_type": "code",
   "execution_count": null,
   "id": "0c49c68a",
   "metadata": {},
   "outputs": [],
   "source": [
    "# Example: The sqrt(x) function returns a number y such that y² = x;\n",
    "import math\n",
    "print(math.sqrt(25), math.sqrt(34), math.sqrt(3623))"
   ]
  },
  {
   "cell_type": "code",
   "execution_count": null,
   "id": "f3d224f8",
   "metadata": {},
   "outputs": [],
   "source": [
    "# Example: The exp(x) function returns e**x, where e is Euler's number (2.718281828459045)\n",
    "import math\n",
    "x = 3\n",
    "print(math.e ** x, math.exp(x))"
   ]
  },
  {
   "cell_type": "code",
   "execution_count": null,
   "id": "d7e30bd9",
   "metadata": {},
   "outputs": [],
   "source": [
    "# Example: The log(x, base) function return the logarithm of x to the mentioned base. Default base is e\n",
    "# Logarithm is the inverse function to exponentiation \n",
    "\n",
    "print(math.log(8), math.log(8, math.e), math.log(8, 2), math.log(8, 10))\n"
   ]
  },
  {
   "cell_type": "code",
   "execution_count": null,
   "id": "0eaec94f",
   "metadata": {},
   "outputs": [],
   "source": []
  },
  {
   "cell_type": "code",
   "execution_count": null,
   "id": "0e13973b",
   "metadata": {},
   "outputs": [],
   "source": []
  },
  {
   "cell_type": "code",
   "execution_count": null,
   "id": "6af25ef6",
   "metadata": {},
   "outputs": [],
   "source": []
  },
  {
   "cell_type": "markdown",
   "id": "53435ef8",
   "metadata": {},
   "source": [
    "### d. Trigonometric and Hyperbolic Functions of Math Module\n",
    "- The word trigonometry comes from the Greek words trigonon (“triangle”) and metron (“to measure”). \n",
    "- Trigonometry is the branch of mathematics dealing with the relations of the sides and angles of triangles and with the relevant functions of any angles. \n",
    "- Trigonometric functions are used in obtaining unknown angles and distances from known or measured angles in geometric figures.\n",
    "- Note: Hyperbolic functions are analogues of the ordinary trigonometric functions, but defined using the hyperbola rather than the circle. "
   ]
  },
  {
   "cell_type": "code",
   "execution_count": null,
   "id": "80c0753f",
   "metadata": {},
   "outputs": [],
   "source": [
    "# Six functions of an angle: sin(), cos(), tan(), asin(), acos(), atan().\n",
    "# The angle given to these functions should be in radians. A circle has 360 degrees and 2pi radians\n",
    "import math\n",
    "print(math.sin(0), math.sin(3.14), math.sin(90))"
   ]
  },
  {
   "cell_type": "code",
   "execution_count": null,
   "id": "603f86b5",
   "metadata": {},
   "outputs": [],
   "source": [
    "# Examples of Hyperbolic Functions: sinh(), cosh(), tanh(), asinh(), acosh(), atanh()\n",
    "import math\n",
    "math.sinh(3.14)"
   ]
  },
  {
   "cell_type": "markdown",
   "id": "2be22fda",
   "metadata": {},
   "source": [
    "![](4.png)"
   ]
  },
  {
   "cell_type": "code",
   "execution_count": null,
   "id": "b835b598",
   "metadata": {},
   "outputs": [],
   "source": []
  },
  {
   "cell_type": "code",
   "execution_count": null,
   "id": "65283198",
   "metadata": {},
   "outputs": [],
   "source": []
  },
  {
   "cell_type": "markdown",
   "id": "411184e3",
   "metadata": {},
   "source": [
    "![](5.png)"
   ]
  },
  {
   "cell_type": "code",
   "execution_count": null,
   "id": "bafb9fc3",
   "metadata": {},
   "outputs": [],
   "source": []
  },
  {
   "cell_type": "code",
   "execution_count": null,
   "id": "175e66df",
   "metadata": {},
   "outputs": [],
   "source": []
  },
  {
   "cell_type": "code",
   "execution_count": null,
   "id": "9f3af462",
   "metadata": {},
   "outputs": [],
   "source": []
  },
  {
   "cell_type": "markdown",
   "id": "43637d2d",
   "metadata": {},
   "source": [
    "## 4. The `random` Module\n",
    "- The Random module is  used to perform random actions such as generating random numbers, print random value for a list or string, etc.\n",
    "#### [Read Python Documentation for details about `random` module](https://docs.python.org/3/library/random.html#module-random)"
   ]
  },
  {
   "cell_type": "code",
   "execution_count": null,
   "id": "70c6c490",
   "metadata": {},
   "outputs": [],
   "source": [
    "#import random module\n",
    "import random\n",
    "\n",
    "# use dir() to get the list of complete functions in random module\n",
    "print(\"Existing functions in Random module: \\n\\n\", dir(random))\n",
    "print(random.__doc__)"
   ]
  },
  {
   "cell_type": "markdown",
   "id": "74f74cd2",
   "metadata": {},
   "source": [
    "### a. The `random.random()` Function\n",
    "- This function `random.random()` returns a random float value in the interval [0,1), i.e., 0 is inclusive while 1 is not"
   ]
  },
  {
   "cell_type": "code",
   "execution_count": null,
   "id": "3363347f",
   "metadata": {},
   "outputs": [],
   "source": [
    "import random\n",
    "random.random()"
   ]
  },
  {
   "cell_type": "markdown",
   "id": "f6b43887",
   "metadata": {},
   "source": [
    "#### Question:\n",
    "Create a sequence of 10 random floating point numbers between 0-30."
   ]
  },
  {
   "cell_type": "code",
   "execution_count": null,
   "id": "0f3f73d3",
   "metadata": {},
   "outputs": [],
   "source": [
    "floatSequence = []\n",
    "for i in range(1,11):\n",
    "    floatSequence.append(random.random()*30)\n",
    "print(floatSequence)"
   ]
  },
  {
   "cell_type": "code",
   "execution_count": null,
   "id": "67a64c1e",
   "metadata": {},
   "outputs": [],
   "source": []
  },
  {
   "cell_type": "code",
   "execution_count": null,
   "id": "1657f91d",
   "metadata": {},
   "outputs": [],
   "source": []
  },
  {
   "cell_type": "code",
   "execution_count": null,
   "id": "33db3a65",
   "metadata": {},
   "outputs": [],
   "source": []
  },
  {
   "cell_type": "code",
   "execution_count": null,
   "id": "bc1b4c79",
   "metadata": {},
   "outputs": [],
   "source": [
    "rv = random.random()\n",
    "rv"
   ]
  },
  {
   "cell_type": "markdown",
   "id": "b96d3f21",
   "metadata": {},
   "source": [
    "### b. The `random.uniform()` Function\n",
    "- This function `random.uniform(a, b)` returns a random float value in the interval a and b "
   ]
  },
  {
   "cell_type": "code",
   "execution_count": null,
   "id": "3022eec8",
   "metadata": {},
   "outputs": [],
   "source": [
    "rv = random.uniform(85, 100)\n",
    "rv"
   ]
  },
  {
   "cell_type": "code",
   "execution_count": null,
   "id": "approved-african",
   "metadata": {},
   "outputs": [],
   "source": []
  },
  {
   "cell_type": "code",
   "execution_count": null,
   "id": "90e21995",
   "metadata": {},
   "outputs": [],
   "source": []
  },
  {
   "cell_type": "markdown",
   "id": "ee23fa99",
   "metadata": {},
   "source": [
    "### c. The `random.randint()` and `random.randrange()` Functions\n",
    "- We have seen the use of the built-in `range()` function that provides a range object, using which you can generate a list of numbers in that specific range\n",
    "- The `random.randint(start, stop)` returns one random integer (with start and stop both inclusive).\n",
    "- The `random.randrange(start, stop=None, step=1)` returns one random integer (with stop NOT inclusive). "
   ]
  },
  {
   "cell_type": "code",
   "execution_count": null,
   "id": "163d70f3",
   "metadata": {},
   "outputs": [],
   "source": [
    "# Note the stop value is also inclusive, which is unlike what we expect in Python\n",
    "import random\n",
    "# random.randint(0, 5)\n",
    "random.randint(10001,99999)"
   ]
  },
  {
   "cell_type": "code",
   "execution_count": null,
   "id": "appropriate-portuguese",
   "metadata": {},
   "outputs": [],
   "source": []
  },
  {
   "cell_type": "code",
   "execution_count": null,
   "id": "2433e606",
   "metadata": {},
   "outputs": [],
   "source": [
    "# This fixes the problem and does not include the endpoint\n",
    "random.randrange(0, 15,2)\n",
    "# 0,2,4"
   ]
  },
  {
   "cell_type": "markdown",
   "id": "9c923557",
   "metadata": {},
   "source": [
    "### d. The `random.choice()` Function\n",
    "- This function is passed a non-empty sequence and returns a random element from that sequence\n",
    "```\n",
    "random.choice(seq)\n",
    "```"
   ]
  },
  {
   "cell_type": "code",
   "execution_count": null,
   "id": "033d79e1",
   "metadata": {},
   "outputs": [],
   "source": [
    "import random\n",
    "\n",
    "# select a random element from a list\n",
    "list1 = ['Ehtisham','Ali', 'Ayesha', 'Dua','Adeen', 'Ahmed', 'Fizza', 'Azka']\n",
    "print(\"Random element from list: \", random.choice(list1))\n",
    "  \n",
    "# select a random character from a string\n",
    "string = \"HappyLearning\"\n",
    "print(\"Fetching Random item from string: \", random.choice(string))\n",
    "  \n",
    "# select a random item from a tuple\n",
    "tuple1 = (1, 2, 3, 4, 5)\n",
    "print(\"Fetching Random element from Tuple: \",random.choice(tuple1))"
   ]
  },
  {
   "cell_type": "markdown",
   "id": "f3716f78",
   "metadata": {},
   "source": [
    "**With this background, one should be able explore other methods as and when required**"
   ]
  },
  {
   "cell_type": "code",
   "execution_count": null,
   "id": "b217032e",
   "metadata": {},
   "outputs": [],
   "source": [
    "# random.random() -> float value between [0,1]\n",
    "# random.uniform(a,b) -> float value between [a,b]\n",
    "# random.randint(a,b) -> integer value between [a,b]\n",
    "# random.randrange(a,b) -> integer value\n",
    "# random.choice(sequence) -> return random item from sequence"
   ]
  },
  {
   "cell_type": "code",
   "execution_count": null,
   "id": "bc9eccb3",
   "metadata": {},
   "outputs": [],
   "source": []
  },
  {
   "cell_type": "code",
   "execution_count": null,
   "id": "0fab8214",
   "metadata": {},
   "outputs": [],
   "source": []
  },
  {
   "cell_type": "markdown",
   "id": "c5a57ae0",
   "metadata": {},
   "source": [
    "## Bonus Info:\n",
    "- Before, we discuss Python's `time`, `datetime`, and `calendar` modules, let me put the stage right by having a brief discussion on the concept of time and time zones:\n",
    "\n",
    "### Calendar Time:\n",
    "- The time measured from some fixed/reference point is called real time and once category of it is calendar time. Some famous reference points and their corresponding calendars are:\n",
    "    - **Hijri Calendar** (AH), measures time from the year of Hijrat, when prophet Muhammad (Peace be upon Him) migrated from Mecca to Madina\n",
    "    - **Gregorian Calendar** (AD), measures time from birth year of Jesus Christ. AD stands for Anno Domini in Latin, means \"In the year of Jesus Christ\"\n",
    "    - **UNIX Calendar**, measures time from birth year of UNIX called UNIX epoch (00:00:00 UTC on 1 January 1970)\n"
   ]
  },
  {
   "cell_type": "code",
   "execution_count": null,
   "id": "positive-diagram",
   "metadata": {},
   "outputs": [],
   "source": []
  },
  {
   "cell_type": "code",
   "execution_count": null,
   "id": "64a13665",
   "metadata": {},
   "outputs": [],
   "source": [
    "import time\n",
    "\n",
    "# use dir() to get the list of complete functions in time module\n",
    "print(\"Existing functions in time module: \\n\\n\", dir(time))"
   ]
  },
  {
   "cell_type": "markdown",
   "id": "e3e2f52f",
   "metadata": {},
   "source": [
    "##  Getting the Local Time\n",
    "- To get the current time in Python in a more perceivable Python Date Time format, we use the localtime() method. It returns the Python time according to the area you’re in."
   ]
  },
  {
   "cell_type": "code",
   "execution_count": null,
   "id": "9281f84a",
   "metadata": {},
   "outputs": [],
   "source": [
    "import time\n",
    "local_time = time.localtime()\n",
    "print(\"Time:\",local_time)\n",
    "print(\"Current year:\", local_time.tm_year)\n",
    "print(\"Current hour:\", local_time.tm_hour)\n",
    "print(\"Current minute:\", local_time.tm_min)\n",
    "print(\"Current second:\", local_time.tm_sec)"
   ]
  },
  {
   "cell_type": "markdown",
   "id": "b5b2d536",
   "metadata": {},
   "source": [
    "## Getting the Formatted Time\n",
    "- When we use the `asctime()` method, we get something much more readable."
   ]
  },
  {
   "cell_type": "code",
   "execution_count": null,
   "id": "75eeafdc",
   "metadata": {},
   "outputs": [],
   "source": [
    "time.asctime()"
   ]
  },
  {
   "cell_type": "code",
   "execution_count": null,
   "id": "011c6251",
   "metadata": {},
   "outputs": [],
   "source": [
    "# You can also provide a tuple or a struct_time structure as an argument.\n",
    "time.asctime(time.localtime())"
   ]
  },
  {
   "cell_type": "code",
   "execution_count": null,
   "id": "acae783c",
   "metadata": {},
   "outputs": [],
   "source": []
  },
  {
   "cell_type": "markdown",
   "id": "31f713ec",
   "metadata": {},
   "source": [
    "**(i) The `time.sleep(seconds)` method is used to delay execution for a given number of seconds. The argument may be a floating point number for subsecond precision.**"
   ]
  },
  {
   "cell_type": "code",
   "execution_count": null,
   "id": "efe8425d",
   "metadata": {},
   "outputs": [],
   "source": [
    "import time\n",
    "print(\"This is printed immediately.\")\n",
    "time.sleep(5)\n",
    "print(\"This is printed after 5 seconds.\")"
   ]
  },
  {
   "cell_type": "code",
   "execution_count": null,
   "id": "32bda51c",
   "metadata": {},
   "outputs": [],
   "source": []
  },
  {
   "cell_type": "code",
   "execution_count": null,
   "id": "70465c76",
   "metadata": {},
   "outputs": [],
   "source": []
  },
  {
   "cell_type": "markdown",
   "id": "37f6391e",
   "metadata": {},
   "source": [
    "**(ii) The `time.time()` method returns the current time in seconds since UNIX Epoch (00:00:00 UTC on 1 January 1970).**"
   ]
  },
  {
   "cell_type": "code",
   "execution_count": null,
   "id": "d0fa8a98",
   "metadata": {},
   "outputs": [],
   "source": [
    "import time\n",
    "seconds = time.time()\n",
    "seconds"
   ]
  },
  {
   "cell_type": "code",
   "execution_count": null,
   "id": "3d29bea9",
   "metadata": {},
   "outputs": [],
   "source": []
  },
  {
   "cell_type": "code",
   "execution_count": null,
   "id": "8275559a",
   "metadata": {},
   "outputs": [],
   "source": []
  },
  {
   "cell_type": "markdown",
   "id": "8c1d1bb6",
   "metadata": {},
   "source": [
    "**(iii) The `time.ctime(seconds)` method takes seconds passed since epoch as argument and returns a string representing local time.**"
   ]
  },
  {
   "cell_type": "code",
   "execution_count": null,
   "id": "7b0c0f8a",
   "metadata": {},
   "outputs": [],
   "source": [
    "import time\n",
    "gettime = time.time()\n",
    "print(f\"Time in seconds : {gettime}\")\n",
    "tm = time.ctime(gettime)\n",
    "print(tm)"
   ]
  },
  {
   "cell_type": "code",
   "execution_count": null,
   "id": "70d0bb12",
   "metadata": {},
   "outputs": [],
   "source": [
    "import time\n",
    "dtg1 = time.ctime(0)\n",
    "dtg1"
   ]
  },
  {
   "cell_type": "code",
   "execution_count": null,
   "id": "3e3bb56a",
   "metadata": {},
   "outputs": [],
   "source": [
    "import time\n",
    "seconds = time.time()\n",
    "dtg2 = time.ctime(seconds)\n",
    "dtg2"
   ]
  },
  {
   "cell_type": "code",
   "execution_count": null,
   "id": "846302b0",
   "metadata": {},
   "outputs": [],
   "source": [
    "import time\n",
    "seconds = time.time()\n",
    "dtg2 = time.ctime(3434643565.34554)\n",
    "dtg2"
   ]
  },
  {
   "cell_type": "markdown",
   "id": "932503c0",
   "metadata": {},
   "source": [
    "**With this background, one should be able explore other methods as and when required**"
   ]
  },
  {
   "cell_type": "code",
   "execution_count": null,
   "id": "707fe243",
   "metadata": {},
   "outputs": [],
   "source": [
    "# time.localtime -> cuurent time of laptop , return in struct_time format\n",
    "# time.asctime() -> current time but in string format\n",
    "# time.sleep(second) -> execution delay for that seconds\n",
    "# time.time() -> return current time but in seconds\n",
    "# time.ctime(seconds) -> return time in string format according seconds passed"
   ]
  },
  {
   "cell_type": "code",
   "execution_count": null,
   "id": "2df896a0",
   "metadata": {},
   "outputs": [],
   "source": []
  },
  {
   "cell_type": "code",
   "execution_count": null,
   "id": "9202f9ed",
   "metadata": {},
   "outputs": [],
   "source": []
  },
  {
   "cell_type": "code",
   "execution_count": null,
   "id": "19cc43a2",
   "metadata": {},
   "outputs": [],
   "source": []
  },
  {
   "cell_type": "code",
   "execution_count": null,
   "id": "22be4c3d",
   "metadata": {},
   "outputs": [],
   "source": []
  },
  {
   "cell_type": "markdown",
   "id": "9445c4b5",
   "metadata": {},
   "source": [
    "## 6. The `datetime` Module\n",
    "- The Python datetime module offers functions and classes for working with date and time parsing, formatting, and arithmetic. \n",
    "- The `datetime` module can support many of the same operations as `time` module, but provides a more object oriented set of types, and also has some limited support for time zones.\n",
    "#### [Read Python Documentation for details about `datetime` module](https://docs.python.org/3/library/datetime.html#module-datetime)"
   ]
  },
  {
   "cell_type": "code",
   "execution_count": null,
   "id": "8d44417f",
   "metadata": {
    "scrolled": true
   },
   "outputs": [],
   "source": [
    "# import datetime module\n",
    "import datetime\n",
    "\n",
    "# use dir() to get the list of complete functions in datetime module\n",
    "print(\"Existing functions in datetime module: \\n\\n\", dir(datetime))"
   ]
  },
  {
   "cell_type": "code",
   "execution_count": null,
   "id": "0e9a16a8",
   "metadata": {},
   "outputs": [],
   "source": [
    "#The smallest year number allowed in a date or datetime object. MINYEAR is 1.\n",
    "datetime.MINYEAR"
   ]
  },
  {
   "cell_type": "code",
   "execution_count": null,
   "id": "2783e15c",
   "metadata": {},
   "outputs": [],
   "source": [
    "#The largest year number allowed in a date or datetime object. MAXYEAR is 9999.\n",
    "datetime.MAXYEAR\n",
    "# current year -> 2022"
   ]
  },
  {
   "cell_type": "markdown",
   "id": "f4485572",
   "metadata": {},
   "source": [
    "**(i) The `datetime.datetime.today()` and `datetime.datetime.now()` methods return a datetime object as per the time zone of the system**"
   ]
  },
  {
   "cell_type": "code",
   "execution_count": null,
   "id": "a4b34e92",
   "metadata": {},
   "outputs": [],
   "source": [
    "dtg = datetime.datetime.today()\n",
    "dtg"
   ]
  },
  {
   "cell_type": "code",
   "execution_count": null,
   "id": "79569129",
   "metadata": {},
   "outputs": [],
   "source": [
    "dtg = datetime.datetime.now()\n",
    "print(dtg)\n",
    "print(type(dtg))"
   ]
  },
  {
   "cell_type": "code",
   "execution_count": null,
   "id": "assisted-graphic",
   "metadata": {},
   "outputs": [],
   "source": []
  },
  {
   "cell_type": "markdown",
   "id": "0b16005d",
   "metadata": {},
   "source": [
    "**(ii) Let us explore some commonly used attributes related with the `datetime` object.**\n",
    "- `dtg.year:` returns the year\n",
    "- `dtg.month:` returns the month\n",
    "- `dtg.day:` returns the date\n",
    "- `dtg.hour:` returns the hour\n",
    "- `dtg.minute:` returns the minutes\n",
    "- `dtg.second:` returns the seconds\n",
    "- `dtg.microsecond:` returns the microseconds"
   ]
  },
  {
   "cell_type": "code",
   "execution_count": null,
   "id": "d96d7c8a",
   "metadata": {},
   "outputs": [],
   "source": [
    "dtg.year"
   ]
  },
  {
   "cell_type": "code",
   "execution_count": null,
   "id": "d4801e8a",
   "metadata": {},
   "outputs": [],
   "source": [
    "dtg.day"
   ]
  },
  {
   "cell_type": "code",
   "execution_count": null,
   "id": "71504a3f",
   "metadata": {},
   "outputs": [],
   "source": [
    "dtg.hour"
   ]
  },
  {
   "cell_type": "code",
   "execution_count": null,
   "id": "a13162ec",
   "metadata": {},
   "outputs": [],
   "source": [
    "dtg.microsecond"
   ]
  },
  {
   "cell_type": "markdown",
   "id": "4889c135",
   "metadata": {},
   "source": [
    "**(iii) The `datetime.datetime(year, month, day[, hour[, minute[, second[, microsecond[,tzinfo]]]]])` method is used to create a `datetime` object**"
   ]
  },
  {
   "cell_type": "code",
   "execution_count": null,
   "id": "d309a238",
   "metadata": {},
   "outputs": [],
   "source": [
    "import datetime\n",
    "dtg = datetime.datetime(2021,12,31)\n",
    "print(dtg)\n",
    "print(type(dtg))"
   ]
  },
  {
   "cell_type": "code",
   "execution_count": null,
   "id": "772d1470",
   "metadata": {},
   "outputs": [],
   "source": [
    "dtg = datetime.datetime(2021, 12, 31, 4, 30, 54, 678)\n",
    "print(dtg)"
   ]
  },
  {
   "cell_type": "markdown",
   "id": "cbf3ed6c",
   "metadata": {},
   "source": [
    "**(iv)  The `datetime.time([hour[, minute[, second[, microsecond[, tzinfo]]]]]) ` methods returns a `time` object.**"
   ]
  },
  {
   "cell_type": "code",
   "execution_count": null,
   "id": "f7922e9b",
   "metadata": {},
   "outputs": [],
   "source": [
    "t1 = datetime.time(10, 15, 54, 247)\n",
    "print(t1)\n",
    "print(type(t1))"
   ]
  },
  {
   "cell_type": "markdown",
   "id": "4d2112b0",
   "metadata": {},
   "source": [
    "**With this background, one should be able explore other methods as and when required**"
   ]
  },
  {
   "cell_type": "markdown",
   "id": "1922fe85",
   "metadata": {},
   "source": [
    "### What is Timedelta in Python?\n",
    "- A `timedelta represents a duration` which is the difference between two dates, time, or datetime instances, to the microsecond resolution.\n",
    "- Use the `timedelta` to add or subtract weeks, days, hours, minutes, seconds, microseconds, and milliseconds from a given date and time."
   ]
  },
  {
   "cell_type": "markdown",
   "id": "e384b74b",
   "metadata": {},
   "source": [
    "<img src=\"images/14.png\">"
   ]
  },
  {
   "cell_type": "code",
   "execution_count": null,
   "id": "da8561f6",
   "metadata": {},
   "outputs": [],
   "source": [
    "from datetime import datetime, timedelta\n",
    "print(f\"Current Date and time : {datetime.now()}\")\n",
    "# adding  3 weeks and 4 days and 5 hours\n",
    "newDateTime = datetime.now() + timedelta(weeks=3, days=4, hours=5)\n",
    "newDateTime"
   ]
  },
  {
   "cell_type": "code",
   "execution_count": null,
   "id": "12be5f07",
   "metadata": {},
   "outputs": [],
   "source": []
  },
  {
   "cell_type": "markdown",
   "id": "70b0d72b",
   "metadata": {},
   "source": [
    "#### Example 1: Calculate the difference between two dates"
   ]
  },
  {
   "cell_type": "code",
   "execution_count": null,
   "id": "fb26d36a",
   "metadata": {},
   "outputs": [],
   "source": [
    "import datetime\n",
    "current_date = datetime.datetime.now()\n",
    "givenDate = datetime.datetime(year=2020,month=3,day=23)\n",
    "date = current_date-givenDate\n",
    "print(date)\n",
    "print(type(date))"
   ]
  },
  {
   "cell_type": "markdown",
   "id": "29e446de",
   "metadata": {},
   "source": [
    "#### Example 2: Calculate Future Datetime\n",
    "Let’s see how to use timedelta class to calculate future dates by `adding four weeks` to a given date."
   ]
  },
  {
   "cell_type": "code",
   "execution_count": null,
   "id": "89926ca5",
   "metadata": {},
   "outputs": [],
   "source": [
    "from datetime import datetime, timedelta\n",
    "currentDate = datetime.now()\n",
    "print(f\"Current Date : {currentDate}\")\n",
    "# adding four weeks to the current date\n",
    "FutureDate = current+timedelta(weeks=4)\n",
    "print(f\"Future Date : {FutureDate}\")"
   ]
  },
  {
   "cell_type": "code",
   "execution_count": null,
   "id": "3d741d47",
   "metadata": {},
   "outputs": [],
   "source": [
    "# datetime.datetime.now()/today() -> return current date and time in datetime format\n",
    "# datetime.datetime(years, months, days, hours, mintues,seconds) -> return a object of datetime type\n",
    "# datetime.time() -> return  a object of datetime.time \n",
    "# datetime.timedelta(weeks, days, hours, mintues)"
   ]
  },
  {
   "cell_type": "code",
   "execution_count": null,
   "id": "24ce3cff",
   "metadata": {},
   "outputs": [],
   "source": []
  },
  {
   "cell_type": "code",
   "execution_count": null,
   "id": "9a4e2a52",
   "metadata": {},
   "outputs": [],
   "source": []
  },
  {
   "cell_type": "markdown",
   "id": "39d5f5d6",
   "metadata": {},
   "source": [
    "## 7. The `calendar` Module\n",
    "- This module allows you to output calendars like the Unix `cal` program, and provides additional useful functions related to the calendar. By default, these calendars have Monday as the first day of the week, and Sunday as the last\n",
    "#### [Read Python Documentation for details about `calendar` module](https://docs.python.org/3/library/calendar.html#module-calendar)"
   ]
  },
  {
   "cell_type": "code",
   "execution_count": null,
   "id": "00c616ba",
   "metadata": {},
   "outputs": [],
   "source": [
    "import calendar\n",
    "\n",
    "# use dir() to get the list of complete functions in calendar module\n",
    "print(\"Existing functions in calendar module: \\n\\n\", dir(calendar))"
   ]
  },
  {
   "cell_type": "code",
   "execution_count": null,
   "id": "5205f543",
   "metadata": {},
   "outputs": [],
   "source": [
    "# calendar() method to print the calendar of whole year\n",
    "import calendar\n",
    "cy = calendar.calendar(2022) \n",
    "print(cy)"
   ]
  },
  {
   "cell_type": "code",
   "execution_count": null,
   "id": "internal-palestine",
   "metadata": {},
   "outputs": [],
   "source": []
  },
  {
   "cell_type": "code",
   "execution_count": null,
   "id": "04121b7c",
   "metadata": {},
   "outputs": [],
   "source": [
    "import calendar\n",
    "# month() method is used to print calendar of specific month\n",
    "\n",
    "#print calendar of November 2021\n",
    "c = calendar.month(2022,4) \n",
    "print(c)"
   ]
  },
  {
   "cell_type": "code",
   "execution_count": null,
   "id": "48d3e53f",
   "metadata": {},
   "outputs": [],
   "source": [
    "import calendar\n",
    "# can check wether the year is leap year or not\n",
    "print(\"2021 is leap year: \", calendar.isleap(2021))\n",
    "\n",
    "print(\"2020 was be leap year: \", calendar.isleap(2020))"
   ]
  },
  {
   "cell_type": "markdown",
   "id": "d746cb9f",
   "metadata": {},
   "source": [
    "**With this background, one should be able explore other methods as and when required**"
   ]
  },
  {
   "cell_type": "code",
   "execution_count": null,
   "id": "5d481de2",
   "metadata": {},
   "outputs": [],
   "source": [
    "# calendar.calendar(year) -> return a calendar of complete year\n",
    "# calendar.month(year, months) -> return a month of specific year"
   ]
  },
  {
   "cell_type": "code",
   "execution_count": null,
   "id": "8f879163",
   "metadata": {},
   "outputs": [],
   "source": []
  },
  {
   "cell_type": "code",
   "execution_count": null,
   "id": "26acc9aa",
   "metadata": {},
   "outputs": [],
   "source": []
  },
  {
   "cell_type": "markdown",
   "id": "b07f1899",
   "metadata": {},
   "source": [
    "## 8. The `os` Module\n",
    "- Python OS module provides the facility to establish the interaction between the user and the operating system. It offers many useful OS functions that are used to perform OS-based tasks and get related information about operating system.\n",
    "- This module provides a portable way of using operating system dependent functionality and provides dozens of functions for interacting with the operating system\n",
    "#### [Read Python Documentation for details about `os` module](https://docs.python.org/3/library/os.html#module-os)"
   ]
  },
  {
   "cell_type": "code",
   "execution_count": null,
   "id": "f02e0918",
   "metadata": {},
   "outputs": [],
   "source": [
    "import os\n",
    "# to get the list of complete functions in OS module\n",
    "print(\"Existing functions in OS module: \\n\\n\", dir(os))\n"
   ]
  },
  {
   "cell_type": "markdown",
   "id": "acc846b9",
   "metadata": {},
   "source": [
    "## **1- os.name()**\n",
    "- This function provides the name of the operating system module that it imports.\n",
    "- Currently, it registers 'posix', 'nt', 'os2', 'ce', 'java' and 'riscos'."
   ]
  },
  {
   "cell_type": "code",
   "execution_count": null,
   "id": "4847870e",
   "metadata": {},
   "outputs": [],
   "source": [
    "import os"
   ]
  },
  {
   "cell_type": "code",
   "execution_count": null,
   "id": "fbb7bbe3",
   "metadata": {},
   "outputs": [],
   "source": [
    "os.name"
   ]
  },
  {
   "cell_type": "markdown",
   "id": "fb5b11e7",
   "metadata": {},
   "source": [
    "Windows NT is a family of operating systems developed by Microsoft that featured multi-processing capabilities, processor independence and multi-user support. The first version was released in 1993 as Windows NT 3.1, which was produced for servers and workstations."
   ]
  },
  {
   "cell_type": "code",
   "execution_count": null,
   "id": "1d3d7c96",
   "metadata": {},
   "outputs": [],
   "source": []
  },
  {
   "cell_type": "code",
   "execution_count": null,
   "id": "9d8f9a23",
   "metadata": {},
   "outputs": [],
   "source": [
    "# os module\n",
    "import os"
   ]
  },
  {
   "cell_type": "code",
   "execution_count": null,
   "id": "9092184a",
   "metadata": {},
   "outputs": [],
   "source": []
  },
  {
   "cell_type": "code",
   "execution_count": null,
   "id": "6e3b52dd",
   "metadata": {},
   "outputs": [],
   "source": []
  },
  {
   "cell_type": "markdown",
   "id": "6352299e",
   "metadata": {},
   "source": [
    "### a. The `os.getcwd()`  and `os.listdir()` Function\n",
    "- The `os.getcwd()` return a unicode string representing the current working directory.\n",
    "- The `os.listdir(path=None)` return a list containing the names of the files in the pwd in arbitrary order. Does not display '.' and '..' directories. An optional path can be specified\n",
    "- `os.listdir(path=None)` method returns a list of all the files and folders present inside the specified directory. If no directory is specified then the list of files and folders inside the CWD is returned.\n"
   ]
  },
  {
   "cell_type": "code",
   "execution_count": null,
   "id": "70c024c7",
   "metadata": {},
   "outputs": [],
   "source": [
    "import os\n",
    "\n",
    "# getcwd() function is used to return the current working directory\n",
    "cwd = os.getcwd()\n",
    "print(\"Current working directory:\\n\", cwd )\n",
    "\n",
    "# lisdir() function is used to return the contents of current working directory\n",
    "mylist = os.listdir(os.getcwd())\n",
    "print(\"\\nContents of directory: \\n\", mylist )\n"
   ]
  },
  {
   "cell_type": "code",
   "execution_count": null,
   "id": "ac69c964",
   "metadata": {},
   "outputs": [],
   "source": [
    "path = \"/home/dell/Data/Introduction to data analyst and data science for begineers\"\n",
    "mylist = os.listdir(path)\n",
    "print(\"\\nContents of directory: \\n\", mylist )"
   ]
  },
  {
   "cell_type": "code",
   "execution_count": null,
   "id": "2ad24ca6",
   "metadata": {},
   "outputs": [],
   "source": []
  },
  {
   "cell_type": "code",
   "execution_count": null,
   "id": "dirty-collapse",
   "metadata": {},
   "outputs": [],
   "source": []
  },
  {
   "cell_type": "markdown",
   "id": "7b6c18e2",
   "metadata": {},
   "source": [
    "### b. The `os.chdir()` Function\n",
    "- The `os.chdir(path)` function is used to change the current working directory to the specified path."
   ]
  },
  {
   "cell_type": "code",
   "execution_count": null,
   "id": "967c1537",
   "metadata": {},
   "outputs": [],
   "source": [
    "import os\n",
    "\n",
    "print(\"Get current working directory:\\n\\n\\n\", os.getcwd())\n",
    "\n",
    "path = \"/home/dell/Data/Introduction to data analyst and data science for begineers/Helloworld\"\n",
    "os.chdir(path)\n",
    "# os.chdir(\"F:\\Python Programs\")\n",
    "\n",
    "print(\"\\nGet current working directory again:\\n\\n\\n\", os.getcwd())\n",
    "os.listdir()"
   ]
  },
  {
   "cell_type": "code",
   "execution_count": null,
   "id": "f3ba5661",
   "metadata": {},
   "outputs": [],
   "source": []
  },
  {
   "cell_type": "code",
   "execution_count": null,
   "id": "25a738ce",
   "metadata": {},
   "outputs": [],
   "source": [
    "# os.listdir()\n",
    "os.mkdir(\"PythonFolder\")"
   ]
  },
  {
   "cell_type": "code",
   "execution_count": null,
   "id": "7a191656",
   "metadata": {},
   "outputs": [],
   "source": [
    "os.rmdir(\"PythonFolder\")"
   ]
  },
  {
   "cell_type": "code",
   "execution_count": null,
   "id": "50625667",
   "metadata": {},
   "outputs": [],
   "source": [
    "os.listdir()"
   ]
  },
  {
   "cell_type": "markdown",
   "id": "881ddaca",
   "metadata": {},
   "source": [
    "### c. The   `os.mkdir()` and `os.rmdir()`Function\n",
    "- The `os.mkdir(path)` function creates a new directory\n",
    "- The `os.rmdir(path)` function removes a directory\n"
   ]
  },
  {
   "cell_type": "code",
   "execution_count": null,
   "id": "427a8ca3",
   "metadata": {},
   "outputs": [],
   "source": [
    "import os\n",
    "\n",
    "print(f\"Current working directory : {os.getcwd()}\")\n",
    "\n",
    "list1 = os.listdir(os.getcwd())\n",
    "print(\"Contents of directory: \", list1)\n",
    "\n",
    "os.mkdir(\"ANewDir\")\n",
    "\n",
    "\n"
   ]
  },
  {
   "cell_type": "code",
   "execution_count": null,
   "id": "cda22130",
   "metadata": {},
   "outputs": [],
   "source": [
    "list2 = os.listdir(os.getcwd())\n",
    "print(\"Contents of directory: \", list2)"
   ]
  },
  {
   "cell_type": "code",
   "execution_count": null,
   "id": "genetic-antibody",
   "metadata": {},
   "outputs": [],
   "source": [
    "\n",
    "# os.mkdir(\"ANewDir2\")\n",
    "list3 = os.listdir(os.getcwd())\n",
    "print(\"Contents of directory: \", list3)\n"
   ]
  },
  {
   "cell_type": "code",
   "execution_count": null,
   "id": "89d5a13f",
   "metadata": {},
   "outputs": [],
   "source": [
    "# os.rmdir(\"ANewDir\")\n",
    "os.rmdir(\"ANewDir2\")\n",
    "\n",
    "print(f\"Content of directory : {os.listdir(os.getcwd())}\")"
   ]
  },
  {
   "cell_type": "markdown",
   "id": "44f42f0e",
   "metadata": {},
   "source": [
    "## os.rename()\n",
    "A file or directory can be renamed by using the function os.rename(). A user can rename the file if it has privilege to change the file."
   ]
  },
  {
   "cell_type": "code",
   "execution_count": null,
   "id": "9cbd5b0e",
   "metadata": {},
   "outputs": [],
   "source": [
    "!ls"
   ]
  },
  {
   "cell_type": "code",
   "execution_count": null,
   "id": "f593d054",
   "metadata": {},
   "outputs": [],
   "source": [
    "import os \n",
    "filename = \"Fig1.PNG\"\n",
    "renameFile = os.rename(filename, \"NewFig.PNG\")"
   ]
  },
  {
   "cell_type": "code",
   "execution_count": null,
   "id": "12bed419",
   "metadata": {},
   "outputs": [],
   "source": [
    "os.listdir()"
   ]
  },
  {
   "cell_type": "code",
   "execution_count": null,
   "id": "06637392",
   "metadata": {},
   "outputs": [],
   "source": []
  },
  {
   "cell_type": "code",
   "execution_count": null,
   "id": "b8bd018d",
   "metadata": {},
   "outputs": [],
   "source": []
  },
  {
   "cell_type": "code",
   "execution_count": null,
   "id": "5c2e9db6",
   "metadata": {},
   "outputs": [],
   "source": []
  },
  {
   "cell_type": "markdown",
   "id": "591547b1",
   "metadata": {},
   "source": [
    "### d. The   `os.system()` Function\n",
    "- The `os.system(command)` method is used to execute the command in a subshell"
   ]
  },
  {
   "cell_type": "code",
   "execution_count": null,
   "id": "ce938430",
   "metadata": {},
   "outputs": [],
   "source": [
    "help(os.system)"
   ]
  },
  {
   "cell_type": "code",
   "execution_count": null,
   "id": "64fd97a4",
   "metadata": {},
   "outputs": [],
   "source": [
    "import os\n",
    "\n",
    "\n",
    "print(\"\\n\")\n",
    "os.system('echo \"This is getting more and more interesting\"')\n",
    "\n",
    "print(\"\\n\")\n",
    "os.system('date')"
   ]
  },
  {
   "cell_type": "code",
   "execution_count": null,
   "id": "a16211b8",
   "metadata": {},
   "outputs": [],
   "source": [
    "print(os.system('ls'))"
   ]
  },
  {
   "cell_type": "code",
   "execution_count": null,
   "id": "41e6003e",
   "metadata": {},
   "outputs": [],
   "source": [
    "os.system('echo \"This is getting more and more\"')"
   ]
  },
  {
   "cell_type": "code",
   "execution_count": null,
   "id": "amateur-salon",
   "metadata": {},
   "outputs": [],
   "source": [
    "import os\n",
    "cmd = 'date'\n",
    "os.system(cmd)"
   ]
  },
  {
   "cell_type": "markdown",
   "id": "76b29ad9",
   "metadata": {},
   "source": [
    "**Students should explore other functions like `chmod()`, `chown()`, `fstat()`, `getpid()`, `getuid()`**"
   ]
  },
  {
   "cell_type": "markdown",
   "id": "subject-effort",
   "metadata": {},
   "source": [
    "os.getuid() method in Python is used to get the current process’s real user id while os.setuid() method is used to set the current process’s real user id."
   ]
  },
  {
   "cell_type": "markdown",
   "id": "african-diameter",
   "metadata": {},
   "source": [
    "os.getpid() method in Python is used to get the process ID of the current process."
   ]
  },
  {
   "cell_type": "code",
   "execution_count": null,
   "id": "aa32c200",
   "metadata": {},
   "outputs": [],
   "source": [
    "# os.name -> current operating system\n",
    "# os.getcwd() -> current directory present/working\n",
    "# os.listdir() -> return all the files and folders/directories in cwd\n",
    "# os.chdir(path) -> return our cwd to given path\n",
    "# os.mkdir() -> used to create a new directory in cwd\n",
    "# os.rmdir() ->  cwd , remove specific folder/file\n",
    "# os.rename() -> to remane any file and folder in cwd"
   ]
  },
  {
   "cell_type": "code",
   "execution_count": null,
   "id": "1b021e19",
   "metadata": {},
   "outputs": [],
   "source": []
  },
  {
   "cell_type": "code",
   "execution_count": null,
   "id": "4f6c6ef2",
   "metadata": {},
   "outputs": [],
   "source": []
  },
  {
   "cell_type": "code",
   "execution_count": null,
   "id": "04bdb065",
   "metadata": {},
   "outputs": [],
   "source": []
  },
  {
   "cell_type": "markdown",
   "id": "87567943",
   "metadata": {},
   "source": [
    "## 10. The `urllib` Package\n",
    "- The `urllib` package in Python 3 is a collection of following Python modules used for working with Uniform Resource Locators:\n",
    "    - `urllib.request` for opening and reading URLs, using variety of protocols\n",
    "    - `urllib.error` containing the exceptions raised by urllib.request\n",
    "    - `urllib.parse` for parsing URLs\n",
    "    - `urllib.robotparser` for parsing robots.txt files\n",
    "\n",
    "#### [Read Python Documentation for details about `urllib` package](https://docs.python.org/3/library/urllib.html#module-urllib)"
   ]
  },
  {
   "cell_type": "code",
   "execution_count": null,
   "id": "30925dca",
   "metadata": {},
   "outputs": [],
   "source": []
  },
  {
   "cell_type": "code",
   "execution_count": null,
   "id": "463d26b5",
   "metadata": {},
   "outputs": [],
   "source": [
    "os.getcwd()"
   ]
  },
  {
   "cell_type": "code",
   "execution_count": null,
   "id": "3b01aadf",
   "metadata": {},
   "outputs": [],
   "source": [
    "import urllib\n",
    "print(dir(urllib))"
   ]
  },
  {
   "cell_type": "code",
   "execution_count": null,
   "id": "ec1f8b39",
   "metadata": {},
   "outputs": [],
   "source": [
    "# os.getcwd()\n",
    "import urllib\n",
    "try:\n",
    "    link = \"https://githu1b.com/\"\n",
    "    request_url = urllib.request.urlopen(link)\n",
    "    print(type(request_url))\n",
    "    print(request_url.read())\n",
    "except Exception as e:\n",
    "    print(str(e))"
   ]
  },
  {
   "cell_type": "code",
   "execution_count": null,
   "id": "78781da7",
   "metadata": {},
   "outputs": [],
   "source": []
  },
  {
   "cell_type": "code",
   "execution_count": null,
   "id": "ae569385",
   "metadata": {},
   "outputs": [],
   "source": []
  },
  {
   "cell_type": "code",
   "execution_count": null,
   "id": "6a9d335f",
   "metadata": {},
   "outputs": [],
   "source": []
  },
  {
   "cell_type": "markdown",
   "id": "da51eeb9",
   "metadata": {},
   "source": [
    "## Create a GitHub Gist"
   ]
  },
  {
   "cell_type": "code",
   "execution_count": null,
   "id": "c9c12e2a",
   "metadata": {},
   "outputs": [],
   "source": [
    "url = \"https://raw.githubusercontent.com/bsef19m521/DatasetsForProjects/master/tips.csv\"\n",
    "print(url)"
   ]
  },
  {
   "cell_type": "code",
   "execution_count": null,
   "id": "054ea853",
   "metadata": {},
   "outputs": [],
   "source": [
    "import urllib\n",
    "try:\n",
    "    dataset = urllib.request.urlretrieve(url,\"tips.csv\")\n",
    "    print(dataset)\n",
    "except:\n",
    "    print(\"Invalid URL!\")"
   ]
  },
  {
   "cell_type": "code",
   "execution_count": null,
   "id": "834758db",
   "metadata": {},
   "outputs": [],
   "source": []
  },
  {
   "cell_type": "markdown",
   "id": "c040707d",
   "metadata": {},
   "source": [
    ">**The `urllib.request.urlopen()`, may return a URLError saying `SSL: CERTIFICATE_VERIFY_FAILED`. To handle this error set  the `_create_default_https_context` attribute of `ssl` to `_create_unverified_context`**"
   ]
  },
  {
   "cell_type": "code",
   "execution_count": null,
   "id": "29a5f041",
   "metadata": {},
   "outputs": [],
   "source": [
    "import ssl\n",
    "ssl._create_default_https_context = ssl._create_unverified_context"
   ]
  },
  {
   "cell_type": "code",
   "execution_count": null,
   "id": "6eea4c4f",
   "metadata": {},
   "outputs": [],
   "source": []
  },
  {
   "cell_type": "markdown",
   "id": "38075fc1",
   "metadata": {},
   "source": [
    "### b. The   `urllib.request.urlretrieve()` Function\n",
    "- The `urllib.request.urlretrieve(url, filename=None)` method is used to retrieve a remote file into a temporary location on disk.\n",
    "- Let us download a public csv file from github gist"
   ]
  },
  {
   "cell_type": "code",
   "execution_count": null,
   "id": "89333523",
   "metadata": {},
   "outputs": [],
   "source": [
    "import os\n",
    "os.getcwd()"
   ]
  },
  {
   "cell_type": "code",
   "execution_count": null,
   "id": "8897314d",
   "metadata": {},
   "outputs": [],
   "source": []
  },
  {
   "cell_type": "code",
   "execution_count": null,
   "id": "2c6a656d",
   "metadata": {},
   "outputs": [],
   "source": [
    "Link = \"https://raw.githubusercontent.com/tuangauss/DataScienceProjects/master/data/history.csv\"\n",
    "import urllib\n",
    "dataset = urllib.request.urlretrieve(Link, './History.csv')"
   ]
  },
  {
   "cell_type": "code",
   "execution_count": null,
   "id": "52d9c88b",
   "metadata": {},
   "outputs": [],
   "source": []
  },
  {
   "cell_type": "code",
   "execution_count": null,
   "id": "b763f593",
   "metadata": {},
   "outputs": [],
   "source": []
  },
  {
   "cell_type": "code",
   "execution_count": null,
   "id": "2aadea15",
   "metadata": {},
   "outputs": [],
   "source": []
  },
  {
   "cell_type": "code",
   "execution_count": null,
   "id": "4c8d322e",
   "metadata": {},
   "outputs": [],
   "source": []
  },
  {
   "cell_type": "code",
   "execution_count": null,
   "id": "87491b77",
   "metadata": {},
   "outputs": [],
   "source": []
  },
  {
   "cell_type": "code",
   "execution_count": null,
   "id": "6ae7b87f",
   "metadata": {},
   "outputs": [],
   "source": [
    "import urllib\n",
    "url =\"https://gist.githubusercontent.com/mbejda/45db05ea50e79bc42016/raw/52d5ca99398b495e096f6eace20f5872129633e3/Fortune-1000-Company-Twitter-Accounts.csv\"\n",
    "Data = urllib.request.urlretrieve(url, './Twitter.csv')\n",
    "print(Data)"
   ]
  },
  {
   "cell_type": "code",
   "execution_count": null,
   "id": "macro-monroe",
   "metadata": {},
   "outputs": [],
   "source": []
  },
  {
   "cell_type": "code",
   "execution_count": null,
   "id": "choice-diameter",
   "metadata": {},
   "outputs": [],
   "source": [
    "os.listdir()"
   ]
  },
  {
   "cell_type": "code",
   "execution_count": null,
   "id": "viral-result",
   "metadata": {},
   "outputs": [],
   "source": [
    "import urllib\n",
    "url1 =\"https://raw.githubusercontent.com/adacollege/cs-python-csv/master/students.csv\"\n",
    "\n",
    "urllib.request.urlretrieve(url1, './student.csv')"
   ]
  },
  {
   "cell_type": "code",
   "execution_count": null,
   "id": "suffering-georgia",
   "metadata": {},
   "outputs": [],
   "source": [
    "os.listdir()"
   ]
  },
  {
   "cell_type": "code",
   "execution_count": null,
   "id": "unauthorized-vegetarian",
   "metadata": {},
   "outputs": [],
   "source": []
  },
  {
   "cell_type": "markdown",
   "id": "bdcbf7b8",
   "metadata": {},
   "source": [
    "# Bonus Part"
   ]
  },
  {
   "cell_type": "code",
   "execution_count": null,
   "id": "c2efa97e",
   "metadata": {},
   "outputs": [],
   "source": [
    "# import pandas library to load stduent dataset\n",
    "import pandas as pd\n",
    "\n",
    "# load and read data using read_csv() function of pandas library \n",
    "df = pd.read_csv(\"Twitter.csv\")\n",
    "\n",
    "# pd.head() is used to read first five rows of dataframe\n",
    "df.head()"
   ]
  },
  {
   "cell_type": "code",
   "execution_count": null,
   "id": "bf48ce21",
   "metadata": {},
   "outputs": [],
   "source": []
  },
  {
   "cell_type": "code",
   "execution_count": null,
   "id": "appropriate-penetration",
   "metadata": {},
   "outputs": [],
   "source": []
  },
  {
   "cell_type": "code",
   "execution_count": null,
   "id": "posted-foundation",
   "metadata": {},
   "outputs": [],
   "source": []
  },
  {
   "cell_type": "code",
   "execution_count": null,
   "id": "solar-talent",
   "metadata": {},
   "outputs": [],
   "source": []
  },
  {
   "cell_type": "markdown",
   "id": "523f9405",
   "metadata": {},
   "source": [
    "# 10. Statistics Module"
   ]
  },
  {
   "cell_type": "markdown",
   "id": "b17948cf",
   "metadata": {},
   "source": [
    "- This module provides functions for calculating mathematical statistics of numeric (Real-valued) data."
   ]
  },
  {
   "cell_type": "code",
   "execution_count": null,
   "id": "surprising-cholesterol",
   "metadata": {},
   "outputs": [],
   "source": [
    "import statistics\n",
    "# import stat"
   ]
  },
  {
   "cell_type": "code",
   "execution_count": null,
   "id": "geographic-combine",
   "metadata": {},
   "outputs": [],
   "source": [
    "print(dir(statistics))"
   ]
  },
  {
   "cell_type": "markdown",
   "id": "3243489d",
   "metadata": {},
   "source": [
    "### Averages and measures of central location\n",
    "- These functions calculate an average or typical value from a population or sample."
   ]
  },
  {
   "cell_type": "markdown",
   "id": "d8c90847",
   "metadata": {},
   "source": [
    "- mean() : Arithmetic mean (“average”) of data.\n",
    "- fmean() : Fast, floating point arithmetic mean.\n",
    "- geometric_mean() : Geometric mean of data.\n",
    "- harmonic_mean() : Harmonic mean of data.\n",
    "- median() : Median (middle value) of data.\n",
    "- median_low() : Low median of data.\n",
    "- median_high() : High median of data.\n",
    "- median_grouped() : Median, or 50th percentile, of grouped data.\n",
    "- mode() : Single mode (most common value) of discrete or nominal data.\n",
    "- multimode() : List of modes (most common values) of discrete or nominal data.\n",
    "- quantiles() : Divide data into intervals with equal probability."
   ]
  },
  {
   "cell_type": "markdown",
   "id": "dfa91d45",
   "metadata": {},
   "source": [
    "#### statistics.mean(data)\n",
    "Return the sample arithmetic mean of data which can be a sequence or iterable."
   ]
  },
  {
   "cell_type": "code",
   "execution_count": null,
   "id": "31af921a",
   "metadata": {},
   "outputs": [],
   "source": [
    "list1 = [43,5,65,76,87] \n",
    "# matrix=[[2,3,4],[6,7,8]]\n",
    "#1-dimensional list, 2-D is called matrix, collection of 2-d lists is called dataset\n",
    "statistics.mean(list1)"
   ]
  },
  {
   "cell_type": "markdown",
   "id": "a2569d16",
   "metadata": {},
   "source": [
    "#### statistics.fmean(data)\n",
    "- Convert data to floats and compute the arithmetic mean.\n",
    "- This runs faster than the mean() function and it always returns a float. The data may be a sequence or iterable. If the input dataset is empty, raises a StatisticsError."
   ]
  },
  {
   "cell_type": "code",
   "execution_count": null,
   "id": "7e6dfd6b",
   "metadata": {},
   "outputs": [],
   "source": [
    "# example1\n",
    "statistics.fmean(list1)"
   ]
  },
  {
   "cell_type": "code",
   "execution_count": null,
   "id": "2af84c13",
   "metadata": {},
   "outputs": [],
   "source": [
    "# example 2\n",
    "try:\n",
    "    print(statistics.fmean([]))\n",
    "except Exception as e:\n",
    "    print(e)"
   ]
  },
  {
   "cell_type": "markdown",
   "id": "7dfaa36c",
   "metadata": {},
   "source": [
    "#### statistics.geometric_mean(data)\n",
    "- Convert data to floats and compute the geometric mean.\n",
    "- The geometric mean indicates the central tendency or typical value of the data using the product of the values (as opposed to the arithmetic mean which uses their sum).\n",
    "- Raises a StatisticsError if the input dataset is empty, if it contains a zero, or if it contains a negative value. The data may be a sequence or iterable."
   ]
  },
  {
   "cell_type": "code",
   "execution_count": null,
   "id": "2435e5c6",
   "metadata": {},
   "outputs": [],
   "source": []
  },
  {
   "cell_type": "markdown",
   "id": "71d1a4d4",
   "metadata": {},
   "source": [
    "<img src=\"images/6.png\" width=\"450\" height=\"400\">"
   ]
  },
  {
   "cell_type": "code",
   "execution_count": null,
   "id": "f5360e84",
   "metadata": {},
   "outputs": [],
   "source": [
    "print(list1)\n",
    "print(statistics.geometric_mean(list1))"
   ]
  },
  {
   "cell_type": "code",
   "execution_count": null,
   "id": "dbb28d2d",
   "metadata": {},
   "outputs": [],
   "source": []
  },
  {
   "cell_type": "markdown",
   "id": "9fe627d0",
   "metadata": {},
   "source": [
    "### statistics.harmonic_mean(data, weights=None)\n",
    "- Return the harmonic mean of data, a sequence or iterable of real-valued numbers. If weights is omitted or None, then equal weighting is assumed.\n",
    "- The harmonic mean is the reciprocal of the arithmetic mean() of the reciprocals of the data. For example, the harmonic mean of three values a, b and c will be equivalent to `3/(1/a + 1/b + 1/c)`. If one of the values is zero, the result will be zero."
   ]
  },
  {
   "cell_type": "markdown",
   "id": "38857289",
   "metadata": {},
   "source": [
    "<img src=\"images/7.jpg\" width=\"450\" height=\"400\">"
   ]
  },
  {
   "cell_type": "markdown",
   "id": "514b02a2",
   "metadata": {},
   "source": [
    "#### Example no 01: \n",
    "Suppose a car travels 10 km at 40 km/hr, then another 10 km at 60 km/hr. What is the average speed?"
   ]
  },
  {
   "cell_type": "code",
   "execution_count": null,
   "id": "6cf007cf",
   "metadata": {},
   "outputs": [],
   "source": [
    "statistics.harmonic_mean([40,60])"
   ]
  },
  {
   "cell_type": "markdown",
   "id": "45c5e7dd",
   "metadata": {},
   "source": [
    "#### Example no 02:\n",
    "Suppose a car travels 40 km/hr for 5 km, and when traffic clears, speeds-up to 60 km/hr for the remaining 30 km of the journey. What is the average speed?"
   ]
  },
  {
   "cell_type": "code",
   "execution_count": null,
   "id": "61d19798",
   "metadata": {},
   "outputs": [],
   "source": [
    "statistics.harmonic_mean([40,60], weights =[ 5,30])"
   ]
  },
  {
   "cell_type": "markdown",
   "id": "f29a8dac",
   "metadata": {},
   "source": [
    "## statistics.median(data)\n",
    "Return the median (middle value) of numeric data, using the common “mean of middle two” method. If data is empty, StatisticsError is raised. data can be a sequence or iterable.\n",
    "The median is a robust measure of central location and is less affected by the presence of outliers. When the number of data points is odd, the middle data point is returned:"
   ]
  },
  {
   "cell_type": "code",
   "execution_count": null,
   "id": "12c9d451",
   "metadata": {},
   "outputs": [],
   "source": [
    "from statistics import *\n",
    "median([1, 3, 5])"
   ]
  },
  {
   "cell_type": "markdown",
   "id": "065f0741",
   "metadata": {},
   "source": [
    "When the number of data points is even, the median is interpolated by taking the average of the two middle values:"
   ]
  },
  {
   "cell_type": "code",
   "execution_count": null,
   "id": "14ec5e8e",
   "metadata": {},
   "outputs": [],
   "source": [
    "median([1,3,5,7])"
   ]
  },
  {
   "cell_type": "markdown",
   "id": "b38f8b1f",
   "metadata": {},
   "source": [
    "#### Note: \n",
    "- This is suited for when your data is discrete, and you don’t mind that the median may not be an actual data point.\n",
    "- If the data is ordinal (supports order operations) but not numeric (doesn’t support addition), consider using `median_low()` or `median_high()` instead."
   ]
  },
  {
   "cell_type": "markdown",
   "id": "cf14b588",
   "metadata": {},
   "source": [
    "## statistics.median_low(data)\n",
    "Return the low median of numeric data. If data is empty, `StatisticsError` is raised. data can be a sequence or iterable.\n",
    "The low median is always a member of the data set. When the number of data points is odd, the middle value is returned. When it is even, the smaller of the two middle values is returned."
   ]
  },
  {
   "cell_type": "code",
   "execution_count": null,
   "id": "8003ec2a",
   "metadata": {},
   "outputs": [],
   "source": [
    "print(median_low([1, 3, 5]), median_low([1, 4, 5, 7]))"
   ]
  },
  {
   "cell_type": "code",
   "execution_count": null,
   "id": "0da70276",
   "metadata": {},
   "outputs": [],
   "source": []
  },
  {
   "cell_type": "markdown",
   "id": "7cb224e9",
   "metadata": {},
   "source": [
    "## statistics.median_high(data)\n",
    "Return the high median of data. If data is empty, `StatisticsError` is raised. data can be a sequence or iterable.\n",
    "The high median is always a member of the data set. When the number of data points is odd, the middle value is returned. When it is even, the larger of the two middle values is returned."
   ]
  },
  {
   "cell_type": "code",
   "execution_count": null,
   "id": "acb5873d",
   "metadata": {},
   "outputs": [],
   "source": [
    "median_high([1, 3, 5]), median_high([1, 3, 5, 7])"
   ]
  },
  {
   "cell_type": "markdown",
   "id": "63169df2",
   "metadata": {},
   "source": [
    "## statistics.mode(data)\n",
    "Return the single most common data point from `discrete` or `nominal` data. The mode (when it exists) is the most typical value and serves as a measure of central location.\n",
    "If there are multiple modes with the same frequency, returns the first one encountered in the data. If the smallest or largest of those is desired instead, use `min(multimode(data))` or `max(multimode(data))`. If the input data is empty, `StatisticsError` is raised.\n",
    "mode assumes discrete data and returns a single value. This is the standard treatment of the mode as commonly taught in schools"
   ]
  },
  {
   "cell_type": "code",
   "execution_count": null,
   "id": "e8f7766c",
   "metadata": {},
   "outputs": [],
   "source": [
    "mode([1, 1, 2, 3, 3, 3, 3, 4])"
   ]
  },
  {
   "cell_type": "markdown",
   "id": "d793eb40",
   "metadata": {},
   "source": [
    "The mode is unique in that it is the only statistic in this package that also applies to nominal (non-numeric) data"
   ]
  },
  {
   "cell_type": "code",
   "execution_count": null,
   "id": "9e83253f",
   "metadata": {},
   "outputs": [],
   "source": [
    "mode([\"red\", \"blue\", \"blue\", \"red\", \"green\", \"red\", \"red\"])"
   ]
  },
  {
   "cell_type": "code",
   "execution_count": null,
   "id": "9b59eb63",
   "metadata": {},
   "outputs": [],
   "source": []
  },
  {
   "cell_type": "markdown",
   "id": "8c733f05",
   "metadata": {},
   "source": [
    "## statistics.multimode(data)\n",
    "Return a list of the most frequently occurring values in the order they were first encountered in the data. Will return more than one result if there are multiple modes or an empty list if the data is empty"
   ]
  },
  {
   "cell_type": "code",
   "execution_count": null,
   "id": "7d82fcac",
   "metadata": {},
   "outputs": [],
   "source": [
    "multimode('aabbbbccddddeeffffgg')"
   ]
  },
  {
   "cell_type": "code",
   "execution_count": null,
   "id": "e6e605a9",
   "metadata": {},
   "outputs": [],
   "source": [
    "multimode('')"
   ]
  },
  {
   "cell_type": "code",
   "execution_count": null,
   "id": "852eb0fc",
   "metadata": {},
   "outputs": [],
   "source": []
  },
  {
   "cell_type": "code",
   "execution_count": null,
   "id": "7f8e88c5",
   "metadata": {},
   "outputs": [],
   "source": []
  },
  {
   "cell_type": "code",
   "execution_count": null,
   "id": "34020bb0",
   "metadata": {},
   "outputs": [],
   "source": []
  },
  {
   "cell_type": "markdown",
   "id": "3c1079d6",
   "metadata": {},
   "source": [
    "## Measures of spread\n",
    "These functions calculate a measure of how much the population or sample tends to deviate from the typical or average values.\n",
    "- pstdev() : Population standard deviation of data.\n",
    "- pvariance() : Population variance of data.\n",
    "- stdev(): Sample standard deviation of data.\n",
    "- variance(): Sample variance of data."
   ]
  },
  {
   "cell_type": "code",
   "execution_count": null,
   "id": "a943859b",
   "metadata": {},
   "outputs": [],
   "source": []
  },
  {
   "cell_type": "markdown",
   "id": "10e61553",
   "metadata": {},
   "source": [
    "![](images/8.png)"
   ]
  },
  {
   "cell_type": "code",
   "execution_count": null,
   "id": "fc6df8ad",
   "metadata": {},
   "outputs": [],
   "source": []
  },
  {
   "cell_type": "markdown",
   "id": "c0fe5ddd",
   "metadata": {},
   "source": [
    "![](images/9.png)"
   ]
  },
  {
   "cell_type": "markdown",
   "id": "987f70a9",
   "metadata": {},
   "source": [
    "### statistics.pvariance(data, mu=None)\n",
    "Return the population variance of data, a non-empty sequence or iterable of real-valued numbers. Variance, or second moment about the mean, is a measure of the variability (spread or dispersion) of data. A large variance indicates that the data is spread out; a small variance indicates it is clustered closely around the mean.\n",
    "If the optional second argument mu is given, it is typically the mean of the data. It can also be used to compute the second moment around a point that is not the mean. If it is missing or None (the default), the arithmetic mean is automatically calculated."
   ]
  },
  {
   "cell_type": "code",
   "execution_count": null,
   "id": "9657b7af",
   "metadata": {},
   "outputs": [],
   "source": [
    "from statistics import *\n",
    "data = [0.0, 0.25, 0.25, 1.25, 1.5, 1.75, 2.75, 3.25]\n",
    "statistics.pvariance(data)"
   ]
  },
  {
   "cell_type": "code",
   "execution_count": null,
   "id": "33d5b35c",
   "metadata": {},
   "outputs": [],
   "source": [
    "# If you have already calculated the mean of your data, \n",
    "# you can pass it as the optional second argument mu to avoid recalculation:"
   ]
  },
  {
   "cell_type": "code",
   "execution_count": null,
   "id": "98399837",
   "metadata": {},
   "outputs": [],
   "source": [
    "mu = statistics.mean(data)\n",
    "print(f\"Mean : {mu}\")\n",
    "pv=statistics.pvariance(data, mu)\n",
    "print(f\"Pvariance : {pv}\")"
   ]
  },
  {
   "cell_type": "code",
   "execution_count": null,
   "id": "342128a6",
   "metadata": {},
   "outputs": [],
   "source": [
    "mu = statistics.mean(data)\n",
    "print(f\"Mean : {mu}\")\n",
    "pv=statistics.pvariance(data, 1.95)\n",
    "print(f\"Pvariance : {pv}\")"
   ]
  },
  {
   "cell_type": "markdown",
   "id": "1831b970",
   "metadata": {},
   "source": [
    "### statistics.pstdev(data, mu=None)\n",
    "Return the population standard deviation (the square root of the population variance). See pvariance() for arguments and other details."
   ]
  },
  {
   "cell_type": "code",
   "execution_count": null,
   "id": "48df1a32",
   "metadata": {},
   "outputs": [],
   "source": [
    "list2 = [1.5, 2.5, 2.5, 2.75, 3.25, 4.75]\n",
    "Mean = mean(list2)\n",
    "print(f\"Mean : {Mean}\")\n",
    "\n",
    "\n",
    "ps=pstdev(list2)\n",
    "\n",
    "print(f\"Pstdev : {ps}\")"
   ]
  },
  {
   "cell_type": "code",
   "execution_count": null,
   "id": "df0488a8",
   "metadata": {},
   "outputs": [],
   "source": [
    "list2 = [1.5, 2.5, 2.5, 2.75, 3.25, 4.75]\n",
    "Mean = mean(list2)\n",
    "print(f\"Mean : {Mean}\")\n",
    "ps=pstdev(list2,3.2)\n",
    "print(f\"Pstdev : {ps}\")"
   ]
  },
  {
   "cell_type": "markdown",
   "id": "c0cea0c0",
   "metadata": {},
   "source": [
    "### statistics.variance(data, xbar=None)\n",
    "Return the sample variance of data, an iterable of at least two real-valued numbers. Variance, or second moment about the mean, is a measure of the variability (spread or dispersion) of data. A large variance indicates that the data is spread out; a small variance indicates it is clustered closely around the mean.\n",
    "If the optional second argument xbar is given, it should be the mean of data. If it is missing or None (the default), the mean is automatically calculated.\n",
    "Use this function when your data is a sample from a population. To calculate the variance from the entire population, see `pvariance()`."
   ]
  },
  {
   "cell_type": "code",
   "execution_count": null,
   "id": "db326a54",
   "metadata": {},
   "outputs": [],
   "source": [
    "data = [2.75, 1.75, 1.25, 0.25, 0.5, 1.25, 3.5]\n",
    "Mean = mean(data)\n",
    "print(f\"Mean : {Mean}\")\n",
    "print(f\"Sample Variance : {variance(data)}\")\n",
    "print(f\"Population Variance : {pvariance(data)}\")"
   ]
  },
  {
   "cell_type": "code",
   "execution_count": null,
   "id": "df9d9851",
   "metadata": {},
   "outputs": [],
   "source": [
    "data = [2.75, 1.75, 1.25, 0.25, 0.5, 1.25, 3.5]\n",
    "Mean = mean(data)\n",
    "print(f\"Mean : {Mean}\")\n",
    "print(f\"Sample Variance : {variance(data,1.8)}\")\n",
    "print(f\"Population Variance : {pvariance(data)}\")"
   ]
  },
  {
   "cell_type": "markdown",
   "id": "8ba997ce",
   "metadata": {},
   "source": [
    "### statistics.stdev(data, xbar=None)\n",
    "Return the sample standard deviation (the square root of the sample variance). See variance() for arguments and other details.    "
   ]
  },
  {
   "cell_type": "code",
   "execution_count": null,
   "id": "ba805de7",
   "metadata": {},
   "outputs": [],
   "source": [
    "Data = [1.5, 2.5, 2.5, 2.75, 3.25, 4.75]\n",
    "stdev(Data), variance(Data)\n",
    "# The square of stdev is called variance"
   ]
  },
  {
   "cell_type": "code",
   "execution_count": null,
   "id": "f9c6d20c",
   "metadata": {},
   "outputs": [],
   "source": []
  },
  {
   "cell_type": "markdown",
   "id": "d882ab48",
   "metadata": {},
   "source": [
    "# Example Problem\n",
    "You grow 20 crystals from a solution and measure the length of each crystal in millimeters. Here is your data:      \n",
    "9, 2, 5, 4, 12, 7, 8, 11, 9, 3, 7, 4, 12, 5, 4, 10, 9, 6, 9, 4     \n",
    "Calculate the sample standard deviation of the length of the crystals. "
   ]
  },
  {
   "cell_type": "code",
   "execution_count": null,
   "id": "cfddfc08",
   "metadata": {},
   "outputs": [],
   "source": [
    "# Here write your answer\n",
    "data = [9, 2, 5, 4, 12, 7, 8, 11, 9, 3, 7, 4, 12, 5, 4, 10, 9, 6, 9, 4]\n",
    "import statistics\n",
    "statistics.stdev(data)"
   ]
  },
  {
   "cell_type": "code",
   "execution_count": null,
   "id": "04cbf40d",
   "metadata": {},
   "outputs": [],
   "source": []
  },
  {
   "cell_type": "markdown",
   "id": "b3d1ab68",
   "metadata": {},
   "source": [
    "## Statistics for relations between two inputs\n",
    "These functions calculate statistics regarding relations between two inputs.\n",
    "- covariance() : Sample covariance for two variables.\n",
    "- correlation() : Pearson’s correlation coefficient for two variables.\n",
    "- linear_regression() : Slope and intercept for simple linear regression."
   ]
  },
  {
   "cell_type": "markdown",
   "id": "88dac883",
   "metadata": {},
   "source": [
    "## statistics.covariance(x, y, /)\n",
    "Return the sample covariance of two inputs x and y. Covariance is a measure of the joint variability of two inputs.\n",
    "Both inputs must be of the same length (no less than two), otherwise `StatisticsError` is raised."
   ]
  },
  {
   "cell_type": "markdown",
   "id": "26daa8be",
   "metadata": {},
   "source": [
    "<img src=\"images/11.png\" width=\"450\" height=\"400\">"
   ]
  },
  {
   "cell_type": "code",
   "execution_count": null,
   "id": "70d7b7dc",
   "metadata": {},
   "outputs": [],
   "source": [
    "x = [1, 2, 3, 4, 5, 6, 7, 8, 9]\n",
    "y = [1, 2, 3, 1, 2, 3, 1, 2, 3]\n",
    "print(f\"Covariance(x,y) : {statistics.covariance(x, y)}\")\n",
    "z = [9, 8, 7, 6, 5, 4, 3, 2, 1]\n",
    "print(f\"Covariance(x,z) : {statistics.covariance(x, z)}\")\n",
    "print(f\"Covariance(z,x) : {statistics.covariance(z, x)}\")"
   ]
  },
  {
   "cell_type": "code",
   "execution_count": null,
   "id": "927ff2ce",
   "metadata": {},
   "outputs": [],
   "source": []
  },
  {
   "cell_type": "markdown",
   "id": "593a5e77",
   "metadata": {},
   "source": [
    "## statistics.correlation(x, y, /)\n",
    "Return the `Pearson’s` correlation coefficient for two inputs. Pearson’s correlation coefficient r takes values between `-1` and `+1`. It measures the strength and direction of the linear relationship, where +1 means very strong, positive linear relationship, -1 very strong, negative linear relationship, and 0 no linear relationship.\n",
    "Both inputs must be of the same length (no less than two), and need not to be constant, otherwise StatisticsError is raised."
   ]
  },
  {
   "cell_type": "code",
   "execution_count": null,
   "id": "770092fb",
   "metadata": {},
   "outputs": [],
   "source": []
  },
  {
   "cell_type": "markdown",
   "id": "39902645",
   "metadata": {},
   "source": [
    "<img src=\"images/10.png\" width=\"450\" height=\"400\">"
   ]
  },
  {
   "cell_type": "code",
   "execution_count": null,
   "id": "818aff64",
   "metadata": {},
   "outputs": [],
   "source": [
    "x = [1, 2, 3, 4, 5, 6, 7, 8, 9]\n",
    "y = [9, 8, 7, 6, 5, 4, 3, 2, 1]\n",
    "print(f\"Correlation(x,y) : {correlation(x,y)}\")\n",
    "print(f\"Correlation(x,x) : {correlation(x,x)}\")"
   ]
  },
  {
   "cell_type": "markdown",
   "id": "473faba9",
   "metadata": {},
   "source": [
    "<img src=\"images/13.png\" width=\"500\" height=\"450\">"
   ]
  },
  {
   "cell_type": "code",
   "execution_count": null,
   "id": "a7769878",
   "metadata": {},
   "outputs": [],
   "source": []
  },
  {
   "cell_type": "code",
   "execution_count": null,
   "id": "7f1825a2",
   "metadata": {},
   "outputs": [],
   "source": []
  },
  {
   "cell_type": "code",
   "execution_count": null,
   "id": "5c2eb955",
   "metadata": {},
   "outputs": [],
   "source": []
  },
  {
   "cell_type": "code",
   "execution_count": null,
   "id": "3940b17d",
   "metadata": {},
   "outputs": [],
   "source": []
  },
  {
   "cell_type": "code",
   "execution_count": null,
   "id": "e305f27f",
   "metadata": {},
   "outputs": [],
   "source": []
  },
  {
   "cell_type": "markdown",
   "id": "aa105473",
   "metadata": {},
   "source": [
    "## Check your Concepts\n",
    "\n",
    "Try answering the following questions to test your understanding of the topics covered in this notebook:\n",
    "\n",
    "1. What are modules in Python?\n",
    "2. What is a Python library?\n",
    "3. What is the Python Standard Library?\n",
    "4. What are some popular Python libraries?\n",
    "5. Where can you learn about the modules and functions available in the Python standard library?\n",
    "6. How do you install a third-party library?\n",
    "7. What is a module namespace? How is it useful?\n",
    "8. What problems would you run into if Python modules did not provide namespaces?\n",
    "9. How do you import a module?\n",
    "10. How do you use a function from an imported module? Illustrate with an example.\n",
    "11. What are some popular Python libraries?\n",
    "12. What is the purpose of the `os` module in Python?\n",
    "13. How do you identify the current working directory in a Jupyter notebook?\n",
    "14. How do you retrieve the list of files within a directory using Python?\n",
    "15. How do you create a directory using Python?\n",
    "16. How do you check whether a file or directory exists on the filesystem? Hint: `os.path.exists`.\n",
    "17. Where can you find the full list of functions contained in the `os` module?\n",
    "18. Give examples of 5 useful functions from the `os` and `os.path` modules.\n",
    "19. What are some popular Python libraries?\n"
   ]
  },
  {
   "cell_type": "markdown",
   "id": "81333f37",
   "metadata": {},
   "source": [
    "#### What is a Python library?\n",
    "- A Python library is a collection of related modules. \n",
    "- It contains bundles of code that can be used repeatedly in different programs. \n",
    "- It makes Python Programming simpler and convenient for the programmer. As we don’t need to write the same code again and again for different programs. \n",
    "- Python libraries play a very vital role in fields of Machine Learning, Data Science, Data Visualization, etc."
   ]
  },
  {
   "cell_type": "markdown",
   "id": "ff9f2d1b",
   "metadata": {},
   "source": [
    "### What is Python Standard Library?\n",
    "- The Python Standard Library is a collection of script modules accessible to a Python program to simplify the programming process and removing the need to rewrite commonly used commands. \n",
    "- They can be used by 'calling/importing' them at the beginning of a script."
   ]
  },
  {
   "cell_type": "code",
   "execution_count": null,
   "id": "4d5f3d44",
   "metadata": {},
   "outputs": [],
   "source": []
  },
  {
   "cell_type": "code",
   "execution_count": null,
   "id": "2e350d7b",
   "metadata": {},
   "outputs": [],
   "source": []
  },
  {
   "cell_type": "code",
   "execution_count": null,
   "id": "453f43f7",
   "metadata": {},
   "outputs": [],
   "source": []
  },
  {
   "cell_type": "markdown",
   "id": "66bd9ae0",
   "metadata": {},
   "source": [
    "#### Exercise 1: Print current date,year , month, day, time and hour in Python."
   ]
  },
  {
   "cell_type": "code",
   "execution_count": null,
   "id": "8c036032",
   "metadata": {},
   "outputs": [],
   "source": [
    "import datetime\n",
    "current = datetime.datetime.now()\n",
    "print(f\"Date : {current}\")\n",
    "print(f\"Year : {current.year}\")\n",
    "print(f\"Month : {current.month}\")\n",
    "print(f\"Day : {current.day}\")\n",
    "print(f\"Time : {current.time()}\")\n",
    "print(f\"Hours : {current.hour}\")"
   ]
  },
  {
   "cell_type": "markdown",
   "id": "18120b21",
   "metadata": {},
   "source": [
    "#### Exercise 2: Subtract a week (7 days)  from a given date in Python\n",
    "- Input : given_date = datetime(2020, 2, 25)\n",
    "- Output : 2020-02-18"
   ]
  },
  {
   "cell_type": "code",
   "execution_count": null,
   "id": "b4ec9a66",
   "metadata": {},
   "outputs": [],
   "source": [
    "import datetime\n",
    "givenTime = datetime.datetime(2020,2,25)\n",
    "resTime = givenTime - datetime.timedelta(days=7)\n",
    "resTime"
   ]
  },
  {
   "cell_type": "code",
   "execution_count": null,
   "id": "3474827f",
   "metadata": {},
   "outputs": [],
   "source": []
  }
 ],
 "metadata": {
  "kernelspec": {
   "display_name": "Python 3 (ipykernel)",
   "language": "python",
   "name": "python3"
  },
  "language_info": {
   "codemirror_mode": {
    "name": "ipython",
    "version": 3
   },
   "file_extension": ".py",
   "mimetype": "text/x-python",
   "name": "python",
   "nbconvert_exporter": "python",
   "pygments_lexer": "ipython3",
   "version": "3.8.10"
  }
 },
 "nbformat": 4,
 "nbformat_minor": 5
}
