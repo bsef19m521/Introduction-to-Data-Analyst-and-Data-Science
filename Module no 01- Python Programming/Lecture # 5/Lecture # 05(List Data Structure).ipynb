{
 "cells": [
  {
   "cell_type": "markdown",
   "id": "beginning-swing",
   "metadata": {},
   "source": [
    "---   \n",
    "\n",
    "<h1 align=\"center\">Introduction to Data Analyst and Data Science for beginners</h1>\n",
    "<h1 align=\"center\">Lecture no 05</h1>\n",
    "\n",
    "---\n",
    "<h3><div align=\"right\">Ehtisham Sadiq</div></h3>    "
   ]
  },
  {
   "cell_type": "markdown",
   "id": "exciting-person",
   "metadata": {},
   "source": [
    "<img align=\"center\" width=\"800\" height=\"800\"  src=\"datatypes1.png\" > "
   ]
  },
  {
   "cell_type": "code",
   "execution_count": null,
   "id": "weighted-geneva",
   "metadata": {},
   "outputs": [],
   "source": []
  },
  {
   "cell_type": "markdown",
   "id": "burning-exclusion",
   "metadata": {},
   "source": [
    "<img align=\"center\" width=\"600\" height=\"1200\"  src=\"listvsarray.png\" > \n",
    "Lists in Python however, tend to be more flexible than arrays in other languages for a two good reasons: \n",
    "\n",
    "- They have no fixed size (meaning we don't have to specify how big a list will be).\n",
    "- They have no fixed type constraint."
   ]
  },
  {
   "cell_type": "markdown",
   "id": "blocked-pension",
   "metadata": {},
   "source": [
    "> **A List is a numerically ordered sequence of elements that can store elements of heterogeneous types, is iterable, mutable and allows duplicate elements.**"
   ]
  },
  {
   "cell_type": "code",
   "execution_count": 8,
   "id": "abandoned-orbit",
   "metadata": {},
   "outputs": [
    {
     "name": "stdout",
     "output_type": "stream",
     "text": [
      "['Ehtisham', 21, 78.5, 21, 'Ali']\n"
     ]
    }
   ],
   "source": [
    "list1 = [\"Ehtisham\", 21, 78.5, 21]\n",
    "list1.append(\"Ali\")\n",
    "print(list1)"
   ]
  },
  {
   "cell_type": "code",
   "execution_count": 6,
   "id": "incoming-butter",
   "metadata": {},
   "outputs": [
    {
     "name": "stdout",
     "output_type": "stream",
     "text": [
      "21\n",
      "78.5\n",
      "Ehtisham\n"
     ]
    }
   ],
   "source": [
    "print(list1[1])\n",
    "print(list1[2])\n",
    "print(list1[0])\n",
    "# print(list1[5])"
   ]
  },
  {
   "cell_type": "code",
   "execution_count": 9,
   "id": "random-reminder",
   "metadata": {},
   "outputs": [
    {
     "name": "stdout",
     "output_type": "stream",
     "text": [
      "Ehtisham\n",
      "21\n",
      "78.5\n",
      "21\n",
      "Ali\n"
     ]
    }
   ],
   "source": [
    "for i in list1:\n",
    "    print(i)"
   ]
  },
  {
   "cell_type": "markdown",
   "id": "serial-locking",
   "metadata": {},
   "source": [
    "<img align=\"right\" width=\"300\" height=\"800\"  src=\"pythonlist.png\" > \n",
    "\n",
    "\n",
    "\n",
    "## Learning agenda of this notebook\n",
    "* **Data Structures** are a particular way of organizing data in computer. A clever way of laying out your data to make sure the data does what you want it to do. Most of the variables types that we have studied so far (numbers and strings) have one value in them, when we put a new value in them the old value is overwritten.\n",
    "* **Collections** allows us to put many values in a single variable. Lists, Sets, Tuples, and Dictionaries are some types of Python collections\n",
    "* **Sequences** are collections of objects, however, each object in a sequence is assigned an index and the items of a sequence can be manipulated using its respective index. List and Tuples fall into this category.\n",
    "* Today we are going to talk about **Python Lists**, which is a collection of arbitrary objects, somewhat akin to an array in many other programming languages, but more flexible. Unlike strings, Lists are mutable, meaning the elements inside a list can be changed.\n",
    "\n",
    "1. How to create lists?\n",
    "2. Proof of concepts: Lists are heterogeneous, ordered, mutable, nested, and allow duplicate elements\n",
    "3. Different ways to access list elements\n",
    "4. Slicing Lists\n",
    "5. List concatenation and repetition\n",
    "6. Modifying/Adding elements to a List using `append()`, `extend()`, and `insert()` methods\n",
    "7. Removing elements from a list using `pop()` and `remove()` methods\n",
    "8. Converting string object to list and vice-versa (using type casting, `split()` and `join()`)\n",
    "9. Aliasing vs Shallow Copy vs Deep Copy\n",
    "10. Sorting a list and Custom sorting\n",
    "11. Misc Concepts"
   ]
  },
  {
   "cell_type": "code",
   "execution_count": null,
   "id": "parental-lloyd",
   "metadata": {},
   "outputs": [],
   "source": [
    "help(list)"
   ]
  },
  {
   "cell_type": "markdown",
   "id": "statistical-bishop",
   "metadata": {},
   "source": [
    "## 1. How to Create Lists?\n",
    ">- **A Python List is a numerically ordered sequence of elements that can store multiple items of heterogeneous types and allows duplicate elements.**\n",
    ">- **A Python List can be created by placing comma separated values in square brackets.**"
   ]
  },
  {
   "cell_type": "code",
   "execution_count": 10,
   "id": "abroad-annotation",
   "metadata": {},
   "outputs": [
    {
     "name": "stdout",
     "output_type": "stream",
     "text": [
      "[1, 2, 3, 4, 5]\n",
      "[3.7, 6.5, 3.8, 7.95]\n",
      "['hello', 'this', 'F', 'good show']\n",
      "[True, False, True]\n",
      "[]\n",
      "<class 'list'>\n"
     ]
    }
   ],
   "source": [
    "# It allows us to store elements of different data types (number, boolean, string, list) in one container.\n",
    "\n",
    "list1 = [1,2,3,4,5]   #list of integers\n",
    "print(list1)\n",
    "\n",
    "list2 = [3.7, 6.5, 3.8, 7.95 ]   #list of floats\n",
    "print(list2)\n",
    "\n",
    "list3 = [\"hello\", \"this\", \"F\", \"good show\"]   #list of strings\n",
    "print(list3)\n",
    "\n",
    "list4 = [True, False, True]   #list of boolean\n",
    "print(list4)\n",
    "\n",
    "list5 = []   #this will create an empty list\n",
    "print(list5)\n",
    "\n",
    "print(type(list5))"
   ]
  },
  {
   "cell_type": "markdown",
   "id": "bearing-chemical",
   "metadata": {},
   "source": [
    "> **List inside list is called nested list**"
   ]
  },
  {
   "cell_type": "code",
   "execution_count": 17,
   "id": "lyric-microwave",
   "metadata": {},
   "outputs": [
    {
     "name": "stdout",
     "output_type": "stream",
     "text": [
      "4\n",
      "[10, ['Ahmed', 'Noor'], 'ali']\n"
     ]
    }
   ],
   "source": [
    "# Nested list: lists can also have another list as an item\n",
    "list1 = [\"Ehtisham\", 30, 5.5, [10,[\"Ahmed\",\"Noor\"],'ali']]\n",
    "print(len(list1))\n",
    "print(list1[-1])"
   ]
  },
  {
   "cell_type": "code",
   "execution_count": 18,
   "id": "czech-fluid",
   "metadata": {},
   "outputs": [
    {
     "name": "stdout",
     "output_type": "stream",
     "text": [
      "[]\n"
     ]
    }
   ],
   "source": [
    "# we can create empty list\n",
    "empty_list = []\n",
    "print (empty_list)"
   ]
  },
  {
   "cell_type": "markdown",
   "id": "plastic-blues",
   "metadata": {},
   "source": [
    "> **printing multiple lists using single print() function**"
   ]
  },
  {
   "cell_type": "code",
   "execution_count": 19,
   "id": "ethical-grill",
   "metadata": {},
   "outputs": [
    {
     "name": "stdout",
     "output_type": "stream",
     "text": [
      "[1, 2, 3, 4, 5]\n",
      "['Ehtisham', 30, 5.5, [10, 'ali']]\n",
      "[]\n"
     ]
    }
   ],
   "source": [
    "#printing multiple lists\n",
    "list1 = [1,2,3,4,5]\n",
    "list2 = [\"Ehtisham\", 30, 5.5, [10,'ali']]\n",
    "empty_list = []\n",
    "\n",
    "print(list1, list2, empty_list, sep='\\n')"
   ]
  },
  {
   "cell_type": "markdown",
   "id": "prospective-electronics",
   "metadata": {},
   "source": [
    "## 2. Proof of concepts"
   ]
  },
  {
   "cell_type": "markdown",
   "id": "golden-policy",
   "metadata": {},
   "source": [
    "### a. Lists are heterogeneous\n",
    "- Lists are heterogeneous, as their elements/items can be of any data type"
   ]
  },
  {
   "cell_type": "code",
   "execution_count": 20,
   "id": "governing-junction",
   "metadata": {},
   "outputs": [
    {
     "name": "stdout",
     "output_type": "stream",
     "text": [
      "list1:  ['Ehtisham', 30, 5.5]\n"
     ]
    }
   ],
   "source": [
    "list1 = [\"Ehtisham\", 30, 5.5]\n",
    "print(\"list1: \", list1)"
   ]
  },
  {
   "cell_type": "markdown",
   "id": "excessive-router",
   "metadata": {},
   "source": [
    "### b. Lists are ordered\n",
    "- Lists are ordered means every element is associated by an index\n",
    "- Every time you access list elements they will show up in same sequence. \n",
    "- Moreover, two lists having same elements in different order are not same."
   ]
  },
  {
   "cell_type": "code",
   "execution_count": null,
   "id": "uniform-tribe",
   "metadata": {},
   "outputs": [],
   "source": []
  },
  {
   "cell_type": "code",
   "execution_count": 25,
   "id": "turned-parliament",
   "metadata": {},
   "outputs": [
    {
     "name": "stdout",
     "output_type": "stream",
     "text": [
      "1911788010496 1911821896512\n",
      "False\n",
      "True\n"
     ]
    }
   ],
   "source": [
    "x = [1, 2, 3]\n",
    "y = [1, 2, 3]\n",
    "print(id(x), id(y)) \n",
    "print(x is y)\n",
    "print(x==y)"
   ]
  },
  {
   "cell_type": "code",
   "execution_count": 26,
   "id": "enhanced-pharmaceutical",
   "metadata": {},
   "outputs": [
    {
     "name": "stdout",
     "output_type": "stream",
     "text": [
      "1911788003904\n",
      "1911787999040\n",
      "False\n",
      "False\n"
     ]
    }
   ],
   "source": [
    "a = [1, 2, 3]\n",
    "b = [2, 3, 1]\n",
    "print(id(a), id(b), a is b, a == b, sep=\"\\n\")"
   ]
  },
  {
   "cell_type": "markdown",
   "id": "naughty-headquarters",
   "metadata": {},
   "source": [
    "### c. Lists are mutable\n",
    "- We have seen in previous session that Strings are **immutable**, i.e., we cannot change the contents of a string, however, we can assign an entirely new string to a variable\n",
    "- List on the contrary are **mutable**, i.e., once a List object is created, you can change an element of the list using the index `[]` and assignment `=' operator"
   ]
  },
  {
   "cell_type": "code",
   "execution_count": 27,
   "id": "assured-possibility",
   "metadata": {},
   "outputs": [
    {
     "name": "stdout",
     "output_type": "stream",
     "text": [
      "numbers:  [10, 20, 555, 40, 50]\n"
     ]
    }
   ],
   "source": [
    "numbers = [10, 20, 30, 40, 50]\n",
    "numbers[2] = 555\n",
    "print(\"numbers: \", numbers)"
   ]
  },
  {
   "cell_type": "markdown",
   "id": "cardiac-glasgow",
   "metadata": {},
   "source": [
    "### d. Lists can have duplicate emements"
   ]
  },
  {
   "cell_type": "code",
   "execution_count": 29,
   "id": "broken-future",
   "metadata": {},
   "outputs": [
    {
     "name": "stdout",
     "output_type": "stream",
     "text": [
      "['Ehtisham', 'Ali', 'Hadeed', 'Ehtisham', 'Ahmed']\n",
      "{'Hadeed', 'Ehtisham', 'Ali', 'Ahmed'}\n"
     ]
    }
   ],
   "source": [
    "# lists allow duplicate elements\n",
    "names = ['Ehtisham', 'Ali', 'Hadeed', 'Ehtisham', 'Ahmed']\n",
    "set1 = set(names)\n",
    "print(names)\n",
    "print(set1)"
   ]
  },
  {
   "cell_type": "markdown",
   "id": "transsexual-airplane",
   "metadata": {},
   "source": [
    "### e. Lists can be nested to arbitrary depth\n",
    "- You can have list within list and that can be done to an arbitrary depth. You are only restricted to the available memory on your system"
   ]
  },
  {
   "cell_type": "code",
   "execution_count": 35,
   "id": "coordinated-table",
   "metadata": {},
   "outputs": [
    {
     "name": "stdout",
     "output_type": "stream",
     "text": [
      "[1, 2, 3, [4, 5], [6, 7, 8, 9], 10, 11]\n",
      "[1, 2, 3, [4, 5, [6, 7, 8, [9, 10, 11]]]] 4\n"
     ]
    }
   ],
   "source": [
    "# A list having two sub-lists within it\n",
    "a = [1,2,3,[4,5],[6,7,8,9],10,11]\n",
    "print(a)\n",
    "# A list having a sublist, which is further having a sublist and that again having a sublist\n",
    "b = [1,2,3,[4,5,[6,7,8,[9,10,11]]]]\n",
    "# a, b\n",
    "print(b , len(b))"
   ]
  },
  {
   "cell_type": "markdown",
   "id": "reported-assignment",
   "metadata": {},
   "source": [
    "### f. Packing and Unpacking Lists"
   ]
  },
  {
   "cell_type": "code",
   "execution_count": 37,
   "id": "surprising-extra",
   "metadata": {},
   "outputs": [
    {
     "name": "stdout",
     "output_type": "stream",
     "text": [
      "learning\n",
      "is\n",
      "fun\n",
      "with\n",
      "Ehtisham\n",
      "<class 'str'>\n"
     ]
    }
   ],
   "source": [
    "# you can unpack list elements\n",
    "mylist = ['learning', 'is', 'fun', 'with', 'Ehtisham']\n",
    "\n",
    "a, b, c, d, e = mylist # the number of variables on the left must match the number of elements in the list\n",
    "\n",
    "print (a, b,c,d, e, sep=\"\\n\")\n",
    "\n",
    "print(type(a))"
   ]
  },
  {
   "cell_type": "code",
   "execution_count": 39,
   "id": "superb-drunk",
   "metadata": {},
   "outputs": [
    {
     "name": "stdout",
     "output_type": "stream",
     "text": [
      "('learning', 'is', 'fun', 'with', 'Ehtisham')\n",
      "<class 'tuple'>\n",
      "['learning', 'is', 'fun', 'with', 'Ehtisham']\n",
      "<class 'list'>\n"
     ]
    }
   ],
   "source": [
    "# you can pack individual elements to a list\n",
    "tuple1 = a,b,c,d,e\n",
    "print(tuple1)\n",
    "print(type(tuple1))\n",
    "\n",
    "\n",
    "\n",
    "mylist2 = list(tuple1)\n",
    "print(mylist2)\n",
    "print(type(mylist2))"
   ]
  },
  {
   "cell_type": "code",
   "execution_count": 40,
   "id": "abroad-creek",
   "metadata": {},
   "outputs": [
    {
     "data": {
      "text/plain": [
       "tuple"
      ]
     },
     "execution_count": 40,
     "metadata": {},
     "output_type": "execute_result"
    }
   ],
   "source": [
    "tuple1 = a,b,c,d,e\n",
    "tuple1\n",
    "type(tuple1)"
   ]
  },
  {
   "cell_type": "markdown",
   "id": "champion-israel",
   "metadata": {},
   "source": [
    "## 3. Different ways to access elements of a list\n",
    "- Since Lists like Strings are of type sequence, and any element within a sequence can be accessed by entrying an index within square brackets. So naturally this must work for Lists as well strings.\n",
    "- Similarly, if we want to find out the index of a specific item/element, we can use the `index()` method of List class"
   ]
  },
  {
   "cell_type": "code",
   "execution_count": 43,
   "id": "hollywood-venice",
   "metadata": {},
   "outputs": [
    {
     "name": "stdout",
     "output_type": "stream",
     "text": [
      "[10, 'ali']\n",
      "t\n",
      "ali\n"
     ]
    }
   ],
   "source": [
    "#You can access elements of list using indexing which starts from zero\n",
    "list1 = [\"Ehtisham\", 30, 5.5, [10,'ali']]\n",
    "print(list1[3])\n",
    "\n",
    "#accessing Nested list element\n",
    "print(list1[0][2])              #accessing third element of string at index 0\n",
    "print(list1[3][1])              #accessing second element of Nested list"
   ]
  },
  {
   "cell_type": "code",
   "execution_count": 45,
   "id": "earlier-career",
   "metadata": {},
   "outputs": [
    {
     "name": "stdout",
     "output_type": "stream",
     "text": [
      "[10, 'ali']\n",
      "5.5\n"
     ]
    }
   ],
   "source": [
    "#Negative indexing starts looking at the list from the right hand side\n",
    "list1 = [\"Ehtisham\", 30, 5.5, [10,'ali']]\n",
    "print(list1[-1])                #accessing last element\n",
    "print(list1[-2])                #accessing second last element"
   ]
  },
  {
   "cell_type": "code",
   "execution_count": null,
   "id": "satisfactory-failure",
   "metadata": {},
   "outputs": [],
   "source": [
    "help(list1.index)"
   ]
  },
  {
   "cell_type": "code",
   "execution_count": 49,
   "id": "ranking-animation",
   "metadata": {},
   "outputs": [
    {
     "name": "stdout",
     "output_type": "stream",
     "text": [
      "\n",
      "mylist:  [27, 4.5, 'Ehtisham', 64, 'ali', 19, 'Ehtisham']\n"
     ]
    },
    {
     "ename": "ValueError",
     "evalue": "'ahmed' is not in list",
     "output_type": "error",
     "traceback": [
      "\u001b[1;31m---------------------------------------------------------------------------\u001b[0m",
      "\u001b[1;31mValueError\u001b[0m                                Traceback (most recent call last)",
      "\u001b[1;32m<ipython-input-49-e51d0c3a1817>\u001b[0m in \u001b[0;36m<module>\u001b[1;34m\u001b[0m\n\u001b[0;32m      3\u001b[0m \u001b[0mmylist\u001b[0m \u001b[1;33m=\u001b[0m \u001b[1;33m[\u001b[0m\u001b[1;36m27\u001b[0m\u001b[1;33m,\u001b[0m \u001b[1;36m4.5\u001b[0m\u001b[1;33m,\u001b[0m \u001b[1;34m'Ehtisham'\u001b[0m\u001b[1;33m,\u001b[0m \u001b[1;36m64\u001b[0m\u001b[1;33m,\u001b[0m \u001b[1;34m'ali'\u001b[0m\u001b[1;33m,\u001b[0m \u001b[1;36m19\u001b[0m\u001b[1;33m,\u001b[0m \u001b[1;34m'Ehtisham'\u001b[0m\u001b[1;33m]\u001b[0m\u001b[1;33m\u001b[0m\u001b[1;33m\u001b[0m\u001b[0m\n\u001b[0;32m      4\u001b[0m \u001b[0mprint\u001b[0m\u001b[1;33m(\u001b[0m\u001b[1;34m\"\\nmylist: \"\u001b[0m\u001b[1;33m,\u001b[0m \u001b[0mmylist\u001b[0m\u001b[1;33m)\u001b[0m\u001b[1;33m\u001b[0m\u001b[1;33m\u001b[0m\u001b[0m\n\u001b[1;32m----> 5\u001b[1;33m \u001b[0mmylist\u001b[0m\u001b[1;33m.\u001b[0m\u001b[0mindex\u001b[0m\u001b[1;33m(\u001b[0m\u001b[1;34m'ahmed'\u001b[0m\u001b[1;33m)\u001b[0m\u001b[1;33m\u001b[0m\u001b[1;33m\u001b[0m\u001b[0m\n\u001b[0m\u001b[0;32m      6\u001b[0m \u001b[0mmylist\u001b[0m\u001b[1;33m.\u001b[0m\u001b[0mindex\u001b[0m\u001b[1;33m(\u001b[0m\u001b[1;34m\"Ehtisham\"\u001b[0m\u001b[1;33m)\u001b[0m\u001b[1;33m\u001b[0m\u001b[1;33m\u001b[0m\u001b[0m\n",
      "\u001b[1;31mValueError\u001b[0m: 'ahmed' is not in list"
     ]
    }
   ],
   "source": [
    "# index(value) method is used when you know the list element and wants to get its index\n",
    "# index(value) method returns the index of the first matched item with its only argument\n",
    "mylist = [27, 4.5, 'Ehtisham', 64, 'ali', 19, 'Ehtisham']\n",
    "print(\"\\nmylist: \", mylist)\n",
    "mylist.index('ahmed')\n",
    "mylist.index(\"Ehtisham\")"
   ]
  },
  {
   "cell_type": "code",
   "execution_count": null,
   "id": "taken-wallpaper",
   "metadata": {},
   "outputs": [],
   "source": []
  },
  {
   "cell_type": "markdown",
   "id": "ongoing-velvet",
   "metadata": {},
   "source": [
    "## 4. Slicing Lists\n",
    "- Like anyother sequence object we can perform slicing with lists as well.\n",
    "- Slicing is the process of obtaining a portion of a list by using its indices.\n",
    "- Given a list, we can use the following template to slice it and obtain a sublist:\n",
    "```\n",
    "mylist[start:end:step]\n",
    "```\n",
    "\n",
    "- **start** is the index from where we want the sublist to start. If start is not provided, slicing starts from the beginning.\n",
    "- **end** is the index where we want our sublist to end (not inclusive in the sublist). If end is not provided, slicing goes till the last element of the list.\n",
    "- **step** is the step through which we want to skip elements in the list. The default step is 1, so we iterate through every element of the list."
   ]
  },
  {
   "cell_type": "code",
   "execution_count": 50,
   "id": "dying-salem",
   "metadata": {},
   "outputs": [
    {
     "data": {
      "text/plain": [
       "['a', 'b', 'c', 'd', 'e', 'f', 'g', 'h', 'i']"
      ]
     },
     "execution_count": 50,
     "metadata": {},
     "output_type": "execute_result"
    }
   ],
   "source": [
    "list1 = ['a','b','c','d','e','f','g','h','i']\n",
    "list1"
   ]
  },
  {
   "cell_type": "code",
   "execution_count": 51,
   "id": "diverse-message",
   "metadata": {},
   "outputs": [
    {
     "data": {
      "text/plain": [
       "['a', 'b', 'c', 'd', 'e', 'f', 'g', 'h', 'i']"
      ]
     },
     "execution_count": 51,
     "metadata": {},
     "output_type": "execute_result"
    }
   ],
   "source": [
    "list1[::]"
   ]
  },
  {
   "cell_type": "code",
   "execution_count": 52,
   "id": "executive-august",
   "metadata": {},
   "outputs": [
    {
     "data": {
      "text/plain": [
       "['d', 'e', 'f', 'g', 'h', 'i']"
      ]
     },
     "execution_count": 52,
     "metadata": {},
     "output_type": "execute_result"
    }
   ],
   "source": [
    "list1[3:]"
   ]
  },
  {
   "cell_type": "code",
   "execution_count": 53,
   "id": "neutral-carbon",
   "metadata": {},
   "outputs": [
    {
     "data": {
      "text/plain": [
       "['a', 'b', 'c', 'd']"
      ]
     },
     "execution_count": 53,
     "metadata": {},
     "output_type": "execute_result"
    }
   ],
   "source": [
    "list1[:4]"
   ]
  },
  {
   "cell_type": "code",
   "execution_count": 54,
   "id": "behavioral-retail",
   "metadata": {},
   "outputs": [
    {
     "data": {
      "text/plain": [
       "['c', 'd', 'e']"
      ]
     },
     "execution_count": 54,
     "metadata": {},
     "output_type": "execute_result"
    }
   ],
   "source": [
    "list1[2:5]"
   ]
  },
  {
   "cell_type": "code",
   "execution_count": 55,
   "id": "viral-template",
   "metadata": {},
   "outputs": [
    {
     "data": {
      "text/plain": [
       "['a', 'b', 'c', 'd', 'e', 'f', 'g']"
      ]
     },
     "execution_count": 55,
     "metadata": {},
     "output_type": "execute_result"
    }
   ],
   "source": [
    "list1[:-2]"
   ]
  },
  {
   "cell_type": "code",
   "execution_count": 56,
   "id": "aboriginal-drink",
   "metadata": {},
   "outputs": [
    {
     "data": {
      "text/plain": [
       "'i'"
      ]
     },
     "execution_count": 56,
     "metadata": {},
     "output_type": "execute_result"
    }
   ],
   "source": [
    "list1[-1]"
   ]
  },
  {
   "cell_type": "code",
   "execution_count": 60,
   "id": "incorporate-crown",
   "metadata": {},
   "outputs": [
    {
     "name": "stdout",
     "output_type": "stream",
     "text": [
      "['a', 'b', 'c', 'd', 'e', 'f', 'g', 'h', 'i']\n",
      "['a', 'b', 'c', 'd', 'e', 'f', 'g', 'h', 'i']\n",
      "['a', 'c', 'e', 'g', 'i']\n",
      "['a', 'd', 'g']\n"
     ]
    }
   ],
   "source": [
    "# Slicing by using strides\n",
    "list1 = ['a','b','c','d','e','f','g','h','i']\n",
    "print(list1[::])  # A default step of 1\n",
    "print(list1[::1])  # A step of 1\n",
    "print(list1[::2])  # A step of 2\n",
    "print(list1[::3])  # A step of 3"
   ]
  },
  {
   "cell_type": "code",
   "execution_count": 65,
   "id": "interior-beaver",
   "metadata": {},
   "outputs": [
    {
     "name": "stdout",
     "output_type": "stream",
     "text": [
      "['i', 'h', 'g', 'f', 'e', 'd', 'c', 'b', 'a']\n",
      "['f', 'e', 'd', 'c']\n",
      "['i', 'h', 'g', 'f', 'e', 'd', 'c']\n",
      "['i', 'g', 'e', 'c', 'a']\n"
     ]
    }
   ],
   "source": [
    "# Reverse slicing\n",
    "list1 = ['a','b','c','d','e','f','g','h','i']\n",
    "print(list1[::-1]) # Take 1 step back each time\n",
    "print(list1[5:1:-1]) # Take 1 step back each time\n",
    "# if start is less than end in case of a negative step, it will return empty string\n",
    "print(list1[2:10:-1])\n",
    "print(list1[::-2]) # Take 2 steps back"
   ]
  },
  {
   "cell_type": "code",
   "execution_count": null,
   "id": "exotic-armor",
   "metadata": {},
   "outputs": [],
   "source": []
  },
  {
   "cell_type": "markdown",
   "id": "electoral-buffer",
   "metadata": {},
   "source": [
    "Here are some experiments you should try out:\n",
    "\n",
    "* Try setting one or both indices of the range are larger than the size of the list, e.g., `a_list[2:10]`\n",
    "* Try setting the start index of the range to be larger than the end index, e.g., `a_list[12:10]`\n",
    "* Try leaving out the start or end index of a range, e.g., `a_list[2:]` or `a_list[:5]`\n",
    "* Try using negative indices for the range, e.g., `a_list[-2:-5]` or `a_list[-5:-2]` (can you explain the results?)\n",
    "\n",
    "> The flexible and interactive nature of Jupyter notebooks makes them an excellent tool for learning and experimentation. If you are new to Python, you can resolve most questions as soon as they arise simply by typing the code into a cell and executing it. **Let your curiosity run wild, discover what Python is capable of and what it isn't!**"
   ]
  },
  {
   "cell_type": "markdown",
   "id": "legislative-latest",
   "metadata": {},
   "source": [
    "## 5. List Concatenation and Repetition"
   ]
  },
  {
   "cell_type": "markdown",
   "id": "competent-antibody",
   "metadata": {},
   "source": [
    "### a. Concatenating Lists\n",
    "- Like Strings, the `+` operator can be used to concatenate two or more lists"
   ]
  },
  {
   "cell_type": "code",
   "execution_count": 72,
   "id": "naked-guest",
   "metadata": {},
   "outputs": [
    {
     "name": "stdout",
     "output_type": "stream",
     "text": [
      "[1, 2, 3]\n",
      "[1, 2, 3, 4, 5]\n",
      "[0, 1, 2, 3, 4, 5]\n"
     ]
    }
   ],
   "source": [
    "# Add some elements to the end of an existing list using concatenation operator\n",
    "a = [1,2,3]\n",
    "b = a + [4,5]\n",
    "# Add some elements to the beginning of an existing list using concatenation operator\n",
    "c = [0] + b\n",
    "print(a, b, c, sep=\"\\n\")"
   ]
  },
  {
   "cell_type": "code",
   "execution_count": 73,
   "id": "north-benefit",
   "metadata": {},
   "outputs": [
    {
     "name": "stdout",
     "output_type": "stream",
     "text": [
      "['fruits', 'bread', 'veggies', 'meat', 'spices', 'burger']\n"
     ]
    }
   ],
   "source": [
    "# use + operator to concatenate two lists\n",
    "food_items1 = ['fruits', 'bread', 'veggies'] \n",
    "food_items2 = ['meat', 'spices', 'burger']\n",
    "food = food_items1 + food_items2\n",
    "print(food)"
   ]
  },
  {
   "cell_type": "code",
   "execution_count": 74,
   "id": "wanted-claim",
   "metadata": {},
   "outputs": [
    {
     "name": "stdout",
     "output_type": "stream",
     "text": [
      "[5, 3.4, 'hello', 31, 9.7, 'bye']\n"
     ]
    }
   ],
   "source": [
    "# You can concatenate two heterogeneous lists\n",
    "list1 = [5, 3.4, 'hello']\n",
    "list2 = [31, 9.7, 'bye']\n",
    "list3 = list1 + list2\n",
    "print(list3)"
   ]
  },
  {
   "cell_type": "code",
   "execution_count": 75,
   "id": "sensitive-report",
   "metadata": {},
   "outputs": [
    {
     "name": "stdout",
     "output_type": "stream",
     "text": [
      "[1, 2, 3, 4, 5, 6, [7, 8]]\n"
     ]
    }
   ],
   "source": [
    "num1 = [1,2,3]\n",
    "num2 = num1 + [4, 5, 6, [7, 8]]\n",
    "print (num2)"
   ]
  },
  {
   "cell_type": "markdown",
   "id": "acceptable-commercial",
   "metadata": {},
   "source": [
    "### b. Replicating Lists\n",
    "- Like Strings, the `*` operator can be used to repeat or replicate a list multiple times"
   ]
  },
  {
   "cell_type": "code",
   "execution_count": 76,
   "id": "polish-stand",
   "metadata": {},
   "outputs": [
    {
     "name": "stdout",
     "output_type": "stream",
     "text": [
      "['Ehtisham', 'Ali', 'Ahmed', 'Ehtisham', 'Ali', 'Ahmed', 'Ehtisham', 'Ali', 'Ahmed']\n"
     ]
    }
   ],
   "source": [
    "# use list * n syntax to create large lists by repeating the list n times\n",
    "name = ['Ehtisham', 'Ali', 'Ahmed']\n",
    "a = name * 3\n",
    "print(a)"
   ]
  },
  {
   "cell_type": "code",
   "execution_count": 77,
   "id": "textile-senator",
   "metadata": {},
   "outputs": [
    {
     "name": "stdout",
     "output_type": "stream",
     "text": [
      "['A', 'A', 'A', 'A', 'A', 'A', 'A', 'A', 'A', 'A', 'A', 'A', 'A', 'A', 'A', 'A', 'A', 'A', 'A', 'A', 'A', 'A', 'A', 'A', 'A', 'A', 'A', 'A', 'A', 'A', 'A', 'A', 'A', 'A', 'A', 'A', 'A', 'A', 'A', 'A', 'A', 'A', 'A', 'A', 'A', 'A', 'A', 'A', 'A', 'A', 'A', 'A', 'A', 'A', 'A', 'A', 'A', 'A', 'A', 'A', 'A', 'A', 'A', 'A', 'A', 'A', 'A', 'A', 'A', 'A', 'A', 'A', 'A', 'A', 'A', 'A', 'A', 'A', 'A', 'A', 'A', 'A', 'A', 'A', 'A', 'A', 'A', 'A', 'A', 'A', 'A', 'A', 'A', 'A', 'A', 'A', 'A', 'A', 'A', 'A']\n"
     ]
    }
   ],
   "source": [
    "#list of 100 A's\n",
    "buf = ['A']\n",
    "newbuf = buf * 100\n",
    "print(newbuf)"
   ]
  },
  {
   "cell_type": "markdown",
   "id": "military-easter",
   "metadata": {},
   "source": [
    "## 6. Modifying/Adding elements to a list\n",
    "\n",
    "- We have worked on different methods of String class in our previous session. Similarly there are several built-in methods of the List class. \n",
    "> **Remember, unlike String methods, most methods of List class modify the original List rather than returning a new one.**\n",
    "- Lists are dynamic, as we write our Python program, we can actually make changes to our already created list, whithout having to go for compiling it again. \n",
    "- If we have to add certain elements to an already created list, the original list gorws dynamically without the need of compiling/running the program again (as in case of heap memory in C/C++)\n",
    "\n",
    "- We can use a list methods to perform various tasks on a list object and modify it. \n",
    "- Some list methods that can be used to alter a list are (append, insert, extend, remove, pop, clear, index, count, sort, reverse, split and join)\n",
    "- Check out some common list operations here: https://www.w3schools.com/python/python_ref_list.asp ."
   ]
  },
  {
   "cell_type": "markdown",
   "id": "royal-ratio",
   "metadata": {},
   "source": [
    "### a. Modifying/Adding elements to a list using [ ] operator"
   ]
  },
  {
   "cell_type": "code",
   "execution_count": 3,
   "id": "prostate-manner",
   "metadata": {},
   "outputs": [
    {
     "name": "stdout",
     "output_type": "stream",
     "text": [
      "Original List :  ['data science', 'machine learning', 2, 5, 7]\n",
      "5\n",
      "New List/ Modified List :  ['data science', 'big data', 2, 5, 7]\n"
     ]
    }
   ],
   "source": [
    "mylist = ['data science', 'machine learning', 2, 5, 7]\n",
    "# Let us change the second element of this list\n",
    "print(\"Original List : \", mylist)\n",
    "\n",
    "mylist[1] = 'big data' #item assignment\n",
    "\n",
    "print(len(mylist))\n",
    "print(\"New List/ Modified List : \",mylist)"
   ]
  },
  {
   "cell_type": "code",
   "execution_count": 4,
   "id": "capital-knitting",
   "metadata": {},
   "outputs": [
    {
     "name": "stdout",
     "output_type": "stream",
     "text": [
      "Original List :  ['data science', 'machine learning', 2, 5, 7]\n",
      "5\n",
      "Modified List :  ['english', 'urdu', 2, 5, 7]\n"
     ]
    }
   ],
   "source": [
    "# We can use the slice index to modify multiple list elements in one go\n",
    "mylist = ['data science', 'machine learning', 2, 5, 7]\n",
    "print(\"Original List : \", mylist)\n",
    "\n",
    "mylist[0:2] = ['english', 'urdu'] # Note we are replacing two elements with two elements\n",
    "print(len(mylist))\n",
    "\n",
    "print(\"Modified List : \", mylist)"
   ]
  },
  {
   "cell_type": "code",
   "execution_count": 5,
   "id": "expected-operation",
   "metadata": {},
   "outputs": [
    {
     "data": {
      "text/plain": [
       "['BIG DATA', 2, 5, 7]"
      ]
     },
     "execution_count": 5,
     "metadata": {},
     "output_type": "execute_result"
    }
   ],
   "source": [
    "# We can replace more number of elements with lesser number of elements in a list\n",
    "mylist = ['data science', 'machine learning', 2, 5, 7]\n",
    "mylist[0:2] = ['BIG DATA'] # Note we are replacing two elements with one element\n",
    "mylist"
   ]
  },
  {
   "cell_type": "code",
   "execution_count": 6,
   "id": "potential-operation",
   "metadata": {},
   "outputs": [
    {
     "data": {
      "text/plain": [
       "[['math', 'stat'], 'machine learning', 2, 5, 7]"
      ]
     },
     "execution_count": 6,
     "metadata": {},
     "output_type": "execute_result"
    }
   ],
   "source": [
    "# We can replace one element with more number of elements in a list\n",
    "mylist = ['data science', 'machine learning', 2, 5, 7]\n",
    "\n",
    "mylist[0] = ['math', 'stat'] # Note we are replacing one element with two elements\n",
    "\n",
    "mylist"
   ]
  },
  {
   "cell_type": "markdown",
   "id": "residential-syndication",
   "metadata": {},
   "source": [
    "- Note the elements have been added, but as a sub-list. The first element 'data science' is replaced by a sub-list having two elements 'math' and 'stat'\n",
    "- If you want the elements to be individually placed in the list do as follows:"
   ]
  },
  {
   "cell_type": "code",
   "execution_count": 8,
   "id": "growing-fitting",
   "metadata": {},
   "outputs": [
    {
     "data": {
      "text/plain": [
       "['math', 'stat', 'machine learning', 2, 5, 7]"
      ]
     },
     "execution_count": 8,
     "metadata": {},
     "output_type": "execute_result"
    }
   ],
   "source": [
    "mylist = ['data science', 'machine learning', 2, 5, 7]\n",
    "mylist[0:1] = ['math', 'stat'] # Note we using a slice instead of single index, although it means just zero\n",
    "mylist"
   ]
  },
  {
   "cell_type": "code",
   "execution_count": null,
   "id": "expressed-vision",
   "metadata": {},
   "outputs": [],
   "source": []
  },
  {
   "cell_type": "code",
   "execution_count": 12,
   "id": "collaborative-somewhere",
   "metadata": {},
   "outputs": [],
   "source": [
    "\n"
   ]
  },
  {
   "cell_type": "code",
   "execution_count": null,
   "id": "pointed-discount",
   "metadata": {},
   "outputs": [],
   "source": []
  },
  {
   "cell_type": "code",
   "execution_count": null,
   "id": "dominican-familiar",
   "metadata": {},
   "outputs": [],
   "source": []
  },
  {
   "cell_type": "markdown",
   "id": "modified-referral",
   "metadata": {},
   "source": [
    "### b. Adding elements to a list using `list.append(value)` method\n",
    "- `list.append(value)` method is used when you want to add a single element at the end of the list\n",
    "- It is passed one argument which is the element to be inserted and returns none/void"
   ]
  },
  {
   "cell_type": "code",
   "execution_count": 18,
   "id": "ordered-region",
   "metadata": {},
   "outputs": [
    {
     "name": "stdout",
     "output_type": "stream",
     "text": [
      "Help on built-in function append:\n",
      "\n",
      "append(object, /) method of builtins.list instance\n",
      "    Append object to the end of the list.\n",
      "\n"
     ]
    }
   ],
   "source": [
    "list1 = []\n",
    "help(list1.append)"
   ]
  },
  {
   "cell_type": "code",
   "execution_count": 21,
   "id": "becoming-activity",
   "metadata": {},
   "outputs": [
    {
     "name": "stdout",
     "output_type": "stream",
     "text": [
      "[2, 4, 6, 8]\n"
     ]
    },
    {
     "data": {
      "text/plain": [
       "[2, 4, 6, 8, 4.631, 'hello']"
      ]
     },
     "execution_count": 21,
     "metadata": {},
     "output_type": "execute_result"
    }
   ],
   "source": [
    "list1 = [2, 4, 6, 8]\n",
    "print(list1)\n",
    "list1.append(4.631)\n",
    "list1.append('hello')\n",
    "list1"
   ]
  },
  {
   "cell_type": "code",
   "execution_count": null,
   "id": "advisory-optimization",
   "metadata": {},
   "outputs": [],
   "source": []
  },
  {
   "cell_type": "code",
   "execution_count": 24,
   "id": "exciting-absorption",
   "metadata": {},
   "outputs": [],
   "source": []
  },
  {
   "cell_type": "code",
   "execution_count": null,
   "id": "mysterious-hearing",
   "metadata": {},
   "outputs": [],
   "source": []
  },
  {
   "cell_type": "code",
   "execution_count": 29,
   "id": "fifty-dylan",
   "metadata": {},
   "outputs": [
    {
     "data": {
      "text/plain": [
       "[2, 4, 6, 8, [4.631, 'hello'], ['ali', 32, 4, 4]]"
      ]
     },
     "execution_count": 29,
     "metadata": {},
     "output_type": "execute_result"
    }
   ],
   "source": [
    "# You cannot add multiple elements using append\n",
    "# If you try it will actually add those elements as a sub-list\n",
    "list1 = [2, 4, 6, 8]\n",
    "\n",
    "list1.append([4.631, 'hello'])\n",
    "list1.append(['ali',32,4,4])\n",
    "\n",
    "list1"
   ]
  },
  {
   "cell_type": "markdown",
   "id": "defensive-circle",
   "metadata": {},
   "source": [
    "### c. Adding elements to a list using `list.extend(sublist)` method\n",
    "- `list.extend(sublist)` method is used when you want to add multiple elements at the end of the list\n",
    "- It is passed a list to be added at the end and returns none/void"
   ]
  },
  {
   "cell_type": "code",
   "execution_count": 30,
   "id": "figured-arrangement",
   "metadata": {},
   "outputs": [
    {
     "name": "stdout",
     "output_type": "stream",
     "text": [
      "Help on built-in function extend:\n",
      "\n",
      "extend(iterable, /) method of builtins.list instance\n",
      "    Extend list by appending elements from the iterable.\n",
      "\n"
     ]
    }
   ],
   "source": [
    "list1 = []\n",
    "help(list1.extend)"
   ]
  },
  {
   "cell_type": "code",
   "execution_count": 33,
   "id": "cheap-persian",
   "metadata": {},
   "outputs": [
    {
     "name": "stdout",
     "output_type": "stream",
     "text": [
      "Original List :  [2, 4, 6, 8]\n"
     ]
    },
    {
     "data": {
      "text/plain": [
       "[2, 4, 6, 8, 4.631, 'hello', 'A', 'l', 'i']"
      ]
     },
     "execution_count": 33,
     "metadata": {},
     "output_type": "execute_result"
    }
   ],
   "source": [
    "list1 = [2, 4, 6, 8]\n",
    "print(\"Original List : \", list1)\n",
    "list1.extend([4.631, 'hello'])\n",
    "list1.extend('Ali')\n",
    "list1"
   ]
  },
  {
   "cell_type": "code",
   "execution_count": 34,
   "id": "interpreted-burton",
   "metadata": {},
   "outputs": [
    {
     "data": {
      "text/plain": [
       "['apple', 'banana', 'cherry', 'potato', 'tomato', 'radish']"
      ]
     },
     "execution_count": 34,
     "metadata": {},
     "output_type": "execute_result"
    }
   ],
   "source": [
    "# another example of extend()\n",
    "fruits = ['apple', 'banana', 'cherry']\n",
    "vegs = ['potato', 'tomato', 'radish']\n",
    "fruits.extend(vegs)\n",
    "fruits"
   ]
  },
  {
   "cell_type": "markdown",
   "id": "convinced-savannah",
   "metadata": {},
   "source": [
    "### d. Adding elements to a list using `list.insert(index, value)` method\n",
    "- `list.insert(index, value)` method is used when you want to add an element at a specific location in the list\n",
    "- It is passed index and value and returns none/void"
   ]
  },
  {
   "cell_type": "code",
   "execution_count": null,
   "id": "thermal-belarus",
   "metadata": {},
   "outputs": [],
   "source": [
    "list1 = []\n",
    "help(list1.insert)"
   ]
  },
  {
   "cell_type": "code",
   "execution_count": null,
   "id": "eligible-shuttle",
   "metadata": {},
   "outputs": [],
   "source": []
  },
  {
   "cell_type": "code",
   "execution_count": 41,
   "id": "constitutional-illustration",
   "metadata": {},
   "outputs": [
    {
     "name": "stdout",
     "output_type": "stream",
     "text": [
      "\n",
      "Original family list:  ['Ehtisham', 'Ali', 'Ayesha']\n",
      "After insert:  ['Ehtisham', 'Ali', 'Dua', 'Ayesha']\n"
     ]
    }
   ],
   "source": [
    "myfamily = [\"Ehtisham\", 'Ali', 'Ayesha']\n",
    "\n",
    "print(\"\\nOriginal family list: \", myfamily)\n",
    "\n",
    "\n",
    "myfamily.insert(2,'Dua')\n",
    "\n",
    "print(\"After insert: \", myfamily)"
   ]
  },
  {
   "cell_type": "code",
   "execution_count": 42,
   "id": "earned-voltage",
   "metadata": {},
   "outputs": [
    {
     "name": "stdout",
     "output_type": "stream",
     "text": [
      "After insert:  ['Ehtisham', 'Ali', 'Dua', 'Adeen', 'Ayesha']\n"
     ]
    }
   ],
   "source": [
    "myfamily.insert(3,'Adeen')\n",
    "print(\"After insert: \", myfamily)"
   ]
  },
  {
   "cell_type": "code",
   "execution_count": 44,
   "id": "absent-usage",
   "metadata": {},
   "outputs": [
    {
     "data": {
      "text/plain": [
       "(4, ['Ehtisham', 'Ali', 'Ayesha', ['Dua', 'Adeen']])"
      ]
     },
     "execution_count": 44,
     "metadata": {},
     "output_type": "execute_result"
    }
   ],
   "source": [
    "# you can insert a sub-list\n",
    "myfamily = [\"Ehtisham\", 'Ali', 'Ayesha']\n",
    "myfamily.insert(5,['Dua','Adeen'])\n",
    "len(myfamily), myfamily"
   ]
  },
  {
   "cell_type": "markdown",
   "id": "accessory-advancement",
   "metadata": {},
   "source": [
    "## 7. Removing elements from a list using `list.pop()` and `list.remove()` methods\n",
    "- Lists are dynamic, as we write our Python program, we can actually make changes to our already created list, whithout having to go for compiling it again. \n",
    "- If we have to remove certain elements from an already created list, the original list shrinks dynamically without the need of compiling/running the program again (as in case of heap memory in C/C++)"
   ]
  },
  {
   "cell_type": "markdown",
   "id": "ruled-lambda",
   "metadata": {},
   "source": [
    "### a. Removing element from a List using `list.pop(index)` method\n",
    "- The `list.pop()` method without any argument removes the last item (right most element) in the list and returns it\n",
    "- If given an argument/index, will remove that item from list whose index is given and returns it"
   ]
  },
  {
   "cell_type": "code",
   "execution_count": 45,
   "id": "charming-shield",
   "metadata": {},
   "outputs": [
    {
     "name": "stdout",
     "output_type": "stream",
     "text": [
      "Help on built-in function pop:\n",
      "\n",
      "pop(index=-1, /) method of builtins.list instance\n",
      "    Remove and return item at index (default last).\n",
      "    \n",
      "    Raises IndexError if list is empty or index is out of range.\n",
      "\n"
     ]
    }
   ],
   "source": [
    "list1 = []\n",
    "help(list1.pop)"
   ]
  },
  {
   "cell_type": "code",
   "execution_count": 46,
   "id": "collectible-farmer",
   "metadata": {},
   "outputs": [
    {
     "name": "stdout",
     "output_type": "stream",
     "text": [
      "Original list:  ['learning', 'is', 'fun', 'with', 'Ehtisham', 'Sadiq']\n",
      "\n",
      "After pop():  ['learning', 'is', 'fun', 'with', 'Ehtisham']\n",
      "Element popped is:  Sadiq\n"
     ]
    }
   ],
   "source": [
    "list1 = ['learning', 'is', 'fun', 'with', 'Ehtisham', 'Sadiq']\n",
    "\n",
    "print(\"Original list: \", list1)\n",
    "\n",
    "x  = list1.pop()\n",
    "\n",
    "print(\"\\nAfter pop(): \", list1)\n",
    "print(\"Element popped is: \", x)"
   ]
  },
  {
   "cell_type": "code",
   "execution_count": 47,
   "id": "proper-shock",
   "metadata": {},
   "outputs": [
    {
     "name": "stdout",
     "output_type": "stream",
     "text": [
      "\n",
      "After pop(2):  ['learning', 'is', 'with', 'Ehtisham']\n",
      "Element popped is:  fun\n"
     ]
    }
   ],
   "source": [
    "y = list1.pop(2)\n",
    "print(\"\\nAfter pop(2): \", list1)\n",
    "print(\"Element popped is: \", y)"
   ]
  },
  {
   "cell_type": "code",
   "execution_count": 48,
   "id": "muslim-illustration",
   "metadata": {},
   "outputs": [
    {
     "name": "stdout",
     "output_type": "stream",
     "text": [
      "\n",
      "After pop(-2):  ['learning', 'is', 'Ehtisham']\n",
      "Element popped is:  with\n"
     ]
    }
   ],
   "source": [
    "z = list1.pop(-2)\n",
    "print(\"\\nAfter pop(-2): \", list1)\n",
    "print(\"Element popped is: \", z)"
   ]
  },
  {
   "cell_type": "code",
   "execution_count": 49,
   "id": "endangered-decrease",
   "metadata": {},
   "outputs": [
    {
     "ename": "IndexError",
     "evalue": "pop from empty list",
     "output_type": "error",
     "traceback": [
      "\u001b[1;31m---------------------------------------------------------------------------\u001b[0m",
      "\u001b[1;31mIndexError\u001b[0m                                Traceback (most recent call last)",
      "\u001b[1;32m<ipython-input-49-5c69ad852227>\u001b[0m in \u001b[0;36m<module>\u001b[1;34m\u001b[0m\n\u001b[0;32m      1\u001b[0m \u001b[0mlist2\u001b[0m \u001b[1;33m=\u001b[0m \u001b[1;33m[\u001b[0m\u001b[1;33m]\u001b[0m\u001b[1;33m\u001b[0m\u001b[1;33m\u001b[0m\u001b[0m\n\u001b[1;32m----> 2\u001b[1;33m \u001b[0mlist2\u001b[0m\u001b[1;33m.\u001b[0m\u001b[0mpop\u001b[0m\u001b[1;33m(\u001b[0m\u001b[1;33m)\u001b[0m\u001b[1;33m\u001b[0m\u001b[1;33m\u001b[0m\u001b[0m\n\u001b[0m",
      "\u001b[1;31mIndexError\u001b[0m: pop from empty list"
     ]
    }
   ],
   "source": [
    "list2 = []\n",
    "list2.pop()"
   ]
  },
  {
   "cell_type": "markdown",
   "id": "asian-edmonton",
   "metadata": {},
   "source": [
    "### b. Removing element from a list using `list.remove(val)` method\n",
    "- The `list.remove(value)` method is used when you want to remove a specific element without returning it\n",
    "- It is passed exactly one argument, which is the value to be removed and returns none/void\n",
    "- In case of multiple occurrances, it removes the first occurrence of the element"
   ]
  },
  {
   "cell_type": "code",
   "execution_count": 50,
   "id": "russian-smoke",
   "metadata": {},
   "outputs": [
    {
     "name": "stdout",
     "output_type": "stream",
     "text": [
      "Help on built-in function remove:\n",
      "\n",
      "remove(value, /) method of builtins.list instance\n",
      "    Remove first occurrence of value.\n",
      "    \n",
      "    Raises ValueError if the value is not present.\n",
      "\n"
     ]
    }
   ],
   "source": [
    "list1 = []\n",
    "help(list1.remove)"
   ]
  },
  {
   "cell_type": "code",
   "execution_count": 51,
   "id": "electoral-siemens",
   "metadata": {},
   "outputs": [
    {
     "name": "stdout",
     "output_type": "stream",
     "text": [
      "\n",
      "Original list:  ['learning', 'is', 'fun', 'with', 'Ehtisham', 'sadiq', 'fun']\n",
      "After remove('fun'):  ['learning', 'is', 'with', 'Ehtisham', 'sadiq', 'fun']\n",
      "Return value of remove() is:  None\n"
     ]
    }
   ],
   "source": [
    "list2 = ['learning', 'is', 'fun', 'with', 'Ehtisham', 'sadiq', 'fun']\n",
    "print(\"\\nOriginal list: \", list2)\n",
    "\n",
    "x = list2.remove('fun')\n",
    "\n",
    "print(\"After remove('fun'): \", list2)\n",
    "print(\"Return value of remove() is: \", x)"
   ]
  },
  {
   "cell_type": "markdown",
   "id": "objective-stand",
   "metadata": {},
   "source": [
    "### c. Using `list.clear()` method to remove all the list elements"
   ]
  },
  {
   "cell_type": "code",
   "execution_count": 52,
   "id": "arctic-brave",
   "metadata": {},
   "outputs": [
    {
     "name": "stdout",
     "output_type": "stream",
     "text": [
      "Help on built-in function clear:\n",
      "\n",
      "clear() method of builtins.list instance\n",
      "    Remove all items from list.\n",
      "\n"
     ]
    }
   ],
   "source": [
    "list1 = []\n",
    "help(list1.clear)"
   ]
  },
  {
   "cell_type": "code",
   "execution_count": 53,
   "id": "altered-extra",
   "metadata": {},
   "outputs": [
    {
     "name": "stdout",
     "output_type": "stream",
     "text": [
      "\n",
      "After clear() the list becomes empty:  []\n"
     ]
    }
   ],
   "source": [
    "list2 = ['learning', 'is', 'fun', 'with', 'Ehtisham', 'Sadiq']\n",
    "list2.clear()\n",
    "print(\"\\nAfter clear() the list becomes empty: \", list2)"
   ]
  },
  {
   "cell_type": "markdown",
   "id": "overall-burton",
   "metadata": {},
   "source": [
    "### d. Using `del` Keyword to delete one or more list items or delete the list entirely from memory"
   ]
  },
  {
   "cell_type": "code",
   "execution_count": 54,
   "id": "expanded-parts",
   "metadata": {},
   "outputs": [
    {
     "name": "stdout",
     "output_type": "stream",
     "text": [
      "The \"del\" statement\n",
      "*******************\n",
      "\n",
      "   del_stmt ::= \"del\" target_list\n",
      "\n",
      "Deletion is recursively defined very similar to the way assignment is\n",
      "defined. Rather than spelling it out in full details, here are some\n",
      "hints.\n",
      "\n",
      "Deletion of a target list recursively deletes each target, from left\n",
      "to right.\n",
      "\n",
      "Deletion of a name removes the binding of that name from the local or\n",
      "global namespace, depending on whether the name occurs in a \"global\"\n",
      "statement in the same code block.  If the name is unbound, a\n",
      "\"NameError\" exception will be raised.\n",
      "\n",
      "Deletion of attribute references, subscriptions and slicings is passed\n",
      "to the primary object involved; deletion of a slicing is in general\n",
      "equivalent to assignment of an empty slice of the right type (but even\n",
      "this is determined by the sliced object).\n",
      "\n",
      "Changed in version 3.2: Previously it was illegal to delete a name\n",
      "from the local namespace if it occurs as a free variable in a nested\n",
      "block.\n",
      "\n",
      "Related help topics: BASICMETHODS\n",
      "\n"
     ]
    }
   ],
   "source": [
    "help('del')"
   ]
  },
  {
   "cell_type": "code",
   "execution_count": 55,
   "id": "willing-rabbit",
   "metadata": {},
   "outputs": [
    {
     "data": {
      "text/plain": [
       "[1, 2, 3, 7, 8, 9]"
      ]
     },
     "execution_count": 55,
     "metadata": {},
     "output_type": "execute_result"
    }
   ],
   "source": [
    "# use del keyword to delete one or more list items by using index or to delete the list entirely from memory\n",
    "list3 = [1,2,3,4,5,6,7,8,9]\n",
    "del list3[3:6]\n",
    "list3"
   ]
  },
  {
   "cell_type": "code",
   "execution_count": 59,
   "id": "aboriginal-carnival",
   "metadata": {},
   "outputs": [
    {
     "name": "stdout",
     "output_type": "stream",
     "text": [
      "\n",
      "Original list [1, 2, 3, [53, 41, 99, 12], 8, 9]\n",
      "After del list1[3] the list becomes [1, 2, 3, 8, 9]\n"
     ]
    }
   ],
   "source": [
    "# use del keyword to delete one or more list items by using index or to delete the list entirely from memory\n",
    "list3 = [1,2,3,[53, 41, 99, 12], 8,9]\n",
    "print(\"\\nOriginal list\", list3)\n",
    "del list3[3]\n",
    "print(\"After del list1[3] the list becomes\", list3)"
   ]
  },
  {
   "cell_type": "code",
   "execution_count": 57,
   "id": "nasty-reason",
   "metadata": {},
   "outputs": [
    {
     "ename": "NameError",
     "evalue": "name 'mylist' is not defined",
     "output_type": "error",
     "traceback": [
      "\u001b[1;31m---------------------------------------------------------------------------\u001b[0m",
      "\u001b[1;31mNameError\u001b[0m                                 Traceback (most recent call last)",
      "\u001b[1;32m<ipython-input-57-fb7d204b6a8c>\u001b[0m in \u001b[0;36m<module>\u001b[1;34m\u001b[0m\n\u001b[0;32m      2\u001b[0m \u001b[0mmylist\u001b[0m \u001b[1;33m=\u001b[0m \u001b[1;33m[\u001b[0m\u001b[1;34m'learning'\u001b[0m\u001b[1;33m,\u001b[0m \u001b[1;34m'is'\u001b[0m\u001b[1;33m,\u001b[0m \u001b[1;34m'fun'\u001b[0m\u001b[1;33m,\u001b[0m \u001b[1;34m'with'\u001b[0m\u001b[1;33m,\u001b[0m \u001b[1;34m'ehtisham'\u001b[0m\u001b[1;33m,\u001b[0m \u001b[1;34m'sadiq'\u001b[0m\u001b[1;33m]\u001b[0m\u001b[1;33m\u001b[0m\u001b[1;33m\u001b[0m\u001b[0m\n\u001b[0;32m      3\u001b[0m \u001b[1;32mdel\u001b[0m \u001b[0mmylist\u001b[0m\u001b[1;33m\u001b[0m\u001b[1;33m\u001b[0m\u001b[0m\n\u001b[1;32m----> 4\u001b[1;33m \u001b[0mmylist\u001b[0m\u001b[1;33m\u001b[0m\u001b[1;33m\u001b[0m\u001b[0m\n\u001b[0m",
      "\u001b[1;31mNameError\u001b[0m: name 'mylist' is not defined"
     ]
    }
   ],
   "source": [
    "#to delete entire list\n",
    "mylist = ['learning', 'is', 'fun', 'with', 'ehtisham', 'sadiq']\n",
    "del mylist\n",
    "mylist"
   ]
  },
  {
   "cell_type": "markdown",
   "id": "hairy-lighter",
   "metadata": {},
   "source": [
    "## 8. Converting String object to List and vice-versa"
   ]
  },
  {
   "cell_type": "code",
   "execution_count": 64,
   "id": "empirical-lightning",
   "metadata": {},
   "outputs": [
    {
     "name": "stdout",
     "output_type": "stream",
     "text": [
      "Original string: \n",
      "Learning is fun\n",
      "and its type is:  \n",
      "<class 'str'>\n",
      "l1: \n",
      "['L', 'e', 'a', 'r', 'n', 'i', 'n', 'g', ' ', 'i', 's', ' ', 'f', 'u', 'n']\n",
      "and its type is:  \n",
      "<class 'list'>\n"
     ]
    }
   ],
   "source": [
    "# convert a string into list using list()\n",
    "str1 = 'Learning is fun'    #this is a string\n",
    "\n",
    "print(\"Original string: \", str1, \"and its type is:  \", type(str1), sep=\"\\n\")\n",
    "\n",
    "\n",
    "l1 = list(str1)\n",
    "print(\"l1: \", l1, \"and its type is:  \", type(l1), sep=\"\\n\")"
   ]
  },
  {
   "cell_type": "markdown",
   "id": "still-boost",
   "metadata": {},
   "source": [
    "### b. Use `str.split()` to Split a List into Strings\n",
    "- Used to tokenize a string based on some delimiter, which can be stored in a list\n",
    "- It returns a list having tokens of the string based on spaces if no argument is passed"
   ]
  },
  {
   "cell_type": "code",
   "execution_count": 65,
   "id": "regional-possession",
   "metadata": {},
   "outputs": [
    {
     "name": "stdout",
     "output_type": "stream",
     "text": [
      "Help on built-in function split:\n",
      "\n",
      "split(sep=None, maxsplit=-1) method of builtins.str instance\n",
      "    Return a list of the words in the string, using sep as the delimiter string.\n",
      "    \n",
      "    sep\n",
      "      The delimiter according which to split the string.\n",
      "      None (the default value) means split according to any whitespace,\n",
      "      and discard empty strings from the result.\n",
      "    maxsplit\n",
      "      Maximum number of splits to do.\n",
      "      -1 (the default value) means no limit.\n",
      "\n"
     ]
    }
   ],
   "source": [
    "str1 = \"\"\n",
    "help(str1.split)"
   ]
  },
  {
   "cell_type": "code",
   "execution_count": 68,
   "id": "discrete-aviation",
   "metadata": {},
   "outputs": [
    {
     "data": {
      "text/plain": [
       "['Learn', 'ng ', 's fun']"
      ]
     },
     "execution_count": 68,
     "metadata": {},
     "output_type": "execute_result"
    }
   ],
   "source": [
    "str1 = 'Learning is fun'    #this is a string\n",
    "list1 = str1.split(\"i\")\n",
    "list1"
   ]
  },
  {
   "cell_type": "code",
   "execution_count": 69,
   "id": "complicated-physics",
   "metadata": {},
   "outputs": [
    {
     "data": {
      "text/plain": [
       "['Data S', 'ien', 'e is GR8 Degree']"
      ]
     },
     "execution_count": 69,
     "metadata": {},
     "output_type": "execute_result"
    }
   ],
   "source": [
    "str2 = \"Data Science is GR8 Degree\"    #this is a string\n",
    "list2 = str2.split('c')\n",
    "list2"
   ]
  },
  {
   "cell_type": "markdown",
   "id": "distant-aruba",
   "metadata": {},
   "source": [
    "### c. Use `str.join()` to Join Strings into a List\n",
    "- It is the reverse of `str.split()` method, and is used to joing multiple strings by inserting the string in between on which this method is called"
   ]
  },
  {
   "cell_type": "code",
   "execution_count": 70,
   "id": "lyric-cholesterol",
   "metadata": {},
   "outputs": [
    {
     "name": "stdout",
     "output_type": "stream",
     "text": [
      "Help on built-in function join:\n",
      "\n",
      "join(iterable, /) method of builtins.str instance\n",
      "    Concatenate any number of strings.\n",
      "    \n",
      "    The string whose method is called is inserted in between each given string.\n",
      "    The result is returned as a new string.\n",
      "    \n",
      "    Example: '.'.join(['ab', 'pq', 'rs']) -> 'ab.pq.rs'\n",
      "\n"
     ]
    }
   ],
   "source": [
    "str1 = \"\"\n",
    "help(str1.join)"
   ]
  },
  {
   "cell_type": "code",
   "execution_count": 71,
   "id": "numerical-latest",
   "metadata": {},
   "outputs": [
    {
     "data": {
      "text/plain": [
       "['This', 'is', 'getting', 'more', 'and', 'more', 'interesting']"
      ]
     },
     "execution_count": 71,
     "metadata": {},
     "output_type": "execute_result"
    }
   ],
   "source": [
    "list1 = ['This', 'is', 'getting', 'more', 'and', 'more', 'interesting']\n",
    "list1"
   ]
  },
  {
   "cell_type": "code",
   "execution_count": 75,
   "id": "boxed-somalia",
   "metadata": {},
   "outputs": [
    {
     "name": "stdout",
     "output_type": "stream",
     "text": [
      "This is getting more and more interesting\n",
      "<class 'str'>\n"
     ]
    }
   ],
   "source": [
    "str2 = ' '.join(list1)\n",
    "print(str2)\n",
    "print(type(str2))"
   ]
  },
  {
   "cell_type": "code",
   "execution_count": 76,
   "id": "adequate-prescription",
   "metadata": {},
   "outputs": [
    {
     "name": "stdout",
     "output_type": "stream",
     "text": [
      "This # is # getting # more # and # more # interesting\n",
      "<class 'str'>\n"
     ]
    }
   ],
   "source": [
    "delimiter = \" # \"\n",
    "str3 = delimiter.join(list1)\n",
    "print(str3)\n",
    "print(type(str3))"
   ]
  },
  {
   "cell_type": "markdown",
   "id": "muslim-verification",
   "metadata": {},
   "source": [
    "### d. Some Built-in Functions that can be used on Lists"
   ]
  },
  {
   "cell_type": "code",
   "execution_count": 77,
   "id": "educational-superior",
   "metadata": {},
   "outputs": [
    {
     "name": "stdout",
     "output_type": "stream",
     "text": [
      "Help on built-in function len in module builtins:\n",
      "\n",
      "len(obj, /)\n",
      "    Return the number of items in a container.\n",
      "\n"
     ]
    }
   ],
   "source": [
    "help(len)"
   ]
  },
  {
   "cell_type": "code",
   "execution_count": 78,
   "id": "growing-assumption",
   "metadata": {},
   "outputs": [
    {
     "name": "stdout",
     "output_type": "stream",
     "text": [
      "Help on built-in function min in module builtins:\n",
      "\n",
      "min(...)\n",
      "    min(iterable, *[, default=obj, key=func]) -> value\n",
      "    min(arg1, arg2, *args, *[, key=func]) -> value\n",
      "    \n",
      "    With a single iterable argument, return its smallest item. The\n",
      "    default keyword-only argument specifies an object to return if\n",
      "    the provided iterable is empty.\n",
      "    With two or more arguments, return the smallest argument.\n",
      "\n"
     ]
    }
   ],
   "source": [
    "help(min)"
   ]
  },
  {
   "cell_type": "code",
   "execution_count": 79,
   "id": "documentary-piece",
   "metadata": {},
   "outputs": [
    {
     "name": "stdout",
     "output_type": "stream",
     "text": [
      "Help on built-in function max in module builtins:\n",
      "\n",
      "max(...)\n",
      "    max(iterable, *[, default=obj, key=func]) -> value\n",
      "    max(arg1, arg2, *args, *[, key=func]) -> value\n",
      "    \n",
      "    With a single iterable argument, return its biggest item. The\n",
      "    default keyword-only argument specifies an object to return if\n",
      "    the provided iterable is empty.\n",
      "    With two or more arguments, return the largest argument.\n",
      "\n"
     ]
    }
   ],
   "source": [
    "help(max)"
   ]
  },
  {
   "cell_type": "code",
   "execution_count": 80,
   "id": "linear-michigan",
   "metadata": {},
   "outputs": [
    {
     "name": "stdout",
     "output_type": "stream",
     "text": [
      "length of list:  7\n",
      "max element in list:  8\n",
      "min element in list:  0\n",
      "Sum of element in list:  30\n"
     ]
    }
   ],
   "source": [
    "list_num = [3, 8, 1, 6, 0, 8, 4]\n",
    "\n",
    "print(\"length of list: \", len(list_num))\n",
    "\n",
    "print(\"max element in list: \", max(list_num))\n",
    "\n",
    "print(\"min element in list: \",min(list_num))\n",
    "\n",
    "print(\"Sum of element in list: \",sum(list_num))"
   ]
  },
  {
   "cell_type": "markdown",
   "id": "minus-stevens",
   "metadata": {},
   "source": [
    "## 9. Simple Assignment (aliasing) vs Shallow Copy vs Deep Copy"
   ]
  },
  {
   "cell_type": "markdown",
   "id": "hearing-removal",
   "metadata": {},
   "source": [
    "### a. Aliasing: Making an Alias of a List object using simple Assignment `=` Operator\n",
    "- In Python, we use `=` operator to create a copy/alias of an object. \n",
    "- Remember it doesnot create a new object, rather creates a new variable that shares the reference of the original object."
   ]
  },
  {
   "cell_type": "code",
   "execution_count": null,
   "id": "passive-start",
   "metadata": {},
   "outputs": [],
   "source": []
  },
  {
   "cell_type": "code",
   "execution_count": 82,
   "id": "attempted-table",
   "metadata": {},
   "outputs": [
    {
     "name": "stdout",
     "output_type": "stream",
     "text": [
      "ID of Old List: 1733360103936\n",
      "ID of New List: 1733360103936\n"
     ]
    }
   ],
   "source": [
    "list1 = [1, 2, 3, 4]\n",
    "list2 = list1\n",
    "\n",
    "# Both variables point to same memory object, so have the same ID\n",
    "print('ID of Old List:', id(list1))\n",
    "print('ID of New List:', id(list2))"
   ]
  },
  {
   "cell_type": "code",
   "execution_count": 83,
   "id": "entire-nitrogen",
   "metadata": {},
   "outputs": [
    {
     "name": "stdout",
     "output_type": "stream",
     "text": [
      "\n",
      "Old List: [1, 2, 9, 4]\n",
      "New List: [1, 2, 9, 4]\n"
     ]
    }
   ],
   "source": [
    "# If you modify an element of one object, the change will be visible in both\n",
    "list2[2] = 9\n",
    "\n",
    "print('\\nOld List:', list1)\n",
    "print('New List:', list2)\n"
   ]
  },
  {
   "cell_type": "markdown",
   "id": "civic-fraction",
   "metadata": {},
   "source": [
    "### b. Shallow Copy\n",
    "- Shallow copy creates a new list object.\n",
    "- There are two ways of making a shallow copy\n",
    "    - On the right hand side of  `=` operator use slice operator\n",
    "    - Use `copy.copy()` method"
   ]
  },
  {
   "cell_type": "code",
   "execution_count": 85,
   "id": "direct-identifier",
   "metadata": {},
   "outputs": [
    {
     "name": "stdout",
     "output_type": "stream",
     "text": [
      "[1, 2, 3, 4] [1, 2, 3, 4]\n",
      "ID of Old List: 1733378198912\n",
      "ID of New List: 1733377984000\n"
     ]
    }
   ],
   "source": [
    "# Shallow copy using slice operator while doing assignment\n",
    "list1 = [1, 2, 3, 4]\n",
    "list2 = list1[:]\n",
    "\n",
    "# Both variables point to different memory objects, so have the different ID\n",
    "print(list1, list2)\n",
    "print('ID of Old List:', id(list1))\n",
    "print('ID of New List:', id(list2))"
   ]
  },
  {
   "cell_type": "code",
   "execution_count": 86,
   "id": "former-electricity",
   "metadata": {},
   "outputs": [
    {
     "name": "stdout",
     "output_type": "stream",
     "text": [
      "\n",
      "Old List: [1, 2, 3, 4]\n",
      "New List: [1, 2, 9, 4]\n"
     ]
    }
   ],
   "source": [
    "# If you modify an element of one object, the change will be not visible in both\n",
    "list2[2] = 9\n",
    "\n",
    "print('\\nOld List:', list1)\n",
    "print('New List:', list2)"
   ]
  },
  {
   "cell_type": "code",
   "execution_count": null,
   "id": "failing-batman",
   "metadata": {},
   "outputs": [],
   "source": []
  },
  {
   "cell_type": "code",
   "execution_count": 87,
   "id": "occupied-invention",
   "metadata": {},
   "outputs": [
    {
     "name": "stdout",
     "output_type": "stream",
     "text": [
      "ID of Old List: 1733370139776\n",
      "ID of New List: 1733378650176\n"
     ]
    }
   ],
   "source": [
    "# Shallow copy using the `copy.copy()` method\n",
    "import copy\n",
    "list1 = [1, 2, 3, 4]\n",
    "list2 = copy.copy(list1)\n",
    "\n",
    "# Both variables point to different memory objects, so have different ID\n",
    "print('ID of Old List:', id(list1))\n",
    "print('ID of New List:', id(list2))"
   ]
  },
  {
   "cell_type": "code",
   "execution_count": 88,
   "id": "wanted-phase",
   "metadata": {},
   "outputs": [
    {
     "name": "stdout",
     "output_type": "stream",
     "text": [
      "\n",
      "Old List: [1, 2, 3, 4]\n",
      "New List: [1, 2, 3, 'a']\n"
     ]
    }
   ],
   "source": [
    "# If you modify an element of one object, the change will not be visible in other\n",
    "list2[3] = 'a'\n",
    "\n",
    "print('\\nOld List:', list1)\n",
    "print('New List:', list2)"
   ]
  },
  {
   "cell_type": "markdown",
   "id": "stupid-farmer",
   "metadata": {},
   "source": [
    "**This seems woking fine, then why this is called shallow copy**"
   ]
  },
  {
   "cell_type": "markdown",
   "id": "sustainable-railway",
   "metadata": {},
   "source": [
    "**Limitation of Shallow Copy**\n",
    "- Above examples seems fine. But shallow copy doesn't create a copy of nested objects, instead it just copies the reference of nested objects. This means, a copy process does not recurse or create copies of nested objects itself.\n",
    "- Let us understand this by an example"
   ]
  },
  {
   "cell_type": "code",
   "execution_count": 90,
   "id": "western-mountain",
   "metadata": {},
   "outputs": [
    {
     "name": "stdout",
     "output_type": "stream",
     "text": [
      "ID of Old List: 1733377808640\n",
      "ID of New List: 1733373160960\n",
      "[[1, 2, 3], [4, 5, 6], [7, 8, 9]]\n",
      "[[1, 2, 3], [4, 5, 6], [7, 8, 9]]\n"
     ]
    }
   ],
   "source": [
    "import copy\n",
    "old_list = [[1, 2, 3], [4, 5, 6], [7, 8, 9]]\n",
    "new_list = copy.copy(old_list)\n",
    "\n",
    "# Both variables point to different memory object, having same references of original object elements\n",
    "print('ID of Old List:', id(old_list))\n",
    "print('ID of New List:', id(new_list))\n",
    "print(old_list)\n",
    "print(new_list)"
   ]
  },
  {
   "cell_type": "code",
   "execution_count": 91,
   "id": "better-tours",
   "metadata": {},
   "outputs": [
    {
     "name": "stdout",
     "output_type": "stream",
     "text": [
      "\n",
      "Old List: [[1, 2, 3], [4, 5, 6], [7, 8, 'a']]\n",
      "New List: [[1, 2, 3], [4, 5, 6], [7, 8, 'a']]\n"
     ]
    }
   ],
   "source": [
    "# If you modify an element of one object, the change will be visible in both\n",
    "new_list[2][2] = 'a'\n",
    "\n",
    "# See contents of both lists\n",
    "print('\\nOld List:', old_list)\n",
    "print('New List:', new_list)"
   ]
  },
  {
   "cell_type": "markdown",
   "id": "endangered-chorus",
   "metadata": {},
   "source": [
    "### c. Deep Copy: Making a Copy of an Object using `copy.deepcopy()` Method\n",
    "- Deep copy creates a new object and recursively creates independent copy of original object and all its nested objects."
   ]
  },
  {
   "cell_type": "code",
   "execution_count": null,
   "id": "nominated-poster",
   "metadata": {},
   "outputs": [],
   "source": []
  },
  {
   "cell_type": "code",
   "execution_count": 93,
   "id": "cardiac-melissa",
   "metadata": {},
   "outputs": [
    {
     "name": "stdout",
     "output_type": "stream",
     "text": [
      "ID of Old List: 1733382946880\n",
      "ID of New List: 1733379034496\n"
     ]
    }
   ],
   "source": [
    "import copy\n",
    "old_list = [[1, 2, 3], [4, 5, 6], [7, 8, 9]]\n",
    "new_list = copy.deepcopy(old_list)\n",
    "\n",
    "# Both variables point to different memory object, having their own object elements\n",
    "print('ID of Old List:', id(old_list))\n",
    "print('ID of New List:', id(new_list))\n"
   ]
  },
  {
   "cell_type": "code",
   "execution_count": 94,
   "id": "cosmetic-people",
   "metadata": {},
   "outputs": [
    {
     "name": "stdout",
     "output_type": "stream",
     "text": [
      "\n",
      "Old List: [[1, 2, 3], [4, 5, 6], [7, 8, 9]]\n",
      "New List: [[1, 2, 3], [4, 5, 6], [7, 8, 'a']]\n"
     ]
    }
   ],
   "source": [
    "# If you modify an element of one object, the change will be made only to that object element\n",
    "new_list[2][2] = 'a'\n",
    "\n",
    "# See contents of both lists\n",
    "print('\\nOld List:', old_list)\n",
    "print('New List:', new_list)"
   ]
  },
  {
   "cell_type": "markdown",
   "id": "productive-joint",
   "metadata": {},
   "source": [
    "## 10. Sorting a List\n",
    "- You can use following three methods to sort list elements\n",
    "    - The `list.sort()` method can sort the list elements (ascending + descending) on which it is called and returns None (modifies the list on which it is called).\n",
    "    - The `list.reverse()` method simply reverse the list elements on which it is called and returns None (modifies the list on which it is called).\n",
    "    - The `sorted(iterable)` is a built-in function, which returns a sorted version of the list, which is passed to it as parameter (list remains as it is). Limitation is it is a bit slow as it makes a copy of the list. Advantage is that it can sort any iterable."
   ]
  },
  {
   "cell_type": "markdown",
   "id": "special-reservation",
   "metadata": {},
   "source": [
    "### a. The `list.sort()` method"
   ]
  },
  {
   "cell_type": "code",
   "execution_count": 97,
   "id": "acoustic-definition",
   "metadata": {},
   "outputs": [
    {
     "name": "stdout",
     "output_type": "stream",
     "text": [
      "Original numbers list:  [3, 8, 1, 6, 0, 8, 4]\n",
      "Ascending Sort:  [0, 1, 3, 4, 6, 8, 8]\n",
      "Descending Sort:  [8, 8, 6, 4, 3, 1, 0]\n"
     ]
    }
   ],
   "source": [
    "# Modifies list on which it is called and returns none/void\n",
    "list_num = [3, 8, 1, 6, 0, 8, 4]\n",
    "print(\"Original numbers list: \", list_num)\n",
    "\n",
    "list_num.sort()\n",
    "print(\"Ascending Sort: \", list_num)\n",
    "#\n",
    "list_num.sort(reverse=True)\n",
    "print(\"Descending Sort: \", list_num)\n"
   ]
  },
  {
   "cell_type": "code",
   "execution_count": 98,
   "id": "accessible-explorer",
   "metadata": {},
   "outputs": [
    {
     "name": "stdout",
     "output_type": "stream",
     "text": [
      "\n",
      "Original names list:  ['XYZ', 'ABC', 'MNO', 'Ehtisham']\n",
      "Ascending Sort:  ['ABC', 'Ehtisham', 'MNO', 'XYZ']\n",
      "Descending Sort:  ['XYZ', 'MNO', 'Ehtisham', 'ABC']\n"
     ]
    }
   ],
   "source": [
    "list_names = [\"XYZ\", \"ABC\", \"MNO\", \"Ehtisham\"]\n",
    "print(\"\\nOriginal names list: \", list_names)\n",
    "\n",
    "list_names.sort()         \n",
    "print(\"Ascending Sort: \", list_names)\n",
    "\n",
    "list_names.sort(reverse=True)         \n",
    "print(\"Descending Sort: \", list_names)"
   ]
  },
  {
   "cell_type": "markdown",
   "id": "soviet-mission",
   "metadata": {},
   "source": [
    "### b. Custom Sorting using `list.sort()` Method"
   ]
  },
  {
   "cell_type": "markdown",
   "id": "animated-kelly",
   "metadata": {},
   "source": [
    "**Example 1: Suppose given a list with elements `['ccc', 'aaaaa', 'd', 'bb']` and I want to sort it by length of strings within the list so that the output list is like : `['d', 'bb', 'ccc', 'aaaaa]`**\n",
    "\n",
    "```\n",
    "    list.sort(*, key=None, reverse=False)\n",
    "```\n",
    "- We write a one argument function, and pass that function to the `key` parameter of `list.sort()` method\n",
    "- The `list.sort()` method will run this one argument function on all the elements of the list and return a single value, and build up a shadow list of those new values. \n",
    "- Suppose the one argument function in this case is the Python built-in function `len()`, which when called on every element of `list1` will return a shadow list containing length of every string within the original list containing `[3,4,2,1]`\n",
    "- The `list1.sort()` method will then sort `list1` elements based on the values of the shadow list and generate the required sorted list :)"
   ]
  },
  {
   "cell_type": "code",
   "execution_count": 99,
   "id": "informed-regulation",
   "metadata": {},
   "outputs": [
    {
     "data": {
      "text/plain": [
       "['aaaaa', 'bb', 'ccc', 'd']"
      ]
     },
     "execution_count": 99,
     "metadata": {},
     "output_type": "execute_result"
    }
   ],
   "source": [
    "list1 = ['ccc', 'aaaaa', 'd', 'bb']\n",
    "list1.sort()\n",
    "list1"
   ]
  },
  {
   "cell_type": "code",
   "execution_count": 102,
   "id": "iraqi-cement",
   "metadata": {},
   "outputs": [
    {
     "data": {
      "text/plain": [
       "['d', 'bb', 'ccc', 'aaaaa']"
      ]
     },
     "execution_count": 102,
     "metadata": {},
     "output_type": "execute_result"
    }
   ],
   "source": [
    "#Example 1:\n",
    "list1 = ['ccc', 'aaaaa', 'd', 'bb']\n",
    "list1.sort(key=len)\n",
    "list1"
   ]
  },
  {
   "cell_type": "markdown",
   "id": "speaking-radical",
   "metadata": {},
   "source": [
    "**Example 2: Suppose given a list with elements `['abcz', 'xyza', 'bas', 'arif']` and I want to sort it by last character of strings within the list so that the output list is like : `['xyza', 'arif', 'bas', 'abcz']`**\n",
    "\n",
    "```\n",
    "    list.sort(*, key=None, reverse=False)\n",
    "```\n",
    "- We write a one argument function, and pass that function to the `key` parameter of `list.sort()` method\n",
    "- The `list.sort()` method will run this one argument function on all the elements of the list and return a single value, and build up a shadow list of those new values. \n",
    "- This time the one argument function is a custom built function that receives a string and returns its last character. When called on every element of `list1` will return a shadow list containing only the last character of every string within the original list containing `['z', 'a', 's', 'f']`\n",
    "- The `list1.sort()` method will then sort `list1` elements based on the values of the shadow list and generate the required sorted list :)"
   ]
  },
  {
   "cell_type": "code",
   "execution_count": 116,
   "id": "located-dragon",
   "metadata": {},
   "outputs": [
    {
     "data": {
      "text/plain": [
       "['bas', 'abcz', 'arif', 'xyza']"
      ]
     },
     "execution_count": 116,
     "metadata": {},
     "output_type": "execute_result"
    }
   ],
   "source": [
    "def last(s):\n",
    "    return s[-2]\n",
    "\n",
    "list1 = ['abcz', 'xyza', 'bas', 'arif']\n",
    "\n",
    "list1.sort(key=last)\n",
    "list1"
   ]
  },
  {
   "cell_type": "code",
   "execution_count": 131,
   "id": "secure-bench",
   "metadata": {},
   "outputs": [],
   "source": [
    "list10 = [32,4,34,5,45,425,325,32,5,325].reverse()"
   ]
  },
  {
   "cell_type": "code",
   "execution_count": 133,
   "id": "fluid-animal",
   "metadata": {},
   "outputs": [],
   "source": [
    "# list10.reverse()\n",
    "list10"
   ]
  },
  {
   "cell_type": "markdown",
   "id": "suspended-trout",
   "metadata": {},
   "source": [
    "## 11. Misc Concepts"
   ]
  },
  {
   "cell_type": "markdown",
   "id": "outdoor-grounds",
   "metadata": {},
   "source": [
    "### a. Use of  `in` Operator on Lists"
   ]
  },
  {
   "cell_type": "code",
   "execution_count": null,
   "id": "binary-patrick",
   "metadata": {},
   "outputs": [],
   "source": [
    "help('in')"
   ]
  },
  {
   "cell_type": "code",
   "execution_count": 105,
   "id": "pregnant-price",
   "metadata": {},
   "outputs": [
    {
     "name": "stdout",
     "output_type": "stream",
     "text": [
      "False\n",
      "True\n",
      "True\n"
     ]
    }
   ],
   "source": [
    "list_num = [3, 8, 1, 6, 0, 8, 4]\n",
    "rv1 = 9 in list_num\n",
    "print(rv1)\n",
    "\n",
    "rv2 = 9 not in list_num\n",
    "print(rv2)\n",
    "\n",
    "\n",
    "list_names = [\"XYZ\", \"ABC\", \"MNO\", \"Ehtisham\"]\n",
    "name = \"Ehtisham\"\n",
    "rv3 = name in list_names\n",
    "print(rv3)"
   ]
  },
  {
   "cell_type": "markdown",
   "id": "hazardous-surge",
   "metadata": {},
   "source": [
    "### b. Comparing objects and values"
   ]
  },
  {
   "cell_type": "code",
   "execution_count": null,
   "id": "incorporated-future",
   "metadata": {},
   "outputs": [],
   "source": [
    "help(id)"
   ]
  },
  {
   "cell_type": "code",
   "execution_count": 106,
   "id": "distributed-nomination",
   "metadata": {},
   "outputs": [
    {
     "data": {
      "text/plain": [
       "(1733368742896, 1733368742896)"
      ]
     },
     "execution_count": 106,
     "metadata": {},
     "output_type": "execute_result"
    }
   ],
   "source": [
    "# in case of strings, both a and b refers to the same memory location containing string 'hello'\n",
    "a = 'hello'\n",
    "b = 'hello'\n",
    "id(a), id(b)"
   ]
  },
  {
   "cell_type": "code",
   "execution_count": 107,
   "id": "auburn-musician",
   "metadata": {},
   "outputs": [
    {
     "data": {
      "text/plain": [
       "(1733384286400, 1733384292864)"
      ]
     },
     "execution_count": 107,
     "metadata": {},
     "output_type": "execute_result"
    }
   ],
   "source": [
    "# in case of list, both a and b refers to two different objects in the memory having same values\n",
    "x = ['hello']\n",
    "y = ['hello']\n",
    "id(x), id(y)"
   ]
  },
  {
   "cell_type": "code",
   "execution_count": null,
   "id": "gothic-oklahoma",
   "metadata": {},
   "outputs": [],
   "source": [
    "help('is')"
   ]
  },
  {
   "cell_type": "code",
   "execution_count": 108,
   "id": "proper-adult",
   "metadata": {},
   "outputs": [
    {
     "name": "stdout",
     "output_type": "stream",
     "text": [
      "False\n",
      "True\n"
     ]
    }
   ],
   "source": [
    "x = ['hello']\n",
    "y = ['hello']\n",
    "print (x is y) # is operator is checking the memory address (ID) of two lists\n",
    "print (x == y) # == operator is checking the contents of two lists"
   ]
  },
  {
   "cell_type": "code",
   "execution_count": 109,
   "id": "surprised-gather",
   "metadata": {},
   "outputs": [
    {
     "name": "stdout",
     "output_type": "stream",
     "text": [
      "True\n",
      "True\n"
     ]
    }
   ],
   "source": [
    "x = 'hello'\n",
    "y = 'hello'\n",
    "print (x is y) # is operator is checking the memory address (ID) of two strings\n",
    "print (x == y) # == operator is checking the contents of two strings"
   ]
  },
  {
   "cell_type": "markdown",
   "id": "modern-background",
   "metadata": {},
   "source": [
    "## Check your Concepts\n",
    "\n",
    "Try answering the following questions to test your understanding of the topics covered in this notebook:\n",
    "\n",
    "1. What is a list in Python?\n",
    "2. How do you create a list?\n",
    "3. Can a Python list contain values of different data types?\n",
    "4. Can a list contain another list as an element within it?\n",
    "5. Can you create a list without any values?\n",
    "6. How do you check the length of a list in Python?\n",
    "7. How do you retrieve a value from a list?\n",
    "8. What is the smallest and largest index you can use to access elements from a list containing five elements?\n",
    "9. What happens if you try to access an index equal to or larger than the size of a list?\n",
    "10. What happens if you try to access a negative index within a list?\n",
    "11. How do you access a range of elements from a list?\n",
    "12. How many elements does the list returned by the expression `a_list[2:5]` contain?\n",
    "13. What do the ranges `a_list[:2]` and `a_list[2:]` represent?\n",
    "14. How do you change the item stored at a specific index within a list?\n",
    "15. How do you insert a new item at the beginning, middle, or end of a list?\n",
    "16. How do you remove an item from al list?\n",
    "17. How do you remove the item at a given index from a list?\n",
    "18. How do you check if a list contains a value?\n",
    "19. How do you combine two or most lists to create a larger list?\n",
    "20. How do you create a copy of a list?\n",
    "21. Does the expression `a_new_list = a_list` create a copy of the list `a_list`?\n",
    "22. How can you find the list of all the methods supported by lists?\n",
    "23. Understand the difference between creating an alias of a list, and shallow copy and deep copy"
   ]
  },
  {
   "cell_type": "markdown",
   "id": "demographic-capital",
   "metadata": {},
   "source": [
    "**Go to https://pythontutor.com/ and copy paste following code to visualize aliasing, shallow and deep copy**"
   ]
  },
  {
   "cell_type": "code",
   "execution_count": null,
   "id": "straight-prefix",
   "metadata": {},
   "outputs": [],
   "source": []
  },
  {
   "cell_type": "markdown",
   "id": "ranking-karaoke",
   "metadata": {},
   "source": [
    "# Practice Programs"
   ]
  },
  {
   "cell_type": "markdown",
   "id": "inclusive-picking",
   "metadata": {},
   "source": [
    "1. The program takes a list and prints the largest number in the list."
   ]
  },
  {
   "cell_type": "code",
   "execution_count": 110,
   "id": "horizontal-throw",
   "metadata": {},
   "outputs": [
    {
     "name": "stdout",
     "output_type": "stream",
     "text": [
      "Before storing list is : [4, 323, 2, -2, 3, 21, 32, 13, 211]\n"
     ]
    }
   ],
   "source": [
    "list1 = [4,323,2,-2,3,21,32,13,211]\n",
    "print(\"Before storing list is :\", list1)"
   ]
  },
  {
   "cell_type": "code",
   "execution_count": 111,
   "id": "forty-electric",
   "metadata": {},
   "outputs": [
    {
     "name": "stdout",
     "output_type": "stream",
     "text": [
      "After storing list is :  [-2, 2, 3, 4, 13, 21, 32, 211, 323]\n"
     ]
    }
   ],
   "source": [
    "list1.sort()\n",
    "print(\"After storing list is : \", list1)"
   ]
  },
  {
   "cell_type": "code",
   "execution_count": 112,
   "id": "specific-terrain",
   "metadata": {},
   "outputs": [
    {
     "name": "stdout",
     "output_type": "stream",
     "text": [
      "Largest number in the list is :  323\n"
     ]
    }
   ],
   "source": [
    "print(\"Largest number in the list is : \", list1[-1])"
   ]
  },
  {
   "cell_type": "markdown",
   "id": "blessed-bankruptcy",
   "metadata": {},
   "source": [
    "2. Python program to interchange first and last elements in a list\n",
    "- Input : [12, 35, 9, 56, 24]\n",
    "- Output : [24, 35, 9, 56, 12]\n"
   ]
  },
  {
   "cell_type": "code",
   "execution_count": 113,
   "id": "mobile-reverse",
   "metadata": {},
   "outputs": [
    {
     "name": "stdout",
     "output_type": "stream",
     "text": [
      "12\n",
      "24\n"
     ]
    }
   ],
   "source": [
    "list1 = [12,35,9,56,24]\n",
    "print(list1[0])\n",
    "print(list1[-1])"
   ]
  },
  {
   "cell_type": "code",
   "execution_count": 114,
   "id": "native-irish",
   "metadata": {},
   "outputs": [],
   "source": [
    "list1[0], list1[-1] = list1[-1], list1[0]"
   ]
  },
  {
   "cell_type": "code",
   "execution_count": 115,
   "id": "ranging-swiss",
   "metadata": {},
   "outputs": [
    {
     "data": {
      "text/plain": [
       "[24, 35, 9, 56, 12]"
      ]
     },
     "execution_count": 115,
     "metadata": {},
     "output_type": "execute_result"
    }
   ],
   "source": [
    "list1"
   ]
  },
  {
   "cell_type": "code",
   "execution_count": null,
   "id": "intimate-roulette",
   "metadata": {},
   "outputs": [],
   "source": []
  },
  {
   "cell_type": "code",
   "execution_count": null,
   "id": "palestinian-breeding",
   "metadata": {},
   "outputs": [],
   "source": []
  }
 ],
 "metadata": {
  "kernelspec": {
   "display_name": "Python 3",
   "language": "python",
   "name": "python3"
  },
  "language_info": {
   "codemirror_mode": {
    "name": "ipython",
    "version": 3
   },
   "file_extension": ".py",
   "mimetype": "text/x-python",
   "name": "python",
   "nbconvert_exporter": "python",
   "pygments_lexer": "ipython3",
   "version": "3.8.7"
  }
 },
 "nbformat": 4,
 "nbformat_minor": 5
}
