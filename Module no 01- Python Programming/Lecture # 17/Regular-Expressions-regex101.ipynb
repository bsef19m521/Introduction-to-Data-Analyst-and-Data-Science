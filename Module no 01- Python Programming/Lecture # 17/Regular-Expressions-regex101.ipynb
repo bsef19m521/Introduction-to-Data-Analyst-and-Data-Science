{
 "cells": [
  {
   "cell_type": "markdown",
   "id": "c0f94bec",
   "metadata": {},
   "source": [
    "---   \n",
    "\n",
    "<h1 align=\"center\">Introduction to Data Analyst and Data Science for beginners</h1>\n",
    "<h1 align=\"center\">Lecture no 17</h1>\n",
    "\n",
    "---\n",
    "<h3><div align=\"right\">Ehtisham Sadiq</div></h3>    "
   ]
  },
  {
   "cell_type": "markdown",
   "id": "9aa4323e",
   "metadata": {},
   "source": [
    "## _Regular Expressions Part-I.ipynb_\n",
    "https://docs.python.org/3/howto/regex.html#regex-howto\n",
    "\n",
    "https://docs.python.org/3/library/re.html"
   ]
  },
  {
   "cell_type": "code",
   "execution_count": null,
   "id": "610fe665",
   "metadata": {},
   "outputs": [],
   "source": []
  },
  {
   "cell_type": "markdown",
   "id": "5e2e11de",
   "metadata": {},
   "source": [
    "## Baseline:\n",
    "- The concept of regular expressions began in the 1950s, when the American mathematician `Stephen Cole Kleene` formalized the concept of a regular language. \n",
    "- Today's regular expressions are used in Data Science day to day tasks like:\n",
    " >- Simple pattern matching\n",
    " >- In find and replace operations like in editor example sublime, notepad++, atom etc.\n",
    " >- Information Extraction\n",
    " >- Web scraping\n",
    " >- Text Mining (Text mining, also known as text data mining, is the process of transforming unstructured text into a structured format to identify meaningful patterns and new insights. By applying advanced analytical techniques, such as Naïve Bayes, Support Vector Machines (SVM), and other deep learning algorithms, companies are able to explore and discover hidden relationships within their unstructured data.)\n",
    " >- In domain of natural language processing ."
   ]
  },
  {
   "cell_type": "code",
   "execution_count": null,
   "id": "265bc1ec",
   "metadata": {},
   "outputs": [],
   "source": []
  },
  {
   "cell_type": "code",
   "execution_count": null,
   "id": "aa38c930",
   "metadata": {},
   "outputs": [],
   "source": []
  },
  {
   "cell_type": "markdown",
   "id": "6ad97a3c",
   "metadata": {},
   "source": [
    "<h1 align=\"center\">A Gentle Introduction to Regular Expressions (Regex)</h1> <br><br>\n",
    "\n",
    "<img align=\"center\" width=\"800\" height=\"800\"  src=\"images/re.jpeg\"  >\n",
    "<img align=\"center\" width=\"500\" height=\"500\"  src=\"images/tm.jpg\"  >\n",
    "\n",
    "<br><br><br><br><br><br><br><br><br>"
   ]
  },
  {
   "cell_type": "markdown",
   "id": "99cbfc89",
   "metadata": {},
   "source": [
    "# Learning Agenda\n",
    "**PART-I:**\n",
    "1. A gentle introduction to Regular Expressions\n",
    "2. Overview of Regex Metacharacters, Anchors, Quantifiers, Escape Codes and Grouping Constructs\n",
    "3. Overview of regex101\n",
    "4. A Step by Step hands-on practical understanding of REs on regex101.com\n",
    "5. Practical Use Cases\n",
    "    - Identify valid phone numbers\n",
    "    - Identify/locate valid names or city codes\n",
    "    - Identify valid email addresses\n",
    "    - Identify valid URLs\n",
    "6. Substitution and Replacement\n",
    "\n",
    "<br><br>**PART-II:**\n",
    "\n",
    "**Lecture 2.18 (Regular Expressions in Python)**"
   ]
  },
  {
   "cell_type": "markdown",
   "id": "e6bc917e",
   "metadata": {},
   "source": [
    "## Wild Card / Meta Characters\n",
    "Special characters are characters that do not match themselves as seen but have a special meaning when used in a regular expression. Some commonly used wild cards or meta characters are listed below:\n",
    "\n",
    "\n",
    "| Wild Card | Description         \n",
    "| :-:       |:-------------\n",
    "| **^**     |Caret symbol specifies that the match must start at the beginning of the string, and in MULTILINE mode also matches immediately after each newline<br>- `^b` will check if the string starts with 'b' such as baba, boss, basic, b, by, etc.<br>- `^si` will check if the string starts with 'si' such as simple, sister, si, etc.\n",
    "| **$**     |Specifies that the match must occur at the end of the string <br> - `s$` will check for the string that ends with a such as geeks, ends, s, etc.<br>- `ing$` will check for the string that ends with ing such as going, seeing, ing, etc.\n",
    "| **.**     |Represent a single occurrance of any character except new line <br> - `a.b` will check for the string that contains any character at the place of the dot such as acb, acbd, abbb, etc<br> - `..` will check if the string contains at least 2 characters\n",
    "| **\\\\**    |Used to drop special meaning of a character following it or used to refer to a special character. <br> - Since dot `(.)` is a metacharacter, so if you want to search it in a string you have to use the backslash `(\\)` just before the dot `(.)`  so that it will lose its specialty. \n",
    "| **[...]** |Matches a single character in the listed set. If caret is the first character inside it, it means negation<br>- `[abc]` means match any single character out of this set<br>- `[123]` means match any single digit out of this set<br>- `[a-z]` means match any single character out of lower case alphabets<br>- `[0-9]` means match any single digit out of this set<br>- `[^0-3]` means any number except 0, 1, 2, or 3<br>- `[^a-c]` means any character except a, b, or c<br>- [0-5][0-9] will match all the two-digits numbers from 00 to 59<br>- `[0-9A-Fa-f]` will match any hexadecimal digit.<br>- Special characters lose their special meaning inside sets, so `[(+*)]` will match any of the literal characters '(', '+', '*', or ')'.<br>- To match a literal ']' inside a set, precede it with a backslash, or place it at the beginning of the set, so `[()[\\]{}]` and `[]()[{}]` will both match parenthesis.\n",
    "| **^[...]**|Matches any character in the set at the beginning of the string\n",
    "| **[^...]**|Matches any character except those NOT in the listed set (negation)\n",
    "| **\\|**    |Or symbol works as the OR operator meaning it checks whether the pattern before or after the or symbol is present in the string or not<br>- `a\\|b` will match any string that contains a or b such as acd, bcd, abcd, etc.<br>- To match a literal '\\|', use `\\|`, or enclose it inside a character class, as in `[\\|]`.\n",
    "| **( )**   |Used to capture and group"
   ]
  },
  {
   "cell_type": "markdown",
   "id": "f0cfcb57",
   "metadata": {},
   "source": [
    "## Quantifiers\n",
    "- A quantifier metacharacter immediately follows a portion of a <regex> and indicates how many times that portion must occur for the match to succeed. *, +, ?, {m}, {m,n}. When used alone, the quantifier metacharacters *, +, and ? are all greedy, meaning they produce the longest possible match means they are used to search multiple characters.\n",
    "\n",
    "| Wild Card | Description         \n",
    "| :-:       |:-------------\n",
    "| **\\***    |The preceding character/expression is repeated zero or more times\n",
    "| **+**     |The preceding character/expression is repeated one or more times, <br>- `ab+c` will be matched for the string abc, abbc, dabc, but will not be matched for ac, abdc because there is no b in ac and d is not followed by c in abdc.\n",
    "| **?**     |The preceding character/expression is optional (zero or one occurrence). <br>- `ab?c` will be matched for the string ac, abc, acb, dabc, dac but will not be matched for abbc because there are two b. Similarly, it will not be matched for abdc because b is not followed by c.\n",
    "| **{n,m}** |The preceding character/expression is repeated from n to m times (both enclusive). <br> - `a{2,4}` will be matched for the string aaab, baaaac, gaad, but will not be matched for strings like abc, bc because there is only one a or no a in both the cases.\n",
    "| **{n}**   |The preceding character/expression is repeated n times.<br>- `a{6}` will match exactly six 'a' characters, but not five.           \n",
    "| **{n,}**  |The preceding character/expression is repeated atleast n times \n",
    "| **{,m}**  |The preceding character/expression is repeated upto m times"
   ]
  },
  {
   "cell_type": "code",
   "execution_count": null,
   "id": "68e10fe6",
   "metadata": {},
   "outputs": [],
   "source": []
  },
  {
   "cell_type": "markdown",
   "id": "3cb10f31",
   "metadata": {},
   "source": [
    "## Escape Codes\n",
    "- You can use special escape codes to find specific types of patterns in your data, such as digits, non-digits,whitespace, and more. \n",
    "- The following list of special sequences isn’t complete.\n",
    "\n",
    "| Code | Description         \n",
    "| :-:  |:-------------\n",
    "| **\\d** |Matches any decimal digit. This is equivalent to [0-9]                              \n",
    "| **\\D** |Matches any non-digit character. This is equivalent to [^0-9] or [^\\d]                           \n",
    "| **\\s** |Matches any whitespace character. This is equivalent to [ \\r\\n\\t\\b\\f]                \n",
    "| **\\S** |Matches any non-whitespace character. This is equivalent to [^ \\r\\t\\n\\f] or [^\\s]                         \n",
    "| **\\w** |Matches alphanumeric character. This is equivalent to [a-zA-Z0-9_]                  \n",
    "| **\\W** |Matches any non-alphanumeric character. This is equivalent to [^a-zA-Z0-9_] or [^\\w]                  \n",
    "| **\\b** |Matches where the specified characters are at the beginning or at the end of a word r\"\\bain\" OR r\"ain\\b\"\n",
    "| **\\B** |Matches where the specified characters are present, but NOT or at the end of a word r\"Bain\" OR r\"ain\\B\" "
   ]
  },
  {
   "cell_type": "code",
   "execution_count": null,
   "id": "793f5d84",
   "metadata": {},
   "outputs": [],
   "source": []
  },
  {
   "cell_type": "markdown",
   "id": "7d5b31e5",
   "metadata": {},
   "source": [
    "##  Practice Regular Expressions\n",
    "(Visit reges101)[https://regex101.com/]"
   ]
  },
  {
   "cell_type": "markdown",
   "id": "ec63c799",
   "metadata": {},
   "source": [
    "- There are some grand tools online these days that allow you to write and test just about any regular expression out there using color coding, code explanation, substitution, etc.\n",
    "- The best regular expressions tester is Regex101 since it boasts the most features and supports the most language flavors. "
   ]
  },
  {
   "cell_type": "code",
   "execution_count": null,
   "id": "af663233",
   "metadata": {},
   "outputs": [],
   "source": []
  },
  {
   "cell_type": "markdown",
   "id": "bf39c315",
   "metadata": {},
   "source": [
    "#### We will perform following some tasks/activities in regex101.\n",
    "- perform single `.`\n",
    "- perform multiple dots `....`\n",
    "- perform `\\.`\n",
    "- To search `\\` we perform double backslaches `\\\\`\n",
    "- To search `*` we perform `\\*` and other characters also like this.\n",
    "- To search single digit like 1,2,3,... , we perform `\\d`.\n",
    "- To search non-digit characters, we perform `\\D`.\n",
    "- To search for boundary , we perform `\\b`. like `Ha\\b`. We can also put boundary on both sides like `\\bHa\\b`.\n",
    "- Perform caret symbol like `^Ha` , this gives a string that's start with `Ha`.\n",
    "- Search for a valid numbe using `\\d`.\n",
    "- Search for all valid numbers using `[.-]` like `\\d\\d\\d[.-]`\n",
    "- Search for a range by using this method `[A-z]`, Note this is differene of `-` in between and in end/start.\n",
    "- What is return of `[^0-9]`? And what is difference between `[0-9]` and `[^0-9]`.\n",
    "- find all the words ends with `at` but not start with `b`.\n",
    "- select all the valid hexa-decimal numbers using quantifier. `0[xX][0-9a-fA-F]+\\b`\n",
    "- what is difference between `\\d\\d\\d[.-]\\d\\d\\d[.-]\\d\\d\\d\\d` and `\\d{3}[.-]\\d{3}[.-]\\d{4}`.\n",
    "- Here `M[sr]s?` , character ? is optional .\n",
    "- Select all the valid names from given text."
   ]
  },
  {
   "cell_type": "code",
   "execution_count": null,
   "id": "24e47db9",
   "metadata": {},
   "outputs": [],
   "source": []
  },
  {
   "cell_type": "markdown",
   "id": "e05e9f85",
   "metadata": {},
   "source": [
    "abcdefghijklmnopqurtuvwxyz\n",
    "ABCDEFGHIJKLMNOPQRSTUVWXYZ\n",
    "1234567890\n",
    "Ha HaHa\n",
    "MetaCharacters (Need to be escaped): \n",
    ".[{()\\^$|?*+\n",
    "arifbutt.me\n",
    "321-555-4321\n",
    "123.555.1234\n",
    "111#923#9234\n",
    "cat\n",
    "mat\n",
    "bat\n",
    "0x45\n",
    "0X4Ad\n",
    "0x2g3\n",
    "0x349ABf\n",
    "0x"
   ]
  },
  {
   "cell_type": "markdown",
   "id": "1bed286e",
   "metadata": {},
   "source": [
    "#### Select only valid names"
   ]
  },
  {
   "cell_type": "markdown",
   "id": "a0cc2851",
   "metadata": {},
   "source": [
    "Hello World\n",
    "Mr. Ehtisham\n",
    "Mr Tayyab\n",
    "Ms Sonia\n",
    "Mrs. Ayesha\n",
    "Mr. B\n",
    "Learning is fun"
   ]
  },
  {
   "cell_type": "markdown",
   "id": "129f934e",
   "metadata": {},
   "source": [
    "#### Check validaity of emails\n",
    "- `[a-zA-Z0-9._%+-]+@[a-zA-Z0-9]+\\.[a-zA-Z0-9.-]+` this regex is used to select valid emails."
   ]
  },
  {
   "cell_type": "markdown",
   "id": "c54e1d32",
   "metadata": {},
   "source": [
    "List of Valid Email Addresses\n",
    "ehtisham@pucit.edu.pk\n",
    "ehtisham.ds@pu.edu.pk\n",
    "ehtishampucit@gmail.com\n",
    "ehtisham.pucit@pu.edu.pk\n",
    "first+123.5@example.com\n",
    "abc%xyz@subdomain.example.com\n",
    "my_name@example.com\n",
    "first-last@example.com\n",
    "\n",
    "List of Invalid Email Addresses\n",
    "#@%^%#$@#$@#.com\n",
    "abc.def@mail\n",
    "abc.def@mail#archive.com\n",
    "@example.com\n",
    "ehtisham sadiq @example.com\n",
    "Tayyab#@gmail.com\n",
    "Abc.example.com"
   ]
  },
  {
   "cell_type": "code",
   "execution_count": null,
   "id": "5deaa629",
   "metadata": {},
   "outputs": [],
   "source": [
    "Select valid URL\n",
    "- "
   ]
  },
  {
   "cell_type": "markdown",
   "id": "a098f5e7",
   "metadata": {},
   "source": [
    "https://www.google.com\n",
    "http://ehtisham.me\n",
    "https://youtube.com\n",
    "https://www.yahoo.com\n",
    "http://facebook.com"
   ]
  },
  {
   "cell_type": "code",
   "execution_count": null,
   "id": "d0846c43",
   "metadata": {},
   "outputs": [],
   "source": []
  },
  {
   "cell_type": "code",
   "execution_count": null,
   "id": "de40e1d0",
   "metadata": {},
   "outputs": [],
   "source": []
  },
  {
   "cell_type": "code",
   "execution_count": null,
   "id": "053be69e",
   "metadata": {},
   "outputs": [],
   "source": []
  },
  {
   "cell_type": "code",
   "execution_count": null,
   "id": "945de166",
   "metadata": {},
   "outputs": [],
   "source": []
  },
  {
   "cell_type": "code",
   "execution_count": null,
   "id": "6513a159",
   "metadata": {},
   "outputs": [],
   "source": []
  },
  {
   "cell_type": "code",
   "execution_count": null,
   "id": "0cb557a1",
   "metadata": {},
   "outputs": [],
   "source": []
  },
  {
   "cell_type": "code",
   "execution_count": null,
   "id": "2af94d61",
   "metadata": {},
   "outputs": [],
   "source": []
  },
  {
   "cell_type": "code",
   "execution_count": null,
   "id": "622aae0e",
   "metadata": {},
   "outputs": [],
   "source": []
  },
  {
   "cell_type": "code",
   "execution_count": null,
   "id": "80f77f75",
   "metadata": {},
   "outputs": [],
   "source": []
  },
  {
   "cell_type": "code",
   "execution_count": null,
   "id": "7ace107a",
   "metadata": {},
   "outputs": [],
   "source": []
  },
  {
   "cell_type": "code",
   "execution_count": null,
   "id": "497da2b6",
   "metadata": {},
   "outputs": [],
   "source": []
  },
  {
   "cell_type": "code",
   "execution_count": null,
   "id": "d68a9dc6",
   "metadata": {},
   "outputs": [],
   "source": []
  },
  {
   "cell_type": "markdown",
   "id": "a06c063f",
   "metadata": {},
   "source": [
    "## Practice Questions:"
   ]
  },
  {
   "cell_type": "markdown",
   "id": "8933443f",
   "metadata": {},
   "source": [
    "### Example 1: Write a regular expression to search digit inside a string.\n",
    "- Input : \"My roll number is 21\"\n",
    "- Output : [2,5]"
   ]
  },
  {
   "cell_type": "code",
   "execution_count": null,
   "id": "e0bb0550",
   "metadata": {},
   "outputs": [],
   "source": [
    "import re\n",
    "targetString = \"My roll number is 25\"\n",
    "reg = r\"\\d\"\n",
    "result = re.findall(reg,targetString)\n",
    "result"
   ]
  },
  {
   "cell_type": "markdown",
   "id": "497518a0",
   "metadata": {},
   "source": [
    "### Write a Python program that matches a string that has an a followed by zero or more b's."
   ]
  },
  {
   "cell_type": "code",
   "execution_count": null,
   "id": "9cb73ed8",
   "metadata": {},
   "outputs": [],
   "source": [
    "# write your answer"
   ]
  },
  {
   "cell_type": "markdown",
   "id": "9a9d6ee4",
   "metadata": {},
   "source": [
    "### Write a Python program that matches a string that has an a followed by zero or one 'b'."
   ]
  },
  {
   "cell_type": "markdown",
   "id": "e9c4cfeb",
   "metadata": {},
   "source": [
    "Hint :         patterns = 'ab?'"
   ]
  },
  {
   "cell_type": "code",
   "execution_count": null,
   "id": "8627cea4",
   "metadata": {},
   "outputs": [],
   "source": []
  },
  {
   "cell_type": "markdown",
   "id": "06f9ad6a",
   "metadata": {},
   "source": [
    "### Write a Python program to find sequences of lowercase letters joined with a underscore."
   ]
  },
  {
   "cell_type": "markdown",
   "id": "70f2a58c",
   "metadata": {},
   "source": [
    "Hint : ^[a-z]+_[a-z]+$"
   ]
  },
  {
   "cell_type": "markdown",
   "id": "8989c63c",
   "metadata": {},
   "source": [
    "### Write a Python program that matches a word at the beginning of a string."
   ]
  },
  {
   "cell_type": "code",
   "execution_count": null,
   "id": "e3cac137",
   "metadata": {},
   "outputs": [],
   "source": [
    "import re\n",
    "def text_match(text):\n",
    "    pattern = r\"^\\w\"\n",
    "    if re.search(pattern,text):\n",
    "        print(\"Text Found!\")\n",
    "    else:\n",
    "        print(\"Text not found\")\n",
    "        \n",
    "text_match(\"The quick brown fox jumps over the lazy dog.\")\n",
    "text_match(\" The quick brown fox jumps over the lazy dog.\")"
   ]
  },
  {
   "cell_type": "code",
   "execution_count": null,
   "id": "45419cbd",
   "metadata": {},
   "outputs": [],
   "source": []
  },
  {
   "cell_type": "markdown",
   "id": "680fa70c",
   "metadata": {},
   "source": [
    "### Write a Python program that matches a word at the end of a string, with optional punctuation."
   ]
  },
  {
   "cell_type": "code",
   "execution_count": null,
   "id": "47e74e89",
   "metadata": {},
   "outputs": [],
   "source": [
    "import re\n",
    "def text_match(text):\n",
    "        patterns = '\\w+\\S*$'\n",
    "        if re.search(patterns,  text):\n",
    "                return 'Found a match!'\n",
    "        else:\n",
    "                return('Not matched!')\n",
    "\n",
    "print(text_match(\"The quick brown fox jumps over the lazy dog.\"))\n",
    "print(text_match(\"The quick brown fox jumps over the lazy dog. \"))\n",
    "print(text_match(\"The quick brown fox jumps over the lazy dog \"))"
   ]
  },
  {
   "cell_type": "code",
   "execution_count": null,
   "id": "04432bc7",
   "metadata": {},
   "outputs": [],
   "source": []
  },
  {
   "cell_type": "markdown",
   "id": "9e5a0172",
   "metadata": {},
   "source": [
    "### Write a Python program that matches a word containing 'z'."
   ]
  },
  {
   "cell_type": "code",
   "execution_count": null,
   "id": "299ae779",
   "metadata": {},
   "outputs": [],
   "source": [
    "import re\n",
    "def text_match(text):\n",
    "        patterns = '\\w*z.\\w*'\n",
    "        if re.search(patterns,  text):\n",
    "                return 'Found a match!'\n",
    "        else:\n",
    "                return('Not matched!')\n",
    "\n",
    "print(text_match(\"The quick brown fox jumps over the lazy dog.\"))\n",
    "print(text_match(\"Python Exercises.\"))"
   ]
  },
  {
   "cell_type": "code",
   "execution_count": null,
   "id": "e687af69",
   "metadata": {},
   "outputs": [],
   "source": []
  },
  {
   "cell_type": "markdown",
   "id": "d4209d9d",
   "metadata": {},
   "source": [
    "### Write a Python program to match a string that contains only upper and lowercase letters, numbers, and underscores.\n"
   ]
  },
  {
   "cell_type": "code",
   "execution_count": null,
   "id": "9ad84a91",
   "metadata": {},
   "outputs": [],
   "source": [
    "import re\n",
    "def text_match(text):\n",
    "        patterns = '^[a-zA-Z0-9_]*$'\n",
    "        if re.search(patterns,  text):\n",
    "                return 'Found a match!'\n",
    "        else:\n",
    "                return('Not matched!')\n",
    "\n",
    "print(text_match(\"The quick brown fox jumps over the lazy dog.\"))\n",
    "print(text_match(\"Python_Exercises_1\"))"
   ]
  },
  {
   "cell_type": "code",
   "execution_count": null,
   "id": "40b181b4",
   "metadata": {},
   "outputs": [],
   "source": []
  },
  {
   "cell_type": "code",
   "execution_count": null,
   "id": "c92285b3",
   "metadata": {},
   "outputs": [],
   "source": [
    "import re\n",
    "def match_num(string):\n",
    "    text = re.compile(r\"^5\")\n",
    "    if text.match(string):\n",
    "        return True\n",
    "    else:\n",
    "        return False\n",
    "print(match_num('5-2345861'))\n",
    "print(match_num('6-2345861'))"
   ]
  },
  {
   "cell_type": "code",
   "execution_count": null,
   "id": "d35dd089",
   "metadata": {},
   "outputs": [],
   "source": []
  },
  {
   "cell_type": "code",
   "execution_count": null,
   "id": "87d627b3",
   "metadata": {},
   "outputs": [],
   "source": []
  },
  {
   "cell_type": "code",
   "execution_count": null,
   "id": "8a1a1761",
   "metadata": {},
   "outputs": [],
   "source": []
  },
  {
   "cell_type": "code",
   "execution_count": null,
   "id": "b6a66a55",
   "metadata": {},
   "outputs": [],
   "source": []
  }
 ],
 "metadata": {
  "kernelspec": {
   "display_name": "Python 3 (ipykernel)",
   "language": "python",
   "name": "python3"
  },
  "language_info": {
   "codemirror_mode": {
    "name": "ipython",
    "version": 3
   },
   "file_extension": ".py",
   "mimetype": "text/x-python",
   "name": "python",
   "nbconvert_exporter": "python",
   "pygments_lexer": "ipython3",
   "version": "3.8.10"
  }
 },
 "nbformat": 4,
 "nbformat_minor": 5
}
