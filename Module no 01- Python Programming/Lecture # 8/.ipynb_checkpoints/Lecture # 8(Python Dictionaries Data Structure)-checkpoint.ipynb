{
 "cells": [
  {
   "cell_type": "markdown",
   "id": "a6651c01",
   "metadata": {},
   "source": [
    "---   \n",
    "\n",
    "<h1 align=\"center\">Introduction to Data Analyst and Data Science for beginners</h1>\n",
    "<h1 align=\"center\">Lecture no 08</h1>\n",
    "\n",
    "---\n",
    "<h3><div align=\"right\">Ehtisham Sadiq</div></h3>    "
   ]
  },
  {
   "cell_type": "markdown",
   "id": "95de41a5",
   "metadata": {},
   "source": [
    "## _Python-Dictionaries.ipynb_\n",
    "#### [Click me to learn more about Python Dictionaries](https://www.geeksforgeeks.org/python-dictionary/)"
   ]
  },
  {
   "cell_type": "markdown",
   "id": "3594553d",
   "metadata": {},
   "source": [
    "<img align=\"center\" width=\"800\" height=\"800\"  src=\"images/datatypes1.png\" > "
   ]
  },
  {
   "cell_type": "code",
   "execution_count": null,
   "id": "muslim-outreach",
   "metadata": {},
   "outputs": [],
   "source": []
  },
  {
   "cell_type": "code",
   "execution_count": null,
   "id": "careful-nashville",
   "metadata": {},
   "outputs": [],
   "source": []
  },
  {
   "cell_type": "markdown",
   "id": "68ab91ba",
   "metadata": {},
   "source": [
    "- A Dictionary object  is created by placing comma separated `key:value` pairs in curly braces.\n",
    "- The keys of a dictionary has to be unique and can be of heterogeneous immutable types only (int, string or tuple).\n",
    "- The values can be duplicated and can be of heterogeneous types (mutable + immutable).\n",
    "- From Python version 3.7 onwards, dictionaries are ordered, however, are not indexed like Lists rather indexed on key values.\n",
    "- The dictionaries are used when you have to store million of `key:value` pairs and want to search a value given the key efficiently."
   ]
  },
  {
   "cell_type": "markdown",
   "id": "7c109b0c",
   "metadata": {},
   "source": [
    "## Learning agenda of this notebook\n",
    "* **Motivation to use Dictionary**\n",
    "1. How to create dictionaries?\n",
    "2. Proof of concepts\n",
    "3. Accessing elements of a dictionary\n",
    "4. Adding/Modifying elements of a dictionary\n",
    "5. Removing elements from a dictionary\n",
    "6. Dictionary, tuple and list conversions\n",
    "7. Sorting Dictionary values\n",
    "8. Aliasing vs Shallow Copy vs Deep Copy"
   ]
  },
  {
   "cell_type": "code",
   "execution_count": 60,
   "id": "20690d1d",
   "metadata": {},
   "outputs": [],
   "source": [
    "# help(dict)"
   ]
  },
  {
   "cell_type": "markdown",
   "id": "dbc7a471",
   "metadata": {},
   "source": [
    "## Motivation to use Dictionary"
   ]
  },
  {
   "cell_type": "markdown",
   "id": "familiar-investment",
   "metadata": {},
   "source": [
    "Let's solve a problem to see benefits of dictionary.  \n",
    "How you can get marks of a specific student by using both lists students and name.  "
   ]
  },
  {
   "cell_type": "code",
   "execution_count": null,
   "id": "swedish-recycling",
   "metadata": {},
   "outputs": [],
   "source": []
  },
  {
   "cell_type": "code",
   "execution_count": 94,
   "id": "6ca016ed",
   "metadata": {},
   "outputs": [],
   "source": [
    "students = ['Ehtisham', 'Ali', 'Ayesha', 'Dua', 'Adeen']\n",
    "marks = [81, 52, 70, 74, 78]"
   ]
  },
  {
   "cell_type": "code",
   "execution_count": 95,
   "id": "nuclear-forge",
   "metadata": {},
   "outputs": [],
   "source": [
    "def get_marks(name):\n",
    "    index = students.index(name)\n",
    "    return marks[index]"
   ]
  },
  {
   "cell_type": "code",
   "execution_count": 97,
   "id": "aboriginal-faculty",
   "metadata": {},
   "outputs": [
    {
     "data": {
      "text/plain": [
       "52"
      ]
     },
     "execution_count": 97,
     "metadata": {},
     "output_type": "execute_result"
    }
   ],
   "source": [
    "get_marks('Ali')"
   ]
  },
  {
   "cell_type": "code",
   "execution_count": null,
   "id": "unavailable-jewel",
   "metadata": {},
   "outputs": [],
   "source": []
  },
  {
   "cell_type": "markdown",
   "id": "78d11dc1",
   "metadata": {},
   "source": [
    "## 1. How to create Dictionaries?\n",
    "- A Dictionary object  is created by placing comma separated `key:value` pairs in curly braces.\n",
    "- The keys of a dictionary has to be unique and can be of heterogeneous immutable types only (int, string or tuple).\n",
    "- The values can be duplicated and can be of heterogeneous types (mutable + immutable)."
   ]
  },
  {
   "cell_type": "code",
   "execution_count": 100,
   "id": "88801cf7",
   "metadata": {},
   "outputs": [
    {
     "name": "stdout",
     "output_type": "stream",
     "text": [
      "{'Ehtisham': 51, 'Ali': 52, 'Dua': 22}\n",
      "<class 'dict'>\n",
      "2973474952256\n"
     ]
    }
   ],
   "source": [
    "# A dictionary with string keys, and integer values, showing age of person\n",
    "dict1 = {\n",
    "    'Ehtisham':51, \n",
    "    'Ali':52, \n",
    "    'Dua':22\n",
    "}\n",
    "print(dict1)\n",
    "print(type(dict1))\n",
    "print(id(dict1))"
   ]
  },
  {
   "cell_type": "code",
   "execution_count": 102,
   "id": "4eaf7468",
   "metadata": {},
   "outputs": [
    {
     "name": "stdout",
     "output_type": "stream",
     "text": [
      "{2580: 'var1', 2582: 'var2', 2586: 'var3'}\n",
      "<class 'dict'>\n",
      "2973475631360\n"
     ]
    }
   ],
   "source": [
    "# A dictionary with integer keys, and string values, showing a symbol table generated by compiler\n",
    "dict2 = {\n",
    "    2580:'var1', \n",
    "    2582:'var2', \n",
    "    2586:'var3'\n",
    "}\n",
    "print(dict2)\n",
    "print(type(dict2))\n",
    "print(id(dict2))"
   ]
  },
  {
   "cell_type": "code",
   "execution_count": 103,
   "id": "28246b4b",
   "metadata": {},
   "outputs": [
    {
     "data": {
      "text/plain": [
       "{'name': 'ali', 1: 10, 'abc': 25, 33: 'xyz'}"
      ]
     },
     "execution_count": 103,
     "metadata": {},
     "output_type": "execute_result"
    }
   ],
   "source": [
    "# dictionary with mixed keys (immutable types only)\n",
    "dict3 = {\n",
    "    'name': 'ali', \n",
    "    1: 10,\n",
    "    'abc':25,\n",
    "    33: 'xyz'\n",
    "}\n",
    "dict3"
   ]
  },
  {
   "cell_type": "code",
   "execution_count": 104,
   "id": "2b837716",
   "metadata": {},
   "outputs": [
    {
     "data": {
      "text/plain": [
       "{1: 'hello', 2: 'bye'}"
      ]
     },
     "execution_count": 104,
     "metadata": {},
     "output_type": "execute_result"
    }
   ],
   "source": [
    "# creating dictionary using dict() method\n",
    "dict4 = dict({1: 'hello', 2: 'bye'})\n",
    "dict4"
   ]
  },
  {
   "cell_type": "code",
   "execution_count": 105,
   "id": "42a9682a",
   "metadata": {},
   "outputs": [
    {
     "data": {
      "text/plain": [
       "{}"
      ]
     },
     "execution_count": 105,
     "metadata": {},
     "output_type": "execute_result"
    }
   ],
   "source": [
    "# Creating an empty dictionary\n",
    "dict5 = dict()\n",
    "dict5"
   ]
  },
  {
   "cell_type": "code",
   "execution_count": null,
   "id": "northern-webmaster",
   "metadata": {},
   "outputs": [],
   "source": []
  },
  {
   "cell_type": "code",
   "execution_count": 108,
   "id": "e5aa7f0f",
   "metadata": {},
   "outputs": [
    {
     "data": {
      "text/plain": [
       "{}"
      ]
     },
     "execution_count": 108,
     "metadata": {},
     "output_type": "execute_result"
    }
   ],
   "source": [
    "# other way to create empty dictionary\n",
    "dict6 = {}\n",
    "dict6"
   ]
  },
  {
   "cell_type": "code",
   "execution_count": null,
   "id": "banner-demonstration",
   "metadata": {},
   "outputs": [],
   "source": []
  },
  {
   "cell_type": "code",
   "execution_count": 112,
   "id": "82597fbb",
   "metadata": {},
   "outputs": [
    {
     "data": {
      "text/plain": [
       "21"
      ]
     },
     "execution_count": 112,
     "metadata": {},
     "output_type": "execute_result"
    }
   ],
   "source": [
    "# A list of two object tuples can also be used to create dictionaries\n",
    "dict7 = dict([('name', 'Ehtisham'), ('age',21), ('city', 'Okara')])\n",
    "dict7['age']"
   ]
  },
  {
   "cell_type": "code",
   "execution_count": 113,
   "id": "eastern-salvation",
   "metadata": {},
   "outputs": [
    {
     "data": {
      "text/plain": [
       "{'name': 'Ehtisham', 'age': 21, 'city': 'Okara'}"
      ]
     },
     "execution_count": 113,
     "metadata": {},
     "output_type": "execute_result"
    }
   ],
   "source": [
    "dict7"
   ]
  },
  {
   "cell_type": "markdown",
   "id": "d6ec8ad7",
   "metadata": {},
   "source": [
    "## 2. Proof of concepts"
   ]
  },
  {
   "cell_type": "markdown",
   "id": "feba67cb",
   "metadata": {},
   "source": [
    "### a. Dictionary allows Duplicate Values"
   ]
  },
  {
   "cell_type": "code",
   "execution_count": 114,
   "id": "36c560ea",
   "metadata": {},
   "outputs": [
    {
     "data": {
      "text/plain": [
       "{'name1': 'ali', 'name2': 'ali'}"
      ]
     },
     "execution_count": 114,
     "metadata": {},
     "output_type": "execute_result"
    }
   ],
   "source": [
    "# Duplicate values are allowed\n",
    "d1 = {'name1' : 'ali',\n",
    "     'name2' : 'ali'\n",
    "     }\n",
    "d1"
   ]
  },
  {
   "cell_type": "markdown",
   "id": "241ef2e0",
   "metadata": {},
   "source": [
    "### b. Dictionary DOESNOT allows Duplicate Keys"
   ]
  },
  {
   "cell_type": "code",
   "execution_count": 117,
   "id": "873aa251",
   "metadata": {},
   "outputs": [
    {
     "data": {
      "text/plain": [
       "{'name': 'AYESHA'}"
      ]
     },
     "execution_count": 117,
     "metadata": {},
     "output_type": "execute_result"
    }
   ],
   "source": [
    "# Duplicate keys are not allowed\n",
    "# This will not raise an error, but will overwrite the value corresponding to the key\n",
    "d1 = { \n",
    "     'name' : 'ali',\n",
    "     'name' : 'ehtisham',\n",
    "     'name' : 'AYESHA'\n",
    "     }\n",
    "d1"
   ]
  },
  {
   "cell_type": "markdown",
   "id": "37e2a7a2",
   "metadata": {},
   "source": [
    "### c. Keys inside Dictionaries Must be of Immutable data types\n",
    "- The keys of a dictionary has to be of immutable data type (number, string, tuple)"
   ]
  },
  {
   "cell_type": "code",
   "execution_count": 118,
   "id": "f6c829c1",
   "metadata": {},
   "outputs": [
    {
     "data": {
      "text/plain": [
       "{'ali': 'name', (60, 78, 83): 'marks'}"
      ]
     },
     "execution_count": 118,
     "metadata": {},
     "output_type": "execute_result"
    }
   ],
   "source": [
    "# Tuple being immutable can be used as a key\n",
    "d1 = {\n",
    "        'ali':'name', \n",
    "      (60, 78, 83): 'marks' \n",
    "     }\n",
    "d1"
   ]
  },
  {
   "cell_type": "code",
   "execution_count": 119,
   "id": "fbcf6824",
   "metadata": {},
   "outputs": [
    {
     "ename": "TypeError",
     "evalue": "unhashable type: 'list'",
     "output_type": "error",
     "traceback": [
      "\u001b[1;31m---------------------------------------------------------------------------\u001b[0m",
      "\u001b[1;31mTypeError\u001b[0m                                 Traceback (most recent call last)",
      "\u001b[1;32m<ipython-input-119-7f9de3589f9f>\u001b[0m in \u001b[0;36m<module>\u001b[1;34m\u001b[0m\n\u001b[0;32m      1\u001b[0m \u001b[1;31m# List being mutable cannot be used as a key\u001b[0m\u001b[1;33m\u001b[0m\u001b[1;33m\u001b[0m\u001b[1;33m\u001b[0m\u001b[0m\n\u001b[1;32m----> 2\u001b[1;33m d1 = {\n\u001b[0m\u001b[0;32m      3\u001b[0m       \u001b[1;34m'ali'\u001b[0m\u001b[1;33m:\u001b[0m\u001b[1;34m'name'\u001b[0m\u001b[1;33m,\u001b[0m\u001b[1;33m\u001b[0m\u001b[1;33m\u001b[0m\u001b[0m\n\u001b[0;32m      4\u001b[0m \u001b[1;33m\u001b[0m\u001b[0m\n\u001b[0;32m      5\u001b[0m       \u001b[1;33m[\u001b[0m\u001b[1;36m60\u001b[0m\u001b[1;33m,\u001b[0m \u001b[1;36m78\u001b[0m\u001b[1;33m,\u001b[0m \u001b[1;36m83\u001b[0m\u001b[1;33m]\u001b[0m\u001b[1;33m:\u001b[0m\u001b[1;34m'marks'\u001b[0m\u001b[1;33m\u001b[0m\u001b[1;33m\u001b[0m\u001b[0m\n",
      "\u001b[1;31mTypeError\u001b[0m: unhashable type: 'list'"
     ]
    }
   ],
   "source": [
    "# List being mutable cannot be used as a key\n",
    "d1 = {\n",
    "      'ali':'name', \n",
    "    \n",
    "      [60, 78, 83]:'marks' \n",
    "     }\n",
    "d1"
   ]
  },
  {
   "cell_type": "markdown",
   "id": "b6b79f18",
   "metadata": {},
   "source": [
    "### d. Values inside Dictionaies can be of mutable/immutable data type"
   ]
  },
  {
   "cell_type": "code",
   "execution_count": 120,
   "id": "707b1982",
   "metadata": {},
   "outputs": [
    {
     "data": {
      "text/plain": [
       "{'name': 'Ali', 'marks': [60, 78, 83]}"
      ]
     },
     "execution_count": 120,
     "metadata": {},
     "output_type": "execute_result"
    }
   ],
   "source": [
    "# List being mutable can be used as a value\n",
    "d1 = {\n",
    "     'name':'Ali', \n",
    "      'marks':[60,78,83] \n",
    "     }\n",
    "d1"
   ]
  },
  {
   "cell_type": "code",
   "execution_count": 121,
   "id": "848acae1",
   "metadata": {},
   "outputs": [
    {
     "data": {
      "text/plain": [
       "{'name': 'ali', 'marks': (60, 78, 83)}"
      ]
     },
     "execution_count": 121,
     "metadata": {},
     "output_type": "execute_result"
    }
   ],
   "source": [
    "# Tuple being immutable can also be used as a value\n",
    "d1 = {'name':'ali', \n",
    "      'marks': (60,78,83) \n",
    "     }\n",
    "d1"
   ]
  },
  {
   "cell_type": "markdown",
   "id": "b4736b44",
   "metadata": {},
   "source": [
    "### e. Dictionaries are heterogeneous\n",
    "- The keys of a dictionary can be of integer, string, or tuple type\n",
    "- The values of a dictionary can be of any data type"
   ]
  },
  {
   "cell_type": "code",
   "execution_count": 122,
   "id": "554ca278",
   "metadata": {},
   "outputs": [
    {
     "data": {
      "text/plain": [
       "{'name': 'ali', 1: 10, 'abc': 25, 33: 'xyz'}"
      ]
     },
     "execution_count": 122,
     "metadata": {},
     "output_type": "execute_result"
    }
   ],
   "source": [
    "dict3 = {\n",
    "    'name': 'ali', \n",
    "    1: 10,\n",
    "    'abc':25,\n",
    "    33: 'xyz'\n",
    "}\n",
    "dict3"
   ]
  },
  {
   "cell_type": "markdown",
   "id": "dd3c355e",
   "metadata": {},
   "source": [
    "### f. Dictionaries can be nested to arbitrary depth"
   ]
  },
  {
   "cell_type": "code",
   "execution_count": null,
   "id": "silver-visibility",
   "metadata": {},
   "outputs": [],
   "source": []
  },
  {
   "cell_type": "code",
   "execution_count": 124,
   "id": "6b41d82a",
   "metadata": {},
   "outputs": [
    {
     "name": "stdout",
     "output_type": "stream",
     "text": [
      "{'name': 'ehtisham', 'status': 'student', 'address': {'house#': 35, 'area': 'Pak Villas Housing Society', 'city': 'Okara'}, 'phone': '03460000000'}\n"
     ]
    }
   ],
   "source": [
    "# Creating a Nested Dictionary\n",
    "dict7 = {\n",
    "        'name':'ehtisham', \n",
    "         'status':'student',\n",
    "        'address':{'house#' : 35, 'area' : 'Pak Villas Housing Society', 'city' : 'Okara'},\n",
    "         'phone': '03460000000'\n",
    "        }\n",
    " \n",
    "print(dict7)"
   ]
  },
  {
   "cell_type": "code",
   "execution_count": 127,
   "id": "least-yemen",
   "metadata": {},
   "outputs": [
    {
     "data": {
      "text/plain": [
       "{'house#': 35, 'area': 'Pak Villas Housing Society', 'city': 'Okara'}"
      ]
     },
     "execution_count": 127,
     "metadata": {},
     "output_type": "execute_result"
    }
   ],
   "source": [
    "dict7['address']"
   ]
  },
  {
   "cell_type": "markdown",
   "id": "bdfb8c5d",
   "metadata": {},
   "source": [
    "### g. Dictionaries from Python 3.7 onward are ordered\n",
    "- From Python 3.7 onwards, dictionaries are guranteed to be in insertion ordered. i.e., every time you access dictionary elements they will show up in same sequence. \n",
    "- However, like string, list, and tuple, the elements of a dictionary are not associated by an index\n",
    "- Moreover, two dictionaries having same key-value pairs are two different objects"
   ]
  },
  {
   "cell_type": "code",
   "execution_count": 59,
   "id": "f588c165",
   "metadata": {},
   "outputs": [
    {
     "name": "stdout",
     "output_type": "stream",
     "text": [
      "2973473612864 2973473613440 2973473612096\n"
     ]
    }
   ],
   "source": [
    "d1 = {\n",
    "    'Ehtisham':51, \n",
    "    'ali':52, \n",
    "    'dua':20\n",
    "}\n",
    "d1\n",
    "d2 = {\n",
    "    'Ehtisham':51, \n",
    "    'ali':52, \n",
    "    'dua':20\n",
    "}\n",
    "d2\n",
    "d3 = {\n",
    "    'Ehtisham':52, \n",
    "    'dua':20,\n",
    "    'Ehtisham':51\n",
    "}\n",
    "print(id(d1), id(d2), id(d3))"
   ]
  },
  {
   "cell_type": "markdown",
   "id": "11c05fb2",
   "metadata": {},
   "source": [
    "## 3. Accessing Elements of a Dictionary"
   ]
  },
  {
   "cell_type": "markdown",
   "id": "f79228bc",
   "metadata": {},
   "source": [
    "### a. Retrieving a `value`of a Dictionary given a `key`\n",
    "- Given a key, you can retrieve corresponding value from a dictionary using two ways:\n",
    "    - Use key inside `[]` operator\n",
    "    - Pass the key as argument to `dict.get(key)` method"
   ]
  },
  {
   "cell_type": "code",
   "execution_count": 130,
   "id": "af560a31",
   "metadata": {},
   "outputs": [],
   "source": [
    "d1 = {\n",
    "    'name':'Ehisham', \n",
    "    'age':21, \n",
    "    'address':'Pak Villas', \n",
    "    'marks':[60, 75, 80]\n",
    "}\n",
    "# d1['age']"
   ]
  },
  {
   "cell_type": "code",
   "execution_count": 131,
   "id": "06df71ad",
   "metadata": {},
   "outputs": [
    {
     "data": {
      "text/plain": [
       "'Pak Villas'"
      ]
     },
     "execution_count": 131,
     "metadata": {},
     "output_type": "execute_result"
    }
   ],
   "source": [
    "d1['address']"
   ]
  },
  {
   "cell_type": "code",
   "execution_count": 132,
   "id": "43c4a5ff",
   "metadata": {},
   "outputs": [
    {
     "data": {
      "text/plain": [
       "[60, 75, 80]"
      ]
     },
     "execution_count": 132,
     "metadata": {},
     "output_type": "execute_result"
    }
   ],
   "source": [
    "d1.get('marks')"
   ]
  },
  {
   "cell_type": "markdown",
   "id": "248a9a51",
   "metadata": {},
   "source": [
    "**To retrieve a value from a nested dictionary**"
   ]
  },
  {
   "cell_type": "code",
   "execution_count": 133,
   "id": "c7bcc139",
   "metadata": {},
   "outputs": [
    {
     "name": "stdout",
     "output_type": "stream",
     "text": [
      "{'name': 'ehtisham', 'status': 'student', 'address': {'house#': 35, 'area': 'Pak Villas Housing Society', 'city': 'Okara'}, 'phone': '03460000000'}\n"
     ]
    }
   ],
   "source": [
    "d2 = {\n",
    "        'name':'ehtisham', \n",
    "         'status':'student',\n",
    "        'address':{'house#' : 35, \n",
    "                   'area' : 'Pak Villas Housing Society', \n",
    "                   'city' : 'Okara'},\n",
    "         'phone': '03460000000'\n",
    "        }\n",
    " \n",
    "print(d2)"
   ]
  },
  {
   "cell_type": "code",
   "execution_count": 31,
   "id": "a08ce2d1",
   "metadata": {},
   "outputs": [
    {
     "data": {
      "text/plain": [
       "{'house#': 35, 'area': 'Pak Villas Housing Society', 'city': 'Okara'}"
      ]
     },
     "execution_count": 31,
     "metadata": {},
     "output_type": "execute_result"
    }
   ],
   "source": [
    "d2['address']"
   ]
  },
  {
   "cell_type": "code",
   "execution_count": 134,
   "id": "3ffa6521",
   "metadata": {},
   "outputs": [
    {
     "data": {
      "text/plain": [
       "'Okara'"
      ]
     },
     "execution_count": 134,
     "metadata": {},
     "output_type": "execute_result"
    }
   ],
   "source": [
    "d2['address']['city']"
   ]
  },
  {
   "cell_type": "code",
   "execution_count": 34,
   "id": "61ead2f6",
   "metadata": {},
   "outputs": [
    {
     "data": {
      "text/plain": [
       "'Okara'"
      ]
     },
     "execution_count": 34,
     "metadata": {},
     "output_type": "execute_result"
    }
   ],
   "source": [
    "d2.get('address')['city']"
   ]
  },
  {
   "cell_type": "code",
   "execution_count": 135,
   "id": "7aea3ab9",
   "metadata": {},
   "outputs": [
    {
     "data": {
      "text/plain": [
       "'Okara'"
      ]
     },
     "execution_count": 135,
     "metadata": {},
     "output_type": "execute_result"
    }
   ],
   "source": [
    "d2.get('address').get('city')"
   ]
  },
  {
   "cell_type": "markdown",
   "id": "46c467b5",
   "metadata": {},
   "source": [
    "### c. Retrieving all `key:value` pairs from a Dictionary using `dict.items()`  method\n",
    "- The `dict.items()` method returns all the key-value pairs of a dictionary as a two object tuple"
   ]
  },
  {
   "cell_type": "code",
   "execution_count": 136,
   "id": "f3b13815",
   "metadata": {},
   "outputs": [
    {
     "name": "stdout",
     "output_type": "stream",
     "text": [
      "{'name': 'ehtisham', 'status': 'student', 'address': {'house#': 35, 'area': 'Pak Villas Housing Society', 'city': 'Okara'}, 'phone': '03460000000'}\n"
     ]
    }
   ],
   "source": [
    "# Creating a Nested Dictionary\n",
    "d1 = {'name':'ehtisham', \n",
    "         'status':'student',\n",
    "        'address':{'house#' : 35, 'area' : 'Pak Villas Housing Society', 'city' : 'Okara'},\n",
    "         'phone': '03460000000'\n",
    "        }\n",
    " \n",
    "print(d1)"
   ]
  },
  {
   "cell_type": "code",
   "execution_count": 137,
   "id": "63929986",
   "metadata": {},
   "outputs": [
    {
     "name": "stdout",
     "output_type": "stream",
     "text": [
      "dict_items([('name', 'ehtisham'), ('status', 'student'), ('address', {'house#': 35, 'area': 'Pak Villas Housing Society', 'city': 'Okara'}), ('phone', '03460000000')])\n"
     ]
    }
   ],
   "source": [
    "l1 = d1.items()\n",
    "print(l1)"
   ]
  },
  {
   "cell_type": "code",
   "execution_count": null,
   "id": "enclosed-plain",
   "metadata": {},
   "outputs": [],
   "source": []
  },
  {
   "cell_type": "markdown",
   "id": "b1b75815",
   "metadata": {},
   "source": [
    "### d. Retrieving all `keys` of a Dictionary using `dict.keys()`  method\n",
    "- The `dict.keys()` method returns all the keys  of a dictionary object"
   ]
  },
  {
   "cell_type": "code",
   "execution_count": 143,
   "id": "757ddbcd",
   "metadata": {},
   "outputs": [],
   "source": [
    "d1 = {\n",
    "    'name':'Ehtisham', \n",
    "    'age':21, \n",
    "    'address':'Pak Villas', \n",
    "    'marks':[60, 75, 80]\n",
    "}"
   ]
  },
  {
   "cell_type": "code",
   "execution_count": 144,
   "id": "9a202981",
   "metadata": {},
   "outputs": [
    {
     "data": {
      "text/plain": [
       "dict_keys(['name', 'age', 'address', 'marks'])"
      ]
     },
     "execution_count": 144,
     "metadata": {},
     "output_type": "execute_result"
    }
   ],
   "source": [
    "d1.keys()"
   ]
  },
  {
   "cell_type": "markdown",
   "id": "9bd002d9",
   "metadata": {},
   "source": [
    "### e. Retrieving all `values` from a Dictionary using `dict.values()`  method\n",
    "- The `dict.values()` method returns all the values  of a dict object\n",
    "- If a value occurs multiple times in the dictionary, it will appear that many times"
   ]
  },
  {
   "cell_type": "code",
   "execution_count": 145,
   "id": "521ab72a",
   "metadata": {},
   "outputs": [],
   "source": [
    "d1 = {\n",
    "    'name':'Ehtisham', \n",
    "    'age':21, \n",
    "    'address':'Pak Villas', \n",
    "    'marks':[60, 75, 80]\n",
    "}"
   ]
  },
  {
   "cell_type": "code",
   "execution_count": 146,
   "id": "7a1fc953",
   "metadata": {},
   "outputs": [
    {
     "data": {
      "text/plain": [
       "dict_values(['Ehtisham', 21, 'Pak Villas', [60, 75, 80]])"
      ]
     },
     "execution_count": 146,
     "metadata": {},
     "output_type": "execute_result"
    }
   ],
   "source": [
    "d1.values()"
   ]
  },
  {
   "cell_type": "markdown",
   "id": "c8bf8328",
   "metadata": {},
   "source": [
    "## 4. Adding/Modifying Elements of a Dictionary"
   ]
  },
  {
   "cell_type": "markdown",
   "id": "b3baf5f7",
   "metadata": {},
   "source": [
    "### a. Adding/Modifying Elements using `[]` Operator\n",
    "- You can  modify value associated with a key using `[]` operator and assignment statement\n",
    "```\n",
    "dict[key] = value\n",
    "```\n",
    "- If the key donot already exist, a new key:value is inserted in the dictionary"
   ]
  },
  {
   "cell_type": "code",
   "execution_count": 150,
   "id": "ee36941b",
   "metadata": {},
   "outputs": [
    {
     "data": {
      "text/plain": [
       "{'name': 'Ehtisham', 'age': 21, 'address': 'Pak Villas', 'marks': [60, 75, 80]}"
      ]
     },
     "execution_count": 150,
     "metadata": {},
     "output_type": "execute_result"
    }
   ],
   "source": [
    "d1 = {\n",
    "    'name':'Ehtisham', \n",
    "    'age':21, \n",
    "    'address':'Pak Villas', \n",
    "    'marks':[60, 75, 80]\n",
    "}\n",
    "d1"
   ]
  },
  {
   "cell_type": "code",
   "execution_count": 151,
   "id": "9ab55d28",
   "metadata": {},
   "outputs": [
    {
     "data": {
      "text/plain": [
       "{'name': 'Ehtisham', 'age': 21, 'address': 'Township', 'marks': [60, 75, 80]}"
      ]
     },
     "execution_count": 151,
     "metadata": {},
     "output_type": "execute_result"
    }
   ],
   "source": [
    "# Modify value corresponding to an existing key\n",
    "d1['address'] = 'Township'\n",
    "d1"
   ]
  },
  {
   "cell_type": "code",
   "execution_count": 152,
   "id": "eb507d6e",
   "metadata": {},
   "outputs": [
    {
     "data": {
      "text/plain": [
       "{'name': 'Ehtisham',\n",
       " 'age': 21,\n",
       " 'address': 'Township',\n",
       " 'marks': [60, 75, 80],\n",
       " 'key1': 'value1'}"
      ]
     },
     "execution_count": 152,
     "metadata": {},
     "output_type": "execute_result"
    }
   ],
   "source": [
    "# Adding a new key:value pair\n",
    "d1['key1'] = 'value1'\n",
    "d1"
   ]
  },
  {
   "cell_type": "markdown",
   "id": "e40d6d74",
   "metadata": {},
   "source": [
    "### b. Modifying Elements using `d1.update()` method \n",
    "- The `d1.update()` method is used to update the value corresponding to an existing key inside the dictionary\n",
    "```\n",
    "dict.update(key:value)\n",
    "```\n",
    "- If the key donot already exist, a new key:value is inserted in the dictionary"
   ]
  },
  {
   "cell_type": "code",
   "execution_count": 155,
   "id": "be36f778",
   "metadata": {},
   "outputs": [
    {
     "data": {
      "text/plain": [
       "{'name': 'Ali', 'age': 22, 'address': 'Pak Villas', 'marks': [60, 75, 80]}"
      ]
     },
     "execution_count": 155,
     "metadata": {},
     "output_type": "execute_result"
    }
   ],
   "source": [
    "# Create a simple dictionary\n",
    "d1 = {\n",
    "    'name':'Ali', \n",
    "    'age':22, \n",
    "    'address':'Pak Villas', \n",
    "    'marks':[60, 75, 80]\n",
    "}\n",
    "d1"
   ]
  },
  {
   "cell_type": "code",
   "execution_count": 156,
   "id": "4f7f5acf",
   "metadata": {},
   "outputs": [
    {
     "data": {
      "text/plain": [
       "{'name': 'Ehtisham Sadiq',\n",
       " 'age': 22,\n",
       " 'address': 'Pak Villas',\n",
       " 'marks': [60, 75, 80]}"
      ]
     },
     "execution_count": 156,
     "metadata": {},
     "output_type": "execute_result"
    }
   ],
   "source": [
    "# Modify value corresponding to an existing key\n",
    "d1.update({'name':'Ehtisham Sadiq'})\n",
    "d1"
   ]
  },
  {
   "cell_type": "code",
   "execution_count": 157,
   "id": "f4427151",
   "metadata": {},
   "outputs": [
    {
     "data": {
      "text/plain": [
       "{'name': 'Ehtisham Sadiq',\n",
       " 'age': 22,\n",
       " 'address': 'Pak Villas',\n",
       " 'marks': [60, 75, 80],\n",
       " 'key2': 'value2'}"
      ]
     },
     "execution_count": 157,
     "metadata": {},
     "output_type": "execute_result"
    }
   ],
   "source": [
    "# Adding a new key:value pair\n",
    "d1.update({'key2':'value2'})\n",
    "d1"
   ]
  },
  {
   "cell_type": "markdown",
   "id": "202c78c0",
   "metadata": {},
   "source": [
    "**You can use the `dict.update()` method to merge two dictionaries**"
   ]
  },
  {
   "cell_type": "code",
   "execution_count": 160,
   "id": "fbd84bff",
   "metadata": {},
   "outputs": [],
   "source": [
    "d1 = {\n",
    "    'name':'Ehtisham Sadiq', \n",
    "    'age':22, \n",
    "}\n",
    "\n",
    "d2 = {\n",
    "    'address':'Pak Villas', \n",
    "    'marks':[60, 75, 80],\n",
    "    'age':21\n",
    "}"
   ]
  },
  {
   "cell_type": "code",
   "execution_count": 161,
   "id": "21a4621f",
   "metadata": {},
   "outputs": [
    {
     "data": {
      "text/plain": [
       "{'name': 'Ehtisham Sadiq',\n",
       " 'age': 21,\n",
       " 'address': 'Pak Villas',\n",
       " 'marks': [60, 75, 80]}"
      ]
     },
     "execution_count": 161,
     "metadata": {},
     "output_type": "execute_result"
    }
   ],
   "source": [
    "d1.update(d2)\n",
    "d1"
   ]
  },
  {
   "cell_type": "markdown",
   "id": "77a3ec17",
   "metadata": {},
   "source": [
    "## 5. Removing Elements from a Dictionary"
   ]
  },
  {
   "cell_type": "markdown",
   "id": "bee8de58",
   "metadata": {},
   "source": [
    "### a. Removing Element using `[]` operator\n",
    "- To delete a dictionary element use the `del d1[key]` \n",
    "- To delete an entire dictionary from memory use `del d1` "
   ]
  },
  {
   "cell_type": "code",
   "execution_count": 162,
   "id": "17874e8f",
   "metadata": {},
   "outputs": [
    {
     "data": {
      "text/plain": [
       "{'name': 'Ali', 'age': 22, 'address': 'Pak Villas', 'marks': [60, 75, 80]}"
      ]
     },
     "execution_count": 162,
     "metadata": {},
     "output_type": "execute_result"
    }
   ],
   "source": [
    "d1 = {\n",
    "    'name':'Ali', \n",
    "    'age':22, \n",
    "    'address':'Pak Villas', \n",
    "    'marks':[60, 75, 80]\n",
    "}\n",
    "d1"
   ]
  },
  {
   "cell_type": "code",
   "execution_count": 163,
   "id": "d581d04d",
   "metadata": {},
   "outputs": [
    {
     "data": {
      "text/plain": [
       "{'name': 'Ali', 'address': 'Pak Villas', 'marks': [60, 75, 80]}"
      ]
     },
     "execution_count": 163,
     "metadata": {},
     "output_type": "execute_result"
    }
   ],
   "source": [
    "del d1['age']\n",
    "d1"
   ]
  },
  {
   "cell_type": "code",
   "execution_count": 164,
   "id": "96f35fe3",
   "metadata": {},
   "outputs": [
    {
     "ename": "NameError",
     "evalue": "name 'd1' is not defined",
     "output_type": "error",
     "traceback": [
      "\u001b[1;31m---------------------------------------------------------------------------\u001b[0m",
      "\u001b[1;31mNameError\u001b[0m                                 Traceback (most recent call last)",
      "\u001b[1;32m<ipython-input-164-6da7a59247ca>\u001b[0m in \u001b[0;36m<module>\u001b[1;34m\u001b[0m\n\u001b[0;32m      1\u001b[0m \u001b[1;31m#this will delete the whole directory\u001b[0m\u001b[1;33m\u001b[0m\u001b[1;33m\u001b[0m\u001b[1;33m\u001b[0m\u001b[0m\n\u001b[0;32m      2\u001b[0m \u001b[1;32mdel\u001b[0m \u001b[0md1\u001b[0m\u001b[1;33m\u001b[0m\u001b[1;33m\u001b[0m\u001b[0m\n\u001b[1;32m----> 3\u001b[1;33m \u001b[0mprint\u001b[0m\u001b[1;33m(\u001b[0m\u001b[0md1\u001b[0m\u001b[1;33m)\u001b[0m  \u001b[1;31m# will generate an error now\u001b[0m\u001b[1;33m\u001b[0m\u001b[1;33m\u001b[0m\u001b[0m\n\u001b[0m",
      "\u001b[1;31mNameError\u001b[0m: name 'd1' is not defined"
     ]
    }
   ],
   "source": [
    "#this will delete the whole directory\n",
    "del d1\n",
    "print(d1)  # will generate an error now"
   ]
  },
  {
   "cell_type": "markdown",
   "id": "689320ac",
   "metadata": {},
   "source": [
    "### b. Removing Element using `d1.popitem()` Method\n",
    "- The `d1.popitem()` removes and returns a (key,value) pair as a 2-tuple\n",
    "- Pairs are returned in LIFO order, i.e., last inserted element is returned\n",
    "- Raises KeyError if the dict is empty"
   ]
  },
  {
   "cell_type": "code",
   "execution_count": 166,
   "id": "5be61226",
   "metadata": {},
   "outputs": [
    {
     "data": {
      "text/plain": [
       "{'name': 'Ehtisham', 'age': 21, 'address': 'Pak Villas', 'marks': [60, 75, 80]}"
      ]
     },
     "execution_count": 166,
     "metadata": {},
     "output_type": "execute_result"
    }
   ],
   "source": [
    "d1 = {\n",
    "    'name':'Ehtisham', \n",
    "    'age':21, \n",
    "    'address':'Pak Villas', \n",
    "    'marks':[60, 75, 80]\n",
    "}\n",
    "d1"
   ]
  },
  {
   "cell_type": "code",
   "execution_count": null,
   "id": "ultimate-iraqi",
   "metadata": {},
   "outputs": [],
   "source": []
  },
  {
   "cell_type": "code",
   "execution_count": 167,
   "id": "0c4776fe",
   "metadata": {},
   "outputs": [
    {
     "data": {
      "text/plain": [
       "('marks', [60, 75, 80])"
      ]
     },
     "execution_count": 167,
     "metadata": {},
     "output_type": "execute_result"
    }
   ],
   "source": [
    "d1.popitem()"
   ]
  },
  {
   "cell_type": "code",
   "execution_count": 168,
   "id": "coastal-location",
   "metadata": {},
   "outputs": [
    {
     "data": {
      "text/plain": [
       "{'name': 'Ehtisham', 'age': 21, 'address': 'Pak Villas'}"
      ]
     },
     "execution_count": 168,
     "metadata": {},
     "output_type": "execute_result"
    }
   ],
   "source": [
    "d1"
   ]
  },
  {
   "cell_type": "code",
   "execution_count": null,
   "id": "reduced-mortgage",
   "metadata": {},
   "outputs": [],
   "source": []
  },
  {
   "cell_type": "code",
   "execution_count": 169,
   "id": "aba9d471",
   "metadata": {},
   "outputs": [
    {
     "data": {
      "text/plain": [
       "('address', 'Pak Villas')"
      ]
     },
     "execution_count": 169,
     "metadata": {},
     "output_type": "execute_result"
    }
   ],
   "source": [
    "d1.popitem()"
   ]
  },
  {
   "cell_type": "code",
   "execution_count": 170,
   "id": "c089f60f",
   "metadata": {},
   "outputs": [
    {
     "data": {
      "text/plain": [
       "{'name': 'Ehtisham', 'age': 21}"
      ]
     },
     "execution_count": 170,
     "metadata": {},
     "output_type": "execute_result"
    }
   ],
   "source": [
    "d1"
   ]
  },
  {
   "cell_type": "code",
   "execution_count": 171,
   "id": "rolled-lawyer",
   "metadata": {},
   "outputs": [
    {
     "data": {
      "text/plain": [
       "('age', 21)"
      ]
     },
     "execution_count": 171,
     "metadata": {},
     "output_type": "execute_result"
    }
   ],
   "source": [
    "d1.popitem()"
   ]
  },
  {
   "cell_type": "code",
   "execution_count": null,
   "id": "historical-mozambique",
   "metadata": {},
   "outputs": [],
   "source": []
  },
  {
   "cell_type": "markdown",
   "id": "a67d9031",
   "metadata": {},
   "source": [
    "### c. Removing Element using `d1.pop(key)` Method\n",
    "- The `d1.pop(key)` returns the value only of the key passed as its required argument\n",
    "- Moreover, the corresponding key-value pair is also removed from the dictionary\n",
    "- If key is not found a KeyError is raised"
   ]
  },
  {
   "cell_type": "code",
   "execution_count": 176,
   "id": "2463a560",
   "metadata": {},
   "outputs": [
    {
     "data": {
      "text/plain": [
       "{'name': 'Ehtisham', 'age': 21, 'address': 'Pak Villas', 'marks': [60, 75, 80]}"
      ]
     },
     "execution_count": 176,
     "metadata": {},
     "output_type": "execute_result"
    }
   ],
   "source": [
    "d1 = {\n",
    "    'name':'Ehtisham', \n",
    "    'age':21, \n",
    "    'address':'Pak Villas', \n",
    "    'marks':[60, 75, 80]\n",
    "}\n",
    "d1"
   ]
  },
  {
   "cell_type": "code",
   "execution_count": 177,
   "id": "803ccb1b",
   "metadata": {},
   "outputs": [
    {
     "data": {
      "text/plain": [
       "'Ehtisham'"
      ]
     },
     "execution_count": 177,
     "metadata": {},
     "output_type": "execute_result"
    }
   ],
   "source": [
    "d1.pop('name')"
   ]
  },
  {
   "cell_type": "code",
   "execution_count": 178,
   "id": "1acdedb0",
   "metadata": {},
   "outputs": [
    {
     "data": {
      "text/plain": [
       "{'age': 21, 'address': 'Pak Villas', 'marks': [60, 75, 80]}"
      ]
     },
     "execution_count": 178,
     "metadata": {},
     "output_type": "execute_result"
    }
   ],
   "source": [
    "d1"
   ]
  },
  {
   "cell_type": "code",
   "execution_count": 179,
   "id": "9c8bf117",
   "metadata": {},
   "outputs": [
    {
     "ename": "KeyError",
     "evalue": "'nokey'",
     "output_type": "error",
     "traceback": [
      "\u001b[1;31m---------------------------------------------------------------------------\u001b[0m",
      "\u001b[1;31mKeyError\u001b[0m                                  Traceback (most recent call last)",
      "\u001b[1;32m<ipython-input-179-0cd23e0dea0a>\u001b[0m in \u001b[0;36m<module>\u001b[1;34m\u001b[0m\n\u001b[1;32m----> 1\u001b[1;33m \u001b[0md1\u001b[0m\u001b[1;33m.\u001b[0m\u001b[0mpop\u001b[0m\u001b[1;33m(\u001b[0m\u001b[1;34m'nokey'\u001b[0m\u001b[1;33m)\u001b[0m \u001b[1;31m#This will raise an error\u001b[0m\u001b[1;33m\u001b[0m\u001b[1;33m\u001b[0m\u001b[0m\n\u001b[0m",
      "\u001b[1;31mKeyError\u001b[0m: 'nokey'"
     ]
    }
   ],
   "source": [
    "# d1.pop('nok?ey') #This will raise an error"
   ]
  },
  {
   "cell_type": "markdown",
   "id": "f54b5f0b",
   "metadata": {},
   "source": [
    "### d. Removing Element using `d1.clear()` Method\n",
    "- The `d1.clear()` removes all items from the dictionary and returns None"
   ]
  },
  {
   "cell_type": "code",
   "execution_count": 180,
   "id": "52892e03",
   "metadata": {},
   "outputs": [
    {
     "data": {
      "text/plain": [
       "{'name': 'Ehtisham', 'age': 21, 'address': 'Pak Villas', 'marks': [60, 75, 80]}"
      ]
     },
     "execution_count": 180,
     "metadata": {},
     "output_type": "execute_result"
    }
   ],
   "source": [
    "d1 = {\n",
    "    'name':'Ehtisham', \n",
    "    'age':21, \n",
    "    'address':'Pak Villas', \n",
    "    'marks':[60, 75, 80]\n",
    "}\n",
    "d1"
   ]
  },
  {
   "cell_type": "code",
   "execution_count": 181,
   "id": "a3781586",
   "metadata": {},
   "outputs": [],
   "source": [
    "d1.clear()"
   ]
  },
  {
   "cell_type": "code",
   "execution_count": 182,
   "id": "c2651f02",
   "metadata": {},
   "outputs": [
    {
     "data": {
      "text/plain": [
       "{}"
      ]
     },
     "execution_count": 182,
     "metadata": {},
     "output_type": "execute_result"
    }
   ],
   "source": [
    "d1"
   ]
  },
  {
   "cell_type": "markdown",
   "id": "0f4dd1c2",
   "metadata": {},
   "source": [
    "## 6. Dictionary, Tuple and List conversions"
   ]
  },
  {
   "cell_type": "code",
   "execution_count": 55,
   "id": "24e78729",
   "metadata": {},
   "outputs": [
    {
     "data": {
      "text/plain": [
       "{'Name': 'Ehtisham',\n",
       " 'Sex': 'Male',\n",
       " 'Age': 21,\n",
       " 'Height': 5.7,\n",
       " 'Occupation': 'Student'}"
      ]
     },
     "execution_count": 55,
     "metadata": {},
     "output_type": "execute_result"
    }
   ],
   "source": [
    "# Create a simple dictionary for these operations\n",
    "d1 = {\n",
    "    'Name': 'Ehtisham', \n",
    "    'Sex': 'Male', \n",
    "    'Age': 21, \n",
    "    'Height': 5.7, \n",
    "    'Occupation': 'Student'\n",
    "}\n",
    "d1"
   ]
  },
  {
   "cell_type": "code",
   "execution_count": 56,
   "id": "5f5ac187",
   "metadata": {},
   "outputs": [
    {
     "name": "stdout",
     "output_type": "stream",
     "text": [
      "dict_items([('Name', 'Ehtisham'), ('Sex', 'Male'), ('Age', 21), ('Height', 5.7), ('Occupation', 'Student')])\n",
      "\n",
      " <class 'dict_items'>\n"
     ]
    }
   ],
   "source": [
    "# The items() method, returns an object of dict_items containing two value tuples\n",
    "rv = d1.items()\n",
    "print(rv)\n",
    "print(\"\\n\", type(rv))"
   ]
  },
  {
   "cell_type": "code",
   "execution_count": 57,
   "id": "26e3bf6b",
   "metadata": {},
   "outputs": [
    {
     "name": "stdout",
     "output_type": "stream",
     "text": [
      "(('Name', 'Ehtisham'), ('Sex', 'Male'), ('Age', 21), ('Height', 5.7), ('Occupation', 'Student'))\n",
      "\n",
      " <class 'tuple'>\n"
     ]
    }
   ],
   "source": [
    "# You can convert dictionary key-value pairs into a tuple containing two valued tuples\n",
    "t1 = tuple(d1.items())\n",
    "print(t1)\n",
    "print(\"\\n\", type(t1))"
   ]
  },
  {
   "cell_type": "code",
   "execution_count": 58,
   "id": "6908b650",
   "metadata": {},
   "outputs": [
    {
     "name": "stdout",
     "output_type": "stream",
     "text": [
      "('Name', 'Sex', 'Age', 'Height', 'Occupation')\n",
      "\n",
      " <class 'tuple'>\n"
     ]
    }
   ],
   "source": [
    "#converting dictionary keys only into a tuple\n",
    "t1 = tuple(d1.keys())\n",
    "print(t1)\n",
    "print(\"\\n\", type(t1))"
   ]
  },
  {
   "cell_type": "code",
   "execution_count": 59,
   "id": "a040924f",
   "metadata": {},
   "outputs": [
    {
     "name": "stdout",
     "output_type": "stream",
     "text": [
      "\n",
      " ['Ehtisham', 'Male', 21, 5.7, 'Student']\n",
      "<class 'list'>\n"
     ]
    }
   ],
   "source": [
    "#converting dictionary values only into a list\n",
    "mylist = list(d1.values())\n",
    "print(\"\\n\", mylist)\n",
    "print(type(mylist))"
   ]
  },
  {
   "cell_type": "markdown",
   "id": "af8f68ac",
   "metadata": {},
   "source": [
    "## 7. Sorting a Dictionary by Values\n",
    "- We can use the built-in function `sorted(iterable)` to get a sorted copy of a dictionary (by value). \n",
    "- The `sorted(iterable)` returns a sorted version of the iterable, without making any change to the iterable. \n",
    "- It's syntax is quite similar to `list.sort()` method, however, the iterator to be sorted needs to be passed as a required parameteras shown below:\n",
    "```\n",
    "    sorted(iterable, key=None, reverse=False)\n",
    "```\n",
    "- By default the `reverse` argument is `False`, you override the default behavior by passing a `True` value to this argument to perform a descending sort\n",
    "- A custom key function can also be supplied to customize the sort order."
   ]
  },
  {
   "cell_type": "markdown",
   "id": "81562a11",
   "metadata": {},
   "source": [
    "**Consider the following dictionary having `names` as keys and `marks` as values**"
   ]
  },
  {
   "cell_type": "code",
   "execution_count": 195,
   "id": "0a29a9b7",
   "metadata": {},
   "outputs": [
    {
     "data": {
      "text/plain": [
       "{'Ehtisham': 81, 'Ayesha': 90, 'Ali': 76, 'Dua': 73, 'Adeen': 93}"
      ]
     },
     "execution_count": 195,
     "metadata": {},
     "output_type": "execute_result"
    }
   ],
   "source": [
    "dict1 = {\n",
    "        'Ehtisham': 81, \n",
    "         'Ayesha':90, \n",
    "        'Ali':76, \n",
    "        'Dua':73,\n",
    "         'Adeen':93, \n",
    "        }\n",
    "dict1"
   ]
  },
  {
   "cell_type": "code",
   "execution_count": 191,
   "id": "37a29315",
   "metadata": {},
   "outputs": [
    {
     "data": {
      "text/plain": [
       "['Ehtisham', 'Dua', 'Ayesha', 'Ali', 'Adeen']"
      ]
     },
     "execution_count": 191,
     "metadata": {},
     "output_type": "execute_result"
    }
   ],
   "source": [
    "sorted(dict1, reverse=True)"
   ]
  },
  {
   "cell_type": "code",
   "execution_count": 196,
   "id": "509de2b8",
   "metadata": {},
   "outputs": [
    {
     "data": {
      "text/plain": [
       "['Adeen', 'Ali', 'Ayesha', 'Dua', 'Ehtisham']"
      ]
     },
     "execution_count": 196,
     "metadata": {},
     "output_type": "execute_result"
    }
   ],
   "source": [
    "sorted(dict1)"
   ]
  },
  {
   "cell_type": "markdown",
   "id": "ec112673",
   "metadata": {},
   "source": [
    "**When you pass a dictionary object to the `sorted()` function, it will return the list of sorted dictionary keys**"
   ]
  },
  {
   "cell_type": "code",
   "execution_count": 63,
   "id": "342246d7",
   "metadata": {},
   "outputs": [
    {
     "data": {
      "text/plain": [
       "['Adeen', 'Ali', 'Ayesha', 'Dua', 'Ehtisham']"
      ]
     },
     "execution_count": 63,
     "metadata": {},
     "output_type": "execute_result"
    }
   ],
   "source": [
    "d2 = sorted(dict1)\n",
    "d2"
   ]
  },
  {
   "cell_type": "markdown",
   "id": "1bad6321",
   "metadata": {},
   "source": [
    "**You can pass the keys only to the `sorted()` function, to do the above task**"
   ]
  },
  {
   "cell_type": "code",
   "execution_count": 193,
   "id": "homeless-catering",
   "metadata": {},
   "outputs": [
    {
     "data": {
      "text/plain": [
       "dict_keys(['Ehtisham', 'Ayesha', 'Ali', 'Dua', 'Adeen'])"
      ]
     },
     "execution_count": 193,
     "metadata": {},
     "output_type": "execute_result"
    }
   ],
   "source": [
    "dict1.keys()"
   ]
  },
  {
   "cell_type": "code",
   "execution_count": 64,
   "id": "66df17d9",
   "metadata": {},
   "outputs": [
    {
     "data": {
      "text/plain": [
       "['Adeen', 'Ali', 'Ayesha', 'Dua', 'Ehtisham']"
      ]
     },
     "execution_count": 64,
     "metadata": {},
     "output_type": "execute_result"
    }
   ],
   "source": [
    "d2 = sorted(dict1.keys())\n",
    "d2"
   ]
  },
  {
   "cell_type": "markdown",
   "id": "30acac88",
   "metadata": {},
   "source": [
    "**Similarly you can pass the values only to the `sorted()` function, and it will return the list of sorted values**"
   ]
  },
  {
   "cell_type": "code",
   "execution_count": 194,
   "id": "second-boring",
   "metadata": {},
   "outputs": [
    {
     "data": {
      "text/plain": [
       "dict_values([81, 90, 76, 73, 93])"
      ]
     },
     "execution_count": 194,
     "metadata": {},
     "output_type": "execute_result"
    }
   ],
   "source": [
    "dict1.values()"
   ]
  },
  {
   "cell_type": "code",
   "execution_count": 65,
   "id": "ae007f27",
   "metadata": {},
   "outputs": [
    {
     "data": {
      "text/plain": [
       "[73, 76, 81, 90, 93]"
      ]
     },
     "execution_count": 65,
     "metadata": {},
     "output_type": "execute_result"
    }
   ],
   "source": [
    "d2 = sorted(dict1.values())\n",
    "d2"
   ]
  },
  {
   "cell_type": "markdown",
   "id": "295bbb71",
   "metadata": {},
   "source": [
    "**Let us do customized sorting with Python Dictionaries**"
   ]
  },
  {
   "cell_type": "markdown",
   "id": "53bf33d8",
   "metadata": {},
   "source": [
    "**Example 1: Suppose we have a dictionary containing student names along with their marks and we want to sort the dictionary by highest marks of the students first**"
   ]
  },
  {
   "cell_type": "code",
   "execution_count": 2,
   "id": "89b0a8ab",
   "metadata": {},
   "outputs": [
    {
     "data": {
      "text/plain": [
       "dict_items([('Ehtisham', 81), ('Ayesha', 90), ('Ali', 76), ('Dua', 73), ('Adeen', 93)])"
      ]
     },
     "execution_count": 2,
     "metadata": {},
     "output_type": "execute_result"
    }
   ],
   "source": [
    "dict1 = {'Ehtisham': 81, \n",
    "         'Ayesha':90, \n",
    "        'Ali':76, \n",
    "        'Dua':73,\n",
    "         'Adeen':93, \n",
    "        }\n",
    "ls = dict1.items()\n",
    "ls"
   ]
  },
  {
   "cell_type": "code",
   "execution_count": 198,
   "id": "electronic-marble",
   "metadata": {},
   "outputs": [
    {
     "name": "stdout",
     "output_type": "stream",
     "text": [
      "('Ehtisham', 81)\n",
      "('Ayesha', 90)\n",
      "('Ali', 76)\n",
      "('Dua', 73)\n",
      "('Adeen', 93)\n"
     ]
    }
   ],
   "source": [
    "for i in ls:\n",
    "    print(i)"
   ]
  },
  {
   "cell_type": "code",
   "execution_count": 199,
   "id": "77b05206",
   "metadata": {},
   "outputs": [
    {
     "name": "stdout",
     "output_type": "stream",
     "text": [
      "81\n",
      "90\n",
      "76\n",
      "73\n",
      "93\n"
     ]
    }
   ],
   "source": [
    "for i in ls:\n",
    "    print(i[1])"
   ]
  },
  {
   "cell_type": "code",
   "execution_count": 203,
   "id": "technical-finnish",
   "metadata": {},
   "outputs": [
    {
     "name": "stdout",
     "output_type": "stream",
     "text": [
      "Help on built-in function sorted in module builtins:\n",
      "\n",
      "sorted(iterable, /, *, key=None, reverse=False)\n",
      "    Return a new list containing all items from the iterable in ascending order.\n",
      "    \n",
      "    A custom key function can be supplied to customize the sort order, and the\n",
      "    reverse flag can be set to request the result in descending order.\n",
      "\n"
     ]
    }
   ],
   "source": [
    "help(sorted)"
   ]
  },
  {
   "cell_type": "code",
   "execution_count": 3,
   "id": "republican-fetish",
   "metadata": {
    "scrolled": true
   },
   "outputs": [
    {
     "name": "stdout",
     "output_type": "stream",
     "text": [
      "('Ehtisham', 81)\n",
      "('Ayesha', 90)\n",
      "('Ali', 76)\n",
      "('Dua', 73)\n",
      "('Adeen', 93)\n"
     ]
    }
   ],
   "source": [
    "# dict1.items()\n",
    "for m in dict1.items():\n",
    "    print(m)"
   ]
  },
  {
   "cell_type": "code",
   "execution_count": 4,
   "id": "a0e128a4",
   "metadata": {},
   "outputs": [
    {
     "name": "stdout",
     "output_type": "stream",
     "text": [
      "[('Adeen', 93), ('Ayesha', 90), ('Ehtisham', 81), ('Ali', 76), ('Dua', 73)]\n"
     ]
    }
   ],
   "source": [
    "# Function receives a key:value tuple (key, value) and returns the value\n",
    "def func1(item):\n",
    "    return item[1]\n",
    "\n",
    "\n",
    "mylist = sorted(dict1.items(), key = func1, reverse=True)\n",
    "\n",
    "print(mylist)\n"
   ]
  },
  {
   "cell_type": "markdown",
   "id": "ff2fc3e3",
   "metadata": {},
   "source": [
    "Note the `sorted()` function returned a list object in which each element is a two valued tuple having (key,value) pairs. You can always typecast such lists to a dictionary object"
   ]
  },
  {
   "cell_type": "code",
   "execution_count": 201,
   "id": "5eb1c717",
   "metadata": {},
   "outputs": [
    {
     "data": {
      "text/plain": [
       "{'Adeen': 93, 'Ayesha': 90, 'Ehtisham': 81, 'Ali': 76, 'Dua': 73}"
      ]
     },
     "execution_count": 201,
     "metadata": {},
     "output_type": "execute_result"
    }
   ],
   "source": [
    "sorted_dict = dict(mylist)\n",
    "sorted_dict"
   ]
  },
  {
   "cell_type": "code",
   "execution_count": 202,
   "id": "1bc663ac",
   "metadata": {},
   "outputs": [
    {
     "data": {
      "text/plain": [
       "dict"
      ]
     },
     "execution_count": 202,
     "metadata": {},
     "output_type": "execute_result"
    }
   ],
   "source": [
    "type(sorted_dict)"
   ]
  },
  {
   "cell_type": "code",
   "execution_count": null,
   "id": "ec95e260",
   "metadata": {},
   "outputs": [],
   "source": []
  },
  {
   "cell_type": "markdown",
   "id": "6a575f97",
   "metadata": {},
   "source": [
    "**Example 2: Suppose we have a JSON array containing name, age and grades of students. We want to sort it by the age of the students.**\n",
    "- JSON stands for JavaScript Object Notation\n",
    "- JSON is a text format for storing and transporting data\n",
    "- A JSON string has comma separated `key:value` pairs"
   ]
  },
  {
   "cell_type": "code",
   "execution_count": 13,
   "id": "25db9c4a",
   "metadata": {},
   "outputs": [
    {
     "data": {
      "text/plain": [
       "[{'name': 'Ehtisham', 'age': 21, 'grade': 'B'},\n",
       " {'name': 'Ali', 'age': 18, 'grade': 'A'},\n",
       " {'name': 'Ayesha', 'age': 20, 'grade': 'C'},\n",
       " {'name': 'Dua', 'age': 17, 'grade': 'D'},\n",
       " {'name': 'Adeen', 'age': 19, 'grade': 'A'},\n",
       " {'name': 'Khubaib', 'age': 17, 'grade': 'B'}]"
      ]
     },
     "execution_count": 13,
     "metadata": {},
     "output_type": "execute_result"
    }
   ],
   "source": [
    "# The following JSON array defines a student object with 3 properties: `name`, `age`, and `grade`\n",
    "# It is actually a list containing dictionary objects each object containing three key:value pairs\n",
    "students = [\n",
    "         {\"name\": \"Ehtisham\", \"age\": 21, \"grade\": \"B\"},\n",
    "         {\"name\": \"Ali\", \"age\": 18, \"grade\": \"A\"},\n",
    "         {\"name\": \"Ayesha\", \"age\": 20, \"grade\": \"C\"},\n",
    "         {\"name\": \"Dua\", \"age\": 17, \"grade\": \"D\"},\n",
    "         {\"name\": \"Adeen\", \"age\": 19, \"grade\": \"A\"},\n",
    "         {\"name\": \"Khubaib\", \"age\": 17, \"grade\": \"B\"}\n",
    "        ]\n",
    "students"
   ]
  },
  {
   "cell_type": "code",
   "execution_count": 15,
   "id": "de97a063",
   "metadata": {},
   "outputs": [],
   "source": [
    "# sorted(students)"
   ]
  },
  {
   "cell_type": "code",
   "execution_count": 7,
   "id": "593b1bca",
   "metadata": {},
   "outputs": [
    {
     "name": "stdout",
     "output_type": "stream",
     "text": [
      "21\n",
      "18\n",
      "20\n",
      "17\n",
      "19\n",
      "17\n"
     ]
    }
   ],
   "source": [
    "for i in students:\n",
    "    print(i.get('age'))"
   ]
  },
  {
   "cell_type": "code",
   "execution_count": 9,
   "id": "b5f46b71",
   "metadata": {},
   "outputs": [
    {
     "data": {
      "text/plain": [
       "[{'name': 'Ehtisham', 'age': 21, 'grade': 'B'},\n",
       " {'name': 'Ayesha', 'age': 20, 'grade': 'C'},\n",
       " {'name': 'Adeen', 'age': 19, 'grade': 'A'},\n",
       " {'name': 'Ali', 'age': 18, 'grade': 'A'},\n",
       " {'name': 'Dua', 'age': 17, 'grade': 'D'},\n",
       " {'name': 'Khubaib', 'age': 17, 'grade': 'B'}]"
      ]
     },
     "execution_count": 9,
     "metadata": {},
     "output_type": "execute_result"
    }
   ],
   "source": [
    "# Function receives a dictionary object and returns the value corresponding to key age in that dictionary\n",
    "def func2(item):\n",
    "     return item.get('age') #return item['age']\n",
    "\n",
    "sorted_students = sorted(students, key = func2, reverse=True)\n",
    "\n",
    "sorted_students"
   ]
  },
  {
   "cell_type": "code",
   "execution_count": 11,
   "id": "4f60cdc2",
   "metadata": {},
   "outputs": [],
   "source": [
    "# dict10 = dict(sorted_students)"
   ]
  },
  {
   "cell_type": "markdown",
   "id": "6e45acd9",
   "metadata": {},
   "source": [
    "Note the `sorted()` function returned a list object in which each element is a dictionary object having three key:value pairs"
   ]
  },
  {
   "cell_type": "code",
   "execution_count": null,
   "id": "73bea17b",
   "metadata": {},
   "outputs": [],
   "source": []
  },
  {
   "cell_type": "markdown",
   "id": "c0f4a519",
   "metadata": {},
   "source": [
    "## 8. Simple Assignment (aliasing) vs Shallow Copy vs Deep Copy"
   ]
  },
  {
   "cell_type": "markdown",
   "id": "4aac33b0",
   "metadata": {},
   "source": [
    "### a. Aliasing: Making an Alias of a List object using simple Assignment `=` Operator\n",
    "- In Python, we use `=` operator to create a copy/alias of an object. \n",
    "- Remember it doesnot create a new object, rather creates a new variable that shares the reference of the original object."
   ]
  },
  {
   "cell_type": "code",
   "execution_count": 1,
   "id": "17189b7d",
   "metadata": {},
   "outputs": [
    {
     "name": "stdout",
     "output_type": "stream",
     "text": [
      "{'Ehtisham': 81, 'Ayesha': 90, 'Ali': 76, 'Dua': 73, 'Adeen': 93}\n",
      "ID of dict1: 2216325819712\n",
      "ID of dict2: 2216325819712\n"
     ]
    }
   ],
   "source": [
    "dict1 = {'Ehtisham': 81, \n",
    "         'Ayesha':90, \n",
    "        'Ali':76, \n",
    "        'Dua':73,\n",
    "         'Adeen':93, \n",
    "        }\n",
    "print(dict1)\n",
    "\n",
    "dict2 = dict1\n",
    "\n",
    "# Both references point to same memory object, so have the same ID\n",
    "print('ID of dict1:', id(dict1))\n",
    "print('ID of dict2:', id(dict2))"
   ]
  },
  {
   "cell_type": "code",
   "execution_count": 2,
   "id": "7962e717",
   "metadata": {},
   "outputs": [
    {
     "name": "stdout",
     "output_type": "stream",
     "text": [
      "\n",
      "dict1: {'Ehtisham': 81, 'Ayesha': 90, 'Ali': 76, 'Dua': 73, 'Adeen': 93, 'Fizza': 100}\n",
      "dict2: {'Ehtisham': 81, 'Ayesha': 90, 'Ali': 76, 'Dua': 73, 'Adeen': 93, 'Fizza': 100}\n"
     ]
    }
   ],
   "source": [
    "# If you modify an element of one object, the change will be visible in both\n",
    "dict2[\"Fizza\"] = 100\n",
    "\n",
    "print('\\ndict1:', dict1)\n",
    "print('dict2:', dict2)\n"
   ]
  },
  {
   "cell_type": "markdown",
   "id": "ae7c3184",
   "metadata": {},
   "source": [
    "### b. Shallow Copy\n",
    "- We have used the `copy.copy()` method of copy module to create a shallow copy of List objects in our previous session\n",
    "- To create a shallow copy of a list or dictionary, we can also use `copy()` method of List and Dictionary objects."
   ]
  },
  {
   "cell_type": "code",
   "execution_count": 3,
   "id": "d09fb369",
   "metadata": {},
   "outputs": [
    {
     "name": "stdout",
     "output_type": "stream",
     "text": [
      "{'Ehtisham': 81, 'Ayesha': 90, 'Ali': 76, 'Dua': 73, 'Adeen': 93}\n",
      "ID of dict1: 2216326125696\n",
      "ID of dict2: 2216326133184\n"
     ]
    }
   ],
   "source": [
    "import copy\n",
    "dict1 = {'Ehtisham': 81, \n",
    "         'Ayesha':90, \n",
    "        'Ali':76, \n",
    "        'Dua':73,\n",
    "         'Adeen':93, \n",
    "        }\n",
    "print(dict1)\n",
    "\n",
    "#dict2 = copy.copy(dict1)\n",
    "dict2 = dict1.copy()\n",
    "\n",
    "\n",
    "# Both variables point to different memory objects, so have the different ID\n",
    "print('ID of dict1:', id(dict1))\n",
    "print('ID of dict2:', id(dict2))"
   ]
  },
  {
   "cell_type": "code",
   "execution_count": 4,
   "id": "4095a88e",
   "metadata": {},
   "outputs": [
    {
     "name": "stdout",
     "output_type": "stream",
     "text": [
      "\n",
      "dict1: {'Ehtisham': 81, 'Ayesha': 90, 'Ali': 76, 'Dua': 73, 'Adeen': 93}\n",
      "dict2: {'Ehtisham': 81, 'Ayesha': 90, 'Ali': 76, 'Dua': 73, 'Adeen': 93, 'Fizza': 100}\n"
     ]
    }
   ],
   "source": [
    "# If you modify an element of one object, the change will NOT be visible in other\n",
    "dict2[\"Fizza\"] = 100\n",
    "\n",
    "print('\\ndict1:', dict1)\n",
    "print('dict2:', dict2)\n"
   ]
  },
  {
   "cell_type": "markdown",
   "id": "5d06c019",
   "metadata": {},
   "source": [
    "**This seems woking fine, then why this is called shallow copy**"
   ]
  },
  {
   "cell_type": "markdown",
   "id": "bed7ee06",
   "metadata": {},
   "source": [
    "**Limitation of Shallow Copy**\n",
    "- The word Shallow copy comes in picture when there is some object in dictionary like list or user define objects instead of primitive datatypes.\n",
    "- The limitation of shallow copy is that it does not create a copy of nested objects, instead it just copies the reference of nested objects. This means, a copy process does not recurse or create copies of nested objects itself.\n",
    "- Let us understand this by an example"
   ]
  },
  {
   "cell_type": "code",
   "execution_count": 5,
   "id": "be8025d4",
   "metadata": {},
   "outputs": [
    {
     "name": "stdout",
     "output_type": "stream",
     "text": [
      "{'Ehtisham': 81, 'Ayesha': 90, 'Ali': [55, 66, 77], 'Dua': 73, 'Adeen': 93}\n",
      "ID of dict1: 2216325762112\n",
      "ID of dict2: 2216325760640\n"
     ]
    }
   ],
   "source": [
    "import copy\n",
    "dict1 = {'Ehtisham': 81, \n",
    "         'Ayesha':90, \n",
    "        'Ali':[55, 66, 77],  #note we have a list of marks as a dictionary value\n",
    "        'Dua':73,\n",
    "         'Adeen':93, \n",
    "        }\n",
    "print(dict1)\n",
    " \n",
    "#dict2 = copy.copy(dict1)\n",
    "dict2 = dict1.copy()\n",
    "\n",
    "\n",
    "# Both variables point to different memory objects, so have the different ID\n",
    "print('ID of dict1:', id(dict1))\n",
    "print('ID of dict2:', id(dict2))"
   ]
  },
  {
   "cell_type": "code",
   "execution_count": 7,
   "id": "44adc1ca",
   "metadata": {},
   "outputs": [
    {
     "name": "stdout",
     "output_type": "stream",
     "text": [
      "\n",
      "dict1: {'Ehtisham': 81, 'Ayesha': 90, 'Ali': [55, 0, 77], 'Dua': 73, 'Adeen': 93}\n",
      "\n",
      "dict2: {'Ehtisham': 81, 'Ayesha': 90, 'Ali': [55, 0, 77], 'Dua': 73, 'Adeen': 93}\n"
     ]
    }
   ],
   "source": [
    "# If you modify a nested element of one object, the change will be visible in both\n",
    "# This is the limitation of shallow copy\n",
    "\n",
    "dict2[\"Ali\"][1] = 0\n",
    "\n",
    "print('\\ndict1:', dict1)\n",
    "print('\\ndict2:', dict2)\n"
   ]
  },
  {
   "cell_type": "markdown",
   "id": "f24c4ad9",
   "metadata": {},
   "source": [
    "- **Marks of student 'Ali' has been changed in both :(**\n",
    "- **So in case of a dictionary having primitive datatypes, the shallow copy works fine. However, when we have nested objects inside the dictionary the shallow copy does not work**\n",
    "- **Lets solve this using deep copy**"
   ]
  },
  {
   "cell_type": "markdown",
   "id": "fbf7c5a1",
   "metadata": {},
   "source": [
    "### c. Deep Copy: Making a Copy of an Object using `copy.deepcopy()` Method\n",
    "- Deep copy creates a new object and recursively creates independent copy of original object and all its nested objects."
   ]
  },
  {
   "cell_type": "code",
   "execution_count": 8,
   "id": "5ffcd728",
   "metadata": {},
   "outputs": [
    {
     "name": "stdout",
     "output_type": "stream",
     "text": [
      "{'Ehtisham': 81, 'Ayesha': 90, 'Ali': [55, 66, 77], 'Dua': 73, 'Adeen': 93}\n",
      "ID of dict1: 2216326037888\n",
      "ID of dict2: 2216325762112\n"
     ]
    }
   ],
   "source": [
    "import copy\n",
    "\n",
    "dict1 = {'Ehtisham': 81, \n",
    "         'Ayesha':90, \n",
    "        'Ali':[55, 66, 77],  #note we have a list of marks as a dictionary value\n",
    "        'Dua':73,\n",
    "         'Adeen':93, \n",
    "        }\n",
    "print(dict1)\n",
    " \n",
    "dict2 = copy.deepcopy(dict1)\n",
    "\n",
    "# Both variables point to different memory objects, so have the different ID\n",
    "print('ID of dict1:', id(dict1))\n",
    "print('ID of dict2:', id(dict2))"
   ]
  },
  {
   "cell_type": "code",
   "execution_count": 9,
   "id": "a6d9dee9",
   "metadata": {},
   "outputs": [
    {
     "name": "stdout",
     "output_type": "stream",
     "text": [
      "\n",
      "dict1: {'Ehtisham': 81, 'Ayesha': 90, 'Ali': [55, 66, 77], 'Dua': 73, 'Adeen': 93}\n",
      "\n",
      "dict2: {'Ehtisham': 81, 'Ayesha': 90, 'Ali': [55, 0, 77], 'Dua': 73, 'Adeen': 93}\n"
     ]
    }
   ],
   "source": [
    "# If you modify a nested element of one object, the change will be visible in other\n",
    "dict2[\"Ali\"][1] = 0\n",
    "\n",
    "print('\\ndict1:', dict1)\n",
    "print('\\ndict2:', dict2)\n"
   ]
  },
  {
   "cell_type": "markdown",
   "id": "dress-hurricane",
   "metadata": {},
   "source": [
    "![](images/dict_operations.jpg)"
   ]
  },
  {
   "cell_type": "markdown",
   "id": "26a08d4c",
   "metadata": {},
   "source": [
    "# Visualize Python Code: https://pythontutor.com/"
   ]
  },
  {
   "cell_type": "markdown",
   "id": "nasty-austria",
   "metadata": {},
   "source": [
    "# Bonus Portion"
   ]
  },
  {
   "cell_type": "markdown",
   "id": "vertical-poland",
   "metadata": {},
   "source": [
    "### Dictionary is used to create DataFrame."
   ]
  },
  {
   "cell_type": "code",
   "execution_count": 18,
   "id": "technological-exhibition",
   "metadata": {},
   "outputs": [
    {
     "name": "stdout",
     "output_type": "stream",
     "text": [
      "Creating Dataframe from Dictionary\n"
     ]
    }
   ],
   "source": [
    "import pandas as pd\n",
    "# Dictionary with list object in values    \n",
    "studentData = {\n",
    "        'name' : ['Ehtisham', 'Ahmed', 'Hareem'],\n",
    "        'age' : [21, 22, 20],\n",
    "        'city' : ['Okara', 'Sargodha', 'Lahore']\n",
    "    }\n",
    "    \n",
    "print('Creating Dataframe from Dictionary')\n",
    "    \n",
    "#  Pass dictionary in Dataframe constructor to create a new object\n",
    "#  keys will be the column names and lists in values will be column data\n",
    "# pd.DataFrame()\n",
    "dfObj = pd.DataFrame(studentData) \n",
    "    # Print data frame object on console\n",
    "dfObj.to_csv('Data.csv', index=False)"
   ]
  },
  {
   "cell_type": "code",
   "execution_count": null,
   "id": "executed-induction",
   "metadata": {},
   "outputs": [],
   "source": []
  },
  {
   "cell_type": "code",
   "execution_count": 19,
   "id": "unlikely-nigeria",
   "metadata": {},
   "outputs": [
    {
     "data": {
      "text/html": [
       "<div>\n",
       "<style scoped>\n",
       "    .dataframe tbody tr th:only-of-type {\n",
       "        vertical-align: middle;\n",
       "    }\n",
       "\n",
       "    .dataframe tbody tr th {\n",
       "        vertical-align: top;\n",
       "    }\n",
       "\n",
       "    .dataframe thead th {\n",
       "        text-align: right;\n",
       "    }\n",
       "</style>\n",
       "<table border=\"1\" class=\"dataframe\">\n",
       "  <thead>\n",
       "    <tr style=\"text-align: right;\">\n",
       "      <th></th>\n",
       "      <th>0</th>\n",
       "      <th>1</th>\n",
       "      <th>2</th>\n",
       "    </tr>\n",
       "  </thead>\n",
       "  <tbody>\n",
       "    <tr>\n",
       "      <th>name</th>\n",
       "      <td>Ehtisham</td>\n",
       "      <td>Ahmed</td>\n",
       "      <td>Hareem</td>\n",
       "    </tr>\n",
       "    <tr>\n",
       "      <th>age</th>\n",
       "      <td>21</td>\n",
       "      <td>22</td>\n",
       "      <td>20</td>\n",
       "    </tr>\n",
       "    <tr>\n",
       "      <th>city</th>\n",
       "      <td>Okara</td>\n",
       "      <td>Sargodha</td>\n",
       "      <td>Lahore</td>\n",
       "    </tr>\n",
       "  </tbody>\n",
       "</table>\n",
       "</div>"
      ],
      "text/plain": [
       "             0         1       2\n",
       "name  Ehtisham     Ahmed  Hareem\n",
       "age         21        22      20\n",
       "city     Okara  Sargodha  Lahore"
      ]
     },
     "execution_count": 19,
     "metadata": {},
     "output_type": "execute_result"
    }
   ],
   "source": [
    "#    Create dataframe from nested dictionary\n",
    "studentData = { \n",
    "    0 : {\n",
    "        'name' : 'Ehtisham',\n",
    "        'age' : 21,\n",
    "        'city' : 'Okara'},\n",
    "    1 : {\n",
    "        'name' : 'Ahmed',\n",
    "        'age' : 22,\n",
    "        'city' : 'Sargodha'},\n",
    "    2 : {\n",
    "        'name' : 'Hareem',\n",
    "        'age' : 20,\n",
    "        'city' : 'Lahore'}\n",
    "    }\n",
    "    \n",
    "dfObj = pd.DataFrame(studentData) \n",
    "# Print Dataframe object on console\n",
    "dfObj\n",
    "    \n"
   ]
  },
  {
   "cell_type": "code",
   "execution_count": 20,
   "id": "valuable-modem",
   "metadata": {},
   "outputs": [
    {
     "name": "stdout",
     "output_type": "stream",
     "text": [
      "Transpose the dictionary\n"
     ]
    },
    {
     "data": {
      "text/html": [
       "<div>\n",
       "<style scoped>\n",
       "    .dataframe tbody tr th:only-of-type {\n",
       "        vertical-align: middle;\n",
       "    }\n",
       "\n",
       "    .dataframe tbody tr th {\n",
       "        vertical-align: top;\n",
       "    }\n",
       "\n",
       "    .dataframe thead th {\n",
       "        text-align: right;\n",
       "    }\n",
       "</style>\n",
       "<table border=\"1\" class=\"dataframe\">\n",
       "  <thead>\n",
       "    <tr style=\"text-align: right;\">\n",
       "      <th></th>\n",
       "      <th>name</th>\n",
       "      <th>age</th>\n",
       "      <th>city</th>\n",
       "    </tr>\n",
       "  </thead>\n",
       "  <tbody>\n",
       "    <tr>\n",
       "      <th>0</th>\n",
       "      <td>Ehtisham</td>\n",
       "      <td>21</td>\n",
       "      <td>Okara</td>\n",
       "    </tr>\n",
       "    <tr>\n",
       "      <th>1</th>\n",
       "      <td>Ahmed</td>\n",
       "      <td>22</td>\n",
       "      <td>Sargodha</td>\n",
       "    </tr>\n",
       "    <tr>\n",
       "      <th>2</th>\n",
       "      <td>Hareem</td>\n",
       "      <td>20</td>\n",
       "      <td>Lahore</td>\n",
       "    </tr>\n",
       "  </tbody>\n",
       "</table>\n",
       "</div>"
      ],
      "text/plain": [
       "       name age      city\n",
       "0  Ehtisham  21     Okara\n",
       "1     Ahmed  22  Sargodha\n",
       "2    Hareem  20    Lahore"
      ]
     },
     "execution_count": 20,
     "metadata": {},
     "output_type": "execute_result"
    }
   ],
   "source": [
    "print(\"Transpose the dictionary\")\n",
    "    \n",
    "# Transpose dataframe object\n",
    "dfObj = dfObj.transpose()\n",
    "dfObj"
   ]
  },
  {
   "cell_type": "code",
   "execution_count": null,
   "id": "talented-tennis",
   "metadata": {},
   "outputs": [],
   "source": []
  },
  {
   "cell_type": "markdown",
   "id": "055bad4f",
   "metadata": {},
   "source": [
    "## Check your Concepts\n",
    "\n",
    "Try answering the following questions to test your understanding of the topics covered in this notebook:\n",
    "\n",
    "\n",
    "1. What is a dictionary in Python?\n",
    "2. How do you create a dictionary?\n",
    "3. What are keys and values?\n",
    "4. How do you access the value associated with a specific key in a dictionary?\n",
    "5. What happens if you try to access the value for a key that doesn't exist in a dictionary?\n",
    "6. Can a dictionary have two keys with the same value? Two values with the same key?\n",
    "7. Define a dictionary that maps month name abbreviations to month names.\n",
    "8. Define a dictionary with five entries that maps student identification numbers to \n",
    "their full names.\n",
    "9. What is the `.get` method of a dictionary used for?\n",
    "10. How do you change the value associated with a key in a dictionary?\n",
    "11. How do you add or remove a key-value pair in a dictionary?\n",
    "12. How do you access the keys, values, and key-value pairs within a dictionary?\n",
    "13. Describe/Differentiate the concept of aliasing, shallow copy and deep copy using assignment statement, `dict.copy()`, `copy.copy()` and `copy.deepcopy()` methods\n",
    "14. Practice sorting dictionaries having different types of `key:value` combinations\n",
    "15. Create and initialize a dictionary that maps the English words `one` through `five` to the numbers 1 through 5.\n",
    "16. Which part of a dictionary element must be immutable?\n",
    "17. What is the difference between the dictionary methods pop and popitem?\n",
    "18.  What does the items method return?\n",
    "19.  What does the keys method return?\n",
    "20.  What does the values method return?"
   ]
  },
  {
   "cell_type": "code",
   "execution_count": null,
   "id": "efc94f4a",
   "metadata": {},
   "outputs": [],
   "source": []
  },
  {
   "cell_type": "code",
   "execution_count": null,
   "id": "waiting-richards",
   "metadata": {},
   "outputs": [],
   "source": []
  },
  {
   "cell_type": "code",
   "execution_count": null,
   "id": "senior-cosmetic",
   "metadata": {},
   "outputs": [],
   "source": []
  },
  {
   "cell_type": "code",
   "execution_count": null,
   "id": "bacterial-coach",
   "metadata": {},
   "outputs": [],
   "source": []
  },
  {
   "cell_type": "code",
   "execution_count": 30,
   "id": "variable-pulse",
   "metadata": {},
   "outputs": [],
   "source": [
    "# step 1: list consist of 20 elements \n",
    "# step 2: enter a index of an element that you want to replace\n",
    "# step 3: eneter a element you want to insert at ith index \n",
    "# step 4: print\n",
    "# list1 = [3,43,34,45,235,2,35,25]"
   ]
  },
  {
   "cell_type": "code",
   "execution_count": 2,
   "id": "rubber-phone",
   "metadata": {},
   "outputs": [],
   "source": [
    "# list1.index(43)"
   ]
  },
  {
   "cell_type": "code",
   "execution_count": 3,
   "id": "enclosed-nashville",
   "metadata": {},
   "outputs": [],
   "source": [
    "# list1[1] = 999"
   ]
  },
  {
   "cell_type": "code",
   "execution_count": 4,
   "id": "chinese-booking",
   "metadata": {},
   "outputs": [
    {
     "name": "stdout",
     "output_type": "stream",
     "text": [
      "['__class__', '__contains__', '__delattr__', '__delitem__', '__dir__', '__doc__', '__eq__', '__format__', '__ge__', '__getattribute__', '__getitem__', '__gt__', '__hash__', '__init__', '__init_subclass__', '__iter__', '__le__', '__len__', '__lt__', '__ne__', '__new__', '__reduce__', '__reduce_ex__', '__repr__', '__reversed__', '__setattr__', '__setitem__', '__sizeof__', '__str__', '__subclasshook__', 'clear', 'copy', 'fromkeys', 'get', 'items', 'keys', 'pop', 'popitem', 'setdefault', 'update', 'values']\n"
     ]
    }
   ],
   "source": [
    "print(dir(dict))"
   ]
  },
  {
   "cell_type": "code",
   "execution_count": null,
   "id": "interracial-floor",
   "metadata": {},
   "outputs": [],
   "source": []
  },
  {
   "cell_type": "code",
   "execution_count": null,
   "id": "bb24d3e3",
   "metadata": {},
   "outputs": [],
   "source": []
  }
 ],
 "metadata": {
  "kernelspec": {
   "display_name": "Python 3 (ipykernel)",
   "language": "python",
   "name": "python3"
  },
  "language_info": {
   "codemirror_mode": {
    "name": "ipython",
    "version": 3
   },
   "file_extension": ".py",
   "mimetype": "text/x-python",
   "name": "python",
   "nbconvert_exporter": "python",
   "pygments_lexer": "ipython3",
   "version": "3.8.10"
  }
 },
 "nbformat": 4,
 "nbformat_minor": 5
}
