{
 "cells": [
  {
   "cell_type": "markdown",
   "id": "arctic-crime",
   "metadata": {},
   "source": [
    "<html><head>\n",
    "\n",
    "\n",
    "<!-- Load require.js. Delete this if your page already loads require.js -->\n",
    "<script src=\"https://cdnjs.cloudflare.com/ajax/libs/require.js/2.3.4/require.min.js\" integrity=\"sha256-Ae2Vz/4ePdIu6ZyI/5ZGsYnb+m0JlOmKPjt6XZ9JJkA=\" crossorigin=\"anonymous\"></script>\n",
    "<script src=\"https://unpkg.com/@jupyter-widgets/html-manager@*/dist/embed-amd.js\" crossorigin=\"anonymous\"></script>\n",
    "<script type=\"application/vnd.jupyter.widget-state+json\">\n",
    "{\n",
    "    \"version_major\": 2,\n",
    "    \"version_minor\": 0,\n",
    "    \"state\": {}\n",
    "}\n",
    "</script>\n",
    "</head>\n",
    "<body>\n",
    "<h1 align = \"center\">Introduction to Data Analyst and Data Science for Beginners</h1>\n",
    "<br >\n",
    "<h3 align = \"center\"> Lecture # 1<h3>    \n",
    "\n",
    "</body>\n",
    "</html>\n"
   ]
  },
  {
   "cell_type": "markdown",
   "id": "broken-focus",
   "metadata": {},
   "source": [
    "# Learning Agenda of  this Notebook"
   ]
  },
  {
   "cell_type": "markdown",
   "id": "lovely-begin",
   "metadata": {},
   "source": [
    "1. A review of Jupyter notebook Interface\n",
    "2. Performing Arithmetic operations\n",
    "3. Use of comments\n",
    "4. Use of Built-in print() function\n",
    "5. Getting Help"
   ]
  },
  {
   "cell_type": "markdown",
   "id": "victorian-applicant",
   "metadata": {},
   "source": [
    "## 1. A review of the Jupyter notebook Interface\n",
    "1. **Header:**  At the top of the notebook document is the header which contains the _notebook title_, _menu bar_, and _toolbar_, which are used to control notebook navigation and document structure.\n",
    "2. **Body:** The body of a notebook is composed of cells. Each cell contains either markdown, code input, code output, or raw text.\n",
    "3. **Types of cells:**\n",
    "    - **Markdown cells** are used to build a nicely formatted narrative around the code in the document. These cells can either be rendered or unrendered. When they are rendered, a nice formatted representation of the cell's contents will be presented. When they are unrendered, the raw text source of the cell will be presented.\n",
    "    - **Code cells**  are used to define the computational code in the document. They come in two forms:\n",
    "        - **Input cell** where the user types the code to be executed, and  \n",
    "        - **output cell** which is the representation of the executed code. Depending on the code, this representation may be a simple scalar value, or something more complex like a plot or an interactive widget.\n",
    "    -**Raw cells:** These are used when text needs to be included in raw form, without execution or transformation.\n",
    "4. **Modes of a cell:**\n",
    "    - **Edit mode** is indicated by a **green** cell border and a prompt showing in the editor area. When a cell is in edit mode, you can type into the cell, like a normal text editor. Enter edit mode by pressing `Enter` or using the mouse to click on a cell's editor area.\n",
    "    - **Command mode** is indicated by a **blue** cell border. When in command mode, the structure of the notebook can be modified as a whole, but the text in individual cells cannot be changed. Most importantly, the keyboard is mapped to a set of shortcuts for efficiently performing notebook and cell actions. Enter command mode by pressing `Esc` or using the mouse to click *outside* a cell's editor area.\n",
    "\n",
    "5. **Keyboard Short cuts:** Keyboard shortcuts are a very popular aspect of the Jupyter environment because they facilitate a speedy cell-based workflow. Following shortcuts work in command mode:\n",
    "    - Press H to see the list of short cuts\n",
    "    - Shift+Enter to execute code of a code-cell and to render the contents of a markdown cell. It also shifts control to cell down. If there is none it creates one. To avoid shifting control to lower cell after you execute a cell code use <Ctrl+Enter> instead\n",
    "    - Scroll up and down your cells with your Up and Down keys.\n",
    "    - Press A or B to insert a new cell above or below the active cell.\n",
    "    - DD (D twice) will delete the active cell.\n",
    "    - L to toggle view linenumbers within a code cell\n",
    "    - Z will undo cell deletion. \n",
    "    - M will transform the active cell to a Markdown cell.\n",
    "    - Y will set the active cell to a code cell.\n",
    "    - <Command+/> to toggle between commenting and uncommenting the current LOC or highlighted LOCs\n",
    "    - Hold Shift and press Up or Down to select multiple cells at once. With multiple cells selected, Shift + M will merge your selection."
   ]
  },
  {
   "cell_type": "markdown",
   "id": "forced-technician",
   "metadata": {},
   "source": [
    "## 2. Performing Arithmetic Operations using Python\n",
    "\n",
    "Let's begin by using Python as a calculator. You can write and execute Python using a code cell within Jupyter. \n",
    "\n",
    "> **Working with cells**: To create a new cell within Jupyter, you can select \"Insert > Insert Cell Below\" from the menu bar or just press the \"+\" button on the toolbar. You can also use the keyboard shortcut `Esc+B` to create a new cell. Once a cell is created, click on it to select it. You can then change the cell type to code or markdown (text) using the \"Cell > Cell Type\" menu option. You can also use the keyboard shortcuts `Esc+Y` and `Esc+M`. Double-click a cell to edit the content within the cell. To apply your changes and run a cell, use the \"Cell > Run Cells\" menu option or click the \"Run\" button on the toolbar or just use the keyboard shortcut `Shift+Enter`. You can see a full list of keyboard shortcuts using the \"Help > Keyboard Shortcuts\" menu option.\n",
    "\n",
    "Run the code cells below to perform calculations and view their result. Try changing the numbers and run the modified cells again to see updated results."
   ]
  },
  {
   "cell_type": "markdown",
   "id": "prescription-soviet",
   "metadata": {},
   "source": [
    "Python supports the following arithmetic operators:\n",
    "\n",
    "| Operator   | Purpose           | Example     | Result    |\n",
    "|------------|-------------------|-------------|-----------|\n",
    "| `+`        | Addition          | `2 + 3`     | `5`       |\n",
    "| `-`        | Subtraction       | `3 - 2`     | `1`       |\n",
    "| `*`        | Multiplication    | `8 * 12`    | `96`      |\n",
    "| `/`        | Division          | `100 / 7`   | `14.28..` |\n",
    "| `//`       | Floor Division    | `100 // 7`  | `14`      |    \n",
    "| `%`        | Modulus/Remainder | `100 % 7`   | `2`       |\n",
    "| `**`       | Exponent          | `5 ** 3`    | `125`     |\n"
   ]
  },
  {
   "cell_type": "code",
   "execution_count": 60,
   "id": "complimentary-williams",
   "metadata": {},
   "outputs": [
    {
     "name": "stdout",
     "output_type": "stream",
     "text": [
      "14\n"
     ]
    }
   ],
   "source": [
    "print(2 + 3 + 9)"
   ]
  },
  {
   "cell_type": "code",
   "execution_count": 61,
   "id": "private-calvin",
   "metadata": {},
   "outputs": [
    {
     "name": "stdout",
     "output_type": "stream",
     "text": [
      "26\n"
     ]
    }
   ],
   "source": [
    "print(99 - 73)"
   ]
  },
  {
   "cell_type": "code",
   "execution_count": 62,
   "id": "found-pasta",
   "metadata": {},
   "outputs": [
    {
     "name": "stdout",
     "output_type": "stream",
     "text": [
      "-33709.28\n"
     ]
    }
   ],
   "source": [
    "print(23.54 * -1432)"
   ]
  },
  {
   "cell_type": "code",
   "execution_count": 63,
   "id": "encouraging-ethics",
   "metadata": {},
   "outputs": [
    {
     "name": "stdout",
     "output_type": "stream",
     "text": [
      "14.285714285714286\n"
     ]
    }
   ],
   "source": [
    "print(100 / 7)"
   ]
  },
  {
   "cell_type": "code",
   "execution_count": 64,
   "id": "controlling-onion",
   "metadata": {},
   "outputs": [
    {
     "name": "stdout",
     "output_type": "stream",
     "text": [
      "14\n"
     ]
    }
   ],
   "source": [
    "print(100 // 7)"
   ]
  },
  {
   "cell_type": "code",
   "execution_count": 65,
   "id": "exclusive-compiler",
   "metadata": {},
   "outputs": [
    {
     "name": "stdout",
     "output_type": "stream",
     "text": [
      "2\n"
     ]
    }
   ],
   "source": [
    "print(100 % 7)"
   ]
  },
  {
   "cell_type": "code",
   "execution_count": 66,
   "id": "structured-translation",
   "metadata": {},
   "outputs": [
    {
     "name": "stdout",
     "output_type": "stream",
     "text": [
      "125\n"
     ]
    }
   ],
   "source": [
    "print(5 ** 3)"
   ]
  },
  {
   "cell_type": "markdown",
   "id": "sweet-humanity",
   "metadata": {},
   "source": [
    "As you might expect, operators like `/` and `*` take precedence over other operators like `+` and `-` as per mathematical conventions. You can use parentheses, i.e. `(` and `)`, to specify the order in which operations are performed."
   ]
  },
  {
   "cell_type": "code",
   "execution_count": 67,
   "id": "extensive-tongue",
   "metadata": {},
   "outputs": [
    {
     "name": "stdout",
     "output_type": "stream",
     "text": [
      "1.53125\n"
     ]
    }
   ],
   "source": [
    "print(((2 + 5) * (17 - 3)) / (4 ** 3))"
   ]
  },
  {
   "cell_type": "markdown",
   "id": "immediate-square",
   "metadata": {},
   "source": [
    "## 3. Use of Comments\n",
    "Note that we're using the `#` character to add *comments* within our code. \n",
    "\n",
    "> **Comments**: Comments and blank lines are ignored during execution, but they are useful for providing information to humans (including yourself) about what the code does. Comments can be inline (at the end of some code), on a separate line, or even span multiple lines. \n",
    "\n",
    "Inline and single-line comments start with `#`, whereas multi-line comments begin and end with three quotes, i.e. `\"\"\"`. Here are some examples of code comments:"
   ]
  },
  {
   "cell_type": "code",
   "execution_count": 69,
   "id": "matched-effectiveness",
   "metadata": {},
   "outputs": [
    {
     "name": "stdout",
     "output_type": "stream",
     "text": [
      "10\n"
     ]
    }
   ],
   "source": [
    "# This is a single line comment\n",
    "# Keyboard shortcut to comment/un-comment some LOC(s) is <command+/>\n",
    "\n",
    "\"\"\"\n",
    "A multi-line comment starts and ends with a tripple double quotes\n",
    "A docstring is a documentation string. As a comment, this Python Syntax is used to explain code.\n",
    "But unlike comments, they are more specific. Also, they are retained at runtime.\n",
    "This way, the programmer can inspect them at runtime. Delimit a docstring using three double-quotes. \n",
    "\"\"\"\n",
    "\n",
    "'''\n",
    "A multi-line comment can also starts and ends with a tripple single quotes\n",
    "'''\n",
    "x=10  # A comment ends with newline\n",
    "print(x)"
   ]
  },
  {
   "cell_type": "markdown",
   "id": "least-submission",
   "metadata": {},
   "source": [
    "## 4. Use of Built-in `print()` Function\n",
    "- **`print`**: The `print` is a Python built-in function that is used to display information. It takes one or more inputs, which can be text (within quotes, e.g., `\"this is some text\"`), numbers, variables, mathematical expressions, etc. We'll learn more about variables the next tutorial.\n",
    "\n",
    "- Jupyter allows you to write multiple lines of code within a single code cell. However, the result of the last line of code within a cell is displayed as the output. \n",
    "\n",
    "* Python `print()` function receives variable number of comma separated values and all the comma separated elements/variables get printed on the output separated by spaces (by default)\n",
    "- To find out the arguments that you can pass to a function or method in IPython, just place the cursor inside parenthesis and hit <shift +\n",
    "    - Tab> once: Displays a brief signature with doc string\n",
    "    - Tab> twice: Displays a larger frame to display more information\n",
    "    - Tab> thrice: Displays the information for a longer duration\n",
    "    - Tab> fourth time: The information takes almost half of your screen and you can resize it for longer usage\n"
   ]
  },
  {
   "cell_type": "code",
   "execution_count": 70,
   "id": "nuclear-finger",
   "metadata": {},
   "outputs": [
    {
     "name": "stdout",
     "output_type": "stream",
     "text": [
      "Ehtisham Sadiq\n",
      "21\n"
     ]
    }
   ],
   "source": [
    "name = \"Ehtisham Sadiq\"\n",
    "age = 21\n",
    "print(name)\n",
    "print(age)"
   ]
  },
  {
   "cell_type": "code",
   "execution_count": 71,
   "id": "another-klein",
   "metadata": {},
   "outputs": [
    {
     "data": {
      "text/plain": [
       "'Hello Mr. Ehtisham Sadiq'"
      ]
     },
     "execution_count": 71,
     "metadata": {},
     "output_type": "execute_result"
    }
   ],
   "source": [
    "# You can use `+` operator to concatenage two or more strings\n",
    "'Hello Mr. ' + name"
   ]
  },
  {
   "cell_type": "markdown",
   "id": "numeric-source",
   "metadata": {},
   "source": [
    "# Check your Concepts"
   ]
  },
  {
   "cell_type": "markdown",
   "id": "precise-sugar",
   "metadata": {},
   "source": [
    "##### Try answering the following questions to test your understanding of the topics covered in this notebook:"
   ]
  },
  {
   "cell_type": "markdown",
   "id": "consistent-celebrity",
   "metadata": {},
   "source": [
    "1. What is a Jupyter notebook?\n",
    "2. How do you add a new code cell below an existing cell?\n",
    "3. How do you add a new Markdown cell below an existing cell?\n",
    "4. How do you convert a code cell to a Markdown cell or vice versa?\n",
    "5. How do you execute a code cell within Jupyter?\n",
    "6. What is Markdown? Why is it useful?\n",
    "7. How do you create headings of different sizes using Markdown?\n",
    "8. How do you create bulleted and numbered lists using Markdown?\n",
    "9. How do you create bold or italic text using Markdown?\n",
    "10. How do you include links & images within Markdown cells?\n",
    "11. How do you include code blocks within Markdown cells?\n",
    "12. Is it possible to execute the code blocks within Markdown cells?\n",
    "13. What different arithmetic operators are available in Python?"
   ]
  },
  {
   "cell_type": "markdown",
   "id": "effective-copyright",
   "metadata": {},
   "source": [
    "1. one\n",
    "2. two\n",
    "3. three"
   ]
  },
  {
   "cell_type": "markdown",
   "id": "successful-activity",
   "metadata": {},
   "source": [
    "<html><head>\n",
    "\n",
    "\n",
    "<!-- Load require.js. Delete this if your page already loads require.js -->\n",
    "<script src=\"https://cdnjs.cloudflare.com/ajax/libs/require.js/2.3.4/require.min.js\" integrity=\"sha256-Ae2Vz/4ePdIu6ZyI/5ZGsYnb+m0JlOmKPjt6XZ9JJkA=\" crossorigin=\"anonymous\"></script>\n",
    "<script src=\"https://unpkg.com/@jupyter-widgets/html-manager@*/dist/embed-amd.js\" crossorigin=\"anonymous\"></script>\n",
    "<script type=\"application/vnd.jupyter.widget-state+json\">\n",
    "{\n",
    "    \"version_major\": 2,\n",
    "    \"version_minor\": 0,\n",
    "    \"state\": {}\n",
    "}\n",
    "</script>\n",
    "</head>\n",
    "<body>\n",
    "<h2 align=\"center\" style=\"color:green\" >Variables In Python</h2>\n",
    "\n",
    "</body>\n",
    "</html>\n"
   ]
  },
  {
   "cell_type": "markdown",
   "id": "static-twist",
   "metadata": {},
   "source": [
    "## Learning agenda of this notebook\n",
    "Variables are used to store data in computer memory\n",
    "1. Python is dynamically typed\n",
    "2. Variables and variable naming conventions\n",
    "3. Assigning values to multiple variables in single line\n",
    "4. Checking type of a variable using Built-in `type()` function\n",
    "5. Checking ID of a variable using Built-in `id()` function\n",
    "6. Do we actually store data inside variables?"
   ]
  },
  {
   "cell_type": "markdown",
   "id": "going-substitute",
   "metadata": {},
   "source": [
    "## 1. You don't have to specify a data type in Python, since it is a dynamically typed language"
   ]
  },
  {
   "cell_type": "markdown",
   "id": "retired-scratch",
   "metadata": {},
   "source": [
    "> **Variables**: While working with a programming language such as Python, information is stored in *variables*. You can think of variables as containers for storing data. The data stored within a variable is called its *value*."
   ]
  },
  {
   "cell_type": "code",
   "execution_count": 76,
   "id": "forbidden-sheriff",
   "metadata": {},
   "outputs": [
    {
     "name": "stdout",
     "output_type": "stream",
     "text": [
      "Ehtisham Sadiq\n",
      "2688021370608\n",
      "<class 'str'>\n"
     ]
    }
   ],
   "source": [
    "name_of_student = \"Ehtisham Sadiq\"\n",
    "print(name)\n",
    "print(id(name_of_student))\n",
    "print(type(name_of_student))"
   ]
  },
  {
   "cell_type": "markdown",
   "id": "handy-tracy",
   "metadata": {},
   "source": [
    "## 2. Variable Naming Conventions\n",
    "- In programming languages, **identifiers** are names used to identify a variable, function, or other entities in a program. Variable names can be short (`a`, `x`, `y`, etc.) or descriptive ( `my_favorite_color`, `profit_margin`, `the_3_musketeers`, etc.). However, you must follow these rules while naming Python variables:\n",
    "    - An identifier or variable's name must start with a letter or the underscore character `_`. It cannot begin with a number.\n",
    "    - A variable name can only contain lowercase (small) or uppercase (capital) letters, digits, or underscores (`a`-`z`, `A`-`Z`, `0`-`9`, and `_`).\n",
    "    - Spaces are not allowed. Instead, we must use snake_case to make variable names readable.\n",
    "    - Variable names are case-sensitive, i.e., `a_variable`, `A_Variable`, and `A_VARIABLE` are all different variables.\n",
    "\n",
    "- Keywords are reserved words. Each keyword has a specific meaning to the Python interpreter. A reserved keyword may not be used as an identifier. Here is a list of the Python keywords.\n",
    "```\n",
    "False               class               from                or\n",
    "None                continue            global              pass\n",
    "True                def                 if                  raise\n",
    "and                 del                 import              return\n",
    "as                  elif                in                  try\n",
    "assert              else                is                  while\n",
    "async               except              lambda              with\n",
    "await               finally             nonlocal            yield\n",
    "break               for                 not                 \n",
    "```\n",
    "\n",
    "- To get help about these keywords: Type `help('keyword')` in the cell below"
   ]
  },
  {
   "cell_type": "code",
   "execution_count": 78,
   "id": "exposed-brave",
   "metadata": {},
   "outputs": [],
   "source": [
    "help(True)"
   ]
  },
  {
   "cell_type": "code",
   "execution_count": 79,
   "id": "simple-stereo",
   "metadata": {},
   "outputs": [
    {
     "name": "stdout",
     "output_type": "stream",
     "text": [
      "25\n"
     ]
    }
   ],
   "source": [
    "# True is a keyword, can't be used as variable name\n",
    "#True = 100\n",
    "# A variable name cannot start with a special character or digit\n",
    "var1 = 25\n",
    "#1var = 530\n",
    "#@i = 980\n",
    "print(var1)"
   ]
  },
  {
   "cell_type": "markdown",
   "id": "uniform-commitment",
   "metadata": {},
   "source": [
    "<h1 align=\"center\">Python Datatypes</h1>\n",
    "\n",
    "<img align=\"center\" width=\"800\" height=\"800\"  src=\"images/datatypes.png\" > \n",
    "\n",
    "\n"
   ]
  },
  {
   "cell_type": "markdown",
   "id": "approximate-testimony",
   "metadata": {},
   "source": [
    "- Python's Number data types are created by numeric literals and returned as results by arithmetic operators and arithmetic built-in functions. ALL Numeric objects are immutable; once created their value never changes.\n",
    "    - Integer\n",
    "    - Floating Point\n",
    "    - Complex\n",
    "    - Bolean\n",
    "    - **Boolean:** Also \n",
    "- A Python sequence is an ordered collection of items, where each item is indexed by an integer value. There are three types of sequence types in Python:\n",
    "    - String\n",
    "    - List\n",
    "    - Tuple\n",
    "- In Python, a Set is an unordered collection of data type that is iterable, mutable and has no duplicate elements. The order of elements in a set is undefined.\n",
    "    - Set (mutable)\n",
    "    - Frozenset (immutable)\n",
    "- Mapping is an unordered data type in Python. Currently, there is only one standard mapping data type in Python called Dictionary."
   ]
  },
  {
   "cell_type": "code",
   "execution_count": 84,
   "id": "substantial-title",
   "metadata": {},
   "outputs": [],
   "source": [
    "a = range(10)"
   ]
  },
  {
   "cell_type": "code",
   "execution_count": 85,
   "id": "organized-toolbox",
   "metadata": {},
   "outputs": [
    {
     "name": "stdout",
     "output_type": "stream",
     "text": [
      "<class 'range'>\n"
     ]
    }
   ],
   "source": [
    "print(type(a))"
   ]
  },
  {
   "cell_type": "markdown",
   "id": "sporting-injection",
   "metadata": {},
   "source": [
    "## 3. Assign Multiple values to Multiple variables in one Statement"
   ]
  },
  {
   "cell_type": "code",
   "execution_count": 87,
   "id": "ideal-showcase",
   "metadata": {},
   "outputs": [
    {
     "name": "stdout",
     "output_type": "stream",
     "text": [
      "a =  5  b =  3.2  c =  Hello\n"
     ]
    }
   ],
   "source": [
    "#Assigning multiple values to multiple variables\n",
    "a, b, c = 5, 3.2, \"Hello\"\n",
    "\n",
    "print ('a = ',a,' b = ',b,' c = ',c)"
   ]
  },
  {
   "cell_type": "markdown",
   "id": "reported-contribution",
   "metadata": {},
   "source": [
    "## 4. To Check the Type of a Variable"
   ]
  },
  {
   "cell_type": "code",
   "execution_count": 88,
   "id": "known-malpractice",
   "metadata": {},
   "outputs": [
    {
     "name": "stdout",
     "output_type": "stream",
     "text": [
      "name is of  <class 'str'>\n",
      "x is of  <class 'int'>\n",
      "y is of  <class 'float'>\n"
     ]
    }
   ],
   "source": [
    "# to check the type of variable\n",
    "name = \"Ehtisham Sadiq\"\n",
    "print(\"name is of \", type(name))\n",
    "x = 234\n",
    "print(\"x is of \", type(x))\n",
    "y = 5.321\n",
    "print(\"y is of \", type(y))"
   ]
  },
  {
   "cell_type": "markdown",
   "id": "concerned-evanescence",
   "metadata": {},
   "source": [
    "## 5. To Check the ID of a Variable\n",
    "- Every Pyton object has an associated ID (memory address). The Python built-in `id()` function returns the identity of an object"
   ]
  },
  {
   "cell_type": "code",
   "execution_count": 89,
   "id": "small-dodge",
   "metadata": {},
   "outputs": [
    {
     "data": {
      "text/plain": [
       "(140729522070480, 2688030184816)"
      ]
     },
     "execution_count": 89,
     "metadata": {},
     "output_type": "execute_result"
    }
   ],
   "source": [
    "x = 234\n",
    "y = 5.321\n",
    "id(x), id(y)"
   ]
  },
  {
   "cell_type": "markdown",
   "id": "tender-usage",
   "metadata": {},
   "source": [
    "## 6. Do we actually store data inside variables"
   ]
  },
  {
   "cell_type": "code",
   "execution_count": 90,
   "id": "functioning-finger",
   "metadata": {},
   "outputs": [
    {
     "data": {
      "text/plain": [
       "(140729522063312, 140729522063312)"
      ]
     },
     "execution_count": 90,
     "metadata": {},
     "output_type": "execute_result"
    }
   ],
   "source": [
    "a = 10\n",
    "b = 10\n",
    "id(a), id(b)"
   ]
  },
  {
   "cell_type": "markdown",
   "id": "talented-assessment",
   "metadata": {},
   "source": [
    ">- Both the variables `a` and `b` have same ID, i.e., both a and b are pointing to same memory location.\n",
    ">- Variables in Python are not actual objects, rather are references to objects that are present in memory. \n",
    ">- So both the variables a and b are refering to same object 10 in memory and thus having the same ID."
   ]
  },
  {
   "cell_type": "code",
   "execution_count": 92,
   "id": "plain-clarity",
   "metadata": {},
   "outputs": [
    {
     "name": "stdout",
     "output_type": "stream",
     "text": [
      "2688018755376\n"
     ]
    }
   ],
   "source": [
    "var1 = \"Data Science\"\n",
    "print(id(var1))"
   ]
  },
  {
   "cell_type": "code",
   "execution_count": 93,
   "id": "critical-investment",
   "metadata": {},
   "outputs": [
    {
     "name": "stdout",
     "output_type": "stream",
     "text": [
      "2688018300208\n"
     ]
    }
   ],
   "source": [
    "var1 = \"Ehtisham Sadiq\"\n",
    "print(id(var1))"
   ]
  },
  {
   "cell_type": "markdown",
   "id": "casual-campus",
   "metadata": {},
   "source": [
    ">Note that the string object \"Data Science\" has become an orphaned object, as no variable is refering to it now. This is because the reference `var1` is now pointing/referring to a new object \"Ehtisham Sadiq\". All orphan objects are reaped by Python garbage collector."
   ]
  },
  {
   "cell_type": "markdown",
   "id": "subject-passing",
   "metadata": {},
   "source": [
    "## 7. Use of `dir()`, and `del` Keyword\n",
    "- The built-in `dir()` function, when called without an argument, return the names in the current scope.\n",
    "- If passed a \n",
    "    - object name: \n",
    "    - module name: then returns the module's attributes\n",
    "    - class name: then returns its attributes and recursively the attributes of its base classes\n",
    "    - object name: then returns its attributes, its class's attributes, and recursively the attributes of its class's base classes."
   ]
  },
  {
   "cell_type": "code",
   "execution_count": 95,
   "id": "breeding-romance",
   "metadata": {},
   "outputs": [
    {
     "name": "stdout",
     "output_type": "stream",
     "text": [
      "['In', 'Name', 'Number1', 'Number2', 'Number3', 'Out', '_', '_17', '_18', '_21', '_40', '_41', '_42', '_43', '_44', '_47', '_5', '_57', '_6', '_71', '_89', '_90', '_91', '_94', '__', '___', '__builtin__', '__builtins__', '__doc__', '__loader__', '__name__', '__package__', '__spec__', '_ame', '_dh', '_i', '_i1', '_i10', '_i11', '_i12', '_i13', '_i14', '_i15', '_i16', '_i17', '_i18', '_i19', '_i2', '_i20', '_i21', '_i22', '_i23', '_i24', '_i25', '_i26', '_i27', '_i28', '_i29', '_i3', '_i30', '_i31', '_i32', '_i33', '_i34', '_i35', '_i36', '_i37', '_i38', '_i39', '_i4', '_i40', '_i41', '_i42', '_i43', '_i44', '_i45', '_i46', '_i47', '_i48', '_i49', '_i5', '_i50', '_i51', '_i52', '_i53', '_i54', '_i55', '_i56', '_i57', '_i58', '_i59', '_i6', '_i60', '_i61', '_i62', '_i63', '_i64', '_i65', '_i66', '_i67', '_i68', '_i69', '_i7', '_i70', '_i71', '_i72', '_i73', '_i74', '_i75', '_i76', '_i77', '_i78', '_i79', '_i8', '_i80', '_i81', '_i82', '_i83', '_i84', '_i85', '_i86', '_i87', '_i88', '_i89', '_i9', '_i90', '_i91', '_i92', '_i93', '_i94', '_i95', '_ih', '_ii', '_iii', '_oh', 'a', 'age', 'b', 'c', 'exit', 'get_ipython', 'i', 'name', 'name2', 'name44444', 'name8_327_636_233', 'nameTHREE', 'name_of_student', 'name_one', 'number1', 'number2', 'number3', 'quit', 'var1', 'x', 'y']\n"
     ]
    }
   ],
   "source": [
    "print(dir())"
   ]
  },
  {
   "cell_type": "code",
   "execution_count": 96,
   "id": "domestic-cisco",
   "metadata": {},
   "outputs": [
    {
     "name": "stdout",
     "output_type": "stream",
     "text": [
      "newvar= 10\n"
     ]
    }
   ],
   "source": [
    "newvar = 10\n",
    "print(\"newvar=\", newvar)"
   ]
  },
  {
   "cell_type": "code",
   "execution_count": 97,
   "id": "unlimited-cycling",
   "metadata": {},
   "outputs": [
    {
     "name": "stdout",
     "output_type": "stream",
     "text": [
      "['In', 'Name', 'Number1', 'Number2', 'Number3', 'Out', '_', '_17', '_18', '_21', '_40', '_41', '_42', '_43', '_44', '_47', '_5', '_57', '_6', '_71', '_89', '_90', '_91', '_94', '__', '___', '__builtin__', '__builtins__', '__doc__', '__loader__', '__name__', '__package__', '__spec__', '_ame', '_dh', '_i', '_i1', '_i10', '_i11', '_i12', '_i13', '_i14', '_i15', '_i16', '_i17', '_i18', '_i19', '_i2', '_i20', '_i21', '_i22', '_i23', '_i24', '_i25', '_i26', '_i27', '_i28', '_i29', '_i3', '_i30', '_i31', '_i32', '_i33', '_i34', '_i35', '_i36', '_i37', '_i38', '_i39', '_i4', '_i40', '_i41', '_i42', '_i43', '_i44', '_i45', '_i46', '_i47', '_i48', '_i49', '_i5', '_i50', '_i51', '_i52', '_i53', '_i54', '_i55', '_i56', '_i57', '_i58', '_i59', '_i6', '_i60', '_i61', '_i62', '_i63', '_i64', '_i65', '_i66', '_i67', '_i68', '_i69', '_i7', '_i70', '_i71', '_i72', '_i73', '_i74', '_i75', '_i76', '_i77', '_i78', '_i79', '_i8', '_i80', '_i81', '_i82', '_i83', '_i84', '_i85', '_i86', '_i87', '_i88', '_i89', '_i9', '_i90', '_i91', '_i92', '_i93', '_i94', '_i95', '_i96', '_i97', '_ih', '_ii', '_iii', '_oh', 'a', 'age', 'b', 'c', 'exit', 'get_ipython', 'i', 'name', 'name2', 'name44444', 'name8_327_636_233', 'nameTHREE', 'name_of_student', 'name_one', 'newvar', 'number1', 'number2', 'number3', 'quit', 'var1', 'x', 'y']\n"
     ]
    }
   ],
   "source": [
    "print(dir())"
   ]
  },
  {
   "cell_type": "code",
   "execution_count": 98,
   "id": "separated-picture",
   "metadata": {},
   "outputs": [
    {
     "name": "stdout",
     "output_type": "stream",
     "text": [
      "['In', 'Name', 'Number1', 'Number2', 'Number3', 'Out', '_', '_17', '_18', '_21', '_40', '_41', '_42', '_43', '_44', '_47', '_5', '_57', '_6', '_71', '_89', '_90', '_91', '_94', '__', '___', '__builtin__', '__builtins__', '__doc__', '__loader__', '__name__', '__package__', '__spec__', '_ame', '_dh', '_i', '_i1', '_i10', '_i11', '_i12', '_i13', '_i14', '_i15', '_i16', '_i17', '_i18', '_i19', '_i2', '_i20', '_i21', '_i22', '_i23', '_i24', '_i25', '_i26', '_i27', '_i28', '_i29', '_i3', '_i30', '_i31', '_i32', '_i33', '_i34', '_i35', '_i36', '_i37', '_i38', '_i39', '_i4', '_i40', '_i41', '_i42', '_i43', '_i44', '_i45', '_i46', '_i47', '_i48', '_i49', '_i5', '_i50', '_i51', '_i52', '_i53', '_i54', '_i55', '_i56', '_i57', '_i58', '_i59', '_i6', '_i60', '_i61', '_i62', '_i63', '_i64', '_i65', '_i66', '_i67', '_i68', '_i69', '_i7', '_i70', '_i71', '_i72', '_i73', '_i74', '_i75', '_i76', '_i77', '_i78', '_i79', '_i8', '_i80', '_i81', '_i82', '_i83', '_i84', '_i85', '_i86', '_i87', '_i88', '_i89', '_i9', '_i90', '_i91', '_i92', '_i93', '_i94', '_i95', '_i96', '_i97', '_i98', '_ih', '_ii', '_iii', '_oh', 'a', 'age', 'b', 'c', 'exit', 'get_ipython', 'i', 'name', 'name2', 'name44444', 'name8_327_636_233', 'nameTHREE', 'name_of_student', 'name_one', 'newvar', 'number1', 'number2', 'number3', 'quit', 'x', 'y']\n"
     ]
    }
   ],
   "source": [
    "del var1\n",
    "print(dir())"
   ]
  },
  {
   "cell_type": "code",
   "execution_count": 99,
   "id": "conceptual-phone",
   "metadata": {},
   "outputs": [
    {
     "ename": "NameError",
     "evalue": "name 'var1' is not defined",
     "output_type": "error",
     "traceback": [
      "\u001b[1;31m---------------------------------------------------------------------------\u001b[0m",
      "\u001b[1;31mNameError\u001b[0m                                 Traceback (most recent call last)",
      "\u001b[1;32m<ipython-input-99-b5880a42db53>\u001b[0m in \u001b[0;36m<module>\u001b[1;34m\u001b[0m\n\u001b[1;32m----> 1\u001b[1;33m \u001b[0mprint\u001b[0m\u001b[1;33m(\u001b[0m\u001b[0mvar1\u001b[0m\u001b[1;33m)\u001b[0m\u001b[1;33m\u001b[0m\u001b[1;33m\u001b[0m\u001b[0m\n\u001b[0m",
      "\u001b[1;31mNameError\u001b[0m: name 'var1' is not defined"
     ]
    }
   ],
   "source": [
    "print(var1)"
   ]
  },
  {
   "cell_type": "code",
   "execution_count": null,
   "id": "hidden-spouse",
   "metadata": {},
   "outputs": [],
   "source": [
    "What is a variable in Python?\n",
    "How do you create a variable?\n",
    "How do you check the value within a variable?\n",
    "How do you create multiple variables in a single statement?\n",
    "How do you create multiple variables with the same value?\n",
    "How do you change the value of a variable?\n",
    "How do you reassign a variable by modifying the previous value?\n",
    "What are the rules for naming a variable?\n",
    "Are variable names case-sensitive? Do a_variable, A_Variable, and A_VARIABLE represent the same variable or different ones?\n",
    "How do you check the data type of a variable?"
   ]
  },
  {
   "cell_type": "code",
   "execution_count": 100,
   "id": "spiritual-arena",
   "metadata": {},
   "outputs": [
    {
     "name": "stdout",
     "output_type": "stream",
     "text": [
      "['__doc__', '__loader__', '__name__', '__package__', '__spec__', 'acos', 'acosh', 'asin', 'asinh', 'atan', 'atan2', 'atanh', 'ceil', 'comb', 'copysign', 'cos', 'cosh', 'degrees', 'dist', 'e', 'erf', 'erfc', 'exp', 'expm1', 'fabs', 'factorial', 'floor', 'fmod', 'frexp', 'fsum', 'gamma', 'gcd', 'hypot', 'inf', 'isclose', 'isfinite', 'isinf', 'isnan', 'isqrt', 'ldexp', 'lgamma', 'log', 'log10', 'log1p', 'log2', 'modf', 'nan', 'perm', 'pi', 'pow', 'prod', 'radians', 'remainder', 'sin', 'sinh', 'sqrt', 'tan', 'tanh', 'tau', 'trunc']\n"
     ]
    }
   ],
   "source": [
    "import math\n",
    "print(dir(math))"
   ]
  },
  {
   "cell_type": "markdown",
   "id": "signal-meter",
   "metadata": {},
   "source": [
    "## Check your Concepts\n",
    "\n",
    "Try answering the following questions to test your understanding of the topics covered in this notebook:\n",
    "\n",
    "1. What is a variable in Python?\n",
    "2. How do you create a variable?\n",
    "3. How do you check the value within a variable?\n",
    "4. How do you create multiple variables in a single statement?\n",
    "5. How do you create multiple variables with the same value?\n",
    "6. How do you change the value of a variable?\n",
    "7. How do you reassign a variable by modifying the previous value?\n",
    "8. What are the rules for naming a variable?\n",
    "9. Are variable names case-sensitive? Do `a_variable`, `A_Variable`, and `A_VARIABLE` represent the same variable or different ones?\n",
    "10. How do you check the data type of a variable?"
   ]
  },
  {
   "cell_type": "code",
   "execution_count": null,
   "id": "combined-pregnancy",
   "metadata": {},
   "outputs": [],
   "source": []
  }
 ],
 "metadata": {
  "kernelspec": {
   "display_name": "Python 3 (ipykernel)",
   "language": "python",
   "name": "python3"
  },
  "language_info": {
   "codemirror_mode": {
    "name": "ipython",
    "version": 3
   },
   "file_extension": ".py",
   "mimetype": "text/x-python",
   "name": "python",
   "nbconvert_exporter": "python",
   "pygments_lexer": "ipython3",
   "version": "3.8.10"
  }
 },
 "nbformat": 4,
 "nbformat_minor": 5
}
