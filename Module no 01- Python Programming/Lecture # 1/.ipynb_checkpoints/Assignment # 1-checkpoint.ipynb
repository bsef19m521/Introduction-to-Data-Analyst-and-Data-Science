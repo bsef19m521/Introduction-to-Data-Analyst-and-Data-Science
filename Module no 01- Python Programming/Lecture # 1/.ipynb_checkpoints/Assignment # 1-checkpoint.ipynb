{
 "cells": [
  {
   "cell_type": "markdown",
   "id": "resistant-huntington",
   "metadata": {},
   "source": [
    "Write your asnwers according to your concepts and after solving this assignment, submit this notebook in google classroom.\n",
    "Mention User name like this **Assignment # 1(Name)**"
   ]
  },
  {
   "cell_type": "markdown",
   "id": "reliable-innocent",
   "metadata": {},
   "source": [
    "1. What is difference between data analyst and data science?\n",
    "2. Write a Python program to get the Python version you are using\n",
    "3. Write a program in which create five variables in same line\n",
    "4. Write a program in which declare a variable and check its type and Id\n",
    "5. Write a program that performs sum of five variables is equal 44 using python operators\n",
    "6. Write a Python program which calculate the radius of a circle\n",
    "**Sample : radius = 5**  \n",
    "**Output : 78.5**     \n",
    "\n",
    "7. Write a Python program which print the user's first and last name and concate them  \n",
    "**Sample : first_name = \"Ehtisham\"**  \n",
    "**Sample : last_name = \"Sadiq\"**   \n",
    "**Output : output = \"Ehtisham Sadiq\"** \n",
    "\n",
    "8. Is the variable name Sales the same as sales? Why or why not?\n",
    "9. Is the following assignment statement valid or invalid? If it is invalid, why? 72 =    amount  \n",
    "10. What will be displayed by the following program?   \n",
    "    my_value = 99   \n",
    "    my_value = 0   \n",
    "    print(my_value)   \n",
    "    \n",
    "11. Write a Python statement that assigns the sum of 10 and 14 to the variable total.\n",
    "12. Write a Python statement that subtracts the variable down_payment from the variable\n",
    "    total and assigns the result to the variable due.\n",
    "13. Write a Python statement that multiplies the variable subtotal by 0.15 and assigns the\n",
    "    result to the variable total."
   ]
  },
  {
   "cell_type": "code",
   "execution_count": null,
   "id": "floral-turning",
   "metadata": {},
   "outputs": [],
   "source": []
  }
 ],
 "metadata": {
  "kernelspec": {
   "display_name": "Python 3",
   "language": "python",
   "name": "python3"
  },
  "language_info": {
   "codemirror_mode": {
    "name": "ipython",
    "version": 3
   },
   "file_extension": ".py",
   "mimetype": "text/x-python",
   "name": "python",
   "nbconvert_exporter": "python",
   "pygments_lexer": "ipython3",
   "version": "3.8.7"
  }
 },
 "nbformat": 4,
 "nbformat_minor": 5
}
