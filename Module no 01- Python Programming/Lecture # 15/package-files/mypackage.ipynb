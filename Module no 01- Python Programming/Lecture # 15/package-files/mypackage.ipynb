{
 "cells": [
  {
   "cell_type": "markdown",
   "id": "fe036a61",
   "metadata": {},
   "source": [
    "---   \n",
    "\n",
    "<h1 align=\"center\">Introduction to Data Analyst and Data Science for beginners</h1>\n",
    "<h1 align=\"center\">Lecture no 15(Part-2)</h1>\n",
    "\n",
    "---\n",
    "<h3><div align=\"right\">Ehtisham Sadiq</div></h3>    "
   ]
  },
  {
   "cell_type": "markdown",
   "id": "c6429b8f",
   "metadata": {},
   "source": [
    "## _mypackage.ipynb_"
   ]
  },
  {
   "cell_type": "code",
   "execution_count": null,
   "id": "2754af12",
   "metadata": {},
   "outputs": [],
   "source": []
  },
  {
   "cell_type": "markdown",
   "id": "9342f6be",
   "metadata": {},
   "source": [
    "## What is Package in Python?\n",
    "- Python Package is a directory haing one or more modules.\n",
    "- Package also contains sub-packages.\n",
    "- Packages are namespaces that contain multiple packages and modules themselves. They are simply directories.\n",
    "- Syntax: from `<mypackage>` import `<modulename>`"
   ]
  },
  {
   "cell_type": "code",
   "execution_count": null,
   "id": "ebe9816b",
   "metadata": {},
   "outputs": [],
   "source": []
  },
  {
   "cell_type": "markdown",
   "id": "f9cd935d",
   "metadata": {},
   "source": [
    "## 1- What are Python Packages?"
   ]
  },
  {
   "cell_type": "markdown",
   "id": "c35f911b",
   "metadata": {},
   "source": [
    "<img align=\"center\" width=\"800\" height=\"800\"  src=\"../images/package.png\" > "
   ]
  },
  {
   "cell_type": "markdown",
   "id": "3a8ba6cd",
   "metadata": {},
   "source": [
    "Here __init__.py is a python File , which may or may not contain any code."
   ]
  },
  {
   "cell_type": "code",
   "execution_count": null,
   "id": "0371706f",
   "metadata": {},
   "outputs": [],
   "source": []
  },
  {
   "cell_type": "code",
   "execution_count": null,
   "id": "80e18c11",
   "metadata": {},
   "outputs": [],
   "source": []
  },
  {
   "cell_type": "markdown",
   "id": "0fde6a6a",
   "metadata": {},
   "source": [
    "## 2- How to Create a Python Package?\n",
    "#### **Let us create a package:**\n",
    "\n",
    "- First of all, remember a package is a directory and the name of the package is the name of the directory. \n",
    "- We create our directory with the name \"_packageDemo_\". \n",
    "- Inside this we create sub-directories \"_package1_\" and \"_package2_\".\n",
    "- The packageDemo, package1, and package2 directory needs to contain a file with the name '_ _ init _ _.py'. To keep things simple, we left these file empty.\n",
    "- Now we can put all of the Python files which will be the modules into these directory. We create 3 different modules named arithmetic, comparison and bitcompare, containing our function definitions.\n",
    "- We put arithmetic module in package1(sub-package), and place the comparison and bitcompare module in package2 (sub-package)\n",
    "\n",
    "### Hierarchy:\n",
    " - **packageDemo**\n",
    "     - `__init__.py`\n",
    " \n",
    "     - **package1**    \n",
    "         - `___init__.py`    \n",
    "         - `arithmetic.py` \n",
    "     \n",
    "     - **package2**    \n",
    "         - `__init__.py`\n",
    "         - `comparison.py`\n",
    "         - `bitcompare.py`"
   ]
  },
  {
   "cell_type": "markdown",
   "id": "83a8a43a",
   "metadata": {},
   "source": [
    "#### packageDemo/package1/arithmetic.py\n",
    "```\n",
    "def myadd(a,b):\n",
    "    return a+b\n",
    "\n",
    "def mysub(a,b):\n",
    "    return a-b\n",
    "\n",
    "def mymul(a,b):\n",
    "    return a*b\n",
    "\n",
    "def mydiv(a,b):\n",
    "    if (y==0):\n",
    "        return 'Not Possible'\n",
    "    else:\n",
    "        return a/b\n",
    "\n",
    "def mypow(a,b):\n",
    "    return a**b\n",
    "```"
   ]
  },
  {
   "cell_type": "code",
   "execution_count": null,
   "id": "d979516e",
   "metadata": {},
   "outputs": [],
   "source": []
  },
  {
   "cell_type": "markdown",
   "id": "c495aa82",
   "metadata": {},
   "source": [
    "#### pakcageDemo/package2/bitcompare.py\n",
    "```\n",
    "def bitand(a,b):\n",
    "    print('a & b is',a&b)\n",
    "\n",
    "    \n",
    "def bitor(a,b):\n",
    "    print('a | b is',a|b)\n",
    "\n",
    "def bitnot(a):\n",
    "    print('~a is',~a)\n",
    "\n",
    "def bitxor(a,b):\n",
    "    print('a ^ b is',a^b)\n",
    "\n",
    "def bitright(a,b):\n",
    "    print('x >> b is',a>>b)\n",
    "\n",
    "def bitleft(a,b):\n",
    "    print('a << b is',a<<b)\n",
    "```"
   ]
  },
  {
   "cell_type": "markdown",
   "id": "02994b6e",
   "metadata": {},
   "source": [
    "#### pakcageDemo/package2/comparison.py\n",
    "```\n",
    "def comparison(x,y):\n",
    "    print(\"Comparing both operand where x is \",x,\"and y is \",y)\n",
    "    \n",
    "    if(x>y):\n",
    "        print(\" x > y is: \",  x>y)\n",
    "        \n",
    "    elif(x<y):\n",
    "        print(\" x < y is: \", x<y)\n",
    "        \n",
    "    else:\n",
    "        print(\" x == y is: \", x==y)\n",
    "    \n",
    "```"
   ]
  },
  {
   "cell_type": "code",
   "execution_count": null,
   "id": "78773f88",
   "metadata": {},
   "outputs": [],
   "source": []
  },
  {
   "cell_type": "code",
   "execution_count": null,
   "id": "c5587ae7",
   "metadata": {},
   "outputs": [],
   "source": []
  },
  {
   "cell_type": "code",
   "execution_count": null,
   "id": "26dfac69",
   "metadata": {},
   "outputs": [],
   "source": []
  },
  {
   "cell_type": "markdown",
   "id": "a7009883",
   "metadata": {},
   "source": [
    "## 3. How to import and use modules from the Package"
   ]
  },
  {
   "cell_type": "code",
   "execution_count": null,
   "id": "29fd636f",
   "metadata": {},
   "outputs": [],
   "source": []
  },
  {
   "cell_type": "code",
   "execution_count": 1,
   "id": "4ee9ead2",
   "metadata": {},
   "outputs": [],
   "source": [
    "import packageDemo.package1.arithmetic"
   ]
  },
  {
   "cell_type": "code",
   "execution_count": 5,
   "id": "562702cc",
   "metadata": {},
   "outputs": [
    {
     "data": {
      "text/plain": [
       "16"
      ]
     },
     "execution_count": 5,
     "metadata": {},
     "output_type": "execute_result"
    }
   ],
   "source": [
    "# dir(packageDemo.package1.arithmetic)\n",
    "# packageDemo.package1.arithmetic.myadd(5,6)\n",
    "# packageDemo.package1.arithmetic.mysub(5,6)\n",
    "# packageDemo.package1.arithmetic.mypow(2,4)"
   ]
  },
  {
   "cell_type": "markdown",
   "id": "c15cf6e8",
   "metadata": {},
   "source": [
    "**Using functions inside the arithmetic module**"
   ]
  },
  {
   "cell_type": "code",
   "execution_count": null,
   "id": "6c3eaf41",
   "metadata": {},
   "outputs": [],
   "source": [
    "# import packageDemo.package1.arithmetic\n",
    "import packageDemo.package1.arithmetic"
   ]
  },
  {
   "cell_type": "code",
   "execution_count": null,
   "id": "3e35d037",
   "metadata": {},
   "outputs": [],
   "source": []
  },
  {
   "cell_type": "code",
   "execution_count": null,
   "id": "b6379ba3",
   "metadata": {},
   "outputs": [],
   "source": [
    "packageDemo.package1.arithmetic.mymul(12, 12)"
   ]
  },
  {
   "cell_type": "code",
   "execution_count": 7,
   "id": "b3775f6a",
   "metadata": {},
   "outputs": [
    {
     "data": {
      "text/plain": [
       "20"
      ]
     },
     "execution_count": 7,
     "metadata": {},
     "output_type": "execute_result"
    }
   ],
   "source": [
    "# import arithmetic module as an alias\n",
    "import packageDemo.package1.arithmetic as abc\n",
    "abc.mymul(4,5)"
   ]
  },
  {
   "cell_type": "code",
   "execution_count": 8,
   "id": "aea0a39d",
   "metadata": {},
   "outputs": [
    {
     "data": {
      "text/plain": [
       "1024"
      ]
     },
     "execution_count": 8,
     "metadata": {},
     "output_type": "execute_result"
    }
   ],
   "source": [
    "abc.mypow(2,10)"
   ]
  },
  {
   "cell_type": "code",
   "execution_count": 9,
   "id": "83823d25",
   "metadata": {},
   "outputs": [],
   "source": [
    "# Just import arithmetic module from package1\n",
    "from packageDemo.package1 import arithmetic"
   ]
  },
  {
   "cell_type": "code",
   "execution_count": null,
   "id": "62caecae",
   "metadata": {},
   "outputs": [],
   "source": []
  },
  {
   "cell_type": "code",
   "execution_count": null,
   "id": "c7a7e116",
   "metadata": {},
   "outputs": [],
   "source": [
    "arithmetic.mysub(34,43)"
   ]
  },
  {
   "cell_type": "code",
   "execution_count": 11,
   "id": "ff462b7e",
   "metadata": {},
   "outputs": [],
   "source": [
    "# import all the functions of the arithmetic module\n",
    "from packageDemo.package1.arithmetic import *"
   ]
  },
  {
   "cell_type": "code",
   "execution_count": 13,
   "id": "c94f1684",
   "metadata": {},
   "outputs": [
    {
     "data": {
      "text/plain": [
       "1024"
      ]
     },
     "execution_count": 13,
     "metadata": {},
     "output_type": "execute_result"
    }
   ],
   "source": [
    "# myadd(3,9)\n",
    "# mypow(4,5)"
   ]
  },
  {
   "cell_type": "code",
   "execution_count": 14,
   "id": "8c8a4a56",
   "metadata": {},
   "outputs": [
    {
     "name": "stdout",
     "output_type": "stream",
     "text": [
      "['In', 'Out', '_', '_10', '_12', '_13', '_2', '_3', '_4', '_5', '_7', '_8', '__', '___', '__builtin__', '__builtins__', '__doc__', '__loader__', '__name__', '__package__', '__spec__', '_dh', '_i', '_i1', '_i10', '_i11', '_i12', '_i13', '_i14', '_i2', '_i3', '_i4', '_i5', '_i6', '_i7', '_i8', '_i9', '_ih', '_ii', '_iii', '_oh', 'abc', 'arithmetic', 'exit', 'get_ipython', 'myadd', 'mydiv', 'mymul', 'mypow', 'mysub', 'packageDemo', 'quit']\n"
     ]
    }
   ],
   "source": [
    "print(dir())"
   ]
  },
  {
   "cell_type": "code",
   "execution_count": null,
   "id": "6c178684",
   "metadata": {},
   "outputs": [],
   "source": []
  },
  {
   "cell_type": "code",
   "execution_count": null,
   "id": "2db2b0fc",
   "metadata": {},
   "outputs": [],
   "source": []
  },
  {
   "cell_type": "markdown",
   "id": "dbb94205",
   "metadata": {},
   "source": [
    "**Using functions inside the comparison module**"
   ]
  },
  {
   "cell_type": "code",
   "execution_count": 19,
   "id": "b2a8e5c2",
   "metadata": {},
   "outputs": [],
   "source": [
    "# import comparison module as an alias\n",
    "import packageDemo.package2.comparison as comp\n",
    "# comp.comparison(4,4)"
   ]
  },
  {
   "cell_type": "code",
   "execution_count": 20,
   "id": "b8822a07",
   "metadata": {},
   "outputs": [
    {
     "name": "stdout",
     "output_type": "stream",
     "text": [
      "Comparing both operand where x is  4 and y is  5\n",
      " x < y is:  True\n"
     ]
    }
   ],
   "source": [
    "comp.comparison(4,5)"
   ]
  },
  {
   "cell_type": "code",
   "execution_count": 21,
   "id": "49245ba1",
   "metadata": {},
   "outputs": [
    {
     "name": "stdout",
     "output_type": "stream",
     "text": [
      "Comparing both operand where x is  85 and y is  46\n",
      " x > y is:  True\n"
     ]
    }
   ],
   "source": [
    "comp.comparison(85,46)"
   ]
  },
  {
   "cell_type": "code",
   "execution_count": null,
   "id": "467dc8e6",
   "metadata": {},
   "outputs": [],
   "source": []
  },
  {
   "cell_type": "code",
   "execution_count": null,
   "id": "d944640d",
   "metadata": {},
   "outputs": [],
   "source": []
  },
  {
   "cell_type": "code",
   "execution_count": null,
   "id": "ecafb889",
   "metadata": {},
   "outputs": [],
   "source": []
  },
  {
   "cell_type": "markdown",
   "id": "d0bbca5d",
   "metadata": {},
   "source": [
    "**Using functions inside the bitcompare module**"
   ]
  },
  {
   "cell_type": "code",
   "execution_count": 22,
   "id": "3e9affe8",
   "metadata": {},
   "outputs": [],
   "source": [
    "# import bitcompare module as an alias\n",
    "import packageDemo.package2.bitcompare as bits"
   ]
  },
  {
   "cell_type": "code",
   "execution_count": 23,
   "id": "2fa181df",
   "metadata": {},
   "outputs": [
    {
     "name": "stdout",
     "output_type": "stream",
     "text": [
      "a & b is 4\n"
     ]
    }
   ],
   "source": [
    "bits.bitand(5,6)"
   ]
  },
  {
   "cell_type": "code",
   "execution_count": 24,
   "id": "3258b3d8",
   "metadata": {},
   "outputs": [
    {
     "name": "stdout",
     "output_type": "stream",
     "text": [
      "a << b is 373833953443840\n"
     ]
    }
   ],
   "source": [
    "bits.bitleft(85,42)"
   ]
  },
  {
   "cell_type": "code",
   "execution_count": 25,
   "id": "69b764ba",
   "metadata": {},
   "outputs": [
    {
     "name": "stdout",
     "output_type": "stream",
     "text": [
      "~a is -9\n"
     ]
    }
   ],
   "source": [
    "bits.bitnot(8)"
   ]
  },
  {
   "cell_type": "code",
   "execution_count": 27,
   "id": "33a257fa",
   "metadata": {},
   "outputs": [
    {
     "name": "stdout",
     "output_type": "stream",
     "text": [
      "a | b is 7\n"
     ]
    }
   ],
   "source": [
    "bits.bitor(5,7)"
   ]
  },
  {
   "cell_type": "code",
   "execution_count": 29,
   "id": "0ccc98f9",
   "metadata": {},
   "outputs": [
    {
     "name": "stdout",
     "output_type": "stream",
     "text": [
      "x >> b is 0\n"
     ]
    }
   ],
   "source": [
    "bits.bitright(96,458)"
   ]
  },
  {
   "cell_type": "code",
   "execution_count": 30,
   "id": "05046ca6",
   "metadata": {},
   "outputs": [
    {
     "name": "stdout",
     "output_type": "stream",
     "text": [
      "a ^ b is 82\n"
     ]
    }
   ],
   "source": [
    "bits.bitxor(86,4)"
   ]
  },
  {
   "cell_type": "code",
   "execution_count": null,
   "id": "84ccd94e",
   "metadata": {},
   "outputs": [],
   "source": []
  },
  {
   "cell_type": "code",
   "execution_count": null,
   "id": "c8b3c909",
   "metadata": {},
   "outputs": [],
   "source": []
  },
  {
   "cell_type": "markdown",
   "id": "a59d0cc0",
   "metadata": {},
   "source": [
    "**Using functions of all the modules**"
   ]
  },
  {
   "cell_type": "code",
   "execution_count": 31,
   "id": "3925b4a5",
   "metadata": {},
   "outputs": [],
   "source": [
    "# now we will import all the functions of all the modules\n",
    "from packageDemo.package1 import *\n",
    "from packageDemo.package2 import *"
   ]
  },
  {
   "cell_type": "code",
   "execution_count": 32,
   "id": "7922be97",
   "metadata": {},
   "outputs": [
    {
     "data": {
      "text/plain": [
       "512"
      ]
     },
     "execution_count": 32,
     "metadata": {},
     "output_type": "execute_result"
    }
   ],
   "source": [
    "arithmetic.mypow(8,3)"
   ]
  },
  {
   "cell_type": "code",
   "execution_count": 33,
   "id": "cf17c896",
   "metadata": {},
   "outputs": [
    {
     "name": "stdout",
     "output_type": "stream",
     "text": [
      "Comparing both operand where x is  5 and y is  6\n",
      " x < y is:  True\n"
     ]
    }
   ],
   "source": [
    "comparison.comparison(5,6)"
   ]
  },
  {
   "cell_type": "code",
   "execution_count": 34,
   "id": "56b7d3a1",
   "metadata": {},
   "outputs": [
    {
     "name": "stdout",
     "output_type": "stream",
     "text": [
      "~a is -95\n"
     ]
    }
   ],
   "source": [
    "bitcompare.bitnot(94)"
   ]
  },
  {
   "cell_type": "code",
   "execution_count": 35,
   "id": "24d50189",
   "metadata": {},
   "outputs": [
    {
     "name": "stdout",
     "output_type": "stream",
     "text": [
      "['In', 'Out', '_', '_10', '_12', '_13', '_2', '_3', '_32', '_4', '_5', '_7', '_8', '__', '___', '__builtin__', '__builtins__', '__doc__', '__loader__', '__name__', '__package__', '__spec__', '_dh', '_i', '_i1', '_i10', '_i11', '_i12', '_i13', '_i14', '_i15', '_i16', '_i17', '_i18', '_i19', '_i2', '_i20', '_i21', '_i22', '_i23', '_i24', '_i25', '_i26', '_i27', '_i28', '_i29', '_i3', '_i30', '_i31', '_i32', '_i33', '_i34', '_i35', '_i4', '_i5', '_i6', '_i7', '_i8', '_i9', '_ih', '_ii', '_iii', '_oh', 'abc', 'arithmetic', 'bitcompare', 'bits', 'comp', 'comparison', 'exit', 'get_ipython', 'myadd', 'mydiv', 'mymul', 'mypow', 'mysub', 'packageDemo', 'quit']\n"
     ]
    }
   ],
   "source": [
    "print(dir())"
   ]
  },
  {
   "cell_type": "code",
   "execution_count": 36,
   "id": "96087266",
   "metadata": {},
   "outputs": [
    {
     "data": {
      "text/plain": [
       "'comparison'"
      ]
     },
     "execution_count": 36,
     "metadata": {},
     "output_type": "execute_result"
    }
   ],
   "source": [
    "comparison.comparison.__name__"
   ]
  },
  {
   "cell_type": "code",
   "execution_count": null,
   "id": "958e5a57",
   "metadata": {},
   "outputs": [],
   "source": []
  },
  {
   "cell_type": "code",
   "execution_count": null,
   "id": "c3be1714",
   "metadata": {},
   "outputs": [],
   "source": []
  },
  {
   "cell_type": "code",
   "execution_count": null,
   "id": "c382deac",
   "metadata": {},
   "outputs": [],
   "source": []
  },
  {
   "cell_type": "code",
   "execution_count": null,
   "id": "f981874c",
   "metadata": {},
   "outputs": [],
   "source": [
    "from packageDemo.package1 import arithmetic as arith\n",
    "from packageDemo.package2 import bitcompare as bits\n",
    "from packageDemo.package2 import comparison as comp"
   ]
  },
  {
   "cell_type": "code",
   "execution_count": null,
   "id": "de3ba13f",
   "metadata": {},
   "outputs": [],
   "source": []
  },
  {
   "cell_type": "code",
   "execution_count": null,
   "id": "e8f29512",
   "metadata": {},
   "outputs": [],
   "source": []
  },
  {
   "cell_type": "markdown",
   "id": "ffcb68c0",
   "metadata": {},
   "source": [
    "## Check your Concepts\n",
    "\n",
    "Try answering the following questions to test your understanding of the topics covered in this notebook:\n",
    "1. What is a package in Python?\n",
    "2. What is the special file that each package in Python must contain?\n",
    "3. How do you delete a file in Python?\n",
    "4. Mention the commands and their syntax for the following: get current directory, changing directory, list, directories and files, make a new directory, renaming and removing directory."
   ]
  },
  {
   "cell_type": "code",
   "execution_count": 37,
   "id": "200042e6",
   "metadata": {},
   "outputs": [],
   "source": [
    "import os"
   ]
  },
  {
   "cell_type": "code",
   "execution_count": 40,
   "id": "88b94eee",
   "metadata": {},
   "outputs": [],
   "source": [
    "# os.getcwd()\n",
    "# os.chdir()\n",
    "# os.listdir()\n",
    "# os.mkdir()\n",
    "# os.rename()\n",
    "# os.rmdir()"
   ]
  },
  {
   "cell_type": "code",
   "execution_count": null,
   "id": "187baf18",
   "metadata": {},
   "outputs": [],
   "source": []
  },
  {
   "cell_type": "markdown",
   "id": "8d870b5e",
   "metadata": {},
   "source": [
    "# Practice Questions"
   ]
  },
  {
   "cell_type": "markdown",
   "id": "86d743a9",
   "metadata": {},
   "source": [
    "### Question no 01:\n",
    "Write a Python program to generate a random alphabetical string, random value between two integers (inclusive) and a random multiple of 7 between 0 and 10.    \n",
    "**Use random.randint()**"
   ]
  },
  {
   "cell_type": "code",
   "execution_count": 73,
   "id": "69f9e66f",
   "metadata": {},
   "outputs": [],
   "source": [
    "import random\n",
    "import string\n",
    "# random.randint(4,9)\n",
    "# random.randint(1,max_length)"
   ]
  },
  {
   "cell_type": "code",
   "execution_count": null,
   "id": "592510a9",
   "metadata": {},
   "outputs": [],
   "source": []
  },
  {
   "cell_type": "code",
   "execution_count": 93,
   "id": "4f421ddc",
   "metadata": {},
   "outputs": [
    {
     "name": "stdout",
     "output_type": "stream",
     "text": [
      "Random generated string is :  BGdWM\n",
      "Random value between 7 and 100 is :  31\n",
      "Random value between -33 and 1  is  -16\n",
      "Random value between 7 and 10 is :  7\n",
      "Random value between 79 and 100 is :  100\n",
      "Random multiple of 7 between 0 and 10 is :  49\n"
     ]
    }
   ],
   "source": [
    "import random\n",
    "import string\n",
    "# generate a random alphabetical string\n",
    "MAX_LENGTH = 255\n",
    "String = \"\"\n",
    "for i in range(random.randint(1,MAX_LENGTH)):\n",
    "#     here string.ascii_letters functions prints all the letters in both lower and upper case\n",
    "    String = String+random.choice(string.ascii_letters)\n",
    "print(\"Random generated string is : \",String)\n",
    "\n",
    "print(\"Random value between 7 and 100 is : \", random.randint(7,100))\n",
    "print(\"Random value between -33 and 1  is \", random.randint(-33,1))\n",
    "print(\"Random value between 7 and 10 is : \", random.randint(7,10))\n",
    "print(\"Random value between 79 and 100 is : \", random.randint(79,100))\n",
    "print(\"Random multiple of 7 between 0 and 10 is : \", random.randint(0,10)*7)"
   ]
  },
  {
   "cell_type": "code",
   "execution_count": null,
   "id": "e2f8fa6a",
   "metadata": {},
   "outputs": [],
   "source": []
  },
  {
   "cell_type": "markdown",
   "id": "0be3cf54",
   "metadata": {},
   "source": [
    "### Question no 02:\n",
    "Write a Python program to select a random element from a list, set, dictionary (value) and a file from a directory.    \n",
    "**use random.choice()**"
   ]
  },
  {
   "cell_type": "code",
   "execution_count": 107,
   "id": "d438a988",
   "metadata": {},
   "outputs": [
    {
     "name": "stdout",
     "output_type": "stream",
     "text": [
      "Generate a random element from the list : \n",
      "7\n",
      "5\n",
      "1\n",
      "6\n",
      "Generate a random element from the set : \n",
      "1\n",
      "10\n",
      "10\n",
      "Generate a random value from the dictionary : \n",
      "5\n",
      "5\n",
      "5\n",
      "List of all the files in the current working directory :  ['.ipynb_checkpoints', '.jovianrc', 'mypackage.ipynb', 'packageDemo']\n",
      "Select a random file from the directory : \n",
      "mypackage.ipynb\n"
     ]
    }
   ],
   "source": [
    "import random\n",
    "import os\n",
    "list1 = list(range(1,11))\n",
    "print(\"Generate a random element from the list : \")\n",
    "print(random.choice(list1))\n",
    "print(random.choice(list1))\n",
    "print(random.choice(list1))\n",
    "print(random.choice(list1))\n",
    "set1 = set(list1)\n",
    "# we cannot get elements from the set directly, to do this , first of all , we convert our set into tuple\n",
    "print(\"Generate a random element from the set : \")\n",
    "print(random.choice(tuple(set1)))\n",
    "print(random.choice(tuple(set1)))\n",
    "print(random.choice(tuple(set1)))\n",
    "print(\"Generate a random value from the dictionary : \")\n",
    "d = {\"a\": 1, \"b\": 2, \"c\": 3, \"d\": 4, \"e\": 5}\n",
    "# list(d) function provides a list which contains all the keys of the dictionary\n",
    "key = random.choice(list(d))\n",
    "print(d[key])\n",
    "key = random.choice(list(d))\n",
    "print(d[key])\n",
    "key = random.choice(list(d))\n",
    "print(d[key])\n",
    "listOfFiles = os.listdir()\n",
    "print(\"List of all the files in the current working directory : \", listOfFiles)\n",
    "print(\"Select a random file from the directory : \")\n",
    "print(random.choice(listOfFiles))"
   ]
  },
  {
   "cell_type": "code",
   "execution_count": null,
   "id": "2a73bca4",
   "metadata": {},
   "outputs": [],
   "source": []
  }
 ],
 "metadata": {
  "kernelspec": {
   "display_name": "Python 3 (ipykernel)",
   "language": "python",
   "name": "python3"
  },
  "language_info": {
   "codemirror_mode": {
    "name": "ipython",
    "version": 3
   },
   "file_extension": ".py",
   "mimetype": "text/x-python",
   "name": "python",
   "nbconvert_exporter": "python",
   "pygments_lexer": "ipython3",
   "version": "3.8.10"
  }
 },
 "nbformat": 4,
 "nbformat_minor": 5
}
