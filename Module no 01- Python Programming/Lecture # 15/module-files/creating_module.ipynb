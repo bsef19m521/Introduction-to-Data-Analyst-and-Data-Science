{
 "cells": [
  {
   "cell_type": "markdown",
   "id": "ed455b47",
   "metadata": {},
   "source": [
    "---   \n",
    "\n",
    "<h1 align=\"center\">Introduction to Data Analyst and Data Science for beginners</h1>\n",
    "<h1 align=\"center\">Lecture no 15(Part-1)</h1>\n",
    "\n",
    "---\n",
    "<h3><div align=\"right\">Ehtisham Sadiq</div></h3>    "
   ]
  },
  {
   "cell_type": "markdown",
   "id": "c041eac7",
   "metadata": {},
   "source": [
    "## _Creating_Modules.ipynb_"
   ]
  },
  {
   "cell_type": "markdown",
   "id": "4a466ee0",
   "metadata": {},
   "source": [
    "<img align=\"center\" width=\"600\" height=\"600\"  src=\"../images/script.png\" > "
   ]
  },
  {
   "cell_type": "code",
   "execution_count": null,
   "id": "53646627",
   "metadata": {},
   "outputs": [],
   "source": []
  },
  {
   "cell_type": "markdown",
   "id": "a781dec1",
   "metadata": {},
   "source": [
    "# Python Script vs module vs packages vs Library vs Framework?"
   ]
  },
  {
   "cell_type": "markdown",
   "id": "1e1777b0",
   "metadata": {},
   "source": [
    "### What is Python Script:\n",
    "- Script is a file having Python code written outside the scope of any function or class.\n",
    "In above Example:    \n",
    "x = 5    \n",
    "rv = myfactorial(x)    \n",
    "print(\"Factorial of {} is {}\".format(x,rv)) \n",
    "- When we run this script definitly , it will perform some work"
   ]
  },
  {
   "cell_type": "code",
   "execution_count": null,
   "id": "597c5507",
   "metadata": {},
   "outputs": [],
   "source": []
  },
  {
   "cell_type": "markdown",
   "id": "0ef18912",
   "metadata": {},
   "source": [
    "<img align=\"center\" width=\"600\" height=\"600\"  src=\"../images/module1.png\" > "
   ]
  },
  {
   "cell_type": "markdown",
   "id": "02fc24dc",
   "metadata": {},
   "source": [
    "## What is Python Module:\n",
    "- A module is a file having python code with dot py extension.\n",
    "- Module may contain multiple functions, variables, classes.\n",
    "- We cannot run directly this module in any python program.\n",
    "- TO run a module, firstly , we need to import this module in our program using `import` keyword."
   ]
  },
  {
   "cell_type": "code",
   "execution_count": null,
   "id": "e6c5e258",
   "metadata": {},
   "outputs": [],
   "source": []
  },
  {
   "cell_type": "markdown",
   "id": "8ea00da3",
   "metadata": {},
   "source": [
    "<img align=\"center\" width=\"600\" height=\"600\"  src=\"../images/package.png\" > "
   ]
  },
  {
   "cell_type": "markdown",
   "id": "b60dff03",
   "metadata": {},
   "source": [
    "## What is Python Package:\n",
    "- Python Package is a directory having one or more python modules.\n",
    "- One package also contains sub packages.\n",
    "- Here , we have `__init__.py` in every package, I will discuss about this later on."
   ]
  },
  {
   "cell_type": "code",
   "execution_count": null,
   "id": "a7a3634c",
   "metadata": {},
   "outputs": [],
   "source": []
  },
  {
   "cell_type": "markdown",
   "id": "447ea2ac",
   "metadata": {},
   "source": [
    "<img align=\"center\" width=\"800\" height=\"800\"  src=\"../images/intro.png\" > "
   ]
  },
  {
   "cell_type": "markdown",
   "id": "3ac0dd2f",
   "metadata": {},
   "source": [
    "## What is Python Standard Library:\n",
    "- Standard Library contains hundreds of modules , these modules contain wide range of functionalities.\n",
    "- The Python standard library comes with python installation.\n",
    "- If we want to use any function of a module, then, firstly, we need to import that module."
   ]
  },
  {
   "cell_type": "markdown",
   "id": "918b928a",
   "metadata": {},
   "source": [
    "## What is Python Framework?\n",
    "- Python framework provides programmer a very efficient way to work with any type of problem.\n",
    "- By using framework , there is no need to go in the low level details of the program.\n",
    "- Some famous framework of Python are Flask, django, tensorflow."
   ]
  },
  {
   "cell_type": "markdown",
   "id": "12be69aa",
   "metadata": {},
   "source": [
    "<img src=\"WebFrameworks-1200x720.jpg\" height = \"350px\" width=\"500px\">"
   ]
  },
  {
   "cell_type": "code",
   "execution_count": null,
   "id": "f8106bfd",
   "metadata": {},
   "outputs": [],
   "source": []
  },
  {
   "cell_type": "code",
   "execution_count": null,
   "id": "3f1c9711",
   "metadata": {},
   "outputs": [],
   "source": []
  },
  {
   "cell_type": "markdown",
   "id": "c84d6cd1",
   "metadata": {},
   "source": [
    "# Learning agenda of this notebook\n",
    "Modular Programming is a design technique to break your code into different parts. These parts in which we are breaking code into are called modules.\n",
    "\n",
    "**PART - I**\n",
    "1. Create a Module of your own\n",
    "2. Use the newly created module in this notebook file\n",
    "3. How Python locates a module?\n",
    "4. Reloading a module\n",
    "\n",
    "**PART - II**\n",
    "1. What are Python packages?\n",
    "2. How to create a Python Package?\n",
    "3. How to import modules from the package?"
   ]
  },
  {
   "cell_type": "code",
   "execution_count": 6,
   "id": "8e9320fc",
   "metadata": {},
   "outputs": [
    {
     "name": "stdout",
     "output_type": "stream",
     "text": [
      "# This is a Python module containing functions. Must have an extension .py\r\n",
      "AUTHOR = 'Arif Butt'\r\n",
      "BATCH = 2021\r\n",
      "\r\n",
      "#################      Factorial           #########################\r\n",
      "def myfactorial(num):\r\n",
      "    if num < 0:\r\n",
      "        return 0\r\n",
      "    if num == 0:\r\n",
      "        return 1\r\n",
      "    factorial = 1\r\n",
      "    for i in range(1, num + 1):\r\n",
      "        factorial = factorial * i\r\n",
      "    return factorial\r\n",
      "\r\n",
      "\r\n",
      "\r\n",
      "\r\n",
      "\r\n",
      "################      Linear Search         ##########################\r\n",
      "def myindex(numbers, no):\r\n",
      "    for i in range(len(numbers)):  \r\n",
      "        if numbers[i] == no:\r\n",
      "            return i\r\n",
      "    return -1\r\n",
      "\r\n",
      "\r\n",
      "\r\n",
      "################      Selection Sort        ##########################\r\n",
      "def mysort(numbers, inplace=False):\r\n",
      "    n = len(numbers)\r\n",
      "    if(inplace == True):\r\n",
      "        for i in range(0,n,1):\r\n",
      "            min_idx = i\r\n",
      "            for j in range(i+1, n):\r\n",
      "                if numbers[min_idx] > numbers[j]:\r\n",
      "                    min_idx = j\r\n",
      "            # Swap the found minimum element with the first element        \r\n",
      "            numbers[i], numbers[min_idx] = numbers[min_idx], numbers[i]\r\n",
      "        return None\r\n",
      "    else:\r\n",
      "        mylist = numbers[:]\r\n",
      "        for i in range(0, n, 1):\r\n",
      "            min_idx = i\r\n",
      "            for j in range(i+1, n):\r\n",
      "                if mylist[min_idx] > mylist[j]:#issue\r\n",
      "                    min_idx = j\r\n",
      "            # Swap the found minimum element with the first element        \r\n",
      "            mylist[i], mylist[min_idx] = mylist[min_idx], mylist[i]\r\n",
      "        return mylist\r\n",
      "        \r\n",
      "        \r\n",
      "        \r\n"
     ]
    }
   ],
   "source": [
    "!cat mymodule.py"
   ]
  },
  {
   "cell_type": "markdown",
   "id": "4bf35ccf",
   "metadata": {},
   "source": [
    "## 1. Create a Module named _`mymodule`_\n",
    "- Create `mymodule.py` file as shown below in the current working directory, i.e., the directory in which this IPython Notebook file resides. "
   ]
  },
  {
   "cell_type": "markdown",
   "id": "8ff90697",
   "metadata": {},
   "source": [
    "#### mymodule.py\n",
    "```\n",
    "AUTHOR = 'Arif Butt'\n",
    "BATCH = 2021\n",
    "\n",
    "def myfactorial(num):\n",
    "    # code\n",
    "    \n",
    "\n",
    "def myindex(numbers, no):\n",
    "    # code\n",
    "\n",
    "def mysort(numbers, inplace=False):\n",
    "    # code\n",
    "```"
   ]
  },
  {
   "cell_type": "code",
   "execution_count": null,
   "id": "255458e3",
   "metadata": {},
   "outputs": [],
   "source": []
  },
  {
   "cell_type": "code",
   "execution_count": null,
   "id": "eddccc76",
   "metadata": {},
   "outputs": [],
   "source": []
  },
  {
   "cell_type": "markdown",
   "id": "0607638d",
   "metadata": {},
   "source": [
    "## 2. Use the Functions of `mymodule`"
   ]
  },
  {
   "cell_type": "code",
   "execution_count": 7,
   "id": "e4ffc4cd",
   "metadata": {},
   "outputs": [
    {
     "name": "stdout",
     "output_type": "stream",
     "text": [
      "['AUTHOR', 'BATCH', '__builtins__', '__cached__', '__doc__', '__file__', '__loader__', '__name__', '__package__', '__spec__', 'myfactorial', 'myindex', 'mysort']\n"
     ]
    }
   ],
   "source": [
    "import mymodule as mm\n",
    "print(dir(mm))"
   ]
  },
  {
   "cell_type": "code",
   "execution_count": 8,
   "id": "bfd02839",
   "metadata": {},
   "outputs": [
    {
     "data": {
      "text/plain": [
       "'Arif Butt'"
      ]
     },
     "execution_count": 8,
     "metadata": {},
     "output_type": "execute_result"
    }
   ],
   "source": [
    "mm.AUTHOR"
   ]
  },
  {
   "cell_type": "code",
   "execution_count": 9,
   "id": "9ba22c8a",
   "metadata": {},
   "outputs": [
    {
     "data": {
      "text/plain": [
       "2021"
      ]
     },
     "execution_count": 9,
     "metadata": {},
     "output_type": "execute_result"
    }
   ],
   "source": [
    "mm.BATCH"
   ]
  },
  {
   "cell_type": "code",
   "execution_count": 11,
   "id": "193dfd67",
   "metadata": {},
   "outputs": [
    {
     "data": {
      "text/plain": [
       "<function mymodule.mysort(numbers, inplace=False)>"
      ]
     },
     "execution_count": 11,
     "metadata": {},
     "output_type": "execute_result"
    }
   ],
   "source": [
    "mm.mysort"
   ]
  },
  {
   "cell_type": "code",
   "execution_count": 12,
   "id": "0b43ffe2",
   "metadata": {},
   "outputs": [
    {
     "data": {
      "text/plain": [
       "'mymodule'"
      ]
     },
     "execution_count": 12,
     "metadata": {},
     "output_type": "execute_result"
    }
   ],
   "source": [
    "mm.__name__"
   ]
  },
  {
   "cell_type": "code",
   "execution_count": 13,
   "id": "7f3ae021",
   "metadata": {},
   "outputs": [
    {
     "data": {
      "text/plain": [
       "'/home/dell/Data/Introduction to data analyst and data science for begineers/Module 1(Introduction to Python)/Lecture # 15/module-files/__pycache__/mymodule.cpython-38.pyc'"
      ]
     },
     "execution_count": 13,
     "metadata": {},
     "output_type": "execute_result"
    }
   ],
   "source": [
    "mm.__cached__"
   ]
  },
  {
   "cell_type": "markdown",
   "id": "d12833ed",
   "metadata": {},
   "source": [
    ">- `.pyc` files are created by the Python interpreter when a `.py` file is imported. \n",
    ">- The `.pyc` file contain the **compiled bytecode** of the imported module, so that the \"translation\" from source code to bytecode (which only needs to be done once) can be skipped on subsequent imports to speed up startup.\n",
    ">- If the `.pyc` is older than the corresponding .py file, we do have to re-import it in our program.\n",
    ">- The `.pyc` file is still interpreted, however, cnce the `.pyc` file is generated, there is no need of `.py` file, unless you edit it."
   ]
  },
  {
   "cell_type": "code",
   "execution_count": null,
   "id": "6f998429",
   "metadata": {},
   "outputs": [],
   "source": []
  },
  {
   "cell_type": "code",
   "execution_count": 17,
   "id": "90a96624",
   "metadata": {
    "scrolled": true
   },
   "outputs": [],
   "source": [
    "# mm.__builtins__"
   ]
  },
  {
   "cell_type": "code",
   "execution_count": 24,
   "id": "56494486",
   "metadata": {},
   "outputs": [],
   "source": [
    "import os\n",
    "# os.listdir('__pycache__')\n",
    "# os.listdir()"
   ]
  },
  {
   "cell_type": "code",
   "execution_count": null,
   "id": "6a988cd0",
   "metadata": {},
   "outputs": [],
   "source": []
  },
  {
   "cell_type": "code",
   "execution_count": 25,
   "id": "1f894065",
   "metadata": {},
   "outputs": [
    {
     "data": {
      "text/plain": [
       "120"
      ]
     },
     "execution_count": 25,
     "metadata": {},
     "output_type": "execute_result"
    }
   ],
   "source": [
    "# mm.myfactorial(5)\n",
    "mm.myindex()"
   ]
  },
  {
   "cell_type": "markdown",
   "id": "b3d3ece1",
   "metadata": {},
   "source": [
    "**Let us use the `factorial()` function**"
   ]
  },
  {
   "cell_type": "code",
   "execution_count": null,
   "id": "412fb266",
   "metadata": {},
   "outputs": [],
   "source": [
    "mm.myfactorial(5)"
   ]
  },
  {
   "cell_type": "code",
   "execution_count": null,
   "id": "d7625c43",
   "metadata": {},
   "outputs": [],
   "source": []
  },
  {
   "cell_type": "markdown",
   "id": "815aa081",
   "metadata": {},
   "source": [
    "**Let us use the `myindex()` function**"
   ]
  },
  {
   "cell_type": "code",
   "execution_count": 28,
   "id": "49acf41c",
   "metadata": {},
   "outputs": [
    {
     "data": {
      "text/plain": [
       "3"
      ]
     },
     "execution_count": 28,
     "metadata": {},
     "output_type": "execute_result"
    }
   ],
   "source": [
    "list1=[44, 99, -65, 101, 27, 88]\n",
    "mm.myindex(list1, 101)"
   ]
  },
  {
   "cell_type": "code",
   "execution_count": null,
   "id": "a6a90f5c",
   "metadata": {},
   "outputs": [],
   "source": []
  },
  {
   "cell_type": "markdown",
   "id": "d065467a",
   "metadata": {},
   "source": [
    "**Let us use the `mysort()` function. Remember the default inplace argument is False, so it does not modify the list that is passed rather returns a new sorted list**"
   ]
  },
  {
   "cell_type": "code",
   "execution_count": 29,
   "id": "620727f0",
   "metadata": {},
   "outputs": [
    {
     "name": "stdout",
     "output_type": "stream",
     "text": [
      "Orignal List is : [44, 99, -65, 101, 27, 88]\n",
      "New List is : [-65, 27, 44, 88, 99, 101]\n"
     ]
    }
   ],
   "source": [
    "list1=[44, 99, -65, 101, 27, 88]\n",
    "\n",
    "rv = mm.mysort(list1)\n",
    "print(f\"Orignal List is : {list1}\")\n",
    "print(f\"New List is : {rv}\")"
   ]
  },
  {
   "cell_type": "code",
   "execution_count": 30,
   "id": "34b503f3",
   "metadata": {},
   "outputs": [
    {
     "data": {
      "text/plain": [
       "[44, 99, -65, 101, 27, 88]"
      ]
     },
     "execution_count": 30,
     "metadata": {},
     "output_type": "execute_result"
    }
   ],
   "source": [
    "list1"
   ]
  },
  {
   "cell_type": "markdown",
   "id": "26ef1cc7",
   "metadata": {},
   "source": [
    "**Let us use the `mysort()` function and pass `inplace` argument as True, so it sort the list that is passed and returns None**"
   ]
  },
  {
   "cell_type": "code",
   "execution_count": 31,
   "id": "bcc55b97",
   "metadata": {},
   "outputs": [
    {
     "data": {
      "text/plain": [
       "NoneType"
      ]
     },
     "execution_count": 31,
     "metadata": {},
     "output_type": "execute_result"
    }
   ],
   "source": [
    "list1=[44, 99, -65, 101, 27, 88]\n",
    "rv = mm.mysort(list1, inplace=True)\n",
    "type(rv)"
   ]
  },
  {
   "cell_type": "code",
   "execution_count": 32,
   "id": "93c736d6",
   "metadata": {},
   "outputs": [
    {
     "data": {
      "text/plain": [
       "[-65, 27, 44, 88, 99, 101]"
      ]
     },
     "execution_count": 32,
     "metadata": {},
     "output_type": "execute_result"
    }
   ],
   "source": [
    "list1"
   ]
  },
  {
   "cell_type": "code",
   "execution_count": null,
   "id": "fbd64da2",
   "metadata": {},
   "outputs": [],
   "source": []
  },
  {
   "cell_type": "markdown",
   "id": "d880daa8",
   "metadata": {},
   "source": [
    "## 3. How Python Locates a module?\n",
    "Let us try to import a module named `ehtishammodule` that is located in the following directory\n",
    "```\n",
    "/home/dell/Data/Introduction to data analyst and data science for begineers/Module 1(Introduction to Python)/Lecture # 15/module-files/pathissue/\n",
    "```"
   ]
  },
  {
   "cell_type": "code",
   "execution_count": null,
   "id": "3b75a732",
   "metadata": {},
   "outputs": [],
   "source": []
  },
  {
   "cell_type": "code",
   "execution_count": 33,
   "id": "a8fade70",
   "metadata": {},
   "outputs": [
    {
     "ename": "ModuleNotFoundError",
     "evalue": "No module named 'ehtishammodule'",
     "output_type": "error",
     "traceback": [
      "\u001b[0;31m---------------------------------------------------------------------------\u001b[0m",
      "\u001b[0;31mModuleNotFoundError\u001b[0m                       Traceback (most recent call last)",
      "Input \u001b[0;32mIn [33]\u001b[0m, in \u001b[0;36m<cell line: 1>\u001b[0;34m()\u001b[0m\n\u001b[0;32m----> 1\u001b[0m \u001b[38;5;28;01mimport\u001b[39;00m \u001b[38;5;21;01mehtishammodule\u001b[39;00m\n",
      "\u001b[0;31mModuleNotFoundError\u001b[0m: No module named 'ehtishammodule'"
     ]
    }
   ],
   "source": [
    "import ehtishammodule"
   ]
  },
  {
   "cell_type": "code",
   "execution_count": null,
   "id": "0e8a95ed",
   "metadata": {},
   "outputs": [],
   "source": []
  },
  {
   "cell_type": "markdown",
   "id": "c464a2ce",
   "metadata": {},
   "source": [
    ">- **First** Python Interpreter looks for the module in the current working directory, i.e., the directory from which the input script was run\n",
    ">- Let us see the contents of current working directory"
   ]
  },
  {
   "cell_type": "code",
   "execution_count": 38,
   "id": "121449d2",
   "metadata": {},
   "outputs": [
    {
     "data": {
      "text/plain": [
       "['.ipynb_checkpoints',\n",
       " 'data.py',\n",
       " '.jovianrc',\n",
       " 'mymodule.py',\n",
       " 'demomodule.py',\n",
       " '__pycache__',\n",
       " 'pathissue',\n",
       " 'myscript.py',\n",
       " 'UserData.py',\n",
       " 'Mycalculator.py',\n",
       " 'creating_module.ipynb',\n",
       " 'WebFrameworks-1200x720.jpg']"
      ]
     },
     "execution_count": 38,
     "metadata": {},
     "output_type": "execute_result"
    }
   ],
   "source": [
    "import os\n",
    "os.listdir()"
   ]
  },
  {
   "cell_type": "code",
   "execution_count": null,
   "id": "95e72d7e",
   "metadata": {},
   "outputs": [],
   "source": []
  },
  {
   "cell_type": "markdown",
   "id": "e340fb2e",
   "metadata": {},
   "source": [
    "**So in the current working directory, we do not have the module named `ehtishammodule`**"
   ]
  },
  {
   "cell_type": "code",
   "execution_count": null,
   "id": "f95804bc",
   "metadata": {},
   "outputs": [],
   "source": []
  },
  {
   "cell_type": "markdown",
   "id": "4db1fbe3",
   "metadata": {},
   "source": [
    ">- **Second** Python Interpreter looks for the module in the list of built-in modules of Python standard library\n",
    ">- Let us see the list of all builtin modules"
   ]
  },
  {
   "cell_type": "code",
   "execution_count": 39,
   "id": "0e696795",
   "metadata": {},
   "outputs": [
    {
     "name": "stdout",
     "output_type": "stream",
     "text": [
      "['ArithmeticError', 'AssertionError', 'AttributeError', 'BaseException', 'BlockingIOError', 'BrokenPipeError', 'BufferError', 'BytesWarning', 'ChildProcessError', 'ConnectionAbortedError', 'ConnectionError', 'ConnectionRefusedError', 'ConnectionResetError', 'DeprecationWarning', 'EOFError', 'Ellipsis', 'EnvironmentError', 'Exception', 'False', 'FileExistsError', 'FileNotFoundError', 'FloatingPointError', 'FutureWarning', 'GeneratorExit', 'IOError', 'ImportError', 'ImportWarning', 'IndentationError', 'IndexError', 'InterruptedError', 'IsADirectoryError', 'KeyError', 'KeyboardInterrupt', 'LookupError', 'MemoryError', 'ModuleNotFoundError', 'NameError', 'None', 'NotADirectoryError', 'NotImplemented', 'NotImplementedError', 'OSError', 'OverflowError', 'PendingDeprecationWarning', 'PermissionError', 'ProcessLookupError', 'RecursionError', 'ReferenceError', 'ResourceWarning', 'RuntimeError', 'RuntimeWarning', 'StopAsyncIteration', 'StopIteration', 'SyntaxError', 'SyntaxWarning', 'SystemError', 'SystemExit', 'TabError', 'TimeoutError', 'True', 'TypeError', 'UnboundLocalError', 'UnicodeDecodeError', 'UnicodeEncodeError', 'UnicodeError', 'UnicodeTranslateError', 'UnicodeWarning', 'UserWarning', 'ValueError', 'Warning', 'ZeroDivisionError', '__IPYTHON__', '__build_class__', '__debug__', '__doc__', '__import__', '__loader__', '__name__', '__package__', '__spec__', 'abs', 'all', 'any', 'ascii', 'bin', 'bool', 'breakpoint', 'bytearray', 'bytes', 'callable', 'chr', 'classmethod', 'compile', 'complex', 'copyright', 'credits', 'delattr', 'dict', 'dir', 'display', 'divmod', 'enumerate', 'eval', 'exec', 'execfile', 'filter', 'float', 'format', 'frozenset', 'get_ipython', 'getattr', 'globals', 'hasattr', 'hash', 'help', 'hex', 'id', 'input', 'int', 'isinstance', 'issubclass', 'iter', 'len', 'license', 'list', 'locals', 'map', 'max', 'memoryview', 'min', 'next', 'object', 'oct', 'open', 'ord', 'pow', 'print', 'property', 'range', 'repr', 'reversed', 'round', 'runfile', 'set', 'setattr', 'slice', 'sorted', 'staticmethod', 'str', 'sum', 'super', 'tuple', 'type', 'vars', 'zip']\n"
     ]
    }
   ],
   "source": [
    "print(dir(__builtins__))"
   ]
  },
  {
   "cell_type": "code",
   "execution_count": null,
   "id": "6766659a",
   "metadata": {},
   "outputs": [],
   "source": []
  },
  {
   "cell_type": "markdown",
   "id": "aa0497f6",
   "metadata": {},
   "source": [
    "**So `ehtishammodule` is not in the list of `__builtins__`**"
   ]
  },
  {
   "cell_type": "code",
   "execution_count": null,
   "id": "9df8de64",
   "metadata": {},
   "outputs": [],
   "source": []
  },
  {
   "cell_type": "markdown",
   "id": "d105875b",
   "metadata": {},
   "source": [
    ">- **Third** If there is no built-in module of that name, Python looks into a list of directories defined in `sys.path` environment variable\n",
    ">- Let us see the directories mentioned in the `sys.path` environment variable"
   ]
  },
  {
   "cell_type": "code",
   "execution_count": 42,
   "id": "fe7fc091",
   "metadata": {},
   "outputs": [
    {
     "data": {
      "text/plain": [
       "['/home/dell/Data/Introduction to data analyst and data science for begineers/Module 1(Introduction to Python)/Lecture # 15/module-files',\n",
       " '/usr/lib/python38.zip',\n",
       " '/usr/lib/python3.8',\n",
       " '/usr/lib/python3.8/lib-dynload',\n",
       " '',\n",
       " '/home/dell/.local/lib/python3.8/site-packages',\n",
       " '/usr/local/lib/python3.8/dist-packages',\n",
       " '/usr/lib/python3/dist-packages',\n",
       " '/home/dell/Data/Introduction to data analyst and data science for begineers/Module 1(Introduction to Python)/Lecture # 15/module-files/pathissue/']"
      ]
     },
     "execution_count": 42,
     "metadata": {},
     "output_type": "execute_result"
    }
   ],
   "source": [
    "import sys\n",
    "sys.path"
   ]
  },
  {
   "cell_type": "code",
   "execution_count": null,
   "id": "82f275ad",
   "metadata": {},
   "outputs": [],
   "source": []
  },
  {
   "cell_type": "markdown",
   "id": "07de67d4",
   "metadata": {},
   "source": [
    "**The module `ehtishammodule` is not in either of the above locations**"
   ]
  },
  {
   "cell_type": "markdown",
   "id": "ba34f475",
   "metadata": {},
   "source": [
    ">- Let us now add the path of the directory containing `ehtishammodule` in the `sys.path` environment variable"
   ]
  },
  {
   "cell_type": "code",
   "execution_count": 41,
   "id": "cdaa6259",
   "metadata": {
    "scrolled": true
   },
   "outputs": [],
   "source": [
    "import sys\n",
    "\n",
    "sys.path.append(\"/home/dell/Data/Introduction to data analyst and data science for begineers/Module 1(Introduction to Python)/Lecture # 15/module-files/pathissue/\")\n"
   ]
  },
  {
   "cell_type": "code",
   "execution_count": 47,
   "id": "dce49f56",
   "metadata": {},
   "outputs": [],
   "source": [
    "import ehtishammodule"
   ]
  },
  {
   "cell_type": "markdown",
   "id": "1c3334d4",
   "metadata": {},
   "source": [
    "**Success**"
   ]
  },
  {
   "cell_type": "code",
   "execution_count": null,
   "id": "30e7e497",
   "metadata": {},
   "outputs": [],
   "source": []
  },
  {
   "cell_type": "markdown",
   "id": "c100e05f",
   "metadata": {},
   "source": [
    "## 4. Reload a module\n",
    "- The Python interpreter imports a module only once during a session. This makes things more efficient. \n",
    "- Consider `demomodule.py` located in the same directory in which this .ipynb file is located."
   ]
  },
  {
   "cell_type": "markdown",
   "id": "2685f55a",
   "metadata": {},
   "source": [
    "#### demomodule.py\n",
    "```\n",
    "print(\"This is the demomodule having only one print statement. It is located in the same directory in which this .ipynb file is...\")\n",
    "```"
   ]
  },
  {
   "cell_type": "code",
   "execution_count": 53,
   "id": "8fc71033",
   "metadata": {},
   "outputs": [],
   "source": [
    "# import the module for the first time\n",
    "import demomodule"
   ]
  },
  {
   "cell_type": "markdown",
   "id": "51273d45",
   "metadata": {},
   "source": [
    "**Let us import this module again**"
   ]
  },
  {
   "cell_type": "code",
   "execution_count": 50,
   "id": "08d97c4c",
   "metadata": {},
   "outputs": [],
   "source": [
    "import demomodule\n",
    "\n",
    "# you can note that python imports the module only once"
   ]
  },
  {
   "cell_type": "code",
   "execution_count": null,
   "id": "f90b47c4",
   "metadata": {},
   "outputs": [],
   "source": []
  },
  {
   "cell_type": "markdown",
   "id": "da52a313",
   "metadata": {},
   "source": [
    "**What if we have made some changes in this module and want to reload it, there are two ways to do that:**\n",
    "1. Restart the Interpreter\n",
    "2. Call the `imp.reload(<modulename>)` function"
   ]
  },
  {
   "cell_type": "code",
   "execution_count": 56,
   "id": "55a6631b",
   "metadata": {},
   "outputs": [
    {
     "name": "stdout",
     "output_type": "stream",
     "text": [
      "This is the demomodule having only one print statement. It is located in the same directory in which this .ipynb file is...\n",
      "Hello world\n"
     ]
    },
    {
     "data": {
      "text/plain": [
       "<module 'demomodule' from '/home/dell/Data/Introduction to data analyst and data science for begineers/Module 1(Introduction to Python)/Lecture # 15/module-files/demomodule.py'>"
      ]
     },
     "execution_count": 56,
     "metadata": {},
     "output_type": "execute_result"
    }
   ],
   "source": [
    "import imp\n",
    "imp.reload(demomodule)"
   ]
  },
  {
   "cell_type": "code",
   "execution_count": 55,
   "id": "f5e8548e",
   "metadata": {},
   "outputs": [],
   "source": [
    "import demomodule"
   ]
  },
  {
   "cell_type": "code",
   "execution_count": null,
   "id": "4fcc3000",
   "metadata": {},
   "outputs": [],
   "source": []
  },
  {
   "cell_type": "markdown",
   "id": "36ac0776",
   "metadata": {},
   "source": [
    "# Bonus: `main()` Function in Python\n",
    "- In most programming languages, the `main()` function serves as a starting point for the execution of a program. It is executed automatically every time the program is run.\n",
    "- In Python, it is not necessary to define the `main()`, because the Python interpreter executes from the top of the script file unless a specific function is defined. \n",
    "- However, having a defined starting point for the execution of your Python program is useful to better understand how a Python program works."
   ]
  },
  {
   "cell_type": "markdown",
   "id": "0981e83c",
   "metadata": {},
   "source": [
    "### The Python `__name__` Variable and Python Execution Modes\n",
    "- In Python, the `.py` file may be executed as a script or may be imported as a module in another script.\n",
    "- Python has a special built-in variable, called `__name__`, that helps us decide whether we want to run the script or we want to import the functions defined in the script\n",
    "    - When you run your script, the `__name__` variable equals `__main__` \n",
    "    - When you import the containing script, the `__name__` variable will contain the name of the script.\n",
    "- Consider the following file named `myscript.py`:    \n",
    "```\n",
    "def myFunction():\n",
    "    print('The value of __name__ is ' + __name__)\n",
    "def main():\n",
    "    myFunction()\n",
    "if __name__ == '__main__':\n",
    "    main()\n",
    "```"
   ]
  },
  {
   "cell_type": "code",
   "execution_count": 72,
   "id": "a3597d81",
   "metadata": {},
   "outputs": [
    {
     "name": "stdout",
     "output_type": "stream",
     "text": [
      "def myFunction():\r\n",
      "    print('The value of __name__ is ' + __name__)\r\n",
      "\r\n",
      "def main():\r\n",
      "    myFunction()\r\n",
      "\r\n",
      "if __name__ == '__main__':\r\n",
      "    main()"
     ]
    }
   ],
   "source": [
    "!cat myscript.py"
   ]
  },
  {
   "cell_type": "markdown",
   "id": "cbc6d6f0",
   "metadata": {},
   "source": [
    "### Scenario 1: Execute `myscript.py` as a Python Script"
   ]
  },
  {
   "cell_type": "code",
   "execution_count": 73,
   "id": "622f945e",
   "metadata": {},
   "outputs": [
    {
     "name": "stdout",
     "output_type": "stream",
     "text": [
      "def myFunction():\r\n",
      "    print('The value of __name__ is ' + __name__)\r\n",
      "\r\n",
      "def main():\r\n",
      "    myFunction()\r\n",
      "\r\n",
      "if __name__ == '__main__':\r\n",
      "    main()"
     ]
    }
   ],
   "source": [
    "!cat myscript.py"
   ]
  },
  {
   "cell_type": "code",
   "execution_count": 74,
   "id": "25c76f17",
   "metadata": {},
   "outputs": [
    {
     "name": "stdout",
     "output_type": "stream",
     "text": [
      "The value of __name__ is __main__\n"
     ]
    }
   ],
   "source": [
    "%run myscript.py"
   ]
  },
  {
   "cell_type": "markdown",
   "id": "e0dd0256",
   "metadata": {},
   "source": [
    ">**So it proves that when we run the `myscript.py` file as a script the `__name__` variable contains `__main__`, the condition evaluates to True and therefore `main()` function is called which further caled `myFunction()`, which executes the print statement.**"
   ]
  },
  {
   "cell_type": "markdown",
   "id": "d6609474",
   "metadata": {},
   "source": [
    "### Scenario 2: Import `myscript.py` in another script as a Python Module"
   ]
  },
  {
   "cell_type": "code",
   "execution_count": 75,
   "id": "6e33f51e",
   "metadata": {},
   "outputs": [
    {
     "name": "stdout",
     "output_type": "stream",
     "text": [
      "def myFunction():\r\n",
      "    print('The value of __name__ is ' + __name__)\r\n",
      "\r\n",
      "def main():\r\n",
      "    myFunction()\r\n",
      "\r\n",
      "if __name__ == '__main__':\r\n",
      "    main()"
     ]
    }
   ],
   "source": [
    "!cat myscript.py"
   ]
  },
  {
   "cell_type": "code",
   "execution_count": 77,
   "id": "7be76e0d",
   "metadata": {},
   "outputs": [
    {
     "name": "stdout",
     "output_type": "stream",
     "text": [
      "The value of __name__ is myscript\n"
     ]
    }
   ],
   "source": [
    "import myscript as ms\n",
    "ms.main()"
   ]
  },
  {
   "cell_type": "markdown",
   "id": "6830d923",
   "metadata": {},
   "source": [
    ">**So it proves that when we import the `myscript.py` file as a module the `__name__` variable DOES NOT contains `__main__`, the condition evaluates to False and therefore `main()` function is NOT called and therefore nothing is printed on screen.**\n",
    "\n",
    "**Now since the `myscript.py` has been imported, so we can call its functions. Let us call `myFunction()`**"
   ]
  },
  {
   "cell_type": "code",
   "execution_count": 61,
   "id": "2d4081dd",
   "metadata": {},
   "outputs": [
    {
     "name": "stdout",
     "output_type": "stream",
     "text": [
      "The value of __name__ is myscript\n"
     ]
    }
   ],
   "source": [
    "# ms.myFunction()\n",
    "ms.main()"
   ]
  },
  {
   "cell_type": "markdown",
   "id": "59adf27f",
   "metadata": {},
   "source": [
    "**So it proves that when we import the `myscript.py` file as a module the `__name__` variable contains the name of the script `__myscript__`**"
   ]
  },
  {
   "cell_type": "code",
   "execution_count": null,
   "id": "70cad99d",
   "metadata": {},
   "outputs": [],
   "source": []
  },
  {
   "cell_type": "code",
   "execution_count": null,
   "id": "c1cdb847",
   "metadata": {},
   "outputs": [],
   "source": []
  },
  {
   "cell_type": "markdown",
   "id": "34a4ce29",
   "metadata": {},
   "source": [
    "# Second Example"
   ]
  },
  {
   "cell_type": "markdown",
   "id": "7e7df772",
   "metadata": {},
   "source": [
    "### Case 01 : Execute `Mycalculator.py` as Python script "
   ]
  },
  {
   "cell_type": "code",
   "execution_count": 78,
   "id": "2ff0bb03",
   "metadata": {},
   "outputs": [
    {
     "name": "stdout",
     "output_type": "stream",
     "text": [
      "def Calculator(num1, num2):\r\n",
      "    print(f\"Sum of {num1} and {num2} is : {num1+num2}\")\r\n",
      "    print(f\"Subtraction of {num1} and {num2} is : {num1-num2}\")\r\n",
      "    print(f\"Multiplication of {num1} and {num2} is : {num1*num2}\")\r\n",
      "    if num2==0:\r\n",
      "    \tprint(\"Division is not possible\")\r\n",
      "    else:\r\n",
      "    \tprint(f\"Division of {num1} and {num2} is : {format(num1/num2, '.2f')}\")\r\n",
      "    \t\r\n",
      "def main():\r\n",
      "    number1 = int(input(\"Enter First Number : \"))\r\n",
      "    number2 = int(input(\"Enter Second Number : \"))\r\n",
      "    Calculator(number1,number2)\r\n",
      "    \r\n",
      "if __name__== '__main__':\r\n",
      "    print(\"This piece of code must be executed! When we run this file as a python Script\")\r\n",
      "    main()\r\n"
     ]
    }
   ],
   "source": [
    "!cat Mycalculator.py"
   ]
  },
  {
   "cell_type": "code",
   "execution_count": 79,
   "id": "a42e15cc",
   "metadata": {},
   "outputs": [
    {
     "name": "stdout",
     "output_type": "stream",
     "text": [
      "This piece of code must be executed! When we run this file as a python Script\n",
      "Enter First Number : 5\n",
      "Enter Second Number : 6\n",
      "Sum of 5 and 6 is : 11\n",
      "Subtraction of 5 and 6 is : -1\n",
      "Multiplication of 5 and 6 is : 30\n",
      "Division of 5 and 6 is : 0.83\n"
     ]
    }
   ],
   "source": [
    "%run Mycalculator.py"
   ]
  },
  {
   "cell_type": "markdown",
   "id": "2fa691ce",
   "metadata": {},
   "source": [
    ">**So it proves that when we run the `Mycalculator.py` file as a script the `__name__` variable contains `__main__`, the condition evaluates to True and therefore `main()` function is called which further caled `Calculator()`, which executes the print statement.**"
   ]
  },
  {
   "cell_type": "markdown",
   "id": "b9e814d2",
   "metadata": {},
   "source": [
    "### Case 02: Import `Mycalculator.py` in another script as a Python Module"
   ]
  },
  {
   "cell_type": "code",
   "execution_count": 84,
   "id": "024646ba",
   "metadata": {},
   "outputs": [
    {
     "data": {
      "text/plain": [
       "'Mycalculator'"
      ]
     },
     "execution_count": 84,
     "metadata": {},
     "output_type": "execute_result"
    }
   ],
   "source": [
    "import Mycalculator as cal\n",
    "# cal.main()\n",
    "cal.__name__"
   ]
  },
  {
   "cell_type": "code",
   "execution_count": 19,
   "id": "a6e56e65",
   "metadata": {},
   "outputs": [
    {
     "name": "stdout",
     "output_type": "stream",
     "text": [
      "Enter First Number : 637\n",
      "Enter Second Number : 32\n",
      "Sum of 637 and 32 is : 669\n",
      "Subtraction of 637 and 32 is : 605\n",
      "Multiplication of 637 and 32 is : 20384\n",
      "Division of 637 and 32 is : 19.91\n"
     ]
    }
   ],
   "source": [
    "# cal.Calculator(4,5)\n",
    "# cal.main()\n",
    "cal.main()"
   ]
  },
  {
   "cell_type": "markdown",
   "id": "8f693787",
   "metadata": {},
   "source": [
    "**So it proves that when we import the `Mycalculator.py` file as a module the `__name__` variable contains the name of the script `__Mycalculator__`**"
   ]
  },
  {
   "cell_type": "markdown",
   "id": "b0c5b814",
   "metadata": {},
   "source": [
    "## Check your Concepts\n",
    "\n",
    "Try answering the following questions to test your understanding of the topics covered in this notebook:\n",
    "1. What is Python Script?\n",
    "2. What is difference between Python Module and Python Package?\n",
    "3. Can a Python script contain more than one modules?\n",
    "4. How we can check the content of the any file in jupyter or which command is use to check the content of any file?\n",
    "5. How we can run a Python file in jupyter notebook?\n",
    "6. How we can access any module in our current working directory?\n",
    "7. How we can get all the functions or variables of any module ?\n",
    "8. What is the purpose of `imp.reload(module)`?"
   ]
  },
  {
   "cell_type": "code",
   "execution_count": 86,
   "id": "9e4643a3",
   "metadata": {},
   "outputs": [],
   "source": [
    "# !cat mymodule.py"
   ]
  },
  {
   "cell_type": "code",
   "execution_count": 88,
   "id": "ee0d185f",
   "metadata": {},
   "outputs": [],
   "source": [
    "# %run Mycalculator.py"
   ]
  },
  {
   "cell_type": "code",
   "execution_count": null,
   "id": "085e8fab",
   "metadata": {},
   "outputs": [],
   "source": []
  },
  {
   "cell_type": "code",
   "execution_count": null,
   "id": "301ff693",
   "metadata": {},
   "outputs": [],
   "source": []
  },
  {
   "cell_type": "code",
   "execution_count": null,
   "id": "fcb6391e",
   "metadata": {},
   "outputs": [],
   "source": []
  }
 ],
 "metadata": {
  "kernelspec": {
   "display_name": "Python 3 (ipykernel)",
   "language": "python",
   "name": "python3"
  },
  "language_info": {
   "codemirror_mode": {
    "name": "ipython",
    "version": 3
   },
   "file_extension": ".py",
   "mimetype": "text/x-python",
   "name": "python",
   "nbconvert_exporter": "python",
   "pygments_lexer": "ipython3",
   "version": "3.8.10"
  }
 },
 "nbformat": 4,
 "nbformat_minor": 5
}
