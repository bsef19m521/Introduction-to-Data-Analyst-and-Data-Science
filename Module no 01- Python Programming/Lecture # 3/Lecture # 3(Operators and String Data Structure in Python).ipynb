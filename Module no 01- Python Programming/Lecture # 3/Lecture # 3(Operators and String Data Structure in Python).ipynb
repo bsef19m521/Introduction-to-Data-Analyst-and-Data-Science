{
 "cells": [
  {
   "cell_type": "markdown",
   "id": "contemporary-russell",
   "metadata": {},
   "source": [
    "---   \n",
    "\n",
    "<h1 align=\"center\">Introduction to Data Analyst and Data Science for beginners  </h1>\n",
    "<h1 align=\"center\">Lecture no 03</h1>\n",
    "\n",
    "---\n",
    "<h3><div align=\"right\">Ehtisham Sadiq</div></h3>    "
   ]
  },
  {
   "cell_type": "markdown",
   "id": "secret-terrace",
   "metadata": {},
   "source": [
    "# Learning agenda of this notebook\n",
    "1. Comments in Python\n",
    "2. Operators in Python\n",
    "-  Arithmetic Operators\n",
    "-  Assignment Operators\n",
    "-  Comparison Operators\n",
    "-  Logical Operators\n",
    "-  Bitwise Operators\n",
    "-  Identity Operators\n",
    "-  Membership Operators"
   ]
  },
  {
   "cell_type": "markdown",
   "id": "complete-hamilton",
   "metadata": {},
   "source": [
    "# 1. Comments in Python\n",
    "   Python Comment is an essential tool for the programmers. Comments are generally used to explain the code. We can easily understand the code if it has a proper explanation. A good programmer must use the comments because in the future anyone wants to modify the code as well as implement the new module; then, it can be done easily.   \n",
    "Python provides the single-lined Python comment. To apply the comment in the code we use the `hash(#)` at the beginning of the statement or code."
   ]
  },
  {
   "cell_type": "markdown",
   "id": "joint-switch",
   "metadata": {},
   "source": [
    "#####   Single Line Comment"
   ]
  },
  {
   "cell_type": "code",
   "execution_count": 2,
   "id": "thrown-progressive",
   "metadata": {},
   "outputs": [],
   "source": [
    "# declare a variable and assign  an integer value to it\n",
    "x = 53\n",
    "# This a comment"
   ]
  },
  {
   "cell_type": "markdown",
   "id": "assisted-premium",
   "metadata": {},
   "source": [
    "##### Multi-line Comments"
   ]
  },
  {
   "cell_type": "code",
   "execution_count": 3,
   "id": "peaceful-commitment",
   "metadata": {},
   "outputs": [
    {
     "name": "stdout",
     "output_type": "stream",
     "text": [
      "The sum is: 15\n"
     ]
    }
   ],
   "source": [
    "# Variable a holds value 5  \n",
    "# Variable b holds value 10  \n",
    "# Variable c holds sum of a and b  \n",
    "# Print the result  \n",
    "a = 5  \n",
    "b = 10  \n",
    "c = a+b  \n",
    "print(\"The sum is:\", c)  "
   ]
  },
  {
   "cell_type": "markdown",
   "id": "considerable-trading",
   "metadata": {},
   "source": [
    "<br>"
   ]
  },
  {
   "cell_type": "markdown",
   "id": "approximate-comparative",
   "metadata": {},
   "source": [
    "# 2. Operators in Python"
   ]
  },
  {
   "cell_type": "markdown",
   "id": "limiting-scotland",
   "metadata": {},
   "source": [
    "The operator can be defined as a symbol which is responsible for a particular operation between two operands. Operators are the pillars of a program on which the logic is built in a specific programming language. Python provides a variety of operators, which are described as follows."
   ]
  },
  {
   "cell_type": "markdown",
   "id": "annoying-breast",
   "metadata": {},
   "source": [
    "<img align=\"center\" width=\"300\" height=\"150\"  src=\"images/operators.png\" > "
   ]
  },
  {
   "cell_type": "markdown",
   "id": "steady-serial",
   "metadata": {},
   "source": [
    "## i. Arithmetic operators in Python\n",
    "- Arithmetic operators are used to perform arithmetic operations between two operands.\n",
    "- Python supports the following arithmetic operators:\n",
    "\n",
    "| Operator   | Purpose           | Example     | Result    |\n",
    "|------------|-------------------|-------------|-----------|\n",
    "| `+`        | Addition          | `2 + 3`     | `5`       |\n",
    "| `-`        | Subtraction       | `3 - 2`     | `1`       |\n",
    "| `*`        | Multiplication    | `8 * 12`    | `96`      |\n",
    "| `/`        | Division          | `100 / 7`   | `14.28..` |\n",
    "| `//`       | Floor Division    | `100 // 7`  | `14`      |    \n",
    "| `%`        | Modulus/Remainder | `100 % 7`   | `2`       |\n",
    "| `**`       | Exponent          | `5 ** 3`    | `125`     |\n"
   ]
  },
  {
   "cell_type": "code",
   "execution_count": 6,
   "id": "overall-swift",
   "metadata": {},
   "outputs": [
    {
     "name": "stdout",
     "output_type": "stream",
     "text": [
      "x + y = 13\n",
      "x - y = 7\n",
      "x * y = 30\n",
      "x / y = 3.3333333333333335\n",
      "x // y = 3\n",
      "x ** y = 1000\n",
      "x % y = 1\n"
     ]
    }
   ],
   "source": [
    "# Here x and y are operands\n",
    "x = 10\n",
    "y = 3\n",
    "\n",
    "# Output: x + y \n",
    "print('x + y =',x+y)\n",
    "\n",
    "# Output: x - y \n",
    "print('x - y =',x-y)\n",
    "\n",
    "# Output: x * y \n",
    "print('x * y =',x*y)\n",
    "\n",
    "# Output: x / y \n",
    "print('x / y =',x/y)\n",
    "\n",
    "# Floor Division: Output: x // y \n",
    "print('x // y =',x//y)\n",
    "\n",
    "# Output: x ^ y \n",
    "# Ouput of Exponent\n",
    "print('x ** y =',x**y)\n",
    "# x = 10 , y =3 , 1000\n",
    "\n",
    "# Output: x % y \n",
    "print('x % y =',x%y)"
   ]
  },
  {
   "cell_type": "markdown",
   "id": "ordered-industry",
   "metadata": {},
   "source": [
    "<br>"
   ]
  },
  {
   "cell_type": "markdown",
   "id": "going-blond",
   "metadata": {},
   "source": [
    "## ii.Assignment Operators\n",
    "- The assignment operators are used to assign the value of the right expression to the left operand.\n",
    "- Python supports the following Assignment operators:\n",
    "- If a = 10, b = 20\n",
    "\n",
    "|Operator||Description||Representation||Example||Result|  \n",
    "|--------||-----------||--------------||-------||------|   \n",
    "|=||It assigns the value of the right expression to the left operand||=||a=b||20|\n",
    "|+=||It increases the value of the left operand by the value of the right operand and assigns the modified value back to left operand.||a+ = b will be equal to a = a+ b||a+=b||30|\n",
    "|-=||It decreases the value of the left operand by the value of the right operand and assigns the modified value back to left operand.||a- = b will be equal to a = a- b ||a-=b||-10|\n",
    "|*=||It multiplies the value of the left operand by the value of the right operand and assigns the modified value back to then the left operand.||a*=b will be equal to a = a*b||a*=b||200|\n",
    "|%=||It divides the value of the left operand by the value of the right operand and assigns the reminder back to the left operand.||a%=b will be equala to a = a%b||a%=b||1|"
   ]
  },
  {
   "cell_type": "markdown",
   "id": "intense-cooperation",
   "metadata": {},
   "source": [
    "<br>"
   ]
  },
  {
   "cell_type": "code",
   "execution_count": 5,
   "id": "built-award",
   "metadata": {},
   "outputs": [
    {
     "name": "stdout",
     "output_type": "stream",
     "text": [
      "9\n",
      "4\n",
      "20\n",
      "4.0\n",
      "1024.0\n"
     ]
    }
   ],
   "source": [
    "#Assignment operators in Python\n",
    "x = 4\n",
    "\n",
    "\n",
    "x += 5    # <->  x = x + 5\n",
    "print(x)\n",
    "\n",
    "#    x = x - 5\n",
    "x -= 5      \n",
    "print(x)\n",
    "\n",
    "#    x = x * 5\n",
    "x *= 5     \n",
    "print(x)\n",
    "\n",
    "#    x = x / 5\n",
    "x /= 5  \n",
    "print(x)\n",
    "\n",
    "#    x = x % 5\n",
    "#    x %= 5       \n",
    "\n",
    "#    x = x // 5\n",
    "#    x //= 5      \n",
    "\n",
    "#    x = x ** 5\n",
    "x **= 5      \n",
    "print(x)"
   ]
  },
  {
   "cell_type": "markdown",
   "id": "accompanied-jordan",
   "metadata": {},
   "source": [
    "<br>"
   ]
  },
  {
   "cell_type": "markdown",
   "id": "south-velvet",
   "metadata": {},
   "source": [
    "## iii. Comparison Operators\n",
    "- Comparison operators are used to comparing the value of the two operands and returns Boolean true or false accordingly.\n",
    "|Operator||Description|\n",
    "|--------||-----------|\n",
    "|==||If the value of two operands is equal, then the condition becomes true.|\n",
    "|!=||If the value of two operands is not equal, then the condition becomes true.|\n",
    "|<=||If the first operand is less than or equal to the second operand, then the condition becomes true.|\n",
    "|>=||If the first operand is greater than or equal to the second operand, then the condition becomes true.|\n",
    "|>||If the first operand is greater than the second operand, then the condition becomes true.|\n",
    "|<||If the first operand is less than the second operand, then the condition becomes true.|"
   ]
  },
  {
   "cell_type": "code",
   "execution_count": 14,
   "id": "saving-defensive",
   "metadata": {},
   "outputs": [
    {
     "name": "stdout",
     "output_type": "stream",
     "text": [
      "True\n"
     ]
    }
   ],
   "source": [
    "a = 8\n",
    "b = 8\n",
    "print(a >= b)"
   ]
  },
  {
   "cell_type": "code",
   "execution_count": 15,
   "id": "intended-overhead",
   "metadata": {},
   "outputs": [
    {
     "name": "stdout",
     "output_type": "stream",
     "text": [
      "x > y is False\n",
      "x < y is True\n",
      "x == y is False\n",
      "x != y is True\n",
      "x >= y is False\n",
      "x <= y is True\n",
      "True\n"
     ]
    }
   ],
   "source": [
    "#Comparison operators in Python\n",
    "\n",
    "x = 10\n",
    "y = 12\n",
    "\n",
    "# Output: x > y \n",
    "print('x > y is',x>y)\n",
    "\n",
    "# Output: x < y \n",
    "print('x < y is',x<y)\n",
    "\n",
    "# Output: x == y \n",
    "print('x == y is',x==y)\n",
    "\n",
    "# Output: x != y \n",
    "print('x != y is',x!=y)\n",
    "\n",
    "# Output: x >= y \n",
    "print('x >= y is',x>=y)\n",
    "\n",
    "# Output: x <= y \n",
    "print('x <= y is',x<=y)\n",
    "\n",
    "\n",
    "a = (x <= y)\n",
    "print(a)"
   ]
  },
  {
   "cell_type": "markdown",
   "id": "upset-shaft",
   "metadata": {},
   "source": [
    "<br>"
   ]
  },
  {
   "cell_type": "markdown",
   "id": "intensive-rendering",
   "metadata": {},
   "source": [
    "## iv. Bitwise Operators\n",
    "- The bitwise operators perform bit by bit operation on the values of the two operands.\n",
    "|Operator||Description|\n",
    "|--------||-----------|\n",
    "|a&b||If both the bits at the same place in two operands are 1, then 1 is copied to the result. Otherwise, 0 is copied.|\n",
    "|a or b||The resulting bit will be 0 if both the bits are zero; otherwise, the resulting bit will be 1.|"
   ]
  },
  {
   "cell_type": "code",
   "execution_count": 15,
   "id": "accessible-instrumentation",
   "metadata": {},
   "outputs": [
    {
     "name": "stdout",
     "output_type": "stream",
     "text": [
      "x & y is 0\n",
      "x | y is 14\n"
     ]
    }
   ],
   "source": [
    "#Bitwise operators in Python\n",
    "x = 10   # 00001010\n",
    "y = 4    # 00000100\n",
    "\n",
    "\n",
    "# Bitwise and\n",
    "print('x & y is',x&y)\n",
    "\n",
    "# Bitwise or\n",
    "print('x | y is',x|y)"
   ]
  },
  {
   "cell_type": "markdown",
   "id": "skilled-connection",
   "metadata": {},
   "source": [
    "<br>"
   ]
  },
  {
   "cell_type": "markdown",
   "id": "concrete-tiger",
   "metadata": {},
   "source": [
    "## v. Logical Operator\n",
    "- The logical operators are used primarily in the expression evaluation to make a decision. \n",
    "- When Python is processing a logical expression such as `x >= 2 and (x/y) > 2` , it evaluates the expression from left to right.\n",
    "- The logical operators `and`, `or` and `not` operate upon conditions and `True` & `False` values. The `and` and `or` operate on two conditions, whereas `not` operates on a single condition.\n",
    "\n",
    "- The `and` operator returns `True` when both the conditions evaluate to `True`. Otherwise, it returns `False`.\n",
    "\n",
    "| `a`     | `b`    | `a and b` |\n",
    "|---------|--------|-----------|\n",
    "|  `True` | `True` | `True`    |\n",
    "|  `True` | `False`| `False`   |\n",
    "|  `False`| `True` | `False`   |\n",
    "|  `False`| `False`| `False`   |\n",
    "\n",
    "- The `or` operator returns `True` if at least one of the conditions evaluates to `True`. It returns `False` only if both conditions are `False`.\n",
    "\n",
    "| `a`     | `b`    | `a or b`  |\n",
    "|---------|--------|-----------|\n",
    "|  `True` | `True` | `True`    |\n",
    "|  `True` | `False`| `True`    |\n",
    "|  `False`| `True` | `True`    |\n",
    "|  `False`| `False`| `False`   |\n",
    "\n",
    "- The `not` operator returns `False` if a condition is `True` and `True` if the condition is `False`."
   ]
  },
  {
   "cell_type": "code",
   "execution_count": 18,
   "id": "excited-battle",
   "metadata": {},
   "outputs": [
    {
     "name": "stdout",
     "output_type": "stream",
     "text": [
      "x and y is False\n",
      "x or y is True\n",
      "not x is False\n"
     ]
    }
   ],
   "source": [
    "x = True\n",
    "y = False\n",
    "\n",
    "print('x and y is',x and y)\n",
    "\n",
    "print('x or y is',x or y)\n",
    "\n",
    "print('not x is',not x)"
   ]
  },
  {
   "cell_type": "code",
   "execution_count": 19,
   "id": "certain-psychology",
   "metadata": {},
   "outputs": [
    {
     "data": {
      "text/plain": [
       "False"
      ]
     },
     "execution_count": 19,
     "metadata": {},
     "output_type": "execute_result"
    }
   ],
   "source": [
    "# A short circuit happens in 'and' operation, when the first condition evaluates to False\n",
    "x = 3\n",
    "y = 0\n",
    "z = ((x>=6) and (x/y))\n",
    "z"
   ]
  },
  {
   "cell_type": "markdown",
   "id": "auburn-championship",
   "metadata": {},
   "source": [
    "<br>"
   ]
  },
  {
   "cell_type": "markdown",
   "id": "veterinary-omaha",
   "metadata": {},
   "source": [
    "## vi. Identity Operators in Python\n",
    "- Identity operators are used to compare the ID of objects (not their values)\n",
    "- Returns True if both objects refer to same memory location\n",
    "- The two identity operators in Python are `is` and `is not`\n",
    "|Operator||Description|\n",
    "|--------||-----------|\n",
    "|is||It is evaluated to be true if the reference present at both sides point to the same object.|\n",
    "|is not||It is evaluated to be true if the reference present at both sides do not point to the same object.|"
   ]
  },
  {
   "cell_type": "code",
   "execution_count": 21,
   "id": "supported-enzyme",
   "metadata": {},
   "outputs": [
    {
     "name": "stdout",
     "output_type": "stream",
     "text": [
      "140716441995056\n",
      "1900814483824\n",
      "False\n",
      "True\n"
     ]
    }
   ],
   "source": [
    "#Identity operators in Python\n",
    "a = 5\n",
    "b = 5.0\n",
    "print(id(a))\n",
    "print(id(b))\n",
    "print(a is b)\n",
    "print(a==b)\n"
   ]
  },
  {
   "cell_type": "code",
   "execution_count": 22,
   "id": "crucial-democracy",
   "metadata": {},
   "outputs": [
    {
     "name": "stdout",
     "output_type": "stream",
     "text": [
      "False\n",
      "True\n"
     ]
    }
   ],
   "source": [
    "a = 'Hello'\n",
    "b = 'Hello'\n",
    "\n",
    "# Output: False\n",
    "print(a is not b)\n",
    "\n",
    "# Output: True\n",
    "print(a is b)"
   ]
  },
  {
   "cell_type": "markdown",
   "id": "injured-circuit",
   "metadata": {},
   "source": [
    "<br>"
   ]
  },
  {
   "cell_type": "markdown",
   "id": "ecological-heath",
   "metadata": {},
   "source": [
    "## vi. Membership Operators\n",
    "- Python membership operators are used to check the membership of value inside a Python data structure. If the value is present in the data structure, then the resulting value is true otherwise it returns false.\n",
    "|Operator||Description|\n",
    "|--------||-----------|\n",
    "|in||It is evaluated to be true if the first operand is found in the second operand (list, tuple, or dictionary).|\n",
    "|not in||It is evaluated to be true if the first operand is not found in the second operand (list, tuple, or dictionary).|"
   ]
  },
  {
   "cell_type": "code",
   "execution_count": 23,
   "id": "indie-seventh",
   "metadata": {},
   "outputs": [
    {
     "name": "stdout",
     "output_type": "stream",
     "text": [
      "False\n",
      "True\n"
     ]
    }
   ],
   "source": [
    "a = 10\n",
    "b = 4\n",
    "list1 = [1, 2, 3, 4, 5 ]\n",
    "\n",
    "rv = a in list1\n",
    "print(rv)\n",
    "rv = b in list1\n",
    "print(rv)"
   ]
  },
  {
   "cell_type": "markdown",
   "id": "removed-niger",
   "metadata": {},
   "source": [
    "## viii. Operator Precedence in Python\n",
    "- The precedence of the operators is essential to find out since it enables us to know which operator should be evaluated first."
   ]
  },
  {
   "cell_type": "markdown",
   "id": "dependent-restoration",
   "metadata": {},
   "source": [
    "<img align=\"center\" width=\"450\" height=\"580\"  src=\"images/python-operator-precedence.jpg\"> "
   ]
  },
  {
   "cell_type": "code",
   "execution_count": 24,
   "id": "civilian-greeting",
   "metadata": {},
   "outputs": [
    {
     "name": "stdout",
     "output_type": "stream",
     "text": [
      "11\n",
      "16\n"
     ]
    }
   ],
   "source": [
    "print(5 + 3 * 2)\n",
    "print((5 + 3) * 2)"
   ]
  },
  {
   "cell_type": "code",
   "execution_count": 25,
   "id": "handmade-acquisition",
   "metadata": {},
   "outputs": [
    {
     "name": "stdout",
     "output_type": "stream",
     "text": [
      "512\n",
      "64\n"
     ]
    }
   ],
   "source": [
    "print(2 ** 3 ** 2)\n",
    "print((2 ** 3) ** 2)"
   ]
  },
  {
   "cell_type": "code",
   "execution_count": 26,
   "id": "accepting-punch",
   "metadata": {},
   "outputs": [
    {
     "name": "stdout",
     "output_type": "stream",
     "text": [
      "20\n"
     ]
    }
   ],
   "source": [
    "num1, num2, num3 = 2, 3, 4\n",
    "print ((num1 + num2) * num3)"
   ]
  },
  {
   "cell_type": "code",
   "execution_count": 27,
   "id": "protected-amber",
   "metadata": {},
   "outputs": [
    {
     "name": "stdout",
     "output_type": "stream",
     "text": [
      "12\n"
     ]
    }
   ],
   "source": [
    "num1, num2, num3 = 2, 3, 4\n",
    "print (num1 ** num2 + num3)"
   ]
  },
  {
   "cell_type": "code",
   "execution_count": null,
   "id": "prepared-spell",
   "metadata": {},
   "outputs": [],
   "source": []
  },
  {
   "cell_type": "markdown",
   "id": "hearing-combine",
   "metadata": {},
   "source": [
    "## Check your Concepts\n",
    "\n",
    "Try answering the following questions to test your understanding of the topics covered in this notebook:\n",
    "\n",
    "1. What the different arithmetic operations supported in Python?\n",
    "2. How do you perform arithmetic operations using Python?\n",
    "3. What is the difference between the `/` and the `//` operators?\n",
    "4. What is the difference between the `*` and the `**` operators?\n",
    "5. What do you mean by precedence of operators?\n",
    "5. What is the order of precedence for arithmetic operators in Python?\n",
    "6. How do you specify the order in which arithmetic operations are performed in an expression involving multiple operators?\n",
    "7. How do you solve a multi-step arithmetic word problem using Python?\n",
    "8. What are variables? Why are they useful?\n",
    "9. How do you create a variable in Python?\n",
    "10. What is the assignment operator in Python?\n",
    "11. What are the rules for naming a variable in Python?\n",
    "12. How do you view the value of a variable?\n",
    "13. How do you store the result of an arithmetic expression in a variable?\n",
    "14. What happens if you try to access a variable that has not been defined?\n",
    "15. How do you display messages in Python?\n",
    "16. What type of inputs can the print function accept?\n",
    "17. What are code comments? How are they useful?\n",
    "18. What are the different ways of creating comments in Python code?\n",
    "19. What are the different comparison operations supported in Python?\n",
    "20. What is the result of a comparison operation?\n",
    "21. What is the difference between `=` and `==` in Python?\n",
    "22. What are the logical operators supported in Python?\n",
    "23. What is the difference between the `and` and `or` operators?\n",
    "24. Can you use comparison and logical operators in the same expression?\n",
    "25. What is the purpose of using parentheses in arithmetic or logical expressions?\n"
   ]
  },
  {
   "cell_type": "code",
   "execution_count": null,
   "id": "vertical-occurrence",
   "metadata": {},
   "outputs": [],
   "source": []
  },
  {
   "cell_type": "code",
   "execution_count": null,
   "id": "falling-oasis",
   "metadata": {},
   "outputs": [],
   "source": []
  }
 ],
 "metadata": {
  "kernelspec": {
   "display_name": "Python 3 (ipykernel)",
   "language": "python",
   "name": "python3"
  },
  "language_info": {
   "codemirror_mode": {
    "name": "ipython",
    "version": 3
   },
   "file_extension": ".py",
   "mimetype": "text/x-python",
   "name": "python",
   "nbconvert_exporter": "python",
   "pygments_lexer": "ipython3",
   "version": "3.8.10"
  }
 },
 "nbformat": 4,
 "nbformat_minor": 5
}
